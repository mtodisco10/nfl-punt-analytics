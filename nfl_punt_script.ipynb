{
 "cells": [
  {
   "cell_type": "code",
   "execution_count": 1,
   "metadata": {},
   "outputs": [],
   "source": [
    "import pandas as pd\n",
    "pd.options.display.max_colwidth = 1000\n",
    "import numpy as np\n",
    "import matplotlib.pyplot as plt\n",
    "import plotly\n",
    "import plotly.plotly as py\n",
    "import plotly.graph_objs as go\n",
    "from plotly import tools, offline\n",
    "plotly.tools.set_credentials_file(username='mtodisco10', api_key='bCfUmq5FralbymKXY4uX')\n",
    "import re\n",
    "import warnings\n",
    "warnings.filterwarnings('ignore')\n",
    "%matplotlib inline"
   ]
  },
  {
   "cell_type": "code",
   "execution_count": 2,
   "metadata": {},
   "outputs": [],
   "source": [
    "%run progress_bar.ipynb"
   ]
  },
  {
   "cell_type": "code",
   "execution_count": 3,
   "metadata": {},
   "outputs": [],
   "source": [
    "#Read in Data\n",
    "game_data = pd.read_csv('game_data.csv')\n",
    "play_info = pd.read_csv('play_information.csv')\n",
    "play_player_role = pd.read_csv('play_player_role_data.csv')\n",
    "player_punt = pd.read_csv('player_punt_data.csv')\n",
    "video_footage_control = pd.read_csv('video_footage-control.csv')\n",
    "video_footage_injury = pd.read_csv('video_footage-injury.csv')\n",
    "video_review = pd.read_csv('video_review.csv')"
   ]
  },
  {
   "cell_type": "code",
   "execution_count": 4,
   "metadata": {},
   "outputs": [],
   "source": [
    "def read_NGS_data(file_lst):\n",
    "    for i, file in enumerate(file_lst):\n",
    "        print('Reading in {}'.format(file))\n",
    "        data = pd.read_csv(file)\n",
    "        if i == 0:\n",
    "            NGS_df = data\n",
    "            del data\n",
    "        else:\n",
    "            NGS_df = pd.concat([NGS_df, data])\n",
    "            del data\n",
    "    return NGS_df"
   ]
  },
  {
   "cell_type": "code",
   "execution_count": 5,
   "metadata": {},
   "outputs": [],
   "source": [
    "file_lst = ['NGS-2016-pre.csv','NGS-2016-reg-wk1-6.csv','NGS-2016-reg-wk7-12.csv','NGS-2016-reg-wk13-17.csv',\\\n",
    "            'NGS-2016-post.csv','NGS-2017-pre.csv','NGS-2017-reg-wk1-6.csv','NGS-2017-reg-wk7-12.csv',\\\n",
    "            'NGS-2017-reg-wk13-17.csv','NGS-2017-post.csv']"
   ]
  },
  {
   "cell_type": "code",
   "execution_count": 6,
   "metadata": {},
   "outputs": [
    {
     "name": "stdout",
     "output_type": "stream",
     "text": [
      "Reading in NGS-2016-pre.csv\n",
      "Reading in NGS-2016-reg-wk1-6.csv\n",
      "Reading in NGS-2016-reg-wk7-12.csv\n",
      "Reading in NGS-2016-reg-wk13-17.csv\n",
      "Reading in NGS-2016-post.csv\n",
      "Reading in NGS-2017-pre.csv\n",
      "Reading in NGS-2017-reg-wk1-6.csv\n",
      "Reading in NGS-2017-reg-wk7-12.csv\n",
      "Reading in NGS-2017-reg-wk13-17.csv\n",
      "Reading in NGS-2017-post.csv\n"
     ]
    }
   ],
   "source": [
    "NGS_df = read_NGS_data(file_lst)"
   ]
  },
  {
   "cell_type": "markdown",
   "metadata": {},
   "source": [
    "### Injury Plays EDA"
   ]
  },
  {
   "cell_type": "code",
   "execution_count": 7,
   "metadata": {},
   "outputs": [
    {
     "data": {
      "text/plain": [
       "'There are concussion injuries on 0.55% of punt plays'"
      ]
     },
     "execution_count": 7,
     "metadata": {},
     "output_type": "execute_result"
    }
   ],
   "source": [
    "'There are concussion injuries on ' + str(round(len(video_review) / float(len(play_info)) * 100, 2)) + '% of ' + 'punt plays'"
   ]
  },
  {
   "cell_type": "markdown",
   "metadata": {},
   "source": [
    "##### It is good for the NFL and players that injuries only occur on less than 1% of punt plays, but it will be hard to do analysis"
   ]
  },
  {
   "cell_type": "markdown",
   "metadata": {},
   "source": [
    "#### How are players being injured?"
   ]
  },
  {
   "cell_type": "code",
   "execution_count": 8,
   "metadata": {},
   "outputs": [
    {
     "name": "stdout",
     "output_type": "stream",
     "text": [
      "This is the format of your plot grid:\n",
      "[ (1,1) x1,y1 ]  [ (1,2) x2,y2 ]\n",
      "[ (2,1) x3,y3 ]  [ (2,2) x4,y4 ]\n",
      "\n"
     ]
    },
    {
     "data": {
      "text/html": [
       "<iframe id=\"igraph\" scrolling=\"no\" style=\"border:none;\" seamless=\"seamless\" src=\"https://plot.ly/~mtodisco10/8.embed\" height=\"525px\" width=\"100%\"></iframe>"
      ],
      "text/plain": [
       "<plotly.tools.PlotlyDisplay object>"
      ]
     },
     "execution_count": 8,
     "metadata": {},
     "output_type": "execute_result"
    }
   ],
   "source": [
    "trace1 = go.Bar(\n",
    "        x=video_review.groupby(['Player_Activity_Derived'], as_index=False)['PlayID'].count()['Player_Activity_Derived'],\n",
    "        y=video_review.groupby(['Player_Activity_Derived'], as_index=False)['PlayID'].count()['PlayID']\n",
    "    )\n",
    "trace2 = go.Bar(\n",
    "        x=video_review.groupby(['Primary_Impact_Type'], as_index=False)['PlayID'].count()['Primary_Impact_Type'],\n",
    "        y=video_review.groupby(['Primary_Impact_Type'], as_index=False)['PlayID'].count()['PlayID'],\n",
    "    )\n",
    "trace3 = go.Bar(\n",
    "        x=video_review.groupby(['Friendly_Fire'], as_index=False)['PlayID'].count()['Friendly_Fire'],\n",
    "        y=video_review.groupby(['Friendly_Fire'], as_index=False)['PlayID'].count()['PlayID'],\n",
    "    )\n",
    "trace4 = go.Bar(\n",
    "        x=video_review.groupby(['Primary_Partner_Activity_Derived'], as_index=False)['PlayID'].count()['Primary_Partner_Activity_Derived'],\n",
    "        y=video_review.groupby(['Primary_Partner_Activity_Derived'], as_index=False)['PlayID'].count()['PlayID'],\n",
    "    )\n",
    "\n",
    "fig = tools.make_subplots(rows=2, cols=2, subplot_titles=('Player Activity Derived', 'Primary Impact Type',\n",
    "                                                          'Friendly Fire', 'Primary Partner Activity Derived'))\n",
    "\n",
    "fig.append_trace(trace1, 1, 1)\n",
    "fig.append_trace(trace2, 1, 2)\n",
    "fig.append_trace(trace3, 2, 1)\n",
    "fig.append_trace(trace4, 2, 2)\n",
    "\n",
    "fig['layout'].update(showlegend=False)\n",
    "\n",
    "py.iplot(fig, filename='make-subplots-multiple-with-titles')"
   ]
  },
  {
   "cell_type": "markdown",
   "metadata": {},
   "source": [
    "### Quick Conclusions\n",
    "    - No player activity stands out\n",
    "    - Helmet to player is primary impact type\n",
    "    - Friendly fire is only clear 16% of the time\n",
    "    - No Partner Activity Stands Out"
   ]
  },
  {
   "cell_type": "markdown",
   "metadata": {},
   "source": [
    "#### Who's getting hurt?"
   ]
  },
  {
   "cell_type": "code",
   "execution_count": 9,
   "metadata": {},
   "outputs": [],
   "source": [
    "#Categorize player punt roles into the sides of the ball\n",
    "return_roles = ['PDL1','PDL2','PDL3','PDL4','PDL5','PDL6','PDM','PDR1','PDR2','PDR3','PDR4','PDR5','PDR6'\n",
    "                ,'PFB','PLL','PLL1','PLL2','PLL3','PLM','PLM1','PLR','PLR1','PLR2','PLR3','PR','VL','VLi'\n",
    "                ,'VLo','VR','VRi','VRo']\n",
    "\n",
    "coverage_roles = ['GL','GLi','GLo','GR','GRi','GRo','P','PC','PLG','PLS','PLT','PLW','PPL','PPLi','PPLo'\n",
    "                 ,'PPR','PPRi','PPRo','PRG','PRT','PRW']\n",
    "\n",
    "gunner_blockers = ['VL','VLi','VLo','VR','VRi','VRo']"
   ]
  },
  {
   "cell_type": "code",
   "execution_count": 10,
   "metadata": {},
   "outputs": [],
   "source": [
    "inj_players = video_review.merge(play_player_role, how='inner', on=['Season_Year', 'GameKey', 'PlayID', 'GSISID'])\n",
    "inj_players.rename(columns={'Role':'inj_role'}, inplace=True)"
   ]
  },
  {
   "cell_type": "code",
   "execution_count": 11,
   "metadata": {},
   "outputs": [],
   "source": [
    "inj_players['inj_side_of_ball'] = np.where(inj_players.inj_role.isin(return_roles), 'return',\n",
    "                                          np.where(inj_players.inj_role.isin(coverage_roles), 'coverage', ''))"
   ]
  },
  {
   "cell_type": "code",
   "execution_count": 12,
   "metadata": {},
   "outputs": [],
   "source": [
    "partner_players = video_review[['Season_Year', 'GameKey', 'PlayID', 'Primary_Partner_GSISID']]\n",
    "partner_players['Primary_Partner_GSISID'] = partner_players.loc[:,'Primary_Partner_GSISID'] \\\n",
    "                                                .replace('Unclear','0').fillna(0).astype(int)\n",
    "partner_players = partner_players.merge(play_player_role, how='left', \\\n",
    "                                        left_on=['Season_Year', 'GameKey', 'PlayID', 'Primary_Partner_GSISID'],\\\n",
    "                                       right_on =['Season_Year', 'GameKey', 'PlayID', 'GSISID'])\n",
    "partner_players = partner_players.drop('GSISID', axis=1)\n",
    "partner_players.rename(columns={'Role':'partner_role'}, inplace=True)\n",
    "partner_players['partner_side_of_ball'] = np.where(partner_players.partner_role.isin(return_roles), 'return',\n",
    "                                          np.where(partner_players.partner_role.isin(coverage_roles), 'coverage', ''))\n",
    "inj_partner_df = pd.concat([inj_players,partner_players[['partner_role','partner_side_of_ball']]], axis = 1)"
   ]
  },
  {
   "cell_type": "code",
   "execution_count": 13,
   "metadata": {},
   "outputs": [
    {
     "data": {
      "text/html": [
       "<div>\n",
       "<style>\n",
       "    .dataframe thead tr:only-child th {\n",
       "        text-align: right;\n",
       "    }\n",
       "\n",
       "    .dataframe thead th {\n",
       "        text-align: left;\n",
       "    }\n",
       "\n",
       "    .dataframe tbody tr th {\n",
       "        vertical-align: top;\n",
       "    }\n",
       "</style>\n",
       "<table border=\"1\" class=\"dataframe\">\n",
       "  <thead>\n",
       "    <tr style=\"text-align: right;\">\n",
       "      <th></th>\n",
       "      <th>Season_Year</th>\n",
       "      <th>GameKey</th>\n",
       "      <th>PlayID</th>\n",
       "      <th>GSISID</th>\n",
       "      <th>Player_Activity_Derived</th>\n",
       "      <th>Turnover_Related</th>\n",
       "      <th>Primary_Impact_Type</th>\n",
       "      <th>Primary_Partner_GSISID</th>\n",
       "      <th>Primary_Partner_Activity_Derived</th>\n",
       "      <th>Friendly_Fire</th>\n",
       "      <th>inj_role</th>\n",
       "      <th>inj_side_of_ball</th>\n",
       "      <th>partner_role</th>\n",
       "      <th>partner_side_of_ball</th>\n",
       "    </tr>\n",
       "  </thead>\n",
       "  <tbody>\n",
       "    <tr>\n",
       "      <th>0</th>\n",
       "      <td>2016</td>\n",
       "      <td>5</td>\n",
       "      <td>3129</td>\n",
       "      <td>31057</td>\n",
       "      <td>Tackling</td>\n",
       "      <td>No</td>\n",
       "      <td>Helmet-to-body</td>\n",
       "      <td>32482</td>\n",
       "      <td>Tackled</td>\n",
       "      <td>No</td>\n",
       "      <td>PLW</td>\n",
       "      <td>coverage</td>\n",
       "      <td>PR</td>\n",
       "      <td>return</td>\n",
       "    </tr>\n",
       "    <tr>\n",
       "      <th>1</th>\n",
       "      <td>2016</td>\n",
       "      <td>21</td>\n",
       "      <td>2587</td>\n",
       "      <td>29343</td>\n",
       "      <td>Blocked</td>\n",
       "      <td>No</td>\n",
       "      <td>Helmet-to-helmet</td>\n",
       "      <td>31059</td>\n",
       "      <td>Blocking</td>\n",
       "      <td>No</td>\n",
       "      <td>GL</td>\n",
       "      <td>coverage</td>\n",
       "      <td>PLL1</td>\n",
       "      <td>return</td>\n",
       "    </tr>\n",
       "    <tr>\n",
       "      <th>2</th>\n",
       "      <td>2016</td>\n",
       "      <td>29</td>\n",
       "      <td>538</td>\n",
       "      <td>31023</td>\n",
       "      <td>Tackling</td>\n",
       "      <td>No</td>\n",
       "      <td>Helmet-to-body</td>\n",
       "      <td>31941</td>\n",
       "      <td>Tackled</td>\n",
       "      <td>No</td>\n",
       "      <td>GR</td>\n",
       "      <td>coverage</td>\n",
       "      <td>PR</td>\n",
       "      <td>return</td>\n",
       "    </tr>\n",
       "    <tr>\n",
       "      <th>3</th>\n",
       "      <td>2016</td>\n",
       "      <td>45</td>\n",
       "      <td>1212</td>\n",
       "      <td>33121</td>\n",
       "      <td>Tackling</td>\n",
       "      <td>No</td>\n",
       "      <td>Helmet-to-body</td>\n",
       "      <td>28249</td>\n",
       "      <td>Tackled</td>\n",
       "      <td>No</td>\n",
       "      <td>PRT</td>\n",
       "      <td>coverage</td>\n",
       "      <td>PR</td>\n",
       "      <td>return</td>\n",
       "    </tr>\n",
       "    <tr>\n",
       "      <th>4</th>\n",
       "      <td>2016</td>\n",
       "      <td>54</td>\n",
       "      <td>1045</td>\n",
       "      <td>32444</td>\n",
       "      <td>Blocked</td>\n",
       "      <td>No</td>\n",
       "      <td>Helmet-to-body</td>\n",
       "      <td>31756</td>\n",
       "      <td>Blocked</td>\n",
       "      <td>Yes</td>\n",
       "      <td>PRT</td>\n",
       "      <td>coverage</td>\n",
       "      <td>GR</td>\n",
       "      <td>coverage</td>\n",
       "    </tr>\n",
       "  </tbody>\n",
       "</table>\n",
       "</div>"
      ],
      "text/plain": [
       "   Season_Year  GameKey  PlayID  GSISID Player_Activity_Derived  \\\n",
       "0         2016        5    3129   31057                Tackling   \n",
       "1         2016       21    2587   29343                 Blocked   \n",
       "2         2016       29     538   31023                Tackling   \n",
       "3         2016       45    1212   33121                Tackling   \n",
       "4         2016       54    1045   32444                 Blocked   \n",
       "\n",
       "  Turnover_Related Primary_Impact_Type Primary_Partner_GSISID  \\\n",
       "0               No      Helmet-to-body                  32482   \n",
       "1               No    Helmet-to-helmet                  31059   \n",
       "2               No      Helmet-to-body                  31941   \n",
       "3               No      Helmet-to-body                  28249   \n",
       "4               No      Helmet-to-body                  31756   \n",
       "\n",
       "  Primary_Partner_Activity_Derived Friendly_Fire inj_role inj_side_of_ball  \\\n",
       "0                          Tackled            No      PLW         coverage   \n",
       "1                         Blocking            No       GL         coverage   \n",
       "2                          Tackled            No       GR         coverage   \n",
       "3                          Tackled            No      PRT         coverage   \n",
       "4                          Blocked           Yes      PRT         coverage   \n",
       "\n",
       "  partner_role partner_side_of_ball  \n",
       "0           PR               return  \n",
       "1         PLL1               return  \n",
       "2           PR               return  \n",
       "3           PR               return  \n",
       "4           GR             coverage  "
      ]
     },
     "execution_count": 13,
     "metadata": {},
     "output_type": "execute_result"
    }
   ],
   "source": [
    "inj_partner_df.head()"
   ]
  },
  {
   "cell_type": "code",
   "execution_count": 14,
   "metadata": {},
   "outputs": [
    {
     "data": {
      "text/plain": [
       "return      18\n",
       "coverage    15\n",
       "             4\n",
       "Name: partner_side_of_ball, dtype: int64"
      ]
     },
     "execution_count": 14,
     "metadata": {},
     "output_type": "execute_result"
    }
   ],
   "source": [
    "partner_players.partner_side_of_ball.value_counts()"
   ]
  },
  {
   "cell_type": "markdown",
   "metadata": {},
   "source": [
    "#### On what types of plays are players getting hurt?"
   ]
  },
  {
   "cell_type": "code",
   "execution_count": 15,
   "metadata": {},
   "outputs": [],
   "source": [
    "#Create a column in the play_info dataframe to determine the type of play\n",
    "play_info['outcome'] =  np.where(play_info['PlayDescription'].str.contains('aborted|Fumbled snap|FUMBLES, and recovers', flags=re.IGNORECASE, regex=True), 'aborted',\n",
    "                        np.where(play_info['PlayDescription'].str.contains('fake|pass|right end|left end|up the middle|Direct snap|right guard', flags=re.IGNORECASE, regex=True), 'fake',\n",
    "                        np.where(play_info['PlayDescription'].str.contains('muffs', flags=re.IGNORECASE, regex=True), 'muff',         \n",
    "                        np.where(play_info['PlayDescription'].str.contains('fair catch by', flags=re.IGNORECASE, regex=True), 'fair_catch',\n",
    "                        np.where(play_info['PlayDescription'].str.contains('touchback', flags=re.IGNORECASE, regex=True), 'touchback',\n",
    "                        np.where(play_info['PlayDescription'].str.contains('blocked|deflected', flags=re.IGNORECASE, regex=True), 'blocked',\n",
    "                        np.where(play_info['PlayDescription'].str.contains('out of bounds.', flags=re.IGNORECASE, regex=False), 'oob',\n",
    "                        np.where(play_info['PlayDescription'].str.contains('downed', flags=re.IGNORECASE, regex=True), 'downed', \n",
    "                        np.where(play_info['PlayDescription'].str.contains('safety', flags=re.IGNORECASE, regex=True), 'safety',\n",
    "                        np.where(play_info['PlayDescription'].str.contains('[0-9]+ for [-+]?[0-9]+ yards?|for no gain|touchdown|(to [A-Z]+ [0-9]+ for [-+]?[0-9]+ yards?)|(to [0-9]+ for [-+]?[0-9]+ yards?)', flags=re.IGNORECASE, regex=True), 'return',         \n",
    "                        np.where(play_info['PlayDescription'].str.contains('- no play|delay of game|false start, declined|penalty enforced', flags=re.IGNORECASE, regex=True), 'no_play', ' ')))))))))))"
   ]
  },
  {
   "cell_type": "code",
   "execution_count": 16,
   "metadata": {},
   "outputs": [],
   "source": [
    "pi = play_info.merge(video_review[['Season_Year', 'GameKey', 'PlayID','GSISID']], how='left', on =['Season_Year', 'GameKey', 'PlayID'])\n",
    "pi['injury'] = np.where(pi.GSISID.notnull(), 1, 0).astype(int)\n",
    "pi.drop('GSISID', axis = 1, inplace=True)\n",
    "vr = play_info.merge(video_review, how='inner', on =['Season_Year', 'GameKey', 'PlayID'])"
   ]
  },
  {
   "cell_type": "code",
   "execution_count": 17,
   "metadata": {},
   "outputs": [
    {
     "data": {
      "text/plain": [
       "return        29\n",
       "downed         3\n",
       "muff           2\n",
       "fair_catch     2\n",
       "fake           1\n",
       "Name: outcome, dtype: int64"
      ]
     },
     "execution_count": 17,
     "metadata": {},
     "output_type": "execute_result"
    }
   ],
   "source": [
    "vr.outcome.value_counts()"
   ]
  },
  {
   "cell_type": "markdown",
   "metadata": {},
   "source": [
    "#### Conclusion: players are getting hurt on returns "
   ]
  },
  {
   "cell_type": "code",
   "execution_count": 18,
   "metadata": {},
   "outputs": [],
   "source": [
    "#Is it a higher proportion compared to all plays?"
   ]
  },
  {
   "cell_type": "code",
   "execution_count": 19,
   "metadata": {},
   "outputs": [
    {
     "data": {
      "text/html": [
       "<div>\n",
       "<style>\n",
       "    .dataframe thead tr:only-child th {\n",
       "        text-align: right;\n",
       "    }\n",
       "\n",
       "    .dataframe thead th {\n",
       "        text-align: left;\n",
       "    }\n",
       "\n",
       "    .dataframe tbody tr th {\n",
       "        vertical-align: top;\n",
       "    }\n",
       "</style>\n",
       "<table border=\"1\" class=\"dataframe\">\n",
       "  <thead>\n",
       "    <tr style=\"text-align: right;\">\n",
       "      <th></th>\n",
       "      <th>outcome</th>\n",
       "      <th>total_plays</th>\n",
       "      <th>injuries</th>\n",
       "      <th>injury_percentage</th>\n",
       "    </tr>\n",
       "  </thead>\n",
       "  <tbody>\n",
       "    <tr>\n",
       "      <th>0</th>\n",
       "      <td>return</td>\n",
       "      <td>2741</td>\n",
       "      <td>29</td>\n",
       "      <td>1.1%</td>\n",
       "    </tr>\n",
       "    <tr>\n",
       "      <th>1</th>\n",
       "      <td>fair_catch</td>\n",
       "      <td>1659</td>\n",
       "      <td>2</td>\n",
       "      <td>0.1%</td>\n",
       "    </tr>\n",
       "    <tr>\n",
       "      <th>2</th>\n",
       "      <td>downed</td>\n",
       "      <td>796</td>\n",
       "      <td>3</td>\n",
       "      <td>0.4%</td>\n",
       "    </tr>\n",
       "    <tr>\n",
       "      <th>3</th>\n",
       "      <td>oob</td>\n",
       "      <td>639</td>\n",
       "      <td>0</td>\n",
       "      <td>0.0%</td>\n",
       "    </tr>\n",
       "    <tr>\n",
       "      <th>4</th>\n",
       "      <td>touchback</td>\n",
       "      <td>407</td>\n",
       "      <td>0</td>\n",
       "      <td>0.0%</td>\n",
       "    </tr>\n",
       "    <tr>\n",
       "      <th>5</th>\n",
       "      <td>muff</td>\n",
       "      <td>203</td>\n",
       "      <td>2</td>\n",
       "      <td>1.0%</td>\n",
       "    </tr>\n",
       "    <tr>\n",
       "      <th>6</th>\n",
       "      <td>no_play</td>\n",
       "      <td>139</td>\n",
       "      <td>0</td>\n",
       "      <td>0.0%</td>\n",
       "    </tr>\n",
       "    <tr>\n",
       "      <th>7</th>\n",
       "      <td>fake</td>\n",
       "      <td>45</td>\n",
       "      <td>1</td>\n",
       "      <td>2.2%</td>\n",
       "    </tr>\n",
       "    <tr>\n",
       "      <th>8</th>\n",
       "      <td>blocked</td>\n",
       "      <td>39</td>\n",
       "      <td>0</td>\n",
       "      <td>0.0%</td>\n",
       "    </tr>\n",
       "    <tr>\n",
       "      <th>9</th>\n",
       "      <td>aborted</td>\n",
       "      <td>9</td>\n",
       "      <td>0</td>\n",
       "      <td>0.0%</td>\n",
       "    </tr>\n",
       "    <tr>\n",
       "      <th>10</th>\n",
       "      <td>safety</td>\n",
       "      <td>4</td>\n",
       "      <td>0</td>\n",
       "      <td>0.0%</td>\n",
       "    </tr>\n",
       "  </tbody>\n",
       "</table>\n",
       "</div>"
      ],
      "text/plain": [
       "       outcome  total_plays  injuries injury_percentage\n",
       "0       return         2741        29              1.1%\n",
       "1   fair_catch         1659         2              0.1%\n",
       "2       downed          796         3              0.4%\n",
       "3          oob          639         0              0.0%\n",
       "4    touchback          407         0              0.0%\n",
       "5         muff          203         2              1.0%\n",
       "6      no_play          139         0              0.0%\n",
       "7         fake           45         1              2.2%\n",
       "8      blocked           39         0              0.0%\n",
       "9      aborted            9         0              0.0%\n",
       "10      safety            4         0              0.0%"
      ]
     },
     "execution_count": 19,
     "metadata": {},
     "output_type": "execute_result"
    }
   ],
   "source": [
    "pi_inj_grouped = pi.groupby(['outcome'], as_index=False)['injury'] \\\n",
    "    .agg({'total_plays':'count','injuries':sum}) \\\n",
    "    .sort_values('total_plays', ascending = False) \\\n",
    "    .reset_index(drop=True)\n",
    "\n",
    "pi_inj_grouped['injury_percentage'] = round(pi_inj_grouped['injuries'] / pi_inj_grouped['total_plays'] * 100, 1).astype(str) + '%'\n",
    "pi_inj_grouped"
   ]
  },
  {
   "cell_type": "markdown",
   "metadata": {},
   "source": [
    "#### Conclusion: over 1% of punt plays with a return have an injury\n",
    "    - **** This is 10x higher than when a fair catch is called"
   ]
  },
  {
   "cell_type": "markdown",
   "metadata": {},
   "source": [
    "#### Plot Player Paths on a Given Play"
   ]
  },
  {
   "cell_type": "code",
   "execution_count": 20,
   "metadata": {},
   "outputs": [],
   "source": [
    "def load_layout():\n",
    "    \"\"\"\n",
    "    Returns a dict for a Football themed Plot.ly layout \n",
    "    \"\"\"\n",
    "    layout = dict(\n",
    "        title = \"Player Activity\",\n",
    "        plot_bgcolor='darkseagreen',\n",
    "        showlegend=True,\n",
    "        xaxis=dict(\n",
    "            autorange=False,\n",
    "            range=[0, 120],\n",
    "            showgrid=False,\n",
    "            zeroline=False,\n",
    "            showline=True,\n",
    "            linecolor='black',\n",
    "            linewidth=1,\n",
    "            mirror=True,\n",
    "            ticks='',\n",
    "            tickmode='array',\n",
    "            tickvals=[10,20, 30, 40, 50, 60, 70, 80, 90, 100, 110],\n",
    "            ticktext=['Goal', 10, 20, 30, 40, 50, 40, 30, 20, 10, 'Goal'],\n",
    "            showticklabels=True\n",
    "        ),\n",
    "        yaxis=dict(\n",
    "            title='',\n",
    "            autorange=False,\n",
    "            range=[-3.3,56.3],\n",
    "            showgrid=False,\n",
    "            zeroline=False,\n",
    "            showline=True,\n",
    "            linecolor='black',\n",
    "            linewidth=1,\n",
    "            mirror=True,\n",
    "            ticks='',\n",
    "            showticklabels=False\n",
    "        ),\n",
    "        shapes=[\n",
    "            dict(\n",
    "                type='line',\n",
    "                layer='below',\n",
    "                x0=0,\n",
    "                y0=0,\n",
    "                x1=120,\n",
    "                y1=0,\n",
    "                line=dict(\n",
    "                    color='white',\n",
    "                    width=2\n",
    "                )\n",
    "            ),\n",
    "            dict(\n",
    "                type='line',\n",
    "                layer='below',\n",
    "                x0=0,\n",
    "                y0=53.3,\n",
    "                x1=120,\n",
    "                y1=53.3,\n",
    "                line=dict(\n",
    "                    color='white',\n",
    "                    width=2\n",
    "                )\n",
    "            ),\n",
    "            dict(\n",
    "                type='line',\n",
    "                layer='below',\n",
    "                x0=10,\n",
    "                y0=0,\n",
    "                x1=10,\n",
    "                y1=53.3,\n",
    "                line=dict(\n",
    "                    color='white',\n",
    "                    width=10\n",
    "                )\n",
    "            ),\n",
    "            dict(\n",
    "                type='line',\n",
    "                layer='below',\n",
    "                x0=20,\n",
    "                y0=0,\n",
    "                x1=20,\n",
    "                y1=53.3,\n",
    "                line=dict(\n",
    "                    color='white'\n",
    "                )\n",
    "            ),\n",
    "            dict(\n",
    "                type='line',\n",
    "                layer='below',\n",
    "                x0=30,\n",
    "                y0=0,\n",
    "                x1=30,\n",
    "                y1=53.3,\n",
    "                line=dict(\n",
    "                    color='white'\n",
    "                )\n",
    "            ),\n",
    "            dict(\n",
    "                type='line',\n",
    "                layer='below',\n",
    "                x0=40,\n",
    "                y0=0,\n",
    "                x1=40,\n",
    "                y1=53.3,\n",
    "                line=dict(\n",
    "                    color='white'\n",
    "                )\n",
    "            ),\n",
    "            dict(\n",
    "                type='line',\n",
    "                layer='below',\n",
    "                x0=50,\n",
    "                y0=0,\n",
    "                x1=50,\n",
    "                y1=53.3,\n",
    "                line=dict(\n",
    "                    color='white'\n",
    "                )\n",
    "            ),\n",
    "            dict(\n",
    "                type='line',\n",
    "                layer='below',\n",
    "                x0=60,\n",
    "                y0=0,\n",
    "                x1=60,\n",
    "                y1=53.3,\n",
    "                line=dict(\n",
    "                    color='white'\n",
    "                )\n",
    "            ),dict(\n",
    "                type='line',\n",
    "                layer='below',\n",
    "                x0=70,\n",
    "                y0=0,\n",
    "                x1=70,\n",
    "                y1=53.3,\n",
    "                line=dict(\n",
    "                    color='white'\n",
    "                )\n",
    "            ),dict(\n",
    "                type='line',\n",
    "                layer='below',\n",
    "                x0=80,\n",
    "                y0=0,\n",
    "                x1=80,\n",
    "                y1=53.3,\n",
    "                line=dict(\n",
    "                    color='white'\n",
    "                )\n",
    "            ),\n",
    "            dict(\n",
    "                type='line',\n",
    "                layer='below',\n",
    "                x0=90,\n",
    "                y0=0,\n",
    "                x1=90,\n",
    "                y1=53.3,\n",
    "                line=dict(\n",
    "                    color='white'\n",
    "                )\n",
    "            ),dict(\n",
    "                type='line',\n",
    "                layer='below',\n",
    "                x0=100,\n",
    "                y0=0,\n",
    "                x1=100,\n",
    "                y1=53.3,\n",
    "                line=dict(\n",
    "                    color='white'\n",
    "                )\n",
    "            ),\n",
    "            dict(\n",
    "                type='line',\n",
    "                layer='below',\n",
    "                x0=110,\n",
    "                y0=0,\n",
    "                x1=110,\n",
    "                y1=53.3,\n",
    "                line=dict(\n",
    "                    color='white',\n",
    "                    width=10\n",
    "                )\n",
    "            )\n",
    "        ]\n",
    "    )\n",
    "    return layout\n",
    "\n",
    "layout = load_layout()"
   ]
  },
  {
   "cell_type": "code",
   "execution_count": 24,
   "metadata": {},
   "outputs": [],
   "source": [
    "# Loading and plotting functions\n",
    "\n",
    "def load_plays_for_game(GameKey):\n",
    "    \"\"\"\n",
    "    Returns a dataframe of play data for a given game (GameKey)\n",
    "    \"\"\"\n",
    "    play_information = pd.read_csv('play_information.csv')\n",
    "    play_information = play_information[play_information['GameKey'] == GameKey]\n",
    "    return play_information\n",
    "\n",
    "\n",
    "def load_game_and_ngs(ngs_file=None, GameKey=None):\n",
    "    \"\"\"\n",
    "    Returns a dataframe of player movements (NGS data) for a given game\n",
    "    \"\"\"\n",
    "    if ngs_file is None:\n",
    "        print(\"Specifiy an NGS file.\")\n",
    "        return None\n",
    "    if GameKey is None:\n",
    "        print('Specify a GameKey')\n",
    "        return None\n",
    "    # Merge play data with NGS data    \n",
    "    plays = load_plays_for_game(GameKey)\n",
    "    ngs = pd.read_csv(ngs_file, low_memory=False)\n",
    "    merged = pd.merge(ngs, plays, how=\"inner\", on=[\"GameKey\", \"PlayID\", \"Season_Year\"])\n",
    "    return merged\n",
    "\n",
    "\n",
    "def plot_play(game_df, PlayID, player1=None, player2=None, custom_layout=False):\n",
    "    \"\"\"\n",
    "    Plots player movements on the field for a given game, play, and two players\n",
    "    \"\"\"\n",
    "    game_df = game_df[game_df.PlayID==PlayID]\n",
    "    \n",
    "    GameKey=str(pd.unique(game_df.GameKey)[0])\n",
    "    HomeTeam = pd.unique(game_df.Home_Team_Visit_Team)[0].split(\"-\")[0]\n",
    "    VisitingTeam = pd.unique(game_df.Home_Team_Visit_Team)[0].split(\"-\")[1]\n",
    "    YardLine = game_df[(game_df.PlayID==PlayID) & (game_df.GSISID==player1)]['YardLine'].iloc[0]\n",
    "    \n",
    "    traces=[]   \n",
    "    if (player1 is not None) & (player2 is not None):\n",
    "        game_df = game_df[ (game_df['GSISID']==player1) | (game_df['GSISID']==player2)]\n",
    "        for player in pd.unique(game_df.GSISID):\n",
    "            player = int(player)\n",
    "            trace = go.Scatter(\n",
    "                x = game_df[game_df.GSISID==player].x,\n",
    "                y = game_df[game_df.GSISID==player].y,\n",
    "                name='GSISID '+str(player),\n",
    "                mode='markers'\n",
    "            )\n",
    "            traces.append(trace)\n",
    "    else:\n",
    "        print(\"Specify GSISIDs for player1 and player2\")\n",
    "        return None\n",
    "    \n",
    "    if custom_layout is not True:\n",
    "        layout = load_layout()\n",
    "        layout['title'] =  HomeTeam + \\\n",
    "        ' vs. ' + VisitingTeam + \\\n",
    "        '<br>Possession: ' + \\\n",
    "        YardLine.split(\" \")[0] +'@'+YardLine.split(\" \")[1]\n",
    "    data = traces\n",
    "    fig = dict(data=data, layout=layout)\n",
    "    play_description = game_df[(game_df.PlayID==PlayID) & (game_df.GSISID==player1)].iloc[0][\"PlayDescription\"]\n",
    "    print(\"\\n\\n\\t\",play_description)\n",
    "    py.iplot(fig, filename='jupyter-table1')\n",
    "    #offline.iplot(fig)"
   ]
  },
  {
   "cell_type": "code",
   "execution_count": 25,
   "metadata": {},
   "outputs": [],
   "source": [
    "game280 = load_game_and_ngs('NGS-2016-reg-wk13-17.csv',GameKey=280)"
   ]
  },
  {
   "cell_type": "code",
   "execution_count": 26,
   "metadata": {},
   "outputs": [
    {
     "name": "stdout",
     "output_type": "stream",
     "text": [
      "\n",
      "\n",
      "\t (3:36) B.Nortman punts 49 yards to HST 30, Center-C.Tinker, fair catch by W.Fuller.\n",
      "High five! You successfully sent some data to your account on plotly. View your plot in your browser at https://plot.ly/~mtodisco10/0 or inside your plot.ly account where it is named 'jupyter-table1'\n"
     ]
    }
   ],
   "source": [
    "plot_play(game_df=game280, PlayID=2918, player1=32120, player2=32725)"
   ]
  },
  {
   "cell_type": "markdown",
   "metadata": {},
   "source": [
    "#### Calculate hang time of punts"
   ]
  },
  {
   "cell_type": "code",
   "execution_count": 27,
   "metadata": {},
   "outputs": [],
   "source": [
    "def get_hang_time(ngs_df, start_event='punt', *stop_events):\n",
    "    punt_event = ngs_df.loc[ngs_df.Event==start_event] \\\n",
    "        .groupby(['Season_Year', 'GameKey','PlayID'], as_index = False)['Time'].min()\n",
    "    punt_event.rename(columns = {'Time':'punt_time'}, inplace=True)\n",
    "    punt_event['punt_time'] = pd.to_datetime(punt_event['punt_time'],\\\n",
    "                                             format='%Y-%m-%d %H:%M:%S.%f')\n",
    "    \n",
    "    receiving_event = ngs_df.loc[ngs_df.Event.isin(stop_events)] \\\n",
    "        .groupby(['Season_Year', 'GameKey','PlayID'], as_index = False)['Time'].min()\n",
    "    receiving_event.rename(columns = {'Time':'receiving_time'}, inplace=True)\n",
    "    receiving_event['receiving_time'] = pd.to_datetime(receiving_event['receiving_time'],\\\n",
    "                                             format='%Y-%m-%d %H:%M:%S.%f')\n",
    "    \n",
    "    punt_df = punt_event.merge(receiving_event, how='inner', on = ['Season_Year','GameKey','PlayID']) \\\n",
    "                .reset_index(drop=True)\n",
    "    \n",
    "    punt_df['hang_time'] = (punt_df['receiving_time'] - punt_df['punt_time']).dt.total_seconds()\n",
    "    \n",
    "    return punt_df"
   ]
  },
  {
   "cell_type": "code",
   "execution_count": 28,
   "metadata": {},
   "outputs": [],
   "source": [
    "punt_df = get_hang_time(NGS_df, 'punt', 'punt_received', 'fair_catch')"
   ]
  },
  {
   "cell_type": "code",
   "execution_count": 29,
   "metadata": {},
   "outputs": [
    {
     "data": {
      "text/html": [
       "<iframe id=\"igraph\" scrolling=\"no\" style=\"border:none;\" seamless=\"seamless\" src=\"https://plot.ly/~mtodisco10/10.embed\" height=\"525px\" width=\"100%\"></iframe>"
      ],
      "text/plain": [
       "<plotly.tools.PlotlyDisplay object>"
      ]
     },
     "execution_count": 29,
     "metadata": {},
     "output_type": "execute_result"
    }
   ],
   "source": [
    "data = [go.Histogram(x=punt_df.hang_time)]\n",
    "\n",
    "py.iplot(data, filename='basic histogram')"
   ]
  },
  {
   "cell_type": "code",
   "execution_count": 30,
   "metadata": {},
   "outputs": [
    {
     "data": {
      "text/plain": [
       "4.5"
      ]
     },
     "execution_count": 30,
     "metadata": {},
     "output_type": "execute_result"
    }
   ],
   "source": [
    "round(punt_df['hang_time'].mean(), 1)"
   ]
  },
  {
   "cell_type": "code",
   "execution_count": 31,
   "metadata": {},
   "outputs": [
    {
     "data": {
      "text/plain": [
       "4.5"
      ]
     },
     "execution_count": 31,
     "metadata": {},
     "output_type": "execute_result"
    }
   ],
   "source": [
    "round(punt_df['hang_time'].median(), 1)"
   ]
  },
  {
   "cell_type": "code",
   "execution_count": 32,
   "metadata": {},
   "outputs": [
    {
     "data": {
      "text/plain": [
       "'96.9% of hang times are less than 5 1/2 seconds'"
      ]
     },
     "execution_count": 32,
     "metadata": {},
     "output_type": "execute_result"
    }
   ],
   "source": [
    "str(round(len(punt_df.loc[punt_df.hang_time < 5.5]) / len(punt_df) * 100, 1)) + '% of hang times are less than 5 1/2 seconds'"
   ]
  },
  {
   "cell_type": "markdown",
   "metadata": {},
   "source": [
    "### Calculate distance between returner and closest coverage man"
   ]
  },
  {
   "cell_type": "code",
   "execution_count": 33,
   "metadata": {},
   "outputs": [],
   "source": [
    "#Create a function to calculate the space between the returner and the closest coverage player for every second between the punt and the catch\n",
    "def coverage_returner_space(play_df, ngs_df):\n",
    "    cov_ret_lst = []\n",
    "    play_df = play_df.loc[(play_df.outcome == 'fair_catch') | (play_df.outcome == 'return')].reset_index(drop=True)\n",
    "    for i in log_progress(range(0, len(play_df)), every=25):\n",
    "        season_key = play_df['Season_Year'][i]\n",
    "        game_key = play_df['GameKey'][i]\n",
    "        play_id = play_df['PlayID'][i]\n",
    "        outcome = play_df['outcome'][i]\n",
    "        injury = play_df['injury'][i]\n",
    "        if game_key in ngs_df.GameKey and play_id in ngs_df.PlayID:\n",
    "            filtered_play = ngs_df.loc[(ngs_df.GameKey == game_key) \\\n",
    "                                       & (ngs_df.PlayID == play_id)].sort_values('Time').reset_index(drop=True)\n",
    "            filtered_play = filtered_play.merge(play_player_role, \\\n",
    "                                                how='inner', on = ['Season_Year','GameKey','PlayID','GSISID'])\n",
    "            if len(filtered_play) > 0:\n",
    "                filtered_play['Time'] = pd.to_datetime(filtered_play['Time'], \\\n",
    "                                                       format='%Y-%m-%d %H:%M:%S.%f')\n",
    "                punt_event_time = filtered_play.loc[filtered_play.Event == 'punt'].Time.min()\n",
    "                receiving_event_time = filtered_play.loc[(filtered_play.Event == 'punt_received') | \\\n",
    "                                                         (filtered_play.Event == 'fair_catch')].Time.min()\n",
    "                gunner_blocker_count = len(filtered_play.loc[filtered_play['Role'].isin(gunner_blockers)]['Role'].unique())\n",
    "                filtered_play = filtered_play.loc[(filtered_play.Time >= punt_event_time) & \\\n",
    "                                                  (filtered_play.Time <= receiving_event_time)]\n",
    "                coverage_df = filtered_play.loc[filtered_play['Role'].isin(coverage_roles)].sort_values('Time')\n",
    "                coverage_df.rename(columns={'x':'cov_x', \n",
    "                                          'y': 'cov_y',\n",
    "                                          'GSISID': 'cov_GSISID',\n",
    "                                          'dis': 'cov_dis',\n",
    "                                          'o': 'cov_o',\n",
    "                                          'dir': 'cov_dir',\n",
    "                                          'Role': 'cov_Role'\n",
    "                                         }, inplace=True)\n",
    "                \n",
    "                returner_df = filtered_play.loc[filtered_play['Role'] == 'PR'].sort_values('Time')\n",
    "                returner_df.rename(columns={'x':'ret_x', \n",
    "                                          'y': 'ret_y',\n",
    "                                          'GSISID': 'ret_GSISID',\n",
    "                                          'dis': 'ret_dis',\n",
    "                                          'o': 'ret_o',\n",
    "                                          'dir': 'ret_dir',\n",
    "                                          'Role': 'ret_Role'\n",
    "                                         }, inplace=True)\n",
    "                returner_df = returner_df.drop('Event', axis = 1)\n",
    "                \n",
    "                cov_ret_df = coverage_df.merge(returner_df, how ='inner', on = ['Season_Year','GameKey','PlayID','Time'])\n",
    "                cov_ret_df['dis_from_ret'] = ((cov_ret_df['cov_x'] -  cov_ret_df['ret_x']) ** 2 \\\n",
    "                                           + (cov_ret_df['cov_y'] -  cov_ret_df['ret_y']) ** 2).apply(np.sqrt)\n",
    "                cov_ret_df['time_since_punt'] = cov_ret_df['Time'] - punt_event_time\n",
    "                times_to_capture = [punt_event_time + pd.Timedelta(seconds=i) for i in range(1, 7)]\n",
    "                cov_ret_df = cov_ret_df.loc[cov_ret_df['Time'].isin(times_to_capture)]\n",
    "                cov_ret_df['gunner_blockers'] = gunner_blocker_count\n",
    "                cov_ret_df['outcome'] = outcome\n",
    "                cov_ret_df['injury'] = injury\n",
    "                cov_ret_df['cov_speed'] = convert_to_mph(cov_ret_df.cov_dis, 20.455)\n",
    "                cov_ret_df['ret_speed'] = convert_to_mph(cov_ret_df.ret_dis, 20.455)\n",
    "                if len(cov_ret_df) > 0:\n",
    "                    cov_ret_lst.append(cov_ret_df)\n",
    "                    \n",
    "    cov_ret_df = pd.concat(cov_ret_lst).reset_index(drop=True)          \n",
    "    return cov_ret_df"
   ]
  },
  {
   "cell_type": "code",
   "execution_count": 34,
   "metadata": {},
   "outputs": [],
   "source": [
    "def convert_to_mph(dis_vector, converter):\n",
    "    mph_vector = dis_vector * converter\n",
    "    return mph_vector"
   ]
  },
  {
   "cell_type": "code",
   "execution_count": 35,
   "metadata": {},
   "outputs": [
    {
     "data": {
      "application/vnd.jupyter.widget-view+json": {
       "model_id": "f11cd1464d4b4fdb93d9a43a927ffd71",
       "version_major": 2,
       "version_minor": 0
      },
      "text/plain": [
       "VBox(children=(HTML(value=''), IntProgress(value=0, max=4400)))"
      ]
     },
     "metadata": {},
     "output_type": "display_data"
    }
   ],
   "source": [
    "cov_ret_df = coverage_returner_space(pi, NGS_df)"
   ]
  },
  {
   "cell_type": "code",
   "execution_count": 36,
   "metadata": {},
   "outputs": [
    {
     "data": {
      "text/plain": [
       "2    0.461232\n",
       "3    0.305723\n",
       "4    0.219262\n",
       "0    0.007008\n",
       "1    0.006490\n",
       "5    0.000285\n",
       "Name: gunner_blockers, dtype: float64"
      ]
     },
     "execution_count": 36,
     "metadata": {},
     "output_type": "execute_result"
    }
   ],
   "source": [
    "cov_ret_df.gunner_blockers.value_counts(normalize=True)"
   ]
  },
  {
   "cell_type": "code",
   "execution_count": 37,
   "metadata": {},
   "outputs": [
    {
     "data": {
      "text/html": [
       "<div>\n",
       "<style>\n",
       "    .dataframe thead tr:only-child th {\n",
       "        text-align: right;\n",
       "    }\n",
       "\n",
       "    .dataframe thead th {\n",
       "        text-align: left;\n",
       "    }\n",
       "\n",
       "    .dataframe tbody tr th {\n",
       "        vertical-align: top;\n",
       "    }\n",
       "</style>\n",
       "<table border=\"1\" class=\"dataframe\">\n",
       "  <thead>\n",
       "    <tr>\n",
       "      <th></th>\n",
       "      <th colspan=\"6\" halign=\"left\">mean</th>\n",
       "      <th colspan=\"6\" halign=\"left\">median</th>\n",
       "    </tr>\n",
       "    <tr>\n",
       "      <th>time_since_punt</th>\n",
       "      <th>00:00:01</th>\n",
       "      <th>00:00:02</th>\n",
       "      <th>00:00:03</th>\n",
       "      <th>00:00:04</th>\n",
       "      <th>00:00:05</th>\n",
       "      <th>00:00:06</th>\n",
       "      <th>00:00:01</th>\n",
       "      <th>00:00:02</th>\n",
       "      <th>00:00:03</th>\n",
       "      <th>00:00:04</th>\n",
       "      <th>00:00:05</th>\n",
       "      <th>00:00:06</th>\n",
       "    </tr>\n",
       "    <tr>\n",
       "      <th>gunner_blockers</th>\n",
       "      <th></th>\n",
       "      <th></th>\n",
       "      <th></th>\n",
       "      <th></th>\n",
       "      <th></th>\n",
       "      <th></th>\n",
       "      <th></th>\n",
       "      <th></th>\n",
       "      <th></th>\n",
       "      <th></th>\n",
       "      <th></th>\n",
       "      <th></th>\n",
       "    </tr>\n",
       "  </thead>\n",
       "  <tbody>\n",
       "    <tr>\n",
       "      <th>0</th>\n",
       "      <td>12.371487</td>\n",
       "      <td>14.113950</td>\n",
       "      <td>14.909422</td>\n",
       "      <td>14.271624</td>\n",
       "      <td>11.337914</td>\n",
       "      <td>NaN</td>\n",
       "      <td>13.295750</td>\n",
       "      <td>15.75035</td>\n",
       "      <td>17.079925</td>\n",
       "      <td>15.443525</td>\n",
       "      <td>10.943425</td>\n",
       "      <td>NaN</td>\n",
       "    </tr>\n",
       "    <tr>\n",
       "      <th>1</th>\n",
       "      <td>15.902833</td>\n",
       "      <td>16.575988</td>\n",
       "      <td>15.665442</td>\n",
       "      <td>14.309607</td>\n",
       "      <td>8.113817</td>\n",
       "      <td>NaN</td>\n",
       "      <td>17.795850</td>\n",
       "      <td>18.20495</td>\n",
       "      <td>17.591300</td>\n",
       "      <td>16.159450</td>\n",
       "      <td>5.113750</td>\n",
       "      <td>NaN</td>\n",
       "    </tr>\n",
       "    <tr>\n",
       "      <th>2</th>\n",
       "      <td>17.551525</td>\n",
       "      <td>18.370466</td>\n",
       "      <td>17.438579</td>\n",
       "      <td>14.979314</td>\n",
       "      <td>12.350347</td>\n",
       "      <td>11.971857</td>\n",
       "      <td>18.000400</td>\n",
       "      <td>19.02315</td>\n",
       "      <td>18.204950</td>\n",
       "      <td>15.954899</td>\n",
       "      <td>13.295750</td>\n",
       "      <td>11.659350</td>\n",
       "    </tr>\n",
       "    <tr>\n",
       "      <th>3</th>\n",
       "      <td>16.129727</td>\n",
       "      <td>17.330794</td>\n",
       "      <td>17.194381</td>\n",
       "      <td>16.081668</td>\n",
       "      <td>13.884646</td>\n",
       "      <td>10.874142</td>\n",
       "      <td>16.977650</td>\n",
       "      <td>18.00040</td>\n",
       "      <td>17.795850</td>\n",
       "      <td>16.977650</td>\n",
       "      <td>14.523050</td>\n",
       "      <td>9.613850</td>\n",
       "    </tr>\n",
       "    <tr>\n",
       "      <th>4</th>\n",
       "      <td>14.525324</td>\n",
       "      <td>15.826750</td>\n",
       "      <td>16.186738</td>\n",
       "      <td>15.778057</td>\n",
       "      <td>14.083888</td>\n",
       "      <td>12.467323</td>\n",
       "      <td>15.341250</td>\n",
       "      <td>16.56855</td>\n",
       "      <td>16.977650</td>\n",
       "      <td>16.568550</td>\n",
       "      <td>15.341250</td>\n",
       "      <td>12.886651</td>\n",
       "    </tr>\n",
       "    <tr>\n",
       "      <th>5</th>\n",
       "      <td>5.011475</td>\n",
       "      <td>7.977450</td>\n",
       "      <td>7.261525</td>\n",
       "      <td>1.636400</td>\n",
       "      <td>6.852425</td>\n",
       "      <td>NaN</td>\n",
       "      <td>5.011475</td>\n",
       "      <td>7.97745</td>\n",
       "      <td>7.261525</td>\n",
       "      <td>1.636400</td>\n",
       "      <td>6.852425</td>\n",
       "      <td>NaN</td>\n",
       "    </tr>\n",
       "  </tbody>\n",
       "</table>\n",
       "</div>"
      ],
      "text/plain": [
       "                      mean                                              \\\n",
       "time_since_punt   00:00:01   00:00:02   00:00:03   00:00:04   00:00:05   \n",
       "gunner_blockers                                                          \n",
       "0                12.371487  14.113950  14.909422  14.271624  11.337914   \n",
       "1                15.902833  16.575988  15.665442  14.309607   8.113817   \n",
       "2                17.551525  18.370466  17.438579  14.979314  12.350347   \n",
       "3                16.129727  17.330794  17.194381  16.081668  13.884646   \n",
       "4                14.525324  15.826750  16.186738  15.778057  14.083888   \n",
       "5                 5.011475   7.977450   7.261525   1.636400   6.852425   \n",
       "\n",
       "                               median                                  \\\n",
       "time_since_punt   00:00:06   00:00:01  00:00:02   00:00:03   00:00:04   \n",
       "gunner_blockers                                                         \n",
       "0                      NaN  13.295750  15.75035  17.079925  15.443525   \n",
       "1                      NaN  17.795850  18.20495  17.591300  16.159450   \n",
       "2                11.971857  18.000400  19.02315  18.204950  15.954899   \n",
       "3                10.874142  16.977650  18.00040  17.795850  16.977650   \n",
       "4                12.467323  15.341250  16.56855  16.977650  16.568550   \n",
       "5                      NaN   5.011475   7.97745   7.261525   1.636400   \n",
       "\n",
       "                                       \n",
       "time_since_punt   00:00:05   00:00:06  \n",
       "gunner_blockers                        \n",
       "0                10.943425        NaN  \n",
       "1                 5.113750        NaN  \n",
       "2                13.295750  11.659350  \n",
       "3                14.523050   9.613850  \n",
       "4                15.341250  12.886651  \n",
       "5                 6.852425        NaN  "
      ]
     },
     "execution_count": 37,
     "metadata": {},
     "output_type": "execute_result"
    }
   ],
   "source": [
    "#Speed vs Number of Gunner Blockers at each second.\n",
    "\n",
    "pd.pivot_table(cov_ret_df.loc[(cov_ret_df.cov_Role == 'GR') | (cov_ret_df.cov_Role == 'GL')], \n",
    "               index=['gunner_blockers'], values='cov_speed',\n",
    "               columns=['time_since_punt'], aggfunc=[np.mean, np.median])"
   ]
  },
  {
   "cell_type": "code",
   "execution_count": 38,
   "metadata": {},
   "outputs": [
    {
     "data": {
      "text/html": [
       "<div>\n",
       "<style>\n",
       "    .dataframe thead tr:only-child th {\n",
       "        text-align: right;\n",
       "    }\n",
       "\n",
       "    .dataframe thead th {\n",
       "        text-align: left;\n",
       "    }\n",
       "\n",
       "    .dataframe tbody tr th {\n",
       "        vertical-align: top;\n",
       "    }\n",
       "</style>\n",
       "<table border=\"1\" class=\"dataframe\">\n",
       "  <thead>\n",
       "    <tr>\n",
       "      <th></th>\n",
       "      <th colspan=\"2\" halign=\"left\">mean</th>\n",
       "      <th colspan=\"2\" halign=\"left\">median</th>\n",
       "    </tr>\n",
       "    <tr>\n",
       "      <th>outcome</th>\n",
       "      <th>fair_catch</th>\n",
       "      <th>return</th>\n",
       "      <th>fair_catch</th>\n",
       "      <th>return</th>\n",
       "    </tr>\n",
       "    <tr>\n",
       "      <th>time_since_punt</th>\n",
       "      <th></th>\n",
       "      <th></th>\n",
       "      <th></th>\n",
       "      <th></th>\n",
       "    </tr>\n",
       "  </thead>\n",
       "  <tbody>\n",
       "    <tr>\n",
       "      <th>00:00:01</th>\n",
       "      <td>44.774631</td>\n",
       "      <td>48.379817</td>\n",
       "      <td>45.463458</td>\n",
       "      <td>48.487881</td>\n",
       "    </tr>\n",
       "    <tr>\n",
       "      <th>00:00:02</th>\n",
       "      <td>39.536096</td>\n",
       "      <td>43.550691</td>\n",
       "      <td>40.156185</td>\n",
       "      <td>43.410029</td>\n",
       "    </tr>\n",
       "    <tr>\n",
       "      <th>00:00:03</th>\n",
       "      <td>32.449034</td>\n",
       "      <td>37.431737</td>\n",
       "      <td>32.541663</td>\n",
       "      <td>36.995621</td>\n",
       "    </tr>\n",
       "    <tr>\n",
       "      <th>00:00:04</th>\n",
       "      <td>25.541349</td>\n",
       "      <td>31.820976</td>\n",
       "      <td>24.829395</td>\n",
       "      <td>30.989835</td>\n",
       "    </tr>\n",
       "    <tr>\n",
       "      <th>00:00:05</th>\n",
       "      <td>21.926480</td>\n",
       "      <td>27.101236</td>\n",
       "      <td>20.386059</td>\n",
       "      <td>25.507100</td>\n",
       "    </tr>\n",
       "    <tr>\n",
       "      <th>00:00:06</th>\n",
       "      <td>22.651864</td>\n",
       "      <td>23.142722</td>\n",
       "      <td>22.757070</td>\n",
       "      <td>20.309999</td>\n",
       "    </tr>\n",
       "  </tbody>\n",
       "</table>\n",
       "</div>"
      ],
      "text/plain": [
       "                      mean                median           \n",
       "outcome         fair_catch     return fair_catch     return\n",
       "time_since_punt                                            \n",
       "00:00:01         44.774631  48.379817  45.463458  48.487881\n",
       "00:00:02         39.536096  43.550691  40.156185  43.410029\n",
       "00:00:03         32.449034  37.431737  32.541663  36.995621\n",
       "00:00:04         25.541349  31.820976  24.829395  30.989835\n",
       "00:00:05         21.926480  27.101236  20.386059  25.507100\n",
       "00:00:06         22.651864  23.142722  22.757070  20.309999"
      ]
     },
     "execution_count": 38,
     "metadata": {},
     "output_type": "execute_result"
    }
   ],
   "source": [
    "# Average distance for all player at the X second mark.  Return vs Fair Catch\n",
    "pd.pivot_table(cov_ret_df, values='dis_from_ret', index=['time_since_punt'], columns=['outcome'], aggfunc=[np.mean, np.median])"
   ]
  },
  {
   "cell_type": "code",
   "execution_count": 39,
   "metadata": {},
   "outputs": [
    {
     "data": {
      "text/html": [
       "<div>\n",
       "<style>\n",
       "    .dataframe thead tr:only-child th {\n",
       "        text-align: right;\n",
       "    }\n",
       "\n",
       "    .dataframe thead th {\n",
       "        text-align: left;\n",
       "    }\n",
       "\n",
       "    .dataframe tbody tr th {\n",
       "        vertical-align: top;\n",
       "    }\n",
       "</style>\n",
       "<table border=\"1\" class=\"dataframe\">\n",
       "  <thead>\n",
       "    <tr>\n",
       "      <th>outcome</th>\n",
       "      <th colspan=\"5\" halign=\"left\">fair_catch</th>\n",
       "      <th colspan=\"6\" halign=\"left\">return</th>\n",
       "    </tr>\n",
       "    <tr>\n",
       "      <th>gunner_blockers</th>\n",
       "      <th>0</th>\n",
       "      <th>1</th>\n",
       "      <th>2</th>\n",
       "      <th>3</th>\n",
       "      <th>4</th>\n",
       "      <th>0</th>\n",
       "      <th>1</th>\n",
       "      <th>2</th>\n",
       "      <th>3</th>\n",
       "      <th>4</th>\n",
       "      <th>5</th>\n",
       "    </tr>\n",
       "    <tr>\n",
       "      <th>time_since_punt</th>\n",
       "      <th></th>\n",
       "      <th></th>\n",
       "      <th></th>\n",
       "      <th></th>\n",
       "      <th></th>\n",
       "      <th></th>\n",
       "      <th></th>\n",
       "      <th></th>\n",
       "      <th></th>\n",
       "      <th></th>\n",
       "      <th></th>\n",
       "    </tr>\n",
       "  </thead>\n",
       "  <tbody>\n",
       "    <tr>\n",
       "      <th>00:00:01</th>\n",
       "      <td>47.566563</td>\n",
       "      <td>45.938112</td>\n",
       "      <td>43.991621</td>\n",
       "      <td>46.354646</td>\n",
       "      <td>46.343894</td>\n",
       "      <td>47.387110</td>\n",
       "      <td>48.682959</td>\n",
       "      <td>48.177614</td>\n",
       "      <td>48.600492</td>\n",
       "      <td>48.364038</td>\n",
       "      <td>49.855188</td>\n",
       "    </tr>\n",
       "    <tr>\n",
       "      <th>00:00:02</th>\n",
       "      <td>44.363982</td>\n",
       "      <td>41.105349</td>\n",
       "      <td>38.871983</td>\n",
       "      <td>40.935949</td>\n",
       "      <td>40.561737</td>\n",
       "      <td>43.921659</td>\n",
       "      <td>44.464304</td>\n",
       "      <td>43.394259</td>\n",
       "      <td>43.702018</td>\n",
       "      <td>43.517662</td>\n",
       "      <td>44.907907</td>\n",
       "    </tr>\n",
       "    <tr>\n",
       "      <th>00:00:03</th>\n",
       "      <td>38.519668</td>\n",
       "      <td>33.935251</td>\n",
       "      <td>32.078948</td>\n",
       "      <td>33.389366</td>\n",
       "      <td>32.449950</td>\n",
       "      <td>38.856784</td>\n",
       "      <td>38.462795</td>\n",
       "      <td>37.424369</td>\n",
       "      <td>37.581441</td>\n",
       "      <td>37.192809</td>\n",
       "      <td>38.183061</td>\n",
       "    </tr>\n",
       "    <tr>\n",
       "      <th>00:00:04</th>\n",
       "      <td>31.803258</td>\n",
       "      <td>26.991194</td>\n",
       "      <td>25.538214</td>\n",
       "      <td>25.865669</td>\n",
       "      <td>24.544524</td>\n",
       "      <td>33.379900</td>\n",
       "      <td>32.705162</td>\n",
       "      <td>32.140858</td>\n",
       "      <td>31.909733</td>\n",
       "      <td>31.298615</td>\n",
       "      <td>32.561592</td>\n",
       "    </tr>\n",
       "    <tr>\n",
       "      <th>00:00:05</th>\n",
       "      <td>27.710252</td>\n",
       "      <td>21.354172</td>\n",
       "      <td>22.743397</td>\n",
       "      <td>21.086605</td>\n",
       "      <td>20.809497</td>\n",
       "      <td>23.076005</td>\n",
       "      <td>31.668453</td>\n",
       "      <td>27.186397</td>\n",
       "      <td>26.933362</td>\n",
       "      <td>27.311550</td>\n",
       "      <td>28.111912</td>\n",
       "    </tr>\n",
       "    <tr>\n",
       "      <th>00:00:06</th>\n",
       "      <td>NaN</td>\n",
       "      <td>NaN</td>\n",
       "      <td>NaN</td>\n",
       "      <td>NaN</td>\n",
       "      <td>22.651864</td>\n",
       "      <td>NaN</td>\n",
       "      <td>NaN</td>\n",
       "      <td>23.118329</td>\n",
       "      <td>22.252720</td>\n",
       "      <td>25.216619</td>\n",
       "      <td>NaN</td>\n",
       "    </tr>\n",
       "  </tbody>\n",
       "</table>\n",
       "</div>"
      ],
      "text/plain": [
       "outcome         fair_catch                                              \\\n",
       "gunner_blockers          0          1          2          3          4   \n",
       "time_since_punt                                                          \n",
       "00:00:01         47.566563  45.938112  43.991621  46.354646  46.343894   \n",
       "00:00:02         44.363982  41.105349  38.871983  40.935949  40.561737   \n",
       "00:00:03         38.519668  33.935251  32.078948  33.389366  32.449950   \n",
       "00:00:04         31.803258  26.991194  25.538214  25.865669  24.544524   \n",
       "00:00:05         27.710252  21.354172  22.743397  21.086605  20.809497   \n",
       "00:00:06               NaN        NaN        NaN        NaN  22.651864   \n",
       "\n",
       "outcome             return                                              \\\n",
       "gunner_blockers          0          1          2          3          4   \n",
       "time_since_punt                                                          \n",
       "00:00:01         47.387110  48.682959  48.177614  48.600492  48.364038   \n",
       "00:00:02         43.921659  44.464304  43.394259  43.702018  43.517662   \n",
       "00:00:03         38.856784  38.462795  37.424369  37.581441  37.192809   \n",
       "00:00:04         33.379900  32.705162  32.140858  31.909733  31.298615   \n",
       "00:00:05         23.076005  31.668453  27.186397  26.933362  27.311550   \n",
       "00:00:06               NaN        NaN  23.118329  22.252720  25.216619   \n",
       "\n",
       "outcome                     \n",
       "gunner_blockers          5  \n",
       "time_since_punt             \n",
       "00:00:01         49.855188  \n",
       "00:00:02         44.907907  \n",
       "00:00:03         38.183061  \n",
       "00:00:04         32.561592  \n",
       "00:00:05         28.111912  \n",
       "00:00:06               NaN  "
      ]
     },
     "execution_count": 39,
     "metadata": {},
     "output_type": "execute_result"
    }
   ],
   "source": [
    "pd.pivot_table(cov_ret_df, values='dis_from_ret', index=['time_since_punt'], columns=['outcome','gunner_blockers'], aggfunc=np.mean)"
   ]
  },
  {
   "cell_type": "code",
   "execution_count": 40,
   "metadata": {},
   "outputs": [],
   "source": [
    "#### At each second of each play... Who is the closest to the returner?  How far away are they?  Return vs Fair Catch"
   ]
  },
  {
   "cell_type": "code",
   "execution_count": 41,
   "metadata": {},
   "outputs": [],
   "source": [
    "min_dist_from_ret = cov_ret_df.groupby(['Season_Year', 'GameKey','PlayID','time_since_punt'], as_index = False)['dis_from_ret'].min()"
   ]
  },
  {
   "cell_type": "code",
   "execution_count": 42,
   "metadata": {},
   "outputs": [
    {
     "data": {
      "text/html": [
       "<div>\n",
       "<style>\n",
       "    .dataframe thead tr:only-child th {\n",
       "        text-align: right;\n",
       "    }\n",
       "\n",
       "    .dataframe thead th {\n",
       "        text-align: left;\n",
       "    }\n",
       "\n",
       "    .dataframe tbody tr th {\n",
       "        vertical-align: top;\n",
       "    }\n",
       "</style>\n",
       "<table border=\"1\" class=\"dataframe\">\n",
       "  <thead>\n",
       "    <tr style=\"text-align: right;\">\n",
       "      <th></th>\n",
       "      <th>Season_Year</th>\n",
       "      <th>GameKey</th>\n",
       "      <th>PlayID</th>\n",
       "      <th>time_since_punt</th>\n",
       "      <th>dis_from_ret</th>\n",
       "    </tr>\n",
       "  </thead>\n",
       "  <tbody>\n",
       "    <tr>\n",
       "      <th>0</th>\n",
       "      <td>2016</td>\n",
       "      <td>3</td>\n",
       "      <td>455</td>\n",
       "      <td>00:00:01</td>\n",
       "      <td>39.068560</td>\n",
       "    </tr>\n",
       "    <tr>\n",
       "      <th>1</th>\n",
       "      <td>2016</td>\n",
       "      <td>3</td>\n",
       "      <td>455</td>\n",
       "      <td>00:00:02</td>\n",
       "      <td>31.370344</td>\n",
       "    </tr>\n",
       "    <tr>\n",
       "      <th>2</th>\n",
       "      <td>2016</td>\n",
       "      <td>3</td>\n",
       "      <td>455</td>\n",
       "      <td>00:00:03</td>\n",
       "      <td>21.645880</td>\n",
       "    </tr>\n",
       "    <tr>\n",
       "      <th>3</th>\n",
       "      <td>2016</td>\n",
       "      <td>3</td>\n",
       "      <td>455</td>\n",
       "      <td>00:00:04</td>\n",
       "      <td>11.321985</td>\n",
       "    </tr>\n",
       "    <tr>\n",
       "      <th>4</th>\n",
       "      <td>2016</td>\n",
       "      <td>3</td>\n",
       "      <td>1542</td>\n",
       "      <td>00:00:01</td>\n",
       "      <td>38.607731</td>\n",
       "    </tr>\n",
       "  </tbody>\n",
       "</table>\n",
       "</div>"
      ],
      "text/plain": [
       "   Season_Year  GameKey  PlayID time_since_punt  dis_from_ret\n",
       "0         2016        3     455        00:00:01     39.068560\n",
       "1         2016        3     455        00:00:02     31.370344\n",
       "2         2016        3     455        00:00:03     21.645880\n",
       "3         2016        3     455        00:00:04     11.321985\n",
       "4         2016        3    1542        00:00:01     38.607731"
      ]
     },
     "execution_count": 42,
     "metadata": {},
     "output_type": "execute_result"
    }
   ],
   "source": [
    "min_dist_from_ret.head()"
   ]
  },
  {
   "cell_type": "code",
   "execution_count": 43,
   "metadata": {},
   "outputs": [],
   "source": [
    "closest_df = cov_ret_df.merge(min_dist_from_ret.drop('time_since_punt', axis = 1), how = 'inner', on=['Season_Year', 'GameKey', 'PlayID', 'dis_from_ret'])"
   ]
  },
  {
   "cell_type": "code",
   "execution_count": 44,
   "metadata": {},
   "outputs": [],
   "source": [
    "#closest_df.groupby(['time_since_punt','cov_Role'], as_index=False)['dis_from_ret'].agg({'# of times closest': 'count','avg distance':np.mean}).sort_values('# of times closest', ascending =False)"
   ]
  },
  {
   "cell_type": "code",
   "execution_count": 45,
   "metadata": {},
   "outputs": [],
   "source": [
    "pos_grouped_df = cov_ret_df.groupby(['cov_Role','time_since_punt', 'outcome'], as_index=False)['dis_from_ret'].mean()"
   ]
  },
  {
   "cell_type": "code",
   "execution_count": null,
   "metadata": {},
   "outputs": [],
   "source": [
    "trace1 = go.Bar(\n",
    "        x=pos_grouped_df.loc[pos_grouped_df.outcome == 'fair_catch']['cov_Role'],\n",
    "        y=pos_grouped_df.loc[pos_grouped_df.outcome == 'fair_catch']['dis_from_ret'],\n",
    "        name='fair catch'\n",
    "    )\n",
    "\n",
    "trace2 = go.Bar(\n",
    "        x=pos_grouped_df.loc[pos_grouped_df.outcome == 'return']['cov_Role'],\n",
    "        y=pos_grouped_df.loc[pos_grouped_df.outcome == 'return']['dis_from_ret'],\n",
    "        name='return'\n",
    "    )\n",
    "\n",
    "data = [trace1, trace2]\n",
    "layout = go.Layout(\n",
    "    barmode='group',\n",
    "    xaxis=dict(title='Position'),\n",
    "    yaxis= dict(title='Avg Distance From Returner (Yds)')\n",
    ")\n",
    "\n",
    "fig=go.Figure(data=data, layout=layout)\n",
    "py.iplot(fig, filename='grouped-bar')"
   ]
  },
  {
   "cell_type": "markdown",
   "metadata": {},
   "source": [
    "#### Punts Landing inside the 20"
   ]
  },
  {
   "cell_type": "code",
   "execution_count": 730,
   "metadata": {},
   "outputs": [],
   "source": [
    "inside_twenty = play_info.loc[(play_info.outcome.isin(['touchback', 'fair_catch',\\\n",
    "                                                      'oob', 'downed', 'return'])) #& (play_info.PlayID == 817)\n",
    "                             ].reset_index(drop=True)"
   ]
  },
  {
   "cell_type": "code",
   "execution_count": 731,
   "metadata": {},
   "outputs": [],
   "source": [
    "#inside_twenty = inside_twenty.loc[inside_twenty.PlayDescription == '(1:34) T.Morstead punts 47 yards to HST 17, Center-C.Highland. T.Ervin to HST 16 for -1 yards (E.Harris).'].reset_index()"
   ]
  },
  {
   "cell_type": "code",
   "execution_count": 732,
   "metadata": {},
   "outputs": [],
   "source": [
    "punt_to_lst = []\n",
    "punt_dist_lst = []\n",
    "return_dist_lst = []"
   ]
  },
  {
   "cell_type": "code",
   "execution_count": 734,
   "metadata": {},
   "outputs": [],
   "source": [
    "string = 'T.Morstead punts 47 yards to 17, Center-C.Highland. T.Ervin to HST 16 for -1 yards '"
   ]
  },
  {
   "cell_type": "code",
   "execution_count": 735,
   "metadata": {},
   "outputs": [],
   "source": [
    "snip = re.search('(to [A-Z]* [0-9]+ for [-+]?[0-9]+ yards?)', string).group(0)"
   ]
  },
  {
   "cell_type": "code",
   "execution_count": 736,
   "metadata": {},
   "outputs": [],
   "source": [
    "for i in range(0, len(inside_twenty)):\n",
    "    punt_search = re.search('(punts [0-9]+ yards? to [A-Z]* [-+]?[0-9]+)| (punts [0-9]+ yards? to [-+]?[0-9]+)', inside_twenty.PlayDescription[i])\n",
    "    return_search = re.search('(to [A-Z]* [0-9]+ for [-+]?[0-9]+ yards?)|(to [0-9]+ for [-+]?[0-9]+ yards?)|(ob at [A-Z]* [-+]?[0-9]+ for [-+]?[0-9]+ yards?)|(ob at [0-9]+ for [-+]?[0-9]+ yards?)|(for [-+]?[0-9]+ yards?, TOUCHDOWN)',\\\n",
    "                              inside_twenty.PlayDescription[i])\n",
    "    if punt_search:\n",
    "        punt_snip = re.findall(r'-?\\d+', punt_search.group(0))\n",
    "        if inside_twenty.outcome[i] in ['downed','fair_catch', 'oob', 'return']:\n",
    "            punt_to_lst.append(int(punt_snip[-1]))\n",
    "            punt_dist_lst.append(int(punt_snip[0]))\n",
    "        else:\n",
    "            if inside_twenty.outcome[i] == 'touchback':\n",
    "                punt_to_lst.append(0)\n",
    "                punt_dist_lst.append(int(punt_snip[0]))\n",
    "            else:\n",
    "                print(i, 'shit')\n",
    "    else:\n",
    "        if inside_twenty.outcome[i] == 'touchback':\n",
    "            punt_to_lst.append(0)\n",
    "            punt_dist_lst.append(int(punt_snip[0]))\n",
    "        else:\n",
    "            print(i, inside_twenty.PlayDescription[i], 'No Punt Search')\n",
    "        \n",
    "    if return_search:\n",
    "        return_snip = re.findall(r'-?\\d+', return_search.group(0))\n",
    "        return_dist_lst.append(int(return_snip[-1]))\n",
    "    else:\n",
    "        if inside_twenty.outcome[i] == 'touchback':\n",
    "            return_dist_lst.append(20)\n",
    "        elif inside_twenty.outcome[i] in ['downed','fair_catch', 'oob']:\n",
    "            return_dist_lst.append(0)\n",
    "        elif 'no gain' in inside_twenty.PlayDescription[i]:\n",
    "            return_dist_lst.append(0)\n",
    "        else:\n",
    "            print(i, 'No Return Search')                                            "
   ]
  },
  {
   "cell_type": "code",
   "execution_count": 740,
   "metadata": {},
   "outputs": [],
   "source": [
    "inside_twenty['punt_to'] = punt_to_lst\n",
    "inside_twenty['punt_dist'] = punt_dist_lst\n",
    "inside_twenty['return_dist'] = return_dist_lst"
   ]
  },
  {
   "cell_type": "code",
   "execution_count": 742,
   "metadata": {},
   "outputs": [],
   "source": [
    "inside_twenty.to_csv('inside_twenty.csv')"
   ]
  },
  {
   "cell_type": "code",
   "execution_count": null,
   "metadata": {},
   "outputs": [],
   "source": [
    "def parse_play_description()"
   ]
  },
  {
   "cell_type": "code",
   "execution_count": null,
   "metadata": {},
   "outputs": [],
   "source": []
  },
  {
   "cell_type": "code",
   "execution_count": null,
   "metadata": {},
   "outputs": [],
   "source": [
    "#Fearing the extra 5 yard penalty, punters will be even more wary of avoiding a touchback.\n",
    "#They will punt the ball shorter and with more hang time, or angle the ball out of bounds.\n",
    "\n",
    "#From a returners perspective, if the ball is heading close to the goaline, they will be more likely to let it bounce \n",
    "#and take the touchback than return it because of the extra 5 yard bonus."
   ]
  }
 ],
 "metadata": {
  "kernelspec": {
   "display_name": "Python 3",
   "language": "python",
   "name": "python3"
  },
  "language_info": {
   "codemirror_mode": {
    "name": "ipython",
    "version": 3
   },
   "file_extension": ".py",
   "mimetype": "text/x-python",
   "name": "python",
   "nbconvert_exporter": "python",
   "pygments_lexer": "ipython3",
   "version": "3.6.0"
  }
 },
 "nbformat": 4,
 "nbformat_minor": 2
}
