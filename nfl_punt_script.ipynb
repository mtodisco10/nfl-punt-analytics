{
 "cells": [
  {
   "cell_type": "code",
   "execution_count": 1,
   "metadata": {},
   "outputs": [],
   "source": [
    "import pandas as pd\n",
    "pd.options.display.max_colwidth = 1000\n",
    "import numpy as np\n",
    "import matplotlib.pyplot as plt\n",
    "import plotly\n",
    "import plotly.plotly as py\n",
    "import plotly.graph_objs as go\n",
    "from plotly import tools, offline\n",
    "plotly.tools.set_credentials_file(username='mtodisco10', api_key='bCfUmq5FralbymKXY4uX')\n",
    "import re\n",
    "import warnings\n",
    "warnings.filterwarnings('ignore')\n",
    "%matplotlib inline\n",
    "from plotly.offline import init_notebook_mode, iplot\n",
    "from IPython.display import display, HTML"
   ]
  },
  {
   "cell_type": "code",
   "execution_count": 2,
   "metadata": {},
   "outputs": [],
   "source": [
    "%run progress_bar.ipynb\n",
    "%run field_layout.ipynb"
   ]
  },
  {
   "cell_type": "code",
   "execution_count": 3,
   "metadata": {},
   "outputs": [],
   "source": [
    "#Read in Data\n",
    "game_data = pd.read_csv('game_data.csv')\n",
    "play_info = pd.read_csv('play_information.csv')\n",
    "play_player_role = pd.read_csv('play_player_role_data.csv')\n",
    "player_punt = pd.read_csv('player_punt_data.csv')\n",
    "video_footage_control = pd.read_csv('video_footage-control.csv')\n",
    "video_footage_injury = pd.read_csv('video_footage-injury.csv')\n",
    "video_review = pd.read_csv('video_review.csv')"
   ]
  },
  {
   "cell_type": "code",
   "execution_count": 4,
   "metadata": {},
   "outputs": [],
   "source": [
    "def read_NGS_data(file_lst):\n",
    "    for i, file in enumerate(file_lst):\n",
    "        print('Reading in {}'.format(file))\n",
    "        data = pd.read_csv(file)\n",
    "        if i == 0:\n",
    "            NGS_df = data\n",
    "            del data\n",
    "        else:\n",
    "            NGS_df = pd.concat([NGS_df, data])\n",
    "            del data\n",
    "    return NGS_df"
   ]
  },
  {
   "cell_type": "code",
   "execution_count": 6,
   "metadata": {},
   "outputs": [],
   "source": [
    "file_lst = ['NGS-2016-pre.csv','NGS-2016-reg-wk1-6.csv','NGS-2016-reg-wk7-12.csv','NGS-2016-reg-wk13-17.csv',\\\n",
    "            'NGS-2016-post.csv','NGS-2017-pre.csv','NGS-2017-reg-wk1-6.csv','NGS-2017-reg-wk7-12.csv',\\\n",
    "            'NGS-2017-reg-wk13-17.csv','NGS-2017-post.csv']"
   ]
  },
  {
   "cell_type": "code",
   "execution_count": 7,
   "metadata": {},
   "outputs": [
    {
     "name": "stdout",
     "output_type": "stream",
     "text": [
      "Reading in NGS-2016-pre.csv\n",
      "Reading in NGS-2016-reg-wk1-6.csv\n",
      "Reading in NGS-2016-reg-wk7-12.csv\n",
      "Reading in NGS-2016-reg-wk13-17.csv\n",
      "Reading in NGS-2016-post.csv\n",
      "Reading in NGS-2017-pre.csv\n",
      "Reading in NGS-2017-reg-wk1-6.csv\n",
      "Reading in NGS-2017-reg-wk7-12.csv\n",
      "Reading in NGS-2017-reg-wk13-17.csv\n",
      "Reading in NGS-2017-post.csv\n"
     ]
    }
   ],
   "source": [
    "#Takes 10-15 mins to read in all Next Gen Stats data\n",
    "NGS_df = read_NGS_data(file_lst)"
   ]
  },
  {
   "cell_type": "markdown",
   "metadata": {},
   "source": [
    "### Injury Plays EDA"
   ]
  },
  {
   "cell_type": "code",
   "execution_count": 8,
   "metadata": {},
   "outputs": [
    {
     "data": {
      "text/plain": [
       "'There are concussion injuries on 0.55% of punt plays'"
      ]
     },
     "execution_count": 8,
     "metadata": {},
     "output_type": "execute_result"
    }
   ],
   "source": [
    "'There are concussion injuries on ' + str(round(len(video_review) / float(len(play_info)) * 100, 2)) + '% of ' + 'punt plays'"
   ]
  },
  {
   "cell_type": "markdown",
   "metadata": {},
   "source": [
    "##### It is good for the NFL and players that injuries only occur on less than 1% of punt plays, but it will be hard to do analysis"
   ]
  },
  {
   "cell_type": "markdown",
   "metadata": {},
   "source": [
    "#### How are players being injured?"
   ]
  },
  {
   "cell_type": "code",
   "execution_count": 9,
   "metadata": {},
   "outputs": [
    {
     "name": "stdout",
     "output_type": "stream",
     "text": [
      "This is the format of your plot grid:\n",
      "[ (1,1) x1,y1 ]  [ (1,2) x2,y2 ]\n",
      "[ (2,1) x3,y3 ]  [ (2,2) x4,y4 ]\n",
      "\n"
     ]
    },
    {
     "data": {
      "text/html": [
       "<iframe id=\"igraph\" scrolling=\"no\" style=\"border:none;\" seamless=\"seamless\" src=\"https://plot.ly/~mtodisco10/59.embed\" height=\"525px\" width=\"100%\"></iframe>"
      ],
      "text/plain": [
       "<plotly.tools.PlotlyDisplay object>"
      ]
     },
     "execution_count": 9,
     "metadata": {},
     "output_type": "execute_result"
    }
   ],
   "source": [
    "trace1 = go.Bar(\n",
    "        x=video_review.groupby(['Player_Activity_Derived'], as_index=False)['PlayID'].count()['Player_Activity_Derived'],\n",
    "        y=video_review.groupby(['Player_Activity_Derived'], as_index=False)['PlayID'].count()['PlayID']\n",
    "    )\n",
    "trace2 = go.Bar(\n",
    "        x=video_review.groupby(['Primary_Impact_Type'], as_index=False)['PlayID'].count()['Primary_Impact_Type'],\n",
    "        y=video_review.groupby(['Primary_Impact_Type'], as_index=False)['PlayID'].count()['PlayID'],\n",
    "    )\n",
    "trace3 = go.Bar(\n",
    "        x=video_review.groupby(['Friendly_Fire'], as_index=False)['PlayID'].count()['Friendly_Fire'],\n",
    "        y=video_review.groupby(['Friendly_Fire'], as_index=False)['PlayID'].count()['PlayID'],\n",
    "    )\n",
    "trace4 = go.Bar(\n",
    "        x=video_review.groupby(['Primary_Partner_Activity_Derived'], as_index=False)['PlayID'].count()['Primary_Partner_Activity_Derived'],\n",
    "        y=video_review.groupby(['Primary_Partner_Activity_Derived'], as_index=False)['PlayID'].count()['PlayID'],\n",
    "    )\n",
    "\n",
    "fig = tools.make_subplots(rows=2, cols=2, subplot_titles=('Player Activity Derived', 'Primary Impact Type',\n",
    "                                                          'Friendly Fire', 'Primary Partner Activity Derived'))\n",
    "\n",
    "fig.append_trace(trace1, 1, 1)\n",
    "fig.append_trace(trace2, 1, 2)\n",
    "fig.append_trace(trace3, 2, 1)\n",
    "fig.append_trace(trace4, 2, 2)\n",
    "\n",
    "fig['layout'].update(showlegend=False)\n",
    "\n",
    "py.iplot(fig, filename='injury-eda')\n"
   ]
  },
  {
   "cell_type": "markdown",
   "metadata": {},
   "source": [
    "### Quick Conclusions\n",
    "    - No player activity stands out\n",
    "    - Helmet to player is primary impact type\n",
    "    - Friendly fire is only clear 16% of the time\n",
    "    - No Partner Activity Stands Out"
   ]
  },
  {
   "cell_type": "markdown",
   "metadata": {},
   "source": [
    "#### Who's getting hurt?"
   ]
  },
  {
   "cell_type": "code",
   "execution_count": 10,
   "metadata": {},
   "outputs": [],
   "source": [
    "#Categorize player punt roles into the sides of the ball\n",
    "return_roles = ['PDL1','PDL2','PDL3','PDL4','PDL5','PDL6','PDM','PDR1','PDR2','PDR3','PDR4','PDR5','PDR6'\n",
    "                ,'PFB','PLL','PLL1','PLL2','PLL3','PLM','PLM1','PLR','PLR1','PLR2','PLR3','PR','VL','VLi'\n",
    "                ,'VLo','VR','VRi','VRo']\n",
    "\n",
    "coverage_roles = ['GL','GLi','GLo','GR','GRi','GRo','P','PC','PLG','PLS','PLT','PLW','PPL','PPLi','PPLo'\n",
    "                 ,'PPR','PPRi','PPRo','PRG','PRT','PRW']\n",
    "\n",
    "gunner_blockers = ['VL','VLi','VLo','VR','VRi','VRo']"
   ]
  },
  {
   "cell_type": "code",
   "execution_count": 11,
   "metadata": {},
   "outputs": [],
   "source": [
    "inj_players = video_review.merge(play_player_role, how='inner', on=['Season_Year', 'GameKey', 'PlayID', 'GSISID'])\n",
    "inj_players.rename(columns={'Role':'inj_role'}, inplace=True)"
   ]
  },
  {
   "cell_type": "code",
   "execution_count": 12,
   "metadata": {},
   "outputs": [],
   "source": [
    "inj_players['inj_side_of_ball'] = np.where(inj_players.inj_role.isin(return_roles), 'return',\n",
    "                                          np.where(inj_players.inj_role.isin(coverage_roles), 'coverage', ''))"
   ]
  },
  {
   "cell_type": "code",
   "execution_count": 13,
   "metadata": {},
   "outputs": [],
   "source": [
    "partner_players = video_review[['Season_Year', 'GameKey', 'PlayID', 'Primary_Partner_GSISID']]\n",
    "partner_players['Primary_Partner_GSISID'] = partner_players.loc[:,'Primary_Partner_GSISID'] \\\n",
    "                                                .replace('Unclear','0').fillna(0).astype(int)\n",
    "partner_players = partner_players.merge(play_player_role, how='left', \\\n",
    "                                        left_on=['Season_Year', 'GameKey', 'PlayID', 'Primary_Partner_GSISID'],\\\n",
    "                                       right_on =['Season_Year', 'GameKey', 'PlayID', 'GSISID'])\n",
    "partner_players = partner_players.drop('GSISID', axis=1)\n",
    "partner_players.rename(columns={'Role':'partner_role'}, inplace=True)\n",
    "partner_players['partner_side_of_ball'] = np.where(partner_players.partner_role.isin(return_roles), 'return',\n",
    "                                          np.where(partner_players.partner_role.isin(coverage_roles), 'coverage', ''))\n",
    "inj_partner_df = pd.concat([inj_players,partner_players[['partner_role','partner_side_of_ball']]], axis = 1)"
   ]
  },
  {
   "cell_type": "code",
   "execution_count": 14,
   "metadata": {
    "scrolled": false
   },
   "outputs": [
    {
     "name": "stdout",
     "output_type": "stream",
     "text": [
      "This is the format of your plot grid:\n",
      "[ (1,1) x1,y1 ]  [ (1,2) x2,y2 ]\n",
      "\n"
     ]
    },
    {
     "data": {
      "text/html": [
       "<iframe id=\"igraph\" scrolling=\"no\" style=\"border:none;\" seamless=\"seamless\" src=\"https://plot.ly/~mtodisco10/61.embed\" height=\"525px\" width=\"100%\"></iframe>"
      ],
      "text/plain": [
       "<plotly.tools.PlotlyDisplay object>"
      ]
     },
     "execution_count": 14,
     "metadata": {},
     "output_type": "execute_result"
    }
   ],
   "source": [
    "trace1 = go.Bar(\n",
    "        x=inj_partner_df.groupby(['inj_side_of_ball'], as_index=False)['PlayID'].count()['inj_side_of_ball'],\n",
    "        y=inj_partner_df.groupby(['inj_side_of_ball'], as_index=False)['PlayID'].count()['PlayID']\n",
    "    )\n",
    "\n",
    "trace2 = go.Bar(\n",
    "        x=inj_partner_df.groupby(['partner_side_of_ball'], as_index=False)['PlayID'].count()['partner_side_of_ball'],\n",
    "        y=inj_partner_df.groupby(['partner_side_of_ball'], as_index=False)['PlayID'].count()['PlayID']\n",
    "    )\n",
    "\n",
    "fig = tools.make_subplots(rows=1, cols=2, subplot_titles=('Injured Side of Ball', 'Partner Side of Ball'))\n",
    "\n",
    "fig.append_trace(trace1, 1, 1)\n",
    "fig.append_trace(trace2, 1, 2)\n",
    "\n",
    "fig['layout'].update(showlegend=False)\n",
    "\n",
    "py.iplot(fig, filename='side-of-ball')"
   ]
  },
  {
   "cell_type": "code",
   "execution_count": 15,
   "metadata": {},
   "outputs": [
    {
     "data": {
      "text/html": [
       "<div>\n",
       "<style>\n",
       "    .dataframe thead tr:only-child th {\n",
       "        text-align: right;\n",
       "    }\n",
       "\n",
       "    .dataframe thead th {\n",
       "        text-align: left;\n",
       "    }\n",
       "\n",
       "    .dataframe tbody tr th {\n",
       "        vertical-align: top;\n",
       "    }\n",
       "</style>\n",
       "<table border=\"1\" class=\"dataframe\">\n",
       "  <thead>\n",
       "    <tr style=\"text-align: right;\">\n",
       "      <th>partner_role</th>\n",
       "      <th>GR</th>\n",
       "      <th>PDL1</th>\n",
       "      <th>PDR1</th>\n",
       "      <th>PDR2</th>\n",
       "      <th>PDR3</th>\n",
       "      <th>PLG</th>\n",
       "      <th>PLL1</th>\n",
       "      <th>PLS</th>\n",
       "      <th>PLT</th>\n",
       "      <th>PLW</th>\n",
       "      <th>PPR</th>\n",
       "      <th>PR</th>\n",
       "      <th>PRG</th>\n",
       "      <th>PRT</th>\n",
       "      <th>PRW</th>\n",
       "      <th>VLo</th>\n",
       "      <th>All</th>\n",
       "    </tr>\n",
       "    <tr>\n",
       "      <th>inj_role</th>\n",
       "      <th></th>\n",
       "      <th></th>\n",
       "      <th></th>\n",
       "      <th></th>\n",
       "      <th></th>\n",
       "      <th></th>\n",
       "      <th></th>\n",
       "      <th></th>\n",
       "      <th></th>\n",
       "      <th></th>\n",
       "      <th></th>\n",
       "      <th></th>\n",
       "      <th></th>\n",
       "      <th></th>\n",
       "      <th></th>\n",
       "      <th></th>\n",
       "      <th></th>\n",
       "    </tr>\n",
       "  </thead>\n",
       "  <tbody>\n",
       "    <tr>\n",
       "      <th>GL</th>\n",
       "      <td>1</td>\n",
       "      <td>-</td>\n",
       "      <td>-</td>\n",
       "      <td>-</td>\n",
       "      <td>1</td>\n",
       "      <td>-</td>\n",
       "      <td>1</td>\n",
       "      <td>-</td>\n",
       "      <td>-</td>\n",
       "      <td>-</td>\n",
       "      <td>-</td>\n",
       "      <td>1</td>\n",
       "      <td>-</td>\n",
       "      <td>-</td>\n",
       "      <td>-</td>\n",
       "      <td>-</td>\n",
       "      <td>4.0</td>\n",
       "    </tr>\n",
       "    <tr>\n",
       "      <th>GR</th>\n",
       "      <td>-</td>\n",
       "      <td>-</td>\n",
       "      <td>-</td>\n",
       "      <td>-</td>\n",
       "      <td>-</td>\n",
       "      <td>-</td>\n",
       "      <td>-</td>\n",
       "      <td>-</td>\n",
       "      <td>-</td>\n",
       "      <td>-</td>\n",
       "      <td>-</td>\n",
       "      <td>1</td>\n",
       "      <td>-</td>\n",
       "      <td>-</td>\n",
       "      <td>-</td>\n",
       "      <td>-</td>\n",
       "      <td>1.0</td>\n",
       "    </tr>\n",
       "    <tr>\n",
       "      <th>P</th>\n",
       "      <td>-</td>\n",
       "      <td>-</td>\n",
       "      <td>-</td>\n",
       "      <td>-</td>\n",
       "      <td>-</td>\n",
       "      <td>-</td>\n",
       "      <td>-</td>\n",
       "      <td>-</td>\n",
       "      <td>-</td>\n",
       "      <td>-</td>\n",
       "      <td>-</td>\n",
       "      <td>-</td>\n",
       "      <td>-</td>\n",
       "      <td>-</td>\n",
       "      <td>-</td>\n",
       "      <td>1</td>\n",
       "      <td>1.0</td>\n",
       "    </tr>\n",
       "    <tr>\n",
       "      <th>PDL2</th>\n",
       "      <td>-</td>\n",
       "      <td>-</td>\n",
       "      <td>-</td>\n",
       "      <td>-</td>\n",
       "      <td>-</td>\n",
       "      <td>-</td>\n",
       "      <td>-</td>\n",
       "      <td>1</td>\n",
       "      <td>-</td>\n",
       "      <td>-</td>\n",
       "      <td>-</td>\n",
       "      <td>-</td>\n",
       "      <td>-</td>\n",
       "      <td>-</td>\n",
       "      <td>-</td>\n",
       "      <td>-</td>\n",
       "      <td>1.0</td>\n",
       "    </tr>\n",
       "    <tr>\n",
       "      <th>PDR1</th>\n",
       "      <td>-</td>\n",
       "      <td>-</td>\n",
       "      <td>-</td>\n",
       "      <td>-</td>\n",
       "      <td>-</td>\n",
       "      <td>-</td>\n",
       "      <td>-</td>\n",
       "      <td>-</td>\n",
       "      <td>-</td>\n",
       "      <td>-</td>\n",
       "      <td>-</td>\n",
       "      <td>-</td>\n",
       "      <td>1</td>\n",
       "      <td>-</td>\n",
       "      <td>-</td>\n",
       "      <td>-</td>\n",
       "      <td>1.0</td>\n",
       "    </tr>\n",
       "    <tr>\n",
       "      <th>PFB</th>\n",
       "      <td>-</td>\n",
       "      <td>-</td>\n",
       "      <td>-</td>\n",
       "      <td>-</td>\n",
       "      <td>-</td>\n",
       "      <td>-</td>\n",
       "      <td>-</td>\n",
       "      <td>-</td>\n",
       "      <td>-</td>\n",
       "      <td>-</td>\n",
       "      <td>-</td>\n",
       "      <td>-</td>\n",
       "      <td>-</td>\n",
       "      <td>1</td>\n",
       "      <td>-</td>\n",
       "      <td>-</td>\n",
       "      <td>1.0</td>\n",
       "    </tr>\n",
       "    <tr>\n",
       "      <th>PLG</th>\n",
       "      <td>-</td>\n",
       "      <td>-</td>\n",
       "      <td>1</td>\n",
       "      <td>-</td>\n",
       "      <td>-</td>\n",
       "      <td>-</td>\n",
       "      <td>-</td>\n",
       "      <td>-</td>\n",
       "      <td>-</td>\n",
       "      <td>1</td>\n",
       "      <td>-</td>\n",
       "      <td>-</td>\n",
       "      <td>-</td>\n",
       "      <td>-</td>\n",
       "      <td>1</td>\n",
       "      <td>-</td>\n",
       "      <td>3.0</td>\n",
       "    </tr>\n",
       "    <tr>\n",
       "      <th>PLL</th>\n",
       "      <td>1</td>\n",
       "      <td>-</td>\n",
       "      <td>-</td>\n",
       "      <td>-</td>\n",
       "      <td>-</td>\n",
       "      <td>-</td>\n",
       "      <td>-</td>\n",
       "      <td>-</td>\n",
       "      <td>-</td>\n",
       "      <td>-</td>\n",
       "      <td>-</td>\n",
       "      <td>-</td>\n",
       "      <td>-</td>\n",
       "      <td>-</td>\n",
       "      <td>-</td>\n",
       "      <td>-</td>\n",
       "      <td>1.0</td>\n",
       "    </tr>\n",
       "    <tr>\n",
       "      <th>PLS</th>\n",
       "      <td>-</td>\n",
       "      <td>1</td>\n",
       "      <td>-</td>\n",
       "      <td>-</td>\n",
       "      <td>-</td>\n",
       "      <td>-</td>\n",
       "      <td>-</td>\n",
       "      <td>-</td>\n",
       "      <td>-</td>\n",
       "      <td>-</td>\n",
       "      <td>-</td>\n",
       "      <td>1</td>\n",
       "      <td>-</td>\n",
       "      <td>-</td>\n",
       "      <td>-</td>\n",
       "      <td>-</td>\n",
       "      <td>2.0</td>\n",
       "    </tr>\n",
       "    <tr>\n",
       "      <th>PLT</th>\n",
       "      <td>-</td>\n",
       "      <td>-</td>\n",
       "      <td>-</td>\n",
       "      <td>1</td>\n",
       "      <td>-</td>\n",
       "      <td>-</td>\n",
       "      <td>-</td>\n",
       "      <td>-</td>\n",
       "      <td>-</td>\n",
       "      <td>-</td>\n",
       "      <td>-</td>\n",
       "      <td>1</td>\n",
       "      <td>-</td>\n",
       "      <td>-</td>\n",
       "      <td>-</td>\n",
       "      <td>-</td>\n",
       "      <td>2.0</td>\n",
       "    </tr>\n",
       "    <tr>\n",
       "      <th>PLW</th>\n",
       "      <td>-</td>\n",
       "      <td>-</td>\n",
       "      <td>1</td>\n",
       "      <td>1</td>\n",
       "      <td>-</td>\n",
       "      <td>-</td>\n",
       "      <td>-</td>\n",
       "      <td>-</td>\n",
       "      <td>-</td>\n",
       "      <td>-</td>\n",
       "      <td>-</td>\n",
       "      <td>1</td>\n",
       "      <td>-</td>\n",
       "      <td>-</td>\n",
       "      <td>-</td>\n",
       "      <td>-</td>\n",
       "      <td>3.0</td>\n",
       "    </tr>\n",
       "    <tr>\n",
       "      <th>PPR</th>\n",
       "      <td>-</td>\n",
       "      <td>-</td>\n",
       "      <td>-</td>\n",
       "      <td>-</td>\n",
       "      <td>-</td>\n",
       "      <td>-</td>\n",
       "      <td>-</td>\n",
       "      <td>-</td>\n",
       "      <td>1</td>\n",
       "      <td>-</td>\n",
       "      <td>-</td>\n",
       "      <td>-</td>\n",
       "      <td>-</td>\n",
       "      <td>-</td>\n",
       "      <td>-</td>\n",
       "      <td>-</td>\n",
       "      <td>1.0</td>\n",
       "    </tr>\n",
       "    <tr>\n",
       "      <th>PR</th>\n",
       "      <td>1</td>\n",
       "      <td>-</td>\n",
       "      <td>-</td>\n",
       "      <td>-</td>\n",
       "      <td>-</td>\n",
       "      <td>-</td>\n",
       "      <td>-</td>\n",
       "      <td>-</td>\n",
       "      <td>-</td>\n",
       "      <td>-</td>\n",
       "      <td>1</td>\n",
       "      <td>-</td>\n",
       "      <td>1</td>\n",
       "      <td>1</td>\n",
       "      <td>-</td>\n",
       "      <td>-</td>\n",
       "      <td>4.0</td>\n",
       "    </tr>\n",
       "    <tr>\n",
       "      <th>PRG</th>\n",
       "      <td>-</td>\n",
       "      <td>-</td>\n",
       "      <td>1</td>\n",
       "      <td>-</td>\n",
       "      <td>-</td>\n",
       "      <td>-</td>\n",
       "      <td>-</td>\n",
       "      <td>-</td>\n",
       "      <td>1</td>\n",
       "      <td>-</td>\n",
       "      <td>-</td>\n",
       "      <td>2</td>\n",
       "      <td>-</td>\n",
       "      <td>-</td>\n",
       "      <td>-</td>\n",
       "      <td>-</td>\n",
       "      <td>4.0</td>\n",
       "    </tr>\n",
       "    <tr>\n",
       "      <th>PRT</th>\n",
       "      <td>1</td>\n",
       "      <td>-</td>\n",
       "      <td>-</td>\n",
       "      <td>-</td>\n",
       "      <td>-</td>\n",
       "      <td>-</td>\n",
       "      <td>-</td>\n",
       "      <td>-</td>\n",
       "      <td>-</td>\n",
       "      <td>-</td>\n",
       "      <td>-</td>\n",
       "      <td>1</td>\n",
       "      <td>-</td>\n",
       "      <td>-</td>\n",
       "      <td>-</td>\n",
       "      <td>-</td>\n",
       "      <td>2.0</td>\n",
       "    </tr>\n",
       "    <tr>\n",
       "      <th>PRW</th>\n",
       "      <td>-</td>\n",
       "      <td>1</td>\n",
       "      <td>-</td>\n",
       "      <td>-</td>\n",
       "      <td>-</td>\n",
       "      <td>-</td>\n",
       "      <td>-</td>\n",
       "      <td>-</td>\n",
       "      <td>-</td>\n",
       "      <td>-</td>\n",
       "      <td>-</td>\n",
       "      <td>-</td>\n",
       "      <td>-</td>\n",
       "      <td>-</td>\n",
       "      <td>-</td>\n",
       "      <td>-</td>\n",
       "      <td>1.0</td>\n",
       "    </tr>\n",
       "    <tr>\n",
       "      <th>VR</th>\n",
       "      <td>-</td>\n",
       "      <td>-</td>\n",
       "      <td>-</td>\n",
       "      <td>-</td>\n",
       "      <td>-</td>\n",
       "      <td>1</td>\n",
       "      <td>-</td>\n",
       "      <td>-</td>\n",
       "      <td>-</td>\n",
       "      <td>-</td>\n",
       "      <td>-</td>\n",
       "      <td>-</td>\n",
       "      <td>-</td>\n",
       "      <td>-</td>\n",
       "      <td>-</td>\n",
       "      <td>-</td>\n",
       "      <td>1.0</td>\n",
       "    </tr>\n",
       "    <tr>\n",
       "      <th>All</th>\n",
       "      <td>4</td>\n",
       "      <td>2</td>\n",
       "      <td>3</td>\n",
       "      <td>2</td>\n",
       "      <td>1</td>\n",
       "      <td>1</td>\n",
       "      <td>1</td>\n",
       "      <td>1</td>\n",
       "      <td>2</td>\n",
       "      <td>1</td>\n",
       "      <td>1</td>\n",
       "      <td>8</td>\n",
       "      <td>2</td>\n",
       "      <td>2</td>\n",
       "      <td>1</td>\n",
       "      <td>1</td>\n",
       "      <td>33.0</td>\n",
       "    </tr>\n",
       "  </tbody>\n",
       "</table>\n",
       "</div>"
      ],
      "text/plain": [
       "partner_role GR PDL1 PDR1 PDR2 PDR3 PLG PLL1 PLS PLT PLW PPR PR PRG PRT PRW  \\\n",
       "inj_role                                                                      \n",
       "GL            1    -    -    -    1   -    1   -   -   -   -  1   -   -   -   \n",
       "GR            -    -    -    -    -   -    -   -   -   -   -  1   -   -   -   \n",
       "P             -    -    -    -    -   -    -   -   -   -   -  -   -   -   -   \n",
       "PDL2          -    -    -    -    -   -    -   1   -   -   -  -   -   -   -   \n",
       "PDR1          -    -    -    -    -   -    -   -   -   -   -  -   1   -   -   \n",
       "PFB           -    -    -    -    -   -    -   -   -   -   -  -   -   1   -   \n",
       "PLG           -    -    1    -    -   -    -   -   -   1   -  -   -   -   1   \n",
       "PLL           1    -    -    -    -   -    -   -   -   -   -  -   -   -   -   \n",
       "PLS           -    1    -    -    -   -    -   -   -   -   -  1   -   -   -   \n",
       "PLT           -    -    -    1    -   -    -   -   -   -   -  1   -   -   -   \n",
       "PLW           -    -    1    1    -   -    -   -   -   -   -  1   -   -   -   \n",
       "PPR           -    -    -    -    -   -    -   -   1   -   -  -   -   -   -   \n",
       "PR            1    -    -    -    -   -    -   -   -   -   1  -   1   1   -   \n",
       "PRG           -    -    1    -    -   -    -   -   1   -   -  2   -   -   -   \n",
       "PRT           1    -    -    -    -   -    -   -   -   -   -  1   -   -   -   \n",
       "PRW           -    1    -    -    -   -    -   -   -   -   -  -   -   -   -   \n",
       "VR            -    -    -    -    -   1    -   -   -   -   -  -   -   -   -   \n",
       "All           4    2    3    2    1   1    1   1   2   1   1  8   2   2   1   \n",
       "\n",
       "partner_role VLo   All  \n",
       "inj_role                \n",
       "GL             -   4.0  \n",
       "GR             -   1.0  \n",
       "P              1   1.0  \n",
       "PDL2           -   1.0  \n",
       "PDR1           -   1.0  \n",
       "PFB            -   1.0  \n",
       "PLG            -   3.0  \n",
       "PLL            -   1.0  \n",
       "PLS            -   2.0  \n",
       "PLT            -   2.0  \n",
       "PLW            -   3.0  \n",
       "PPR            -   1.0  \n",
       "PR             -   4.0  \n",
       "PRG            -   4.0  \n",
       "PRT            -   2.0  \n",
       "PRW            -   1.0  \n",
       "VR             -   1.0  \n",
       "All            1  33.0  "
      ]
     },
     "execution_count": 15,
     "metadata": {},
     "output_type": "execute_result"
    }
   ],
   "source": [
    "pd.pivot_table(inj_partner_df, index=['inj_role'], columns=['partner_role'],\n",
    "              values='GSISID', aggfunc='count', margins=True).fillna('-')"
   ]
  },
  {
   "cell_type": "markdown",
   "metadata": {},
   "source": [
    "### Animation"
   ]
  },
  {
   "cell_type": "code",
   "execution_count": 195,
   "metadata": {},
   "outputs": [],
   "source": [
    "ex_play = NGS_df.loc[(NGS_df.Season_Year==2016) & (NGS_df.GameKey== 234) \\\n",
    "                     & (NGS_df.PlayID== 3278) & (NGS_df.GSISID== 28620)\n",
    "                    ].sort_values('Time')"
   ]
  },
  {
   "cell_type": "code",
   "execution_count": 196,
   "metadata": {},
   "outputs": [],
   "source": [
    "ball_snap_time = ex_play.loc[ex_play.Event == 'ball_snap'].Time.min()"
   ]
  },
  {
   "cell_type": "code",
   "execution_count": 197,
   "metadata": {},
   "outputs": [],
   "source": [
    "ex_play = ex_play.loc[ex_play.Time >= ball_snap_time].reset_index(drop=True)"
   ]
  },
  {
   "cell_type": "code",
   "execution_count": 198,
   "metadata": {},
   "outputs": [],
   "source": [
    "ex_play['Event'] = ex_play['Event'].fillna(method='ffill')"
   ]
  },
  {
   "cell_type": "code",
   "execution_count": 199,
   "metadata": {},
   "outputs": [],
   "source": [
    "ret_play = NGS_df.loc[(NGS_df.Season_Year==2016) & (NGS_df.GameKey== 234) \\\n",
    "                     & (NGS_df.PlayID== 3278) & (NGS_df.GSISID== 27860)].sort_values('Time')\n",
    "ret_play = ret_play.loc[ret_play.Time >= ball_snap_time]"
   ]
  },
  {
   "cell_type": "code",
   "execution_count": 200,
   "metadata": {},
   "outputs": [],
   "source": [
    "x = np.array(ex_play.x)\n",
    "y = np.array(ex_play.y)\n",
    "xx = np.array(ex_play.x)\n",
    "yy = np.array(ex_play.y)"
   ]
  },
  {
   "cell_type": "code",
   "execution_count": 201,
   "metadata": {},
   "outputs": [],
   "source": [
    "x1 = np.array(ret_play.x)\n",
    "y1 = np.array(ret_play.y)\n",
    "xx1 = np.array(ret_play.x)\n",
    "yy1 = np.array(ret_play.y)"
   ]
  },
  {
   "cell_type": "code",
   "execution_count": 206,
   "metadata": {
    "scrolled": false
   },
   "outputs": [
    {
     "data": {
      "text/html": [
       "<script type=\"text/javascript\">window.PlotlyConfig = {MathJaxConfig: 'local'};</script><script type=\"text/javascript\">if (window.MathJax) {MathJax.Hub.Config({SVG: {font: \"STIX-Web\"}});}</script><script>requirejs.config({paths: { 'plotly': ['https://cdn.plot.ly/plotly-latest.min']},});if(!window._Plotly) {require(['plotly'],function(plotly) {window._Plotly=plotly;});}</script>"
      ],
      "text/vnd.plotly.v1+html": [
       "<script type=\"text/javascript\">window.PlotlyConfig = {MathJaxConfig: 'local'};</script><script type=\"text/javascript\">if (window.MathJax) {MathJax.Hub.Config({SVG: {font: \"STIX-Web\"}});}</script><script>requirejs.config({paths: { 'plotly': ['https://cdn.plot.ly/plotly-latest.min']},});if(!window._Plotly) {require(['plotly'],function(plotly) {window._Plotly=plotly;});}</script>"
      ]
     },
     "metadata": {},
     "output_type": "display_data"
    },
    {
     "data": {
      "application/vnd.plotly.v1+json": {
       "config": {
        "linkText": "Export to plot.ly",
        "plotlyServerURL": "https://plot.ly",
        "showLink": true
       },
       "data": [
        {
         "line": {
          "width": 2
         },
         "mode": "lines",
         "name": "Distance",
         "textposition": "bottom center",
         "type": "scatter",
         "uid": "4a2df051-a966-4f36-9689-73cbd47e2597",
         "x": [
          59.58000183105469,
          59.56999969482422,
          59.58000183105469,
          59.61000061035156,
          59.68000030517578,
          59.77999877929688,
          59.9099998474121,
          60.040000915527344,
          60.18000030517578,
          60.31999969482422,
          60.4900016784668,
          60.68999862670898,
          60.88000106811523,
          61.06000137329102,
          61.22999954223633,
          61.36999893188477,
          61.47000122070313,
          61.54999923706055,
          61.61999893188477,
          61.68000030517578,
          61.68999862670898,
          61.66999816894531,
          61.61999893188477,
          61.5099983215332,
          61.36999893188477,
          61.18000030517578,
          60.91999816894531,
          60.59000015258789,
          60.22000122070313,
          59.790000915527344,
          59.290000915527344,
          58.7599983215332,
          58.20000076293945,
          57.599998474121094,
          56.97999954223633,
          56.36999893188477,
          55.77000045776367,
          55.18999862670898,
          54.599998474121094,
          53.9900016784668,
          53.36000061035156,
          52.70000076293945,
          52.08000183105469,
          51.52000045776367,
          50.91999816894531,
          50.22999954223633,
          49.52000045776367,
          48.77999877929688,
          48,
          47.16999816894531,
          46.349998474121094,
          45.54999923706055,
          44.7400016784668,
          43.88999938964844,
          43.02999877929688,
          42.180000305175774,
          41.310001373291016,
          40.41999816894531,
          39.52999877929688,
          38.63999938964844,
          37.7400016784668,
          36.849998474121094,
          35.970001220703125,
          35.139999389648445,
          34.299999237060554,
          33.47999954223633,
          32.650001525878906,
          31.84000015258789,
          31.03000068664551,
          30.239999771118164,
          29.459999084472656,
          28.68000030517578,
          27.899999618530273,
          27.149999618530273,
          26.3799991607666,
          25.57999992370605,
          24.790000915527344,
          24.01000022888184,
          23.239999771118164,
          22.489999771118164,
          21.729999542236328,
          20.959999084472656,
          20.18000030517578,
          19.399999618530273,
          18.610000610351566,
          17.829999923706055,
          17.059999465942386,
          16.309999465942386,
          15.5600004196167,
          14.81999969482422,
          14.090000152587892,
          13.409999847412108,
          12.6899995803833,
          11.949999809265135,
          11.359999656677244,
          10.880000114440918,
          10.510000228881836,
          10.289999961853027,
          10.140000343322754,
          10.06999969482422,
          10.090000152587892,
          10.149999618530273,
          10.199999809265137,
          10.260000228881836,
          10.3100004196167,
          10.329999923706056,
          10.340000152587892,
          10.3100004196167,
          10.279999732971193,
          10.289999961853027,
          10.31999969482422,
          10.3100004196167,
          10.340000152587892,
          10.4399995803833,
          10.590000152587892,
          10.729999542236328,
          10.880000114440918,
          11.010000228881836,
          11.079999923706056,
          11.109999656677246,
          11.100000381469727,
          11.090000152587892,
          11.090000152587892,
          11.109999656677246,
          11.149999618530273,
          11.199999809265137,
          11.270000457763672,
          11.359999656677244,
          11.369999885559082,
          11.340000152587892,
          11.3100004196167,
          11.289999961853027,
          11.279999732971193,
          11.270000457763672,
          11.260000228881836,
          11.239999771118164,
          11.1899995803833,
          11.119999885559082,
          11.050000190734863,
          11.020000457763672,
          11.020000457763672,
          11.050000190734863,
          11.039999961853027,
          11.079999923706056,
          11.079999923706056,
          11.090000152587892,
          11.100000381469727,
          11.109999656677246,
          11.020000457763672,
          10.949999809265137,
          10.970000267028807,
          11.079999923706056,
          11.220000267028807,
          11.270000457763672,
          11.220000267028807,
          11.149999618530273,
          11.109999656677246,
          11.100000381469727,
          11.119999885559082,
          11.119999885559082,
          11.100000381469727,
          11.039999961853027,
          11.010000228881836,
          11.020000457763672,
          11.010000228881836,
          11,
          10.970000267028807,
          10.9399995803833,
          10.899999618530273,
          10.859999656677246,
          10.779999732971193,
          10.710000038146973,
          10.720000267028807,
          10.710000038146973,
          10.68000030517578,
          10.649999618530273,
          10.630000114440918,
          10.609999656677246,
          10.520000457763672,
          10.460000038146973,
          10.479999542236328,
          10.510000228881836,
          10.550000190734863,
          10.579999923706056,
          10.609999656677246,
          10.630000114440918,
          10.630000114440918,
          10.609999656677246,
          10.520000457763672,
          10.380000114440918,
          10.289999961853027,
          10.25,
          10.239999771118164,
          10.25,
          10.170000076293944,
          9.970000267028807,
          10.0600004196167,
          10.109999656677246,
          10.149999618530273,
          10.199999809265137,
          10.25,
          10.329999923706056,
          10.43000030517578,
          10.5,
          10.550000190734863,
          10.590000152587892,
          10.5600004196167
         ],
         "y": [
          30.729999542236328,
          30.729999542236328,
          30.71999931335449,
          30.71999931335449,
          30.71999931335449,
          30.71999931335449,
          30.71999931335449,
          30.71999931335449,
          30.71999931335449,
          30.71999931335449,
          30.70000076293945,
          30.65999984741211,
          30.6200008392334,
          30.610000610351573,
          30.59000015258789,
          30.59000015258789,
          30.6299991607666,
          30.76000022888184,
          30.920000076293945,
          31.1200008392334,
          31.319999694824208,
          31.559999465942386,
          31.85000038146973,
          32.189998626708984,
          32.529998779296875,
          32.880001068115234,
          33.259998321533196,
          33.669998168945305,
          34.09000015258789,
          34.47999954223633,
          34.830001831054695,
          35.16999816894532,
          35.47999954223633,
          35.7599983215332,
          36.04999923706055,
          36.36000061035156,
          36.70000076293945,
          37.08000183105469,
          37.4900016784668,
          37.930000305175774,
          38.36999893188477,
          38.790000915527344,
          39.180000305175774,
          39.5,
          39.83000183105469,
          40.1599998474121,
          40.4900016784668,
          40.77999877929688,
          41.06999969482422,
          41.34000015258789,
          41.58000183105469,
          41.77999877929688,
          41.97000122070313,
          42.13000106811523,
          42.27999877929688,
          42.41999816894531,
          42.540000915527344,
          42.650001525878906,
          42.75,
          42.86000061035156,
          42.97999954223633,
          43.09000015258789,
          43.209999084472656,
          43.34000015258789,
          43.47999954223633,
          43.63999938964844,
          43.810001373291016,
          44,
          44.209999084472656,
          44.47000122070313,
          44.7400016784668,
          45.040000915527344,
          45.36000061035156,
          45.709999084472656,
          46.06999969482422,
          46.43999862670898,
          46.81999969482422,
          47.209999084472656,
          47.599998474121094,
          48,
          48.38000106811523,
          48.75,
          49.11999893188477,
          49.47999954223633,
          49.849998474121094,
          50.209999084472656,
          50.56999969482422,
          50.9099998474121,
          51.22999954223633,
          51.52000045776367,
          51.790000915527344,
          52.02000045776367,
          52.25,
          52.4900016784668,
          52.66999816894531,
          52.77999877929688,
          52.88000106811523,
          52.97999954223633,
          53.040000915527344,
          53.04999923706055,
          53.06000137329102,
          53.09000015258789,
          53.13000106811523,
          53.11999893188477,
          53.08000183105469,
          53.040000915527344,
          53.040000915527344,
          53.04999923706055,
          53.06000137329102,
          53.02999877929688,
          53.0099983215332,
          53,
          52.97000122070313,
          52.88999938964844,
          52.790000915527344,
          52.72000122070313,
          52.6599998474121,
          52.66999816894531,
          52.70000076293945,
          52.709999084472656,
          52.77000045776367,
          52.83000183105469,
          52.86999893188477,
          52.88000106811523,
          52.86000061035156,
          52.81000137329102,
          52.66999816894531,
          52.47000122070313,
          52.47999954223633,
          52.56999969482422,
          52.68000030517578,
          52.77000045776367,
          52.81999969482422,
          52.86999893188477,
          52.9000015258789,
          52.95000076293945,
          53,
          53.04999923706055,
          53.11000061035156,
          53.1599998474121,
          53.1500015258789,
          53.099998474121094,
          53.11000061035156,
          53.1599998474121,
          53.22000122070313,
          53.27999877929688,
          53.33000183105469,
          53.4000015258789,
          53.47000122070313,
          53.58000183105469,
          53.709999084472656,
          53.79999923706055,
          53.88000106811523,
          53.93999862670898,
          53.84000015258789,
          53.7400016784668,
          53.68999862670898,
          53.6599998474121,
          53.66999816894531,
          53.68999862670898,
          53.709999084472656,
          53.6599998474121,
          53.5099983215332,
          53.38000106811523,
          53.36000061035156,
          53.45000076293945,
          53.56000137329102,
          53.68999862670898,
          53.86000061035156,
          53.97999954223633,
          54.040000915527344,
          54.08000183105469,
          54.11000061035156,
          54.1599998474121,
          54.20000076293945,
          54.2400016784668,
          54.27000045776367,
          54.27999877929688,
          54.29999923706055,
          54.29999923706055,
          54.27000045776367,
          54.2400016784668,
          54.20000076293945,
          54.16999816894531,
          54.13999938964844,
          54.11999893188477,
          54.11000061035156,
          54.13000106811523,
          54.1599998474121,
          54.11999893188477,
          54.099998474121094,
          54.11999893188477,
          54.1500015258789,
          54.18000030517578,
          54.22999954223633,
          54.290000915527344,
          54.290000915527344,
          54.2400016784668,
          54.16999816894531,
          54.11000061035156,
          54.11000061035156,
          54.1599998474121,
          54.209999084472656,
          54.27000045776367,
          54.36000061035156,
          54.43000030517578,
          54.47000122070313
         ]
        },
        {
         "marker": {
          "size": 15
         },
         "mode": "markers",
         "name": "Injured Player",
         "type": "scatter",
         "uid": "3a43eb0f-f563-42c2-8991-c88fb4e8fe75",
         "x": [
          59.58000183105469,
          59.56999969482422,
          59.58000183105469,
          59.61000061035156,
          59.68000030517578,
          59.77999877929688,
          59.9099998474121,
          60.040000915527344,
          60.18000030517578,
          60.31999969482422,
          60.4900016784668,
          60.68999862670898,
          60.88000106811523,
          61.06000137329102,
          61.22999954223633,
          61.36999893188477,
          61.47000122070313,
          61.54999923706055,
          61.61999893188477,
          61.68000030517578,
          61.68999862670898,
          61.66999816894531,
          61.61999893188477,
          61.5099983215332,
          61.36999893188477,
          61.18000030517578,
          60.91999816894531,
          60.59000015258789,
          60.22000122070313,
          59.790000915527344,
          59.290000915527344,
          58.7599983215332,
          58.20000076293945,
          57.599998474121094,
          56.97999954223633,
          56.36999893188477,
          55.77000045776367,
          55.18999862670898,
          54.599998474121094,
          53.9900016784668,
          53.36000061035156,
          52.70000076293945,
          52.08000183105469,
          51.52000045776367,
          50.91999816894531,
          50.22999954223633,
          49.52000045776367,
          48.77999877929688,
          48,
          47.16999816894531,
          46.349998474121094,
          45.54999923706055,
          44.7400016784668,
          43.88999938964844,
          43.02999877929688,
          42.180000305175774,
          41.310001373291016,
          40.41999816894531,
          39.52999877929688,
          38.63999938964844,
          37.7400016784668,
          36.849998474121094,
          35.970001220703125,
          35.139999389648445,
          34.299999237060554,
          33.47999954223633,
          32.650001525878906,
          31.84000015258789,
          31.03000068664551,
          30.239999771118164,
          29.459999084472656,
          28.68000030517578,
          27.899999618530273,
          27.149999618530273,
          26.3799991607666,
          25.57999992370605,
          24.790000915527344,
          24.01000022888184,
          23.239999771118164,
          22.489999771118164,
          21.729999542236328,
          20.959999084472656,
          20.18000030517578,
          19.399999618530273,
          18.610000610351566,
          17.829999923706055,
          17.059999465942386,
          16.309999465942386,
          15.5600004196167,
          14.81999969482422,
          14.090000152587892,
          13.409999847412108,
          12.6899995803833,
          11.949999809265135,
          11.359999656677244,
          10.880000114440918,
          10.510000228881836,
          10.289999961853027,
          10.140000343322754,
          10.06999969482422,
          10.090000152587892,
          10.149999618530273,
          10.199999809265137,
          10.260000228881836,
          10.3100004196167,
          10.329999923706056,
          10.340000152587892,
          10.3100004196167,
          10.279999732971193,
          10.289999961853027,
          10.31999969482422,
          10.3100004196167,
          10.340000152587892,
          10.4399995803833,
          10.590000152587892,
          10.729999542236328,
          10.880000114440918,
          11.010000228881836,
          11.079999923706056,
          11.109999656677246,
          11.100000381469727,
          11.090000152587892,
          11.090000152587892,
          11.109999656677246,
          11.149999618530273,
          11.199999809265137,
          11.270000457763672,
          11.359999656677244,
          11.369999885559082,
          11.340000152587892,
          11.3100004196167,
          11.289999961853027,
          11.279999732971193,
          11.270000457763672,
          11.260000228881836,
          11.239999771118164,
          11.1899995803833,
          11.119999885559082,
          11.050000190734863,
          11.020000457763672,
          11.020000457763672,
          11.050000190734863,
          11.039999961853027,
          11.079999923706056,
          11.079999923706056,
          11.090000152587892,
          11.100000381469727,
          11.109999656677246,
          11.020000457763672,
          10.949999809265137,
          10.970000267028807,
          11.079999923706056,
          11.220000267028807,
          11.270000457763672,
          11.220000267028807,
          11.149999618530273,
          11.109999656677246,
          11.100000381469727,
          11.119999885559082,
          11.119999885559082,
          11.100000381469727,
          11.039999961853027,
          11.010000228881836,
          11.020000457763672,
          11.010000228881836,
          11,
          10.970000267028807,
          10.9399995803833,
          10.899999618530273,
          10.859999656677246,
          10.779999732971193,
          10.710000038146973,
          10.720000267028807,
          10.710000038146973,
          10.68000030517578,
          10.649999618530273,
          10.630000114440918,
          10.609999656677246,
          10.520000457763672,
          10.460000038146973,
          10.479999542236328,
          10.510000228881836,
          10.550000190734863,
          10.579999923706056,
          10.609999656677246,
          10.630000114440918,
          10.630000114440918,
          10.609999656677246,
          10.520000457763672,
          10.380000114440918,
          10.289999961853027,
          10.25,
          10.239999771118164,
          10.25,
          10.170000076293944,
          9.970000267028807,
          10.0600004196167,
          10.109999656677246,
          10.149999618530273,
          10.199999809265137,
          10.25,
          10.329999923706056,
          10.43000030517578,
          10.5,
          10.550000190734863,
          10.590000152587892,
          10.5600004196167
         ],
         "y": [
          30.729999542236328,
          30.729999542236328,
          30.71999931335449,
          30.71999931335449,
          30.71999931335449,
          30.71999931335449,
          30.71999931335449,
          30.71999931335449,
          30.71999931335449,
          30.71999931335449,
          30.70000076293945,
          30.65999984741211,
          30.6200008392334,
          30.610000610351573,
          30.59000015258789,
          30.59000015258789,
          30.6299991607666,
          30.76000022888184,
          30.920000076293945,
          31.1200008392334,
          31.319999694824208,
          31.559999465942386,
          31.85000038146973,
          32.189998626708984,
          32.529998779296875,
          32.880001068115234,
          33.259998321533196,
          33.669998168945305,
          34.09000015258789,
          34.47999954223633,
          34.830001831054695,
          35.16999816894532,
          35.47999954223633,
          35.7599983215332,
          36.04999923706055,
          36.36000061035156,
          36.70000076293945,
          37.08000183105469,
          37.4900016784668,
          37.930000305175774,
          38.36999893188477,
          38.790000915527344,
          39.180000305175774,
          39.5,
          39.83000183105469,
          40.1599998474121,
          40.4900016784668,
          40.77999877929688,
          41.06999969482422,
          41.34000015258789,
          41.58000183105469,
          41.77999877929688,
          41.97000122070313,
          42.13000106811523,
          42.27999877929688,
          42.41999816894531,
          42.540000915527344,
          42.650001525878906,
          42.75,
          42.86000061035156,
          42.97999954223633,
          43.09000015258789,
          43.209999084472656,
          43.34000015258789,
          43.47999954223633,
          43.63999938964844,
          43.810001373291016,
          44,
          44.209999084472656,
          44.47000122070313,
          44.7400016784668,
          45.040000915527344,
          45.36000061035156,
          45.709999084472656,
          46.06999969482422,
          46.43999862670898,
          46.81999969482422,
          47.209999084472656,
          47.599998474121094,
          48,
          48.38000106811523,
          48.75,
          49.11999893188477,
          49.47999954223633,
          49.849998474121094,
          50.209999084472656,
          50.56999969482422,
          50.9099998474121,
          51.22999954223633,
          51.52000045776367,
          51.790000915527344,
          52.02000045776367,
          52.25,
          52.4900016784668,
          52.66999816894531,
          52.77999877929688,
          52.88000106811523,
          52.97999954223633,
          53.040000915527344,
          53.04999923706055,
          53.06000137329102,
          53.09000015258789,
          53.13000106811523,
          53.11999893188477,
          53.08000183105469,
          53.040000915527344,
          53.040000915527344,
          53.04999923706055,
          53.06000137329102,
          53.02999877929688,
          53.0099983215332,
          53,
          52.97000122070313,
          52.88999938964844,
          52.790000915527344,
          52.72000122070313,
          52.6599998474121,
          52.66999816894531,
          52.70000076293945,
          52.709999084472656,
          52.77000045776367,
          52.83000183105469,
          52.86999893188477,
          52.88000106811523,
          52.86000061035156,
          52.81000137329102,
          52.66999816894531,
          52.47000122070313,
          52.47999954223633,
          52.56999969482422,
          52.68000030517578,
          52.77000045776367,
          52.81999969482422,
          52.86999893188477,
          52.9000015258789,
          52.95000076293945,
          53,
          53.04999923706055,
          53.11000061035156,
          53.1599998474121,
          53.1500015258789,
          53.099998474121094,
          53.11000061035156,
          53.1599998474121,
          53.22000122070313,
          53.27999877929688,
          53.33000183105469,
          53.4000015258789,
          53.47000122070313,
          53.58000183105469,
          53.709999084472656,
          53.79999923706055,
          53.88000106811523,
          53.93999862670898,
          53.84000015258789,
          53.7400016784668,
          53.68999862670898,
          53.6599998474121,
          53.66999816894531,
          53.68999862670898,
          53.709999084472656,
          53.6599998474121,
          53.5099983215332,
          53.38000106811523,
          53.36000061035156,
          53.45000076293945,
          53.56000137329102,
          53.68999862670898,
          53.86000061035156,
          53.97999954223633,
          54.040000915527344,
          54.08000183105469,
          54.11000061035156,
          54.1599998474121,
          54.20000076293945,
          54.2400016784668,
          54.27000045776367,
          54.27999877929688,
          54.29999923706055,
          54.29999923706055,
          54.27000045776367,
          54.2400016784668,
          54.20000076293945,
          54.16999816894531,
          54.13999938964844,
          54.11999893188477,
          54.11000061035156,
          54.13000106811523,
          54.1599998474121,
          54.11999893188477,
          54.099998474121094,
          54.11999893188477,
          54.1500015258789,
          54.18000030517578,
          54.22999954223633,
          54.290000915527344,
          54.290000915527344,
          54.2400016784668,
          54.16999816894531,
          54.11000061035156,
          54.11000061035156,
          54.1599998474121,
          54.209999084472656,
          54.27000045776367,
          54.36000061035156,
          54.43000030517578,
          54.47000122070313
         ]
        },
        {
         "marker": {
          "color": "orange",
          "size": 15
         },
         "mode": "markers",
         "name": "Partner Player",
         "type": "scatter",
         "uid": "c26171a7-25f4-4e63-b1c1-6ce31bafc5b0",
         "x": [
          19.8799991607666,
          19.8700008392334,
          19.860000610351566,
          19.850000381469727,
          19.860000610351566,
          19.8700008392334,
          19.8700008392334,
          19.8700008392334,
          19.860000610351566,
          19.860000610351566,
          19.860000610351566,
          19.8700008392334,
          19.860000610351566,
          19.850000381469727,
          19.8799991607666,
          19.88999938964844,
          19.88999938964844,
          19.90999984741211,
          19.90999984741211,
          19.88999938964844,
          19.88999938964844,
          19.8799991607666,
          19.8700008392334,
          19.8799991607666,
          19.8700008392334,
          19.8700008392334,
          19.850000381469727,
          19.81999969482421,
          19.790000915527344,
          19.770000457763672,
          19.770000457763672,
          19.770000457763672,
          19.76000022888184,
          19.75,
          19.75,
          19.729999542236328,
          19.729999542236328,
          19.75,
          19.770000457763672,
          19.770000457763672,
          19.770000457763672,
          19.770000457763672,
          19.790000915527344,
          19.840000152587887,
          19.88999938964844,
          19.950000762939453,
          20.030000686645508,
          20.100000381469727,
          20.170000076293945,
          20.270000457763672,
          20.3700008392334,
          20.440000534057614,
          20.46999931335449,
          20.459999084472656,
          20.420000076293945,
          20.3700008392334,
          20.280000686645508,
          20.110000610351566,
          19.899999618530273,
          19.65999984741211,
          19.420000076293945,
          19.170000076293945,
          18.93000030517578,
          18.649999618530273,
          18.32999992370605,
          18,
          17.670000076293945,
          17.319999694824222,
          16.959999084472653,
          16.610000610351566,
          16.25,
          15.869999885559082,
          15.460000038146973,
          15.06999969482422,
          14.75,
          14.380000114440918,
          14.010000228881836,
          13.649999618530273,
          13.289999961853027,
          12.93000030517578,
          12.590000152587892,
          12.3100004196167,
          12.020000457763672,
          11.8100004196167,
          11.659999847412108,
          11.539999961853027,
          11.479999542236328,
          11.489999771118164,
          11.590000152587892,
          11.789999961853027,
          11.920000076293945,
          11.979999542236328,
          11.9399995803833,
          11.829999923706055,
          11.670000076293945,
          11.5,
          11.31999969482422,
          11.149999618530273,
          11.029999732971193,
          10.909999847412108,
          10.720000267028807,
          10.520000457763672,
          10.550000190734863,
          10.649999618530273,
          10.729999542236328,
          10.869999885559082,
          11.0600004196167,
          11.149999618530273,
          11.229999542236328,
          11.329999923706055,
          11.390000343322756,
          11.43000030517578,
          11.449999809265135,
          11.380000114440918,
          11.289999961853027,
          11.279999732971193,
          11.289999961853027,
          11.31999969482422,
          11.350000381469727,
          11.43000030517578,
          11.5,
          11.640000343322756,
          11.779999732971193,
          11.909999847412108,
          12.020000457763672,
          12.100000381469727,
          12.18000030517578,
          12.270000457763672,
          12.390000343322756,
          12.479999542236328,
          12.590000152587892,
          12.659999847412108,
          12.739999771118164,
          12.880000114440918,
          13.039999961853027,
          13.1899995803833,
          13.359999656677244,
          13.550000190734865,
          13.729999542236328,
          13.9399995803833,
          14.109999656677244,
          14.239999771118164,
          14.390000343322756,
          14.600000381469727,
          14.800000190734865,
          15.029999732971193,
          15.3100004196167,
          15.489999771118164,
          15.600000381469727,
          15.739999771118164,
          15.909999847412108,
          16.180000305175778,
          16.379999160766598,
          16.559999465942386,
          16.719999313354492,
          16.860000610351566,
          17.010000228881836,
          17.209999084472653,
          17.430000305175778,
          17.65999984741211,
          17.84000015258789,
          17.979999542236328,
          18.1200008392334,
          18.31999969482421,
          18.57999992370605,
          18.82999992370605,
          19.06999969482421,
          19.299999237060547,
          19.5,
          19.690000534057614,
          19.88999938964844,
          20.090000152587887,
          20.340000152587887,
          20.61000061035156,
          20.860000610351566,
          21.06999969482421,
          21.270000457763672,
          21.5,
          21.709999084472656,
          21.920000076293945,
          22.170000076293945,
          22.399999618530273,
          22.6200008392334,
          22.79999923706055,
          22.989999771118164,
          23.209999084472656,
          23.479999542236328,
          23.739999771118164,
          23.979999542236328,
          24.21999931335449,
          24.440000534057607,
          24.649999618530273,
          24.8799991607666,
          25.1299991607666,
          25.399999618530273,
          25.649999618530273,
          25.88999938964844,
          26.1200008392334,
          26.32999992370605,
          26.54999923706055,
          26.819999694824208,
          27.10000038146973,
          27.35000038146973,
          27.59000015258789,
          27.79999923706055,
          28.020000457763672,
          28.25
         ],
         "y": [
          29.739999771118164,
          29.729999542236328,
          29.739999771118164,
          29.739999771118164,
          29.739999771118164,
          29.76000022888184,
          29.76000022888184,
          29.770000457763672,
          29.78000068664551,
          29.790000915527344,
          29.809999465942386,
          29.809999465942386,
          29.790000915527344,
          29.76000022888184,
          29.75,
          29.739999771118164,
          29.739999771118164,
          29.739999771118164,
          29.75,
          29.729999542236328,
          29.729999542236328,
          29.68000030517578,
          29.68000030517578,
          29.70000076293945,
          29.690000534057607,
          29.690000534057607,
          29.709999084472656,
          29.76000022888184,
          29.79999923706055,
          29.84000015258789,
          29.93000030517578,
          30.04999923706055,
          30.25,
          30.489999771118164,
          30.76000022888184,
          31.110000610351573,
          31.46999931335449,
          31.8799991607666,
          32.279998779296875,
          32.72999954223633,
          33.18000030517578,
          33.669998168945305,
          34.16999816894532,
          34.65999984741211,
          35.15999984741211,
          35.630001068115234,
          36.099998474121094,
          36.63999938964844,
          37.16999816894531,
          37.709999084472656,
          38.2400016784668,
          38.77000045776367,
          39.27000045776367,
          39.77000045776367,
          40.27000045776367,
          40.7599983215332,
          41.2400016784668,
          41.709999084472656,
          42.180000305175774,
          42.63999938964844,
          43.06999969482422,
          43.52000045776367,
          44.0099983215332,
          44.47000122070313,
          44.93999862670898,
          45.4099998474121,
          45.86000061035156,
          46.31999969482422,
          46.75,
          47.16999816894531,
          47.599998474121094,
          48.02999877929688,
          48.45000076293945,
          48.86999893188477,
          49.31999969482422,
          49.7599983215332,
          50.2400016784668,
          50.68999862670898,
          51.11000061035156,
          51.47000122070313,
          51.84000015258789,
          52.22000122070313,
          52.52000045776367,
          52.7400016784668,
          52.95000076293945,
          53.06000137329102,
          53.06999969482422,
          53.11000061035156,
          53.13000106811523,
          52.9900016784668,
          52.83000183105469,
          52.63999938964844,
          52.459999084472656,
          52.2599983215332,
          52.02000045776367,
          51.790000915527344,
          51.599998474121094,
          51.38000106811523,
          51.22999954223633,
          51.13999938964844,
          51.11000061035156,
          51.11999893188477,
          51.09000015258789,
          51.09000015258789,
          51.04999923706055,
          50.9900016784668,
          50.9000015258789,
          50.77000045776367,
          50.6500015258789,
          50.56000137329102,
          50.56999969482422,
          50.68000030517578,
          50.83000183105469,
          51.02000045776367,
          51.20000076293945,
          51.33000183105469,
          51.38000106811523,
          51.33000183105469,
          51.209999084472656,
          51.09000015258789,
          50.9000015258789,
          50.72000122070313,
          50.56000137329102,
          50.38999938964844,
          50.22999954223633,
          50.09000015258789,
          49.93000030517578,
          49.75,
          49.56000137329102,
          49.33000183105469,
          49.11999893188477,
          48.9099998474121,
          48.7400016784668,
          48.56000137329102,
          48.43000030517578,
          48.25,
          48.06000137329102,
          47.86999893188477,
          47.6599998474121,
          47.43999862670898,
          47.22000122070313,
          47,
          46.75,
          46.52000045776367,
          46.290000915527344,
          46.09000015258789,
          45.95000076293945,
          45.709999084472656,
          45.4099998474121,
          45.11000061035156,
          44.83000183105469,
          44.540000915527344,
          44.209999084472656,
          43.91999816894531,
          43.63999938964844,
          43.38000106811523,
          43.11000061035156,
          42.84000015258789,
          42.540000915527344,
          42.2400016784668,
          41.93999862670898,
          41.63000106811523,
          41.33000183105469,
          41.02000045776367,
          40.72000122070313,
          40.41999816894531,
          40.099998474121094,
          39.790000915527344,
          39.459999084472656,
          39.11999893188477,
          38.77999877929688,
          38.459999084472656,
          38.13999938964844,
          37.84000015258789,
          37.540000915527344,
          37.22999954223633,
          36.93999862670898,
          36.650001525878906,
          36.349998474121094,
          36.040000915527344,
          35.7400016784668,
          35.43000030517578,
          35.130001068115234,
          34.810001373291016,
          34.509998321533196,
          34.209999084472656,
          33.91999816894532,
          33.61000061035157,
          33.290000915527344,
          32.959999084472656,
          32.610000610351555,
          32.279998779296875,
          31.96999931335449,
          31.68000030517578,
          31.38999938964844,
          31.10000038146973,
          30.79999923706055,
          30.489999771118164,
          30.190000534057607,
          29.899999618530273,
          29.60000038146973,
          29.319999694824208,
          29.03000068664551,
          28.739999771118164,
          28.459999084472656,
          28.18000030517578,
          27.90999984741211
         ]
        }
       ],
       "frames": [
        {
         "data": [
          {
           "marker": {
            "color": "#013369",
            "size": 15
           },
           "mode": "markers",
           "name": "Partner Player",
           "type": "scatter",
           "x": [
            19.8799991607666
           ],
           "y": [
            29.739999771118164
           ]
          },
          {
           "marker": {
            "color": "orange",
            "size": 15
           },
           "mode": "markers",
           "name": "Injured Player",
           "type": "scatter",
           "x": [
            59.58000183105469
           ],
           "y": [
            30.729999542236328
           ]
          },
          {
           "line": {
            "color": "#2c3539",
            "width": 2
           },
           "mode": "lines",
           "name": "Distance",
           "text": "Distance: 40.0",
           "textposition": "bottom center",
           "type": "scatter",
           "x": [
            59.58000183105469,
            19.8799991607666,
            null,
            59.58000183105469,
            19.8799991607666
           ],
           "y": [
            30.729999542236328,
            29.739999771118164,
            null,
            30.729999542236328,
            29.739999771118164
           ]
          }
         ],
         "layout": {
          "annotations": [
           {
            "align": "center",
            "bgcolor": "#2c3539",
            "bordercolor": "#c7c7c7",
            "borderpad": 4,
            "borderwidth": 2,
            "font": {
             "color": "#ffffff",
             "family": "Courier New, monospace",
             "size": 14
            },
            "opacity": 0.8,
            "showarrow": false,
            "text": "40.0 Yds",
            "x": 100,
            "y": 5
           }
          ],
          "title": "ball_snap"
         }
        },
        {
         "data": [
          {
           "marker": {
            "color": "#013369",
            "size": 15
           },
           "mode": "markers",
           "name": "Partner Player",
           "type": "scatter",
           "x": [
            19.8700008392334
           ],
           "y": [
            29.76000022888184
           ]
          },
          {
           "marker": {
            "color": "orange",
            "size": 15
           },
           "mode": "markers",
           "name": "Injured Player",
           "type": "scatter",
           "x": [
            59.77999877929688
           ],
           "y": [
            30.71999931335449
           ]
          },
          {
           "line": {
            "color": "#2c3539",
            "width": 2
           },
           "mode": "lines",
           "name": "Distance",
           "text": "Distance: 40.0",
           "textposition": "bottom center",
           "type": "scatter",
           "x": [
            59.77999877929688,
            19.8700008392334,
            null,
            59.77999877929688,
            19.8700008392334
           ],
           "y": [
            30.71999931335449,
            29.76000022888184,
            null,
            30.71999931335449,
            29.76000022888184
           ]
          }
         ],
         "layout": {
          "annotations": [
           {
            "align": "center",
            "bgcolor": "#2c3539",
            "bordercolor": "#c7c7c7",
            "borderpad": 4,
            "borderwidth": 2,
            "font": {
             "color": "#ffffff",
             "family": "Courier New, monospace",
             "size": 14
            },
            "opacity": 0.8,
            "showarrow": false,
            "text": "40.0 Yds",
            "x": 100,
            "y": 5
           }
          ],
          "title": "ball_snap"
         }
        },
        {
         "data": [
          {
           "marker": {
            "color": "#013369",
            "size": 15
           },
           "mode": "markers",
           "name": "Partner Player",
           "type": "scatter",
           "x": [
            19.860000610351566
           ],
           "y": [
            29.809999465942386
           ]
          },
          {
           "marker": {
            "color": "orange",
            "size": 15
           },
           "mode": "markers",
           "name": "Injured Player",
           "type": "scatter",
           "x": [
            60.4900016784668
           ],
           "y": [
            30.70000076293945
           ]
          },
          {
           "line": {
            "color": "#2c3539",
            "width": 2
           },
           "mode": "lines",
           "name": "Distance",
           "text": "Distance: 41.0",
           "textposition": "bottom center",
           "type": "scatter",
           "x": [
            60.4900016784668,
            19.860000610351566,
            null,
            60.4900016784668,
            19.860000610351566
           ],
           "y": [
            30.70000076293945,
            29.809999465942386,
            null,
            30.70000076293945,
            29.809999465942386
           ]
          }
         ],
         "layout": {
          "annotations": [
           {
            "align": "center",
            "bgcolor": "#2c3539",
            "bordercolor": "#c7c7c7",
            "borderpad": 4,
            "borderwidth": 2,
            "font": {
             "color": "#ffffff",
             "family": "Courier New, monospace",
             "size": 14
            },
            "opacity": 0.8,
            "showarrow": false,
            "text": "41.0 Yds",
            "x": 100,
            "y": 5
           }
          ],
          "title": "ball_snap"
         }
        },
        {
         "data": [
          {
           "marker": {
            "color": "#013369",
            "size": 15
           },
           "mode": "markers",
           "name": "Partner Player",
           "type": "scatter",
           "x": [
            19.88999938964844
           ],
           "y": [
            29.739999771118164
           ]
          },
          {
           "marker": {
            "color": "orange",
            "size": 15
           },
           "mode": "markers",
           "name": "Injured Player",
           "type": "scatter",
           "x": [
            61.36999893188477
           ],
           "y": [
            30.59000015258789
           ]
          },
          {
           "line": {
            "color": "#2c3539",
            "width": 2
           },
           "mode": "lines",
           "name": "Distance",
           "text": "Distance: 41.0",
           "textposition": "bottom center",
           "type": "scatter",
           "x": [
            61.36999893188477,
            19.88999938964844,
            null,
            61.36999893188477,
            19.88999938964844
           ],
           "y": [
            30.59000015258789,
            29.739999771118164,
            null,
            30.59000015258789,
            29.739999771118164
           ]
          }
         ],
         "layout": {
          "annotations": [
           {
            "align": "center",
            "bgcolor": "#2c3539",
            "bordercolor": "#c7c7c7",
            "borderpad": 4,
            "borderwidth": 2,
            "font": {
             "color": "#ffffff",
             "family": "Courier New, monospace",
             "size": 14
            },
            "opacity": 0.8,
            "showarrow": false,
            "text": "41.0 Yds",
            "x": 100,
            "y": 5
           }
          ],
          "title": "ball_snap"
         }
        },
        {
         "data": [
          {
           "marker": {
            "color": "#013369",
            "size": 15
           },
           "mode": "markers",
           "name": "Partner Player",
           "type": "scatter",
           "x": [
            19.88999938964844
           ],
           "y": [
            29.729999542236328
           ]
          },
          {
           "marker": {
            "color": "orange",
            "size": 15
           },
           "mode": "markers",
           "name": "Injured Player",
           "type": "scatter",
           "x": [
            61.68999862670898
           ],
           "y": [
            31.319999694824208
           ]
          },
          {
           "line": {
            "color": "#2c3539",
            "width": 2
           },
           "mode": "lines",
           "name": "Distance",
           "text": "Distance: 42.0",
           "textposition": "bottom center",
           "type": "scatter",
           "x": [
            61.68999862670898,
            19.88999938964844,
            null,
            61.68999862670898,
            19.88999938964844
           ],
           "y": [
            31.319999694824208,
            29.729999542236328,
            null,
            31.319999694824208,
            29.729999542236328
           ]
          }
         ],
         "layout": {
          "annotations": [
           {
            "align": "center",
            "bgcolor": "#2c3539",
            "bordercolor": "#c7c7c7",
            "borderpad": 4,
            "borderwidth": 2,
            "font": {
             "color": "#ffffff",
             "family": "Courier New, monospace",
             "size": 14
            },
            "opacity": 0.8,
            "showarrow": false,
            "text": "42.0 Yds",
            "x": 100,
            "y": 5
           }
          ],
          "title": "ball_snap"
         }
        },
        {
         "data": [
          {
           "marker": {
            "color": "#013369",
            "size": 15
           },
           "mode": "markers",
           "name": "Partner Player",
           "type": "scatter",
           "x": [
            19.8700008392334
           ],
           "y": [
            29.690000534057607
           ]
          },
          {
           "marker": {
            "color": "orange",
            "size": 15
           },
           "mode": "markers",
           "name": "Injured Player",
           "type": "scatter",
           "x": [
            61.18000030517578
           ],
           "y": [
            32.880001068115234
           ]
          },
          {
           "line": {
            "color": "#2c3539",
            "width": 2
           },
           "mode": "lines",
           "name": "Distance",
           "text": "Distance: 41.0",
           "textposition": "bottom center",
           "type": "scatter",
           "x": [
            61.18000030517578,
            19.8700008392334,
            null,
            61.18000030517578,
            19.8700008392334
           ],
           "y": [
            32.880001068115234,
            29.690000534057607,
            null,
            32.880001068115234,
            29.690000534057607
           ]
          }
         ],
         "layout": {
          "annotations": [
           {
            "align": "center",
            "bgcolor": "#2c3539",
            "bordercolor": "#c7c7c7",
            "borderpad": 4,
            "borderwidth": 2,
            "font": {
             "color": "#ffffff",
             "family": "Courier New, monospace",
             "size": 14
            },
            "opacity": 0.8,
            "showarrow": false,
            "text": "41.0 Yds",
            "x": 100,
            "y": 5
           }
          ],
          "title": "punt"
         }
        },
        {
         "data": [
          {
           "marker": {
            "color": "#013369",
            "size": 15
           },
           "mode": "markers",
           "name": "Partner Player",
           "type": "scatter",
           "x": [
            19.770000457763672
           ],
           "y": [
            29.93000030517578
           ]
          },
          {
           "marker": {
            "color": "orange",
            "size": 15
           },
           "mode": "markers",
           "name": "Injured Player",
           "type": "scatter",
           "x": [
            59.290000915527344
           ],
           "y": [
            34.830001831054695
           ]
          },
          {
           "line": {
            "color": "#2c3539",
            "width": 2
           },
           "mode": "lines",
           "name": "Distance",
           "text": "Distance: 40.0",
           "textposition": "bottom center",
           "type": "scatter",
           "x": [
            59.290000915527344,
            19.770000457763672,
            null,
            59.290000915527344,
            19.770000457763672
           ],
           "y": [
            34.830001831054695,
            29.93000030517578,
            null,
            34.830001831054695,
            29.93000030517578
           ]
          }
         ],
         "layout": {
          "annotations": [
           {
            "align": "center",
            "bgcolor": "#2c3539",
            "bordercolor": "#c7c7c7",
            "borderpad": 4,
            "borderwidth": 2,
            "font": {
             "color": "#ffffff",
             "family": "Courier New, monospace",
             "size": 14
            },
            "opacity": 0.8,
            "showarrow": false,
            "text": "40.0 Yds",
            "x": 100,
            "y": 5
           }
          ],
          "title": "punt"
         }
        },
        {
         "data": [
          {
           "marker": {
            "color": "#013369",
            "size": 15
           },
           "mode": "markers",
           "name": "Partner Player",
           "type": "scatter",
           "x": [
            19.729999542236328
           ],
           "y": [
            31.110000610351573
           ]
          },
          {
           "marker": {
            "color": "orange",
            "size": 15
           },
           "mode": "markers",
           "name": "Injured Player",
           "type": "scatter",
           "x": [
            56.36999893188477
           ],
           "y": [
            36.36000061035156
           ]
          },
          {
           "line": {
            "color": "#2c3539",
            "width": 2
           },
           "mode": "lines",
           "name": "Distance",
           "text": "Distance: 37.0",
           "textposition": "bottom center",
           "type": "scatter",
           "x": [
            56.36999893188477,
            19.729999542236328,
            null,
            56.36999893188477,
            19.729999542236328
           ],
           "y": [
            36.36000061035156,
            31.110000610351573,
            null,
            36.36000061035156,
            31.110000610351573
           ]
          }
         ],
         "layout": {
          "annotations": [
           {
            "align": "center",
            "bgcolor": "#2c3539",
            "bordercolor": "#c7c7c7",
            "borderpad": 4,
            "borderwidth": 2,
            "font": {
             "color": "#ffffff",
             "family": "Courier New, monospace",
             "size": 14
            },
            "opacity": 0.8,
            "showarrow": false,
            "text": "37.0 Yds",
            "x": 100,
            "y": 5
           }
          ],
          "title": "punt"
         }
        },
        {
         "data": [
          {
           "marker": {
            "color": "#013369",
            "size": 15
           },
           "mode": "markers",
           "name": "Partner Player",
           "type": "scatter",
           "x": [
            19.770000457763672
           ],
           "y": [
            33.18000030517578
           ]
          },
          {
           "marker": {
            "color": "orange",
            "size": 15
           },
           "mode": "markers",
           "name": "Injured Player",
           "type": "scatter",
           "x": [
            53.36000061035156
           ],
           "y": [
            38.36999893188477
           ]
          },
          {
           "line": {
            "color": "#2c3539",
            "width": 2
           },
           "mode": "lines",
           "name": "Distance",
           "text": "Distance: 34.0",
           "textposition": "bottom center",
           "type": "scatter",
           "x": [
            53.36000061035156,
            19.770000457763672,
            null,
            53.36000061035156,
            19.770000457763672
           ],
           "y": [
            38.36999893188477,
            33.18000030517578,
            null,
            38.36999893188477,
            33.18000030517578
           ]
          }
         ],
         "layout": {
          "annotations": [
           {
            "align": "center",
            "bgcolor": "#2c3539",
            "bordercolor": "#c7c7c7",
            "borderpad": 4,
            "borderwidth": 2,
            "font": {
             "color": "#ffffff",
             "family": "Courier New, monospace",
             "size": 14
            },
            "opacity": 0.8,
            "showarrow": false,
            "text": "34.0 Yds",
            "x": 100,
            "y": 5
           }
          ],
          "title": "punt"
         }
        },
        {
         "data": [
          {
           "marker": {
            "color": "#013369",
            "size": 15
           },
           "mode": "markers",
           "name": "Partner Player",
           "type": "scatter",
           "x": [
            19.950000762939453
           ],
           "y": [
            35.630001068115234
           ]
          },
          {
           "marker": {
            "color": "orange",
            "size": 15
           },
           "mode": "markers",
           "name": "Injured Player",
           "type": "scatter",
           "x": [
            50.22999954223633
           ],
           "y": [
            40.1599998474121
           ]
          },
          {
           "line": {
            "color": "#2c3539",
            "width": 2
           },
           "mode": "lines",
           "name": "Distance",
           "text": "Distance: 31.0",
           "textposition": "bottom center",
           "type": "scatter",
           "x": [
            50.22999954223633,
            19.950000762939453,
            null,
            50.22999954223633,
            19.950000762939453
           ],
           "y": [
            40.1599998474121,
            35.630001068115234,
            null,
            40.1599998474121,
            35.630001068115234
           ]
          }
         ],
         "layout": {
          "annotations": [
           {
            "align": "center",
            "bgcolor": "#2c3539",
            "bordercolor": "#c7c7c7",
            "borderpad": 4,
            "borderwidth": 2,
            "font": {
             "color": "#ffffff",
             "family": "Courier New, monospace",
             "size": 14
            },
            "opacity": 0.8,
            "showarrow": false,
            "text": "31.0 Yds",
            "x": 100,
            "y": 5
           }
          ],
          "title": "punt"
         }
        },
        {
         "data": [
          {
           "marker": {
            "color": "#013369",
            "size": 15
           },
           "mode": "markers",
           "name": "Partner Player",
           "type": "scatter",
           "x": [
            20.3700008392334
           ],
           "y": [
            38.2400016784668
           ]
          },
          {
           "marker": {
            "color": "orange",
            "size": 15
           },
           "mode": "markers",
           "name": "Injured Player",
           "type": "scatter",
           "x": [
            46.349998474121094
           ],
           "y": [
            41.58000183105469
           ]
          },
          {
           "line": {
            "color": "#2c3539",
            "width": 2
           },
           "mode": "lines",
           "name": "Distance",
           "text": "Distance: 26.0",
           "textposition": "bottom center",
           "type": "scatter",
           "x": [
            46.349998474121094,
            20.3700008392334,
            null,
            46.349998474121094,
            20.3700008392334
           ],
           "y": [
            41.58000183105469,
            38.2400016784668,
            null,
            41.58000183105469,
            38.2400016784668
           ]
          }
         ],
         "layout": {
          "annotations": [
           {
            "align": "center",
            "bgcolor": "#2c3539",
            "bordercolor": "#c7c7c7",
            "borderpad": 4,
            "borderwidth": 2,
            "font": {
             "color": "#ffffff",
             "family": "Courier New, monospace",
             "size": 14
            },
            "opacity": 0.8,
            "showarrow": false,
            "text": "26.0 Yds",
            "x": 100,
            "y": 5
           }
          ],
          "title": "punt"
         }
        },
        {
         "data": [
          {
           "marker": {
            "color": "#013369",
            "size": 15
           },
           "mode": "markers",
           "name": "Partner Player",
           "type": "scatter",
           "x": [
            20.3700008392334
           ],
           "y": [
            40.7599983215332
           ]
          },
          {
           "marker": {
            "color": "orange",
            "size": 15
           },
           "mode": "markers",
           "name": "Injured Player",
           "type": "scatter",
           "x": [
            42.180000305175774
           ],
           "y": [
            42.41999816894531
           ]
          },
          {
           "line": {
            "color": "#2c3539",
            "width": 2
           },
           "mode": "lines",
           "name": "Distance",
           "text": "Distance: 22.0",
           "textposition": "bottom center",
           "type": "scatter",
           "x": [
            42.180000305175774,
            20.3700008392334,
            null,
            42.180000305175774,
            20.3700008392334
           ],
           "y": [
            42.41999816894531,
            40.7599983215332,
            null,
            42.41999816894531,
            40.7599983215332
           ]
          }
         ],
         "layout": {
          "annotations": [
           {
            "align": "center",
            "bgcolor": "#2c3539",
            "bordercolor": "#c7c7c7",
            "borderpad": 4,
            "borderwidth": 2,
            "font": {
             "color": "#ffffff",
             "family": "Courier New, monospace",
             "size": 14
            },
            "opacity": 0.8,
            "showarrow": false,
            "text": "22.0 Yds",
            "x": 100,
            "y": 5
           }
          ],
          "title": "punt"
         }
        },
        {
         "data": [
          {
           "marker": {
            "color": "#013369",
            "size": 15
           },
           "mode": "markers",
           "name": "Partner Player",
           "type": "scatter",
           "x": [
            19.420000076293945
           ],
           "y": [
            43.06999969482422
           ]
          },
          {
           "marker": {
            "color": "orange",
            "size": 15
           },
           "mode": "markers",
           "name": "Injured Player",
           "type": "scatter",
           "x": [
            37.7400016784668
           ],
           "y": [
            42.97999954223633
           ]
          },
          {
           "line": {
            "color": "#2c3539",
            "width": 2
           },
           "mode": "lines",
           "name": "Distance",
           "text": "Distance: 18.0",
           "textposition": "bottom center",
           "type": "scatter",
           "x": [
            37.7400016784668,
            19.420000076293945,
            null,
            37.7400016784668,
            19.420000076293945
           ],
           "y": [
            42.97999954223633,
            43.06999969482422,
            null,
            42.97999954223633,
            43.06999969482422
           ]
          }
         ],
         "layout": {
          "annotations": [
           {
            "align": "center",
            "bgcolor": "#2c3539",
            "bordercolor": "#c7c7c7",
            "borderpad": 4,
            "borderwidth": 2,
            "font": {
             "color": "#ffffff",
             "family": "Courier New, monospace",
             "size": 14
            },
            "opacity": 0.8,
            "showarrow": false,
            "text": "18.0 Yds",
            "x": 100,
            "y": 5
           }
          ],
          "title": "punt"
         }
        },
        {
         "data": [
          {
           "marker": {
            "color": "#013369",
            "size": 15
           },
           "mode": "markers",
           "name": "Partner Player",
           "type": "scatter",
           "x": [
            18
           ],
           "y": [
            45.4099998474121
           ]
          },
          {
           "marker": {
            "color": "orange",
            "size": 15
           },
           "mode": "markers",
           "name": "Injured Player",
           "type": "scatter",
           "x": [
            33.47999954223633
           ],
           "y": [
            43.63999938964844
           ]
          },
          {
           "line": {
            "color": "#2c3539",
            "width": 2
           },
           "mode": "lines",
           "name": "Distance",
           "text": "Distance: 16.0",
           "textposition": "bottom center",
           "type": "scatter",
           "x": [
            33.47999954223633,
            18,
            null,
            33.47999954223633,
            18
           ],
           "y": [
            43.63999938964844,
            45.4099998474121,
            null,
            43.63999938964844,
            45.4099998474121
           ]
          }
         ],
         "layout": {
          "annotations": [
           {
            "align": "center",
            "bgcolor": "#2c3539",
            "bordercolor": "#c7c7c7",
            "borderpad": 4,
            "borderwidth": 2,
            "font": {
             "color": "#ffffff",
             "family": "Courier New, monospace",
             "size": 14
            },
            "opacity": 0.8,
            "showarrow": false,
            "text": "16.0 Yds",
            "x": 100,
            "y": 5
           }
          ],
          "title": "punt"
         }
        },
        {
         "data": [
          {
           "marker": {
            "color": "#013369",
            "size": 15
           },
           "mode": "markers",
           "name": "Partner Player",
           "type": "scatter",
           "x": [
            16.25
           ],
           "y": [
            47.599998474121094
           ]
          },
          {
           "marker": {
            "color": "orange",
            "size": 15
           },
           "mode": "markers",
           "name": "Injured Player",
           "type": "scatter",
           "x": [
            29.459999084472656
           ],
           "y": [
            44.7400016784668
           ]
          },
          {
           "line": {
            "color": "#2c3539",
            "width": 2
           },
           "mode": "lines",
           "name": "Distance",
           "text": "Distance: 14.0",
           "textposition": "bottom center",
           "type": "scatter",
           "x": [
            29.459999084472656,
            16.25,
            null,
            29.459999084472656,
            16.25
           ],
           "y": [
            44.7400016784668,
            47.599998474121094,
            null,
            44.7400016784668,
            47.599998474121094
           ]
          }
         ],
         "layout": {
          "annotations": [
           {
            "align": "center",
            "bgcolor": "#2c3539",
            "bordercolor": "#c7c7c7",
            "borderpad": 4,
            "borderwidth": 2,
            "font": {
             "color": "#ffffff",
             "family": "Courier New, monospace",
             "size": 14
            },
            "opacity": 0.8,
            "showarrow": false,
            "text": "14.0 Yds",
            "x": 100,
            "y": 5
           }
          ],
          "title": "punt"
         }
        },
        {
         "data": [
          {
           "marker": {
            "color": "#013369",
            "size": 15
           },
           "mode": "markers",
           "name": "Partner Player",
           "type": "scatter",
           "x": [
            14.380000114440918
           ],
           "y": [
            49.7599983215332
           ]
          },
          {
           "marker": {
            "color": "orange",
            "size": 15
           },
           "mode": "markers",
           "name": "Injured Player",
           "type": "scatter",
           "x": [
            25.57999992370605
           ],
           "y": [
            46.43999862670898
           ]
          },
          {
           "line": {
            "color": "#2c3539",
            "width": 2
           },
           "mode": "lines",
           "name": "Distance",
           "text": "Distance: 12.0",
           "textposition": "bottom center",
           "type": "scatter",
           "x": [
            25.57999992370605,
            14.380000114440918,
            null,
            25.57999992370605,
            14.380000114440918
           ],
           "y": [
            46.43999862670898,
            49.7599983215332,
            null,
            46.43999862670898,
            49.7599983215332
           ]
          }
         ],
         "layout": {
          "annotations": [
           {
            "align": "center",
            "bgcolor": "#2c3539",
            "bordercolor": "#c7c7c7",
            "borderpad": 4,
            "borderwidth": 2,
            "font": {
             "color": "#ffffff",
             "family": "Courier New, monospace",
             "size": 14
            },
            "opacity": 0.8,
            "showarrow": false,
            "text": "12.0 Yds",
            "x": 100,
            "y": 5
           }
          ],
          "title": "punt"
         }
        },
        {
         "data": [
          {
           "marker": {
            "color": "#013369",
            "size": 15
           },
           "mode": "markers",
           "name": "Partner Player",
           "type": "scatter",
           "x": [
            12.590000152587892
           ],
           "y": [
            51.84000015258789
           ]
          },
          {
           "marker": {
            "color": "orange",
            "size": 15
           },
           "mode": "markers",
           "name": "Injured Player",
           "type": "scatter",
           "x": [
            21.729999542236328
           ],
           "y": [
            48.38000106811523
           ]
          },
          {
           "line": {
            "color": "#2c3539",
            "width": 2
           },
           "mode": "lines",
           "name": "Distance",
           "text": "Distance: 10.0",
           "textposition": "bottom center",
           "type": "scatter",
           "x": [
            21.729999542236328,
            12.590000152587892,
            null,
            21.729999542236328,
            12.590000152587892
           ],
           "y": [
            48.38000106811523,
            51.84000015258789,
            null,
            48.38000106811523,
            51.84000015258789
           ]
          }
         ],
         "layout": {
          "annotations": [
           {
            "align": "center",
            "bgcolor": "#2c3539",
            "bordercolor": "#c7c7c7",
            "borderpad": 4,
            "borderwidth": 2,
            "font": {
             "color": "#ffffff",
             "family": "Courier New, monospace",
             "size": 14
            },
            "opacity": 0.8,
            "showarrow": false,
            "text": "10.0 Yds",
            "x": 100,
            "y": 5
           }
          ],
          "title": "punt"
         }
        },
        {
         "data": [
          {
           "marker": {
            "color": "#013369",
            "size": 15
           },
           "mode": "markers",
           "name": "Partner Player",
           "type": "scatter",
           "x": [
            11.539999961853027
           ],
           "y": [
            53.06000137329102
           ]
          },
          {
           "marker": {
            "color": "orange",
            "size": 15
           },
           "mode": "markers",
           "name": "Injured Player",
           "type": "scatter",
           "x": [
            17.829999923706055
           ],
           "y": [
            50.209999084472656
           ]
          },
          {
           "line": {
            "color": "#2c3539",
            "width": 2
           },
           "mode": "lines",
           "name": "Distance",
           "text": "Distance: 7.0",
           "textposition": "bottom center",
           "type": "scatter",
           "x": [
            17.829999923706055,
            11.539999961853027,
            null,
            17.829999923706055,
            11.539999961853027
           ],
           "y": [
            50.209999084472656,
            53.06000137329102,
            null,
            50.209999084472656,
            53.06000137329102
           ]
          }
         ],
         "layout": {
          "annotations": [
           {
            "align": "center",
            "bgcolor": "#2c3539",
            "bordercolor": "#c7c7c7",
            "borderpad": 4,
            "borderwidth": 2,
            "font": {
             "color": "#ffffff",
             "family": "Courier New, monospace",
             "size": 14
            },
            "opacity": 0.8,
            "showarrow": false,
            "text": "7.0 Yds",
            "x": 100,
            "y": 5
           }
          ],
          "title": "punt_downed"
         }
        },
        {
         "data": [
          {
           "marker": {
            "color": "#013369",
            "size": 15
           },
           "mode": "markers",
           "name": "Partner Player",
           "type": "scatter",
           "x": [
            11.920000076293945
           ],
           "y": [
            52.83000183105469
           ]
          },
          {
           "marker": {
            "color": "orange",
            "size": 15
           },
           "mode": "markers",
           "name": "Injured Player",
           "type": "scatter",
           "x": [
            14.090000152587892
           ],
           "y": [
            51.790000915527344
           ]
          },
          {
           "line": {
            "color": "#2c3539",
            "width": 2
           },
           "mode": "lines",
           "name": "Distance",
           "text": "Distance: 2.0",
           "textposition": "bottom center",
           "type": "scatter",
           "x": [
            14.090000152587892,
            11.920000076293945,
            null,
            14.090000152587892,
            11.920000076293945
           ],
           "y": [
            51.790000915527344,
            52.83000183105469,
            null,
            51.790000915527344,
            52.83000183105469
           ]
          }
         ],
         "layout": {
          "annotations": [
           {
            "align": "center",
            "bgcolor": "#2c3539",
            "bordercolor": "#c7c7c7",
            "borderpad": 4,
            "borderwidth": 2,
            "font": {
             "color": "#ffffff",
             "family": "Courier New, monospace",
             "size": 14
            },
            "opacity": 0.8,
            "showarrow": false,
            "text": "2.0 Yds",
            "x": 100,
            "y": 5
           }
          ],
          "title": "punt_downed"
         }
        },
        {
         "data": [
          {
           "marker": {
            "color": "#013369",
            "size": 15
           },
           "mode": "markers",
           "name": "Partner Player",
           "type": "scatter",
           "x": [
            11.5
           ],
           "y": [
            51.790000915527344
           ]
          },
          {
           "marker": {
            "color": "orange",
            "size": 15
           },
           "mode": "markers",
           "name": "Injured Player",
           "type": "scatter",
           "x": [
            10.880000114440918
           ],
           "y": [
            52.77999877929688
           ]
          },
          {
           "line": {
            "color": "#2c3539",
            "width": 2
           },
           "mode": "lines",
           "name": "Distance",
           "text": "Distance: 1.0",
           "textposition": "bottom center",
           "type": "scatter",
           "x": [
            10.880000114440918,
            11.5,
            null,
            10.880000114440918,
            11.5
           ],
           "y": [
            52.77999877929688,
            51.790000915527344,
            null,
            52.77999877929688,
            51.790000915527344
           ]
          }
         ],
         "layout": {
          "annotations": [
           {
            "align": "center",
            "bgcolor": "#2c3539",
            "bordercolor": "#c7c7c7",
            "borderpad": 4,
            "borderwidth": 2,
            "font": {
             "color": "#ffffff",
             "family": "Courier New, monospace",
             "size": 14
            },
            "opacity": 0.8,
            "showarrow": false,
            "text": "1.0 Yds",
            "x": 100,
            "y": 5
           }
          ],
          "title": "punt_downed"
         }
        },
        {
         "data": [
          {
           "marker": {
            "color": "#013369",
            "size": 15
           },
           "mode": "markers",
           "name": "Partner Player",
           "type": "scatter",
           "x": [
            10.720000267028807
           ],
           "y": [
            51.11000061035156
           ]
          },
          {
           "marker": {
            "color": "orange",
            "size": 15
           },
           "mode": "markers",
           "name": "Injured Player",
           "type": "scatter",
           "x": [
            10.090000152587892
           ],
           "y": [
            53.06000137329102
           ]
          },
          {
           "line": {
            "color": "#2c3539",
            "width": 2
           },
           "mode": "lines",
           "name": "Distance",
           "text": "Distance: 2.0",
           "textposition": "bottom center",
           "type": "scatter",
           "x": [
            10.090000152587892,
            10.720000267028807,
            null,
            10.090000152587892,
            10.720000267028807
           ],
           "y": [
            53.06000137329102,
            51.11000061035156,
            null,
            53.06000137329102,
            51.11000061035156
           ]
          }
         ],
         "layout": {
          "annotations": [
           {
            "align": "center",
            "bgcolor": "#2c3539",
            "bordercolor": "#c7c7c7",
            "borderpad": 4,
            "borderwidth": 2,
            "font": {
             "color": "#ffffff",
             "family": "Courier New, monospace",
             "size": 14
            },
            "opacity": 0.8,
            "showarrow": false,
            "text": "2.0 Yds",
            "x": 100,
            "y": 5
           }
          ],
          "title": "punt_downed"
         }
        },
        {
         "data": [
          {
           "marker": {
            "color": "#013369",
            "size": 15
           },
           "mode": "markers",
           "name": "Partner Player",
           "type": "scatter",
           "x": [
            10.869999885559082
           ],
           "y": [
            50.9900016784668
           ]
          },
          {
           "marker": {
            "color": "orange",
            "size": 15
           },
           "mode": "markers",
           "name": "Injured Player",
           "type": "scatter",
           "x": [
            10.329999923706056
           ],
           "y": [
            53.040000915527344
           ]
          },
          {
           "line": {
            "color": "#2c3539",
            "width": 2
           },
           "mode": "lines",
           "name": "Distance",
           "text": "Distance: 2.0",
           "textposition": "bottom center",
           "type": "scatter",
           "x": [
            10.329999923706056,
            10.869999885559082,
            null,
            10.329999923706056,
            10.869999885559082
           ],
           "y": [
            53.040000915527344,
            50.9900016784668,
            null,
            53.040000915527344,
            50.9900016784668
           ]
          }
         ],
         "layout": {
          "annotations": [
           {
            "align": "center",
            "bgcolor": "#2c3539",
            "bordercolor": "#c7c7c7",
            "borderpad": 4,
            "borderwidth": 2,
            "font": {
             "color": "#ffffff",
             "family": "Courier New, monospace",
             "size": 14
            },
            "opacity": 0.8,
            "showarrow": false,
            "text": "2.0 Yds",
            "x": 100,
            "y": 5
           }
          ],
          "title": "punt_downed"
         }
        },
        {
         "data": [
          {
           "marker": {
            "color": "#013369",
            "size": 15
           },
           "mode": "markers",
           "name": "Partner Player",
           "type": "scatter",
           "x": [
            11.390000343322756
           ],
           "y": [
            50.56999969482422
           ]
          },
          {
           "marker": {
            "color": "orange",
            "size": 15
           },
           "mode": "markers",
           "name": "Injured Player",
           "type": "scatter",
           "x": [
            10.31999969482422
           ],
           "y": [
            53.0099983215332
           ]
          },
          {
           "line": {
            "color": "#2c3539",
            "width": 2
           },
           "mode": "lines",
           "name": "Distance",
           "text": "Distance: 3.0",
           "textposition": "bottom center",
           "type": "scatter",
           "x": [
            10.31999969482422,
            11.390000343322756,
            null,
            10.31999969482422,
            11.390000343322756
           ],
           "y": [
            53.0099983215332,
            50.56999969482422,
            null,
            53.0099983215332,
            50.56999969482422
           ]
          }
         ],
         "layout": {
          "annotations": [
           {
            "align": "center",
            "bgcolor": "#2c3539",
            "bordercolor": "#c7c7c7",
            "borderpad": 4,
            "borderwidth": 2,
            "font": {
             "color": "#ffffff",
             "family": "Courier New, monospace",
             "size": 14
            },
            "opacity": 0.8,
            "showarrow": false,
            "text": "3.0 Yds",
            "x": 100,
            "y": 5
           }
          ],
          "title": "punt_downed"
         }
        },
        {
         "data": [
          {
           "marker": {
            "color": "#013369",
            "size": 15
           },
           "mode": "markers",
           "name": "Partner Player",
           "type": "scatter",
           "x": [
            11.279999732971193
           ],
           "y": [
            51.33000183105469
           ]
          },
          {
           "marker": {
            "color": "orange",
            "size": 15
           },
           "mode": "markers",
           "name": "Injured Player",
           "type": "scatter",
           "x": [
            10.729999542236328
           ],
           "y": [
            52.72000122070313
           ]
          },
          {
           "line": {
            "color": "#2c3539",
            "width": 2
           },
           "mode": "lines",
           "name": "Distance",
           "text": "Distance: 1.0",
           "textposition": "bottom center",
           "type": "scatter",
           "x": [
            10.729999542236328,
            11.279999732971193,
            null,
            10.729999542236328,
            11.279999732971193
           ],
           "y": [
            52.72000122070313,
            51.33000183105469,
            null,
            52.72000122070313,
            51.33000183105469
           ]
          }
         ],
         "layout": {
          "annotations": [
           {
            "align": "center",
            "bgcolor": "#2c3539",
            "bordercolor": "#c7c7c7",
            "borderpad": 4,
            "borderwidth": 2,
            "font": {
             "color": "#ffffff",
             "family": "Courier New, monospace",
             "size": 14
            },
            "opacity": 0.8,
            "showarrow": false,
            "text": "1.0 Yds",
            "x": 100,
            "y": 5
           }
          ],
          "title": "punt_downed"
         }
        },
        {
         "data": [
          {
           "marker": {
            "color": "#013369",
            "size": 15
           },
           "mode": "markers",
           "name": "Partner Player",
           "type": "scatter",
           "x": [
            11.5
           ],
           "y": [
            50.9000015258789
           ]
          },
          {
           "marker": {
            "color": "orange",
            "size": 15
           },
           "mode": "markers",
           "name": "Injured Player",
           "type": "scatter",
           "x": [
            11.100000381469727
           ],
           "y": [
            52.77000045776367
           ]
          },
          {
           "line": {
            "color": "#2c3539",
            "width": 2
           },
           "mode": "lines",
           "name": "Distance",
           "text": "Distance: 2.0",
           "textposition": "bottom center",
           "type": "scatter",
           "x": [
            11.100000381469727,
            11.5,
            null,
            11.100000381469727,
            11.5
           ],
           "y": [
            52.77000045776367,
            50.9000015258789,
            null,
            52.77000045776367,
            50.9000015258789
           ]
          }
         ],
         "layout": {
          "annotations": [
           {
            "align": "center",
            "bgcolor": "#2c3539",
            "bordercolor": "#c7c7c7",
            "borderpad": 4,
            "borderwidth": 2,
            "font": {
             "color": "#ffffff",
             "family": "Courier New, monospace",
             "size": 14
            },
            "opacity": 0.8,
            "showarrow": false,
            "text": "2.0 Yds",
            "x": 100,
            "y": 5
           }
          ],
          "title": "punt_downed"
         }
        },
        {
         "data": [
          {
           "marker": {
            "color": "#013369",
            "size": 15
           },
           "mode": "markers",
           "name": "Partner Player",
           "type": "scatter",
           "x": [
            12.100000381469727
           ],
           "y": [
            50.09000015258789
           ]
          },
          {
           "marker": {
            "color": "orange",
            "size": 15
           },
           "mode": "markers",
           "name": "Injured Player",
           "type": "scatter",
           "x": [
            11.199999809265137
           ],
           "y": [
            52.81000137329102
           ]
          },
          {
           "line": {
            "color": "#2c3539",
            "width": 2
           },
           "mode": "lines",
           "name": "Distance",
           "text": "Distance: 3.0",
           "textposition": "bottom center",
           "type": "scatter",
           "x": [
            11.199999809265137,
            12.100000381469727,
            null,
            11.199999809265137,
            12.100000381469727
           ],
           "y": [
            52.81000137329102,
            50.09000015258789,
            null,
            52.81000137329102,
            50.09000015258789
           ]
          }
         ],
         "layout": {
          "annotations": [
           {
            "align": "center",
            "bgcolor": "#2c3539",
            "bordercolor": "#c7c7c7",
            "borderpad": 4,
            "borderwidth": 2,
            "font": {
             "color": "#ffffff",
             "family": "Courier New, monospace",
             "size": 14
            },
            "opacity": 0.8,
            "showarrow": false,
            "text": "3.0 Yds",
            "x": 100,
            "y": 5
           }
          ],
          "title": "punt_downed"
         }
        },
        {
         "data": [
          {
           "marker": {
            "color": "#013369",
            "size": 15
           },
           "mode": "markers",
           "name": "Partner Player",
           "type": "scatter",
           "x": [
            12.590000152587892
           ],
           "y": [
            49.11999893188477
           ]
          },
          {
           "marker": {
            "color": "orange",
            "size": 15
           },
           "mode": "markers",
           "name": "Injured Player",
           "type": "scatter",
           "x": [
            11.3100004196167
           ],
           "y": [
            52.68000030517578
           ]
          },
          {
           "line": {
            "color": "#2c3539",
            "width": 2
           },
           "mode": "lines",
           "name": "Distance",
           "text": "Distance: 4.0",
           "textposition": "bottom center",
           "type": "scatter",
           "x": [
            11.3100004196167,
            12.590000152587892,
            null,
            11.3100004196167,
            12.590000152587892
           ],
           "y": [
            52.68000030517578,
            49.11999893188477,
            null,
            52.68000030517578,
            49.11999893188477
           ]
          }
         ],
         "layout": {
          "annotations": [
           {
            "align": "center",
            "bgcolor": "#2c3539",
            "bordercolor": "#c7c7c7",
            "borderpad": 4,
            "borderwidth": 2,
            "font": {
             "color": "#ffffff",
             "family": "Courier New, monospace",
             "size": 14
            },
            "opacity": 0.8,
            "showarrow": false,
            "text": "4.0 Yds",
            "x": 100,
            "y": 5
           }
          ],
          "title": "punt_downed"
         }
        },
        {
         "data": [
          {
           "marker": {
            "color": "#013369",
            "size": 15
           },
           "mode": "markers",
           "name": "Partner Player",
           "type": "scatter",
           "x": [
            13.1899995803833
           ],
           "y": [
            48.25
           ]
          },
          {
           "marker": {
            "color": "orange",
            "size": 15
           },
           "mode": "markers",
           "name": "Injured Player",
           "type": "scatter",
           "x": [
            11.239999771118164
           ],
           "y": [
            52.95000076293945
           ]
          },
          {
           "line": {
            "color": "#2c3539",
            "width": 2
           },
           "mode": "lines",
           "name": "Distance",
           "text": "Distance: 5.0",
           "textposition": "bottom center",
           "type": "scatter",
           "x": [
            11.239999771118164,
            13.1899995803833,
            null,
            11.239999771118164,
            13.1899995803833
           ],
           "y": [
            52.95000076293945,
            48.25,
            null,
            52.95000076293945,
            48.25
           ]
          }
         ],
         "layout": {
          "annotations": [
           {
            "align": "center",
            "bgcolor": "#2c3539",
            "bordercolor": "#c7c7c7",
            "borderpad": 4,
            "borderwidth": 2,
            "font": {
             "color": "#ffffff",
             "family": "Courier New, monospace",
             "size": 14
            },
            "opacity": 0.8,
            "showarrow": false,
            "text": "5.0 Yds",
            "x": 100,
            "y": 5
           }
          ],
          "title": "punt_downed"
         }
        },
        {
         "data": [
          {
           "marker": {
            "color": "#013369",
            "size": 15
           },
           "mode": "markers",
           "name": "Partner Player",
           "type": "scatter",
           "x": [
            14.109999656677244
           ],
           "y": [
            47.22000122070313
           ]
          },
          {
           "marker": {
            "color": "orange",
            "size": 15
           },
           "mode": "markers",
           "name": "Injured Player",
           "type": "scatter",
           "x": [
            11.020000457763672
           ],
           "y": [
            53.1500015258789
           ]
          },
          {
           "line": {
            "color": "#2c3539",
            "width": 2
           },
           "mode": "lines",
           "name": "Distance",
           "text": "Distance: 7.0",
           "textposition": "bottom center",
           "type": "scatter",
           "x": [
            11.020000457763672,
            14.109999656677244,
            null,
            11.020000457763672,
            14.109999656677244
           ],
           "y": [
            53.1500015258789,
            47.22000122070313,
            null,
            53.1500015258789,
            47.22000122070313
           ]
          }
         ],
         "layout": {
          "annotations": [
           {
            "align": "center",
            "bgcolor": "#2c3539",
            "bordercolor": "#c7c7c7",
            "borderpad": 4,
            "borderwidth": 2,
            "font": {
             "color": "#ffffff",
             "family": "Courier New, monospace",
             "size": 14
            },
            "opacity": 0.8,
            "showarrow": false,
            "text": "7.0 Yds",
            "x": 100,
            "y": 5
           }
          ],
          "title": "punt_downed"
         }
        },
        {
         "data": [
          {
           "marker": {
            "color": "#013369",
            "size": 15
           },
           "mode": "markers",
           "name": "Partner Player",
           "type": "scatter",
           "x": [
            15.029999732971193
           ],
           "y": [
            46.09000015258789
           ]
          },
          {
           "marker": {
            "color": "orange",
            "size": 15
           },
           "mode": "markers",
           "name": "Injured Player",
           "type": "scatter",
           "x": [
            11.090000152587892
           ],
           "y": [
            53.27999877929688
           ]
          },
          {
           "line": {
            "color": "#2c3539",
            "width": 2
           },
           "mode": "lines",
           "name": "Distance",
           "text": "Distance: 8.0",
           "textposition": "bottom center",
           "type": "scatter",
           "x": [
            11.090000152587892,
            15.029999732971193,
            null,
            11.090000152587892,
            15.029999732971193
           ],
           "y": [
            53.27999877929688,
            46.09000015258789,
            null,
            53.27999877929688,
            46.09000015258789
           ]
          }
         ],
         "layout": {
          "annotations": [
           {
            "align": "center",
            "bgcolor": "#2c3539",
            "bordercolor": "#c7c7c7",
            "borderpad": 4,
            "borderwidth": 2,
            "font": {
             "color": "#ffffff",
             "family": "Courier New, monospace",
             "size": 14
            },
            "opacity": 0.8,
            "showarrow": false,
            "text": "8.0 Yds",
            "x": 100,
            "y": 5
           }
          ],
          "title": "punt_downed"
         }
        },
        {
         "data": [
          {
           "marker": {
            "color": "#013369",
            "size": 15
           },
           "mode": "markers",
           "name": "Partner Player",
           "type": "scatter",
           "x": [
            15.909999847412108
           ],
           "y": [
            44.83000183105469
           ]
          },
          {
           "marker": {
            "color": "orange",
            "size": 15
           },
           "mode": "markers",
           "name": "Injured Player",
           "type": "scatter",
           "x": [
            10.970000267028807
           ],
           "y": [
            53.709999084472656
           ]
          },
          {
           "line": {
            "color": "#2c3539",
            "width": 2
           },
           "mode": "lines",
           "name": "Distance",
           "text": "Distance: 10.0",
           "textposition": "bottom center",
           "type": "scatter",
           "x": [
            10.970000267028807,
            15.909999847412108,
            null,
            10.970000267028807,
            15.909999847412108
           ],
           "y": [
            53.709999084472656,
            44.83000183105469,
            null,
            53.709999084472656,
            44.83000183105469
           ]
          }
         ],
         "layout": {
          "annotations": [
           {
            "align": "center",
            "bgcolor": "#2c3539",
            "bordercolor": "#c7c7c7",
            "borderpad": 4,
            "borderwidth": 2,
            "font": {
             "color": "#ffffff",
             "family": "Courier New, monospace",
             "size": 14
            },
            "opacity": 0.8,
            "showarrow": false,
            "text": "10.0 Yds",
            "x": 100,
            "y": 5
           }
          ],
          "title": "punt_downed"
         }
        },
        {
         "data": [
          {
           "marker": {
            "color": "#013369",
            "size": 15
           },
           "mode": "markers",
           "name": "Partner Player",
           "type": "scatter",
           "x": [
            16.860000610351566
           ],
           "y": [
            43.38000106811523
           ]
          },
          {
           "marker": {
            "color": "orange",
            "size": 15
           },
           "mode": "markers",
           "name": "Injured Player",
           "type": "scatter",
           "x": [
            11.149999618530273
           ],
           "y": [
            53.7400016784668
           ]
          },
          {
           "line": {
            "color": "#2c3539",
            "width": 2
           },
           "mode": "lines",
           "name": "Distance",
           "text": "Distance: 12.0",
           "textposition": "bottom center",
           "type": "scatter",
           "x": [
            11.149999618530273,
            16.860000610351566,
            null,
            11.149999618530273,
            16.860000610351566
           ],
           "y": [
            53.7400016784668,
            43.38000106811523,
            null,
            53.7400016784668,
            43.38000106811523
           ]
          }
         ],
         "layout": {
          "annotations": [
           {
            "align": "center",
            "bgcolor": "#2c3539",
            "bordercolor": "#c7c7c7",
            "borderpad": 4,
            "borderwidth": 2,
            "font": {
             "color": "#ffffff",
             "family": "Courier New, monospace",
             "size": 14
            },
            "opacity": 0.8,
            "showarrow": false,
            "text": "12.0 Yds",
            "x": 100,
            "y": 5
           }
          ],
          "title": "punt_downed"
         }
        },
        {
         "data": [
          {
           "marker": {
            "color": "#013369",
            "size": 15
           },
           "mode": "markers",
           "name": "Partner Player",
           "type": "scatter",
           "x": [
            17.84000015258789
           ],
           "y": [
            41.93999862670898
           ]
          },
          {
           "marker": {
            "color": "orange",
            "size": 15
           },
           "mode": "markers",
           "name": "Injured Player",
           "type": "scatter",
           "x": [
            11.100000381469727
           ],
           "y": [
            53.709999084472656
           ]
          },
          {
           "line": {
            "color": "#2c3539",
            "width": 2
           },
           "mode": "lines",
           "name": "Distance",
           "text": "Distance: 14.0",
           "textposition": "bottom center",
           "type": "scatter",
           "x": [
            11.100000381469727,
            17.84000015258789,
            null,
            11.100000381469727,
            17.84000015258789
           ],
           "y": [
            53.709999084472656,
            41.93999862670898,
            null,
            53.709999084472656,
            41.93999862670898
           ]
          }
         ],
         "layout": {
          "annotations": [
           {
            "align": "center",
            "bgcolor": "#2c3539",
            "bordercolor": "#c7c7c7",
            "borderpad": 4,
            "borderwidth": 2,
            "font": {
             "color": "#ffffff",
             "family": "Courier New, monospace",
             "size": 14
            },
            "opacity": 0.8,
            "showarrow": false,
            "text": "14.0 Yds",
            "x": 100,
            "y": 5
           }
          ],
          "title": "punt_downed"
         }
        },
        {
         "data": [
          {
           "marker": {
            "color": "#013369",
            "size": 15
           },
           "mode": "markers",
           "name": "Partner Player",
           "type": "scatter",
           "x": [
            18.82999992370605
           ],
           "y": [
            40.41999816894531
           ]
          },
          {
           "marker": {
            "color": "orange",
            "size": 15
           },
           "mode": "markers",
           "name": "Injured Player",
           "type": "scatter",
           "x": [
            11
           ],
           "y": [
            53.45000076293945
           ]
          },
          {
           "line": {
            "color": "#2c3539",
            "width": 2
           },
           "mode": "lines",
           "name": "Distance",
           "text": "Distance: 15.0",
           "textposition": "bottom center",
           "type": "scatter",
           "x": [
            11,
            18.82999992370605,
            null,
            11,
            18.82999992370605
           ],
           "y": [
            53.45000076293945,
            40.41999816894531,
            null,
            53.45000076293945,
            40.41999816894531
           ]
          }
         ],
         "layout": {
          "annotations": [
           {
            "align": "center",
            "bgcolor": "#2c3539",
            "bordercolor": "#c7c7c7",
            "borderpad": 4,
            "borderwidth": 2,
            "font": {
             "color": "#ffffff",
             "family": "Courier New, monospace",
             "size": 14
            },
            "opacity": 0.8,
            "showarrow": false,
            "text": "15.0 Yds",
            "x": 100,
            "y": 5
           }
          ],
          "title": "punt_downed"
         }
        },
        {
         "data": [
          {
           "marker": {
            "color": "#013369",
            "size": 15
           },
           "mode": "markers",
           "name": "Partner Player",
           "type": "scatter",
           "x": [
            19.88999938964844
           ],
           "y": [
            38.77999877929688
           ]
          },
          {
           "marker": {
            "color": "orange",
            "size": 15
           },
           "mode": "markers",
           "name": "Injured Player",
           "type": "scatter",
           "x": [
            10.779999732971193
           ],
           "y": [
            54.040000915527344
           ]
          },
          {
           "line": {
            "color": "#2c3539",
            "width": 2
           },
           "mode": "lines",
           "name": "Distance",
           "text": "Distance: 18.0",
           "textposition": "bottom center",
           "type": "scatter",
           "x": [
            10.779999732971193,
            19.88999938964844,
            null,
            10.779999732971193,
            19.88999938964844
           ],
           "y": [
            54.040000915527344,
            38.77999877929688,
            null,
            54.040000915527344,
            38.77999877929688
           ]
          }
         ],
         "layout": {
          "annotations": [
           {
            "align": "center",
            "bgcolor": "#2c3539",
            "bordercolor": "#c7c7c7",
            "borderpad": 4,
            "borderwidth": 2,
            "font": {
             "color": "#ffffff",
             "family": "Courier New, monospace",
             "size": 14
            },
            "opacity": 0.8,
            "showarrow": false,
            "text": "18.0 Yds",
            "x": 100,
            "y": 5
           }
          ],
          "title": "punt_downed"
         }
        },
        {
         "data": [
          {
           "marker": {
            "color": "#013369",
            "size": 15
           },
           "mode": "markers",
           "name": "Partner Player",
           "type": "scatter",
           "x": [
            21.06999969482421
           ],
           "y": [
            37.22999954223633
           ]
          },
          {
           "marker": {
            "color": "orange",
            "size": 15
           },
           "mode": "markers",
           "name": "Injured Player",
           "type": "scatter",
           "x": [
            10.649999618530273
           ],
           "y": [
            54.2400016784668
           ]
          },
          {
           "line": {
            "color": "#2c3539",
            "width": 2
           },
           "mode": "lines",
           "name": "Distance",
           "text": "Distance: 20.0",
           "textposition": "bottom center",
           "type": "scatter",
           "x": [
            10.649999618530273,
            21.06999969482421,
            null,
            10.649999618530273,
            21.06999969482421
           ],
           "y": [
            54.2400016784668,
            37.22999954223633,
            null,
            54.2400016784668,
            37.22999954223633
           ]
          }
         ],
         "layout": {
          "annotations": [
           {
            "align": "center",
            "bgcolor": "#2c3539",
            "bordercolor": "#c7c7c7",
            "borderpad": 4,
            "borderwidth": 2,
            "font": {
             "color": "#ffffff",
             "family": "Courier New, monospace",
             "size": 14
            },
            "opacity": 0.8,
            "showarrow": false,
            "text": "20.0 Yds",
            "x": 100,
            "y": 5
           }
          ],
          "title": "punt_downed"
         }
        },
        {
         "data": [
          {
           "marker": {
            "color": "#013369",
            "size": 15
           },
           "mode": "markers",
           "name": "Partner Player",
           "type": "scatter",
           "x": [
            22.170000076293945
           ],
           "y": [
            35.7400016784668
           ]
          },
          {
           "marker": {
            "color": "orange",
            "size": 15
           },
           "mode": "markers",
           "name": "Injured Player",
           "type": "scatter",
           "x": [
            10.479999542236328
           ],
           "y": [
            54.27000045776367
           ]
          },
          {
           "line": {
            "color": "#2c3539",
            "width": 2
           },
           "mode": "lines",
           "name": "Distance",
           "text": "Distance: 22.0",
           "textposition": "bottom center",
           "type": "scatter",
           "x": [
            10.479999542236328,
            22.170000076293945,
            null,
            10.479999542236328,
            22.170000076293945
           ],
           "y": [
            54.27000045776367,
            35.7400016784668,
            null,
            54.27000045776367,
            35.7400016784668
           ]
          }
         ],
         "layout": {
          "annotations": [
           {
            "align": "center",
            "bgcolor": "#2c3539",
            "bordercolor": "#c7c7c7",
            "borderpad": 4,
            "borderwidth": 2,
            "font": {
             "color": "#ffffff",
             "family": "Courier New, monospace",
             "size": 14
            },
            "opacity": 0.8,
            "showarrow": false,
            "text": "22.0 Yds",
            "x": 100,
            "y": 5
           }
          ],
          "title": "punt_downed"
         }
        },
        {
         "data": [
          {
           "marker": {
            "color": "#013369",
            "size": 15
           },
           "mode": "markers",
           "name": "Partner Player",
           "type": "scatter",
           "x": [
            23.209999084472656
           ],
           "y": [
            34.209999084472656
           ]
          },
          {
           "marker": {
            "color": "orange",
            "size": 15
           },
           "mode": "markers",
           "name": "Injured Player",
           "type": "scatter",
           "x": [
            10.630000114440918
           ],
           "y": [
            54.11999893188477
           ]
          },
          {
           "line": {
            "color": "#2c3539",
            "width": 2
           },
           "mode": "lines",
           "name": "Distance",
           "text": "Distance: 24.0",
           "textposition": "bottom center",
           "type": "scatter",
           "x": [
            10.630000114440918,
            23.209999084472656,
            null,
            10.630000114440918,
            23.209999084472656
           ],
           "y": [
            54.11999893188477,
            34.209999084472656,
            null,
            54.11999893188477,
            34.209999084472656
           ]
          }
         ],
         "layout": {
          "annotations": [
           {
            "align": "center",
            "bgcolor": "#2c3539",
            "bordercolor": "#c7c7c7",
            "borderpad": 4,
            "borderwidth": 2,
            "font": {
             "color": "#ffffff",
             "family": "Courier New, monospace",
             "size": 14
            },
            "opacity": 0.8,
            "showarrow": false,
            "text": "24.0 Yds",
            "x": 100,
            "y": 5
           }
          ],
          "title": "punt_downed"
         }
        },
        {
         "data": [
          {
           "marker": {
            "color": "#013369",
            "size": 15
           },
           "mode": "markers",
           "name": "Partner Player",
           "type": "scatter",
           "x": [
            24.440000534057607
           ],
           "y": [
            32.610000610351555
           ]
          },
          {
           "marker": {
            "color": "orange",
            "size": 15
           },
           "mode": "markers",
           "name": "Injured Player",
           "type": "scatter",
           "x": [
            10.289999961853027
           ],
           "y": [
            54.099998474121094
           ]
          },
          {
           "line": {
            "color": "#2c3539",
            "width": 2
           },
           "mode": "lines",
           "name": "Distance",
           "text": "Distance: 26.0",
           "textposition": "bottom center",
           "type": "scatter",
           "x": [
            10.289999961853027,
            24.440000534057607,
            null,
            10.289999961853027,
            24.440000534057607
           ],
           "y": [
            54.099998474121094,
            32.610000610351555,
            null,
            54.099998474121094,
            32.610000610351555
           ]
          }
         ],
         "layout": {
          "annotations": [
           {
            "align": "center",
            "bgcolor": "#2c3539",
            "bordercolor": "#c7c7c7",
            "borderpad": 4,
            "borderwidth": 2,
            "font": {
             "color": "#ffffff",
             "family": "Courier New, monospace",
             "size": 14
            },
            "opacity": 0.8,
            "showarrow": false,
            "text": "26.0 Yds",
            "x": 100,
            "y": 5
           }
          ],
          "title": "punt_downed"
         }
        },
        {
         "data": [
          {
           "marker": {
            "color": "#013369",
            "size": 15
           },
           "mode": "markers",
           "name": "Partner Player",
           "type": "scatter",
           "x": [
            25.649999618530273
           ],
           "y": [
            31.10000038146973
           ]
          },
          {
           "marker": {
            "color": "orange",
            "size": 15
           },
           "mode": "markers",
           "name": "Injured Player",
           "type": "scatter",
           "x": [
            9.970000267028807
           ],
           "y": [
            54.290000915527344
           ]
          },
          {
           "line": {
            "color": "#2c3539",
            "width": 2
           },
           "mode": "lines",
           "name": "Distance",
           "text": "Distance: 28.0",
           "textposition": "bottom center",
           "type": "scatter",
           "x": [
            9.970000267028807,
            25.649999618530273,
            null,
            9.970000267028807,
            25.649999618530273
           ],
           "y": [
            54.290000915527344,
            31.10000038146973,
            null,
            54.290000915527344,
            31.10000038146973
           ]
          }
         ],
         "layout": {
          "annotations": [
           {
            "align": "center",
            "bgcolor": "#2c3539",
            "bordercolor": "#c7c7c7",
            "borderpad": 4,
            "borderwidth": 2,
            "font": {
             "color": "#ffffff",
             "family": "Courier New, monospace",
             "size": 14
            },
            "opacity": 0.8,
            "showarrow": false,
            "text": "28.0 Yds",
            "x": 100,
            "y": 5
           }
          ],
          "title": "punt_downed"
         }
        },
        {
         "data": [
          {
           "marker": {
            "color": "#013369",
            "size": 15
           },
           "mode": "markers",
           "name": "Partner Player",
           "type": "scatter",
           "x": [
            26.819999694824208
           ],
           "y": [
            29.60000038146973
           ]
          },
          {
           "marker": {
            "color": "orange",
            "size": 15
           },
           "mode": "markers",
           "name": "Injured Player",
           "type": "scatter",
           "x": [
            10.25
           ],
           "y": [
            54.11000061035156
           ]
          },
          {
           "line": {
            "color": "#2c3539",
            "width": 2
           },
           "mode": "lines",
           "name": "Distance",
           "text": "Distance: 30.0",
           "textposition": "bottom center",
           "type": "scatter",
           "x": [
            10.25,
            26.819999694824208,
            null,
            10.25,
            26.819999694824208
           ],
           "y": [
            54.11000061035156,
            29.60000038146973,
            null,
            54.11000061035156,
            29.60000038146973
           ]
          }
         ],
         "layout": {
          "annotations": [
           {
            "align": "center",
            "bgcolor": "#2c3539",
            "bordercolor": "#c7c7c7",
            "borderpad": 4,
            "borderwidth": 2,
            "font": {
             "color": "#ffffff",
             "family": "Courier New, monospace",
             "size": 14
            },
            "opacity": 0.8,
            "showarrow": false,
            "text": "30.0 Yds",
            "x": 100,
            "y": 5
           }
          ],
          "title": "punt_downed"
         }
        },
        {
         "data": [
          {
           "marker": {
            "color": "#013369",
            "size": 15
           },
           "mode": "markers",
           "name": "Partner Player",
           "type": "scatter",
           "x": [
            28.020000457763672
           ],
           "y": [
            28.18000030517578
           ]
          },
          {
           "marker": {
            "color": "orange",
            "size": 15
           },
           "mode": "markers",
           "name": "Injured Player",
           "type": "scatter",
           "x": [
            10.590000152587892
           ],
           "y": [
            54.43000030517578
           ]
          },
          {
           "line": {
            "color": "#2c3539",
            "width": 2
           },
           "mode": "lines",
           "name": "Distance",
           "text": "Distance: 32.0",
           "textposition": "bottom center",
           "type": "scatter",
           "x": [
            10.590000152587892,
            28.020000457763672,
            null,
            10.590000152587892,
            28.020000457763672
           ],
           "y": [
            54.43000030517578,
            28.18000030517578,
            null,
            54.43000030517578,
            28.18000030517578
           ]
          }
         ],
         "layout": {
          "annotations": [
           {
            "align": "center",
            "bgcolor": "#2c3539",
            "bordercolor": "#c7c7c7",
            "borderpad": 4,
            "borderwidth": 2,
            "font": {
             "color": "#ffffff",
             "family": "Courier New, monospace",
             "size": 14
            },
            "opacity": 0.8,
            "showarrow": false,
            "text": "32.0 Yds",
            "x": 100,
            "y": 5
           }
          ],
          "title": "punt_downed"
         }
        }
       ],
       "layout": {
        "hovermode": "closest",
        "plot_bgcolor": "darkseagreen",
        "shapes": [
         {
          "layer": "below",
          "line": {
           "color": "white",
           "width": 2
          },
          "type": "line",
          "x0": 0,
          "x1": 120,
          "y0": 0,
          "y1": 0
         },
         {
          "layer": "below",
          "line": {
           "color": "white",
           "width": 2
          },
          "type": "line",
          "x0": 0,
          "x1": 120,
          "y0": 53.3,
          "y1": 53.3
         },
         {
          "layer": "below",
          "line": {
           "color": "white",
           "width": 10
          },
          "type": "line",
          "x0": 10,
          "x1": 10,
          "y0": 0,
          "y1": 53.3
         },
         {
          "layer": "below",
          "line": {
           "color": "white"
          },
          "type": "line",
          "x0": 20,
          "x1": 20,
          "y0": 0,
          "y1": 53.3
         },
         {
          "layer": "below",
          "line": {
           "color": "white"
          },
          "type": "line",
          "x0": 30,
          "x1": 30,
          "y0": 0,
          "y1": 53.3
         },
         {
          "layer": "below",
          "line": {
           "color": "white"
          },
          "type": "line",
          "x0": 40,
          "x1": 40,
          "y0": 0,
          "y1": 53.3
         },
         {
          "layer": "below",
          "line": {
           "color": "white"
          },
          "type": "line",
          "x0": 50,
          "x1": 50,
          "y0": 0,
          "y1": 53.3
         },
         {
          "layer": "below",
          "line": {
           "color": "white"
          },
          "type": "line",
          "x0": 60,
          "x1": 60,
          "y0": 0,
          "y1": 53.3
         },
         {
          "layer": "below",
          "line": {
           "color": "white"
          },
          "type": "line",
          "x0": 70,
          "x1": 70,
          "y0": 0,
          "y1": 53.3
         },
         {
          "layer": "below",
          "line": {
           "color": "white"
          },
          "type": "line",
          "x0": 80,
          "x1": 80,
          "y0": 0,
          "y1": 53.3
         },
         {
          "layer": "below",
          "line": {
           "color": "white"
          },
          "type": "line",
          "x0": 90,
          "x1": 90,
          "y0": 0,
          "y1": 53.3
         },
         {
          "layer": "below",
          "line": {
           "color": "white"
          },
          "type": "line",
          "x0": 100,
          "x1": 100,
          "y0": 0,
          "y1": 53.3
         },
         {
          "layer": "below",
          "line": {
           "color": "white",
           "width": 10
          },
          "type": "line",
          "x0": 110,
          "x1": 110,
          "y0": 0,
          "y1": 53.3
         }
        ],
        "showlegend": true,
        "title": "Player Activity",
        "updatemenus": [
         {
          "buttons": [
           {
            "args": [
             null
            ],
            "label": "Play",
            "method": "animate"
           }
          ],
          "type": "buttons"
         }
        ],
        "xaxis": {
         "autorange": false,
         "linecolor": "black",
         "linewidth": 1,
         "mirror": true,
         "range": [
          0,
          120
         ],
         "showgrid": false,
         "showline": true,
         "showticklabels": true,
         "tickmode": "array",
         "ticks": "",
         "ticktext": [
          "Goal",
          10,
          20,
          30,
          40,
          50,
          40,
          30,
          20,
          10,
          "Goal"
         ],
         "tickvals": [
          10,
          20,
          30,
          40,
          50,
          60,
          70,
          80,
          90,
          100,
          110
         ],
         "zeroline": false
        },
        "yaxis": {
         "autorange": false,
         "linecolor": "black",
         "linewidth": 1,
         "mirror": true,
         "range": [
          -3.3,
          56.3
         ],
         "showgrid": false,
         "showline": true,
         "showticklabels": false,
         "ticks": "",
         "title": "",
         "zeroline": false
        }
       }
      },
      "text/html": [
       "<div id=\"835f2640-870a-4d8c-a243-c9518848c41a\" style=\"height: 525px; width: 100%;\" class=\"plotly-graph-div\"></div><script type=\"text/javascript\">require([\"plotly\"], function(Plotly) { window.PLOTLYENV=window.PLOTLYENV || {};window.PLOTLYENV.BASE_URL=\"https://plot.ly\";\n",
       "        Plotly.plot(\n",
       "            '835f2640-870a-4d8c-a243-c9518848c41a',\n",
       "            [{\"line\": {\"width\": 2}, \"mode\": \"lines\", \"name\": \"Distance\", \"textposition\": \"bottom center\", \"x\": [59.58000183105469, 59.56999969482422, 59.58000183105469, 59.61000061035156, 59.68000030517578, 59.77999877929688, 59.9099998474121, 60.040000915527344, 60.18000030517578, 60.31999969482422, 60.4900016784668, 60.68999862670898, 60.88000106811523, 61.06000137329102, 61.22999954223633, 61.36999893188477, 61.47000122070313, 61.54999923706055, 61.61999893188477, 61.68000030517578, 61.68999862670898, 61.66999816894531, 61.61999893188477, 61.5099983215332, 61.36999893188477, 61.18000030517578, 60.91999816894531, 60.59000015258789, 60.22000122070313, 59.790000915527344, 59.290000915527344, 58.7599983215332, 58.20000076293945, 57.599998474121094, 56.97999954223633, 56.36999893188477, 55.77000045776367, 55.18999862670898, 54.599998474121094, 53.9900016784668, 53.36000061035156, 52.70000076293945, 52.08000183105469, 51.52000045776367, 50.91999816894531, 50.22999954223633, 49.52000045776367, 48.77999877929688, 48.0, 47.16999816894531, 46.349998474121094, 45.54999923706055, 44.7400016784668, 43.88999938964844, 43.02999877929688, 42.180000305175774, 41.310001373291016, 40.41999816894531, 39.52999877929688, 38.63999938964844, 37.7400016784668, 36.849998474121094, 35.970001220703125, 35.139999389648445, 34.299999237060554, 33.47999954223633, 32.650001525878906, 31.84000015258789, 31.03000068664551, 30.239999771118164, 29.459999084472656, 28.68000030517578, 27.899999618530273, 27.149999618530273, 26.3799991607666, 25.57999992370605, 24.790000915527344, 24.01000022888184, 23.239999771118164, 22.489999771118164, 21.729999542236328, 20.959999084472656, 20.18000030517578, 19.399999618530273, 18.610000610351566, 17.829999923706055, 17.059999465942386, 16.309999465942386, 15.5600004196167, 14.81999969482422, 14.090000152587892, 13.409999847412108, 12.6899995803833, 11.949999809265135, 11.359999656677244, 10.880000114440918, 10.510000228881836, 10.289999961853027, 10.140000343322754, 10.06999969482422, 10.090000152587892, 10.149999618530273, 10.199999809265137, 10.260000228881836, 10.3100004196167, 10.329999923706056, 10.340000152587892, 10.3100004196167, 10.279999732971193, 10.289999961853027, 10.31999969482422, 10.3100004196167, 10.340000152587892, 10.4399995803833, 10.590000152587892, 10.729999542236328, 10.880000114440918, 11.010000228881836, 11.079999923706056, 11.109999656677246, 11.100000381469727, 11.090000152587892, 11.090000152587892, 11.109999656677246, 11.149999618530273, 11.199999809265137, 11.270000457763672, 11.359999656677244, 11.369999885559082, 11.340000152587892, 11.3100004196167, 11.289999961853027, 11.279999732971193, 11.270000457763672, 11.260000228881836, 11.239999771118164, 11.1899995803833, 11.119999885559082, 11.050000190734863, 11.020000457763672, 11.020000457763672, 11.050000190734863, 11.039999961853027, 11.079999923706056, 11.079999923706056, 11.090000152587892, 11.100000381469727, 11.109999656677246, 11.020000457763672, 10.949999809265137, 10.970000267028807, 11.079999923706056, 11.220000267028807, 11.270000457763672, 11.220000267028807, 11.149999618530273, 11.109999656677246, 11.100000381469727, 11.119999885559082, 11.119999885559082, 11.100000381469727, 11.039999961853027, 11.010000228881836, 11.020000457763672, 11.010000228881836, 11.0, 10.970000267028807, 10.9399995803833, 10.899999618530273, 10.859999656677246, 10.779999732971193, 10.710000038146973, 10.720000267028807, 10.710000038146973, 10.68000030517578, 10.649999618530273, 10.630000114440918, 10.609999656677246, 10.520000457763672, 10.460000038146973, 10.479999542236328, 10.510000228881836, 10.550000190734863, 10.579999923706056, 10.609999656677246, 10.630000114440918, 10.630000114440918, 10.609999656677246, 10.520000457763672, 10.380000114440918, 10.289999961853027, 10.25, 10.239999771118164, 10.25, 10.170000076293944, 9.970000267028807, 10.0600004196167, 10.109999656677246, 10.149999618530273, 10.199999809265137, 10.25, 10.329999923706056, 10.43000030517578, 10.5, 10.550000190734863, 10.590000152587892, 10.5600004196167], \"y\": [30.729999542236328, 30.729999542236328, 30.71999931335449, 30.71999931335449, 30.71999931335449, 30.71999931335449, 30.71999931335449, 30.71999931335449, 30.71999931335449, 30.71999931335449, 30.70000076293945, 30.65999984741211, 30.6200008392334, 30.610000610351573, 30.59000015258789, 30.59000015258789, 30.6299991607666, 30.76000022888184, 30.920000076293945, 31.1200008392334, 31.319999694824208, 31.559999465942386, 31.85000038146973, 32.189998626708984, 32.529998779296875, 32.880001068115234, 33.259998321533196, 33.669998168945305, 34.09000015258789, 34.47999954223633, 34.830001831054695, 35.16999816894532, 35.47999954223633, 35.7599983215332, 36.04999923706055, 36.36000061035156, 36.70000076293945, 37.08000183105469, 37.4900016784668, 37.930000305175774, 38.36999893188477, 38.790000915527344, 39.180000305175774, 39.5, 39.83000183105469, 40.1599998474121, 40.4900016784668, 40.77999877929688, 41.06999969482422, 41.34000015258789, 41.58000183105469, 41.77999877929688, 41.97000122070313, 42.13000106811523, 42.27999877929688, 42.41999816894531, 42.540000915527344, 42.650001525878906, 42.75, 42.86000061035156, 42.97999954223633, 43.09000015258789, 43.209999084472656, 43.34000015258789, 43.47999954223633, 43.63999938964844, 43.810001373291016, 44.0, 44.209999084472656, 44.47000122070313, 44.7400016784668, 45.040000915527344, 45.36000061035156, 45.709999084472656, 46.06999969482422, 46.43999862670898, 46.81999969482422, 47.209999084472656, 47.599998474121094, 48.0, 48.38000106811523, 48.75, 49.11999893188477, 49.47999954223633, 49.849998474121094, 50.209999084472656, 50.56999969482422, 50.9099998474121, 51.22999954223633, 51.52000045776367, 51.790000915527344, 52.02000045776367, 52.25, 52.4900016784668, 52.66999816894531, 52.77999877929688, 52.88000106811523, 52.97999954223633, 53.040000915527344, 53.04999923706055, 53.06000137329102, 53.09000015258789, 53.13000106811523, 53.11999893188477, 53.08000183105469, 53.040000915527344, 53.040000915527344, 53.04999923706055, 53.06000137329102, 53.02999877929688, 53.0099983215332, 53.0, 52.97000122070313, 52.88999938964844, 52.790000915527344, 52.72000122070313, 52.6599998474121, 52.66999816894531, 52.70000076293945, 52.709999084472656, 52.77000045776367, 52.83000183105469, 52.86999893188477, 52.88000106811523, 52.86000061035156, 52.81000137329102, 52.66999816894531, 52.47000122070313, 52.47999954223633, 52.56999969482422, 52.68000030517578, 52.77000045776367, 52.81999969482422, 52.86999893188477, 52.9000015258789, 52.95000076293945, 53.0, 53.04999923706055, 53.11000061035156, 53.1599998474121, 53.1500015258789, 53.099998474121094, 53.11000061035156, 53.1599998474121, 53.22000122070313, 53.27999877929688, 53.33000183105469, 53.4000015258789, 53.47000122070313, 53.58000183105469, 53.709999084472656, 53.79999923706055, 53.88000106811523, 53.93999862670898, 53.84000015258789, 53.7400016784668, 53.68999862670898, 53.6599998474121, 53.66999816894531, 53.68999862670898, 53.709999084472656, 53.6599998474121, 53.5099983215332, 53.38000106811523, 53.36000061035156, 53.45000076293945, 53.56000137329102, 53.68999862670898, 53.86000061035156, 53.97999954223633, 54.040000915527344, 54.08000183105469, 54.11000061035156, 54.1599998474121, 54.20000076293945, 54.2400016784668, 54.27000045776367, 54.27999877929688, 54.29999923706055, 54.29999923706055, 54.27000045776367, 54.2400016784668, 54.20000076293945, 54.16999816894531, 54.13999938964844, 54.11999893188477, 54.11000061035156, 54.13000106811523, 54.1599998474121, 54.11999893188477, 54.099998474121094, 54.11999893188477, 54.1500015258789, 54.18000030517578, 54.22999954223633, 54.290000915527344, 54.290000915527344, 54.2400016784668, 54.16999816894531, 54.11000061035156, 54.11000061035156, 54.1599998474121, 54.209999084472656, 54.27000045776367, 54.36000061035156, 54.43000030517578, 54.47000122070313], \"type\": \"scatter\", \"uid\": \"e6f9b85d-f02f-4ef4-ab66-da7a37aeb45e\"}, {\"marker\": {\"size\": 15}, \"mode\": \"markers\", \"name\": \"Injured Player\", \"x\": [59.58000183105469, 59.56999969482422, 59.58000183105469, 59.61000061035156, 59.68000030517578, 59.77999877929688, 59.9099998474121, 60.040000915527344, 60.18000030517578, 60.31999969482422, 60.4900016784668, 60.68999862670898, 60.88000106811523, 61.06000137329102, 61.22999954223633, 61.36999893188477, 61.47000122070313, 61.54999923706055, 61.61999893188477, 61.68000030517578, 61.68999862670898, 61.66999816894531, 61.61999893188477, 61.5099983215332, 61.36999893188477, 61.18000030517578, 60.91999816894531, 60.59000015258789, 60.22000122070313, 59.790000915527344, 59.290000915527344, 58.7599983215332, 58.20000076293945, 57.599998474121094, 56.97999954223633, 56.36999893188477, 55.77000045776367, 55.18999862670898, 54.599998474121094, 53.9900016784668, 53.36000061035156, 52.70000076293945, 52.08000183105469, 51.52000045776367, 50.91999816894531, 50.22999954223633, 49.52000045776367, 48.77999877929688, 48.0, 47.16999816894531, 46.349998474121094, 45.54999923706055, 44.7400016784668, 43.88999938964844, 43.02999877929688, 42.180000305175774, 41.310001373291016, 40.41999816894531, 39.52999877929688, 38.63999938964844, 37.7400016784668, 36.849998474121094, 35.970001220703125, 35.139999389648445, 34.299999237060554, 33.47999954223633, 32.650001525878906, 31.84000015258789, 31.03000068664551, 30.239999771118164, 29.459999084472656, 28.68000030517578, 27.899999618530273, 27.149999618530273, 26.3799991607666, 25.57999992370605, 24.790000915527344, 24.01000022888184, 23.239999771118164, 22.489999771118164, 21.729999542236328, 20.959999084472656, 20.18000030517578, 19.399999618530273, 18.610000610351566, 17.829999923706055, 17.059999465942386, 16.309999465942386, 15.5600004196167, 14.81999969482422, 14.090000152587892, 13.409999847412108, 12.6899995803833, 11.949999809265135, 11.359999656677244, 10.880000114440918, 10.510000228881836, 10.289999961853027, 10.140000343322754, 10.06999969482422, 10.090000152587892, 10.149999618530273, 10.199999809265137, 10.260000228881836, 10.3100004196167, 10.329999923706056, 10.340000152587892, 10.3100004196167, 10.279999732971193, 10.289999961853027, 10.31999969482422, 10.3100004196167, 10.340000152587892, 10.4399995803833, 10.590000152587892, 10.729999542236328, 10.880000114440918, 11.010000228881836, 11.079999923706056, 11.109999656677246, 11.100000381469727, 11.090000152587892, 11.090000152587892, 11.109999656677246, 11.149999618530273, 11.199999809265137, 11.270000457763672, 11.359999656677244, 11.369999885559082, 11.340000152587892, 11.3100004196167, 11.289999961853027, 11.279999732971193, 11.270000457763672, 11.260000228881836, 11.239999771118164, 11.1899995803833, 11.119999885559082, 11.050000190734863, 11.020000457763672, 11.020000457763672, 11.050000190734863, 11.039999961853027, 11.079999923706056, 11.079999923706056, 11.090000152587892, 11.100000381469727, 11.109999656677246, 11.020000457763672, 10.949999809265137, 10.970000267028807, 11.079999923706056, 11.220000267028807, 11.270000457763672, 11.220000267028807, 11.149999618530273, 11.109999656677246, 11.100000381469727, 11.119999885559082, 11.119999885559082, 11.100000381469727, 11.039999961853027, 11.010000228881836, 11.020000457763672, 11.010000228881836, 11.0, 10.970000267028807, 10.9399995803833, 10.899999618530273, 10.859999656677246, 10.779999732971193, 10.710000038146973, 10.720000267028807, 10.710000038146973, 10.68000030517578, 10.649999618530273, 10.630000114440918, 10.609999656677246, 10.520000457763672, 10.460000038146973, 10.479999542236328, 10.510000228881836, 10.550000190734863, 10.579999923706056, 10.609999656677246, 10.630000114440918, 10.630000114440918, 10.609999656677246, 10.520000457763672, 10.380000114440918, 10.289999961853027, 10.25, 10.239999771118164, 10.25, 10.170000076293944, 9.970000267028807, 10.0600004196167, 10.109999656677246, 10.149999618530273, 10.199999809265137, 10.25, 10.329999923706056, 10.43000030517578, 10.5, 10.550000190734863, 10.590000152587892, 10.5600004196167], \"y\": [30.729999542236328, 30.729999542236328, 30.71999931335449, 30.71999931335449, 30.71999931335449, 30.71999931335449, 30.71999931335449, 30.71999931335449, 30.71999931335449, 30.71999931335449, 30.70000076293945, 30.65999984741211, 30.6200008392334, 30.610000610351573, 30.59000015258789, 30.59000015258789, 30.6299991607666, 30.76000022888184, 30.920000076293945, 31.1200008392334, 31.319999694824208, 31.559999465942386, 31.85000038146973, 32.189998626708984, 32.529998779296875, 32.880001068115234, 33.259998321533196, 33.669998168945305, 34.09000015258789, 34.47999954223633, 34.830001831054695, 35.16999816894532, 35.47999954223633, 35.7599983215332, 36.04999923706055, 36.36000061035156, 36.70000076293945, 37.08000183105469, 37.4900016784668, 37.930000305175774, 38.36999893188477, 38.790000915527344, 39.180000305175774, 39.5, 39.83000183105469, 40.1599998474121, 40.4900016784668, 40.77999877929688, 41.06999969482422, 41.34000015258789, 41.58000183105469, 41.77999877929688, 41.97000122070313, 42.13000106811523, 42.27999877929688, 42.41999816894531, 42.540000915527344, 42.650001525878906, 42.75, 42.86000061035156, 42.97999954223633, 43.09000015258789, 43.209999084472656, 43.34000015258789, 43.47999954223633, 43.63999938964844, 43.810001373291016, 44.0, 44.209999084472656, 44.47000122070313, 44.7400016784668, 45.040000915527344, 45.36000061035156, 45.709999084472656, 46.06999969482422, 46.43999862670898, 46.81999969482422, 47.209999084472656, 47.599998474121094, 48.0, 48.38000106811523, 48.75, 49.11999893188477, 49.47999954223633, 49.849998474121094, 50.209999084472656, 50.56999969482422, 50.9099998474121, 51.22999954223633, 51.52000045776367, 51.790000915527344, 52.02000045776367, 52.25, 52.4900016784668, 52.66999816894531, 52.77999877929688, 52.88000106811523, 52.97999954223633, 53.040000915527344, 53.04999923706055, 53.06000137329102, 53.09000015258789, 53.13000106811523, 53.11999893188477, 53.08000183105469, 53.040000915527344, 53.040000915527344, 53.04999923706055, 53.06000137329102, 53.02999877929688, 53.0099983215332, 53.0, 52.97000122070313, 52.88999938964844, 52.790000915527344, 52.72000122070313, 52.6599998474121, 52.66999816894531, 52.70000076293945, 52.709999084472656, 52.77000045776367, 52.83000183105469, 52.86999893188477, 52.88000106811523, 52.86000061035156, 52.81000137329102, 52.66999816894531, 52.47000122070313, 52.47999954223633, 52.56999969482422, 52.68000030517578, 52.77000045776367, 52.81999969482422, 52.86999893188477, 52.9000015258789, 52.95000076293945, 53.0, 53.04999923706055, 53.11000061035156, 53.1599998474121, 53.1500015258789, 53.099998474121094, 53.11000061035156, 53.1599998474121, 53.22000122070313, 53.27999877929688, 53.33000183105469, 53.4000015258789, 53.47000122070313, 53.58000183105469, 53.709999084472656, 53.79999923706055, 53.88000106811523, 53.93999862670898, 53.84000015258789, 53.7400016784668, 53.68999862670898, 53.6599998474121, 53.66999816894531, 53.68999862670898, 53.709999084472656, 53.6599998474121, 53.5099983215332, 53.38000106811523, 53.36000061035156, 53.45000076293945, 53.56000137329102, 53.68999862670898, 53.86000061035156, 53.97999954223633, 54.040000915527344, 54.08000183105469, 54.11000061035156, 54.1599998474121, 54.20000076293945, 54.2400016784668, 54.27000045776367, 54.27999877929688, 54.29999923706055, 54.29999923706055, 54.27000045776367, 54.2400016784668, 54.20000076293945, 54.16999816894531, 54.13999938964844, 54.11999893188477, 54.11000061035156, 54.13000106811523, 54.1599998474121, 54.11999893188477, 54.099998474121094, 54.11999893188477, 54.1500015258789, 54.18000030517578, 54.22999954223633, 54.290000915527344, 54.290000915527344, 54.2400016784668, 54.16999816894531, 54.11000061035156, 54.11000061035156, 54.1599998474121, 54.209999084472656, 54.27000045776367, 54.36000061035156, 54.43000030517578, 54.47000122070313], \"type\": \"scatter\", \"uid\": \"52085846-1884-4b04-b714-3c430ecedf0d\"}, {\"marker\": {\"color\": \"orange\", \"size\": 15}, \"mode\": \"markers\", \"name\": \"Partner Player\", \"x\": [19.8799991607666, 19.8700008392334, 19.860000610351566, 19.850000381469727, 19.860000610351566, 19.8700008392334, 19.8700008392334, 19.8700008392334, 19.860000610351566, 19.860000610351566, 19.860000610351566, 19.8700008392334, 19.860000610351566, 19.850000381469727, 19.8799991607666, 19.88999938964844, 19.88999938964844, 19.90999984741211, 19.90999984741211, 19.88999938964844, 19.88999938964844, 19.8799991607666, 19.8700008392334, 19.8799991607666, 19.8700008392334, 19.8700008392334, 19.850000381469727, 19.81999969482421, 19.790000915527344, 19.770000457763672, 19.770000457763672, 19.770000457763672, 19.76000022888184, 19.75, 19.75, 19.729999542236328, 19.729999542236328, 19.75, 19.770000457763672, 19.770000457763672, 19.770000457763672, 19.770000457763672, 19.790000915527344, 19.840000152587887, 19.88999938964844, 19.950000762939453, 20.030000686645508, 20.100000381469727, 20.170000076293945, 20.270000457763672, 20.3700008392334, 20.440000534057614, 20.46999931335449, 20.459999084472656, 20.420000076293945, 20.3700008392334, 20.280000686645508, 20.110000610351566, 19.899999618530273, 19.65999984741211, 19.420000076293945, 19.170000076293945, 18.93000030517578, 18.649999618530273, 18.32999992370605, 18.0, 17.670000076293945, 17.319999694824222, 16.959999084472653, 16.610000610351566, 16.25, 15.869999885559082, 15.460000038146973, 15.06999969482422, 14.75, 14.380000114440918, 14.010000228881836, 13.649999618530273, 13.289999961853027, 12.93000030517578, 12.590000152587892, 12.3100004196167, 12.020000457763672, 11.8100004196167, 11.659999847412108, 11.539999961853027, 11.479999542236328, 11.489999771118164, 11.590000152587892, 11.789999961853027, 11.920000076293945, 11.979999542236328, 11.9399995803833, 11.829999923706055, 11.670000076293945, 11.5, 11.31999969482422, 11.149999618530273, 11.029999732971193, 10.909999847412108, 10.720000267028807, 10.520000457763672, 10.550000190734863, 10.649999618530273, 10.729999542236328, 10.869999885559082, 11.0600004196167, 11.149999618530273, 11.229999542236328, 11.329999923706055, 11.390000343322756, 11.43000030517578, 11.449999809265135, 11.380000114440918, 11.289999961853027, 11.279999732971193, 11.289999961853027, 11.31999969482422, 11.350000381469727, 11.43000030517578, 11.5, 11.640000343322756, 11.779999732971193, 11.909999847412108, 12.020000457763672, 12.100000381469727, 12.18000030517578, 12.270000457763672, 12.390000343322756, 12.479999542236328, 12.590000152587892, 12.659999847412108, 12.739999771118164, 12.880000114440918, 13.039999961853027, 13.1899995803833, 13.359999656677244, 13.550000190734865, 13.729999542236328, 13.9399995803833, 14.109999656677244, 14.239999771118164, 14.390000343322756, 14.600000381469727, 14.800000190734865, 15.029999732971193, 15.3100004196167, 15.489999771118164, 15.600000381469727, 15.739999771118164, 15.909999847412108, 16.180000305175778, 16.379999160766598, 16.559999465942386, 16.719999313354492, 16.860000610351566, 17.010000228881836, 17.209999084472653, 17.430000305175778, 17.65999984741211, 17.84000015258789, 17.979999542236328, 18.1200008392334, 18.31999969482421, 18.57999992370605, 18.82999992370605, 19.06999969482421, 19.299999237060547, 19.5, 19.690000534057614, 19.88999938964844, 20.090000152587887, 20.340000152587887, 20.61000061035156, 20.860000610351566, 21.06999969482421, 21.270000457763672, 21.5, 21.709999084472656, 21.920000076293945, 22.170000076293945, 22.399999618530273, 22.6200008392334, 22.79999923706055, 22.989999771118164, 23.209999084472656, 23.479999542236328, 23.739999771118164, 23.979999542236328, 24.21999931335449, 24.440000534057607, 24.649999618530273, 24.8799991607666, 25.1299991607666, 25.399999618530273, 25.649999618530273, 25.88999938964844, 26.1200008392334, 26.32999992370605, 26.54999923706055, 26.819999694824208, 27.10000038146973, 27.35000038146973, 27.59000015258789, 27.79999923706055, 28.020000457763672, 28.25], \"y\": [29.739999771118164, 29.729999542236328, 29.739999771118164, 29.739999771118164, 29.739999771118164, 29.76000022888184, 29.76000022888184, 29.770000457763672, 29.78000068664551, 29.790000915527344, 29.809999465942386, 29.809999465942386, 29.790000915527344, 29.76000022888184, 29.75, 29.739999771118164, 29.739999771118164, 29.739999771118164, 29.75, 29.729999542236328, 29.729999542236328, 29.68000030517578, 29.68000030517578, 29.70000076293945, 29.690000534057607, 29.690000534057607, 29.709999084472656, 29.76000022888184, 29.79999923706055, 29.84000015258789, 29.93000030517578, 30.04999923706055, 30.25, 30.489999771118164, 30.76000022888184, 31.110000610351573, 31.46999931335449, 31.8799991607666, 32.279998779296875, 32.72999954223633, 33.18000030517578, 33.669998168945305, 34.16999816894532, 34.65999984741211, 35.15999984741211, 35.630001068115234, 36.099998474121094, 36.63999938964844, 37.16999816894531, 37.709999084472656, 38.2400016784668, 38.77000045776367, 39.27000045776367, 39.77000045776367, 40.27000045776367, 40.7599983215332, 41.2400016784668, 41.709999084472656, 42.180000305175774, 42.63999938964844, 43.06999969482422, 43.52000045776367, 44.0099983215332, 44.47000122070313, 44.93999862670898, 45.4099998474121, 45.86000061035156, 46.31999969482422, 46.75, 47.16999816894531, 47.599998474121094, 48.02999877929688, 48.45000076293945, 48.86999893188477, 49.31999969482422, 49.7599983215332, 50.2400016784668, 50.68999862670898, 51.11000061035156, 51.47000122070313, 51.84000015258789, 52.22000122070313, 52.52000045776367, 52.7400016784668, 52.95000076293945, 53.06000137329102, 53.06999969482422, 53.11000061035156, 53.13000106811523, 52.9900016784668, 52.83000183105469, 52.63999938964844, 52.459999084472656, 52.2599983215332, 52.02000045776367, 51.790000915527344, 51.599998474121094, 51.38000106811523, 51.22999954223633, 51.13999938964844, 51.11000061035156, 51.11999893188477, 51.09000015258789, 51.09000015258789, 51.04999923706055, 50.9900016784668, 50.9000015258789, 50.77000045776367, 50.6500015258789, 50.56000137329102, 50.56999969482422, 50.68000030517578, 50.83000183105469, 51.02000045776367, 51.20000076293945, 51.33000183105469, 51.38000106811523, 51.33000183105469, 51.209999084472656, 51.09000015258789, 50.9000015258789, 50.72000122070313, 50.56000137329102, 50.38999938964844, 50.22999954223633, 50.09000015258789, 49.93000030517578, 49.75, 49.56000137329102, 49.33000183105469, 49.11999893188477, 48.9099998474121, 48.7400016784668, 48.56000137329102, 48.43000030517578, 48.25, 48.06000137329102, 47.86999893188477, 47.6599998474121, 47.43999862670898, 47.22000122070313, 47.0, 46.75, 46.52000045776367, 46.290000915527344, 46.09000015258789, 45.95000076293945, 45.709999084472656, 45.4099998474121, 45.11000061035156, 44.83000183105469, 44.540000915527344, 44.209999084472656, 43.91999816894531, 43.63999938964844, 43.38000106811523, 43.11000061035156, 42.84000015258789, 42.540000915527344, 42.2400016784668, 41.93999862670898, 41.63000106811523, 41.33000183105469, 41.02000045776367, 40.72000122070313, 40.41999816894531, 40.099998474121094, 39.790000915527344, 39.459999084472656, 39.11999893188477, 38.77999877929688, 38.459999084472656, 38.13999938964844, 37.84000015258789, 37.540000915527344, 37.22999954223633, 36.93999862670898, 36.650001525878906, 36.349998474121094, 36.040000915527344, 35.7400016784668, 35.43000030517578, 35.130001068115234, 34.810001373291016, 34.509998321533196, 34.209999084472656, 33.91999816894532, 33.61000061035157, 33.290000915527344, 32.959999084472656, 32.610000610351555, 32.279998779296875, 31.96999931335449, 31.68000030517578, 31.38999938964844, 31.10000038146973, 30.79999923706055, 30.489999771118164, 30.190000534057607, 29.899999618530273, 29.60000038146973, 29.319999694824208, 29.03000068664551, 28.739999771118164, 28.459999084472656, 28.18000030517578, 27.90999984741211], \"type\": \"scatter\", \"uid\": \"cff40cd9-05a0-4267-b97f-07fd5525619d\"}],\n",
       "            {\"hovermode\": \"closest\", \"plot_bgcolor\": \"darkseagreen\", \"shapes\": [{\"layer\": \"below\", \"line\": {\"color\": \"white\", \"width\": 2}, \"type\": \"line\", \"x0\": 0, \"x1\": 120, \"y0\": 0, \"y1\": 0}, {\"layer\": \"below\", \"line\": {\"color\": \"white\", \"width\": 2}, \"type\": \"line\", \"x0\": 0, \"x1\": 120, \"y0\": 53.3, \"y1\": 53.3}, {\"layer\": \"below\", \"line\": {\"color\": \"white\", \"width\": 10}, \"type\": \"line\", \"x0\": 10, \"x1\": 10, \"y0\": 0, \"y1\": 53.3}, {\"layer\": \"below\", \"line\": {\"color\": \"white\"}, \"type\": \"line\", \"x0\": 20, \"x1\": 20, \"y0\": 0, \"y1\": 53.3}, {\"layer\": \"below\", \"line\": {\"color\": \"white\"}, \"type\": \"line\", \"x0\": 30, \"x1\": 30, \"y0\": 0, \"y1\": 53.3}, {\"layer\": \"below\", \"line\": {\"color\": \"white\"}, \"type\": \"line\", \"x0\": 40, \"x1\": 40, \"y0\": 0, \"y1\": 53.3}, {\"layer\": \"below\", \"line\": {\"color\": \"white\"}, \"type\": \"line\", \"x0\": 50, \"x1\": 50, \"y0\": 0, \"y1\": 53.3}, {\"layer\": \"below\", \"line\": {\"color\": \"white\"}, \"type\": \"line\", \"x0\": 60, \"x1\": 60, \"y0\": 0, \"y1\": 53.3}, {\"layer\": \"below\", \"line\": {\"color\": \"white\"}, \"type\": \"line\", \"x0\": 70, \"x1\": 70, \"y0\": 0, \"y1\": 53.3}, {\"layer\": \"below\", \"line\": {\"color\": \"white\"}, \"type\": \"line\", \"x0\": 80, \"x1\": 80, \"y0\": 0, \"y1\": 53.3}, {\"layer\": \"below\", \"line\": {\"color\": \"white\"}, \"type\": \"line\", \"x0\": 90, \"x1\": 90, \"y0\": 0, \"y1\": 53.3}, {\"layer\": \"below\", \"line\": {\"color\": \"white\"}, \"type\": \"line\", \"x0\": 100, \"x1\": 100, \"y0\": 0, \"y1\": 53.3}, {\"layer\": \"below\", \"line\": {\"color\": \"white\", \"width\": 10}, \"type\": \"line\", \"x0\": 110, \"x1\": 110, \"y0\": 0, \"y1\": 53.3}], \"showlegend\": true, \"title\": \"Player Activity\", \"updatemenus\": [{\"buttons\": [{\"args\": [null], \"label\": \"Play\", \"method\": \"animate\"}], \"type\": \"buttons\"}], \"xaxis\": {\"autorange\": false, \"linecolor\": \"black\", \"linewidth\": 1, \"mirror\": true, \"range\": [0, 120], \"showgrid\": false, \"showline\": true, \"showticklabels\": true, \"tickmode\": \"array\", \"ticks\": \"\", \"ticktext\": [\"Goal\", 10, 20, 30, 40, 50, 40, 30, 20, 10, \"Goal\"], \"tickvals\": [10, 20, 30, 40, 50, 60, 70, 80, 90, 100, 110], \"zeroline\": false}, \"yaxis\": {\"autorange\": false, \"linecolor\": \"black\", \"linewidth\": 1, \"mirror\": true, \"range\": [-3.3, 56.3], \"showgrid\": false, \"showline\": true, \"showticklabels\": false, \"ticks\": \"\", \"title\": \"\", \"zeroline\": false}},\n",
       "            {\"showLink\": true, \"linkText\": \"Export to plot.ly\", \"plotlyServerURL\": \"https://plot.ly\"}\n",
       "        ).then(function () {return Plotly.addFrames('835f2640-870a-4d8c-a243-c9518848c41a',[{\"data\": [{\"marker\": {\"color\": \"#013369\", \"size\": 15}, \"mode\": \"markers\", \"name\": \"Partner Player\", \"x\": [19.8799991607666], \"y\": [29.739999771118164], \"type\": \"scatter\"}, {\"marker\": {\"color\": \"orange\", \"size\": 15}, \"mode\": \"markers\", \"name\": \"Injured Player\", \"x\": [59.58000183105469], \"y\": [30.729999542236328], \"type\": \"scatter\"}, {\"line\": {\"color\": \"#2c3539\", \"width\": 2}, \"mode\": \"lines\", \"name\": \"Distance\", \"text\": \"Distance: 40.0\", \"textposition\": \"bottom center\", \"x\": [59.58000183105469, 19.8799991607666, null, 59.58000183105469, 19.8799991607666], \"y\": [30.729999542236328, 29.739999771118164, null, 30.729999542236328, 29.739999771118164], \"type\": \"scatter\"}], \"layout\": {\"annotations\": [{\"align\": \"center\", \"bgcolor\": \"#2c3539\", \"bordercolor\": \"#c7c7c7\", \"borderpad\": 4, \"borderwidth\": 2, \"font\": {\"color\": \"#ffffff\", \"family\": \"Courier New, monospace\", \"size\": 14}, \"opacity\": 0.8, \"showarrow\": false, \"text\": \"40.0 Yds\", \"x\": 100, \"y\": 5}], \"title\": \"ball_snap\"}}, {\"data\": [{\"marker\": {\"color\": \"#013369\", \"size\": 15}, \"mode\": \"markers\", \"name\": \"Partner Player\", \"x\": [19.8700008392334], \"y\": [29.76000022888184], \"type\": \"scatter\"}, {\"marker\": {\"color\": \"orange\", \"size\": 15}, \"mode\": \"markers\", \"name\": \"Injured Player\", \"x\": [59.77999877929688], \"y\": [30.71999931335449], \"type\": \"scatter\"}, {\"line\": {\"color\": \"#2c3539\", \"width\": 2}, \"mode\": \"lines\", \"name\": \"Distance\", \"text\": \"Distance: 40.0\", \"textposition\": \"bottom center\", \"x\": [59.77999877929688, 19.8700008392334, null, 59.77999877929688, 19.8700008392334], \"y\": [30.71999931335449, 29.76000022888184, null, 30.71999931335449, 29.76000022888184], \"type\": \"scatter\"}], \"layout\": {\"annotations\": [{\"align\": \"center\", \"bgcolor\": \"#2c3539\", \"bordercolor\": \"#c7c7c7\", \"borderpad\": 4, \"borderwidth\": 2, \"font\": {\"color\": \"#ffffff\", \"family\": \"Courier New, monospace\", \"size\": 14}, \"opacity\": 0.8, \"showarrow\": false, \"text\": \"40.0 Yds\", \"x\": 100, \"y\": 5}], \"title\": \"ball_snap\"}}, {\"data\": [{\"marker\": {\"color\": \"#013369\", \"size\": 15}, \"mode\": \"markers\", \"name\": \"Partner Player\", \"x\": [19.860000610351566], \"y\": [29.809999465942386], \"type\": \"scatter\"}, {\"marker\": {\"color\": \"orange\", \"size\": 15}, \"mode\": \"markers\", \"name\": \"Injured Player\", \"x\": [60.4900016784668], \"y\": [30.70000076293945], \"type\": \"scatter\"}, {\"line\": {\"color\": \"#2c3539\", \"width\": 2}, \"mode\": \"lines\", \"name\": \"Distance\", \"text\": \"Distance: 41.0\", \"textposition\": \"bottom center\", \"x\": [60.4900016784668, 19.860000610351566, null, 60.4900016784668, 19.860000610351566], \"y\": [30.70000076293945, 29.809999465942386, null, 30.70000076293945, 29.809999465942386], \"type\": \"scatter\"}], \"layout\": {\"annotations\": [{\"align\": \"center\", \"bgcolor\": \"#2c3539\", \"bordercolor\": \"#c7c7c7\", \"borderpad\": 4, \"borderwidth\": 2, \"font\": {\"color\": \"#ffffff\", \"family\": \"Courier New, monospace\", \"size\": 14}, \"opacity\": 0.8, \"showarrow\": false, \"text\": \"41.0 Yds\", \"x\": 100, \"y\": 5}], \"title\": \"ball_snap\"}}, {\"data\": [{\"marker\": {\"color\": \"#013369\", \"size\": 15}, \"mode\": \"markers\", \"name\": \"Partner Player\", \"x\": [19.88999938964844], \"y\": [29.739999771118164], \"type\": \"scatter\"}, {\"marker\": {\"color\": \"orange\", \"size\": 15}, \"mode\": \"markers\", \"name\": \"Injured Player\", \"x\": [61.36999893188477], \"y\": [30.59000015258789], \"type\": \"scatter\"}, {\"line\": {\"color\": \"#2c3539\", \"width\": 2}, \"mode\": \"lines\", \"name\": \"Distance\", \"text\": \"Distance: 41.0\", \"textposition\": \"bottom center\", \"x\": [61.36999893188477, 19.88999938964844, null, 61.36999893188477, 19.88999938964844], \"y\": [30.59000015258789, 29.739999771118164, null, 30.59000015258789, 29.739999771118164], \"type\": \"scatter\"}], \"layout\": {\"annotations\": [{\"align\": \"center\", \"bgcolor\": \"#2c3539\", \"bordercolor\": \"#c7c7c7\", \"borderpad\": 4, \"borderwidth\": 2, \"font\": {\"color\": \"#ffffff\", \"family\": \"Courier New, monospace\", \"size\": 14}, \"opacity\": 0.8, \"showarrow\": false, \"text\": \"41.0 Yds\", \"x\": 100, \"y\": 5}], \"title\": \"ball_snap\"}}, {\"data\": [{\"marker\": {\"color\": \"#013369\", \"size\": 15}, \"mode\": \"markers\", \"name\": \"Partner Player\", \"x\": [19.88999938964844], \"y\": [29.729999542236328], \"type\": \"scatter\"}, {\"marker\": {\"color\": \"orange\", \"size\": 15}, \"mode\": \"markers\", \"name\": \"Injured Player\", \"x\": [61.68999862670898], \"y\": [31.319999694824208], \"type\": \"scatter\"}, {\"line\": {\"color\": \"#2c3539\", \"width\": 2}, \"mode\": \"lines\", \"name\": \"Distance\", \"text\": \"Distance: 42.0\", \"textposition\": \"bottom center\", \"x\": [61.68999862670898, 19.88999938964844, null, 61.68999862670898, 19.88999938964844], \"y\": [31.319999694824208, 29.729999542236328, null, 31.319999694824208, 29.729999542236328], \"type\": \"scatter\"}], \"layout\": {\"annotations\": [{\"align\": \"center\", \"bgcolor\": \"#2c3539\", \"bordercolor\": \"#c7c7c7\", \"borderpad\": 4, \"borderwidth\": 2, \"font\": {\"color\": \"#ffffff\", \"family\": \"Courier New, monospace\", \"size\": 14}, \"opacity\": 0.8, \"showarrow\": false, \"text\": \"42.0 Yds\", \"x\": 100, \"y\": 5}], \"title\": \"ball_snap\"}}, {\"data\": [{\"marker\": {\"color\": \"#013369\", \"size\": 15}, \"mode\": \"markers\", \"name\": \"Partner Player\", \"x\": [19.8700008392334], \"y\": [29.690000534057607], \"type\": \"scatter\"}, {\"marker\": {\"color\": \"orange\", \"size\": 15}, \"mode\": \"markers\", \"name\": \"Injured Player\", \"x\": [61.18000030517578], \"y\": [32.880001068115234], \"type\": \"scatter\"}, {\"line\": {\"color\": \"#2c3539\", \"width\": 2}, \"mode\": \"lines\", \"name\": \"Distance\", \"text\": \"Distance: 41.0\", \"textposition\": \"bottom center\", \"x\": [61.18000030517578, 19.8700008392334, null, 61.18000030517578, 19.8700008392334], \"y\": [32.880001068115234, 29.690000534057607, null, 32.880001068115234, 29.690000534057607], \"type\": \"scatter\"}], \"layout\": {\"annotations\": [{\"align\": \"center\", \"bgcolor\": \"#2c3539\", \"bordercolor\": \"#c7c7c7\", \"borderpad\": 4, \"borderwidth\": 2, \"font\": {\"color\": \"#ffffff\", \"family\": \"Courier New, monospace\", \"size\": 14}, \"opacity\": 0.8, \"showarrow\": false, \"text\": \"41.0 Yds\", \"x\": 100, \"y\": 5}], \"title\": \"punt\"}}, {\"data\": [{\"marker\": {\"color\": \"#013369\", \"size\": 15}, \"mode\": \"markers\", \"name\": \"Partner Player\", \"x\": [19.770000457763672], \"y\": [29.93000030517578], \"type\": \"scatter\"}, {\"marker\": {\"color\": \"orange\", \"size\": 15}, \"mode\": \"markers\", \"name\": \"Injured Player\", \"x\": [59.290000915527344], \"y\": [34.830001831054695], \"type\": \"scatter\"}, {\"line\": {\"color\": \"#2c3539\", \"width\": 2}, \"mode\": \"lines\", \"name\": \"Distance\", \"text\": \"Distance: 40.0\", \"textposition\": \"bottom center\", \"x\": [59.290000915527344, 19.770000457763672, null, 59.290000915527344, 19.770000457763672], \"y\": [34.830001831054695, 29.93000030517578, null, 34.830001831054695, 29.93000030517578], \"type\": \"scatter\"}], \"layout\": {\"annotations\": [{\"align\": \"center\", \"bgcolor\": \"#2c3539\", \"bordercolor\": \"#c7c7c7\", \"borderpad\": 4, \"borderwidth\": 2, \"font\": {\"color\": \"#ffffff\", \"family\": \"Courier New, monospace\", \"size\": 14}, \"opacity\": 0.8, \"showarrow\": false, \"text\": \"40.0 Yds\", \"x\": 100, \"y\": 5}], \"title\": \"punt\"}}, {\"data\": [{\"marker\": {\"color\": \"#013369\", \"size\": 15}, \"mode\": \"markers\", \"name\": \"Partner Player\", \"x\": [19.729999542236328], \"y\": [31.110000610351573], \"type\": \"scatter\"}, {\"marker\": {\"color\": \"orange\", \"size\": 15}, \"mode\": \"markers\", \"name\": \"Injured Player\", \"x\": [56.36999893188477], \"y\": [36.36000061035156], \"type\": \"scatter\"}, {\"line\": {\"color\": \"#2c3539\", \"width\": 2}, \"mode\": \"lines\", \"name\": \"Distance\", \"text\": \"Distance: 37.0\", \"textposition\": \"bottom center\", \"x\": [56.36999893188477, 19.729999542236328, null, 56.36999893188477, 19.729999542236328], \"y\": [36.36000061035156, 31.110000610351573, null, 36.36000061035156, 31.110000610351573], \"type\": \"scatter\"}], \"layout\": {\"annotations\": [{\"align\": \"center\", \"bgcolor\": \"#2c3539\", \"bordercolor\": \"#c7c7c7\", \"borderpad\": 4, \"borderwidth\": 2, \"font\": {\"color\": \"#ffffff\", \"family\": \"Courier New, monospace\", \"size\": 14}, \"opacity\": 0.8, \"showarrow\": false, \"text\": \"37.0 Yds\", \"x\": 100, \"y\": 5}], \"title\": \"punt\"}}, {\"data\": [{\"marker\": {\"color\": \"#013369\", \"size\": 15}, \"mode\": \"markers\", \"name\": \"Partner Player\", \"x\": [19.770000457763672], \"y\": [33.18000030517578], \"type\": \"scatter\"}, {\"marker\": {\"color\": \"orange\", \"size\": 15}, \"mode\": \"markers\", \"name\": \"Injured Player\", \"x\": [53.36000061035156], \"y\": [38.36999893188477], \"type\": \"scatter\"}, {\"line\": {\"color\": \"#2c3539\", \"width\": 2}, \"mode\": \"lines\", \"name\": \"Distance\", \"text\": \"Distance: 34.0\", \"textposition\": \"bottom center\", \"x\": [53.36000061035156, 19.770000457763672, null, 53.36000061035156, 19.770000457763672], \"y\": [38.36999893188477, 33.18000030517578, null, 38.36999893188477, 33.18000030517578], \"type\": \"scatter\"}], \"layout\": {\"annotations\": [{\"align\": \"center\", \"bgcolor\": \"#2c3539\", \"bordercolor\": \"#c7c7c7\", \"borderpad\": 4, \"borderwidth\": 2, \"font\": {\"color\": \"#ffffff\", \"family\": \"Courier New, monospace\", \"size\": 14}, \"opacity\": 0.8, \"showarrow\": false, \"text\": \"34.0 Yds\", \"x\": 100, \"y\": 5}], \"title\": \"punt\"}}, {\"data\": [{\"marker\": {\"color\": \"#013369\", \"size\": 15}, \"mode\": \"markers\", \"name\": \"Partner Player\", \"x\": [19.950000762939453], \"y\": [35.630001068115234], \"type\": \"scatter\"}, {\"marker\": {\"color\": \"orange\", \"size\": 15}, \"mode\": \"markers\", \"name\": \"Injured Player\", \"x\": [50.22999954223633], \"y\": [40.1599998474121], \"type\": \"scatter\"}, {\"line\": {\"color\": \"#2c3539\", \"width\": 2}, \"mode\": \"lines\", \"name\": \"Distance\", \"text\": \"Distance: 31.0\", \"textposition\": \"bottom center\", \"x\": [50.22999954223633, 19.950000762939453, null, 50.22999954223633, 19.950000762939453], \"y\": [40.1599998474121, 35.630001068115234, null, 40.1599998474121, 35.630001068115234], \"type\": \"scatter\"}], \"layout\": {\"annotations\": [{\"align\": \"center\", \"bgcolor\": \"#2c3539\", \"bordercolor\": \"#c7c7c7\", \"borderpad\": 4, \"borderwidth\": 2, \"font\": {\"color\": \"#ffffff\", \"family\": \"Courier New, monospace\", \"size\": 14}, \"opacity\": 0.8, \"showarrow\": false, \"text\": \"31.0 Yds\", \"x\": 100, \"y\": 5}], \"title\": \"punt\"}}, {\"data\": [{\"marker\": {\"color\": \"#013369\", \"size\": 15}, \"mode\": \"markers\", \"name\": \"Partner Player\", \"x\": [20.3700008392334], \"y\": [38.2400016784668], \"type\": \"scatter\"}, {\"marker\": {\"color\": \"orange\", \"size\": 15}, \"mode\": \"markers\", \"name\": \"Injured Player\", \"x\": [46.349998474121094], \"y\": [41.58000183105469], \"type\": \"scatter\"}, {\"line\": {\"color\": \"#2c3539\", \"width\": 2}, \"mode\": \"lines\", \"name\": \"Distance\", \"text\": \"Distance: 26.0\", \"textposition\": \"bottom center\", \"x\": [46.349998474121094, 20.3700008392334, null, 46.349998474121094, 20.3700008392334], \"y\": [41.58000183105469, 38.2400016784668, null, 41.58000183105469, 38.2400016784668], \"type\": \"scatter\"}], \"layout\": {\"annotations\": [{\"align\": \"center\", \"bgcolor\": \"#2c3539\", \"bordercolor\": \"#c7c7c7\", \"borderpad\": 4, \"borderwidth\": 2, \"font\": {\"color\": \"#ffffff\", \"family\": \"Courier New, monospace\", \"size\": 14}, \"opacity\": 0.8, \"showarrow\": false, \"text\": \"26.0 Yds\", \"x\": 100, \"y\": 5}], \"title\": \"punt\"}}, {\"data\": [{\"marker\": {\"color\": \"#013369\", \"size\": 15}, \"mode\": \"markers\", \"name\": \"Partner Player\", \"x\": [20.3700008392334], \"y\": [40.7599983215332], \"type\": \"scatter\"}, {\"marker\": {\"color\": \"orange\", \"size\": 15}, \"mode\": \"markers\", \"name\": \"Injured Player\", \"x\": [42.180000305175774], \"y\": [42.41999816894531], \"type\": \"scatter\"}, {\"line\": {\"color\": \"#2c3539\", \"width\": 2}, \"mode\": \"lines\", \"name\": \"Distance\", \"text\": \"Distance: 22.0\", \"textposition\": \"bottom center\", \"x\": [42.180000305175774, 20.3700008392334, null, 42.180000305175774, 20.3700008392334], \"y\": [42.41999816894531, 40.7599983215332, null, 42.41999816894531, 40.7599983215332], \"type\": \"scatter\"}], \"layout\": {\"annotations\": [{\"align\": \"center\", \"bgcolor\": \"#2c3539\", \"bordercolor\": \"#c7c7c7\", \"borderpad\": 4, \"borderwidth\": 2, \"font\": {\"color\": \"#ffffff\", \"family\": \"Courier New, monospace\", \"size\": 14}, \"opacity\": 0.8, \"showarrow\": false, \"text\": \"22.0 Yds\", \"x\": 100, \"y\": 5}], \"title\": \"punt\"}}, {\"data\": [{\"marker\": {\"color\": \"#013369\", \"size\": 15}, \"mode\": \"markers\", \"name\": \"Partner Player\", \"x\": [19.420000076293945], \"y\": [43.06999969482422], \"type\": \"scatter\"}, {\"marker\": {\"color\": \"orange\", \"size\": 15}, \"mode\": \"markers\", \"name\": \"Injured Player\", \"x\": [37.7400016784668], \"y\": [42.97999954223633], \"type\": \"scatter\"}, {\"line\": {\"color\": \"#2c3539\", \"width\": 2}, \"mode\": \"lines\", \"name\": \"Distance\", \"text\": \"Distance: 18.0\", \"textposition\": \"bottom center\", \"x\": [37.7400016784668, 19.420000076293945, null, 37.7400016784668, 19.420000076293945], \"y\": [42.97999954223633, 43.06999969482422, null, 42.97999954223633, 43.06999969482422], \"type\": \"scatter\"}], \"layout\": {\"annotations\": [{\"align\": \"center\", \"bgcolor\": \"#2c3539\", \"bordercolor\": \"#c7c7c7\", \"borderpad\": 4, \"borderwidth\": 2, \"font\": {\"color\": \"#ffffff\", \"family\": \"Courier New, monospace\", \"size\": 14}, \"opacity\": 0.8, \"showarrow\": false, \"text\": \"18.0 Yds\", \"x\": 100, \"y\": 5}], \"title\": \"punt\"}}, {\"data\": [{\"marker\": {\"color\": \"#013369\", \"size\": 15}, \"mode\": \"markers\", \"name\": \"Partner Player\", \"x\": [18.0], \"y\": [45.4099998474121], \"type\": \"scatter\"}, {\"marker\": {\"color\": \"orange\", \"size\": 15}, \"mode\": \"markers\", \"name\": \"Injured Player\", \"x\": [33.47999954223633], \"y\": [43.63999938964844], \"type\": \"scatter\"}, {\"line\": {\"color\": \"#2c3539\", \"width\": 2}, \"mode\": \"lines\", \"name\": \"Distance\", \"text\": \"Distance: 16.0\", \"textposition\": \"bottom center\", \"x\": [33.47999954223633, 18.0, null, 33.47999954223633, 18.0], \"y\": [43.63999938964844, 45.4099998474121, null, 43.63999938964844, 45.4099998474121], \"type\": \"scatter\"}], \"layout\": {\"annotations\": [{\"align\": \"center\", \"bgcolor\": \"#2c3539\", \"bordercolor\": \"#c7c7c7\", \"borderpad\": 4, \"borderwidth\": 2, \"font\": {\"color\": \"#ffffff\", \"family\": \"Courier New, monospace\", \"size\": 14}, \"opacity\": 0.8, \"showarrow\": false, \"text\": \"16.0 Yds\", \"x\": 100, \"y\": 5}], \"title\": \"punt\"}}, {\"data\": [{\"marker\": {\"color\": \"#013369\", \"size\": 15}, \"mode\": \"markers\", \"name\": \"Partner Player\", \"x\": [16.25], \"y\": [47.599998474121094], \"type\": \"scatter\"}, {\"marker\": {\"color\": \"orange\", \"size\": 15}, \"mode\": \"markers\", \"name\": \"Injured Player\", \"x\": [29.459999084472656], \"y\": [44.7400016784668], \"type\": \"scatter\"}, {\"line\": {\"color\": \"#2c3539\", \"width\": 2}, \"mode\": \"lines\", \"name\": \"Distance\", \"text\": \"Distance: 14.0\", \"textposition\": \"bottom center\", \"x\": [29.459999084472656, 16.25, null, 29.459999084472656, 16.25], \"y\": [44.7400016784668, 47.599998474121094, null, 44.7400016784668, 47.599998474121094], \"type\": \"scatter\"}], \"layout\": {\"annotations\": [{\"align\": \"center\", \"bgcolor\": \"#2c3539\", \"bordercolor\": \"#c7c7c7\", \"borderpad\": 4, \"borderwidth\": 2, \"font\": {\"color\": \"#ffffff\", \"family\": \"Courier New, monospace\", \"size\": 14}, \"opacity\": 0.8, \"showarrow\": false, \"text\": \"14.0 Yds\", \"x\": 100, \"y\": 5}], \"title\": \"punt\"}}, {\"data\": [{\"marker\": {\"color\": \"#013369\", \"size\": 15}, \"mode\": \"markers\", \"name\": \"Partner Player\", \"x\": [14.380000114440918], \"y\": [49.7599983215332], \"type\": \"scatter\"}, {\"marker\": {\"color\": \"orange\", \"size\": 15}, \"mode\": \"markers\", \"name\": \"Injured Player\", \"x\": [25.57999992370605], \"y\": [46.43999862670898], \"type\": \"scatter\"}, {\"line\": {\"color\": \"#2c3539\", \"width\": 2}, \"mode\": \"lines\", \"name\": \"Distance\", \"text\": \"Distance: 12.0\", \"textposition\": \"bottom center\", \"x\": [25.57999992370605, 14.380000114440918, null, 25.57999992370605, 14.380000114440918], \"y\": [46.43999862670898, 49.7599983215332, null, 46.43999862670898, 49.7599983215332], \"type\": \"scatter\"}], \"layout\": {\"annotations\": [{\"align\": \"center\", \"bgcolor\": \"#2c3539\", \"bordercolor\": \"#c7c7c7\", \"borderpad\": 4, \"borderwidth\": 2, \"font\": {\"color\": \"#ffffff\", \"family\": \"Courier New, monospace\", \"size\": 14}, \"opacity\": 0.8, \"showarrow\": false, \"text\": \"12.0 Yds\", \"x\": 100, \"y\": 5}], \"title\": \"punt\"}}, {\"data\": [{\"marker\": {\"color\": \"#013369\", \"size\": 15}, \"mode\": \"markers\", \"name\": \"Partner Player\", \"x\": [12.590000152587892], \"y\": [51.84000015258789], \"type\": \"scatter\"}, {\"marker\": {\"color\": \"orange\", \"size\": 15}, \"mode\": \"markers\", \"name\": \"Injured Player\", \"x\": [21.729999542236328], \"y\": [48.38000106811523], \"type\": \"scatter\"}, {\"line\": {\"color\": \"#2c3539\", \"width\": 2}, \"mode\": \"lines\", \"name\": \"Distance\", \"text\": \"Distance: 10.0\", \"textposition\": \"bottom center\", \"x\": [21.729999542236328, 12.590000152587892, null, 21.729999542236328, 12.590000152587892], \"y\": [48.38000106811523, 51.84000015258789, null, 48.38000106811523, 51.84000015258789], \"type\": \"scatter\"}], \"layout\": {\"annotations\": [{\"align\": \"center\", \"bgcolor\": \"#2c3539\", \"bordercolor\": \"#c7c7c7\", \"borderpad\": 4, \"borderwidth\": 2, \"font\": {\"color\": \"#ffffff\", \"family\": \"Courier New, monospace\", \"size\": 14}, \"opacity\": 0.8, \"showarrow\": false, \"text\": \"10.0 Yds\", \"x\": 100, \"y\": 5}], \"title\": \"punt\"}}, {\"data\": [{\"marker\": {\"color\": \"#013369\", \"size\": 15}, \"mode\": \"markers\", \"name\": \"Partner Player\", \"x\": [11.539999961853027], \"y\": [53.06000137329102], \"type\": \"scatter\"}, {\"marker\": {\"color\": \"orange\", \"size\": 15}, \"mode\": \"markers\", \"name\": \"Injured Player\", \"x\": [17.829999923706055], \"y\": [50.209999084472656], \"type\": \"scatter\"}, {\"line\": {\"color\": \"#2c3539\", \"width\": 2}, \"mode\": \"lines\", \"name\": \"Distance\", \"text\": \"Distance: 7.0\", \"textposition\": \"bottom center\", \"x\": [17.829999923706055, 11.539999961853027, null, 17.829999923706055, 11.539999961853027], \"y\": [50.209999084472656, 53.06000137329102, null, 50.209999084472656, 53.06000137329102], \"type\": \"scatter\"}], \"layout\": {\"annotations\": [{\"align\": \"center\", \"bgcolor\": \"#2c3539\", \"bordercolor\": \"#c7c7c7\", \"borderpad\": 4, \"borderwidth\": 2, \"font\": {\"color\": \"#ffffff\", \"family\": \"Courier New, monospace\", \"size\": 14}, \"opacity\": 0.8, \"showarrow\": false, \"text\": \"7.0 Yds\", \"x\": 100, \"y\": 5}], \"title\": \"punt_downed\"}}, {\"data\": [{\"marker\": {\"color\": \"#013369\", \"size\": 15}, \"mode\": \"markers\", \"name\": \"Partner Player\", \"x\": [11.920000076293945], \"y\": [52.83000183105469], \"type\": \"scatter\"}, {\"marker\": {\"color\": \"orange\", \"size\": 15}, \"mode\": \"markers\", \"name\": \"Injured Player\", \"x\": [14.090000152587892], \"y\": [51.790000915527344], \"type\": \"scatter\"}, {\"line\": {\"color\": \"#2c3539\", \"width\": 2}, \"mode\": \"lines\", \"name\": \"Distance\", \"text\": \"Distance: 2.0\", \"textposition\": \"bottom center\", \"x\": [14.090000152587892, 11.920000076293945, null, 14.090000152587892, 11.920000076293945], \"y\": [51.790000915527344, 52.83000183105469, null, 51.790000915527344, 52.83000183105469], \"type\": \"scatter\"}], \"layout\": {\"annotations\": [{\"align\": \"center\", \"bgcolor\": \"#2c3539\", \"bordercolor\": \"#c7c7c7\", \"borderpad\": 4, \"borderwidth\": 2, \"font\": {\"color\": \"#ffffff\", \"family\": \"Courier New, monospace\", \"size\": 14}, \"opacity\": 0.8, \"showarrow\": false, \"text\": \"2.0 Yds\", \"x\": 100, \"y\": 5}], \"title\": \"punt_downed\"}}, {\"data\": [{\"marker\": {\"color\": \"#013369\", \"size\": 15}, \"mode\": \"markers\", \"name\": \"Partner Player\", \"x\": [11.5], \"y\": [51.790000915527344], \"type\": \"scatter\"}, {\"marker\": {\"color\": \"orange\", \"size\": 15}, \"mode\": \"markers\", \"name\": \"Injured Player\", \"x\": [10.880000114440918], \"y\": [52.77999877929688], \"type\": \"scatter\"}, {\"line\": {\"color\": \"#2c3539\", \"width\": 2}, \"mode\": \"lines\", \"name\": \"Distance\", \"text\": \"Distance: 1.0\", \"textposition\": \"bottom center\", \"x\": [10.880000114440918, 11.5, null, 10.880000114440918, 11.5], \"y\": [52.77999877929688, 51.790000915527344, null, 52.77999877929688, 51.790000915527344], \"type\": \"scatter\"}], \"layout\": {\"annotations\": [{\"align\": \"center\", \"bgcolor\": \"#2c3539\", \"bordercolor\": \"#c7c7c7\", \"borderpad\": 4, \"borderwidth\": 2, \"font\": {\"color\": \"#ffffff\", \"family\": \"Courier New, monospace\", \"size\": 14}, \"opacity\": 0.8, \"showarrow\": false, \"text\": \"1.0 Yds\", \"x\": 100, \"y\": 5}], \"title\": \"punt_downed\"}}, {\"data\": [{\"marker\": {\"color\": \"#013369\", \"size\": 15}, \"mode\": \"markers\", \"name\": \"Partner Player\", \"x\": [10.720000267028807], \"y\": [51.11000061035156], \"type\": \"scatter\"}, {\"marker\": {\"color\": \"orange\", \"size\": 15}, \"mode\": \"markers\", \"name\": \"Injured Player\", \"x\": [10.090000152587892], \"y\": [53.06000137329102], \"type\": \"scatter\"}, {\"line\": {\"color\": \"#2c3539\", \"width\": 2}, \"mode\": \"lines\", \"name\": \"Distance\", \"text\": \"Distance: 2.0\", \"textposition\": \"bottom center\", \"x\": [10.090000152587892, 10.720000267028807, null, 10.090000152587892, 10.720000267028807], \"y\": [53.06000137329102, 51.11000061035156, null, 53.06000137329102, 51.11000061035156], \"type\": \"scatter\"}], \"layout\": {\"annotations\": [{\"align\": \"center\", \"bgcolor\": \"#2c3539\", \"bordercolor\": \"#c7c7c7\", \"borderpad\": 4, \"borderwidth\": 2, \"font\": {\"color\": \"#ffffff\", \"family\": \"Courier New, monospace\", \"size\": 14}, \"opacity\": 0.8, \"showarrow\": false, \"text\": \"2.0 Yds\", \"x\": 100, \"y\": 5}], \"title\": \"punt_downed\"}}, {\"data\": [{\"marker\": {\"color\": \"#013369\", \"size\": 15}, \"mode\": \"markers\", \"name\": \"Partner Player\", \"x\": [10.869999885559082], \"y\": [50.9900016784668], \"type\": \"scatter\"}, {\"marker\": {\"color\": \"orange\", \"size\": 15}, \"mode\": \"markers\", \"name\": \"Injured Player\", \"x\": [10.329999923706056], \"y\": [53.040000915527344], \"type\": \"scatter\"}, {\"line\": {\"color\": \"#2c3539\", \"width\": 2}, \"mode\": \"lines\", \"name\": \"Distance\", \"text\": \"Distance: 2.0\", \"textposition\": \"bottom center\", \"x\": [10.329999923706056, 10.869999885559082, null, 10.329999923706056, 10.869999885559082], \"y\": [53.040000915527344, 50.9900016784668, null, 53.040000915527344, 50.9900016784668], \"type\": \"scatter\"}], \"layout\": {\"annotations\": [{\"align\": \"center\", \"bgcolor\": \"#2c3539\", \"bordercolor\": \"#c7c7c7\", \"borderpad\": 4, \"borderwidth\": 2, \"font\": {\"color\": \"#ffffff\", \"family\": \"Courier New, monospace\", \"size\": 14}, \"opacity\": 0.8, \"showarrow\": false, \"text\": \"2.0 Yds\", \"x\": 100, \"y\": 5}], \"title\": \"punt_downed\"}}, {\"data\": [{\"marker\": {\"color\": \"#013369\", \"size\": 15}, \"mode\": \"markers\", \"name\": \"Partner Player\", \"x\": [11.390000343322756], \"y\": [50.56999969482422], \"type\": \"scatter\"}, {\"marker\": {\"color\": \"orange\", \"size\": 15}, \"mode\": \"markers\", \"name\": \"Injured Player\", \"x\": [10.31999969482422], \"y\": [53.0099983215332], \"type\": \"scatter\"}, {\"line\": {\"color\": \"#2c3539\", \"width\": 2}, \"mode\": \"lines\", \"name\": \"Distance\", \"text\": \"Distance: 3.0\", \"textposition\": \"bottom center\", \"x\": [10.31999969482422, 11.390000343322756, null, 10.31999969482422, 11.390000343322756], \"y\": [53.0099983215332, 50.56999969482422, null, 53.0099983215332, 50.56999969482422], \"type\": \"scatter\"}], \"layout\": {\"annotations\": [{\"align\": \"center\", \"bgcolor\": \"#2c3539\", \"bordercolor\": \"#c7c7c7\", \"borderpad\": 4, \"borderwidth\": 2, \"font\": {\"color\": \"#ffffff\", \"family\": \"Courier New, monospace\", \"size\": 14}, \"opacity\": 0.8, \"showarrow\": false, \"text\": \"3.0 Yds\", \"x\": 100, \"y\": 5}], \"title\": \"punt_downed\"}}, {\"data\": [{\"marker\": {\"color\": \"#013369\", \"size\": 15}, \"mode\": \"markers\", \"name\": \"Partner Player\", \"x\": [11.279999732971193], \"y\": [51.33000183105469], \"type\": \"scatter\"}, {\"marker\": {\"color\": \"orange\", \"size\": 15}, \"mode\": \"markers\", \"name\": \"Injured Player\", \"x\": [10.729999542236328], \"y\": [52.72000122070313], \"type\": \"scatter\"}, {\"line\": {\"color\": \"#2c3539\", \"width\": 2}, \"mode\": \"lines\", \"name\": \"Distance\", \"text\": \"Distance: 1.0\", \"textposition\": \"bottom center\", \"x\": [10.729999542236328, 11.279999732971193, null, 10.729999542236328, 11.279999732971193], \"y\": [52.72000122070313, 51.33000183105469, null, 52.72000122070313, 51.33000183105469], \"type\": \"scatter\"}], \"layout\": {\"annotations\": [{\"align\": \"center\", \"bgcolor\": \"#2c3539\", \"bordercolor\": \"#c7c7c7\", \"borderpad\": 4, \"borderwidth\": 2, \"font\": {\"color\": \"#ffffff\", \"family\": \"Courier New, monospace\", \"size\": 14}, \"opacity\": 0.8, \"showarrow\": false, \"text\": \"1.0 Yds\", \"x\": 100, \"y\": 5}], \"title\": \"punt_downed\"}}, {\"data\": [{\"marker\": {\"color\": \"#013369\", \"size\": 15}, \"mode\": \"markers\", \"name\": \"Partner Player\", \"x\": [11.5], \"y\": [50.9000015258789], \"type\": \"scatter\"}, {\"marker\": {\"color\": \"orange\", \"size\": 15}, \"mode\": \"markers\", \"name\": \"Injured Player\", \"x\": [11.100000381469727], \"y\": [52.77000045776367], \"type\": \"scatter\"}, {\"line\": {\"color\": \"#2c3539\", \"width\": 2}, \"mode\": \"lines\", \"name\": \"Distance\", \"text\": \"Distance: 2.0\", \"textposition\": \"bottom center\", \"x\": [11.100000381469727, 11.5, null, 11.100000381469727, 11.5], \"y\": [52.77000045776367, 50.9000015258789, null, 52.77000045776367, 50.9000015258789], \"type\": \"scatter\"}], \"layout\": {\"annotations\": [{\"align\": \"center\", \"bgcolor\": \"#2c3539\", \"bordercolor\": \"#c7c7c7\", \"borderpad\": 4, \"borderwidth\": 2, \"font\": {\"color\": \"#ffffff\", \"family\": \"Courier New, monospace\", \"size\": 14}, \"opacity\": 0.8, \"showarrow\": false, \"text\": \"2.0 Yds\", \"x\": 100, \"y\": 5}], \"title\": \"punt_downed\"}}, {\"data\": [{\"marker\": {\"color\": \"#013369\", \"size\": 15}, \"mode\": \"markers\", \"name\": \"Partner Player\", \"x\": [12.100000381469727], \"y\": [50.09000015258789], \"type\": \"scatter\"}, {\"marker\": {\"color\": \"orange\", \"size\": 15}, \"mode\": \"markers\", \"name\": \"Injured Player\", \"x\": [11.199999809265137], \"y\": [52.81000137329102], \"type\": \"scatter\"}, {\"line\": {\"color\": \"#2c3539\", \"width\": 2}, \"mode\": \"lines\", \"name\": \"Distance\", \"text\": \"Distance: 3.0\", \"textposition\": \"bottom center\", \"x\": [11.199999809265137, 12.100000381469727, null, 11.199999809265137, 12.100000381469727], \"y\": [52.81000137329102, 50.09000015258789, null, 52.81000137329102, 50.09000015258789], \"type\": \"scatter\"}], \"layout\": {\"annotations\": [{\"align\": \"center\", \"bgcolor\": \"#2c3539\", \"bordercolor\": \"#c7c7c7\", \"borderpad\": 4, \"borderwidth\": 2, \"font\": {\"color\": \"#ffffff\", \"family\": \"Courier New, monospace\", \"size\": 14}, \"opacity\": 0.8, \"showarrow\": false, \"text\": \"3.0 Yds\", \"x\": 100, \"y\": 5}], \"title\": \"punt_downed\"}}, {\"data\": [{\"marker\": {\"color\": \"#013369\", \"size\": 15}, \"mode\": \"markers\", \"name\": \"Partner Player\", \"x\": [12.590000152587892], \"y\": [49.11999893188477], \"type\": \"scatter\"}, {\"marker\": {\"color\": \"orange\", \"size\": 15}, \"mode\": \"markers\", \"name\": \"Injured Player\", \"x\": [11.3100004196167], \"y\": [52.68000030517578], \"type\": \"scatter\"}, {\"line\": {\"color\": \"#2c3539\", \"width\": 2}, \"mode\": \"lines\", \"name\": \"Distance\", \"text\": \"Distance: 4.0\", \"textposition\": \"bottom center\", \"x\": [11.3100004196167, 12.590000152587892, null, 11.3100004196167, 12.590000152587892], \"y\": [52.68000030517578, 49.11999893188477, null, 52.68000030517578, 49.11999893188477], \"type\": \"scatter\"}], \"layout\": {\"annotations\": [{\"align\": \"center\", \"bgcolor\": \"#2c3539\", \"bordercolor\": \"#c7c7c7\", \"borderpad\": 4, \"borderwidth\": 2, \"font\": {\"color\": \"#ffffff\", \"family\": \"Courier New, monospace\", \"size\": 14}, \"opacity\": 0.8, \"showarrow\": false, \"text\": \"4.0 Yds\", \"x\": 100, \"y\": 5}], \"title\": \"punt_downed\"}}, {\"data\": [{\"marker\": {\"color\": \"#013369\", \"size\": 15}, \"mode\": \"markers\", \"name\": \"Partner Player\", \"x\": [13.1899995803833], \"y\": [48.25], \"type\": \"scatter\"}, {\"marker\": {\"color\": \"orange\", \"size\": 15}, \"mode\": \"markers\", \"name\": \"Injured Player\", \"x\": [11.239999771118164], \"y\": [52.95000076293945], \"type\": \"scatter\"}, {\"line\": {\"color\": \"#2c3539\", \"width\": 2}, \"mode\": \"lines\", \"name\": \"Distance\", \"text\": \"Distance: 5.0\", \"textposition\": \"bottom center\", \"x\": [11.239999771118164, 13.1899995803833, null, 11.239999771118164, 13.1899995803833], \"y\": [52.95000076293945, 48.25, null, 52.95000076293945, 48.25], \"type\": \"scatter\"}], \"layout\": {\"annotations\": [{\"align\": \"center\", \"bgcolor\": \"#2c3539\", \"bordercolor\": \"#c7c7c7\", \"borderpad\": 4, \"borderwidth\": 2, \"font\": {\"color\": \"#ffffff\", \"family\": \"Courier New, monospace\", \"size\": 14}, \"opacity\": 0.8, \"showarrow\": false, \"text\": \"5.0 Yds\", \"x\": 100, \"y\": 5}], \"title\": \"punt_downed\"}}, {\"data\": [{\"marker\": {\"color\": \"#013369\", \"size\": 15}, \"mode\": \"markers\", \"name\": \"Partner Player\", \"x\": [14.109999656677244], \"y\": [47.22000122070313], \"type\": \"scatter\"}, {\"marker\": {\"color\": \"orange\", \"size\": 15}, \"mode\": \"markers\", \"name\": \"Injured Player\", \"x\": [11.020000457763672], \"y\": [53.1500015258789], \"type\": \"scatter\"}, {\"line\": {\"color\": \"#2c3539\", \"width\": 2}, \"mode\": \"lines\", \"name\": \"Distance\", \"text\": \"Distance: 7.0\", \"textposition\": \"bottom center\", \"x\": [11.020000457763672, 14.109999656677244, null, 11.020000457763672, 14.109999656677244], \"y\": [53.1500015258789, 47.22000122070313, null, 53.1500015258789, 47.22000122070313], \"type\": \"scatter\"}], \"layout\": {\"annotations\": [{\"align\": \"center\", \"bgcolor\": \"#2c3539\", \"bordercolor\": \"#c7c7c7\", \"borderpad\": 4, \"borderwidth\": 2, \"font\": {\"color\": \"#ffffff\", \"family\": \"Courier New, monospace\", \"size\": 14}, \"opacity\": 0.8, \"showarrow\": false, \"text\": \"7.0 Yds\", \"x\": 100, \"y\": 5}], \"title\": \"punt_downed\"}}, {\"data\": [{\"marker\": {\"color\": \"#013369\", \"size\": 15}, \"mode\": \"markers\", \"name\": \"Partner Player\", \"x\": [15.029999732971193], \"y\": [46.09000015258789], \"type\": \"scatter\"}, {\"marker\": {\"color\": \"orange\", \"size\": 15}, \"mode\": \"markers\", \"name\": \"Injured Player\", \"x\": [11.090000152587892], \"y\": [53.27999877929688], \"type\": \"scatter\"}, {\"line\": {\"color\": \"#2c3539\", \"width\": 2}, \"mode\": \"lines\", \"name\": \"Distance\", \"text\": \"Distance: 8.0\", \"textposition\": \"bottom center\", \"x\": [11.090000152587892, 15.029999732971193, null, 11.090000152587892, 15.029999732971193], \"y\": [53.27999877929688, 46.09000015258789, null, 53.27999877929688, 46.09000015258789], \"type\": \"scatter\"}], \"layout\": {\"annotations\": [{\"align\": \"center\", \"bgcolor\": \"#2c3539\", \"bordercolor\": \"#c7c7c7\", \"borderpad\": 4, \"borderwidth\": 2, \"font\": {\"color\": \"#ffffff\", \"family\": \"Courier New, monospace\", \"size\": 14}, \"opacity\": 0.8, \"showarrow\": false, \"text\": \"8.0 Yds\", \"x\": 100, \"y\": 5}], \"title\": \"punt_downed\"}}, {\"data\": [{\"marker\": {\"color\": \"#013369\", \"size\": 15}, \"mode\": \"markers\", \"name\": \"Partner Player\", \"x\": [15.909999847412108], \"y\": [44.83000183105469], \"type\": \"scatter\"}, {\"marker\": {\"color\": \"orange\", \"size\": 15}, \"mode\": \"markers\", \"name\": \"Injured Player\", \"x\": [10.970000267028807], \"y\": [53.709999084472656], \"type\": \"scatter\"}, {\"line\": {\"color\": \"#2c3539\", \"width\": 2}, \"mode\": \"lines\", \"name\": \"Distance\", \"text\": \"Distance: 10.0\", \"textposition\": \"bottom center\", \"x\": [10.970000267028807, 15.909999847412108, null, 10.970000267028807, 15.909999847412108], \"y\": [53.709999084472656, 44.83000183105469, null, 53.709999084472656, 44.83000183105469], \"type\": \"scatter\"}], \"layout\": {\"annotations\": [{\"align\": \"center\", \"bgcolor\": \"#2c3539\", \"bordercolor\": \"#c7c7c7\", \"borderpad\": 4, \"borderwidth\": 2, \"font\": {\"color\": \"#ffffff\", \"family\": \"Courier New, monospace\", \"size\": 14}, \"opacity\": 0.8, \"showarrow\": false, \"text\": \"10.0 Yds\", \"x\": 100, \"y\": 5}], \"title\": \"punt_downed\"}}, {\"data\": [{\"marker\": {\"color\": \"#013369\", \"size\": 15}, \"mode\": \"markers\", \"name\": \"Partner Player\", \"x\": [16.860000610351566], \"y\": [43.38000106811523], \"type\": \"scatter\"}, {\"marker\": {\"color\": \"orange\", \"size\": 15}, \"mode\": \"markers\", \"name\": \"Injured Player\", \"x\": [11.149999618530273], \"y\": [53.7400016784668], \"type\": \"scatter\"}, {\"line\": {\"color\": \"#2c3539\", \"width\": 2}, \"mode\": \"lines\", \"name\": \"Distance\", \"text\": \"Distance: 12.0\", \"textposition\": \"bottom center\", \"x\": [11.149999618530273, 16.860000610351566, null, 11.149999618530273, 16.860000610351566], \"y\": [53.7400016784668, 43.38000106811523, null, 53.7400016784668, 43.38000106811523], \"type\": \"scatter\"}], \"layout\": {\"annotations\": [{\"align\": \"center\", \"bgcolor\": \"#2c3539\", \"bordercolor\": \"#c7c7c7\", \"borderpad\": 4, \"borderwidth\": 2, \"font\": {\"color\": \"#ffffff\", \"family\": \"Courier New, monospace\", \"size\": 14}, \"opacity\": 0.8, \"showarrow\": false, \"text\": \"12.0 Yds\", \"x\": 100, \"y\": 5}], \"title\": \"punt_downed\"}}, {\"data\": [{\"marker\": {\"color\": \"#013369\", \"size\": 15}, \"mode\": \"markers\", \"name\": \"Partner Player\", \"x\": [17.84000015258789], \"y\": [41.93999862670898], \"type\": \"scatter\"}, {\"marker\": {\"color\": \"orange\", \"size\": 15}, \"mode\": \"markers\", \"name\": \"Injured Player\", \"x\": [11.100000381469727], \"y\": [53.709999084472656], \"type\": \"scatter\"}, {\"line\": {\"color\": \"#2c3539\", \"width\": 2}, \"mode\": \"lines\", \"name\": \"Distance\", \"text\": \"Distance: 14.0\", \"textposition\": \"bottom center\", \"x\": [11.100000381469727, 17.84000015258789, null, 11.100000381469727, 17.84000015258789], \"y\": [53.709999084472656, 41.93999862670898, null, 53.709999084472656, 41.93999862670898], \"type\": \"scatter\"}], \"layout\": {\"annotations\": [{\"align\": \"center\", \"bgcolor\": \"#2c3539\", \"bordercolor\": \"#c7c7c7\", \"borderpad\": 4, \"borderwidth\": 2, \"font\": {\"color\": \"#ffffff\", \"family\": \"Courier New, monospace\", \"size\": 14}, \"opacity\": 0.8, \"showarrow\": false, \"text\": \"14.0 Yds\", \"x\": 100, \"y\": 5}], \"title\": \"punt_downed\"}}, {\"data\": [{\"marker\": {\"color\": \"#013369\", \"size\": 15}, \"mode\": \"markers\", \"name\": \"Partner Player\", \"x\": [18.82999992370605], \"y\": [40.41999816894531], \"type\": \"scatter\"}, {\"marker\": {\"color\": \"orange\", \"size\": 15}, \"mode\": \"markers\", \"name\": \"Injured Player\", \"x\": [11.0], \"y\": [53.45000076293945], \"type\": \"scatter\"}, {\"line\": {\"color\": \"#2c3539\", \"width\": 2}, \"mode\": \"lines\", \"name\": \"Distance\", \"text\": \"Distance: 15.0\", \"textposition\": \"bottom center\", \"x\": [11.0, 18.82999992370605, null, 11.0, 18.82999992370605], \"y\": [53.45000076293945, 40.41999816894531, null, 53.45000076293945, 40.41999816894531], \"type\": \"scatter\"}], \"layout\": {\"annotations\": [{\"align\": \"center\", \"bgcolor\": \"#2c3539\", \"bordercolor\": \"#c7c7c7\", \"borderpad\": 4, \"borderwidth\": 2, \"font\": {\"color\": \"#ffffff\", \"family\": \"Courier New, monospace\", \"size\": 14}, \"opacity\": 0.8, \"showarrow\": false, \"text\": \"15.0 Yds\", \"x\": 100, \"y\": 5}], \"title\": \"punt_downed\"}}, {\"data\": [{\"marker\": {\"color\": \"#013369\", \"size\": 15}, \"mode\": \"markers\", \"name\": \"Partner Player\", \"x\": [19.88999938964844], \"y\": [38.77999877929688], \"type\": \"scatter\"}, {\"marker\": {\"color\": \"orange\", \"size\": 15}, \"mode\": \"markers\", \"name\": \"Injured Player\", \"x\": [10.779999732971193], \"y\": [54.040000915527344], \"type\": \"scatter\"}, {\"line\": {\"color\": \"#2c3539\", \"width\": 2}, \"mode\": \"lines\", \"name\": \"Distance\", \"text\": \"Distance: 18.0\", \"textposition\": \"bottom center\", \"x\": [10.779999732971193, 19.88999938964844, null, 10.779999732971193, 19.88999938964844], \"y\": [54.040000915527344, 38.77999877929688, null, 54.040000915527344, 38.77999877929688], \"type\": \"scatter\"}], \"layout\": {\"annotations\": [{\"align\": \"center\", \"bgcolor\": \"#2c3539\", \"bordercolor\": \"#c7c7c7\", \"borderpad\": 4, \"borderwidth\": 2, \"font\": {\"color\": \"#ffffff\", \"family\": \"Courier New, monospace\", \"size\": 14}, \"opacity\": 0.8, \"showarrow\": false, \"text\": \"18.0 Yds\", \"x\": 100, \"y\": 5}], \"title\": \"punt_downed\"}}, {\"data\": [{\"marker\": {\"color\": \"#013369\", \"size\": 15}, \"mode\": \"markers\", \"name\": \"Partner Player\", \"x\": [21.06999969482421], \"y\": [37.22999954223633], \"type\": \"scatter\"}, {\"marker\": {\"color\": \"orange\", \"size\": 15}, \"mode\": \"markers\", \"name\": \"Injured Player\", \"x\": [10.649999618530273], \"y\": [54.2400016784668], \"type\": \"scatter\"}, {\"line\": {\"color\": \"#2c3539\", \"width\": 2}, \"mode\": \"lines\", \"name\": \"Distance\", \"text\": \"Distance: 20.0\", \"textposition\": \"bottom center\", \"x\": [10.649999618530273, 21.06999969482421, null, 10.649999618530273, 21.06999969482421], \"y\": [54.2400016784668, 37.22999954223633, null, 54.2400016784668, 37.22999954223633], \"type\": \"scatter\"}], \"layout\": {\"annotations\": [{\"align\": \"center\", \"bgcolor\": \"#2c3539\", \"bordercolor\": \"#c7c7c7\", \"borderpad\": 4, \"borderwidth\": 2, \"font\": {\"color\": \"#ffffff\", \"family\": \"Courier New, monospace\", \"size\": 14}, \"opacity\": 0.8, \"showarrow\": false, \"text\": \"20.0 Yds\", \"x\": 100, \"y\": 5}], \"title\": \"punt_downed\"}}, {\"data\": [{\"marker\": {\"color\": \"#013369\", \"size\": 15}, \"mode\": \"markers\", \"name\": \"Partner Player\", \"x\": [22.170000076293945], \"y\": [35.7400016784668], \"type\": \"scatter\"}, {\"marker\": {\"color\": \"orange\", \"size\": 15}, \"mode\": \"markers\", \"name\": \"Injured Player\", \"x\": [10.479999542236328], \"y\": [54.27000045776367], \"type\": \"scatter\"}, {\"line\": {\"color\": \"#2c3539\", \"width\": 2}, \"mode\": \"lines\", \"name\": \"Distance\", \"text\": \"Distance: 22.0\", \"textposition\": \"bottom center\", \"x\": [10.479999542236328, 22.170000076293945, null, 10.479999542236328, 22.170000076293945], \"y\": [54.27000045776367, 35.7400016784668, null, 54.27000045776367, 35.7400016784668], \"type\": \"scatter\"}], \"layout\": {\"annotations\": [{\"align\": \"center\", \"bgcolor\": \"#2c3539\", \"bordercolor\": \"#c7c7c7\", \"borderpad\": 4, \"borderwidth\": 2, \"font\": {\"color\": \"#ffffff\", \"family\": \"Courier New, monospace\", \"size\": 14}, \"opacity\": 0.8, \"showarrow\": false, \"text\": \"22.0 Yds\", \"x\": 100, \"y\": 5}], \"title\": \"punt_downed\"}}, {\"data\": [{\"marker\": {\"color\": \"#013369\", \"size\": 15}, \"mode\": \"markers\", \"name\": \"Partner Player\", \"x\": [23.209999084472656], \"y\": [34.209999084472656], \"type\": \"scatter\"}, {\"marker\": {\"color\": \"orange\", \"size\": 15}, \"mode\": \"markers\", \"name\": \"Injured Player\", \"x\": [10.630000114440918], \"y\": [54.11999893188477], \"type\": \"scatter\"}, {\"line\": {\"color\": \"#2c3539\", \"width\": 2}, \"mode\": \"lines\", \"name\": \"Distance\", \"text\": \"Distance: 24.0\", \"textposition\": \"bottom center\", \"x\": [10.630000114440918, 23.209999084472656, null, 10.630000114440918, 23.209999084472656], \"y\": [54.11999893188477, 34.209999084472656, null, 54.11999893188477, 34.209999084472656], \"type\": \"scatter\"}], \"layout\": {\"annotations\": [{\"align\": \"center\", \"bgcolor\": \"#2c3539\", \"bordercolor\": \"#c7c7c7\", \"borderpad\": 4, \"borderwidth\": 2, \"font\": {\"color\": \"#ffffff\", \"family\": \"Courier New, monospace\", \"size\": 14}, \"opacity\": 0.8, \"showarrow\": false, \"text\": \"24.0 Yds\", \"x\": 100, \"y\": 5}], \"title\": \"punt_downed\"}}, {\"data\": [{\"marker\": {\"color\": \"#013369\", \"size\": 15}, \"mode\": \"markers\", \"name\": \"Partner Player\", \"x\": [24.440000534057607], \"y\": [32.610000610351555], \"type\": \"scatter\"}, {\"marker\": {\"color\": \"orange\", \"size\": 15}, \"mode\": \"markers\", \"name\": \"Injured Player\", \"x\": [10.289999961853027], \"y\": [54.099998474121094], \"type\": \"scatter\"}, {\"line\": {\"color\": \"#2c3539\", \"width\": 2}, \"mode\": \"lines\", \"name\": \"Distance\", \"text\": \"Distance: 26.0\", \"textposition\": \"bottom center\", \"x\": [10.289999961853027, 24.440000534057607, null, 10.289999961853027, 24.440000534057607], \"y\": [54.099998474121094, 32.610000610351555, null, 54.099998474121094, 32.610000610351555], \"type\": \"scatter\"}], \"layout\": {\"annotations\": [{\"align\": \"center\", \"bgcolor\": \"#2c3539\", \"bordercolor\": \"#c7c7c7\", \"borderpad\": 4, \"borderwidth\": 2, \"font\": {\"color\": \"#ffffff\", \"family\": \"Courier New, monospace\", \"size\": 14}, \"opacity\": 0.8, \"showarrow\": false, \"text\": \"26.0 Yds\", \"x\": 100, \"y\": 5}], \"title\": \"punt_downed\"}}, {\"data\": [{\"marker\": {\"color\": \"#013369\", \"size\": 15}, \"mode\": \"markers\", \"name\": \"Partner Player\", \"x\": [25.649999618530273], \"y\": [31.10000038146973], \"type\": \"scatter\"}, {\"marker\": {\"color\": \"orange\", \"size\": 15}, \"mode\": \"markers\", \"name\": \"Injured Player\", \"x\": [9.970000267028807], \"y\": [54.290000915527344], \"type\": \"scatter\"}, {\"line\": {\"color\": \"#2c3539\", \"width\": 2}, \"mode\": \"lines\", \"name\": \"Distance\", \"text\": \"Distance: 28.0\", \"textposition\": \"bottom center\", \"x\": [9.970000267028807, 25.649999618530273, null, 9.970000267028807, 25.649999618530273], \"y\": [54.290000915527344, 31.10000038146973, null, 54.290000915527344, 31.10000038146973], \"type\": \"scatter\"}], \"layout\": {\"annotations\": [{\"align\": \"center\", \"bgcolor\": \"#2c3539\", \"bordercolor\": \"#c7c7c7\", \"borderpad\": 4, \"borderwidth\": 2, \"font\": {\"color\": \"#ffffff\", \"family\": \"Courier New, monospace\", \"size\": 14}, \"opacity\": 0.8, \"showarrow\": false, \"text\": \"28.0 Yds\", \"x\": 100, \"y\": 5}], \"title\": \"punt_downed\"}}, {\"data\": [{\"marker\": {\"color\": \"#013369\", \"size\": 15}, \"mode\": \"markers\", \"name\": \"Partner Player\", \"x\": [26.819999694824208], \"y\": [29.60000038146973], \"type\": \"scatter\"}, {\"marker\": {\"color\": \"orange\", \"size\": 15}, \"mode\": \"markers\", \"name\": \"Injured Player\", \"x\": [10.25], \"y\": [54.11000061035156], \"type\": \"scatter\"}, {\"line\": {\"color\": \"#2c3539\", \"width\": 2}, \"mode\": \"lines\", \"name\": \"Distance\", \"text\": \"Distance: 30.0\", \"textposition\": \"bottom center\", \"x\": [10.25, 26.819999694824208, null, 10.25, 26.819999694824208], \"y\": [54.11000061035156, 29.60000038146973, null, 54.11000061035156, 29.60000038146973], \"type\": \"scatter\"}], \"layout\": {\"annotations\": [{\"align\": \"center\", \"bgcolor\": \"#2c3539\", \"bordercolor\": \"#c7c7c7\", \"borderpad\": 4, \"borderwidth\": 2, \"font\": {\"color\": \"#ffffff\", \"family\": \"Courier New, monospace\", \"size\": 14}, \"opacity\": 0.8, \"showarrow\": false, \"text\": \"30.0 Yds\", \"x\": 100, \"y\": 5}], \"title\": \"punt_downed\"}}, {\"data\": [{\"marker\": {\"color\": \"#013369\", \"size\": 15}, \"mode\": \"markers\", \"name\": \"Partner Player\", \"x\": [28.020000457763672], \"y\": [28.18000030517578], \"type\": \"scatter\"}, {\"marker\": {\"color\": \"orange\", \"size\": 15}, \"mode\": \"markers\", \"name\": \"Injured Player\", \"x\": [10.590000152587892], \"y\": [54.43000030517578], \"type\": \"scatter\"}, {\"line\": {\"color\": \"#2c3539\", \"width\": 2}, \"mode\": \"lines\", \"name\": \"Distance\", \"text\": \"Distance: 32.0\", \"textposition\": \"bottom center\", \"x\": [10.590000152587892, 28.020000457763672, null, 10.590000152587892, 28.020000457763672], \"y\": [54.43000030517578, 28.18000030517578, null, 54.43000030517578, 28.18000030517578], \"type\": \"scatter\"}], \"layout\": {\"annotations\": [{\"align\": \"center\", \"bgcolor\": \"#2c3539\", \"bordercolor\": \"#c7c7c7\", \"borderpad\": 4, \"borderwidth\": 2, \"font\": {\"color\": \"#ffffff\", \"family\": \"Courier New, monospace\", \"size\": 14}, \"opacity\": 0.8, \"showarrow\": false, \"text\": \"32.0 Yds\", \"x\": 100, \"y\": 5}], \"title\": \"punt_downed\"}}]);}).then(function(){Plotly.animate('835f2640-870a-4d8c-a243-c9518848c41a');})\n",
       "        });</script><script type=\"text/javascript\">window.addEventListener(\"resize\", function(){window._Plotly.Plots.resize(document.getElementById(\"835f2640-870a-4d8c-a243-c9518848c41a\"));});</script>"
      ],
      "text/vnd.plotly.v1+html": [
       "<div id=\"835f2640-870a-4d8c-a243-c9518848c41a\" style=\"height: 525px; width: 100%;\" class=\"plotly-graph-div\"></div><script type=\"text/javascript\">require([\"plotly\"], function(Plotly) { window.PLOTLYENV=window.PLOTLYENV || {};window.PLOTLYENV.BASE_URL=\"https://plot.ly\";\n",
       "        Plotly.plot(\n",
       "            '835f2640-870a-4d8c-a243-c9518848c41a',\n",
       "            [{\"line\": {\"width\": 2}, \"mode\": \"lines\", \"name\": \"Distance\", \"textposition\": \"bottom center\", \"x\": [59.58000183105469, 59.56999969482422, 59.58000183105469, 59.61000061035156, 59.68000030517578, 59.77999877929688, 59.9099998474121, 60.040000915527344, 60.18000030517578, 60.31999969482422, 60.4900016784668, 60.68999862670898, 60.88000106811523, 61.06000137329102, 61.22999954223633, 61.36999893188477, 61.47000122070313, 61.54999923706055, 61.61999893188477, 61.68000030517578, 61.68999862670898, 61.66999816894531, 61.61999893188477, 61.5099983215332, 61.36999893188477, 61.18000030517578, 60.91999816894531, 60.59000015258789, 60.22000122070313, 59.790000915527344, 59.290000915527344, 58.7599983215332, 58.20000076293945, 57.599998474121094, 56.97999954223633, 56.36999893188477, 55.77000045776367, 55.18999862670898, 54.599998474121094, 53.9900016784668, 53.36000061035156, 52.70000076293945, 52.08000183105469, 51.52000045776367, 50.91999816894531, 50.22999954223633, 49.52000045776367, 48.77999877929688, 48.0, 47.16999816894531, 46.349998474121094, 45.54999923706055, 44.7400016784668, 43.88999938964844, 43.02999877929688, 42.180000305175774, 41.310001373291016, 40.41999816894531, 39.52999877929688, 38.63999938964844, 37.7400016784668, 36.849998474121094, 35.970001220703125, 35.139999389648445, 34.299999237060554, 33.47999954223633, 32.650001525878906, 31.84000015258789, 31.03000068664551, 30.239999771118164, 29.459999084472656, 28.68000030517578, 27.899999618530273, 27.149999618530273, 26.3799991607666, 25.57999992370605, 24.790000915527344, 24.01000022888184, 23.239999771118164, 22.489999771118164, 21.729999542236328, 20.959999084472656, 20.18000030517578, 19.399999618530273, 18.610000610351566, 17.829999923706055, 17.059999465942386, 16.309999465942386, 15.5600004196167, 14.81999969482422, 14.090000152587892, 13.409999847412108, 12.6899995803833, 11.949999809265135, 11.359999656677244, 10.880000114440918, 10.510000228881836, 10.289999961853027, 10.140000343322754, 10.06999969482422, 10.090000152587892, 10.149999618530273, 10.199999809265137, 10.260000228881836, 10.3100004196167, 10.329999923706056, 10.340000152587892, 10.3100004196167, 10.279999732971193, 10.289999961853027, 10.31999969482422, 10.3100004196167, 10.340000152587892, 10.4399995803833, 10.590000152587892, 10.729999542236328, 10.880000114440918, 11.010000228881836, 11.079999923706056, 11.109999656677246, 11.100000381469727, 11.090000152587892, 11.090000152587892, 11.109999656677246, 11.149999618530273, 11.199999809265137, 11.270000457763672, 11.359999656677244, 11.369999885559082, 11.340000152587892, 11.3100004196167, 11.289999961853027, 11.279999732971193, 11.270000457763672, 11.260000228881836, 11.239999771118164, 11.1899995803833, 11.119999885559082, 11.050000190734863, 11.020000457763672, 11.020000457763672, 11.050000190734863, 11.039999961853027, 11.079999923706056, 11.079999923706056, 11.090000152587892, 11.100000381469727, 11.109999656677246, 11.020000457763672, 10.949999809265137, 10.970000267028807, 11.079999923706056, 11.220000267028807, 11.270000457763672, 11.220000267028807, 11.149999618530273, 11.109999656677246, 11.100000381469727, 11.119999885559082, 11.119999885559082, 11.100000381469727, 11.039999961853027, 11.010000228881836, 11.020000457763672, 11.010000228881836, 11.0, 10.970000267028807, 10.9399995803833, 10.899999618530273, 10.859999656677246, 10.779999732971193, 10.710000038146973, 10.720000267028807, 10.710000038146973, 10.68000030517578, 10.649999618530273, 10.630000114440918, 10.609999656677246, 10.520000457763672, 10.460000038146973, 10.479999542236328, 10.510000228881836, 10.550000190734863, 10.579999923706056, 10.609999656677246, 10.630000114440918, 10.630000114440918, 10.609999656677246, 10.520000457763672, 10.380000114440918, 10.289999961853027, 10.25, 10.239999771118164, 10.25, 10.170000076293944, 9.970000267028807, 10.0600004196167, 10.109999656677246, 10.149999618530273, 10.199999809265137, 10.25, 10.329999923706056, 10.43000030517578, 10.5, 10.550000190734863, 10.590000152587892, 10.5600004196167], \"y\": [30.729999542236328, 30.729999542236328, 30.71999931335449, 30.71999931335449, 30.71999931335449, 30.71999931335449, 30.71999931335449, 30.71999931335449, 30.71999931335449, 30.71999931335449, 30.70000076293945, 30.65999984741211, 30.6200008392334, 30.610000610351573, 30.59000015258789, 30.59000015258789, 30.6299991607666, 30.76000022888184, 30.920000076293945, 31.1200008392334, 31.319999694824208, 31.559999465942386, 31.85000038146973, 32.189998626708984, 32.529998779296875, 32.880001068115234, 33.259998321533196, 33.669998168945305, 34.09000015258789, 34.47999954223633, 34.830001831054695, 35.16999816894532, 35.47999954223633, 35.7599983215332, 36.04999923706055, 36.36000061035156, 36.70000076293945, 37.08000183105469, 37.4900016784668, 37.930000305175774, 38.36999893188477, 38.790000915527344, 39.180000305175774, 39.5, 39.83000183105469, 40.1599998474121, 40.4900016784668, 40.77999877929688, 41.06999969482422, 41.34000015258789, 41.58000183105469, 41.77999877929688, 41.97000122070313, 42.13000106811523, 42.27999877929688, 42.41999816894531, 42.540000915527344, 42.650001525878906, 42.75, 42.86000061035156, 42.97999954223633, 43.09000015258789, 43.209999084472656, 43.34000015258789, 43.47999954223633, 43.63999938964844, 43.810001373291016, 44.0, 44.209999084472656, 44.47000122070313, 44.7400016784668, 45.040000915527344, 45.36000061035156, 45.709999084472656, 46.06999969482422, 46.43999862670898, 46.81999969482422, 47.209999084472656, 47.599998474121094, 48.0, 48.38000106811523, 48.75, 49.11999893188477, 49.47999954223633, 49.849998474121094, 50.209999084472656, 50.56999969482422, 50.9099998474121, 51.22999954223633, 51.52000045776367, 51.790000915527344, 52.02000045776367, 52.25, 52.4900016784668, 52.66999816894531, 52.77999877929688, 52.88000106811523, 52.97999954223633, 53.040000915527344, 53.04999923706055, 53.06000137329102, 53.09000015258789, 53.13000106811523, 53.11999893188477, 53.08000183105469, 53.040000915527344, 53.040000915527344, 53.04999923706055, 53.06000137329102, 53.02999877929688, 53.0099983215332, 53.0, 52.97000122070313, 52.88999938964844, 52.790000915527344, 52.72000122070313, 52.6599998474121, 52.66999816894531, 52.70000076293945, 52.709999084472656, 52.77000045776367, 52.83000183105469, 52.86999893188477, 52.88000106811523, 52.86000061035156, 52.81000137329102, 52.66999816894531, 52.47000122070313, 52.47999954223633, 52.56999969482422, 52.68000030517578, 52.77000045776367, 52.81999969482422, 52.86999893188477, 52.9000015258789, 52.95000076293945, 53.0, 53.04999923706055, 53.11000061035156, 53.1599998474121, 53.1500015258789, 53.099998474121094, 53.11000061035156, 53.1599998474121, 53.22000122070313, 53.27999877929688, 53.33000183105469, 53.4000015258789, 53.47000122070313, 53.58000183105469, 53.709999084472656, 53.79999923706055, 53.88000106811523, 53.93999862670898, 53.84000015258789, 53.7400016784668, 53.68999862670898, 53.6599998474121, 53.66999816894531, 53.68999862670898, 53.709999084472656, 53.6599998474121, 53.5099983215332, 53.38000106811523, 53.36000061035156, 53.45000076293945, 53.56000137329102, 53.68999862670898, 53.86000061035156, 53.97999954223633, 54.040000915527344, 54.08000183105469, 54.11000061035156, 54.1599998474121, 54.20000076293945, 54.2400016784668, 54.27000045776367, 54.27999877929688, 54.29999923706055, 54.29999923706055, 54.27000045776367, 54.2400016784668, 54.20000076293945, 54.16999816894531, 54.13999938964844, 54.11999893188477, 54.11000061035156, 54.13000106811523, 54.1599998474121, 54.11999893188477, 54.099998474121094, 54.11999893188477, 54.1500015258789, 54.18000030517578, 54.22999954223633, 54.290000915527344, 54.290000915527344, 54.2400016784668, 54.16999816894531, 54.11000061035156, 54.11000061035156, 54.1599998474121, 54.209999084472656, 54.27000045776367, 54.36000061035156, 54.43000030517578, 54.47000122070313], \"type\": \"scatter\", \"uid\": \"e6f9b85d-f02f-4ef4-ab66-da7a37aeb45e\"}, {\"marker\": {\"size\": 15}, \"mode\": \"markers\", \"name\": \"Injured Player\", \"x\": [59.58000183105469, 59.56999969482422, 59.58000183105469, 59.61000061035156, 59.68000030517578, 59.77999877929688, 59.9099998474121, 60.040000915527344, 60.18000030517578, 60.31999969482422, 60.4900016784668, 60.68999862670898, 60.88000106811523, 61.06000137329102, 61.22999954223633, 61.36999893188477, 61.47000122070313, 61.54999923706055, 61.61999893188477, 61.68000030517578, 61.68999862670898, 61.66999816894531, 61.61999893188477, 61.5099983215332, 61.36999893188477, 61.18000030517578, 60.91999816894531, 60.59000015258789, 60.22000122070313, 59.790000915527344, 59.290000915527344, 58.7599983215332, 58.20000076293945, 57.599998474121094, 56.97999954223633, 56.36999893188477, 55.77000045776367, 55.18999862670898, 54.599998474121094, 53.9900016784668, 53.36000061035156, 52.70000076293945, 52.08000183105469, 51.52000045776367, 50.91999816894531, 50.22999954223633, 49.52000045776367, 48.77999877929688, 48.0, 47.16999816894531, 46.349998474121094, 45.54999923706055, 44.7400016784668, 43.88999938964844, 43.02999877929688, 42.180000305175774, 41.310001373291016, 40.41999816894531, 39.52999877929688, 38.63999938964844, 37.7400016784668, 36.849998474121094, 35.970001220703125, 35.139999389648445, 34.299999237060554, 33.47999954223633, 32.650001525878906, 31.84000015258789, 31.03000068664551, 30.239999771118164, 29.459999084472656, 28.68000030517578, 27.899999618530273, 27.149999618530273, 26.3799991607666, 25.57999992370605, 24.790000915527344, 24.01000022888184, 23.239999771118164, 22.489999771118164, 21.729999542236328, 20.959999084472656, 20.18000030517578, 19.399999618530273, 18.610000610351566, 17.829999923706055, 17.059999465942386, 16.309999465942386, 15.5600004196167, 14.81999969482422, 14.090000152587892, 13.409999847412108, 12.6899995803833, 11.949999809265135, 11.359999656677244, 10.880000114440918, 10.510000228881836, 10.289999961853027, 10.140000343322754, 10.06999969482422, 10.090000152587892, 10.149999618530273, 10.199999809265137, 10.260000228881836, 10.3100004196167, 10.329999923706056, 10.340000152587892, 10.3100004196167, 10.279999732971193, 10.289999961853027, 10.31999969482422, 10.3100004196167, 10.340000152587892, 10.4399995803833, 10.590000152587892, 10.729999542236328, 10.880000114440918, 11.010000228881836, 11.079999923706056, 11.109999656677246, 11.100000381469727, 11.090000152587892, 11.090000152587892, 11.109999656677246, 11.149999618530273, 11.199999809265137, 11.270000457763672, 11.359999656677244, 11.369999885559082, 11.340000152587892, 11.3100004196167, 11.289999961853027, 11.279999732971193, 11.270000457763672, 11.260000228881836, 11.239999771118164, 11.1899995803833, 11.119999885559082, 11.050000190734863, 11.020000457763672, 11.020000457763672, 11.050000190734863, 11.039999961853027, 11.079999923706056, 11.079999923706056, 11.090000152587892, 11.100000381469727, 11.109999656677246, 11.020000457763672, 10.949999809265137, 10.970000267028807, 11.079999923706056, 11.220000267028807, 11.270000457763672, 11.220000267028807, 11.149999618530273, 11.109999656677246, 11.100000381469727, 11.119999885559082, 11.119999885559082, 11.100000381469727, 11.039999961853027, 11.010000228881836, 11.020000457763672, 11.010000228881836, 11.0, 10.970000267028807, 10.9399995803833, 10.899999618530273, 10.859999656677246, 10.779999732971193, 10.710000038146973, 10.720000267028807, 10.710000038146973, 10.68000030517578, 10.649999618530273, 10.630000114440918, 10.609999656677246, 10.520000457763672, 10.460000038146973, 10.479999542236328, 10.510000228881836, 10.550000190734863, 10.579999923706056, 10.609999656677246, 10.630000114440918, 10.630000114440918, 10.609999656677246, 10.520000457763672, 10.380000114440918, 10.289999961853027, 10.25, 10.239999771118164, 10.25, 10.170000076293944, 9.970000267028807, 10.0600004196167, 10.109999656677246, 10.149999618530273, 10.199999809265137, 10.25, 10.329999923706056, 10.43000030517578, 10.5, 10.550000190734863, 10.590000152587892, 10.5600004196167], \"y\": [30.729999542236328, 30.729999542236328, 30.71999931335449, 30.71999931335449, 30.71999931335449, 30.71999931335449, 30.71999931335449, 30.71999931335449, 30.71999931335449, 30.71999931335449, 30.70000076293945, 30.65999984741211, 30.6200008392334, 30.610000610351573, 30.59000015258789, 30.59000015258789, 30.6299991607666, 30.76000022888184, 30.920000076293945, 31.1200008392334, 31.319999694824208, 31.559999465942386, 31.85000038146973, 32.189998626708984, 32.529998779296875, 32.880001068115234, 33.259998321533196, 33.669998168945305, 34.09000015258789, 34.47999954223633, 34.830001831054695, 35.16999816894532, 35.47999954223633, 35.7599983215332, 36.04999923706055, 36.36000061035156, 36.70000076293945, 37.08000183105469, 37.4900016784668, 37.930000305175774, 38.36999893188477, 38.790000915527344, 39.180000305175774, 39.5, 39.83000183105469, 40.1599998474121, 40.4900016784668, 40.77999877929688, 41.06999969482422, 41.34000015258789, 41.58000183105469, 41.77999877929688, 41.97000122070313, 42.13000106811523, 42.27999877929688, 42.41999816894531, 42.540000915527344, 42.650001525878906, 42.75, 42.86000061035156, 42.97999954223633, 43.09000015258789, 43.209999084472656, 43.34000015258789, 43.47999954223633, 43.63999938964844, 43.810001373291016, 44.0, 44.209999084472656, 44.47000122070313, 44.7400016784668, 45.040000915527344, 45.36000061035156, 45.709999084472656, 46.06999969482422, 46.43999862670898, 46.81999969482422, 47.209999084472656, 47.599998474121094, 48.0, 48.38000106811523, 48.75, 49.11999893188477, 49.47999954223633, 49.849998474121094, 50.209999084472656, 50.56999969482422, 50.9099998474121, 51.22999954223633, 51.52000045776367, 51.790000915527344, 52.02000045776367, 52.25, 52.4900016784668, 52.66999816894531, 52.77999877929688, 52.88000106811523, 52.97999954223633, 53.040000915527344, 53.04999923706055, 53.06000137329102, 53.09000015258789, 53.13000106811523, 53.11999893188477, 53.08000183105469, 53.040000915527344, 53.040000915527344, 53.04999923706055, 53.06000137329102, 53.02999877929688, 53.0099983215332, 53.0, 52.97000122070313, 52.88999938964844, 52.790000915527344, 52.72000122070313, 52.6599998474121, 52.66999816894531, 52.70000076293945, 52.709999084472656, 52.77000045776367, 52.83000183105469, 52.86999893188477, 52.88000106811523, 52.86000061035156, 52.81000137329102, 52.66999816894531, 52.47000122070313, 52.47999954223633, 52.56999969482422, 52.68000030517578, 52.77000045776367, 52.81999969482422, 52.86999893188477, 52.9000015258789, 52.95000076293945, 53.0, 53.04999923706055, 53.11000061035156, 53.1599998474121, 53.1500015258789, 53.099998474121094, 53.11000061035156, 53.1599998474121, 53.22000122070313, 53.27999877929688, 53.33000183105469, 53.4000015258789, 53.47000122070313, 53.58000183105469, 53.709999084472656, 53.79999923706055, 53.88000106811523, 53.93999862670898, 53.84000015258789, 53.7400016784668, 53.68999862670898, 53.6599998474121, 53.66999816894531, 53.68999862670898, 53.709999084472656, 53.6599998474121, 53.5099983215332, 53.38000106811523, 53.36000061035156, 53.45000076293945, 53.56000137329102, 53.68999862670898, 53.86000061035156, 53.97999954223633, 54.040000915527344, 54.08000183105469, 54.11000061035156, 54.1599998474121, 54.20000076293945, 54.2400016784668, 54.27000045776367, 54.27999877929688, 54.29999923706055, 54.29999923706055, 54.27000045776367, 54.2400016784668, 54.20000076293945, 54.16999816894531, 54.13999938964844, 54.11999893188477, 54.11000061035156, 54.13000106811523, 54.1599998474121, 54.11999893188477, 54.099998474121094, 54.11999893188477, 54.1500015258789, 54.18000030517578, 54.22999954223633, 54.290000915527344, 54.290000915527344, 54.2400016784668, 54.16999816894531, 54.11000061035156, 54.11000061035156, 54.1599998474121, 54.209999084472656, 54.27000045776367, 54.36000061035156, 54.43000030517578, 54.47000122070313], \"type\": \"scatter\", \"uid\": \"52085846-1884-4b04-b714-3c430ecedf0d\"}, {\"marker\": {\"color\": \"orange\", \"size\": 15}, \"mode\": \"markers\", \"name\": \"Partner Player\", \"x\": [19.8799991607666, 19.8700008392334, 19.860000610351566, 19.850000381469727, 19.860000610351566, 19.8700008392334, 19.8700008392334, 19.8700008392334, 19.860000610351566, 19.860000610351566, 19.860000610351566, 19.8700008392334, 19.860000610351566, 19.850000381469727, 19.8799991607666, 19.88999938964844, 19.88999938964844, 19.90999984741211, 19.90999984741211, 19.88999938964844, 19.88999938964844, 19.8799991607666, 19.8700008392334, 19.8799991607666, 19.8700008392334, 19.8700008392334, 19.850000381469727, 19.81999969482421, 19.790000915527344, 19.770000457763672, 19.770000457763672, 19.770000457763672, 19.76000022888184, 19.75, 19.75, 19.729999542236328, 19.729999542236328, 19.75, 19.770000457763672, 19.770000457763672, 19.770000457763672, 19.770000457763672, 19.790000915527344, 19.840000152587887, 19.88999938964844, 19.950000762939453, 20.030000686645508, 20.100000381469727, 20.170000076293945, 20.270000457763672, 20.3700008392334, 20.440000534057614, 20.46999931335449, 20.459999084472656, 20.420000076293945, 20.3700008392334, 20.280000686645508, 20.110000610351566, 19.899999618530273, 19.65999984741211, 19.420000076293945, 19.170000076293945, 18.93000030517578, 18.649999618530273, 18.32999992370605, 18.0, 17.670000076293945, 17.319999694824222, 16.959999084472653, 16.610000610351566, 16.25, 15.869999885559082, 15.460000038146973, 15.06999969482422, 14.75, 14.380000114440918, 14.010000228881836, 13.649999618530273, 13.289999961853027, 12.93000030517578, 12.590000152587892, 12.3100004196167, 12.020000457763672, 11.8100004196167, 11.659999847412108, 11.539999961853027, 11.479999542236328, 11.489999771118164, 11.590000152587892, 11.789999961853027, 11.920000076293945, 11.979999542236328, 11.9399995803833, 11.829999923706055, 11.670000076293945, 11.5, 11.31999969482422, 11.149999618530273, 11.029999732971193, 10.909999847412108, 10.720000267028807, 10.520000457763672, 10.550000190734863, 10.649999618530273, 10.729999542236328, 10.869999885559082, 11.0600004196167, 11.149999618530273, 11.229999542236328, 11.329999923706055, 11.390000343322756, 11.43000030517578, 11.449999809265135, 11.380000114440918, 11.289999961853027, 11.279999732971193, 11.289999961853027, 11.31999969482422, 11.350000381469727, 11.43000030517578, 11.5, 11.640000343322756, 11.779999732971193, 11.909999847412108, 12.020000457763672, 12.100000381469727, 12.18000030517578, 12.270000457763672, 12.390000343322756, 12.479999542236328, 12.590000152587892, 12.659999847412108, 12.739999771118164, 12.880000114440918, 13.039999961853027, 13.1899995803833, 13.359999656677244, 13.550000190734865, 13.729999542236328, 13.9399995803833, 14.109999656677244, 14.239999771118164, 14.390000343322756, 14.600000381469727, 14.800000190734865, 15.029999732971193, 15.3100004196167, 15.489999771118164, 15.600000381469727, 15.739999771118164, 15.909999847412108, 16.180000305175778, 16.379999160766598, 16.559999465942386, 16.719999313354492, 16.860000610351566, 17.010000228881836, 17.209999084472653, 17.430000305175778, 17.65999984741211, 17.84000015258789, 17.979999542236328, 18.1200008392334, 18.31999969482421, 18.57999992370605, 18.82999992370605, 19.06999969482421, 19.299999237060547, 19.5, 19.690000534057614, 19.88999938964844, 20.090000152587887, 20.340000152587887, 20.61000061035156, 20.860000610351566, 21.06999969482421, 21.270000457763672, 21.5, 21.709999084472656, 21.920000076293945, 22.170000076293945, 22.399999618530273, 22.6200008392334, 22.79999923706055, 22.989999771118164, 23.209999084472656, 23.479999542236328, 23.739999771118164, 23.979999542236328, 24.21999931335449, 24.440000534057607, 24.649999618530273, 24.8799991607666, 25.1299991607666, 25.399999618530273, 25.649999618530273, 25.88999938964844, 26.1200008392334, 26.32999992370605, 26.54999923706055, 26.819999694824208, 27.10000038146973, 27.35000038146973, 27.59000015258789, 27.79999923706055, 28.020000457763672, 28.25], \"y\": [29.739999771118164, 29.729999542236328, 29.739999771118164, 29.739999771118164, 29.739999771118164, 29.76000022888184, 29.76000022888184, 29.770000457763672, 29.78000068664551, 29.790000915527344, 29.809999465942386, 29.809999465942386, 29.790000915527344, 29.76000022888184, 29.75, 29.739999771118164, 29.739999771118164, 29.739999771118164, 29.75, 29.729999542236328, 29.729999542236328, 29.68000030517578, 29.68000030517578, 29.70000076293945, 29.690000534057607, 29.690000534057607, 29.709999084472656, 29.76000022888184, 29.79999923706055, 29.84000015258789, 29.93000030517578, 30.04999923706055, 30.25, 30.489999771118164, 30.76000022888184, 31.110000610351573, 31.46999931335449, 31.8799991607666, 32.279998779296875, 32.72999954223633, 33.18000030517578, 33.669998168945305, 34.16999816894532, 34.65999984741211, 35.15999984741211, 35.630001068115234, 36.099998474121094, 36.63999938964844, 37.16999816894531, 37.709999084472656, 38.2400016784668, 38.77000045776367, 39.27000045776367, 39.77000045776367, 40.27000045776367, 40.7599983215332, 41.2400016784668, 41.709999084472656, 42.180000305175774, 42.63999938964844, 43.06999969482422, 43.52000045776367, 44.0099983215332, 44.47000122070313, 44.93999862670898, 45.4099998474121, 45.86000061035156, 46.31999969482422, 46.75, 47.16999816894531, 47.599998474121094, 48.02999877929688, 48.45000076293945, 48.86999893188477, 49.31999969482422, 49.7599983215332, 50.2400016784668, 50.68999862670898, 51.11000061035156, 51.47000122070313, 51.84000015258789, 52.22000122070313, 52.52000045776367, 52.7400016784668, 52.95000076293945, 53.06000137329102, 53.06999969482422, 53.11000061035156, 53.13000106811523, 52.9900016784668, 52.83000183105469, 52.63999938964844, 52.459999084472656, 52.2599983215332, 52.02000045776367, 51.790000915527344, 51.599998474121094, 51.38000106811523, 51.22999954223633, 51.13999938964844, 51.11000061035156, 51.11999893188477, 51.09000015258789, 51.09000015258789, 51.04999923706055, 50.9900016784668, 50.9000015258789, 50.77000045776367, 50.6500015258789, 50.56000137329102, 50.56999969482422, 50.68000030517578, 50.83000183105469, 51.02000045776367, 51.20000076293945, 51.33000183105469, 51.38000106811523, 51.33000183105469, 51.209999084472656, 51.09000015258789, 50.9000015258789, 50.72000122070313, 50.56000137329102, 50.38999938964844, 50.22999954223633, 50.09000015258789, 49.93000030517578, 49.75, 49.56000137329102, 49.33000183105469, 49.11999893188477, 48.9099998474121, 48.7400016784668, 48.56000137329102, 48.43000030517578, 48.25, 48.06000137329102, 47.86999893188477, 47.6599998474121, 47.43999862670898, 47.22000122070313, 47.0, 46.75, 46.52000045776367, 46.290000915527344, 46.09000015258789, 45.95000076293945, 45.709999084472656, 45.4099998474121, 45.11000061035156, 44.83000183105469, 44.540000915527344, 44.209999084472656, 43.91999816894531, 43.63999938964844, 43.38000106811523, 43.11000061035156, 42.84000015258789, 42.540000915527344, 42.2400016784668, 41.93999862670898, 41.63000106811523, 41.33000183105469, 41.02000045776367, 40.72000122070313, 40.41999816894531, 40.099998474121094, 39.790000915527344, 39.459999084472656, 39.11999893188477, 38.77999877929688, 38.459999084472656, 38.13999938964844, 37.84000015258789, 37.540000915527344, 37.22999954223633, 36.93999862670898, 36.650001525878906, 36.349998474121094, 36.040000915527344, 35.7400016784668, 35.43000030517578, 35.130001068115234, 34.810001373291016, 34.509998321533196, 34.209999084472656, 33.91999816894532, 33.61000061035157, 33.290000915527344, 32.959999084472656, 32.610000610351555, 32.279998779296875, 31.96999931335449, 31.68000030517578, 31.38999938964844, 31.10000038146973, 30.79999923706055, 30.489999771118164, 30.190000534057607, 29.899999618530273, 29.60000038146973, 29.319999694824208, 29.03000068664551, 28.739999771118164, 28.459999084472656, 28.18000030517578, 27.90999984741211], \"type\": \"scatter\", \"uid\": \"cff40cd9-05a0-4267-b97f-07fd5525619d\"}],\n",
       "            {\"hovermode\": \"closest\", \"plot_bgcolor\": \"darkseagreen\", \"shapes\": [{\"layer\": \"below\", \"line\": {\"color\": \"white\", \"width\": 2}, \"type\": \"line\", \"x0\": 0, \"x1\": 120, \"y0\": 0, \"y1\": 0}, {\"layer\": \"below\", \"line\": {\"color\": \"white\", \"width\": 2}, \"type\": \"line\", \"x0\": 0, \"x1\": 120, \"y0\": 53.3, \"y1\": 53.3}, {\"layer\": \"below\", \"line\": {\"color\": \"white\", \"width\": 10}, \"type\": \"line\", \"x0\": 10, \"x1\": 10, \"y0\": 0, \"y1\": 53.3}, {\"layer\": \"below\", \"line\": {\"color\": \"white\"}, \"type\": \"line\", \"x0\": 20, \"x1\": 20, \"y0\": 0, \"y1\": 53.3}, {\"layer\": \"below\", \"line\": {\"color\": \"white\"}, \"type\": \"line\", \"x0\": 30, \"x1\": 30, \"y0\": 0, \"y1\": 53.3}, {\"layer\": \"below\", \"line\": {\"color\": \"white\"}, \"type\": \"line\", \"x0\": 40, \"x1\": 40, \"y0\": 0, \"y1\": 53.3}, {\"layer\": \"below\", \"line\": {\"color\": \"white\"}, \"type\": \"line\", \"x0\": 50, \"x1\": 50, \"y0\": 0, \"y1\": 53.3}, {\"layer\": \"below\", \"line\": {\"color\": \"white\"}, \"type\": \"line\", \"x0\": 60, \"x1\": 60, \"y0\": 0, \"y1\": 53.3}, {\"layer\": \"below\", \"line\": {\"color\": \"white\"}, \"type\": \"line\", \"x0\": 70, \"x1\": 70, \"y0\": 0, \"y1\": 53.3}, {\"layer\": \"below\", \"line\": {\"color\": \"white\"}, \"type\": \"line\", \"x0\": 80, \"x1\": 80, \"y0\": 0, \"y1\": 53.3}, {\"layer\": \"below\", \"line\": {\"color\": \"white\"}, \"type\": \"line\", \"x0\": 90, \"x1\": 90, \"y0\": 0, \"y1\": 53.3}, {\"layer\": \"below\", \"line\": {\"color\": \"white\"}, \"type\": \"line\", \"x0\": 100, \"x1\": 100, \"y0\": 0, \"y1\": 53.3}, {\"layer\": \"below\", \"line\": {\"color\": \"white\", \"width\": 10}, \"type\": \"line\", \"x0\": 110, \"x1\": 110, \"y0\": 0, \"y1\": 53.3}], \"showlegend\": true, \"title\": \"Player Activity\", \"updatemenus\": [{\"buttons\": [{\"args\": [null], \"label\": \"Play\", \"method\": \"animate\"}], \"type\": \"buttons\"}], \"xaxis\": {\"autorange\": false, \"linecolor\": \"black\", \"linewidth\": 1, \"mirror\": true, \"range\": [0, 120], \"showgrid\": false, \"showline\": true, \"showticklabels\": true, \"tickmode\": \"array\", \"ticks\": \"\", \"ticktext\": [\"Goal\", 10, 20, 30, 40, 50, 40, 30, 20, 10, \"Goal\"], \"tickvals\": [10, 20, 30, 40, 50, 60, 70, 80, 90, 100, 110], \"zeroline\": false}, \"yaxis\": {\"autorange\": false, \"linecolor\": \"black\", \"linewidth\": 1, \"mirror\": true, \"range\": [-3.3, 56.3], \"showgrid\": false, \"showline\": true, \"showticklabels\": false, \"ticks\": \"\", \"title\": \"\", \"zeroline\": false}},\n",
       "            {\"showLink\": true, \"linkText\": \"Export to plot.ly\", \"plotlyServerURL\": \"https://plot.ly\"}\n",
       "        ).then(function () {return Plotly.addFrames('835f2640-870a-4d8c-a243-c9518848c41a',[{\"data\": [{\"marker\": {\"color\": \"#013369\", \"size\": 15}, \"mode\": \"markers\", \"name\": \"Partner Player\", \"x\": [19.8799991607666], \"y\": [29.739999771118164], \"type\": \"scatter\"}, {\"marker\": {\"color\": \"orange\", \"size\": 15}, \"mode\": \"markers\", \"name\": \"Injured Player\", \"x\": [59.58000183105469], \"y\": [30.729999542236328], \"type\": \"scatter\"}, {\"line\": {\"color\": \"#2c3539\", \"width\": 2}, \"mode\": \"lines\", \"name\": \"Distance\", \"text\": \"Distance: 40.0\", \"textposition\": \"bottom center\", \"x\": [59.58000183105469, 19.8799991607666, null, 59.58000183105469, 19.8799991607666], \"y\": [30.729999542236328, 29.739999771118164, null, 30.729999542236328, 29.739999771118164], \"type\": \"scatter\"}], \"layout\": {\"annotations\": [{\"align\": \"center\", \"bgcolor\": \"#2c3539\", \"bordercolor\": \"#c7c7c7\", \"borderpad\": 4, \"borderwidth\": 2, \"font\": {\"color\": \"#ffffff\", \"family\": \"Courier New, monospace\", \"size\": 14}, \"opacity\": 0.8, \"showarrow\": false, \"text\": \"40.0 Yds\", \"x\": 100, \"y\": 5}], \"title\": \"ball_snap\"}}, {\"data\": [{\"marker\": {\"color\": \"#013369\", \"size\": 15}, \"mode\": \"markers\", \"name\": \"Partner Player\", \"x\": [19.8700008392334], \"y\": [29.76000022888184], \"type\": \"scatter\"}, {\"marker\": {\"color\": \"orange\", \"size\": 15}, \"mode\": \"markers\", \"name\": \"Injured Player\", \"x\": [59.77999877929688], \"y\": [30.71999931335449], \"type\": \"scatter\"}, {\"line\": {\"color\": \"#2c3539\", \"width\": 2}, \"mode\": \"lines\", \"name\": \"Distance\", \"text\": \"Distance: 40.0\", \"textposition\": \"bottom center\", \"x\": [59.77999877929688, 19.8700008392334, null, 59.77999877929688, 19.8700008392334], \"y\": [30.71999931335449, 29.76000022888184, null, 30.71999931335449, 29.76000022888184], \"type\": \"scatter\"}], \"layout\": {\"annotations\": [{\"align\": \"center\", \"bgcolor\": \"#2c3539\", \"bordercolor\": \"#c7c7c7\", \"borderpad\": 4, \"borderwidth\": 2, \"font\": {\"color\": \"#ffffff\", \"family\": \"Courier New, monospace\", \"size\": 14}, \"opacity\": 0.8, \"showarrow\": false, \"text\": \"40.0 Yds\", \"x\": 100, \"y\": 5}], \"title\": \"ball_snap\"}}, {\"data\": [{\"marker\": {\"color\": \"#013369\", \"size\": 15}, \"mode\": \"markers\", \"name\": \"Partner Player\", \"x\": [19.860000610351566], \"y\": [29.809999465942386], \"type\": \"scatter\"}, {\"marker\": {\"color\": \"orange\", \"size\": 15}, \"mode\": \"markers\", \"name\": \"Injured Player\", \"x\": [60.4900016784668], \"y\": [30.70000076293945], \"type\": \"scatter\"}, {\"line\": {\"color\": \"#2c3539\", \"width\": 2}, \"mode\": \"lines\", \"name\": \"Distance\", \"text\": \"Distance: 41.0\", \"textposition\": \"bottom center\", \"x\": [60.4900016784668, 19.860000610351566, null, 60.4900016784668, 19.860000610351566], \"y\": [30.70000076293945, 29.809999465942386, null, 30.70000076293945, 29.809999465942386], \"type\": \"scatter\"}], \"layout\": {\"annotations\": [{\"align\": \"center\", \"bgcolor\": \"#2c3539\", \"bordercolor\": \"#c7c7c7\", \"borderpad\": 4, \"borderwidth\": 2, \"font\": {\"color\": \"#ffffff\", \"family\": \"Courier New, monospace\", \"size\": 14}, \"opacity\": 0.8, \"showarrow\": false, \"text\": \"41.0 Yds\", \"x\": 100, \"y\": 5}], \"title\": \"ball_snap\"}}, {\"data\": [{\"marker\": {\"color\": \"#013369\", \"size\": 15}, \"mode\": \"markers\", \"name\": \"Partner Player\", \"x\": [19.88999938964844], \"y\": [29.739999771118164], \"type\": \"scatter\"}, {\"marker\": {\"color\": \"orange\", \"size\": 15}, \"mode\": \"markers\", \"name\": \"Injured Player\", \"x\": [61.36999893188477], \"y\": [30.59000015258789], \"type\": \"scatter\"}, {\"line\": {\"color\": \"#2c3539\", \"width\": 2}, \"mode\": \"lines\", \"name\": \"Distance\", \"text\": \"Distance: 41.0\", \"textposition\": \"bottom center\", \"x\": [61.36999893188477, 19.88999938964844, null, 61.36999893188477, 19.88999938964844], \"y\": [30.59000015258789, 29.739999771118164, null, 30.59000015258789, 29.739999771118164], \"type\": \"scatter\"}], \"layout\": {\"annotations\": [{\"align\": \"center\", \"bgcolor\": \"#2c3539\", \"bordercolor\": \"#c7c7c7\", \"borderpad\": 4, \"borderwidth\": 2, \"font\": {\"color\": \"#ffffff\", \"family\": \"Courier New, monospace\", \"size\": 14}, \"opacity\": 0.8, \"showarrow\": false, \"text\": \"41.0 Yds\", \"x\": 100, \"y\": 5}], \"title\": \"ball_snap\"}}, {\"data\": [{\"marker\": {\"color\": \"#013369\", \"size\": 15}, \"mode\": \"markers\", \"name\": \"Partner Player\", \"x\": [19.88999938964844], \"y\": [29.729999542236328], \"type\": \"scatter\"}, {\"marker\": {\"color\": \"orange\", \"size\": 15}, \"mode\": \"markers\", \"name\": \"Injured Player\", \"x\": [61.68999862670898], \"y\": [31.319999694824208], \"type\": \"scatter\"}, {\"line\": {\"color\": \"#2c3539\", \"width\": 2}, \"mode\": \"lines\", \"name\": \"Distance\", \"text\": \"Distance: 42.0\", \"textposition\": \"bottom center\", \"x\": [61.68999862670898, 19.88999938964844, null, 61.68999862670898, 19.88999938964844], \"y\": [31.319999694824208, 29.729999542236328, null, 31.319999694824208, 29.729999542236328], \"type\": \"scatter\"}], \"layout\": {\"annotations\": [{\"align\": \"center\", \"bgcolor\": \"#2c3539\", \"bordercolor\": \"#c7c7c7\", \"borderpad\": 4, \"borderwidth\": 2, \"font\": {\"color\": \"#ffffff\", \"family\": \"Courier New, monospace\", \"size\": 14}, \"opacity\": 0.8, \"showarrow\": false, \"text\": \"42.0 Yds\", \"x\": 100, \"y\": 5}], \"title\": \"ball_snap\"}}, {\"data\": [{\"marker\": {\"color\": \"#013369\", \"size\": 15}, \"mode\": \"markers\", \"name\": \"Partner Player\", \"x\": [19.8700008392334], \"y\": [29.690000534057607], \"type\": \"scatter\"}, {\"marker\": {\"color\": \"orange\", \"size\": 15}, \"mode\": \"markers\", \"name\": \"Injured Player\", \"x\": [61.18000030517578], \"y\": [32.880001068115234], \"type\": \"scatter\"}, {\"line\": {\"color\": \"#2c3539\", \"width\": 2}, \"mode\": \"lines\", \"name\": \"Distance\", \"text\": \"Distance: 41.0\", \"textposition\": \"bottom center\", \"x\": [61.18000030517578, 19.8700008392334, null, 61.18000030517578, 19.8700008392334], \"y\": [32.880001068115234, 29.690000534057607, null, 32.880001068115234, 29.690000534057607], \"type\": \"scatter\"}], \"layout\": {\"annotations\": [{\"align\": \"center\", \"bgcolor\": \"#2c3539\", \"bordercolor\": \"#c7c7c7\", \"borderpad\": 4, \"borderwidth\": 2, \"font\": {\"color\": \"#ffffff\", \"family\": \"Courier New, monospace\", \"size\": 14}, \"opacity\": 0.8, \"showarrow\": false, \"text\": \"41.0 Yds\", \"x\": 100, \"y\": 5}], \"title\": \"punt\"}}, {\"data\": [{\"marker\": {\"color\": \"#013369\", \"size\": 15}, \"mode\": \"markers\", \"name\": \"Partner Player\", \"x\": [19.770000457763672], \"y\": [29.93000030517578], \"type\": \"scatter\"}, {\"marker\": {\"color\": \"orange\", \"size\": 15}, \"mode\": \"markers\", \"name\": \"Injured Player\", \"x\": [59.290000915527344], \"y\": [34.830001831054695], \"type\": \"scatter\"}, {\"line\": {\"color\": \"#2c3539\", \"width\": 2}, \"mode\": \"lines\", \"name\": \"Distance\", \"text\": \"Distance: 40.0\", \"textposition\": \"bottom center\", \"x\": [59.290000915527344, 19.770000457763672, null, 59.290000915527344, 19.770000457763672], \"y\": [34.830001831054695, 29.93000030517578, null, 34.830001831054695, 29.93000030517578], \"type\": \"scatter\"}], \"layout\": {\"annotations\": [{\"align\": \"center\", \"bgcolor\": \"#2c3539\", \"bordercolor\": \"#c7c7c7\", \"borderpad\": 4, \"borderwidth\": 2, \"font\": {\"color\": \"#ffffff\", \"family\": \"Courier New, monospace\", \"size\": 14}, \"opacity\": 0.8, \"showarrow\": false, \"text\": \"40.0 Yds\", \"x\": 100, \"y\": 5}], \"title\": \"punt\"}}, {\"data\": [{\"marker\": {\"color\": \"#013369\", \"size\": 15}, \"mode\": \"markers\", \"name\": \"Partner Player\", \"x\": [19.729999542236328], \"y\": [31.110000610351573], \"type\": \"scatter\"}, {\"marker\": {\"color\": \"orange\", \"size\": 15}, \"mode\": \"markers\", \"name\": \"Injured Player\", \"x\": [56.36999893188477], \"y\": [36.36000061035156], \"type\": \"scatter\"}, {\"line\": {\"color\": \"#2c3539\", \"width\": 2}, \"mode\": \"lines\", \"name\": \"Distance\", \"text\": \"Distance: 37.0\", \"textposition\": \"bottom center\", \"x\": [56.36999893188477, 19.729999542236328, null, 56.36999893188477, 19.729999542236328], \"y\": [36.36000061035156, 31.110000610351573, null, 36.36000061035156, 31.110000610351573], \"type\": \"scatter\"}], \"layout\": {\"annotations\": [{\"align\": \"center\", \"bgcolor\": \"#2c3539\", \"bordercolor\": \"#c7c7c7\", \"borderpad\": 4, \"borderwidth\": 2, \"font\": {\"color\": \"#ffffff\", \"family\": \"Courier New, monospace\", \"size\": 14}, \"opacity\": 0.8, \"showarrow\": false, \"text\": \"37.0 Yds\", \"x\": 100, \"y\": 5}], \"title\": \"punt\"}}, {\"data\": [{\"marker\": {\"color\": \"#013369\", \"size\": 15}, \"mode\": \"markers\", \"name\": \"Partner Player\", \"x\": [19.770000457763672], \"y\": [33.18000030517578], \"type\": \"scatter\"}, {\"marker\": {\"color\": \"orange\", \"size\": 15}, \"mode\": \"markers\", \"name\": \"Injured Player\", \"x\": [53.36000061035156], \"y\": [38.36999893188477], \"type\": \"scatter\"}, {\"line\": {\"color\": \"#2c3539\", \"width\": 2}, \"mode\": \"lines\", \"name\": \"Distance\", \"text\": \"Distance: 34.0\", \"textposition\": \"bottom center\", \"x\": [53.36000061035156, 19.770000457763672, null, 53.36000061035156, 19.770000457763672], \"y\": [38.36999893188477, 33.18000030517578, null, 38.36999893188477, 33.18000030517578], \"type\": \"scatter\"}], \"layout\": {\"annotations\": [{\"align\": \"center\", \"bgcolor\": \"#2c3539\", \"bordercolor\": \"#c7c7c7\", \"borderpad\": 4, \"borderwidth\": 2, \"font\": {\"color\": \"#ffffff\", \"family\": \"Courier New, monospace\", \"size\": 14}, \"opacity\": 0.8, \"showarrow\": false, \"text\": \"34.0 Yds\", \"x\": 100, \"y\": 5}], \"title\": \"punt\"}}, {\"data\": [{\"marker\": {\"color\": \"#013369\", \"size\": 15}, \"mode\": \"markers\", \"name\": \"Partner Player\", \"x\": [19.950000762939453], \"y\": [35.630001068115234], \"type\": \"scatter\"}, {\"marker\": {\"color\": \"orange\", \"size\": 15}, \"mode\": \"markers\", \"name\": \"Injured Player\", \"x\": [50.22999954223633], \"y\": [40.1599998474121], \"type\": \"scatter\"}, {\"line\": {\"color\": \"#2c3539\", \"width\": 2}, \"mode\": \"lines\", \"name\": \"Distance\", \"text\": \"Distance: 31.0\", \"textposition\": \"bottom center\", \"x\": [50.22999954223633, 19.950000762939453, null, 50.22999954223633, 19.950000762939453], \"y\": [40.1599998474121, 35.630001068115234, null, 40.1599998474121, 35.630001068115234], \"type\": \"scatter\"}], \"layout\": {\"annotations\": [{\"align\": \"center\", \"bgcolor\": \"#2c3539\", \"bordercolor\": \"#c7c7c7\", \"borderpad\": 4, \"borderwidth\": 2, \"font\": {\"color\": \"#ffffff\", \"family\": \"Courier New, monospace\", \"size\": 14}, \"opacity\": 0.8, \"showarrow\": false, \"text\": \"31.0 Yds\", \"x\": 100, \"y\": 5}], \"title\": \"punt\"}}, {\"data\": [{\"marker\": {\"color\": \"#013369\", \"size\": 15}, \"mode\": \"markers\", \"name\": \"Partner Player\", \"x\": [20.3700008392334], \"y\": [38.2400016784668], \"type\": \"scatter\"}, {\"marker\": {\"color\": \"orange\", \"size\": 15}, \"mode\": \"markers\", \"name\": \"Injured Player\", \"x\": [46.349998474121094], \"y\": [41.58000183105469], \"type\": \"scatter\"}, {\"line\": {\"color\": \"#2c3539\", \"width\": 2}, \"mode\": \"lines\", \"name\": \"Distance\", \"text\": \"Distance: 26.0\", \"textposition\": \"bottom center\", \"x\": [46.349998474121094, 20.3700008392334, null, 46.349998474121094, 20.3700008392334], \"y\": [41.58000183105469, 38.2400016784668, null, 41.58000183105469, 38.2400016784668], \"type\": \"scatter\"}], \"layout\": {\"annotations\": [{\"align\": \"center\", \"bgcolor\": \"#2c3539\", \"bordercolor\": \"#c7c7c7\", \"borderpad\": 4, \"borderwidth\": 2, \"font\": {\"color\": \"#ffffff\", \"family\": \"Courier New, monospace\", \"size\": 14}, \"opacity\": 0.8, \"showarrow\": false, \"text\": \"26.0 Yds\", \"x\": 100, \"y\": 5}], \"title\": \"punt\"}}, {\"data\": [{\"marker\": {\"color\": \"#013369\", \"size\": 15}, \"mode\": \"markers\", \"name\": \"Partner Player\", \"x\": [20.3700008392334], \"y\": [40.7599983215332], \"type\": \"scatter\"}, {\"marker\": {\"color\": \"orange\", \"size\": 15}, \"mode\": \"markers\", \"name\": \"Injured Player\", \"x\": [42.180000305175774], \"y\": [42.41999816894531], \"type\": \"scatter\"}, {\"line\": {\"color\": \"#2c3539\", \"width\": 2}, \"mode\": \"lines\", \"name\": \"Distance\", \"text\": \"Distance: 22.0\", \"textposition\": \"bottom center\", \"x\": [42.180000305175774, 20.3700008392334, null, 42.180000305175774, 20.3700008392334], \"y\": [42.41999816894531, 40.7599983215332, null, 42.41999816894531, 40.7599983215332], \"type\": \"scatter\"}], \"layout\": {\"annotations\": [{\"align\": \"center\", \"bgcolor\": \"#2c3539\", \"bordercolor\": \"#c7c7c7\", \"borderpad\": 4, \"borderwidth\": 2, \"font\": {\"color\": \"#ffffff\", \"family\": \"Courier New, monospace\", \"size\": 14}, \"opacity\": 0.8, \"showarrow\": false, \"text\": \"22.0 Yds\", \"x\": 100, \"y\": 5}], \"title\": \"punt\"}}, {\"data\": [{\"marker\": {\"color\": \"#013369\", \"size\": 15}, \"mode\": \"markers\", \"name\": \"Partner Player\", \"x\": [19.420000076293945], \"y\": [43.06999969482422], \"type\": \"scatter\"}, {\"marker\": {\"color\": \"orange\", \"size\": 15}, \"mode\": \"markers\", \"name\": \"Injured Player\", \"x\": [37.7400016784668], \"y\": [42.97999954223633], \"type\": \"scatter\"}, {\"line\": {\"color\": \"#2c3539\", \"width\": 2}, \"mode\": \"lines\", \"name\": \"Distance\", \"text\": \"Distance: 18.0\", \"textposition\": \"bottom center\", \"x\": [37.7400016784668, 19.420000076293945, null, 37.7400016784668, 19.420000076293945], \"y\": [42.97999954223633, 43.06999969482422, null, 42.97999954223633, 43.06999969482422], \"type\": \"scatter\"}], \"layout\": {\"annotations\": [{\"align\": \"center\", \"bgcolor\": \"#2c3539\", \"bordercolor\": \"#c7c7c7\", \"borderpad\": 4, \"borderwidth\": 2, \"font\": {\"color\": \"#ffffff\", \"family\": \"Courier New, monospace\", \"size\": 14}, \"opacity\": 0.8, \"showarrow\": false, \"text\": \"18.0 Yds\", \"x\": 100, \"y\": 5}], \"title\": \"punt\"}}, {\"data\": [{\"marker\": {\"color\": \"#013369\", \"size\": 15}, \"mode\": \"markers\", \"name\": \"Partner Player\", \"x\": [18.0], \"y\": [45.4099998474121], \"type\": \"scatter\"}, {\"marker\": {\"color\": \"orange\", \"size\": 15}, \"mode\": \"markers\", \"name\": \"Injured Player\", \"x\": [33.47999954223633], \"y\": [43.63999938964844], \"type\": \"scatter\"}, {\"line\": {\"color\": \"#2c3539\", \"width\": 2}, \"mode\": \"lines\", \"name\": \"Distance\", \"text\": \"Distance: 16.0\", \"textposition\": \"bottom center\", \"x\": [33.47999954223633, 18.0, null, 33.47999954223633, 18.0], \"y\": [43.63999938964844, 45.4099998474121, null, 43.63999938964844, 45.4099998474121], \"type\": \"scatter\"}], \"layout\": {\"annotations\": [{\"align\": \"center\", \"bgcolor\": \"#2c3539\", \"bordercolor\": \"#c7c7c7\", \"borderpad\": 4, \"borderwidth\": 2, \"font\": {\"color\": \"#ffffff\", \"family\": \"Courier New, monospace\", \"size\": 14}, \"opacity\": 0.8, \"showarrow\": false, \"text\": \"16.0 Yds\", \"x\": 100, \"y\": 5}], \"title\": \"punt\"}}, {\"data\": [{\"marker\": {\"color\": \"#013369\", \"size\": 15}, \"mode\": \"markers\", \"name\": \"Partner Player\", \"x\": [16.25], \"y\": [47.599998474121094], \"type\": \"scatter\"}, {\"marker\": {\"color\": \"orange\", \"size\": 15}, \"mode\": \"markers\", \"name\": \"Injured Player\", \"x\": [29.459999084472656], \"y\": [44.7400016784668], \"type\": \"scatter\"}, {\"line\": {\"color\": \"#2c3539\", \"width\": 2}, \"mode\": \"lines\", \"name\": \"Distance\", \"text\": \"Distance: 14.0\", \"textposition\": \"bottom center\", \"x\": [29.459999084472656, 16.25, null, 29.459999084472656, 16.25], \"y\": [44.7400016784668, 47.599998474121094, null, 44.7400016784668, 47.599998474121094], \"type\": \"scatter\"}], \"layout\": {\"annotations\": [{\"align\": \"center\", \"bgcolor\": \"#2c3539\", \"bordercolor\": \"#c7c7c7\", \"borderpad\": 4, \"borderwidth\": 2, \"font\": {\"color\": \"#ffffff\", \"family\": \"Courier New, monospace\", \"size\": 14}, \"opacity\": 0.8, \"showarrow\": false, \"text\": \"14.0 Yds\", \"x\": 100, \"y\": 5}], \"title\": \"punt\"}}, {\"data\": [{\"marker\": {\"color\": \"#013369\", \"size\": 15}, \"mode\": \"markers\", \"name\": \"Partner Player\", \"x\": [14.380000114440918], \"y\": [49.7599983215332], \"type\": \"scatter\"}, {\"marker\": {\"color\": \"orange\", \"size\": 15}, \"mode\": \"markers\", \"name\": \"Injured Player\", \"x\": [25.57999992370605], \"y\": [46.43999862670898], \"type\": \"scatter\"}, {\"line\": {\"color\": \"#2c3539\", \"width\": 2}, \"mode\": \"lines\", \"name\": \"Distance\", \"text\": \"Distance: 12.0\", \"textposition\": \"bottom center\", \"x\": [25.57999992370605, 14.380000114440918, null, 25.57999992370605, 14.380000114440918], \"y\": [46.43999862670898, 49.7599983215332, null, 46.43999862670898, 49.7599983215332], \"type\": \"scatter\"}], \"layout\": {\"annotations\": [{\"align\": \"center\", \"bgcolor\": \"#2c3539\", \"bordercolor\": \"#c7c7c7\", \"borderpad\": 4, \"borderwidth\": 2, \"font\": {\"color\": \"#ffffff\", \"family\": \"Courier New, monospace\", \"size\": 14}, \"opacity\": 0.8, \"showarrow\": false, \"text\": \"12.0 Yds\", \"x\": 100, \"y\": 5}], \"title\": \"punt\"}}, {\"data\": [{\"marker\": {\"color\": \"#013369\", \"size\": 15}, \"mode\": \"markers\", \"name\": \"Partner Player\", \"x\": [12.590000152587892], \"y\": [51.84000015258789], \"type\": \"scatter\"}, {\"marker\": {\"color\": \"orange\", \"size\": 15}, \"mode\": \"markers\", \"name\": \"Injured Player\", \"x\": [21.729999542236328], \"y\": [48.38000106811523], \"type\": \"scatter\"}, {\"line\": {\"color\": \"#2c3539\", \"width\": 2}, \"mode\": \"lines\", \"name\": \"Distance\", \"text\": \"Distance: 10.0\", \"textposition\": \"bottom center\", \"x\": [21.729999542236328, 12.590000152587892, null, 21.729999542236328, 12.590000152587892], \"y\": [48.38000106811523, 51.84000015258789, null, 48.38000106811523, 51.84000015258789], \"type\": \"scatter\"}], \"layout\": {\"annotations\": [{\"align\": \"center\", \"bgcolor\": \"#2c3539\", \"bordercolor\": \"#c7c7c7\", \"borderpad\": 4, \"borderwidth\": 2, \"font\": {\"color\": \"#ffffff\", \"family\": \"Courier New, monospace\", \"size\": 14}, \"opacity\": 0.8, \"showarrow\": false, \"text\": \"10.0 Yds\", \"x\": 100, \"y\": 5}], \"title\": \"punt\"}}, {\"data\": [{\"marker\": {\"color\": \"#013369\", \"size\": 15}, \"mode\": \"markers\", \"name\": \"Partner Player\", \"x\": [11.539999961853027], \"y\": [53.06000137329102], \"type\": \"scatter\"}, {\"marker\": {\"color\": \"orange\", \"size\": 15}, \"mode\": \"markers\", \"name\": \"Injured Player\", \"x\": [17.829999923706055], \"y\": [50.209999084472656], \"type\": \"scatter\"}, {\"line\": {\"color\": \"#2c3539\", \"width\": 2}, \"mode\": \"lines\", \"name\": \"Distance\", \"text\": \"Distance: 7.0\", \"textposition\": \"bottom center\", \"x\": [17.829999923706055, 11.539999961853027, null, 17.829999923706055, 11.539999961853027], \"y\": [50.209999084472656, 53.06000137329102, null, 50.209999084472656, 53.06000137329102], \"type\": \"scatter\"}], \"layout\": {\"annotations\": [{\"align\": \"center\", \"bgcolor\": \"#2c3539\", \"bordercolor\": \"#c7c7c7\", \"borderpad\": 4, \"borderwidth\": 2, \"font\": {\"color\": \"#ffffff\", \"family\": \"Courier New, monospace\", \"size\": 14}, \"opacity\": 0.8, \"showarrow\": false, \"text\": \"7.0 Yds\", \"x\": 100, \"y\": 5}], \"title\": \"punt_downed\"}}, {\"data\": [{\"marker\": {\"color\": \"#013369\", \"size\": 15}, \"mode\": \"markers\", \"name\": \"Partner Player\", \"x\": [11.920000076293945], \"y\": [52.83000183105469], \"type\": \"scatter\"}, {\"marker\": {\"color\": \"orange\", \"size\": 15}, \"mode\": \"markers\", \"name\": \"Injured Player\", \"x\": [14.090000152587892], \"y\": [51.790000915527344], \"type\": \"scatter\"}, {\"line\": {\"color\": \"#2c3539\", \"width\": 2}, \"mode\": \"lines\", \"name\": \"Distance\", \"text\": \"Distance: 2.0\", \"textposition\": \"bottom center\", \"x\": [14.090000152587892, 11.920000076293945, null, 14.090000152587892, 11.920000076293945], \"y\": [51.790000915527344, 52.83000183105469, null, 51.790000915527344, 52.83000183105469], \"type\": \"scatter\"}], \"layout\": {\"annotations\": [{\"align\": \"center\", \"bgcolor\": \"#2c3539\", \"bordercolor\": \"#c7c7c7\", \"borderpad\": 4, \"borderwidth\": 2, \"font\": {\"color\": \"#ffffff\", \"family\": \"Courier New, monospace\", \"size\": 14}, \"opacity\": 0.8, \"showarrow\": false, \"text\": \"2.0 Yds\", \"x\": 100, \"y\": 5}], \"title\": \"punt_downed\"}}, {\"data\": [{\"marker\": {\"color\": \"#013369\", \"size\": 15}, \"mode\": \"markers\", \"name\": \"Partner Player\", \"x\": [11.5], \"y\": [51.790000915527344], \"type\": \"scatter\"}, {\"marker\": {\"color\": \"orange\", \"size\": 15}, \"mode\": \"markers\", \"name\": \"Injured Player\", \"x\": [10.880000114440918], \"y\": [52.77999877929688], \"type\": \"scatter\"}, {\"line\": {\"color\": \"#2c3539\", \"width\": 2}, \"mode\": \"lines\", \"name\": \"Distance\", \"text\": \"Distance: 1.0\", \"textposition\": \"bottom center\", \"x\": [10.880000114440918, 11.5, null, 10.880000114440918, 11.5], \"y\": [52.77999877929688, 51.790000915527344, null, 52.77999877929688, 51.790000915527344], \"type\": \"scatter\"}], \"layout\": {\"annotations\": [{\"align\": \"center\", \"bgcolor\": \"#2c3539\", \"bordercolor\": \"#c7c7c7\", \"borderpad\": 4, \"borderwidth\": 2, \"font\": {\"color\": \"#ffffff\", \"family\": \"Courier New, monospace\", \"size\": 14}, \"opacity\": 0.8, \"showarrow\": false, \"text\": \"1.0 Yds\", \"x\": 100, \"y\": 5}], \"title\": \"punt_downed\"}}, {\"data\": [{\"marker\": {\"color\": \"#013369\", \"size\": 15}, \"mode\": \"markers\", \"name\": \"Partner Player\", \"x\": [10.720000267028807], \"y\": [51.11000061035156], \"type\": \"scatter\"}, {\"marker\": {\"color\": \"orange\", \"size\": 15}, \"mode\": \"markers\", \"name\": \"Injured Player\", \"x\": [10.090000152587892], \"y\": [53.06000137329102], \"type\": \"scatter\"}, {\"line\": {\"color\": \"#2c3539\", \"width\": 2}, \"mode\": \"lines\", \"name\": \"Distance\", \"text\": \"Distance: 2.0\", \"textposition\": \"bottom center\", \"x\": [10.090000152587892, 10.720000267028807, null, 10.090000152587892, 10.720000267028807], \"y\": [53.06000137329102, 51.11000061035156, null, 53.06000137329102, 51.11000061035156], \"type\": \"scatter\"}], \"layout\": {\"annotations\": [{\"align\": \"center\", \"bgcolor\": \"#2c3539\", \"bordercolor\": \"#c7c7c7\", \"borderpad\": 4, \"borderwidth\": 2, \"font\": {\"color\": \"#ffffff\", \"family\": \"Courier New, monospace\", \"size\": 14}, \"opacity\": 0.8, \"showarrow\": false, \"text\": \"2.0 Yds\", \"x\": 100, \"y\": 5}], \"title\": \"punt_downed\"}}, {\"data\": [{\"marker\": {\"color\": \"#013369\", \"size\": 15}, \"mode\": \"markers\", \"name\": \"Partner Player\", \"x\": [10.869999885559082], \"y\": [50.9900016784668], \"type\": \"scatter\"}, {\"marker\": {\"color\": \"orange\", \"size\": 15}, \"mode\": \"markers\", \"name\": \"Injured Player\", \"x\": [10.329999923706056], \"y\": [53.040000915527344], \"type\": \"scatter\"}, {\"line\": {\"color\": \"#2c3539\", \"width\": 2}, \"mode\": \"lines\", \"name\": \"Distance\", \"text\": \"Distance: 2.0\", \"textposition\": \"bottom center\", \"x\": [10.329999923706056, 10.869999885559082, null, 10.329999923706056, 10.869999885559082], \"y\": [53.040000915527344, 50.9900016784668, null, 53.040000915527344, 50.9900016784668], \"type\": \"scatter\"}], \"layout\": {\"annotations\": [{\"align\": \"center\", \"bgcolor\": \"#2c3539\", \"bordercolor\": \"#c7c7c7\", \"borderpad\": 4, \"borderwidth\": 2, \"font\": {\"color\": \"#ffffff\", \"family\": \"Courier New, monospace\", \"size\": 14}, \"opacity\": 0.8, \"showarrow\": false, \"text\": \"2.0 Yds\", \"x\": 100, \"y\": 5}], \"title\": \"punt_downed\"}}, {\"data\": [{\"marker\": {\"color\": \"#013369\", \"size\": 15}, \"mode\": \"markers\", \"name\": \"Partner Player\", \"x\": [11.390000343322756], \"y\": [50.56999969482422], \"type\": \"scatter\"}, {\"marker\": {\"color\": \"orange\", \"size\": 15}, \"mode\": \"markers\", \"name\": \"Injured Player\", \"x\": [10.31999969482422], \"y\": [53.0099983215332], \"type\": \"scatter\"}, {\"line\": {\"color\": \"#2c3539\", \"width\": 2}, \"mode\": \"lines\", \"name\": \"Distance\", \"text\": \"Distance: 3.0\", \"textposition\": \"bottom center\", \"x\": [10.31999969482422, 11.390000343322756, null, 10.31999969482422, 11.390000343322756], \"y\": [53.0099983215332, 50.56999969482422, null, 53.0099983215332, 50.56999969482422], \"type\": \"scatter\"}], \"layout\": {\"annotations\": [{\"align\": \"center\", \"bgcolor\": \"#2c3539\", \"bordercolor\": \"#c7c7c7\", \"borderpad\": 4, \"borderwidth\": 2, \"font\": {\"color\": \"#ffffff\", \"family\": \"Courier New, monospace\", \"size\": 14}, \"opacity\": 0.8, \"showarrow\": false, \"text\": \"3.0 Yds\", \"x\": 100, \"y\": 5}], \"title\": \"punt_downed\"}}, {\"data\": [{\"marker\": {\"color\": \"#013369\", \"size\": 15}, \"mode\": \"markers\", \"name\": \"Partner Player\", \"x\": [11.279999732971193], \"y\": [51.33000183105469], \"type\": \"scatter\"}, {\"marker\": {\"color\": \"orange\", \"size\": 15}, \"mode\": \"markers\", \"name\": \"Injured Player\", \"x\": [10.729999542236328], \"y\": [52.72000122070313], \"type\": \"scatter\"}, {\"line\": {\"color\": \"#2c3539\", \"width\": 2}, \"mode\": \"lines\", \"name\": \"Distance\", \"text\": \"Distance: 1.0\", \"textposition\": \"bottom center\", \"x\": [10.729999542236328, 11.279999732971193, null, 10.729999542236328, 11.279999732971193], \"y\": [52.72000122070313, 51.33000183105469, null, 52.72000122070313, 51.33000183105469], \"type\": \"scatter\"}], \"layout\": {\"annotations\": [{\"align\": \"center\", \"bgcolor\": \"#2c3539\", \"bordercolor\": \"#c7c7c7\", \"borderpad\": 4, \"borderwidth\": 2, \"font\": {\"color\": \"#ffffff\", \"family\": \"Courier New, monospace\", \"size\": 14}, \"opacity\": 0.8, \"showarrow\": false, \"text\": \"1.0 Yds\", \"x\": 100, \"y\": 5}], \"title\": \"punt_downed\"}}, {\"data\": [{\"marker\": {\"color\": \"#013369\", \"size\": 15}, \"mode\": \"markers\", \"name\": \"Partner Player\", \"x\": [11.5], \"y\": [50.9000015258789], \"type\": \"scatter\"}, {\"marker\": {\"color\": \"orange\", \"size\": 15}, \"mode\": \"markers\", \"name\": \"Injured Player\", \"x\": [11.100000381469727], \"y\": [52.77000045776367], \"type\": \"scatter\"}, {\"line\": {\"color\": \"#2c3539\", \"width\": 2}, \"mode\": \"lines\", \"name\": \"Distance\", \"text\": \"Distance: 2.0\", \"textposition\": \"bottom center\", \"x\": [11.100000381469727, 11.5, null, 11.100000381469727, 11.5], \"y\": [52.77000045776367, 50.9000015258789, null, 52.77000045776367, 50.9000015258789], \"type\": \"scatter\"}], \"layout\": {\"annotations\": [{\"align\": \"center\", \"bgcolor\": \"#2c3539\", \"bordercolor\": \"#c7c7c7\", \"borderpad\": 4, \"borderwidth\": 2, \"font\": {\"color\": \"#ffffff\", \"family\": \"Courier New, monospace\", \"size\": 14}, \"opacity\": 0.8, \"showarrow\": false, \"text\": \"2.0 Yds\", \"x\": 100, \"y\": 5}], \"title\": \"punt_downed\"}}, {\"data\": [{\"marker\": {\"color\": \"#013369\", \"size\": 15}, \"mode\": \"markers\", \"name\": \"Partner Player\", \"x\": [12.100000381469727], \"y\": [50.09000015258789], \"type\": \"scatter\"}, {\"marker\": {\"color\": \"orange\", \"size\": 15}, \"mode\": \"markers\", \"name\": \"Injured Player\", \"x\": [11.199999809265137], \"y\": [52.81000137329102], \"type\": \"scatter\"}, {\"line\": {\"color\": \"#2c3539\", \"width\": 2}, \"mode\": \"lines\", \"name\": \"Distance\", \"text\": \"Distance: 3.0\", \"textposition\": \"bottom center\", \"x\": [11.199999809265137, 12.100000381469727, null, 11.199999809265137, 12.100000381469727], \"y\": [52.81000137329102, 50.09000015258789, null, 52.81000137329102, 50.09000015258789], \"type\": \"scatter\"}], \"layout\": {\"annotations\": [{\"align\": \"center\", \"bgcolor\": \"#2c3539\", \"bordercolor\": \"#c7c7c7\", \"borderpad\": 4, \"borderwidth\": 2, \"font\": {\"color\": \"#ffffff\", \"family\": \"Courier New, monospace\", \"size\": 14}, \"opacity\": 0.8, \"showarrow\": false, \"text\": \"3.0 Yds\", \"x\": 100, \"y\": 5}], \"title\": \"punt_downed\"}}, {\"data\": [{\"marker\": {\"color\": \"#013369\", \"size\": 15}, \"mode\": \"markers\", \"name\": \"Partner Player\", \"x\": [12.590000152587892], \"y\": [49.11999893188477], \"type\": \"scatter\"}, {\"marker\": {\"color\": \"orange\", \"size\": 15}, \"mode\": \"markers\", \"name\": \"Injured Player\", \"x\": [11.3100004196167], \"y\": [52.68000030517578], \"type\": \"scatter\"}, {\"line\": {\"color\": \"#2c3539\", \"width\": 2}, \"mode\": \"lines\", \"name\": \"Distance\", \"text\": \"Distance: 4.0\", \"textposition\": \"bottom center\", \"x\": [11.3100004196167, 12.590000152587892, null, 11.3100004196167, 12.590000152587892], \"y\": [52.68000030517578, 49.11999893188477, null, 52.68000030517578, 49.11999893188477], \"type\": \"scatter\"}], \"layout\": {\"annotations\": [{\"align\": \"center\", \"bgcolor\": \"#2c3539\", \"bordercolor\": \"#c7c7c7\", \"borderpad\": 4, \"borderwidth\": 2, \"font\": {\"color\": \"#ffffff\", \"family\": \"Courier New, monospace\", \"size\": 14}, \"opacity\": 0.8, \"showarrow\": false, \"text\": \"4.0 Yds\", \"x\": 100, \"y\": 5}], \"title\": \"punt_downed\"}}, {\"data\": [{\"marker\": {\"color\": \"#013369\", \"size\": 15}, \"mode\": \"markers\", \"name\": \"Partner Player\", \"x\": [13.1899995803833], \"y\": [48.25], \"type\": \"scatter\"}, {\"marker\": {\"color\": \"orange\", \"size\": 15}, \"mode\": \"markers\", \"name\": \"Injured Player\", \"x\": [11.239999771118164], \"y\": [52.95000076293945], \"type\": \"scatter\"}, {\"line\": {\"color\": \"#2c3539\", \"width\": 2}, \"mode\": \"lines\", \"name\": \"Distance\", \"text\": \"Distance: 5.0\", \"textposition\": \"bottom center\", \"x\": [11.239999771118164, 13.1899995803833, null, 11.239999771118164, 13.1899995803833], \"y\": [52.95000076293945, 48.25, null, 52.95000076293945, 48.25], \"type\": \"scatter\"}], \"layout\": {\"annotations\": [{\"align\": \"center\", \"bgcolor\": \"#2c3539\", \"bordercolor\": \"#c7c7c7\", \"borderpad\": 4, \"borderwidth\": 2, \"font\": {\"color\": \"#ffffff\", \"family\": \"Courier New, monospace\", \"size\": 14}, \"opacity\": 0.8, \"showarrow\": false, \"text\": \"5.0 Yds\", \"x\": 100, \"y\": 5}], \"title\": \"punt_downed\"}}, {\"data\": [{\"marker\": {\"color\": \"#013369\", \"size\": 15}, \"mode\": \"markers\", \"name\": \"Partner Player\", \"x\": [14.109999656677244], \"y\": [47.22000122070313], \"type\": \"scatter\"}, {\"marker\": {\"color\": \"orange\", \"size\": 15}, \"mode\": \"markers\", \"name\": \"Injured Player\", \"x\": [11.020000457763672], \"y\": [53.1500015258789], \"type\": \"scatter\"}, {\"line\": {\"color\": \"#2c3539\", \"width\": 2}, \"mode\": \"lines\", \"name\": \"Distance\", \"text\": \"Distance: 7.0\", \"textposition\": \"bottom center\", \"x\": [11.020000457763672, 14.109999656677244, null, 11.020000457763672, 14.109999656677244], \"y\": [53.1500015258789, 47.22000122070313, null, 53.1500015258789, 47.22000122070313], \"type\": \"scatter\"}], \"layout\": {\"annotations\": [{\"align\": \"center\", \"bgcolor\": \"#2c3539\", \"bordercolor\": \"#c7c7c7\", \"borderpad\": 4, \"borderwidth\": 2, \"font\": {\"color\": \"#ffffff\", \"family\": \"Courier New, monospace\", \"size\": 14}, \"opacity\": 0.8, \"showarrow\": false, \"text\": \"7.0 Yds\", \"x\": 100, \"y\": 5}], \"title\": \"punt_downed\"}}, {\"data\": [{\"marker\": {\"color\": \"#013369\", \"size\": 15}, \"mode\": \"markers\", \"name\": \"Partner Player\", \"x\": [15.029999732971193], \"y\": [46.09000015258789], \"type\": \"scatter\"}, {\"marker\": {\"color\": \"orange\", \"size\": 15}, \"mode\": \"markers\", \"name\": \"Injured Player\", \"x\": [11.090000152587892], \"y\": [53.27999877929688], \"type\": \"scatter\"}, {\"line\": {\"color\": \"#2c3539\", \"width\": 2}, \"mode\": \"lines\", \"name\": \"Distance\", \"text\": \"Distance: 8.0\", \"textposition\": \"bottom center\", \"x\": [11.090000152587892, 15.029999732971193, null, 11.090000152587892, 15.029999732971193], \"y\": [53.27999877929688, 46.09000015258789, null, 53.27999877929688, 46.09000015258789], \"type\": \"scatter\"}], \"layout\": {\"annotations\": [{\"align\": \"center\", \"bgcolor\": \"#2c3539\", \"bordercolor\": \"#c7c7c7\", \"borderpad\": 4, \"borderwidth\": 2, \"font\": {\"color\": \"#ffffff\", \"family\": \"Courier New, monospace\", \"size\": 14}, \"opacity\": 0.8, \"showarrow\": false, \"text\": \"8.0 Yds\", \"x\": 100, \"y\": 5}], \"title\": \"punt_downed\"}}, {\"data\": [{\"marker\": {\"color\": \"#013369\", \"size\": 15}, \"mode\": \"markers\", \"name\": \"Partner Player\", \"x\": [15.909999847412108], \"y\": [44.83000183105469], \"type\": \"scatter\"}, {\"marker\": {\"color\": \"orange\", \"size\": 15}, \"mode\": \"markers\", \"name\": \"Injured Player\", \"x\": [10.970000267028807], \"y\": [53.709999084472656], \"type\": \"scatter\"}, {\"line\": {\"color\": \"#2c3539\", \"width\": 2}, \"mode\": \"lines\", \"name\": \"Distance\", \"text\": \"Distance: 10.0\", \"textposition\": \"bottom center\", \"x\": [10.970000267028807, 15.909999847412108, null, 10.970000267028807, 15.909999847412108], \"y\": [53.709999084472656, 44.83000183105469, null, 53.709999084472656, 44.83000183105469], \"type\": \"scatter\"}], \"layout\": {\"annotations\": [{\"align\": \"center\", \"bgcolor\": \"#2c3539\", \"bordercolor\": \"#c7c7c7\", \"borderpad\": 4, \"borderwidth\": 2, \"font\": {\"color\": \"#ffffff\", \"family\": \"Courier New, monospace\", \"size\": 14}, \"opacity\": 0.8, \"showarrow\": false, \"text\": \"10.0 Yds\", \"x\": 100, \"y\": 5}], \"title\": \"punt_downed\"}}, {\"data\": [{\"marker\": {\"color\": \"#013369\", \"size\": 15}, \"mode\": \"markers\", \"name\": \"Partner Player\", \"x\": [16.860000610351566], \"y\": [43.38000106811523], \"type\": \"scatter\"}, {\"marker\": {\"color\": \"orange\", \"size\": 15}, \"mode\": \"markers\", \"name\": \"Injured Player\", \"x\": [11.149999618530273], \"y\": [53.7400016784668], \"type\": \"scatter\"}, {\"line\": {\"color\": \"#2c3539\", \"width\": 2}, \"mode\": \"lines\", \"name\": \"Distance\", \"text\": \"Distance: 12.0\", \"textposition\": \"bottom center\", \"x\": [11.149999618530273, 16.860000610351566, null, 11.149999618530273, 16.860000610351566], \"y\": [53.7400016784668, 43.38000106811523, null, 53.7400016784668, 43.38000106811523], \"type\": \"scatter\"}], \"layout\": {\"annotations\": [{\"align\": \"center\", \"bgcolor\": \"#2c3539\", \"bordercolor\": \"#c7c7c7\", \"borderpad\": 4, \"borderwidth\": 2, \"font\": {\"color\": \"#ffffff\", \"family\": \"Courier New, monospace\", \"size\": 14}, \"opacity\": 0.8, \"showarrow\": false, \"text\": \"12.0 Yds\", \"x\": 100, \"y\": 5}], \"title\": \"punt_downed\"}}, {\"data\": [{\"marker\": {\"color\": \"#013369\", \"size\": 15}, \"mode\": \"markers\", \"name\": \"Partner Player\", \"x\": [17.84000015258789], \"y\": [41.93999862670898], \"type\": \"scatter\"}, {\"marker\": {\"color\": \"orange\", \"size\": 15}, \"mode\": \"markers\", \"name\": \"Injured Player\", \"x\": [11.100000381469727], \"y\": [53.709999084472656], \"type\": \"scatter\"}, {\"line\": {\"color\": \"#2c3539\", \"width\": 2}, \"mode\": \"lines\", \"name\": \"Distance\", \"text\": \"Distance: 14.0\", \"textposition\": \"bottom center\", \"x\": [11.100000381469727, 17.84000015258789, null, 11.100000381469727, 17.84000015258789], \"y\": [53.709999084472656, 41.93999862670898, null, 53.709999084472656, 41.93999862670898], \"type\": \"scatter\"}], \"layout\": {\"annotations\": [{\"align\": \"center\", \"bgcolor\": \"#2c3539\", \"bordercolor\": \"#c7c7c7\", \"borderpad\": 4, \"borderwidth\": 2, \"font\": {\"color\": \"#ffffff\", \"family\": \"Courier New, monospace\", \"size\": 14}, \"opacity\": 0.8, \"showarrow\": false, \"text\": \"14.0 Yds\", \"x\": 100, \"y\": 5}], \"title\": \"punt_downed\"}}, {\"data\": [{\"marker\": {\"color\": \"#013369\", \"size\": 15}, \"mode\": \"markers\", \"name\": \"Partner Player\", \"x\": [18.82999992370605], \"y\": [40.41999816894531], \"type\": \"scatter\"}, {\"marker\": {\"color\": \"orange\", \"size\": 15}, \"mode\": \"markers\", \"name\": \"Injured Player\", \"x\": [11.0], \"y\": [53.45000076293945], \"type\": \"scatter\"}, {\"line\": {\"color\": \"#2c3539\", \"width\": 2}, \"mode\": \"lines\", \"name\": \"Distance\", \"text\": \"Distance: 15.0\", \"textposition\": \"bottom center\", \"x\": [11.0, 18.82999992370605, null, 11.0, 18.82999992370605], \"y\": [53.45000076293945, 40.41999816894531, null, 53.45000076293945, 40.41999816894531], \"type\": \"scatter\"}], \"layout\": {\"annotations\": [{\"align\": \"center\", \"bgcolor\": \"#2c3539\", \"bordercolor\": \"#c7c7c7\", \"borderpad\": 4, \"borderwidth\": 2, \"font\": {\"color\": \"#ffffff\", \"family\": \"Courier New, monospace\", \"size\": 14}, \"opacity\": 0.8, \"showarrow\": false, \"text\": \"15.0 Yds\", \"x\": 100, \"y\": 5}], \"title\": \"punt_downed\"}}, {\"data\": [{\"marker\": {\"color\": \"#013369\", \"size\": 15}, \"mode\": \"markers\", \"name\": \"Partner Player\", \"x\": [19.88999938964844], \"y\": [38.77999877929688], \"type\": \"scatter\"}, {\"marker\": {\"color\": \"orange\", \"size\": 15}, \"mode\": \"markers\", \"name\": \"Injured Player\", \"x\": [10.779999732971193], \"y\": [54.040000915527344], \"type\": \"scatter\"}, {\"line\": {\"color\": \"#2c3539\", \"width\": 2}, \"mode\": \"lines\", \"name\": \"Distance\", \"text\": \"Distance: 18.0\", \"textposition\": \"bottom center\", \"x\": [10.779999732971193, 19.88999938964844, null, 10.779999732971193, 19.88999938964844], \"y\": [54.040000915527344, 38.77999877929688, null, 54.040000915527344, 38.77999877929688], \"type\": \"scatter\"}], \"layout\": {\"annotations\": [{\"align\": \"center\", \"bgcolor\": \"#2c3539\", \"bordercolor\": \"#c7c7c7\", \"borderpad\": 4, \"borderwidth\": 2, \"font\": {\"color\": \"#ffffff\", \"family\": \"Courier New, monospace\", \"size\": 14}, \"opacity\": 0.8, \"showarrow\": false, \"text\": \"18.0 Yds\", \"x\": 100, \"y\": 5}], \"title\": \"punt_downed\"}}, {\"data\": [{\"marker\": {\"color\": \"#013369\", \"size\": 15}, \"mode\": \"markers\", \"name\": \"Partner Player\", \"x\": [21.06999969482421], \"y\": [37.22999954223633], \"type\": \"scatter\"}, {\"marker\": {\"color\": \"orange\", \"size\": 15}, \"mode\": \"markers\", \"name\": \"Injured Player\", \"x\": [10.649999618530273], \"y\": [54.2400016784668], \"type\": \"scatter\"}, {\"line\": {\"color\": \"#2c3539\", \"width\": 2}, \"mode\": \"lines\", \"name\": \"Distance\", \"text\": \"Distance: 20.0\", \"textposition\": \"bottom center\", \"x\": [10.649999618530273, 21.06999969482421, null, 10.649999618530273, 21.06999969482421], \"y\": [54.2400016784668, 37.22999954223633, null, 54.2400016784668, 37.22999954223633], \"type\": \"scatter\"}], \"layout\": {\"annotations\": [{\"align\": \"center\", \"bgcolor\": \"#2c3539\", \"bordercolor\": \"#c7c7c7\", \"borderpad\": 4, \"borderwidth\": 2, \"font\": {\"color\": \"#ffffff\", \"family\": \"Courier New, monospace\", \"size\": 14}, \"opacity\": 0.8, \"showarrow\": false, \"text\": \"20.0 Yds\", \"x\": 100, \"y\": 5}], \"title\": \"punt_downed\"}}, {\"data\": [{\"marker\": {\"color\": \"#013369\", \"size\": 15}, \"mode\": \"markers\", \"name\": \"Partner Player\", \"x\": [22.170000076293945], \"y\": [35.7400016784668], \"type\": \"scatter\"}, {\"marker\": {\"color\": \"orange\", \"size\": 15}, \"mode\": \"markers\", \"name\": \"Injured Player\", \"x\": [10.479999542236328], \"y\": [54.27000045776367], \"type\": \"scatter\"}, {\"line\": {\"color\": \"#2c3539\", \"width\": 2}, \"mode\": \"lines\", \"name\": \"Distance\", \"text\": \"Distance: 22.0\", \"textposition\": \"bottom center\", \"x\": [10.479999542236328, 22.170000076293945, null, 10.479999542236328, 22.170000076293945], \"y\": [54.27000045776367, 35.7400016784668, null, 54.27000045776367, 35.7400016784668], \"type\": \"scatter\"}], \"layout\": {\"annotations\": [{\"align\": \"center\", \"bgcolor\": \"#2c3539\", \"bordercolor\": \"#c7c7c7\", \"borderpad\": 4, \"borderwidth\": 2, \"font\": {\"color\": \"#ffffff\", \"family\": \"Courier New, monospace\", \"size\": 14}, \"opacity\": 0.8, \"showarrow\": false, \"text\": \"22.0 Yds\", \"x\": 100, \"y\": 5}], \"title\": \"punt_downed\"}}, {\"data\": [{\"marker\": {\"color\": \"#013369\", \"size\": 15}, \"mode\": \"markers\", \"name\": \"Partner Player\", \"x\": [23.209999084472656], \"y\": [34.209999084472656], \"type\": \"scatter\"}, {\"marker\": {\"color\": \"orange\", \"size\": 15}, \"mode\": \"markers\", \"name\": \"Injured Player\", \"x\": [10.630000114440918], \"y\": [54.11999893188477], \"type\": \"scatter\"}, {\"line\": {\"color\": \"#2c3539\", \"width\": 2}, \"mode\": \"lines\", \"name\": \"Distance\", \"text\": \"Distance: 24.0\", \"textposition\": \"bottom center\", \"x\": [10.630000114440918, 23.209999084472656, null, 10.630000114440918, 23.209999084472656], \"y\": [54.11999893188477, 34.209999084472656, null, 54.11999893188477, 34.209999084472656], \"type\": \"scatter\"}], \"layout\": {\"annotations\": [{\"align\": \"center\", \"bgcolor\": \"#2c3539\", \"bordercolor\": \"#c7c7c7\", \"borderpad\": 4, \"borderwidth\": 2, \"font\": {\"color\": \"#ffffff\", \"family\": \"Courier New, monospace\", \"size\": 14}, \"opacity\": 0.8, \"showarrow\": false, \"text\": \"24.0 Yds\", \"x\": 100, \"y\": 5}], \"title\": \"punt_downed\"}}, {\"data\": [{\"marker\": {\"color\": \"#013369\", \"size\": 15}, \"mode\": \"markers\", \"name\": \"Partner Player\", \"x\": [24.440000534057607], \"y\": [32.610000610351555], \"type\": \"scatter\"}, {\"marker\": {\"color\": \"orange\", \"size\": 15}, \"mode\": \"markers\", \"name\": \"Injured Player\", \"x\": [10.289999961853027], \"y\": [54.099998474121094], \"type\": \"scatter\"}, {\"line\": {\"color\": \"#2c3539\", \"width\": 2}, \"mode\": \"lines\", \"name\": \"Distance\", \"text\": \"Distance: 26.0\", \"textposition\": \"bottom center\", \"x\": [10.289999961853027, 24.440000534057607, null, 10.289999961853027, 24.440000534057607], \"y\": [54.099998474121094, 32.610000610351555, null, 54.099998474121094, 32.610000610351555], \"type\": \"scatter\"}], \"layout\": {\"annotations\": [{\"align\": \"center\", \"bgcolor\": \"#2c3539\", \"bordercolor\": \"#c7c7c7\", \"borderpad\": 4, \"borderwidth\": 2, \"font\": {\"color\": \"#ffffff\", \"family\": \"Courier New, monospace\", \"size\": 14}, \"opacity\": 0.8, \"showarrow\": false, \"text\": \"26.0 Yds\", \"x\": 100, \"y\": 5}], \"title\": \"punt_downed\"}}, {\"data\": [{\"marker\": {\"color\": \"#013369\", \"size\": 15}, \"mode\": \"markers\", \"name\": \"Partner Player\", \"x\": [25.649999618530273], \"y\": [31.10000038146973], \"type\": \"scatter\"}, {\"marker\": {\"color\": \"orange\", \"size\": 15}, \"mode\": \"markers\", \"name\": \"Injured Player\", \"x\": [9.970000267028807], \"y\": [54.290000915527344], \"type\": \"scatter\"}, {\"line\": {\"color\": \"#2c3539\", \"width\": 2}, \"mode\": \"lines\", \"name\": \"Distance\", \"text\": \"Distance: 28.0\", \"textposition\": \"bottom center\", \"x\": [9.970000267028807, 25.649999618530273, null, 9.970000267028807, 25.649999618530273], \"y\": [54.290000915527344, 31.10000038146973, null, 54.290000915527344, 31.10000038146973], \"type\": \"scatter\"}], \"layout\": {\"annotations\": [{\"align\": \"center\", \"bgcolor\": \"#2c3539\", \"bordercolor\": \"#c7c7c7\", \"borderpad\": 4, \"borderwidth\": 2, \"font\": {\"color\": \"#ffffff\", \"family\": \"Courier New, monospace\", \"size\": 14}, \"opacity\": 0.8, \"showarrow\": false, \"text\": \"28.0 Yds\", \"x\": 100, \"y\": 5}], \"title\": \"punt_downed\"}}, {\"data\": [{\"marker\": {\"color\": \"#013369\", \"size\": 15}, \"mode\": \"markers\", \"name\": \"Partner Player\", \"x\": [26.819999694824208], \"y\": [29.60000038146973], \"type\": \"scatter\"}, {\"marker\": {\"color\": \"orange\", \"size\": 15}, \"mode\": \"markers\", \"name\": \"Injured Player\", \"x\": [10.25], \"y\": [54.11000061035156], \"type\": \"scatter\"}, {\"line\": {\"color\": \"#2c3539\", \"width\": 2}, \"mode\": \"lines\", \"name\": \"Distance\", \"text\": \"Distance: 30.0\", \"textposition\": \"bottom center\", \"x\": [10.25, 26.819999694824208, null, 10.25, 26.819999694824208], \"y\": [54.11000061035156, 29.60000038146973, null, 54.11000061035156, 29.60000038146973], \"type\": \"scatter\"}], \"layout\": {\"annotations\": [{\"align\": \"center\", \"bgcolor\": \"#2c3539\", \"bordercolor\": \"#c7c7c7\", \"borderpad\": 4, \"borderwidth\": 2, \"font\": {\"color\": \"#ffffff\", \"family\": \"Courier New, monospace\", \"size\": 14}, \"opacity\": 0.8, \"showarrow\": false, \"text\": \"30.0 Yds\", \"x\": 100, \"y\": 5}], \"title\": \"punt_downed\"}}, {\"data\": [{\"marker\": {\"color\": \"#013369\", \"size\": 15}, \"mode\": \"markers\", \"name\": \"Partner Player\", \"x\": [28.020000457763672], \"y\": [28.18000030517578], \"type\": \"scatter\"}, {\"marker\": {\"color\": \"orange\", \"size\": 15}, \"mode\": \"markers\", \"name\": \"Injured Player\", \"x\": [10.590000152587892], \"y\": [54.43000030517578], \"type\": \"scatter\"}, {\"line\": {\"color\": \"#2c3539\", \"width\": 2}, \"mode\": \"lines\", \"name\": \"Distance\", \"text\": \"Distance: 32.0\", \"textposition\": \"bottom center\", \"x\": [10.590000152587892, 28.020000457763672, null, 10.590000152587892, 28.020000457763672], \"y\": [54.43000030517578, 28.18000030517578, null, 54.43000030517578, 28.18000030517578], \"type\": \"scatter\"}], \"layout\": {\"annotations\": [{\"align\": \"center\", \"bgcolor\": \"#2c3539\", \"bordercolor\": \"#c7c7c7\", \"borderpad\": 4, \"borderwidth\": 2, \"font\": {\"color\": \"#ffffff\", \"family\": \"Courier New, monospace\", \"size\": 14}, \"opacity\": 0.8, \"showarrow\": false, \"text\": \"32.0 Yds\", \"x\": 100, \"y\": 5}], \"title\": \"punt_downed\"}}]);}).then(function(){Plotly.animate('835f2640-870a-4d8c-a243-c9518848c41a');})\n",
       "        });</script><script type=\"text/javascript\">window.addEventListener(\"resize\", function(){window._Plotly.Plots.resize(document.getElementById(\"835f2640-870a-4d8c-a243-c9518848c41a\"));});</script>"
      ]
     },
     "metadata": {},
     "output_type": "display_data"
    }
   ],
   "source": [
    "from plotly.offline import init_notebook_mode, iplot\n",
    "from IPython.display import display, HTML\n",
    "\n",
    "init_notebook_mode(connected=True)\n",
    "\n",
    "N = len(x)\n",
    "\n",
    "data=[dict(x=x, y=y, \n",
    "            name='Distance',\n",
    "            mode='lines',\n",
    "            textposition='bottom center',\n",
    "            line=dict(width=2, color=None)\n",
    "          ),\n",
    "      dict(x=x, y=y, \n",
    "            name='Injured Player',\n",
    "            mode='markers',\n",
    "            marker=dict(color=None, size=15)\n",
    "          ),\n",
    "      dict(x=x1, y=y1, \n",
    "           name = 'Partner Player',\n",
    "           mode='markers',\n",
    "           marker=dict(color='orange', size=15)\n",
    "         )\n",
    "    ]\n",
    "\n",
    "layout = load_field()\n",
    "layout['hovermode'] = 'closest'\n",
    "layout['updatemenus'] = [{'type': 'buttons',\n",
    "                           'buttons': [{'label': 'Play',\n",
    "                                        'method': 'animate',\n",
    "                                        'args': [None]}]}]\n",
    "\n",
    "frames=[dict(data=[dict(x=[x1[k]], \n",
    "                        y=[y1[k]], \n",
    "                        mode='markers', \n",
    "                        marker=dict(color='#013369', size=15),\n",
    "                        name='Partner Player'\n",
    "                        ),\n",
    "                   dict(x=[x[k]], \n",
    "                        y=[y[k]], \n",
    "                        mode='markers', \n",
    "                        marker=dict(color='orange', size=15),\n",
    "                        name='Injured Player'\n",
    "                        ), \n",
    "                   dict(x=[xx[k], xx1[k], None, xx[k], xx1[k]], \n",
    "                        y=[yy[k], yy1[k], None, yy[k], yy1[k]], \n",
    "                        mode='lines', \n",
    "                        text='Distance: {}'.format(round(np.sqrt((xx1[k] - xx[k])**2 + (yy1[k] - yy[k])**2),0)),\n",
    "                        textposition='bottom center',\n",
    "                        line=dict(color='#2c3539', width=2),\n",
    "                        name='Distance'\n",
    "                       )\n",
    "                  ], layout=dict(title=ex_play.Event[k],\n",
    "                                 annotations=[\n",
    "                                     dict(x=100,\n",
    "                                          y=5,\n",
    "                                          showarrow=False,\n",
    "                                          font=dict(\n",
    "                                              family='Courier New, monospace',\n",
    "                                              size=14,\n",
    "                                              color='#ffffff'),\n",
    "                                          align='center',\n",
    "                                          bordercolor='#c7c7c7',\n",
    "                                          borderwidth=2,\n",
    "                                          borderpad=4,\n",
    "                                          bgcolor='#2c3539',\n",
    "                                          opacity=0.8,\n",
    "                                          text='{} Yds'.format(round(np.sqrt((xx1[k] - xx[k])**2 + (yy1[k] - yy[k])**2),0)),\n",
    "                                          )\n",
    "                                 ]\n",
    "                                )\n",
    "            ) for k in range(0, N, 5)]\n",
    "          \n",
    "figure1=dict(data=data, layout=layout, frames=frames)\n",
    "iplot(figure1)"
   ]
  },
  {
   "cell_type": "markdown",
   "metadata": {},
   "source": [
    "#### On what types of plays are players getting hurt?"
   ]
  },
  {
   "cell_type": "code",
   "execution_count": 24,
   "metadata": {},
   "outputs": [],
   "source": [
    "#Create a column in the play_info dataframe to determine the type of play\n",
    "play_info['outcome'] =  np.where(play_info['PlayDescription'].str.contains('aborted|Fumbled snap|FUMBLES, and recovers', flags=re.IGNORECASE, regex=True), 'aborted',\n",
    "                        np.where(play_info['PlayDescription'].str.contains('fake|pass|right end|left end|up the middle|Direct snap|right guard', flags=re.IGNORECASE, regex=True), 'fake',\n",
    "                        np.where(play_info['PlayDescription'].str.contains('muffs', flags=re.IGNORECASE, regex=True), 'muff',         \n",
    "                        np.where(play_info['PlayDescription'].str.contains('fair catch by', flags=re.IGNORECASE, regex=True), 'fair_catch',\n",
    "                        np.where(play_info['PlayDescription'].str.contains('touchback', flags=re.IGNORECASE, regex=True), 'touchback',\n",
    "                        np.where(play_info['PlayDescription'].str.contains('blocked|deflected', flags=re.IGNORECASE, regex=True), 'blocked',\n",
    "                        np.where(play_info['PlayDescription'].str.contains('out of bounds.', flags=re.IGNORECASE, regex=False), 'oob',\n",
    "                        np.where(play_info['PlayDescription'].str.contains('downed', flags=re.IGNORECASE, regex=True), 'downed', \n",
    "                        np.where(play_info['PlayDescription'].str.contains('safety', flags=re.IGNORECASE, regex=True), 'safety',\n",
    "                        np.where(play_info['PlayDescription'].str.contains('[0-9]+ for [-+]?[0-9]+ yards?|for no gain|touchdown|(to [A-Z]+ [0-9]+ for [-+]?[0-9]+ yards?)|(to [0-9]+ for [-+]?[0-9]+ yards?)', flags=re.IGNORECASE, regex=True), 'return',         \n",
    "                        np.where(play_info['PlayDescription'].str.contains('- no play|delay of game|false start, declined|penalty enforced', flags=re.IGNORECASE, regex=True), 'no_play', ' ')))))))))))"
   ]
  },
  {
   "cell_type": "code",
   "execution_count": 25,
   "metadata": {},
   "outputs": [],
   "source": [
    "pi = play_info.merge(video_review[['Season_Year', 'GameKey', 'PlayID','GSISID']], how='left', on =['Season_Year', 'GameKey', 'PlayID'])\n",
    "pi['injury'] = np.where(pi.GSISID.notnull(), 1, 0).astype(int)\n",
    "pi.drop('GSISID', axis = 1, inplace=True)\n",
    "vr = play_info.merge(video_review, how='inner', on =['Season_Year', 'GameKey', 'PlayID'])"
   ]
  },
  {
   "cell_type": "code",
   "execution_count": 26,
   "metadata": {},
   "outputs": [
    {
     "data": {
      "text/plain": [
       "return        0.783784\n",
       "downed        0.081081\n",
       "fair_catch    0.054054\n",
       "muff          0.054054\n",
       "fake          0.027027\n",
       "Name: outcome, dtype: float64"
      ]
     },
     "execution_count": 26,
     "metadata": {},
     "output_type": "execute_result"
    }
   ],
   "source": [
    "vr.outcome.value_counts(normalize=True)"
   ]
  },
  {
   "cell_type": "markdown",
   "metadata": {},
   "source": [
    "#### Conclusion: players are getting hurt on returns "
   ]
  },
  {
   "cell_type": "code",
   "execution_count": 27,
   "metadata": {},
   "outputs": [],
   "source": [
    "#Is it a higher proportion compared to all plays?"
   ]
  },
  {
   "cell_type": "code",
   "execution_count": 28,
   "metadata": {},
   "outputs": [
    {
     "data": {
      "text/html": [
       "<div>\n",
       "<style>\n",
       "    .dataframe thead tr:only-child th {\n",
       "        text-align: right;\n",
       "    }\n",
       "\n",
       "    .dataframe thead th {\n",
       "        text-align: left;\n",
       "    }\n",
       "\n",
       "    .dataframe tbody tr th {\n",
       "        vertical-align: top;\n",
       "    }\n",
       "</style>\n",
       "<table border=\"1\" class=\"dataframe\">\n",
       "  <thead>\n",
       "    <tr style=\"text-align: right;\">\n",
       "      <th></th>\n",
       "      <th>outcome</th>\n",
       "      <th>total_plays</th>\n",
       "      <th>injuries</th>\n",
       "      <th>injury_percentage</th>\n",
       "    </tr>\n",
       "  </thead>\n",
       "  <tbody>\n",
       "    <tr>\n",
       "      <th>0</th>\n",
       "      <td>return</td>\n",
       "      <td>2741</td>\n",
       "      <td>29</td>\n",
       "      <td>1.1%</td>\n",
       "    </tr>\n",
       "    <tr>\n",
       "      <th>1</th>\n",
       "      <td>fair_catch</td>\n",
       "      <td>1659</td>\n",
       "      <td>2</td>\n",
       "      <td>0.1%</td>\n",
       "    </tr>\n",
       "    <tr>\n",
       "      <th>2</th>\n",
       "      <td>downed</td>\n",
       "      <td>796</td>\n",
       "      <td>3</td>\n",
       "      <td>0.4%</td>\n",
       "    </tr>\n",
       "    <tr>\n",
       "      <th>3</th>\n",
       "      <td>oob</td>\n",
       "      <td>639</td>\n",
       "      <td>0</td>\n",
       "      <td>0.0%</td>\n",
       "    </tr>\n",
       "    <tr>\n",
       "      <th>4</th>\n",
       "      <td>touchback</td>\n",
       "      <td>407</td>\n",
       "      <td>0</td>\n",
       "      <td>0.0%</td>\n",
       "    </tr>\n",
       "    <tr>\n",
       "      <th>5</th>\n",
       "      <td>muff</td>\n",
       "      <td>203</td>\n",
       "      <td>2</td>\n",
       "      <td>1.0%</td>\n",
       "    </tr>\n",
       "    <tr>\n",
       "      <th>6</th>\n",
       "      <td>no_play</td>\n",
       "      <td>139</td>\n",
       "      <td>0</td>\n",
       "      <td>0.0%</td>\n",
       "    </tr>\n",
       "    <tr>\n",
       "      <th>7</th>\n",
       "      <td>fake</td>\n",
       "      <td>45</td>\n",
       "      <td>1</td>\n",
       "      <td>2.2%</td>\n",
       "    </tr>\n",
       "    <tr>\n",
       "      <th>8</th>\n",
       "      <td>blocked</td>\n",
       "      <td>39</td>\n",
       "      <td>0</td>\n",
       "      <td>0.0%</td>\n",
       "    </tr>\n",
       "    <tr>\n",
       "      <th>9</th>\n",
       "      <td>aborted</td>\n",
       "      <td>9</td>\n",
       "      <td>0</td>\n",
       "      <td>0.0%</td>\n",
       "    </tr>\n",
       "    <tr>\n",
       "      <th>10</th>\n",
       "      <td>safety</td>\n",
       "      <td>4</td>\n",
       "      <td>0</td>\n",
       "      <td>0.0%</td>\n",
       "    </tr>\n",
       "  </tbody>\n",
       "</table>\n",
       "</div>"
      ],
      "text/plain": [
       "       outcome  total_plays  injuries injury_percentage\n",
       "0       return         2741        29              1.1%\n",
       "1   fair_catch         1659         2              0.1%\n",
       "2       downed          796         3              0.4%\n",
       "3          oob          639         0              0.0%\n",
       "4    touchback          407         0              0.0%\n",
       "5         muff          203         2              1.0%\n",
       "6      no_play          139         0              0.0%\n",
       "7         fake           45         1              2.2%\n",
       "8      blocked           39         0              0.0%\n",
       "9      aborted            9         0              0.0%\n",
       "10      safety            4         0              0.0%"
      ]
     },
     "execution_count": 28,
     "metadata": {},
     "output_type": "execute_result"
    }
   ],
   "source": [
    "pi_inj_grouped = pi.groupby(['outcome'], as_index=False)['injury'] \\\n",
    "    .agg({'total_plays':'count','injuries':sum}) \\\n",
    "    .sort_values('total_plays', ascending = False) \\\n",
    "    .reset_index(drop=True)\n",
    "\n",
    "pi_inj_grouped['injury_percentage'] = round(pi_inj_grouped['injuries'] / pi_inj_grouped['total_plays'] * 100, 1).astype(str) + '%'\n",
    "pi_inj_grouped"
   ]
  },
  {
   "cell_type": "markdown",
   "metadata": {},
   "source": [
    "#### Conclusion: over 1% of punt plays with a return have an injury\n",
    "    - **** This is 10x higher than when a fair catch is called"
   ]
  },
  {
   "cell_type": "markdown",
   "metadata": {},
   "source": [
    "#### Calculate hang time of punts"
   ]
  },
  {
   "cell_type": "code",
   "execution_count": 29,
   "metadata": {},
   "outputs": [],
   "source": [
    "def get_hang_time(ngs_df, start_event='punt', *stop_events):\n",
    "    punt_event = ngs_df.loc[ngs_df.Event==start_event] \\\n",
    "        .groupby(['Season_Year', 'GameKey','PlayID'], as_index = False)['Time'].min()\n",
    "    punt_event.rename(columns = {'Time':'punt_time'}, inplace=True)\n",
    "    punt_event['punt_time'] = pd.to_datetime(punt_event['punt_time'],\\\n",
    "                                             format='%Y-%m-%d %H:%M:%S.%f')\n",
    "    \n",
    "    receiving_event = ngs_df.loc[ngs_df.Event.isin(stop_events)] \\\n",
    "        .groupby(['Season_Year', 'GameKey','PlayID'], as_index = False)['Time'].min()\n",
    "    receiving_event.rename(columns = {'Time':'receiving_time'}, inplace=True)\n",
    "    receiving_event['receiving_time'] = pd.to_datetime(receiving_event['receiving_time'],\\\n",
    "                                             format='%Y-%m-%d %H:%M:%S.%f')\n",
    "    \n",
    "    punt_df = punt_event.merge(receiving_event, how='inner', on = ['Season_Year','GameKey','PlayID']) \\\n",
    "                .reset_index(drop=True)\n",
    "    \n",
    "    punt_df['hang_time'] = (punt_df['receiving_time'] - punt_df['punt_time']).dt.total_seconds()\n",
    "    \n",
    "    return punt_df"
   ]
  },
  {
   "cell_type": "code",
   "execution_count": 30,
   "metadata": {},
   "outputs": [],
   "source": [
    "punt_df = get_hang_time(NGS_df, 'punt', 'punt_received', 'fair_catch')"
   ]
  },
  {
   "cell_type": "code",
   "execution_count": 31,
   "metadata": {},
   "outputs": [
    {
     "data": {
      "text/html": [
       "<iframe id=\"igraph\" scrolling=\"no\" style=\"border:none;\" seamless=\"seamless\" src=\"https://plot.ly/~mtodisco10/63.embed\" height=\"525px\" width=\"100%\"></iframe>"
      ],
      "text/plain": [
       "<plotly.tools.PlotlyDisplay object>"
      ]
     },
     "execution_count": 31,
     "metadata": {},
     "output_type": "execute_result"
    }
   ],
   "source": [
    "data = [go.Histogram(x=punt_df.hang_time)]\n",
    "\n",
    "layout = go.Layout(\n",
    "    title='Hang Time Histogram',\n",
    "    xaxis=dict(\n",
    "        title='Seconds'\n",
    "    ),\n",
    "    yaxis=dict(\n",
    "        title='Count'\n",
    "    )\n",
    ")\n",
    "\n",
    "fig = go.Figure(data=data, layout=layout)\n",
    "py.iplot(fig, filename='basic histogram')"
   ]
  },
  {
   "cell_type": "code",
   "execution_count": 32,
   "metadata": {},
   "outputs": [
    {
     "data": {
      "text/plain": [
       "4.5"
      ]
     },
     "execution_count": 32,
     "metadata": {},
     "output_type": "execute_result"
    }
   ],
   "source": [
    "round(punt_df['hang_time'].mean(), 1)"
   ]
  },
  {
   "cell_type": "code",
   "execution_count": 33,
   "metadata": {},
   "outputs": [
    {
     "data": {
      "text/plain": [
       "4.5"
      ]
     },
     "execution_count": 33,
     "metadata": {},
     "output_type": "execute_result"
    }
   ],
   "source": [
    "round(punt_df['hang_time'].median(), 1)"
   ]
  },
  {
   "cell_type": "code",
   "execution_count": 34,
   "metadata": {},
   "outputs": [
    {
     "data": {
      "text/plain": [
       "'96.9% of hang times are less than 5 1/2 seconds'"
      ]
     },
     "execution_count": 34,
     "metadata": {},
     "output_type": "execute_result"
    }
   ],
   "source": [
    "str(round(len(punt_df.loc[punt_df.hang_time < 5.5]) / len(punt_df) * 100, 1)) + '% of hang times are less than 5 1/2 seconds'"
   ]
  },
  {
   "cell_type": "markdown",
   "metadata": {},
   "source": [
    "### Show correct vs incorrect alignment"
   ]
  },
  {
   "cell_type": "code",
   "execution_count": 118,
   "metadata": {},
   "outputs": [],
   "source": [
    "def visualize_alignment(next_gen_df, game_id_lst, role_df):\n",
    "    alignment_df = next_gen_df.loc[(next_gen_df.Season_Year == game_id_lst[0]) & \\\n",
    "                        (next_gen_df.GameKey == game_id_lst[1]) & \\\n",
    "                        (next_gen_df.PlayID == game_id_lst[2]) & \\\n",
    "                        (next_gen_df.Event == game_id_lst[3])].sort_values('y').reset_index(drop=True)\n",
    "    \n",
    "    align_merged = alignment_df.merge(play_player_role, how='left', \\\n",
    "                                          on =['Season_Year', 'GameKey', 'PlayID', 'GSISID'])\n",
    "    \n",
    "    align_merged['side_of_ball'] = np.where(align_merged.Role.isin(return_roles), 'return',\n",
    "                                          np.where(align_merged.Role.isin(coverage_roles), 'coverage', ''))\n",
    "    \n",
    "    trace1 = go.Scatter(\n",
    "        x = align_merged.loc[align_merged.side_of_ball == 'return'].x,\n",
    "        y = align_merged.loc[align_merged.side_of_ball == 'return'].y,\n",
    "        mode = 'markers',\n",
    "        marker = dict(color='#013369', size=10),\n",
    "        name = 'Return'\n",
    "    )\n",
    "\n",
    "    trace2 = go.Scatter(\n",
    "        x = align_merged.loc[align_merged.side_of_ball == 'coverage'].x,\n",
    "        y = align_merged.loc[align_merged.side_of_ball == 'coverage'].y,\n",
    "        mode = 'markers',\n",
    "        marker = dict(color='orange', size=10),\n",
    "        name = 'Coverage'\n",
    "    )\n",
    "    \n",
    "    #Change alignment of one of the players\n",
    "    align_merged.at[2,'y'] = 7\n",
    "\n",
    "    trace3 = go.Scatter(\n",
    "        x = align_merged.loc[align_merged.side_of_ball == 'return'].x,\n",
    "        y = align_merged.loc[align_merged.side_of_ball == 'return'].y,\n",
    "        mode = 'markers',\n",
    "        marker = dict(color='#013369', size=10),\n",
    "        name = 'Return'\n",
    "    )\n",
    "\n",
    "    trace4 = go.Scatter(\n",
    "        x = align_merged.loc[align_merged.side_of_ball == 'coverage'].x,\n",
    "        y = align_merged.loc[align_merged.side_of_ball == 'coverage'].y,\n",
    "        mode = 'markers',\n",
    "        marker = dict(color='orange', size=10),\n",
    "        name = 'Coverage'\n",
    "    )\n",
    "\n",
    "    fig = tools.make_subplots(rows=1, cols=2, subplot_titles=('Legal Alignment', 'Illegal Alignment'))\n",
    "\n",
    "    fig.append_trace(trace1, 1, 1)\n",
    "    fig.append_trace(trace2, 1, 1)\n",
    "    fig.append_trace(trace3, 1, 2)\n",
    "    fig.append_trace(trace4, 1, 2)\n",
    "    \n",
    "    fig['layout'].update(showlegend=False)\n",
    "    \n",
    "    return py.iplot(fig, filename='alignments')"
   ]
  },
  {
   "cell_type": "code",
   "execution_count": 120,
   "metadata": {},
   "outputs": [
    {
     "name": "stdout",
     "output_type": "stream",
     "text": [
      "This is the format of your plot grid:\n",
      "[ (1,1) x1,y1 ]  [ (1,2) x2,y2 ]\n",
      "\n"
     ]
    },
    {
     "data": {
      "text/html": [
       "<iframe id=\"igraph\" scrolling=\"no\" style=\"border:none;\" seamless=\"seamless\" src=\"https://plot.ly/~mtodisco10/67.embed\" height=\"525px\" width=\"100%\"></iframe>"
      ],
      "text/plain": [
       "<plotly.tools.PlotlyDisplay object>"
      ]
     },
     "execution_count": 120,
     "metadata": {},
     "output_type": "execute_result"
    }
   ],
   "source": [
    "visualize_alignment(NGS_df, [2016, 234, 3278, 'ball_snap'], play_player_role)"
   ]
  },
  {
   "cell_type": "markdown",
   "metadata": {},
   "source": [
    "### Calculate speed of returner and coverage team at 1-6 seconds"
   ]
  },
  {
   "cell_type": "code",
   "execution_count": 37,
   "metadata": {},
   "outputs": [],
   "source": [
    "#Create a function to calculate the space between the returner and the closest coverage player for every second between the punt and the catch\n",
    "def coverage_returner_space(play_df, ngs_df):\n",
    "    cov_ret_lst = []\n",
    "    play_df = play_df.loc[(play_df.outcome == 'fair_catch') | (play_df.outcome == 'return')].reset_index(drop=True)\n",
    "    for i in log_progress(range(0, len(play_df)), every=25):\n",
    "        season_key = play_df['Season_Year'][i]\n",
    "        game_key = play_df['GameKey'][i]\n",
    "        play_id = play_df['PlayID'][i]\n",
    "        outcome = play_df['outcome'][i]\n",
    "        injury = play_df['injury'][i]\n",
    "        if game_key in ngs_df.GameKey and play_id in ngs_df.PlayID:\n",
    "            filtered_play = ngs_df.loc[(ngs_df.GameKey == game_key) \\\n",
    "                                       & (ngs_df.PlayID == play_id)].sort_values('Time').reset_index(drop=True)\n",
    "            filtered_play = filtered_play.merge(play_player_role, \\\n",
    "                                                how='inner', on = ['Season_Year','GameKey','PlayID','GSISID'])\n",
    "            if len(filtered_play) > 0:\n",
    "                filtered_play['Time'] = pd.to_datetime(filtered_play['Time'], \\\n",
    "                                                       format='%Y-%m-%d %H:%M:%S.%f')\n",
    "                punt_event_time = filtered_play.loc[filtered_play.Event == 'punt'].Time.min()\n",
    "                receiving_event_time = filtered_play.loc[(filtered_play.Event == 'punt_received') | \\\n",
    "                                                         (filtered_play.Event == 'fair_catch')].Time.min()\n",
    "                gunner_blocker_count = len(filtered_play.loc[filtered_play['Role'].isin(gunner_blockers)]['Role'].unique())\n",
    "                filtered_play = filtered_play.loc[(filtered_play.Time >= punt_event_time) & \\\n",
    "                                                  (filtered_play.Time <= receiving_event_time)]\n",
    "                coverage_df = filtered_play.loc[filtered_play['Role'].isin(coverage_roles)].sort_values('Time')\n",
    "                coverage_df.rename(columns={'x':'cov_x', \n",
    "                                          'y': 'cov_y',\n",
    "                                          'GSISID': 'cov_GSISID',\n",
    "                                          'dis': 'cov_dis',\n",
    "                                          'o': 'cov_o',\n",
    "                                          'dir': 'cov_dir',\n",
    "                                          'Role': 'cov_Role'\n",
    "                                         }, inplace=True)\n",
    "                \n",
    "                returner_df = filtered_play.loc[filtered_play['Role'] == 'PR'].sort_values('Time')\n",
    "                returner_df.rename(columns={'x':'ret_x', \n",
    "                                          'y': 'ret_y',\n",
    "                                          'GSISID': 'ret_GSISID',\n",
    "                                          'dis': 'ret_dis',\n",
    "                                          'o': 'ret_o',\n",
    "                                          'dir': 'ret_dir',\n",
    "                                          'Role': 'ret_Role'\n",
    "                                         }, inplace=True)\n",
    "                returner_df = returner_df.drop('Event', axis = 1)\n",
    "                \n",
    "                cov_ret_df = coverage_df.merge(returner_df, how ='inner', on = ['Season_Year','GameKey','PlayID','Time'])\n",
    "                cov_ret_df['dis_from_ret'] = ((cov_ret_df['cov_x'] -  cov_ret_df['ret_x']) ** 2 \\\n",
    "                                           + (cov_ret_df['cov_y'] -  cov_ret_df['ret_y']) ** 2).apply(np.sqrt)\n",
    "                cov_ret_df['time_since_punt'] = cov_ret_df['Time'] - punt_event_time\n",
    "                times_to_capture = [punt_event_time + pd.Timedelta(seconds=i) for i in range(1, 7)]\n",
    "                cov_ret_df = cov_ret_df.loc[cov_ret_df['Time'].isin(times_to_capture)]\n",
    "                cov_ret_df['gunner_blockers'] = gunner_blocker_count\n",
    "                cov_ret_df['outcome'] = outcome\n",
    "                cov_ret_df['injury'] = injury\n",
    "                cov_ret_df['cov_speed'] = convert_to_mph(cov_ret_df.cov_dis, 20.455)\n",
    "                cov_ret_df['ret_speed'] = convert_to_mph(cov_ret_df.ret_dis, 20.455)\n",
    "                if len(cov_ret_df) > 0:\n",
    "                    cov_ret_lst.append(cov_ret_df)\n",
    "                    \n",
    "    cov_ret_df = pd.concat(cov_ret_lst).reset_index(drop=True)          \n",
    "    return cov_ret_df"
   ]
  },
  {
   "cell_type": "code",
   "execution_count": 38,
   "metadata": {},
   "outputs": [],
   "source": [
    "def convert_to_mph(dis_vector, converter):\n",
    "    mph_vector = dis_vector * converter\n",
    "    return mph_vector"
   ]
  },
  {
   "cell_type": "code",
   "execution_count": 39,
   "metadata": {},
   "outputs": [
    {
     "data": {
      "application/vnd.jupyter.widget-view+json": {
       "model_id": "1b62d0a93a8e46fb9c35c118b61466a5",
       "version_major": 2,
       "version_minor": 0
      },
      "text/plain": [
       "VBox(children=(HTML(value=''), IntProgress(value=0, max=4400)))"
      ]
     },
     "metadata": {},
     "output_type": "display_data"
    }
   ],
   "source": [
    "cov_ret_df = coverage_returner_space(pi, NGS_df)"
   ]
  },
  {
   "cell_type": "code",
   "execution_count": 183,
   "metadata": {
    "scrolled": true
   },
   "outputs": [
    {
     "name": "stdout",
     "output_type": "stream",
     "text": [
      "2    0.47\n",
      "3    0.31\n",
      "4    0.22\n",
      "Name: gunner_blockers, dtype: float64\n"
     ]
    }
   ],
   "source": [
    "#Since it is very rare that the return team has 0, 1, or 5 gunner blockers, we filter those plays out\n",
    "print(round(cov_ret_df.gunner_blockers.value_counts(normalize=True), 2))\n",
    "cov_ret_df = cov_ret_df.loc[cov_ret_df.gunner_blockers.isin([2, 3, 4])]"
   ]
  },
  {
   "cell_type": "code",
   "execution_count": 184,
   "metadata": {},
   "outputs": [
    {
     "data": {
      "text/html": [
       "<iframe id=\"igraph\" scrolling=\"no\" style=\"border:none;\" seamless=\"seamless\" src=\"https://plot.ly/~mtodisco10/73.embed\" height=\"525px\" width=\"100%\"></iframe>"
      ],
      "text/plain": [
       "<plotly.tools.PlotlyDisplay object>"
      ]
     },
     "execution_count": 184,
     "metadata": {},
     "output_type": "execute_result"
    }
   ],
   "source": [
    "#Visualize play counts by alignment with a pie graph\n",
    "labels = cov_ret_df.groupby(['gunner_blockers'], \\\n",
    "                   as_index=False)['PlayID'].agg({\"play_count\": pd.Series.nunique})['gunner_blockers']\n",
    "\n",
    "values = cov_ret_df.groupby(['gunner_blockers'], \\\n",
    "                   as_index=False)['PlayID'].agg({\"play_count\": pd.Series.nunique})['play_count']\n",
    "\n",
    "trace = go.Pie(labels=labels, values=values)\n",
    "\n",
    "py.iplot([trace], filename='alignment_pie')"
   ]
  },
  {
   "cell_type": "code",
   "execution_count": 192,
   "metadata": {},
   "outputs": [
    {
     "data": {
      "text/html": [
       "<div>\n",
       "<style>\n",
       "    .dataframe thead tr:only-child th {\n",
       "        text-align: right;\n",
       "    }\n",
       "\n",
       "    .dataframe thead th {\n",
       "        text-align: left;\n",
       "    }\n",
       "\n",
       "    .dataframe tbody tr th {\n",
       "        vertical-align: top;\n",
       "    }\n",
       "</style>\n",
       "<table border=\"1\" class=\"dataframe\">\n",
       "  <thead>\n",
       "    <tr style=\"text-align: right;\">\n",
       "      <th>outcome</th>\n",
       "      <th>fair_catch</th>\n",
       "      <th>return</th>\n",
       "      <th>fair_catch_percentage</th>\n",
       "    </tr>\n",
       "    <tr>\n",
       "      <th>gunner_blockers</th>\n",
       "      <th></th>\n",
       "      <th></th>\n",
       "      <th></th>\n",
       "    </tr>\n",
       "  </thead>\n",
       "  <tbody>\n",
       "    <tr>\n",
       "      <th>2</th>\n",
       "      <td>941</td>\n",
       "      <td>800</td>\n",
       "      <td>54.0%</td>\n",
       "    </tr>\n",
       "    <tr>\n",
       "      <th>3</th>\n",
       "      <td>326</td>\n",
       "      <td>875</td>\n",
       "      <td>27.1%</td>\n",
       "    </tr>\n",
       "    <tr>\n",
       "      <th>4</th>\n",
       "      <td>182</td>\n",
       "      <td>710</td>\n",
       "      <td>20.4%</td>\n",
       "    </tr>\n",
       "  </tbody>\n",
       "</table>\n",
       "</div>"
      ],
      "text/plain": [
       "outcome          fair_catch  return fair_catch_percentage\n",
       "gunner_blockers                                          \n",
       "2                       941     800                 54.0%\n",
       "3                       326     875                 27.1%\n",
       "4                       182     710                 20.4%"
      ]
     },
     "execution_count": 192,
     "metadata": {},
     "output_type": "execute_result"
    }
   ],
   "source": [
    "#Which return alignments (gunner blockers 2, 3, or 4) lead to more fair catches?\n",
    "cov_ret_outcome = cov_ret_df.groupby(['gunner_blockers', 'outcome'], \\\n",
    "                                     as_index=False)['PlayID'].agg({\"play_count\": pd.Series.nunique})\n",
    "\n",
    "#Pivot the dataframe for easier viewing\n",
    "cov_ret_outcome = pd.pivot_table(cov_ret_outcome, index='gunner_blockers', \\\n",
    "                                 columns='outcome', values='play_count', aggfunc=sum)\n",
    "\n",
    "#Add a ratio column to show the % of fair catches for each alignment\n",
    "cov_ret_outcome['fair_catch_percentage'] = (cov_ret_outcome['fair_catch'] / \\\n",
    "                                        (cov_ret_outcome['fair_catch'] + cov_ret_outcome['return']) * 100).round(1).astype(str) + '%'\n",
    "\n",
    "cov_ret_outcome"
   ]
  },
  {
   "cell_type": "markdown",
   "metadata": {},
   "source": [
    "#### *** Much more likely to have a fair catch when there are only 2 gunner blockers on the field"
   ]
  },
  {
   "cell_type": "code",
   "execution_count": 193,
   "metadata": {},
   "outputs": [
    {
     "data": {
      "text/html": [
       "<div>\n",
       "<style>\n",
       "    .dataframe thead tr:only-child th {\n",
       "        text-align: right;\n",
       "    }\n",
       "\n",
       "    .dataframe thead th {\n",
       "        text-align: left;\n",
       "    }\n",
       "\n",
       "    .dataframe tbody tr th {\n",
       "        vertical-align: top;\n",
       "    }\n",
       "</style>\n",
       "<table border=\"1\" class=\"dataframe\">\n",
       "  <thead>\n",
       "    <tr style=\"text-align: right;\">\n",
       "      <th></th>\n",
       "      <th>No</th>\n",
       "      <th>Yes</th>\n",
       "      <th>injury_percentage</th>\n",
       "    </tr>\n",
       "    <tr>\n",
       "      <th>gunner_blockers</th>\n",
       "      <th></th>\n",
       "      <th></th>\n",
       "      <th></th>\n",
       "    </tr>\n",
       "  </thead>\n",
       "  <tbody>\n",
       "    <tr>\n",
       "      <th>2</th>\n",
       "      <td>1559</td>\n",
       "      <td>9</td>\n",
       "      <td>0.6%</td>\n",
       "    </tr>\n",
       "    <tr>\n",
       "      <th>3</th>\n",
       "      <td>1110</td>\n",
       "      <td>11</td>\n",
       "      <td>1.0%</td>\n",
       "    </tr>\n",
       "    <tr>\n",
       "      <th>4</th>\n",
       "      <td>842</td>\n",
       "      <td>10</td>\n",
       "      <td>1.2%</td>\n",
       "    </tr>\n",
       "  </tbody>\n",
       "</table>\n",
       "</div>"
      ],
      "text/plain": [
       "                   No  Yes injury_percentage\n",
       "gunner_blockers                             \n",
       "2                1559    9              0.6%\n",
       "3                1110   11              1.0%\n",
       "4                 842   10              1.2%"
      ]
     },
     "execution_count": 193,
     "metadata": {},
     "output_type": "execute_result"
    }
   ],
   "source": [
    "# We can look at the same ratios by alignment but with injuries\n",
    "#Which return alignments (gunner blockers 2, 3, or 4) lead to more Injuries?\n",
    "cov_ret_injury = cov_ret_df.groupby(['gunner_blockers', 'injury'], \\\n",
    "                                     as_index=False)['PlayID'].agg({\"play_count\": pd.Series.nunique})\n",
    "\n",
    "#Pivot the dataframe for easier viewing\n",
    "cov_ret_injury = pd.pivot_table(cov_ret_injury, index='gunner_blockers', \\\n",
    "                                 columns='injury', values='play_count', aggfunc=sum)\n",
    "\n",
    "#Rename Columns\n",
    "cov_ret_injury.columns = ['No', 'Yes']\n",
    "\n",
    "#Add a ratio column to show the % of Injuries for each alignment\n",
    "cov_ret_injury['injury_percentage'] = (cov_ret_injury['Yes'] / \\\n",
    "                                        (cov_ret_injury['No'] + cov_ret_injury['Yes']) * 100).round(1).astype(str) + '%'\n",
    "\n",
    "cov_ret_injury"
   ]
  },
  {
   "cell_type": "code",
   "execution_count": 194,
   "metadata": {},
   "outputs": [
    {
     "data": {
      "text/html": [
       "<div>\n",
       "<style>\n",
       "    .dataframe thead tr:only-child th {\n",
       "        text-align: right;\n",
       "    }\n",
       "\n",
       "    .dataframe thead th {\n",
       "        text-align: left;\n",
       "    }\n",
       "\n",
       "    .dataframe tbody tr th {\n",
       "        vertical-align: top;\n",
       "    }\n",
       "</style>\n",
       "<table border=\"1\" class=\"dataframe\">\n",
       "  <thead>\n",
       "    <tr style=\"text-align: right;\">\n",
       "      <th></th>\n",
       "      <th>fair_catch_percentage</th>\n",
       "      <th>injury_percentage</th>\n",
       "    </tr>\n",
       "    <tr>\n",
       "      <th>gunner_blockers</th>\n",
       "      <th></th>\n",
       "      <th></th>\n",
       "    </tr>\n",
       "  </thead>\n",
       "  <tbody>\n",
       "    <tr>\n",
       "      <th>2</th>\n",
       "      <td>54.0%</td>\n",
       "      <td>0.6%</td>\n",
       "    </tr>\n",
       "    <tr>\n",
       "      <th>3</th>\n",
       "      <td>27.1%</td>\n",
       "      <td>1.0%</td>\n",
       "    </tr>\n",
       "    <tr>\n",
       "      <th>4</th>\n",
       "      <td>20.4%</td>\n",
       "      <td>1.2%</td>\n",
       "    </tr>\n",
       "  </tbody>\n",
       "</table>\n",
       "</div>"
      ],
      "text/plain": [
       "                fair_catch_percentage injury_percentage\n",
       "gunner_blockers                                        \n",
       "2                               54.0%              0.6%\n",
       "3                               27.1%              1.0%\n",
       "4                               20.4%              1.2%"
      ]
     },
     "execution_count": 194,
     "metadata": {},
     "output_type": "execute_result"
    }
   ],
   "source": [
    "#Concatenate two dataframes for the summary slides\n",
    "pd.concat([cov_ret_injury, cov_ret_outcome], axis = 1)[['fair_catch_percentage', 'injury_percentage']]"
   ]
  },
  {
   "cell_type": "markdown",
   "metadata": {},
   "source": [
    "#### *** Less likely to have injuries with only 2 gunners"
   ]
  },
  {
   "cell_type": "code",
   "execution_count": 208,
   "metadata": {},
   "outputs": [
    {
     "data": {
      "text/html": [
       "<div>\n",
       "<style>\n",
       "    .dataframe thead tr:only-child th {\n",
       "        text-align: right;\n",
       "    }\n",
       "\n",
       "    .dataframe thead th {\n",
       "        text-align: left;\n",
       "    }\n",
       "\n",
       "    .dataframe tbody tr th {\n",
       "        vertical-align: top;\n",
       "    }\n",
       "</style>\n",
       "<table border=\"1\" class=\"dataframe\">\n",
       "  <thead>\n",
       "    <tr>\n",
       "      <th></th>\n",
       "      <th colspan=\"6\" halign=\"left\">mean</th>\n",
       "    </tr>\n",
       "    <tr>\n",
       "      <th>time_since_punt</th>\n",
       "      <th>00:00:01</th>\n",
       "      <th>00:00:02</th>\n",
       "      <th>00:00:03</th>\n",
       "      <th>00:00:04</th>\n",
       "      <th>00:00:05</th>\n",
       "      <th>00:00:06</th>\n",
       "    </tr>\n",
       "    <tr>\n",
       "      <th>gunner_blockers</th>\n",
       "      <th></th>\n",
       "      <th></th>\n",
       "      <th></th>\n",
       "      <th></th>\n",
       "      <th></th>\n",
       "      <th></th>\n",
       "    </tr>\n",
       "  </thead>\n",
       "  <tbody>\n",
       "    <tr>\n",
       "      <th>2</th>\n",
       "      <td>17.6</td>\n",
       "      <td>18.4</td>\n",
       "      <td>17.4</td>\n",
       "      <td>15.0</td>\n",
       "      <td>12.4</td>\n",
       "      <td>12.0</td>\n",
       "    </tr>\n",
       "    <tr>\n",
       "      <th>3</th>\n",
       "      <td>16.1</td>\n",
       "      <td>17.3</td>\n",
       "      <td>17.2</td>\n",
       "      <td>16.1</td>\n",
       "      <td>13.9</td>\n",
       "      <td>10.9</td>\n",
       "    </tr>\n",
       "    <tr>\n",
       "      <th>4</th>\n",
       "      <td>14.5</td>\n",
       "      <td>15.8</td>\n",
       "      <td>16.2</td>\n",
       "      <td>15.8</td>\n",
       "      <td>14.1</td>\n",
       "      <td>12.5</td>\n",
       "    </tr>\n",
       "  </tbody>\n",
       "</table>\n",
       "</div>"
      ],
      "text/plain": [
       "                    mean                                             \n",
       "time_since_punt 00:00:01 00:00:02 00:00:03 00:00:04 00:00:05 00:00:06\n",
       "gunner_blockers                                                      \n",
       "2                   17.6     18.4     17.4     15.0     12.4     12.0\n",
       "3                   16.1     17.3     17.2     16.1     13.9     10.9\n",
       "4                   14.5     15.8     16.2     15.8     14.1     12.5"
      ]
     },
     "execution_count": 208,
     "metadata": {},
     "output_type": "execute_result"
    }
   ],
   "source": [
    "#Speed vs Number of Gunner Blockers at each second.\n",
    "\n",
    "pd.pivot_table(cov_ret_df.loc[(cov_ret_df.cov_Role == 'GR') | (cov_ret_df.cov_Role == 'GL')], \n",
    "               index=['gunner_blockers'], values='cov_speed',\n",
    "               columns=['time_since_punt'], aggfunc=[np.mean]).round(1)"
   ]
  },
  {
   "cell_type": "code",
   "execution_count": 46,
   "metadata": {},
   "outputs": [
    {
     "data": {
      "text/html": [
       "<div>\n",
       "<style>\n",
       "    .dataframe thead tr:only-child th {\n",
       "        text-align: right;\n",
       "    }\n",
       "\n",
       "    .dataframe thead th {\n",
       "        text-align: left;\n",
       "    }\n",
       "\n",
       "    .dataframe tbody tr th {\n",
       "        vertical-align: top;\n",
       "    }\n",
       "</style>\n",
       "<table border=\"1\" class=\"dataframe\">\n",
       "  <thead>\n",
       "    <tr>\n",
       "      <th></th>\n",
       "      <th colspan=\"2\" halign=\"left\">mean</th>\n",
       "      <th colspan=\"2\" halign=\"left\">median</th>\n",
       "    </tr>\n",
       "    <tr>\n",
       "      <th>outcome</th>\n",
       "      <th>fair_catch</th>\n",
       "      <th>return</th>\n",
       "      <th>fair_catch</th>\n",
       "      <th>return</th>\n",
       "    </tr>\n",
       "    <tr>\n",
       "      <th>time_since_punt</th>\n",
       "      <th></th>\n",
       "      <th></th>\n",
       "      <th></th>\n",
       "      <th></th>\n",
       "    </tr>\n",
       "  </thead>\n",
       "  <tbody>\n",
       "    <tr>\n",
       "      <th>00:00:01</th>\n",
       "      <td>44.8</td>\n",
       "      <td>48.4</td>\n",
       "      <td>45.5</td>\n",
       "      <td>48.5</td>\n",
       "    </tr>\n",
       "    <tr>\n",
       "      <th>00:00:02</th>\n",
       "      <td>39.5</td>\n",
       "      <td>43.6</td>\n",
       "      <td>40.2</td>\n",
       "      <td>43.4</td>\n",
       "    </tr>\n",
       "    <tr>\n",
       "      <th>00:00:03</th>\n",
       "      <td>32.4</td>\n",
       "      <td>37.4</td>\n",
       "      <td>32.5</td>\n",
       "      <td>37.0</td>\n",
       "    </tr>\n",
       "    <tr>\n",
       "      <th>00:00:04</th>\n",
       "      <td>25.5</td>\n",
       "      <td>31.8</td>\n",
       "      <td>24.8</td>\n",
       "      <td>31.0</td>\n",
       "    </tr>\n",
       "    <tr>\n",
       "      <th>00:00:05</th>\n",
       "      <td>21.9</td>\n",
       "      <td>27.1</td>\n",
       "      <td>20.4</td>\n",
       "      <td>25.5</td>\n",
       "    </tr>\n",
       "    <tr>\n",
       "      <th>00:00:06</th>\n",
       "      <td>22.7</td>\n",
       "      <td>23.1</td>\n",
       "      <td>22.8</td>\n",
       "      <td>20.3</td>\n",
       "    </tr>\n",
       "  </tbody>\n",
       "</table>\n",
       "</div>"
      ],
      "text/plain": [
       "                      mean            median       \n",
       "outcome         fair_catch return fair_catch return\n",
       "time_since_punt                                    \n",
       "00:00:01              44.8   48.4       45.5   48.5\n",
       "00:00:02              39.5   43.6       40.2   43.4\n",
       "00:00:03              32.4   37.4       32.5   37.0\n",
       "00:00:04              25.5   31.8       24.8   31.0\n",
       "00:00:05              21.9   27.1       20.4   25.5\n",
       "00:00:06              22.7   23.1       22.8   20.3"
      ]
     },
     "execution_count": 46,
     "metadata": {},
     "output_type": "execute_result"
    }
   ],
   "source": [
    "# Average distance for all player at the X second mark.  Return vs Fair Catch\n",
    "round(pd.pivot_table(cov_ret_df, values='dis_from_ret',\\\n",
    "                     index=['time_since_punt'], columns=['outcome'], aggfunc=[np.mean, np.median]), 1)"
   ]
  },
  {
   "cell_type": "code",
   "execution_count": 48,
   "metadata": {},
   "outputs": [
    {
     "data": {
      "text/html": [
       "<div>\n",
       "<style>\n",
       "    .dataframe thead tr:only-child th {\n",
       "        text-align: right;\n",
       "    }\n",
       "\n",
       "    .dataframe thead th {\n",
       "        text-align: left;\n",
       "    }\n",
       "\n",
       "    .dataframe tbody tr th {\n",
       "        vertical-align: top;\n",
       "    }\n",
       "</style>\n",
       "<table border=\"1\" class=\"dataframe\">\n",
       "  <thead>\n",
       "    <tr>\n",
       "      <th>outcome</th>\n",
       "      <th colspan=\"5\" halign=\"left\">fair_catch</th>\n",
       "      <th colspan=\"6\" halign=\"left\">return</th>\n",
       "    </tr>\n",
       "    <tr>\n",
       "      <th>gunner_blockers</th>\n",
       "      <th>0</th>\n",
       "      <th>1</th>\n",
       "      <th>2</th>\n",
       "      <th>3</th>\n",
       "      <th>4</th>\n",
       "      <th>0</th>\n",
       "      <th>1</th>\n",
       "      <th>2</th>\n",
       "      <th>3</th>\n",
       "      <th>4</th>\n",
       "      <th>5</th>\n",
       "    </tr>\n",
       "    <tr>\n",
       "      <th>time_since_punt</th>\n",
       "      <th></th>\n",
       "      <th></th>\n",
       "      <th></th>\n",
       "      <th></th>\n",
       "      <th></th>\n",
       "      <th></th>\n",
       "      <th></th>\n",
       "      <th></th>\n",
       "      <th></th>\n",
       "      <th></th>\n",
       "      <th></th>\n",
       "    </tr>\n",
       "  </thead>\n",
       "  <tbody>\n",
       "    <tr>\n",
       "      <th>00:00:01</th>\n",
       "      <td>47.6</td>\n",
       "      <td>45.9</td>\n",
       "      <td>44.0</td>\n",
       "      <td>46.4</td>\n",
       "      <td>46.3</td>\n",
       "      <td>47.4</td>\n",
       "      <td>48.7</td>\n",
       "      <td>48.2</td>\n",
       "      <td>48.6</td>\n",
       "      <td>48.4</td>\n",
       "      <td>49.9</td>\n",
       "    </tr>\n",
       "    <tr>\n",
       "      <th>00:00:02</th>\n",
       "      <td>44.4</td>\n",
       "      <td>41.1</td>\n",
       "      <td>38.9</td>\n",
       "      <td>40.9</td>\n",
       "      <td>40.6</td>\n",
       "      <td>43.9</td>\n",
       "      <td>44.5</td>\n",
       "      <td>43.4</td>\n",
       "      <td>43.7</td>\n",
       "      <td>43.5</td>\n",
       "      <td>44.9</td>\n",
       "    </tr>\n",
       "    <tr>\n",
       "      <th>00:00:03</th>\n",
       "      <td>38.5</td>\n",
       "      <td>33.9</td>\n",
       "      <td>32.1</td>\n",
       "      <td>33.4</td>\n",
       "      <td>32.4</td>\n",
       "      <td>38.9</td>\n",
       "      <td>38.5</td>\n",
       "      <td>37.4</td>\n",
       "      <td>37.6</td>\n",
       "      <td>37.2</td>\n",
       "      <td>38.2</td>\n",
       "    </tr>\n",
       "    <tr>\n",
       "      <th>00:00:04</th>\n",
       "      <td>31.8</td>\n",
       "      <td>27.0</td>\n",
       "      <td>25.5</td>\n",
       "      <td>25.9</td>\n",
       "      <td>24.5</td>\n",
       "      <td>33.4</td>\n",
       "      <td>32.7</td>\n",
       "      <td>32.1</td>\n",
       "      <td>31.9</td>\n",
       "      <td>31.3</td>\n",
       "      <td>32.6</td>\n",
       "    </tr>\n",
       "    <tr>\n",
       "      <th>00:00:05</th>\n",
       "      <td>27.7</td>\n",
       "      <td>21.4</td>\n",
       "      <td>22.7</td>\n",
       "      <td>21.1</td>\n",
       "      <td>20.8</td>\n",
       "      <td>23.1</td>\n",
       "      <td>31.7</td>\n",
       "      <td>27.2</td>\n",
       "      <td>26.9</td>\n",
       "      <td>27.3</td>\n",
       "      <td>28.1</td>\n",
       "    </tr>\n",
       "    <tr>\n",
       "      <th>00:00:06</th>\n",
       "      <td>NaN</td>\n",
       "      <td>NaN</td>\n",
       "      <td>NaN</td>\n",
       "      <td>NaN</td>\n",
       "      <td>22.7</td>\n",
       "      <td>NaN</td>\n",
       "      <td>NaN</td>\n",
       "      <td>23.1</td>\n",
       "      <td>22.3</td>\n",
       "      <td>25.2</td>\n",
       "      <td>NaN</td>\n",
       "    </tr>\n",
       "  </tbody>\n",
       "</table>\n",
       "</div>"
      ],
      "text/plain": [
       "outcome         fair_catch                         return                    \\\n",
       "gunner_blockers          0     1     2     3     4      0     1     2     3   \n",
       "time_since_punt                                                               \n",
       "00:00:01              47.6  45.9  44.0  46.4  46.3   47.4  48.7  48.2  48.6   \n",
       "00:00:02              44.4  41.1  38.9  40.9  40.6   43.9  44.5  43.4  43.7   \n",
       "00:00:03              38.5  33.9  32.1  33.4  32.4   38.9  38.5  37.4  37.6   \n",
       "00:00:04              31.8  27.0  25.5  25.9  24.5   33.4  32.7  32.1  31.9   \n",
       "00:00:05              27.7  21.4  22.7  21.1  20.8   23.1  31.7  27.2  26.9   \n",
       "00:00:06               NaN   NaN   NaN   NaN  22.7    NaN   NaN  23.1  22.3   \n",
       "\n",
       "outcome                      \n",
       "gunner_blockers     4     5  \n",
       "time_since_punt              \n",
       "00:00:01         48.4  49.9  \n",
       "00:00:02         43.5  44.9  \n",
       "00:00:03         37.2  38.2  \n",
       "00:00:04         31.3  32.6  \n",
       "00:00:05         27.3  28.1  \n",
       "00:00:06         25.2   NaN  "
      ]
     },
     "execution_count": 48,
     "metadata": {},
     "output_type": "execute_result"
    }
   ],
   "source": [
    "round(pd.pivot_table(cov_ret_df, values='dis_from_ret',\\\n",
    "                     index=['time_since_punt'], columns=['outcome','gunner_blockers'], aggfunc=np.mean), 1)"
   ]
  },
  {
   "cell_type": "code",
   "execution_count": 49,
   "metadata": {},
   "outputs": [],
   "source": [
    "#### At each second of each play... Who is the closest to the returner?  How far away are they?  Return vs Fair Catch"
   ]
  },
  {
   "cell_type": "code",
   "execution_count": 50,
   "metadata": {},
   "outputs": [],
   "source": [
    "min_dist_from_ret = cov_ret_df.groupby(['Season_Year', 'GameKey','PlayID','time_since_punt'], as_index = False)['dis_from_ret'].min()"
   ]
  },
  {
   "cell_type": "code",
   "execution_count": 51,
   "metadata": {},
   "outputs": [
    {
     "data": {
      "text/html": [
       "<div>\n",
       "<style>\n",
       "    .dataframe thead tr:only-child th {\n",
       "        text-align: right;\n",
       "    }\n",
       "\n",
       "    .dataframe thead th {\n",
       "        text-align: left;\n",
       "    }\n",
       "\n",
       "    .dataframe tbody tr th {\n",
       "        vertical-align: top;\n",
       "    }\n",
       "</style>\n",
       "<table border=\"1\" class=\"dataframe\">\n",
       "  <thead>\n",
       "    <tr style=\"text-align: right;\">\n",
       "      <th></th>\n",
       "      <th>Season_Year</th>\n",
       "      <th>GameKey</th>\n",
       "      <th>PlayID</th>\n",
       "      <th>time_since_punt</th>\n",
       "      <th>dis_from_ret</th>\n",
       "    </tr>\n",
       "  </thead>\n",
       "  <tbody>\n",
       "    <tr>\n",
       "      <th>0</th>\n",
       "      <td>2016</td>\n",
       "      <td>3</td>\n",
       "      <td>455</td>\n",
       "      <td>00:00:01</td>\n",
       "      <td>39.068560</td>\n",
       "    </tr>\n",
       "    <tr>\n",
       "      <th>1</th>\n",
       "      <td>2016</td>\n",
       "      <td>3</td>\n",
       "      <td>455</td>\n",
       "      <td>00:00:02</td>\n",
       "      <td>31.370344</td>\n",
       "    </tr>\n",
       "    <tr>\n",
       "      <th>2</th>\n",
       "      <td>2016</td>\n",
       "      <td>3</td>\n",
       "      <td>455</td>\n",
       "      <td>00:00:03</td>\n",
       "      <td>21.645880</td>\n",
       "    </tr>\n",
       "    <tr>\n",
       "      <th>3</th>\n",
       "      <td>2016</td>\n",
       "      <td>3</td>\n",
       "      <td>455</td>\n",
       "      <td>00:00:04</td>\n",
       "      <td>11.321985</td>\n",
       "    </tr>\n",
       "    <tr>\n",
       "      <th>4</th>\n",
       "      <td>2016</td>\n",
       "      <td>3</td>\n",
       "      <td>1542</td>\n",
       "      <td>00:00:01</td>\n",
       "      <td>38.607731</td>\n",
       "    </tr>\n",
       "  </tbody>\n",
       "</table>\n",
       "</div>"
      ],
      "text/plain": [
       "   Season_Year  GameKey  PlayID time_since_punt  dis_from_ret\n",
       "0         2016        3     455        00:00:01     39.068560\n",
       "1         2016        3     455        00:00:02     31.370344\n",
       "2         2016        3     455        00:00:03     21.645880\n",
       "3         2016        3     455        00:00:04     11.321985\n",
       "4         2016        3    1542        00:00:01     38.607731"
      ]
     },
     "execution_count": 51,
     "metadata": {},
     "output_type": "execute_result"
    }
   ],
   "source": [
    "min_dist_from_ret.head()"
   ]
  },
  {
   "cell_type": "code",
   "execution_count": 52,
   "metadata": {},
   "outputs": [],
   "source": [
    "closest_df = cov_ret_df.merge(min_dist_from_ret.drop('time_since_punt', axis = 1), how = 'inner', on=['Season_Year', 'GameKey', 'PlayID', 'dis_from_ret'])"
   ]
  },
  {
   "cell_type": "code",
   "execution_count": 69,
   "metadata": {},
   "outputs": [
    {
     "data": {
      "text/html": [
       "<div>\n",
       "<style>\n",
       "    .dataframe thead tr:only-child th {\n",
       "        text-align: right;\n",
       "    }\n",
       "\n",
       "    .dataframe thead th {\n",
       "        text-align: left;\n",
       "    }\n",
       "\n",
       "    .dataframe tbody tr th {\n",
       "        vertical-align: top;\n",
       "    }\n",
       "</style>\n",
       "<table border=\"1\" class=\"dataframe\">\n",
       "  <thead>\n",
       "    <tr style=\"text-align: right;\">\n",
       "      <th></th>\n",
       "      <th>time_since_punt</th>\n",
       "      <th>cov_Role</th>\n",
       "      <th># of times closest</th>\n",
       "      <th>avg distance</th>\n",
       "    </tr>\n",
       "  </thead>\n",
       "  <tbody>\n",
       "    <tr>\n",
       "      <th>2</th>\n",
       "      <td>00:00:01</td>\n",
       "      <td>GR</td>\n",
       "      <td>1984</td>\n",
       "      <td>35.854444</td>\n",
       "    </tr>\n",
       "    <tr>\n",
       "      <th>15</th>\n",
       "      <td>00:00:02</td>\n",
       "      <td>GR</td>\n",
       "      <td>1954</td>\n",
       "      <td>27.315203</td>\n",
       "    </tr>\n",
       "    <tr>\n",
       "      <th>29</th>\n",
       "      <td>00:00:03</td>\n",
       "      <td>GR</td>\n",
       "      <td>1921</td>\n",
       "      <td>18.240300</td>\n",
       "    </tr>\n",
       "    <tr>\n",
       "      <th>0</th>\n",
       "      <td>00:00:01</td>\n",
       "      <td>GL</td>\n",
       "      <td>1871</td>\n",
       "      <td>35.530742</td>\n",
       "    </tr>\n",
       "    <tr>\n",
       "      <th>13</th>\n",
       "      <td>00:00:02</td>\n",
       "      <td>GL</td>\n",
       "      <td>1827</td>\n",
       "      <td>26.823751</td>\n",
       "    </tr>\n",
       "  </tbody>\n",
       "</table>\n",
       "</div>"
      ],
      "text/plain": [
       "   time_since_punt cov_Role  # of times closest  avg distance\n",
       "2         00:00:01       GR                1984     35.854444\n",
       "15        00:00:02       GR                1954     27.315203\n",
       "29        00:00:03       GR                1921     18.240300\n",
       "0         00:00:01       GL                1871     35.530742\n",
       "13        00:00:02       GL                1827     26.823751"
      ]
     },
     "execution_count": 69,
     "metadata": {},
     "output_type": "execute_result"
    }
   ],
   "source": [
    "closest_df.groupby(['time_since_punt','cov_Role'],\n",
    "                   as_index=False)['dis_from_ret'].agg({'# of times closest': 'count',\n",
    "                                                        'avg distance':np.mean})\\\n",
    "        .sort_values('# of times closest', ascending =False).head()"
   ]
  },
  {
   "cell_type": "code",
   "execution_count": 75,
   "metadata": {},
   "outputs": [],
   "source": [
    "pos_grouped_df = cov_ret_df.groupby(['cov_Role', 'outcome'], as_index=False)['dis_from_ret'].agg({'mean dist':np.mean,\n",
    "                                                                                                  'count': 'count'})\n",
    "                                                                                                  \n",
    "pos_grouped_df = pos_grouped_df.loc[(pos_grouped_df.cov_Role != 'PPLi') & \\\n",
    "                                    (pos_grouped_df.cov_Role != 'PPLo')]"
   ]
  },
  {
   "cell_type": "code",
   "execution_count": null,
   "metadata": {},
   "outputs": [],
   "source": [
    "{'GL':['GLi', 'GLo', '']}"
   ]
  },
  {
   "cell_type": "code",
   "execution_count": 78,
   "metadata": {},
   "outputs": [
    {
     "data": {
      "text/html": [
       "<div>\n",
       "<style>\n",
       "    .dataframe thead tr:only-child th {\n",
       "        text-align: right;\n",
       "    }\n",
       "\n",
       "    .dataframe thead th {\n",
       "        text-align: left;\n",
       "    }\n",
       "\n",
       "    .dataframe tbody tr th {\n",
       "        vertical-align: top;\n",
       "    }\n",
       "</style>\n",
       "<table border=\"1\" class=\"dataframe\">\n",
       "  <thead>\n",
       "    <tr style=\"text-align: right;\">\n",
       "      <th></th>\n",
       "      <th>cov_Role</th>\n",
       "      <th>outcome</th>\n",
       "      <th>mean dist</th>\n",
       "      <th>count</th>\n",
       "    </tr>\n",
       "  </thead>\n",
       "  <tbody>\n",
       "    <tr>\n",
       "      <th>0</th>\n",
       "      <td>GL</td>\n",
       "      <td>fair_catch</td>\n",
       "      <td>22.666812</td>\n",
       "      <td>6590</td>\n",
       "    </tr>\n",
       "    <tr>\n",
       "      <th>1</th>\n",
       "      <td>GL</td>\n",
       "      <td>return</td>\n",
       "      <td>30.369937</td>\n",
       "      <td>10409</td>\n",
       "    </tr>\n",
       "    <tr>\n",
       "      <th>2</th>\n",
       "      <td>GL</td>\n",
       "      <td>fair_catch</td>\n",
       "      <td>27.096290</td>\n",
       "      <td>26</td>\n",
       "    </tr>\n",
       "    <tr>\n",
       "      <th>3</th>\n",
       "      <td>GL</td>\n",
       "      <td>return</td>\n",
       "      <td>34.447334</td>\n",
       "      <td>31</td>\n",
       "    </tr>\n",
       "    <tr>\n",
       "      <th>4</th>\n",
       "      <td>GLo</td>\n",
       "      <td>fair_catch</td>\n",
       "      <td>18.970336</td>\n",
       "      <td>26</td>\n",
       "    </tr>\n",
       "    <tr>\n",
       "      <th>5</th>\n",
       "      <td>GLo</td>\n",
       "      <td>return</td>\n",
       "      <td>27.706286</td>\n",
       "      <td>31</td>\n",
       "    </tr>\n",
       "    <tr>\n",
       "      <th>6</th>\n",
       "      <td>GR</td>\n",
       "      <td>fair_catch</td>\n",
       "      <td>22.575439</td>\n",
       "      <td>6564</td>\n",
       "    </tr>\n",
       "    <tr>\n",
       "      <th>7</th>\n",
       "      <td>GR</td>\n",
       "      <td>return</td>\n",
       "      <td>29.739586</td>\n",
       "      <td>10338</td>\n",
       "    </tr>\n",
       "    <tr>\n",
       "      <th>8</th>\n",
       "      <td>GRi</td>\n",
       "      <td>fair_catch</td>\n",
       "      <td>29.831213</td>\n",
       "      <td>27</td>\n",
       "    </tr>\n",
       "    <tr>\n",
       "      <th>9</th>\n",
       "      <td>GRi</td>\n",
       "      <td>return</td>\n",
       "      <td>33.946978</td>\n",
       "      <td>45</td>\n",
       "    </tr>\n",
       "    <tr>\n",
       "      <th>10</th>\n",
       "      <td>GRo</td>\n",
       "      <td>fair_catch</td>\n",
       "      <td>23.929376</td>\n",
       "      <td>27</td>\n",
       "    </tr>\n",
       "    <tr>\n",
       "      <th>11</th>\n",
       "      <td>GRo</td>\n",
       "      <td>return</td>\n",
       "      <td>27.160889</td>\n",
       "      <td>49</td>\n",
       "    </tr>\n",
       "    <tr>\n",
       "      <th>12</th>\n",
       "      <td>P</td>\n",
       "      <td>fair_catch</td>\n",
       "      <td>50.698994</td>\n",
       "      <td>6711</td>\n",
       "    </tr>\n",
       "    <tr>\n",
       "      <th>13</th>\n",
       "      <td>P</td>\n",
       "      <td>return</td>\n",
       "      <td>55.143166</td>\n",
       "      <td>10954</td>\n",
       "    </tr>\n",
       "    <tr>\n",
       "      <th>14</th>\n",
       "      <td>PC</td>\n",
       "      <td>fair_catch</td>\n",
       "      <td>23.350382</td>\n",
       "      <td>5</td>\n",
       "    </tr>\n",
       "    <tr>\n",
       "      <th>15</th>\n",
       "      <td>PC</td>\n",
       "      <td>return</td>\n",
       "      <td>38.629537</td>\n",
       "      <td>8</td>\n",
       "    </tr>\n",
       "    <tr>\n",
       "      <th>16</th>\n",
       "      <td>PLG</td>\n",
       "      <td>fair_catch</td>\n",
       "      <td>34.809604</td>\n",
       "      <td>6708</td>\n",
       "    </tr>\n",
       "    <tr>\n",
       "      <th>17</th>\n",
       "      <td>PLG</td>\n",
       "      <td>return</td>\n",
       "      <td>39.129578</td>\n",
       "      <td>10947</td>\n",
       "    </tr>\n",
       "    <tr>\n",
       "      <th>18</th>\n",
       "      <td>PLS</td>\n",
       "      <td>fair_catch</td>\n",
       "      <td>35.825423</td>\n",
       "      <td>6706</td>\n",
       "    </tr>\n",
       "    <tr>\n",
       "      <th>19</th>\n",
       "      <td>PLS</td>\n",
       "      <td>return</td>\n",
       "      <td>39.751450</td>\n",
       "      <td>10957</td>\n",
       "    </tr>\n",
       "    <tr>\n",
       "      <th>20</th>\n",
       "      <td>PLT</td>\n",
       "      <td>fair_catch</td>\n",
       "      <td>35.610970</td>\n",
       "      <td>6692</td>\n",
       "    </tr>\n",
       "    <tr>\n",
       "      <th>21</th>\n",
       "      <td>PLT</td>\n",
       "      <td>return</td>\n",
       "      <td>40.203590</td>\n",
       "      <td>10929</td>\n",
       "    </tr>\n",
       "    <tr>\n",
       "      <th>22</th>\n",
       "      <td>PLW</td>\n",
       "      <td>fair_catch</td>\n",
       "      <td>39.781554</td>\n",
       "      <td>6707</td>\n",
       "    </tr>\n",
       "    <tr>\n",
       "      <th>23</th>\n",
       "      <td>PLW</td>\n",
       "      <td>return</td>\n",
       "      <td>44.228366</td>\n",
       "      <td>10923</td>\n",
       "    </tr>\n",
       "    <tr>\n",
       "      <th>24</th>\n",
       "      <td>PPL</td>\n",
       "      <td>fair_catch</td>\n",
       "      <td>34.645187</td>\n",
       "      <td>2709</td>\n",
       "    </tr>\n",
       "    <tr>\n",
       "      <th>25</th>\n",
       "      <td>PPL</td>\n",
       "      <td>return</td>\n",
       "      <td>37.131650</td>\n",
       "      <td>4387</td>\n",
       "    </tr>\n",
       "    <tr>\n",
       "      <th>28</th>\n",
       "      <td>PPR</td>\n",
       "      <td>fair_catch</td>\n",
       "      <td>34.356605</td>\n",
       "      <td>4003</td>\n",
       "    </tr>\n",
       "    <tr>\n",
       "      <th>29</th>\n",
       "      <td>PPR</td>\n",
       "      <td>return</td>\n",
       "      <td>37.288671</td>\n",
       "      <td>6562</td>\n",
       "    </tr>\n",
       "    <tr>\n",
       "      <th>30</th>\n",
       "      <td>PRG</td>\n",
       "      <td>fair_catch</td>\n",
       "      <td>35.265297</td>\n",
       "      <td>6700</td>\n",
       "    </tr>\n",
       "    <tr>\n",
       "      <th>31</th>\n",
       "      <td>PRG</td>\n",
       "      <td>return</td>\n",
       "      <td>39.245641</td>\n",
       "      <td>10942</td>\n",
       "    </tr>\n",
       "    <tr>\n",
       "      <th>32</th>\n",
       "      <td>PRT</td>\n",
       "      <td>fair_catch</td>\n",
       "      <td>35.862639</td>\n",
       "      <td>6707</td>\n",
       "    </tr>\n",
       "    <tr>\n",
       "      <th>33</th>\n",
       "      <td>PRT</td>\n",
       "      <td>return</td>\n",
       "      <td>40.234379</td>\n",
       "      <td>10961</td>\n",
       "    </tr>\n",
       "    <tr>\n",
       "      <th>34</th>\n",
       "      <td>PRW</td>\n",
       "      <td>fair_catch</td>\n",
       "      <td>40.095139</td>\n",
       "      <td>6704</td>\n",
       "    </tr>\n",
       "    <tr>\n",
       "      <th>35</th>\n",
       "      <td>PRW</td>\n",
       "      <td>return</td>\n",
       "      <td>44.064170</td>\n",
       "      <td>10934</td>\n",
       "    </tr>\n",
       "  </tbody>\n",
       "</table>\n",
       "</div>"
      ],
      "text/plain": [
       "   cov_Role     outcome  mean dist  count\n",
       "0        GL  fair_catch  22.666812   6590\n",
       "1        GL      return  30.369937  10409\n",
       "2        GL  fair_catch  27.096290     26\n",
       "3        GL      return  34.447334     31\n",
       "4       GLo  fair_catch  18.970336     26\n",
       "5       GLo      return  27.706286     31\n",
       "6        GR  fair_catch  22.575439   6564\n",
       "7        GR      return  29.739586  10338\n",
       "8       GRi  fair_catch  29.831213     27\n",
       "9       GRi      return  33.946978     45\n",
       "10      GRo  fair_catch  23.929376     27\n",
       "11      GRo      return  27.160889     49\n",
       "12        P  fair_catch  50.698994   6711\n",
       "13        P      return  55.143166  10954\n",
       "14       PC  fair_catch  23.350382      5\n",
       "15       PC      return  38.629537      8\n",
       "16      PLG  fair_catch  34.809604   6708\n",
       "17      PLG      return  39.129578  10947\n",
       "18      PLS  fair_catch  35.825423   6706\n",
       "19      PLS      return  39.751450  10957\n",
       "20      PLT  fair_catch  35.610970   6692\n",
       "21      PLT      return  40.203590  10929\n",
       "22      PLW  fair_catch  39.781554   6707\n",
       "23      PLW      return  44.228366  10923\n",
       "24      PPL  fair_catch  34.645187   2709\n",
       "25      PPL      return  37.131650   4387\n",
       "28      PPR  fair_catch  34.356605   4003\n",
       "29      PPR      return  37.288671   6562\n",
       "30      PRG  fair_catch  35.265297   6700\n",
       "31      PRG      return  39.245641  10942\n",
       "32      PRT  fair_catch  35.862639   6707\n",
       "33      PRT      return  40.234379  10961\n",
       "34      PRW  fair_catch  40.095139   6704\n",
       "35      PRW      return  44.064170  10934"
      ]
     },
     "execution_count": 78,
     "metadata": {},
     "output_type": "execute_result"
    }
   ],
   "source": [
    "pos_grouped_df.replace('GLi', 'GL')"
   ]
  },
  {
   "cell_type": "code",
   "execution_count": 77,
   "metadata": {},
   "outputs": [
    {
     "data": {
      "text/html": [
       "<div>\n",
       "<style>\n",
       "    .dataframe thead tr:only-child th {\n",
       "        text-align: right;\n",
       "    }\n",
       "\n",
       "    .dataframe thead th {\n",
       "        text-align: left;\n",
       "    }\n",
       "\n",
       "    .dataframe tbody tr th {\n",
       "        vertical-align: top;\n",
       "    }\n",
       "</style>\n",
       "<table border=\"1\" class=\"dataframe\">\n",
       "  <thead>\n",
       "    <tr style=\"text-align: right;\">\n",
       "      <th></th>\n",
       "      <th>cov_Role</th>\n",
       "      <th>outcome</th>\n",
       "      <th>mean dist</th>\n",
       "      <th>count</th>\n",
       "    </tr>\n",
       "  </thead>\n",
       "  <tbody>\n",
       "    <tr>\n",
       "      <th>14</th>\n",
       "      <td>PC</td>\n",
       "      <td>fair_catch</td>\n",
       "      <td>23.350382</td>\n",
       "      <td>5</td>\n",
       "    </tr>\n",
       "    <tr>\n",
       "      <th>15</th>\n",
       "      <td>PC</td>\n",
       "      <td>return</td>\n",
       "      <td>38.629537</td>\n",
       "      <td>8</td>\n",
       "    </tr>\n",
       "    <tr>\n",
       "      <th>2</th>\n",
       "      <td>GLi</td>\n",
       "      <td>fair_catch</td>\n",
       "      <td>27.096290</td>\n",
       "      <td>26</td>\n",
       "    </tr>\n",
       "    <tr>\n",
       "      <th>4</th>\n",
       "      <td>GLo</td>\n",
       "      <td>fair_catch</td>\n",
       "      <td>18.970336</td>\n",
       "      <td>26</td>\n",
       "    </tr>\n",
       "    <tr>\n",
       "      <th>10</th>\n",
       "      <td>GRo</td>\n",
       "      <td>fair_catch</td>\n",
       "      <td>23.929376</td>\n",
       "      <td>27</td>\n",
       "    </tr>\n",
       "    <tr>\n",
       "      <th>8</th>\n",
       "      <td>GRi</td>\n",
       "      <td>fair_catch</td>\n",
       "      <td>29.831213</td>\n",
       "      <td>27</td>\n",
       "    </tr>\n",
       "    <tr>\n",
       "      <th>3</th>\n",
       "      <td>GLi</td>\n",
       "      <td>return</td>\n",
       "      <td>34.447334</td>\n",
       "      <td>31</td>\n",
       "    </tr>\n",
       "    <tr>\n",
       "      <th>5</th>\n",
       "      <td>GLo</td>\n",
       "      <td>return</td>\n",
       "      <td>27.706286</td>\n",
       "      <td>31</td>\n",
       "    </tr>\n",
       "    <tr>\n",
       "      <th>9</th>\n",
       "      <td>GRi</td>\n",
       "      <td>return</td>\n",
       "      <td>33.946978</td>\n",
       "      <td>45</td>\n",
       "    </tr>\n",
       "    <tr>\n",
       "      <th>11</th>\n",
       "      <td>GRo</td>\n",
       "      <td>return</td>\n",
       "      <td>27.160889</td>\n",
       "      <td>49</td>\n",
       "    </tr>\n",
       "    <tr>\n",
       "      <th>24</th>\n",
       "      <td>PPL</td>\n",
       "      <td>fair_catch</td>\n",
       "      <td>34.645187</td>\n",
       "      <td>2709</td>\n",
       "    </tr>\n",
       "    <tr>\n",
       "      <th>28</th>\n",
       "      <td>PPR</td>\n",
       "      <td>fair_catch</td>\n",
       "      <td>34.356605</td>\n",
       "      <td>4003</td>\n",
       "    </tr>\n",
       "    <tr>\n",
       "      <th>25</th>\n",
       "      <td>PPL</td>\n",
       "      <td>return</td>\n",
       "      <td>37.131650</td>\n",
       "      <td>4387</td>\n",
       "    </tr>\n",
       "    <tr>\n",
       "      <th>29</th>\n",
       "      <td>PPR</td>\n",
       "      <td>return</td>\n",
       "      <td>37.288671</td>\n",
       "      <td>6562</td>\n",
       "    </tr>\n",
       "    <tr>\n",
       "      <th>6</th>\n",
       "      <td>GR</td>\n",
       "      <td>fair_catch</td>\n",
       "      <td>22.575439</td>\n",
       "      <td>6564</td>\n",
       "    </tr>\n",
       "    <tr>\n",
       "      <th>0</th>\n",
       "      <td>GL</td>\n",
       "      <td>fair_catch</td>\n",
       "      <td>22.666812</td>\n",
       "      <td>6590</td>\n",
       "    </tr>\n",
       "    <tr>\n",
       "      <th>20</th>\n",
       "      <td>PLT</td>\n",
       "      <td>fair_catch</td>\n",
       "      <td>35.610970</td>\n",
       "      <td>6692</td>\n",
       "    </tr>\n",
       "    <tr>\n",
       "      <th>30</th>\n",
       "      <td>PRG</td>\n",
       "      <td>fair_catch</td>\n",
       "      <td>35.265297</td>\n",
       "      <td>6700</td>\n",
       "    </tr>\n",
       "    <tr>\n",
       "      <th>34</th>\n",
       "      <td>PRW</td>\n",
       "      <td>fair_catch</td>\n",
       "      <td>40.095139</td>\n",
       "      <td>6704</td>\n",
       "    </tr>\n",
       "    <tr>\n",
       "      <th>18</th>\n",
       "      <td>PLS</td>\n",
       "      <td>fair_catch</td>\n",
       "      <td>35.825423</td>\n",
       "      <td>6706</td>\n",
       "    </tr>\n",
       "    <tr>\n",
       "      <th>32</th>\n",
       "      <td>PRT</td>\n",
       "      <td>fair_catch</td>\n",
       "      <td>35.862639</td>\n",
       "      <td>6707</td>\n",
       "    </tr>\n",
       "    <tr>\n",
       "      <th>22</th>\n",
       "      <td>PLW</td>\n",
       "      <td>fair_catch</td>\n",
       "      <td>39.781554</td>\n",
       "      <td>6707</td>\n",
       "    </tr>\n",
       "    <tr>\n",
       "      <th>16</th>\n",
       "      <td>PLG</td>\n",
       "      <td>fair_catch</td>\n",
       "      <td>34.809604</td>\n",
       "      <td>6708</td>\n",
       "    </tr>\n",
       "    <tr>\n",
       "      <th>12</th>\n",
       "      <td>P</td>\n",
       "      <td>fair_catch</td>\n",
       "      <td>50.698994</td>\n",
       "      <td>6711</td>\n",
       "    </tr>\n",
       "    <tr>\n",
       "      <th>7</th>\n",
       "      <td>GR</td>\n",
       "      <td>return</td>\n",
       "      <td>29.739586</td>\n",
       "      <td>10338</td>\n",
       "    </tr>\n",
       "    <tr>\n",
       "      <th>1</th>\n",
       "      <td>GL</td>\n",
       "      <td>return</td>\n",
       "      <td>30.369937</td>\n",
       "      <td>10409</td>\n",
       "    </tr>\n",
       "    <tr>\n",
       "      <th>23</th>\n",
       "      <td>PLW</td>\n",
       "      <td>return</td>\n",
       "      <td>44.228366</td>\n",
       "      <td>10923</td>\n",
       "    </tr>\n",
       "    <tr>\n",
       "      <th>21</th>\n",
       "      <td>PLT</td>\n",
       "      <td>return</td>\n",
       "      <td>40.203590</td>\n",
       "      <td>10929</td>\n",
       "    </tr>\n",
       "    <tr>\n",
       "      <th>35</th>\n",
       "      <td>PRW</td>\n",
       "      <td>return</td>\n",
       "      <td>44.064170</td>\n",
       "      <td>10934</td>\n",
       "    </tr>\n",
       "    <tr>\n",
       "      <th>31</th>\n",
       "      <td>PRG</td>\n",
       "      <td>return</td>\n",
       "      <td>39.245641</td>\n",
       "      <td>10942</td>\n",
       "    </tr>\n",
       "    <tr>\n",
       "      <th>17</th>\n",
       "      <td>PLG</td>\n",
       "      <td>return</td>\n",
       "      <td>39.129578</td>\n",
       "      <td>10947</td>\n",
       "    </tr>\n",
       "    <tr>\n",
       "      <th>13</th>\n",
       "      <td>P</td>\n",
       "      <td>return</td>\n",
       "      <td>55.143166</td>\n",
       "      <td>10954</td>\n",
       "    </tr>\n",
       "    <tr>\n",
       "      <th>19</th>\n",
       "      <td>PLS</td>\n",
       "      <td>return</td>\n",
       "      <td>39.751450</td>\n",
       "      <td>10957</td>\n",
       "    </tr>\n",
       "    <tr>\n",
       "      <th>33</th>\n",
       "      <td>PRT</td>\n",
       "      <td>return</td>\n",
       "      <td>40.234379</td>\n",
       "      <td>10961</td>\n",
       "    </tr>\n",
       "  </tbody>\n",
       "</table>\n",
       "</div>"
      ],
      "text/plain": [
       "   cov_Role     outcome  mean dist  count\n",
       "14       PC  fair_catch  23.350382      5\n",
       "15       PC      return  38.629537      8\n",
       "2       GLi  fair_catch  27.096290     26\n",
       "4       GLo  fair_catch  18.970336     26\n",
       "10      GRo  fair_catch  23.929376     27\n",
       "8       GRi  fair_catch  29.831213     27\n",
       "3       GLi      return  34.447334     31\n",
       "5       GLo      return  27.706286     31\n",
       "9       GRi      return  33.946978     45\n",
       "11      GRo      return  27.160889     49\n",
       "24      PPL  fair_catch  34.645187   2709\n",
       "28      PPR  fair_catch  34.356605   4003\n",
       "25      PPL      return  37.131650   4387\n",
       "29      PPR      return  37.288671   6562\n",
       "6        GR  fair_catch  22.575439   6564\n",
       "0        GL  fair_catch  22.666812   6590\n",
       "20      PLT  fair_catch  35.610970   6692\n",
       "30      PRG  fair_catch  35.265297   6700\n",
       "34      PRW  fair_catch  40.095139   6704\n",
       "18      PLS  fair_catch  35.825423   6706\n",
       "32      PRT  fair_catch  35.862639   6707\n",
       "22      PLW  fair_catch  39.781554   6707\n",
       "16      PLG  fair_catch  34.809604   6708\n",
       "12        P  fair_catch  50.698994   6711\n",
       "7        GR      return  29.739586  10338\n",
       "1        GL      return  30.369937  10409\n",
       "23      PLW      return  44.228366  10923\n",
       "21      PLT      return  40.203590  10929\n",
       "35      PRW      return  44.064170  10934\n",
       "31      PRG      return  39.245641  10942\n",
       "17      PLG      return  39.129578  10947\n",
       "13        P      return  55.143166  10954\n",
       "19      PLS      return  39.751450  10957\n",
       "33      PRT      return  40.234379  10961"
      ]
     },
     "execution_count": 77,
     "metadata": {},
     "output_type": "execute_result"
    }
   ],
   "source": [
    "pos_grouped_df.sort_values('count')"
   ]
  },
  {
   "cell_type": "code",
   "execution_count": 73,
   "metadata": {},
   "outputs": [
    {
     "data": {
      "text/html": [
       "<iframe id=\"igraph\" scrolling=\"no\" style=\"border:none;\" seamless=\"seamless\" src=\"https://plot.ly/~mtodisco10/69.embed\" height=\"525px\" width=\"100%\"></iframe>"
      ],
      "text/plain": [
       "<plotly.tools.PlotlyDisplay object>"
      ]
     },
     "execution_count": 73,
     "metadata": {},
     "output_type": "execute_result"
    }
   ],
   "source": [
    "trace1 = go.Bar(\n",
    "        x=pos_grouped_df.loc[pos_grouped_df.outcome == 'fair_catch']['cov_Role'],\n",
    "        y=pos_grouped_df.loc[pos_grouped_df.outcome == 'fair_catch']['dis_from_ret'],\n",
    "        name='fair catch'\n",
    "    )\n",
    "\n",
    "trace2 = go.Bar(\n",
    "        x=pos_grouped_df.loc[pos_grouped_df.outcome == 'return']['cov_Role'],\n",
    "        y=pos_grouped_df.loc[pos_grouped_df.outcome == 'return']['dis_from_ret'],\n",
    "        name='return'\n",
    "    )\n",
    "\n",
    "data = [trace1, trace2]\n",
    "layout = go.Layout(\n",
    "    barmode='group',\n",
    "    xaxis=dict(title='Position'),\n",
    "    yaxis= dict(title='Avg Distance From Returner (Yds)')\n",
    ")\n",
    "\n",
    "fig=go.Figure(data=data, layout=layout)\n",
    "py.iplot(fig, filename='grouped-bar')"
   ]
  },
  {
   "cell_type": "markdown",
   "metadata": {},
   "source": [
    "#### Punts Landing inside the 20"
   ]
  },
  {
   "cell_type": "code",
   "execution_count": null,
   "metadata": {},
   "outputs": [],
   "source": [
    "def parse_play_description(df, outcome_lst):\n",
    "    parsed_df = play_info.loc[play_info.outcome.isin(outcome_lst),\\\n",
    "                             ['Season_Year','GameKey','PlayID',\\\n",
    "                              'PlayDescription','outcome']].reset_index(drop=True)\n",
    "    punt_to_lst = []\n",
    "    punt_dist_lst = []\n",
    "    return_dist_lst = []\n",
    "    punt_regex = '(punts [0-9]+ yards? to [A-Z]* [-+]?[0-9]+)| (punts [0-9]+ yards? to [-+]?[0-9]+)'\n",
    "    return_regex = '(to [A-Z]* [0-9]+ for [-+]?[0-9]+ yards?)|(to [0-9]+ for [-+]?[0-9]+ yards?)|(ob at [A-Z]* [-+]?[0-9]+ for [-+]?[0-9]+ yards?)|(ob at [0-9]+ for [-+]?[0-9]+ yards?)|(for [-+]?[0-9]+ yards?, TOUCHDOWN)'\n",
    "    \n",
    "    for i in range(0, len(parsed_df)):\n",
    "        punt_search = re.search(punt_regex, parsed_df.PlayDescription[i])\n",
    "        return_search = re.search(return_regex, parsed_df.PlayDescription[i])\n",
    "    \n",
    "        if punt_search:\n",
    "            punt_snip = re.findall(r'-?\\d+', punt_search.group(0))\n",
    "            if parsed_df.outcome[i] in ['downed','fair_catch', 'oob', 'return']:\n",
    "                punt_to_lst.append(int(punt_snip[-1]))\n",
    "                punt_dist_lst.append(int(punt_snip[0]))\n",
    "            else:\n",
    "                if parsed_df.outcome[i] == 'touchback':\n",
    "                    punt_to_lst.append(0)\n",
    "                    punt_dist_lst.append(int(punt_snip[0]))\n",
    "                else:\n",
    "                    print('Missing Punt Outcome at Row {}'.format(i))\n",
    "        else:\n",
    "            if parsed_df.outcome[i] == 'touchback':\n",
    "                punt_to_lst.append(0)\n",
    "                punt_dist_lst.append(int(punt_snip[0]))\n",
    "            else:\n",
    "                print('Missing Punt Outcome at Row {}'.format(i))\n",
    "        \n",
    "        if return_search:\n",
    "            return_snip = re.findall(r'-?\\d+', return_search.group(0))\n",
    "            return_dist_lst.append(int(return_snip[-1]))\n",
    "        else:\n",
    "            if parsed_df.outcome[i] == 'touchback':\n",
    "                return_dist_lst.append(20)\n",
    "            elif parsed_df.outcome[i] in ['downed','fair_catch', 'oob']:\n",
    "                return_dist_lst.append(0)\n",
    "            elif 'no gain' in parsed_df.PlayDescription[i]:\n",
    "                return_dist_lst.append(0)\n",
    "            else:\n",
    "                print('Missing Return Outcome at Row {}'.format(i))   \n",
    "                \n",
    "    parsed_df['punt_to'] = punt_to_lst\n",
    "    parsed_df['punt_dist'] = punt_dist_lst\n",
    "    parsed_df['return_dist'] = return_dist_lst\n",
    "                                   \n",
    "    return parsed_df"
   ]
  },
  {
   "cell_type": "code",
   "execution_count": null,
   "metadata": {},
   "outputs": [],
   "source": [
    "punt_detail_df = parse_play_description(play_info, ['touchback', 'fair_catch','oob', 'downed', 'return'])"
   ]
  },
  {
   "cell_type": "code",
   "execution_count": null,
   "metadata": {},
   "outputs": [],
   "source": [
    "#Fearing the extra 5 yard penalty, punters will be even more wary of avoiding a touchback.\n",
    "#They will punt the ball shorter and with more hang time, or angle the ball out of bounds.\n",
    "\n",
    "#From a returners perspective, if the ball is heading close to the goaline, they will be more likely to let it bounce \n",
    "#and take the touchback than return it because of the extra 5 yard bonus."
   ]
  },
  {
   "cell_type": "code",
   "execution_count": null,
   "metadata": {},
   "outputs": [],
   "source": [
    "punt_detail_df.head()"
   ]
  },
  {
   "cell_type": "code",
   "execution_count": null,
   "metadata": {},
   "outputs": [],
   "source": [
    "punt_to_lst = []\n",
    "punt_dist_lst = []\n",
    "return_dist_lst = []"
   ]
  },
  {
   "cell_type": "code",
   "execution_count": null,
   "metadata": {},
   "outputs": [],
   "source": [
    "string = 'T.Morstead punts 47 yards to 17, Center-C.Highland. T.Ervin to HST 16 for -1 yards '"
   ]
  },
  {
   "cell_type": "code",
   "execution_count": null,
   "metadata": {},
   "outputs": [],
   "source": [
    "snip = re.search('(to [A-Z]* [0-9]+ for [-+]?[0-9]+ yards?)', string).group(0)"
   ]
  },
  {
   "cell_type": "code",
   "execution_count": 79,
   "metadata": {},
   "outputs": [
    {
     "data": {
      "text/html": [
       "<div>\n",
       "<style>\n",
       "    .dataframe thead tr:only-child th {\n",
       "        text-align: right;\n",
       "    }\n",
       "\n",
       "    .dataframe thead th {\n",
       "        text-align: left;\n",
       "    }\n",
       "\n",
       "    .dataframe tbody tr th {\n",
       "        vertical-align: top;\n",
       "    }\n",
       "</style>\n",
       "<table border=\"1\" class=\"dataframe\">\n",
       "  <thead>\n",
       "    <tr style=\"text-align: right;\">\n",
       "      <th></th>\n",
       "      <th>Season_Year</th>\n",
       "      <th>GameKey</th>\n",
       "      <th>PlayID</th>\n",
       "      <th>GSISID</th>\n",
       "      <th>Time</th>\n",
       "      <th>x</th>\n",
       "      <th>y</th>\n",
       "      <th>dis</th>\n",
       "      <th>o</th>\n",
       "      <th>dir</th>\n",
       "      <th>Event</th>\n",
       "    </tr>\n",
       "  </thead>\n",
       "  <tbody>\n",
       "    <tr>\n",
       "      <th>0</th>\n",
       "      <td>2016</td>\n",
       "      <td>3</td>\n",
       "      <td>3949</td>\n",
       "      <td>33078.0</td>\n",
       "      <td>2016-08-12 02:27:11.100</td>\n",
       "      <td>58.320000</td>\n",
       "      <td>12.90</td>\n",
       "      <td>0.00</td>\n",
       "      <td>347.989990</td>\n",
       "      <td>64.320000</td>\n",
       "      <td>NaN</td>\n",
       "    </tr>\n",
       "    <tr>\n",
       "      <th>1</th>\n",
       "      <td>2016</td>\n",
       "      <td>3</td>\n",
       "      <td>3949</td>\n",
       "      <td>24417.0</td>\n",
       "      <td>2016-08-12 02:27:11.100</td>\n",
       "      <td>56.740002</td>\n",
       "      <td>13.85</td>\n",
       "      <td>0.02</td>\n",
       "      <td>18.180000</td>\n",
       "      <td>359.750000</td>\n",
       "      <td>NaN</td>\n",
       "    </tr>\n",
       "    <tr>\n",
       "      <th>2</th>\n",
       "      <td>2016</td>\n",
       "      <td>3</td>\n",
       "      <td>3949</td>\n",
       "      <td>32570.0</td>\n",
       "      <td>2016-08-12 02:27:11.100</td>\n",
       "      <td>50.779999</td>\n",
       "      <td>0.34</td>\n",
       "      <td>0.09</td>\n",
       "      <td>286.130005</td>\n",
       "      <td>185.149994</td>\n",
       "      <td>NaN</td>\n",
       "    </tr>\n",
       "    <tr>\n",
       "      <th>3</th>\n",
       "      <td>2016</td>\n",
       "      <td>3</td>\n",
       "      <td>3949</td>\n",
       "      <td>27831.0</td>\n",
       "      <td>2016-08-12 02:27:11.200</td>\n",
       "      <td>59.340000</td>\n",
       "      <td>12.33</td>\n",
       "      <td>0.05</td>\n",
       "      <td>325.130005</td>\n",
       "      <td>294.489990</td>\n",
       "      <td>NaN</td>\n",
       "    </tr>\n",
       "    <tr>\n",
       "      <th>4</th>\n",
       "      <td>2016</td>\n",
       "      <td>3</td>\n",
       "      <td>3949</td>\n",
       "      <td>32575.0</td>\n",
       "      <td>2016-08-12 02:27:11.200</td>\n",
       "      <td>52.950001</td>\n",
       "      <td>-0.37</td>\n",
       "      <td>0.03</td>\n",
       "      <td>322.970001</td>\n",
       "      <td>145.889999</td>\n",
       "      <td>NaN</td>\n",
       "    </tr>\n",
       "  </tbody>\n",
       "</table>\n",
       "</div>"
      ],
      "text/plain": [
       "   Season_Year  GameKey  PlayID   GSISID                     Time          x  \\\n",
       "0         2016        3    3949  33078.0  2016-08-12 02:27:11.100  58.320000   \n",
       "1         2016        3    3949  24417.0  2016-08-12 02:27:11.100  56.740002   \n",
       "2         2016        3    3949  32570.0  2016-08-12 02:27:11.100  50.779999   \n",
       "3         2016        3    3949  27831.0  2016-08-12 02:27:11.200  59.340000   \n",
       "4         2016        3    3949  32575.0  2016-08-12 02:27:11.200  52.950001   \n",
       "\n",
       "       y   dis           o         dir Event  \n",
       "0  12.90  0.00  347.989990   64.320000   NaN  \n",
       "1  13.85  0.02   18.180000  359.750000   NaN  \n",
       "2   0.34  0.09  286.130005  185.149994   NaN  \n",
       "3  12.33  0.05  325.130005  294.489990   NaN  \n",
       "4  -0.37  0.03  322.970001  145.889999   NaN  "
      ]
     },
     "execution_count": 79,
     "metadata": {},
     "output_type": "execute_result"
    }
   ],
   "source": [
    "NGS_df.head()"
   ]
  },
  {
   "cell_type": "code",
   "execution_count": 82,
   "metadata": {},
   "outputs": [
    {
     "data": {
      "text/html": [
       "<div>\n",
       "<style>\n",
       "    .dataframe thead tr:only-child th {\n",
       "        text-align: right;\n",
       "    }\n",
       "\n",
       "    .dataframe thead th {\n",
       "        text-align: left;\n",
       "    }\n",
       "\n",
       "    .dataframe tbody tr th {\n",
       "        vertical-align: top;\n",
       "    }\n",
       "</style>\n",
       "<table border=\"1\" class=\"dataframe\">\n",
       "  <thead>\n",
       "    <tr style=\"text-align: right;\">\n",
       "      <th></th>\n",
       "      <th>Season_Year</th>\n",
       "      <th>GameKey</th>\n",
       "      <th>PlayID</th>\n",
       "      <th>GSISID</th>\n",
       "      <th>Player_Activity_Derived</th>\n",
       "      <th>Turnover_Related</th>\n",
       "      <th>Primary_Impact_Type</th>\n",
       "      <th>Primary_Partner_GSISID</th>\n",
       "      <th>Primary_Partner_Activity_Derived</th>\n",
       "      <th>Friendly_Fire</th>\n",
       "    </tr>\n",
       "  </thead>\n",
       "  <tbody>\n",
       "    <tr>\n",
       "      <th>0</th>\n",
       "      <td>2016</td>\n",
       "      <td>5</td>\n",
       "      <td>3129</td>\n",
       "      <td>31057</td>\n",
       "      <td>Tackling</td>\n",
       "      <td>No</td>\n",
       "      <td>Helmet-to-body</td>\n",
       "      <td>32482</td>\n",
       "      <td>Tackled</td>\n",
       "      <td>No</td>\n",
       "    </tr>\n",
       "    <tr>\n",
       "      <th>1</th>\n",
       "      <td>2016</td>\n",
       "      <td>21</td>\n",
       "      <td>2587</td>\n",
       "      <td>29343</td>\n",
       "      <td>Blocked</td>\n",
       "      <td>No</td>\n",
       "      <td>Helmet-to-helmet</td>\n",
       "      <td>31059</td>\n",
       "      <td>Blocking</td>\n",
       "      <td>No</td>\n",
       "    </tr>\n",
       "    <tr>\n",
       "      <th>2</th>\n",
       "      <td>2016</td>\n",
       "      <td>29</td>\n",
       "      <td>538</td>\n",
       "      <td>31023</td>\n",
       "      <td>Tackling</td>\n",
       "      <td>No</td>\n",
       "      <td>Helmet-to-body</td>\n",
       "      <td>31941</td>\n",
       "      <td>Tackled</td>\n",
       "      <td>No</td>\n",
       "    </tr>\n",
       "    <tr>\n",
       "      <th>3</th>\n",
       "      <td>2016</td>\n",
       "      <td>45</td>\n",
       "      <td>1212</td>\n",
       "      <td>33121</td>\n",
       "      <td>Tackling</td>\n",
       "      <td>No</td>\n",
       "      <td>Helmet-to-body</td>\n",
       "      <td>28249</td>\n",
       "      <td>Tackled</td>\n",
       "      <td>No</td>\n",
       "    </tr>\n",
       "    <tr>\n",
       "      <th>4</th>\n",
       "      <td>2016</td>\n",
       "      <td>54</td>\n",
       "      <td>1045</td>\n",
       "      <td>32444</td>\n",
       "      <td>Blocked</td>\n",
       "      <td>No</td>\n",
       "      <td>Helmet-to-body</td>\n",
       "      <td>31756</td>\n",
       "      <td>Blocked</td>\n",
       "      <td>Yes</td>\n",
       "    </tr>\n",
       "  </tbody>\n",
       "</table>\n",
       "</div>"
      ],
      "text/plain": [
       "   Season_Year  GameKey  PlayID  GSISID Player_Activity_Derived  \\\n",
       "0         2016        5    3129   31057                Tackling   \n",
       "1         2016       21    2587   29343                 Blocked   \n",
       "2         2016       29     538   31023                Tackling   \n",
       "3         2016       45    1212   33121                Tackling   \n",
       "4         2016       54    1045   32444                 Blocked   \n",
       "\n",
       "  Turnover_Related Primary_Impact_Type Primary_Partner_GSISID  \\\n",
       "0               No      Helmet-to-body                  32482   \n",
       "1               No    Helmet-to-helmet                  31059   \n",
       "2               No      Helmet-to-body                  31941   \n",
       "3               No      Helmet-to-body                  28249   \n",
       "4               No      Helmet-to-body                  31756   \n",
       "\n",
       "  Primary_Partner_Activity_Derived Friendly_Fire  \n",
       "0                          Tackled            No  \n",
       "1                         Blocking            No  \n",
       "2                          Tackled            No  \n",
       "3                          Tackled            No  \n",
       "4                          Blocked           Yes  "
      ]
     },
     "execution_count": 82,
     "metadata": {},
     "output_type": "execute_result"
    }
   ],
   "source": [
    "video_review.head()"
   ]
  },
  {
   "cell_type": "code",
   "execution_count": 83,
   "metadata": {},
   "outputs": [
    {
     "data": {
      "text/html": [
       "<div>\n",
       "<style>\n",
       "    .dataframe thead tr:only-child th {\n",
       "        text-align: right;\n",
       "    }\n",
       "\n",
       "    .dataframe thead th {\n",
       "        text-align: left;\n",
       "    }\n",
       "\n",
       "    .dataframe tbody tr th {\n",
       "        vertical-align: top;\n",
       "    }\n",
       "</style>\n",
       "<table border=\"1\" class=\"dataframe\">\n",
       "  <thead>\n",
       "    <tr style=\"text-align: right;\">\n",
       "      <th></th>\n",
       "      <th>Season_Year</th>\n",
       "      <th>GameKey</th>\n",
       "      <th>PlayID</th>\n",
       "      <th>GSISID</th>\n",
       "      <th>Player_Activity_Derived</th>\n",
       "      <th>Turnover_Related</th>\n",
       "      <th>Primary_Impact_Type</th>\n",
       "      <th>Primary_Partner_GSISID</th>\n",
       "      <th>Primary_Partner_Activity_Derived</th>\n",
       "      <th>Friendly_Fire</th>\n",
       "    </tr>\n",
       "  </thead>\n",
       "  <tbody>\n",
       "    <tr>\n",
       "      <th>34</th>\n",
       "      <td>2017</td>\n",
       "      <td>601</td>\n",
       "      <td>602</td>\n",
       "      <td>33260</td>\n",
       "      <td>Tackling</td>\n",
       "      <td>No</td>\n",
       "      <td>Helmet-to-helmet</td>\n",
       "      <td>31697</td>\n",
       "      <td>Tackled</td>\n",
       "      <td>No</td>\n",
       "    </tr>\n",
       "  </tbody>\n",
       "</table>\n",
       "</div>"
      ],
      "text/plain": [
       "    Season_Year  GameKey  PlayID  GSISID Player_Activity_Derived  \\\n",
       "34         2017      601     602   33260                Tackling   \n",
       "\n",
       "   Turnover_Related Primary_Impact_Type Primary_Partner_GSISID  \\\n",
       "34               No    Helmet-to-helmet                  31697   \n",
       "\n",
       "   Primary_Partner_Activity_Derived Friendly_Fire  \n",
       "34                          Tackled            No  "
      ]
     },
     "execution_count": 83,
     "metadata": {},
     "output_type": "execute_result"
    }
   ],
   "source": [
    "video_review.loc[(video_review.Season_Year == 2017) & (video_review.GameKey == 601)].merge"
   ]
  },
  {
   "cell_type": "code",
   "execution_count": null,
   "metadata": {},
   "outputs": [],
   "source": [
    "NGS_df"
   ]
  }
 ],
 "metadata": {
  "kernelspec": {
   "display_name": "Python 3",
   "language": "python",
   "name": "python3"
  },
  "language_info": {
   "codemirror_mode": {
    "name": "ipython",
    "version": 3
   },
   "file_extension": ".py",
   "mimetype": "text/x-python",
   "name": "python",
   "nbconvert_exporter": "python",
   "pygments_lexer": "ipython3",
   "version": "3.6.0"
  }
 },
 "nbformat": 4,
 "nbformat_minor": 2
}
