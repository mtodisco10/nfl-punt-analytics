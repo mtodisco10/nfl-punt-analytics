{
 "cells": [
  {
   "cell_type": "code",
   "execution_count": 1,
   "metadata": {},
   "outputs": [],
   "source": [
    "import pandas as pd\n",
    "import numpy as np\n",
    "import matplotlib.pyplot as plt"
   ]
  },
  {
   "cell_type": "code",
   "execution_count": 612,
   "metadata": {},
   "outputs": [],
   "source": [
    "#Read in Data\n",
    "game_data = pd.read_csv('game_data.csv')\n",
    "play_info = pd.read_csv('play_information.csv')\n",
    "play_player_role = pd.read_csv('play_player_role_data.csv')\n",
    "player_punt = pd.read_csv('player_punt_data.csv')\n",
    "video_footage_control = pd.read_csv('video_footage-control.csv')\n",
    "video_footage_injury = pd.read_csv('video_footage-injury.csv')\n",
    "video_review = pd.read_csv('video_review.csv')"
   ]
  },
  {
   "cell_type": "code",
   "execution_count": 613,
   "metadata": {},
   "outputs": [],
   "source": [
    "NGS_2016_pre = pd.read_csv('NGS-2016-pre.csv')\n",
    "NGS_2016_post = pd.read_csv('NGS-2016-post.csv')\n",
    "NGS_2017_pre = pd.read_csv('NGS-2017-pre.csv')\n",
    "NGS_2017_post = pd.read_csv('NGS-2017-post.csv')"
   ]
  },
  {
   "cell_type": "code",
   "execution_count": 120,
   "metadata": {},
   "outputs": [
    {
     "name": "stderr",
     "output_type": "stream",
     "text": [
      "/Library/Frameworks/Python.framework/Versions/3.6/lib/python3.6/site-packages/IPython/core/interactiveshell.py:3018: DtypeWarning: Columns (10) have mixed types. Specify dtype option on import or set low_memory=False.\n",
      "  interactivity=interactivity, compiler=compiler, result=result)\n"
     ]
    }
   ],
   "source": [
    "NGS_2016_wk1_6 = pd.read_csv('NGS-2016-reg-wk1-6.csv')\n",
    "NGS_2016_wk7_12 = pd.read_csv('NGS-2016-reg-wk7-12.csv')\n",
    "NGS_2016_wk13_17 = pd.read_csv('NGS-2016-reg-wk13-17.csv')"
   ]
  },
  {
   "cell_type": "code",
   "execution_count": null,
   "metadata": {},
   "outputs": [],
   "source": [
    "NGS_2017_wk1_6 = pd.read_csv('NGS-2017-reg-wk1-6.csv')\n",
    "NGS_2017_wk7_12 = pd.read_csv('NGS-2017-reg-wk7-12.csv')\n",
    "NGS_2017_wk13_17 = pd.read_csv('NGS-2017-reg-wk13-17.csv')"
   ]
  },
  {
   "cell_type": "code",
   "execution_count": 121,
   "metadata": {},
   "outputs": [],
   "source": [
    "NGS_2016 = pd.concat([NGS_2016_wk1_6, NGS_2016_wk7_12, NGS_2016_wk13_17])"
   ]
  },
  {
   "cell_type": "code",
   "execution_count": null,
   "metadata": {},
   "outputs": [],
   "source": [
    "NGS_2017 = pd.concat([NGS_2017_wk1_6, NGS_2017_wk7_12, NGS_2017_wk13_17])"
   ]
  },
  {
   "cell_type": "code",
   "execution_count": null,
   "metadata": {},
   "outputs": [],
   "source": [
    "NGS_df = pd.concat([NGS_2016, NGS_2017])"
   ]
  },
  {
   "cell_type": "code",
   "execution_count": null,
   "metadata": {},
   "outputs": [],
   "source": [
    "len(NGS_df)"
   ]
  },
  {
   "cell_type": "code",
   "execution_count": null,
   "metadata": {},
   "outputs": [],
   "source": [
    "NGS_df.head()"
   ]
  },
  {
   "cell_type": "code",
   "execution_count": null,
   "metadata": {},
   "outputs": [],
   "source": [
    "test_plot = NGS_2016.loc[(NGS_2016.PlayID == 2035) & (NGS_2016.GSISID == 27675)].sort_values('Time')"
   ]
  },
  {
   "cell_type": "code",
   "execution_count": null,
   "metadata": {},
   "outputs": [],
   "source": [
    "player_punt.loc[player_punt.GSISID == 27675]"
   ]
  },
  {
   "cell_type": "code",
   "execution_count": null,
   "metadata": {},
   "outputs": [],
   "source": [
    "player_punt.head()"
   ]
  },
  {
   "cell_type": "code",
   "execution_count": null,
   "metadata": {},
   "outputs": [],
   "source": [
    "play_player_role.loc[(play_player_role.GSISID == 27675) & (play_player_role.PlayID == 2035)]"
   ]
  },
  {
   "cell_type": "code",
   "execution_count": null,
   "metadata": {},
   "outputs": [],
   "source": [
    "play_info.head()"
   ]
  },
  {
   "cell_type": "code",
   "execution_count": null,
   "metadata": {},
   "outputs": [],
   "source": [
    "video_review.head()"
   ]
  },
  {
   "cell_type": "code",
   "execution_count": null,
   "metadata": {},
   "outputs": [],
   "source": [
    "video_footage_injury.iloc[0,9]"
   ]
  },
  {
   "cell_type": "markdown",
   "metadata": {},
   "source": [
    "#### Who's getting hurt?"
   ]
  },
  {
   "cell_type": "code",
   "execution_count": null,
   "metadata": {},
   "outputs": [],
   "source": [
    "merged_df = video_review.merge(play_player_role, how= 'left', left_on=['GSISID','PlayID','GameKey'], right_on=['GSISID','PlayID','GameKey'])"
   ]
  },
  {
   "cell_type": "code",
   "execution_count": null,
   "metadata": {},
   "outputs": [],
   "source": [
    "player_punt.loc[player_punt.GSISID == 32482]"
   ]
  },
  {
   "cell_type": "code",
   "execution_count": null,
   "metadata": {},
   "outputs": [],
   "source": [
    "play_player_role.loc[(play_player_role.GSISID == 29343) & (play_player_role.PlayID == 2587)]"
   ]
  },
  {
   "cell_type": "code",
   "execution_count": null,
   "metadata": {},
   "outputs": [],
   "source": [
    "merged_df.Role.value_counts()"
   ]
  },
  {
   "cell_type": "code",
   "execution_count": null,
   "metadata": {},
   "outputs": [],
   "source": [
    "len(video_footage_injury)"
   ]
  },
  {
   "cell_type": "code",
   "execution_count": null,
   "metadata": {},
   "outputs": [],
   "source": [
    "ax = plt.plot(test_plot['x'],test_plot['y'])"
   ]
  },
  {
   "cell_type": "code",
   "execution_count": null,
   "metadata": {},
   "outputs": [],
   "source": [
    "gunner_df = NGS_2016_pre.loc[(NGS_2016_pre.GameKey == 5) & (NGS_2016_pre.PlayID == 3129) & (NGS_2016_pre.GSISID == 31057)].sort_values('Time')"
   ]
  },
  {
   "cell_type": "code",
   "execution_count": null,
   "metadata": {},
   "outputs": [],
   "source": [
    "min(gunner_df['Time'])"
   ]
  },
  {
   "cell_type": "code",
   "execution_count": null,
   "metadata": {},
   "outputs": [],
   "source": [
    "max(gunner_df['Time'])"
   ]
  },
  {
   "cell_type": "code",
   "execution_count": null,
   "metadata": {},
   "outputs": [],
   "source": [
    "gunner_df.head(11).dis.sum() * 2.045"
   ]
  },
  {
   "cell_type": "code",
   "execution_count": null,
   "metadata": {},
   "outputs": [],
   "source": [
    "gunner_df.head()"
   ]
  },
  {
   "cell_type": "code",
   "execution_count": null,
   "metadata": {},
   "outputs": [],
   "source": [
    "gunner_df['dis_per_second'] = gunner_df.dis * 10\n",
    "gunner_df['dis_mph'] = gunner_df['dis_per_second'] * 2.0455"
   ]
  },
  {
   "cell_type": "code",
   "execution_count": null,
   "metadata": {},
   "outputs": [],
   "source": [
    "print(gunner_df.dis_mph[200:250])"
   ]
  },
  {
   "cell_type": "code",
   "execution_count": null,
   "metadata": {},
   "outputs": [],
   "source": [
    "play_player_role.loc[(play_player_role.GameKey == 5) & (play_player_role.PlayID == 3129) & (play_player_role.GSISID == 31057)]"
   ]
  },
  {
   "cell_type": "code",
   "execution_count": null,
   "metadata": {},
   "outputs": [],
   "source": [
    "ax1 = plt.subplot()\n",
    "ax1.plot(gunner_df['x'], gunner_df['y'])\n",
    "ax1.set_xlim([0,120])\n",
    "ax1.set_ylim([0,53.3])"
   ]
  },
  {
   "cell_type": "code",
   "execution_count": null,
   "metadata": {},
   "outputs": [],
   "source": [
    "max(NGS_2016_wk1_6['y'])"
   ]
  },
  {
   "cell_type": "code",
   "execution_count": null,
   "metadata": {},
   "outputs": [],
   "source": [
    "play_info['fair_catch'] = play_info.PlayDescription.str.contains('fair catch')"
   ]
  },
  {
   "cell_type": "code",
   "execution_count": null,
   "metadata": {},
   "outputs": [],
   "source": [
    "play_info.loc[play_info.fair_catch == True].merge(video_review)"
   ]
  },
  {
   "cell_type": "code",
   "execution_count": null,
   "metadata": {},
   "outputs": [],
   "source": [
    "video_footage_injury.loc[video_footage_injury.playid == 2918]"
   ]
  },
  {
   "cell_type": "code",
   "execution_count": null,
   "metadata": {},
   "outputs": [],
   "source": [
    "video_footage_injury.head()"
   ]
  },
  {
   "cell_type": "markdown",
   "metadata": {},
   "source": [
    "### Does speed correlate with injury?"
   ]
  },
  {
   "cell_type": "code",
   "execution_count": null,
   "metadata": {},
   "outputs": [],
   "source": [
    "video_review.head()"
   ]
  },
  {
   "cell_type": "code",
   "execution_count": null,
   "metadata": {},
   "outputs": [],
   "source": [
    "injury_ngs = video_review.merge(NGS_2016, how ='inner', left_on=['GSISID','PlayID','GameKey'], right_on=['GSISID','PlayID','GameKey'])"
   ]
  },
  {
   "cell_type": "code",
   "execution_count": null,
   "metadata": {},
   "outputs": [],
   "source": [
    "injury_ngs['dis_per_second'] = injury_ngs.dis * 10\n",
    "injury_ngs['dis_mph'] = injury_ngs.dis_per_second * 2.0455"
   ]
  },
  {
   "cell_type": "code",
   "execution_count": null,
   "metadata": {},
   "outputs": [],
   "source": [
    "injury_ngs.groupby('PlayID')['dis_mph'].agg(max)"
   ]
  },
  {
   "cell_type": "code",
   "execution_count": null,
   "metadata": {},
   "outputs": [],
   "source": [
    "play_info.head()"
   ]
  },
  {
   "cell_type": "code",
   "execution_count": null,
   "metadata": {},
   "outputs": [],
   "source": [
    "play_info = play_info.merge(video_review[['GameKey','PlayID','GSISID']], how = 'left', left_on = ['GameKey','PlayID'], right_on = ['GameKey','PlayID'])"
   ]
  },
  {
   "cell_type": "code",
   "execution_count": null,
   "metadata": {},
   "outputs": [],
   "source": [
    "play_info['injury'] = play_info.GSISID.apply(lambda x: 0 if pd.isnull(x) else 1)"
   ]
  },
  {
   "cell_type": "code",
   "execution_count": null,
   "metadata": {},
   "outputs": [],
   "source": [
    "play_info.fair_catch.value_counts(normalize = True)"
   ]
  },
  {
   "cell_type": "code",
   "execution_count": null,
   "metadata": {},
   "outputs": [],
   "source": [
    "play_info.loc[play_info.injury == 1]['fair_catch'].sum() / len(play_info.loc[play_info.injury == 1])"
   ]
  },
  {
   "cell_type": "code",
   "execution_count": null,
   "metadata": {},
   "outputs": [],
   "source": [
    "play_info.loc[play_info.injury == 1]['fair_catch'].sum() / len(play_info.loc[play_info.injury == 0])"
   ]
  },
  {
   "cell_type": "code",
   "execution_count": null,
   "metadata": {},
   "outputs": [],
   "source": [
    "fair_catches = play_info.loc[play_info.fair_catch == 1]\n",
    "non_fair_catches = play_info.loc[play_info.fair_catch == 0]"
   ]
  },
  {
   "cell_type": "code",
   "execution_count": null,
   "metadata": {},
   "outputs": [],
   "source": [
    "len(fair_catches.loc[fair_catches.injury == 1]) / float(len(fair_catches)) * 100"
   ]
  },
  {
   "cell_type": "code",
   "execution_count": null,
   "metadata": {},
   "outputs": [],
   "source": [
    "len(non_fair_catches.loc[non_fair_catches.injury == 1]) / float(len(non_fair_catches)) * 100"
   ]
  },
  {
   "cell_type": "code",
   "execution_count": null,
   "metadata": {},
   "outputs": [],
   "source": [
    "(.7-.12) / .12"
   ]
  },
  {
   "cell_type": "markdown",
   "metadata": {},
   "source": [
    "#### Nearly 5 times more likely to have an injury when there is an actual return"
   ]
  },
  {
   "cell_type": "code",
   "execution_count": null,
   "metadata": {},
   "outputs": [],
   "source": [
    "import plotly"
   ]
  },
  {
   "cell_type": "code",
   "execution_count": null,
   "metadata": {},
   "outputs": [],
   "source": [
    "import plotly.graph_objs as go\n",
    "from plotly import offline\n",
    "import plotly.plotly as py\n",
    "plotly.tools.set_credentials_file(username='mtodisco10', api_key='bCfUmq5FralbymKXY4uX')"
   ]
  },
  {
   "cell_type": "code",
   "execution_count": null,
   "metadata": {},
   "outputs": [],
   "source": [
    "def load_layout():\n",
    "    \"\"\"\n",
    "    Returns a dict for a Football themed Plot.ly layout \n",
    "    \"\"\"\n",
    "    layout = dict(\n",
    "        title = \"Player Activity\",\n",
    "        plot_bgcolor='darkseagreen',\n",
    "        showlegend=True,\n",
    "        xaxis=dict(\n",
    "            autorange=False,\n",
    "            range=[0, 120],\n",
    "            showgrid=False,\n",
    "            zeroline=False,\n",
    "            showline=True,\n",
    "            linecolor='black',\n",
    "            linewidth=1,\n",
    "            mirror=True,\n",
    "            ticks='',\n",
    "            tickmode='array',\n",
    "            tickvals=[10,20, 30, 40, 50, 60, 70, 80, 90, 100, 110],\n",
    "            ticktext=['Goal', 10, 20, 30, 40, 50, 40, 30, 20, 10, 'Goal'],\n",
    "            showticklabels=True\n",
    "        ),\n",
    "        yaxis=dict(\n",
    "            title='',\n",
    "            autorange=False,\n",
    "            range=[-3.3,56.3],\n",
    "            showgrid=False,\n",
    "            zeroline=False,\n",
    "            showline=True,\n",
    "            linecolor='black',\n",
    "            linewidth=1,\n",
    "            mirror=True,\n",
    "            ticks='',\n",
    "            showticklabels=False\n",
    "        ),\n",
    "        shapes=[\n",
    "            dict(\n",
    "                type='line',\n",
    "                layer='below',\n",
    "                x0=0,\n",
    "                y0=0,\n",
    "                x1=120,\n",
    "                y1=0,\n",
    "                line=dict(\n",
    "                    color='white',\n",
    "                    width=2\n",
    "                )\n",
    "            ),\n",
    "            dict(\n",
    "                type='line',\n",
    "                layer='below',\n",
    "                x0=0,\n",
    "                y0=53.3,\n",
    "                x1=120,\n",
    "                y1=53.3,\n",
    "                line=dict(\n",
    "                    color='white',\n",
    "                    width=2\n",
    "                )\n",
    "            ),\n",
    "            dict(\n",
    "                type='line',\n",
    "                layer='below',\n",
    "                x0=10,\n",
    "                y0=0,\n",
    "                x1=10,\n",
    "                y1=53.3,\n",
    "                line=dict(\n",
    "                    color='white',\n",
    "                    width=10\n",
    "                )\n",
    "            ),\n",
    "            dict(\n",
    "                type='line',\n",
    "                layer='below',\n",
    "                x0=20,\n",
    "                y0=0,\n",
    "                x1=20,\n",
    "                y1=53.3,\n",
    "                line=dict(\n",
    "                    color='white'\n",
    "                )\n",
    "            ),\n",
    "            dict(\n",
    "                type='line',\n",
    "                layer='below',\n",
    "                x0=30,\n",
    "                y0=0,\n",
    "                x1=30,\n",
    "                y1=53.3,\n",
    "                line=dict(\n",
    "                    color='white'\n",
    "                )\n",
    "            ),\n",
    "            dict(\n",
    "                type='line',\n",
    "                layer='below',\n",
    "                x0=40,\n",
    "                y0=0,\n",
    "                x1=40,\n",
    "                y1=53.3,\n",
    "                line=dict(\n",
    "                    color='white'\n",
    "                )\n",
    "            ),\n",
    "            dict(\n",
    "                type='line',\n",
    "                layer='below',\n",
    "                x0=50,\n",
    "                y0=0,\n",
    "                x1=50,\n",
    "                y1=53.3,\n",
    "                line=dict(\n",
    "                    color='white'\n",
    "                )\n",
    "            ),\n",
    "            dict(\n",
    "                type='line',\n",
    "                layer='below',\n",
    "                x0=60,\n",
    "                y0=0,\n",
    "                x1=60,\n",
    "                y1=53.3,\n",
    "                line=dict(\n",
    "                    color='white'\n",
    "                )\n",
    "            ),dict(\n",
    "                type='line',\n",
    "                layer='below',\n",
    "                x0=70,\n",
    "                y0=0,\n",
    "                x1=70,\n",
    "                y1=53.3,\n",
    "                line=dict(\n",
    "                    color='white'\n",
    "                )\n",
    "            ),dict(\n",
    "                type='line',\n",
    "                layer='below',\n",
    "                x0=80,\n",
    "                y0=0,\n",
    "                x1=80,\n",
    "                y1=53.3,\n",
    "                line=dict(\n",
    "                    color='white'\n",
    "                )\n",
    "            ),\n",
    "            dict(\n",
    "                type='line',\n",
    "                layer='below',\n",
    "                x0=90,\n",
    "                y0=0,\n",
    "                x1=90,\n",
    "                y1=53.3,\n",
    "                line=dict(\n",
    "                    color='white'\n",
    "                )\n",
    "            ),dict(\n",
    "                type='line',\n",
    "                layer='below',\n",
    "                x0=100,\n",
    "                y0=0,\n",
    "                x1=100,\n",
    "                y1=53.3,\n",
    "                line=dict(\n",
    "                    color='white'\n",
    "                )\n",
    "            ),\n",
    "            dict(\n",
    "                type='line',\n",
    "                layer='below',\n",
    "                x0=110,\n",
    "                y0=0,\n",
    "                x1=110,\n",
    "                y1=53.3,\n",
    "                line=dict(\n",
    "                    color='white',\n",
    "                    width=10\n",
    "                )\n",
    "            )\n",
    "        ]\n",
    "    )\n",
    "    return layout\n",
    "\n",
    "layout = load_layout()"
   ]
  },
  {
   "cell_type": "code",
   "execution_count": null,
   "metadata": {},
   "outputs": [],
   "source": [
    "# Loading and plotting functions\n",
    "\n",
    "def load_plays_for_game(GameKey):\n",
    "    \"\"\"\n",
    "    Returns a dataframe of play data for a given game (GameKey)\n",
    "    \"\"\"\n",
    "    play_information = pd.read_csv('play_information.csv')\n",
    "    play_information = play_information[play_information['GameKey'] == GameKey]\n",
    "    return play_information\n",
    "\n",
    "\n",
    "def load_game_and_ngs(ngs_file=None, GameKey=None):\n",
    "    \"\"\"\n",
    "    Returns a dataframe of player movements (NGS data) for a given game\n",
    "    \"\"\"\n",
    "    if ngs_file is None:\n",
    "        print(\"Specifiy an NGS file.\")\n",
    "        return None\n",
    "    if GameKey is None:\n",
    "        print('Specify a GameKey')\n",
    "        return None\n",
    "    # Merge play data with NGS data    \n",
    "    plays = load_plays_for_game(GameKey)\n",
    "    ngs = pd.read_csv(ngs_file, low_memory=False)\n",
    "    merged = pd.merge(ngs, plays, how=\"inner\", on=[\"GameKey\", \"PlayID\", \"Season_Year\"])\n",
    "    return merged\n",
    "\n",
    "\n",
    "def plot_play(game_df, PlayID, player1=None, player2=None, custom_layout=False):\n",
    "    \"\"\"\n",
    "    Plots player movements on the field for a given game, play, and two players\n",
    "    \"\"\"\n",
    "    game_df = game_df[game_df.PlayID==PlayID]\n",
    "    \n",
    "    GameKey=str(pd.unique(game_df.GameKey)[0])\n",
    "    HomeTeam = pd.unique(game_df.Home_Team_Visit_Team)[0].split(\"-\")[0]\n",
    "    VisitingTeam = pd.unique(game_df.Home_Team_Visit_Team)[0].split(\"-\")[1]\n",
    "    YardLine = game_df[(game_df.PlayID==PlayID) & (game_df.GSISID==player1)]['YardLine'].iloc[0]\n",
    "    \n",
    "    traces=[]   \n",
    "    if (player1 is not None) & (player2 is not None):\n",
    "        game_df = game_df[ (game_df['GSISID']==player1) | (game_df['GSISID']==player2)]\n",
    "        for player in pd.unique(game_df.GSISID):\n",
    "            player = int(player)\n",
    "            trace = go.Scatter(\n",
    "                x = game_df[game_df.GSISID==player].x,\n",
    "                y = game_df[game_df.GSISID==player].y,\n",
    "                name='GSISID '+str(player),\n",
    "                mode='markers'\n",
    "            )\n",
    "            traces.append(trace)\n",
    "    else:\n",
    "        print(\"Specify GSISIDs for player1 and player2\")\n",
    "        return None\n",
    "    \n",
    "    if custom_layout is not True:\n",
    "        layout = load_layout()\n",
    "        layout['title'] =  HomeTeam + \\\n",
    "        ' vs. ' + VisitingTeam + \\\n",
    "        '<br>Possession: ' + \\\n",
    "        YardLine.split(\" \")[0] +'@'+YardLine.split(\" \")[1]\n",
    "    data = traces\n",
    "    fig = dict(data=data, layout=layout)\n",
    "    play_description = game_df[(game_df.PlayID==PlayID) & (game_df.GSISID==player1)].iloc[0][\"PlayDescription\"]\n",
    "    print(\"\\n\\n\\t\",play_description)\n",
    "    #py.iplot(fig,filename='jupyter-table1')\n",
    "    offline.iplot(fig)"
   ]
  },
  {
   "cell_type": "code",
   "execution_count": null,
   "metadata": {},
   "outputs": [],
   "source": [
    "game280 = load_game_and_ngs('NGS-2016-reg-wk13-17.csv',GameKey=280)"
   ]
  },
  {
   "cell_type": "code",
   "execution_count": null,
   "metadata": {},
   "outputs": [],
   "source": [
    "plot_play(game_df=game280, PlayID=2918, player1=32120, player2=32725)"
   ]
  },
  {
   "cell_type": "code",
   "execution_count": null,
   "metadata": {},
   "outputs": [],
   "source": [
    "video_review.head()"
   ]
  },
  {
   "cell_type": "code",
   "execution_count": null,
   "metadata": {},
   "outputs": [],
   "source": [
    "player = NGS_2016_pre.loc[(NGS_2016_pre.PlayID == 3129) & (NGS_2016_pre.GSISID == 31057) \n",
    "                          & (NGS_2016_pre.GameKey == 5)] \n"
   ]
  },
  {
   "cell_type": "code",
   "execution_count": null,
   "metadata": {},
   "outputs": [],
   "source": [
    "partner = NGS_2016_pre.loc[(NGS_2016_pre.PlayID == 3129) & (NGS_2016_pre.GSISID == 32482) & \n",
    "                           (NGS_2016_pre.GameKey == 5)] "
   ]
  },
  {
   "cell_type": "code",
   "execution_count": null,
   "metadata": {},
   "outputs": [],
   "source": [
    "player.loc[player.Event.notnull()].sort_values('Time')"
   ]
  },
  {
   "cell_type": "code",
   "execution_count": null,
   "metadata": {},
   "outputs": [],
   "source": [
    "partner.loc[partner.Time == '2016-08-12 02:07:48.300']"
   ]
  },
  {
   "cell_type": "code",
   "execution_count": null,
   "metadata": {},
   "outputs": [],
   "source": [
    "player = player[['x','y','dis']]"
   ]
  },
  {
   "cell_type": "code",
   "execution_count": null,
   "metadata": {},
   "outputs": [],
   "source": [
    "partner.sort_values('Time').head()"
   ]
  },
  {
   "cell_type": "code",
   "execution_count": null,
   "metadata": {},
   "outputs": [],
   "source": [
    "player_partner "
   ]
  },
  {
   "cell_type": "code",
   "execution_count": null,
   "metadata": {},
   "outputs": [],
   "source": [
    "next_gen_data.head()"
   ]
  },
  {
   "cell_type": "code",
   "execution_count": null,
   "metadata": {},
   "outputs": [],
   "source": [
    "#MAX_Speed, AVG_Speed"
   ]
  },
  {
   "cell_type": "code",
   "execution_count": null,
   "metadata": {},
   "outputs": [],
   "source": [
    "next_gen_data = pd.read_csv('NGS-2016-pre.csv')"
   ]
  },
  {
   "cell_type": "code",
   "execution_count": null,
   "metadata": {},
   "outputs": [],
   "source": [
    "playId = 3129\n",
    "gameKey = 5\n",
    "gsisid = 31057"
   ]
  },
  {
   "cell_type": "code",
   "execution_count": null,
   "metadata": {},
   "outputs": [],
   "source": [
    "play_info.loc[(play_info.GameKey == gameKey) & (play_info.PlayID == playId)]"
   ]
  },
  {
   "cell_type": "code",
   "execution_count": null,
   "metadata": {},
   "outputs": [],
   "source": [
    "video_review.loc[(video_review.PlayID == playId)]"
   ]
  },
  {
   "cell_type": "code",
   "execution_count": 2,
   "metadata": {},
   "outputs": [],
   "source": [
    "def get_speed(ng_data, playId, gameKey, player, partner):\n",
    "    ng_data = pd.read_csv(ng_data)\n",
    "    ng_data['mph'] = convert_to_mph(ng_data['dis'], 20.455)\n",
    "    player_data = ng_data.loc[(ng_data.GameKey == gameKey) & (ng_data.PlayID == playId) \n",
    "                               & (ng_data.GSISID == player)].sort_values('Time')\n",
    "    partner_data = ng_data.loc[(ng_data.GameKey == gameKey) & (ng_data.PlayID == playId) \n",
    "                              & (ng_data.GSISID == partner)].sort_values('Time')\n",
    "    player_grouped = player_data.groupby(['GameKey','PlayID','GSISID'], \n",
    "                               as_index = False)['mph'].agg({'max_mph': max,\n",
    "                                                             'avg_mph': np.mean\n",
    "                                                            })\n",
    "    player_grouped['involvement'] = 'player_injured'\n",
    "    partner_grouped = partner_data.groupby(['GameKey','PlayID','GSISID'], \n",
    "                               as_index = False)['mph'].agg({'max_mph': max,\n",
    "                                                             'avg_mph': np.mean\n",
    "                                                            })\n",
    "    partner_grouped['involvement'] = 'primary_partner'\n",
    "    return pd.concat([player_grouped, partner_grouped], axis = 0)[['involvement',\n",
    "                                                                   'max_mph',\n",
    "                                                                   'avg_mph']].reset_index(drop=True)"
   ]
  },
  {
   "cell_type": "code",
   "execution_count": 3,
   "metadata": {},
   "outputs": [],
   "source": [
    "def convert_to_mph(dis_vector, converter):\n",
    "    mph_vector = dis_vector * converter\n",
    "    return mph_vector"
   ]
  },
  {
   "cell_type": "code",
   "execution_count": 4,
   "metadata": {
    "scrolled": false
   },
   "outputs": [
    {
     "data": {
      "text/html": [
       "<div>\n",
       "<style>\n",
       "    .dataframe thead tr:only-child th {\n",
       "        text-align: right;\n",
       "    }\n",
       "\n",
       "    .dataframe thead th {\n",
       "        text-align: left;\n",
       "    }\n",
       "\n",
       "    .dataframe tbody tr th {\n",
       "        vertical-align: top;\n",
       "    }\n",
       "</style>\n",
       "<table border=\"1\" class=\"dataframe\">\n",
       "  <thead>\n",
       "    <tr style=\"text-align: right;\">\n",
       "      <th></th>\n",
       "      <th>involvement</th>\n",
       "      <th>max_mph</th>\n",
       "      <th>avg_mph</th>\n",
       "    </tr>\n",
       "  </thead>\n",
       "  <tbody>\n",
       "    <tr>\n",
       "      <th>0</th>\n",
       "      <td>player_injured</td>\n",
       "      <td>18.40950</td>\n",
       "      <td>5.229332</td>\n",
       "    </tr>\n",
       "    <tr>\n",
       "      <th>1</th>\n",
       "      <td>primary_partner</td>\n",
       "      <td>15.75035</td>\n",
       "      <td>4.083396</td>\n",
       "    </tr>\n",
       "  </tbody>\n",
       "</table>\n",
       "</div>"
      ],
      "text/plain": [
       "       involvement   max_mph   avg_mph\n",
       "0   player_injured  18.40950  5.229332\n",
       "1  primary_partner  15.75035  4.083396"
      ]
     },
     "execution_count": 4,
     "metadata": {},
     "output_type": "execute_result"
    }
   ],
   "source": [
    "get_speed('NGS-2016-pre.csv', 3129, 5, 31057, 32482)"
   ]
  },
  {
   "cell_type": "markdown",
   "metadata": {},
   "source": [
    "### Identify 2 gunner blockers"
   ]
  },
  {
   "cell_type": "code",
   "execution_count": 84,
   "metadata": {},
   "outputs": [],
   "source": [
    "# for each game,  count how many players are gunner blockers.\n",
    "# does this correlate with more returns?  more injuries?"
   ]
  },
  {
   "cell_type": "code",
   "execution_count": 122,
   "metadata": {},
   "outputs": [],
   "source": [
    "gunners = NGS_2016"
   ]
  },
  {
   "cell_type": "code",
   "execution_count": 123,
   "metadata": {},
   "outputs": [
    {
     "data": {
      "text/html": [
       "<div>\n",
       "<style>\n",
       "    .dataframe thead tr:only-child th {\n",
       "        text-align: right;\n",
       "    }\n",
       "\n",
       "    .dataframe thead th {\n",
       "        text-align: left;\n",
       "    }\n",
       "\n",
       "    .dataframe tbody tr th {\n",
       "        vertical-align: top;\n",
       "    }\n",
       "</style>\n",
       "<table border=\"1\" class=\"dataframe\">\n",
       "  <thead>\n",
       "    <tr style=\"text-align: right;\">\n",
       "      <th></th>\n",
       "      <th>Season_Year</th>\n",
       "      <th>GameKey</th>\n",
       "      <th>PlayID</th>\n",
       "      <th>GSISID</th>\n",
       "      <th>Time</th>\n",
       "      <th>x</th>\n",
       "      <th>y</th>\n",
       "      <th>dis</th>\n",
       "      <th>o</th>\n",
       "      <th>dir</th>\n",
       "      <th>Event</th>\n",
       "    </tr>\n",
       "  </thead>\n",
       "  <tbody>\n",
       "    <tr>\n",
       "      <th>0</th>\n",
       "      <td>2016</td>\n",
       "      <td>66</td>\n",
       "      <td>2035</td>\n",
       "      <td>27675.0</td>\n",
       "      <td>2016-09-09 02:22:30.700</td>\n",
       "      <td>71.959999</td>\n",
       "      <td>30.809999</td>\n",
       "      <td>0.55</td>\n",
       "      <td>196.910004</td>\n",
       "      <td>282.000000</td>\n",
       "      <td>NaN</td>\n",
       "    </tr>\n",
       "    <tr>\n",
       "      <th>1</th>\n",
       "      <td>2016</td>\n",
       "      <td>66</td>\n",
       "      <td>2035</td>\n",
       "      <td>31550.0</td>\n",
       "      <td>2016-09-09 02:22:30.700</td>\n",
       "      <td>53.910000</td>\n",
       "      <td>29.980000</td>\n",
       "      <td>0.82</td>\n",
       "      <td>185.470001</td>\n",
       "      <td>275.890015</td>\n",
       "      <td>NaN</td>\n",
       "    </tr>\n",
       "    <tr>\n",
       "      <th>2</th>\n",
       "      <td>2016</td>\n",
       "      <td>66</td>\n",
       "      <td>2035</td>\n",
       "      <td>30463.0</td>\n",
       "      <td>2016-09-09 02:22:30.700</td>\n",
       "      <td>57.770000</td>\n",
       "      <td>22.260000</td>\n",
       "      <td>0.71</td>\n",
       "      <td>176.639999</td>\n",
       "      <td>267.309998</td>\n",
       "      <td>NaN</td>\n",
       "    </tr>\n",
       "    <tr>\n",
       "      <th>3</th>\n",
       "      <td>2016</td>\n",
       "      <td>66</td>\n",
       "      <td>2035</td>\n",
       "      <td>22824.0</td>\n",
       "      <td>2016-09-09 02:22:30.800</td>\n",
       "      <td>74.070000</td>\n",
       "      <td>26.910000</td>\n",
       "      <td>0.08</td>\n",
       "      <td>167.850006</td>\n",
       "      <td>19.540001</td>\n",
       "      <td>NaN</td>\n",
       "    </tr>\n",
       "    <tr>\n",
       "      <th>4</th>\n",
       "      <td>2016</td>\n",
       "      <td>66</td>\n",
       "      <td>2035</td>\n",
       "      <td>32994.0</td>\n",
       "      <td>2016-09-09 02:22:30.800</td>\n",
       "      <td>56.540001</td>\n",
       "      <td>33.080002</td>\n",
       "      <td>0.86</td>\n",
       "      <td>193.350006</td>\n",
       "      <td>285.429993</td>\n",
       "      <td>NaN</td>\n",
       "    </tr>\n",
       "  </tbody>\n",
       "</table>\n",
       "</div>"
      ],
      "text/plain": [
       "   Season_Year  GameKey  PlayID   GSISID                     Time          x  \\\n",
       "0         2016       66    2035  27675.0  2016-09-09 02:22:30.700  71.959999   \n",
       "1         2016       66    2035  31550.0  2016-09-09 02:22:30.700  53.910000   \n",
       "2         2016       66    2035  30463.0  2016-09-09 02:22:30.700  57.770000   \n",
       "3         2016       66    2035  22824.0  2016-09-09 02:22:30.800  74.070000   \n",
       "4         2016       66    2035  32994.0  2016-09-09 02:22:30.800  56.540001   \n",
       "\n",
       "           y   dis           o         dir Event  \n",
       "0  30.809999  0.55  196.910004  282.000000   NaN  \n",
       "1  29.980000  0.82  185.470001  275.890015   NaN  \n",
       "2  22.260000  0.71  176.639999  267.309998   NaN  \n",
       "3  26.910000  0.08  167.850006   19.540001   NaN  \n",
       "4  33.080002  0.86  193.350006  285.429993   NaN  "
      ]
     },
     "execution_count": 123,
     "metadata": {},
     "output_type": "execute_result"
    }
   ],
   "source": [
    "gunners.head()"
   ]
  },
  {
   "cell_type": "code",
   "execution_count": 124,
   "metadata": {},
   "outputs": [],
   "source": [
    "rank_df = gunners.loc[(gunners.Season_Year == 2016) & (gunners.Event == 'ball_snap')].sort_values('Time')"
   ]
  },
  {
   "cell_type": "code",
   "execution_count": 126,
   "metadata": {},
   "outputs": [],
   "source": [
    "rank_df['rank'] = rank_df.groupby(['Season_Year','GameKey','PlayID','GSISID']).cumcount() +1"
   ]
  },
  {
   "cell_type": "code",
   "execution_count": 127,
   "metadata": {},
   "outputs": [],
   "source": [
    "rank_df = rank_df.loc[rank_df['rank'] == 1]"
   ]
  },
  {
   "cell_type": "code",
   "execution_count": 128,
   "metadata": {},
   "outputs": [],
   "source": [
    "g_merge = rank_df.merge(play_player_role, how = 'inner', on = ['Season_Year','GameKey','PlayID','GSISID'])"
   ]
  },
  {
   "cell_type": "code",
   "execution_count": 130,
   "metadata": {},
   "outputs": [],
   "source": [
    "# ax1 = plt.subplot()\n",
    "# ax1.scatter(g_merge.loc[g_merge.Event == 'line_set']['x'].reset_index(drop=True)\n",
    "#             ,g_merge.loc[g_merge.Event == 'line_set']['y'].reset_index(drop=True))\n",
    "# ax1.set_xlim([0,120])\n",
    "# ax1.set_ylim([0,53.3])\n",
    "# for i, txt in enumerate(g_merge.loc[g_merge.Event == 'line_set'].reset_index(drop=True)['Role']):\n",
    "#     ax1.annotate(txt,xy=(g_merge.loc[g_merge.Event == 'line_set']['x'].reset_index(drop=True)[i]\n",
    "#                            ,g_merge.loc[g_merge.Event == 'line_set']['y'].reset_index(drop=True)[i]))"
   ]
  },
  {
   "cell_type": "code",
   "execution_count": 131,
   "metadata": {},
   "outputs": [],
   "source": [
    "return_roles = ['PDL1','PDL2','PDL3','PDL4','PDL5','PDL6','PDM','PDR1','PDR2','PDR3','PDR4','PDR5','PDR6'\n",
    "                ,'PFB','PLL','PLL1','PLL2','PLL3','PLM','PLM1','PLR','PLR1','PLR2','PLR3','PR','VL','VLi'\n",
    "                ,'VLo','VR','VRi','VRo']\n",
    "\n",
    "coverage_roles = ['GL','GLi','GLo','GR','GRi','GRo','P','PC','PLG','PLS','PLT','PLW','PPL','PPLi','PPLo'\n",
    "                 ,'PPR','PPRi','PPRo','PRG','PRT','PRW']"
   ]
  },
  {
   "cell_type": "code",
   "execution_count": 132,
   "metadata": {},
   "outputs": [],
   "source": [
    "gunner_blockers = ['VL','VLi','VLo','VR','VRi','VRo']"
   ]
  },
  {
   "cell_type": "code",
   "execution_count": 133,
   "metadata": {},
   "outputs": [],
   "source": [
    "g_pre_snap = g_merge.loc[(g_merge['Role'].isin(gunner_blockers)) & (g_merge['Event'] == 'ball_snap')]"
   ]
  },
  {
   "cell_type": "code",
   "execution_count": 139,
   "metadata": {},
   "outputs": [],
   "source": [
    "gunner_blockers_per_play = g_pre_snap.groupby(['Season_Year','GameKey','PlayID'], as_index=False)['Role'] \\\n",
    "    .agg({'gunner_blocker_count': 'count'})\\\n",
    "    .sort_values('gunner_blocker_count', ascending =False)"
   ]
  },
  {
   "cell_type": "code",
   "execution_count": 145,
   "metadata": {},
   "outputs": [],
   "source": [
    "gunner_blockers_merged = gunner_blockers_per_play.merge(play_info, how ='left', on = ['Season_Year','GameKey','PlayID'])"
   ]
  },
  {
   "cell_type": "code",
   "execution_count": 146,
   "metadata": {},
   "outputs": [],
   "source": [
    "gunner_blockers_merged['fair_catch'] = gunner_blockers_merged.PlayDescription.str.contains('fair catch')"
   ]
  },
  {
   "cell_type": "code",
   "execution_count": 150,
   "metadata": {},
   "outputs": [],
   "source": [
    "gunner_summary = gunner_blockers_merged.groupby(['gunner_blocker_count'], as_index = False)['fair_catch'].agg([sum,'count'])"
   ]
  },
  {
   "cell_type": "code",
   "execution_count": 153,
   "metadata": {},
   "outputs": [],
   "source": [
    "gunner_summary['perc'] = gunner_summary['sum'] / gunner_summary['count']"
   ]
  },
  {
   "cell_type": "code",
   "execution_count": 154,
   "metadata": {},
   "outputs": [
    {
     "data": {
      "text/html": [
       "<div>\n",
       "<style>\n",
       "    .dataframe thead tr:only-child th {\n",
       "        text-align: right;\n",
       "    }\n",
       "\n",
       "    .dataframe thead th {\n",
       "        text-align: left;\n",
       "    }\n",
       "\n",
       "    .dataframe tbody tr th {\n",
       "        vertical-align: top;\n",
       "    }\n",
       "</style>\n",
       "<table border=\"1\" class=\"dataframe\">\n",
       "  <thead>\n",
       "    <tr style=\"text-align: right;\">\n",
       "      <th></th>\n",
       "      <th>sum</th>\n",
       "      <th>count</th>\n",
       "      <th>perc</th>\n",
       "    </tr>\n",
       "    <tr>\n",
       "      <th>gunner_blocker_count</th>\n",
       "      <th></th>\n",
       "      <th></th>\n",
       "      <th></th>\n",
       "    </tr>\n",
       "  </thead>\n",
       "  <tbody>\n",
       "    <tr>\n",
       "      <th>1</th>\n",
       "      <td>10.0</td>\n",
       "      <td>31</td>\n",
       "      <td>0.322581</td>\n",
       "    </tr>\n",
       "    <tr>\n",
       "      <th>2</th>\n",
       "      <td>460.0</td>\n",
       "      <td>1351</td>\n",
       "      <td>0.340489</td>\n",
       "    </tr>\n",
       "    <tr>\n",
       "      <th>3</th>\n",
       "      <td>151.0</td>\n",
       "      <td>751</td>\n",
       "      <td>0.201065</td>\n",
       "    </tr>\n",
       "    <tr>\n",
       "      <th>4</th>\n",
       "      <td>31.0</td>\n",
       "      <td>236</td>\n",
       "      <td>0.131356</td>\n",
       "    </tr>\n",
       "    <tr>\n",
       "      <th>5</th>\n",
       "      <td>0.0</td>\n",
       "      <td>1</td>\n",
       "      <td>0.000000</td>\n",
       "    </tr>\n",
       "  </tbody>\n",
       "</table>\n",
       "</div>"
      ],
      "text/plain": [
       "                        sum  count      perc\n",
       "gunner_blocker_count                        \n",
       "1                      10.0     31  0.322581\n",
       "2                     460.0   1351  0.340489\n",
       "3                     151.0    751  0.201065\n",
       "4                      31.0    236  0.131356\n",
       "5                       0.0      1  0.000000"
      ]
     },
     "execution_count": 154,
     "metadata": {},
     "output_type": "execute_result"
    }
   ],
   "source": [
    "gunner_summary"
   ]
  },
  {
   "cell_type": "code",
   "execution_count": 168,
   "metadata": {},
   "outputs": [],
   "source": [
    "gunner_summary_injury = gunner_blockers_merged.merge(video_footage_injury, how='inner', \n",
    "                             left_on = ['Season_Year','GameKey','PlayID'],\n",
    "                            right_on = ['season','gamekey','playid']) \\\n",
    "                            .groupby(['gunner_blocker_count'], as_index = False)['fair_catch'].agg([sum,'count'])"
   ]
  },
  {
   "cell_type": "code",
   "execution_count": 169,
   "metadata": {},
   "outputs": [],
   "source": [
    "gunner_summary_injury['perc'] = gunner_summary_injury['sum'] / gunner_summary_injury['count']"
   ]
  },
  {
   "cell_type": "code",
   "execution_count": 170,
   "metadata": {},
   "outputs": [
    {
     "data": {
      "text/html": [
       "<div>\n",
       "<style>\n",
       "    .dataframe thead tr:only-child th {\n",
       "        text-align: right;\n",
       "    }\n",
       "\n",
       "    .dataframe thead th {\n",
       "        text-align: left;\n",
       "    }\n",
       "\n",
       "    .dataframe tbody tr th {\n",
       "        vertical-align: top;\n",
       "    }\n",
       "</style>\n",
       "<table border=\"1\" class=\"dataframe\">\n",
       "  <thead>\n",
       "    <tr style=\"text-align: right;\">\n",
       "      <th></th>\n",
       "      <th>sum</th>\n",
       "      <th>count</th>\n",
       "      <th>perc</th>\n",
       "    </tr>\n",
       "    <tr>\n",
       "      <th>gunner_blocker_count</th>\n",
       "      <th></th>\n",
       "      <th></th>\n",
       "      <th></th>\n",
       "    </tr>\n",
       "  </thead>\n",
       "  <tbody>\n",
       "    <tr>\n",
       "      <th>2</th>\n",
       "      <td>False</td>\n",
       "      <td>4</td>\n",
       "      <td>0.000000</td>\n",
       "    </tr>\n",
       "    <tr>\n",
       "      <th>3</th>\n",
       "      <td>True</td>\n",
       "      <td>6</td>\n",
       "      <td>0.166667</td>\n",
       "    </tr>\n",
       "    <tr>\n",
       "      <th>4</th>\n",
       "      <td>False</td>\n",
       "      <td>3</td>\n",
       "      <td>0.000000</td>\n",
       "    </tr>\n",
       "  </tbody>\n",
       "</table>\n",
       "</div>"
      ],
      "text/plain": [
       "                        sum  count      perc\n",
       "gunner_blocker_count                        \n",
       "2                     False      4  0.000000\n",
       "3                      True      6  0.166667\n",
       "4                     False      3  0.000000"
      ]
     },
     "execution_count": 170,
     "metadata": {},
     "output_type": "execute_result"
    }
   ],
   "source": [
    "gunner_summary_injury"
   ]
  },
  {
   "cell_type": "code",
   "execution_count": 156,
   "metadata": {},
   "outputs": [
    {
     "data": {
      "text/html": [
       "<div>\n",
       "<style>\n",
       "    .dataframe thead tr:only-child th {\n",
       "        text-align: right;\n",
       "    }\n",
       "\n",
       "    .dataframe thead th {\n",
       "        text-align: left;\n",
       "    }\n",
       "\n",
       "    .dataframe tbody tr th {\n",
       "        vertical-align: top;\n",
       "    }\n",
       "</style>\n",
       "<table border=\"1\" class=\"dataframe\">\n",
       "  <thead>\n",
       "    <tr style=\"text-align: right;\">\n",
       "      <th></th>\n",
       "      <th>season</th>\n",
       "      <th>Type</th>\n",
       "      <th>Week</th>\n",
       "      <th>Home_team</th>\n",
       "      <th>Visit_Team</th>\n",
       "      <th>Qtr</th>\n",
       "      <th>PlayDescription</th>\n",
       "      <th>gamekey</th>\n",
       "      <th>playid</th>\n",
       "      <th>PREVIEW LINK (5000K)</th>\n",
       "    </tr>\n",
       "  </thead>\n",
       "  <tbody>\n",
       "    <tr>\n",
       "      <th>0</th>\n",
       "      <td>2016</td>\n",
       "      <td>Pre</td>\n",
       "      <td>2</td>\n",
       "      <td>Chicago Bears</td>\n",
       "      <td>Denver Broncos</td>\n",
       "      <td>3</td>\n",
       "      <td>(3:44) (Punt formation) P.O'Donnell punts 58 y...</td>\n",
       "      <td>5</td>\n",
       "      <td>3129</td>\n",
       "      <td>http://a.video.nfl.com//films/vodzilla/153233/...</td>\n",
       "    </tr>\n",
       "    <tr>\n",
       "      <th>1</th>\n",
       "      <td>2016</td>\n",
       "      <td>Pre</td>\n",
       "      <td>3</td>\n",
       "      <td>Tennessee Titans</td>\n",
       "      <td>Carolina Panthers</td>\n",
       "      <td>3</td>\n",
       "      <td>(5:52) (Punt formation) K.Redfern punts 36 yar...</td>\n",
       "      <td>21</td>\n",
       "      <td>2587</td>\n",
       "      <td>http://a.video.nfl.com//films/vodzilla/153234/...</td>\n",
       "    </tr>\n",
       "    <tr>\n",
       "      <th>2</th>\n",
       "      <td>2016</td>\n",
       "      <td>Pre</td>\n",
       "      <td>3</td>\n",
       "      <td>Washington Redskins</td>\n",
       "      <td>New York Jets</td>\n",
       "      <td>1</td>\n",
       "      <td>(4:46) L.Edwards punts 51 yards to WAS 27, Cen...</td>\n",
       "      <td>29</td>\n",
       "      <td>538</td>\n",
       "      <td>http://a.video.nfl.com//films/vodzilla/153235/...</td>\n",
       "    </tr>\n",
       "    <tr>\n",
       "      <th>3</th>\n",
       "      <td>2016</td>\n",
       "      <td>Pre</td>\n",
       "      <td>4</td>\n",
       "      <td>New York Jets</td>\n",
       "      <td>New York Giants</td>\n",
       "      <td>2</td>\n",
       "      <td>(8:29) B.Wing punts 44 yards to NYJ 10, Center...</td>\n",
       "      <td>45</td>\n",
       "      <td>1212</td>\n",
       "      <td>http://a.video.nfl.com//films/vodzilla/153236/...</td>\n",
       "    </tr>\n",
       "    <tr>\n",
       "      <th>4</th>\n",
       "      <td>2016</td>\n",
       "      <td>Pre</td>\n",
       "      <td>5</td>\n",
       "      <td>Detroit Lions</td>\n",
       "      <td>Buffalo Bills</td>\n",
       "      <td>1</td>\n",
       "      <td>(:38) C.Schmidt punts 46 yards to DET 8, Cente...</td>\n",
       "      <td>60</td>\n",
       "      <td>905</td>\n",
       "      <td>http://a.video.nfl.com//films/vodzilla/153237/...</td>\n",
       "    </tr>\n",
       "  </tbody>\n",
       "</table>\n",
       "</div>"
      ],
      "text/plain": [
       "   season Type  Week            Home_team         Visit_Team  Qtr  \\\n",
       "0    2016  Pre     2        Chicago Bears     Denver Broncos    3   \n",
       "1    2016  Pre     3     Tennessee Titans  Carolina Panthers    3   \n",
       "2    2016  Pre     3  Washington Redskins      New York Jets    1   \n",
       "3    2016  Pre     4        New York Jets    New York Giants    2   \n",
       "4    2016  Pre     5        Detroit Lions      Buffalo Bills    1   \n",
       "\n",
       "                                     PlayDescription  gamekey  playid  \\\n",
       "0  (3:44) (Punt formation) P.O'Donnell punts 58 y...        5    3129   \n",
       "1  (5:52) (Punt formation) K.Redfern punts 36 yar...       21    2587   \n",
       "2  (4:46) L.Edwards punts 51 yards to WAS 27, Cen...       29     538   \n",
       "3  (8:29) B.Wing punts 44 yards to NYJ 10, Center...       45    1212   \n",
       "4  (:38) C.Schmidt punts 46 yards to DET 8, Cente...       60     905   \n",
       "\n",
       "                                PREVIEW LINK (5000K)  \n",
       "0  http://a.video.nfl.com//films/vodzilla/153233/...  \n",
       "1  http://a.video.nfl.com//films/vodzilla/153234/...  \n",
       "2  http://a.video.nfl.com//films/vodzilla/153235/...  \n",
       "3  http://a.video.nfl.com//films/vodzilla/153236/...  \n",
       "4  http://a.video.nfl.com//films/vodzilla/153237/...  "
      ]
     },
     "execution_count": 156,
     "metadata": {},
     "output_type": "execute_result"
    }
   ],
   "source": [
    "video_footage_injury.head()"
   ]
  },
  {
   "cell_type": "code",
   "execution_count": 182,
   "metadata": {},
   "outputs": [
    {
     "data": {
      "text/html": [
       "<div>\n",
       "<style>\n",
       "    .dataframe thead tr:only-child th {\n",
       "        text-align: right;\n",
       "    }\n",
       "\n",
       "    .dataframe thead th {\n",
       "        text-align: left;\n",
       "    }\n",
       "\n",
       "    .dataframe tbody tr th {\n",
       "        vertical-align: top;\n",
       "    }\n",
       "</style>\n",
       "<table border=\"1\" class=\"dataframe\">\n",
       "  <thead>\n",
       "    <tr style=\"text-align: right;\">\n",
       "      <th></th>\n",
       "      <th>Season_Year</th>\n",
       "      <th>GameKey</th>\n",
       "      <th>PlayID</th>\n",
       "      <th>GSISID</th>\n",
       "      <th>Role</th>\n",
       "    </tr>\n",
       "  </thead>\n",
       "  <tbody>\n",
       "    <tr>\n",
       "      <th>11350</th>\n",
       "      <td>2016</td>\n",
       "      <td>280</td>\n",
       "      <td>2918</td>\n",
       "      <td>26725</td>\n",
       "      <td>PRG</td>\n",
       "    </tr>\n",
       "    <tr>\n",
       "      <th>12552</th>\n",
       "      <td>2016</td>\n",
       "      <td>280</td>\n",
       "      <td>2918</td>\n",
       "      <td>27654</td>\n",
       "      <td>GL</td>\n",
       "    </tr>\n",
       "    <tr>\n",
       "      <th>19108</th>\n",
       "      <td>2016</td>\n",
       "      <td>280</td>\n",
       "      <td>2918</td>\n",
       "      <td>28029</td>\n",
       "      <td>PDR2</td>\n",
       "    </tr>\n",
       "    <tr>\n",
       "      <th>19998</th>\n",
       "      <td>2016</td>\n",
       "      <td>280</td>\n",
       "      <td>2918</td>\n",
       "      <td>28069</td>\n",
       "      <td>GR</td>\n",
       "    </tr>\n",
       "    <tr>\n",
       "      <th>31610</th>\n",
       "      <td>2016</td>\n",
       "      <td>280</td>\n",
       "      <td>2918</td>\n",
       "      <td>29304</td>\n",
       "      <td>P</td>\n",
       "    </tr>\n",
       "    <tr>\n",
       "      <th>39810</th>\n",
       "      <td>2016</td>\n",
       "      <td>280</td>\n",
       "      <td>2918</td>\n",
       "      <td>29510</td>\n",
       "      <td>PDR3</td>\n",
       "    </tr>\n",
       "    <tr>\n",
       "      <th>40499</th>\n",
       "      <td>2016</td>\n",
       "      <td>280</td>\n",
       "      <td>2918</td>\n",
       "      <td>31491</td>\n",
       "      <td>PDL2</td>\n",
       "    </tr>\n",
       "    <tr>\n",
       "      <th>53446</th>\n",
       "      <td>2016</td>\n",
       "      <td>280</td>\n",
       "      <td>2918</td>\n",
       "      <td>29959</td>\n",
       "      <td>PLS</td>\n",
       "    </tr>\n",
       "    <tr>\n",
       "      <th>65871</th>\n",
       "      <td>2016</td>\n",
       "      <td>280</td>\n",
       "      <td>2918</td>\n",
       "      <td>31075</td>\n",
       "      <td>PDL1</td>\n",
       "    </tr>\n",
       "    <tr>\n",
       "      <th>66795</th>\n",
       "      <td>2016</td>\n",
       "      <td>280</td>\n",
       "      <td>2918</td>\n",
       "      <td>31085</td>\n",
       "      <td>PDL4</td>\n",
       "    </tr>\n",
       "    <tr>\n",
       "      <th>85676</th>\n",
       "      <td>2016</td>\n",
       "      <td>280</td>\n",
       "      <td>2918</td>\n",
       "      <td>31600</td>\n",
       "      <td>VRi</td>\n",
       "    </tr>\n",
       "    <tr>\n",
       "      <th>87408</th>\n",
       "      <td>2016</td>\n",
       "      <td>280</td>\n",
       "      <td>2918</td>\n",
       "      <td>32171</td>\n",
       "      <td>PLG</td>\n",
       "    </tr>\n",
       "    <tr>\n",
       "      <th>87660</th>\n",
       "      <td>2016</td>\n",
       "      <td>280</td>\n",
       "      <td>2918</td>\n",
       "      <td>32120</td>\n",
       "      <td>PLW</td>\n",
       "    </tr>\n",
       "    <tr>\n",
       "      <th>90198</th>\n",
       "      <td>2016</td>\n",
       "      <td>280</td>\n",
       "      <td>2918</td>\n",
       "      <td>31688</td>\n",
       "      <td>VRo</td>\n",
       "    </tr>\n",
       "    <tr>\n",
       "      <th>92066</th>\n",
       "      <td>2016</td>\n",
       "      <td>280</td>\n",
       "      <td>2918</td>\n",
       "      <td>31731</td>\n",
       "      <td>PPR</td>\n",
       "    </tr>\n",
       "    <tr>\n",
       "      <th>92536</th>\n",
       "      <td>2016</td>\n",
       "      <td>280</td>\n",
       "      <td>2918</td>\n",
       "      <td>31743</td>\n",
       "      <td>VL</td>\n",
       "    </tr>\n",
       "    <tr>\n",
       "      <th>98410</th>\n",
       "      <td>2016</td>\n",
       "      <td>280</td>\n",
       "      <td>2918</td>\n",
       "      <td>32050</td>\n",
       "      <td>PDL3</td>\n",
       "    </tr>\n",
       "    <tr>\n",
       "      <th>100062</th>\n",
       "      <td>2016</td>\n",
       "      <td>280</td>\n",
       "      <td>2918</td>\n",
       "      <td>33127</td>\n",
       "      <td>PR</td>\n",
       "    </tr>\n",
       "    <tr>\n",
       "      <th>100567</th>\n",
       "      <td>2016</td>\n",
       "      <td>280</td>\n",
       "      <td>2918</td>\n",
       "      <td>32968</td>\n",
       "      <td>PRT</td>\n",
       "    </tr>\n",
       "    <tr>\n",
       "      <th>120414</th>\n",
       "      <td>2016</td>\n",
       "      <td>280</td>\n",
       "      <td>2918</td>\n",
       "      <td>32525</td>\n",
       "      <td>PRW</td>\n",
       "    </tr>\n",
       "    <tr>\n",
       "      <th>125920</th>\n",
       "      <td>2016</td>\n",
       "      <td>280</td>\n",
       "      <td>2918</td>\n",
       "      <td>32725</td>\n",
       "      <td>PDR1</td>\n",
       "    </tr>\n",
       "    <tr>\n",
       "      <th>128105</th>\n",
       "      <td>2016</td>\n",
       "      <td>280</td>\n",
       "      <td>2918</td>\n",
       "      <td>32864</td>\n",
       "      <td>PLT</td>\n",
       "    </tr>\n",
       "  </tbody>\n",
       "</table>\n",
       "</div>"
      ],
      "text/plain": [
       "        Season_Year  GameKey  PlayID  GSISID  Role\n",
       "11350          2016      280    2918   26725   PRG\n",
       "12552          2016      280    2918   27654    GL\n",
       "19108          2016      280    2918   28029  PDR2\n",
       "19998          2016      280    2918   28069    GR\n",
       "31610          2016      280    2918   29304     P\n",
       "39810          2016      280    2918   29510  PDR3\n",
       "40499          2016      280    2918   31491  PDL2\n",
       "53446          2016      280    2918   29959   PLS\n",
       "65871          2016      280    2918   31075  PDL1\n",
       "66795          2016      280    2918   31085  PDL4\n",
       "85676          2016      280    2918   31600   VRi\n",
       "87408          2016      280    2918   32171   PLG\n",
       "87660          2016      280    2918   32120   PLW\n",
       "90198          2016      280    2918   31688   VRo\n",
       "92066          2016      280    2918   31731   PPR\n",
       "92536          2016      280    2918   31743    VL\n",
       "98410          2016      280    2918   32050  PDL3\n",
       "100062         2016      280    2918   33127    PR\n",
       "100567         2016      280    2918   32968   PRT\n",
       "120414         2016      280    2918   32525   PRW\n",
       "125920         2016      280    2918   32725  PDR1\n",
       "128105         2016      280    2918   32864   PLT"
      ]
     },
     "execution_count": 182,
     "metadata": {},
     "output_type": "execute_result"
    }
   ],
   "source": [
    "play_player_role.loc[(play_player_role.Season_Year == 2016) & (play_player_role.GameKey == 280)\n",
    "                     & (play_player_role.PlayID == 2918)]"
   ]
  },
  {
   "cell_type": "code",
   "execution_count": 280,
   "metadata": {},
   "outputs": [],
   "source": [
    "test_play = NGS_2016.loc[(NGS_2016.GameKey == 280) & (NGS_2016.PlayID == 2918)]\\\n",
    "    .sort_values('Time').reset_index(drop=True)"
   ]
  },
  {
   "cell_type": "code",
   "execution_count": 281,
   "metadata": {},
   "outputs": [],
   "source": [
    "from datetime import datetime"
   ]
  },
  {
   "cell_type": "code",
   "execution_count": 282,
   "metadata": {},
   "outputs": [],
   "source": [
    "single_play_events = NGS_2016.loc[(NGS_2016.GameKey == 280) & (NGS_2016.PlayID == 2918)]\\\n",
    "    .groupby(['Time','Event'], as_index=False)\\\n",
    "    .count().sort_values('Time')\n",
    "\n",
    "single_play_events['datetime'] = pd.to_datetime(single_play_events['Time'], format='%Y-%m-%d %H:%M:%S.%f')"
   ]
  },
  {
   "cell_type": "code",
   "execution_count": 283,
   "metadata": {},
   "outputs": [],
   "source": [
    "test_play['Time'] = pd.to_datetime(test_play['Time'], format='%Y-%m-%d %H:%M:%S.%f')"
   ]
  },
  {
   "cell_type": "code",
   "execution_count": 346,
   "metadata": {},
   "outputs": [],
   "source": [
    "val = single_play_events.loc[single_play_events.Event == 'punt']['datetime']  \\\n",
    "              - pd.Timedelta(seconds=4)"
   ]
  },
  {
   "cell_type": "code",
   "execution_count": 347,
   "metadata": {},
   "outputs": [],
   "source": [
    "import math"
   ]
  },
  {
   "cell_type": "code",
   "execution_count": 348,
   "metadata": {},
   "outputs": [],
   "source": [
    "from scipy.spatial import distance"
   ]
  },
  {
   "cell_type": "code",
   "execution_count": 349,
   "metadata": {},
   "outputs": [],
   "source": [
    "def euclid_distance(x1, y1, x2, y2):\n",
    "  # Euclidean distance between points.\n",
    "    dist = math.sqrt((x1 - x2)**2 + (y1 - y2)**2)\n",
    "    return dist"
   ]
  },
  {
   "cell_type": "code",
   "execution_count": 350,
   "metadata": {},
   "outputs": [],
   "source": [
    "test_returner = test_play.loc[(test_play.Event == 'fair_catch') & (test_play.GSISID == 33127)].reset_index(drop=True)"
   ]
  },
  {
   "cell_type": "code",
   "execution_count": 356,
   "metadata": {},
   "outputs": [
    {
     "data": {
      "text/plain": [
       "(0    40.630001\n",
       " Name: x, dtype: float64, 0    33.330002\n",
       " Name: y, dtype: float64)"
      ]
     },
     "execution_count": 356,
     "metadata": {},
     "output_type": "execute_result"
    }
   ],
   "source": [
    "test_returner['x'], test_returner['y']"
   ]
  },
  {
   "cell_type": "code",
   "execution_count": 352,
   "metadata": {},
   "outputs": [],
   "source": [
    "test_players = test_play.loc[test_play.Time ==val.reset_index(drop=True)[0]].reset_index()"
   ]
  },
  {
   "cell_type": "code",
   "execution_count": 353,
   "metadata": {},
   "outputs": [],
   "source": [
    "dist_lst = []\n",
    "for i in range(0, len(test_players)):\n",
    "    coords = test_players['x'][i], test_players['y'][i]\n",
    "    dist = euclid_distance(test_returner['x'][0], test_returner['y'][0], coords[0], coords[1])\n",
    "    dist_lst.append(dist)"
   ]
  },
  {
   "cell_type": "code",
   "execution_count": 354,
   "metadata": {},
   "outputs": [],
   "source": [
    "test_players['dist_lst'] = dist_lst"
   ]
  },
  {
   "cell_type": "code",
   "execution_count": 344,
   "metadata": {},
   "outputs": [
    {
     "data": {
      "text/html": [
       "<div>\n",
       "<style>\n",
       "    .dataframe thead tr:only-child th {\n",
       "        text-align: right;\n",
       "    }\n",
       "\n",
       "    .dataframe thead th {\n",
       "        text-align: left;\n",
       "    }\n",
       "\n",
       "    .dataframe tbody tr th {\n",
       "        vertical-align: top;\n",
       "    }\n",
       "</style>\n",
       "<table border=\"1\" class=\"dataframe\">\n",
       "  <thead>\n",
       "    <tr style=\"text-align: right;\">\n",
       "      <th></th>\n",
       "      <th>index</th>\n",
       "      <th>Season_Year</th>\n",
       "      <th>GameKey</th>\n",
       "      <th>PlayID</th>\n",
       "      <th>GSISID</th>\n",
       "      <th>Time</th>\n",
       "      <th>x</th>\n",
       "      <th>y</th>\n",
       "      <th>dis</th>\n",
       "      <th>o</th>\n",
       "      <th>dir</th>\n",
       "      <th>Event</th>\n",
       "      <th>dist_lst</th>\n",
       "    </tr>\n",
       "  </thead>\n",
       "  <tbody>\n",
       "    <tr>\n",
       "      <th>0</th>\n",
       "      <td>3623</td>\n",
       "      <td>2016</td>\n",
       "      <td>280</td>\n",
       "      <td>2918</td>\n",
       "      <td>32864.0</td>\n",
       "      <td>2016-12-18 20:20:50.300</td>\n",
       "      <td>90.400002</td>\n",
       "      <td>27.950001</td>\n",
       "      <td>0.05</td>\n",
       "      <td>163.919998</td>\n",
       "      <td>99.690002</td>\n",
       "      <td>NaN</td>\n",
       "      <td>50.059938</td>\n",
       "    </tr>\n",
       "    <tr>\n",
       "      <th>1</th>\n",
       "      <td>3624</td>\n",
       "      <td>2016</td>\n",
       "      <td>280</td>\n",
       "      <td>2918</td>\n",
       "      <td>33127.0</td>\n",
       "      <td>2016-12-18 20:20:50.300</td>\n",
       "      <td>30.549999</td>\n",
       "      <td>30.309999</td>\n",
       "      <td>0.04</td>\n",
       "      <td>350.970001</td>\n",
       "      <td>45.660000</td>\n",
       "      <td>NaN</td>\n",
       "      <td>10.522683</td>\n",
       "    </tr>\n",
       "    <tr>\n",
       "      <th>2</th>\n",
       "      <td>3625</td>\n",
       "      <td>2016</td>\n",
       "      <td>280</td>\n",
       "      <td>2918</td>\n",
       "      <td>31085.0</td>\n",
       "      <td>2016-12-18 20:20:50.300</td>\n",
       "      <td>88.720001</td>\n",
       "      <td>30.600000</td>\n",
       "      <td>0.08</td>\n",
       "      <td>8.160000</td>\n",
       "      <td>113.750000</td>\n",
       "      <td>NaN</td>\n",
       "      <td>48.167427</td>\n",
       "    </tr>\n",
       "    <tr>\n",
       "      <th>3</th>\n",
       "      <td>3626</td>\n",
       "      <td>2016</td>\n",
       "      <td>280</td>\n",
       "      <td>2918</td>\n",
       "      <td>28069.0</td>\n",
       "      <td>2016-12-18 20:20:50.300</td>\n",
       "      <td>90.739998</td>\n",
       "      <td>45.450001</td>\n",
       "      <td>0.02</td>\n",
       "      <td>179.940002</td>\n",
       "      <td>284.640015</td>\n",
       "      <td>NaN</td>\n",
       "      <td>51.554885</td>\n",
       "    </tr>\n",
       "    <tr>\n",
       "      <th>4</th>\n",
       "      <td>3627</td>\n",
       "      <td>2016</td>\n",
       "      <td>280</td>\n",
       "      <td>2918</td>\n",
       "      <td>31600.0</td>\n",
       "      <td>2016-12-18 20:20:50.300</td>\n",
       "      <td>87.919998</td>\n",
       "      <td>10.930000</td>\n",
       "      <td>0.05</td>\n",
       "      <td>16.260000</td>\n",
       "      <td>331.739990</td>\n",
       "      <td>NaN</td>\n",
       "      <td>52.326895</td>\n",
       "    </tr>\n",
       "  </tbody>\n",
       "</table>\n",
       "</div>"
      ],
      "text/plain": [
       "   index  Season_Year  GameKey  PlayID   GSISID                    Time  \\\n",
       "0   3623         2016      280    2918  32864.0 2016-12-18 20:20:50.300   \n",
       "1   3624         2016      280    2918  33127.0 2016-12-18 20:20:50.300   \n",
       "2   3625         2016      280    2918  31085.0 2016-12-18 20:20:50.300   \n",
       "3   3626         2016      280    2918  28069.0 2016-12-18 20:20:50.300   \n",
       "4   3627         2016      280    2918  31600.0 2016-12-18 20:20:50.300   \n",
       "\n",
       "           x          y   dis           o         dir Event   dist_lst  \n",
       "0  90.400002  27.950001  0.05  163.919998   99.690002   NaN  50.059938  \n",
       "1  30.549999  30.309999  0.04  350.970001   45.660000   NaN  10.522683  \n",
       "2  88.720001  30.600000  0.08    8.160000  113.750000   NaN  48.167427  \n",
       "3  90.739998  45.450001  0.02  179.940002  284.640015   NaN  51.554885  \n",
       "4  87.919998  10.930000  0.05   16.260000  331.739990   NaN  52.326895  "
      ]
     },
     "execution_count": 344,
     "metadata": {},
     "output_type": "execute_result"
    }
   ],
   "source": [
    "test_players.head()"
   ]
  },
  {
   "cell_type": "code",
   "execution_count": 365,
   "metadata": {},
   "outputs": [
    {
     "data": {
      "text/plain": [
       "play_submit                 93577\n",
       "punt_play                   61205\n",
       "ball_snap                   52983\n",
       "punt                        52437\n",
       "line_set                    50806\n",
       "punt_received               23499\n",
       "tackle                      18051\n",
       "penalty_flag                17283\n",
       "fair_catch                  14863\n",
       "out_of_bounds                9931\n",
       "penalty_accepted             9238\n",
       "punt_downed                  7862\n",
       "touchback                    3486\n",
       "huddle_start_offense         2050\n",
       "fumble                       1968\n",
       "huddle_break_offense         1861\n",
       "fumble_offense_recovered     1570\n",
       "timeout_tv                   1487\n",
       "fumble_defense_recovered     1021\n",
       "man_in_motion                 753\n",
       "touchdown                     512\n",
       "shift                         419\n",
       "penalty_declined              322\n",
       "punt_blocked                  285\n",
       "punt_fake                     265\n",
       "kick_received                 221\n",
       "run                           199\n",
       "pass_forward                  155\n",
       "pass_outcome_caught           111\n",
       "pass_lateral                   88\n",
       "timeout_home                   86\n",
       "safety                         80\n",
       "timeout_injury                 48\n",
       "pass_outcome_incomplete        45\n",
       "kick_recovered                 44\n",
       "two_minute_warning             43\n",
       "field_goal_play                22\n",
       "handoff                        22\n",
       "Name: Event, dtype: int64"
      ]
     },
     "execution_count": 365,
     "metadata": {},
     "output_type": "execute_result"
    }
   ],
   "source": [
    "NGS_2016.Event.value_counts()"
   ]
  },
  {
   "cell_type": "markdown",
   "metadata": {},
   "source": [
    "### Calculate hang time of punts"
   ]
  },
  {
   "cell_type": "code",
   "execution_count": 391,
   "metadata": {},
   "outputs": [],
   "source": [
    "punt_event = NGS_2016.loc[NGS_2016.Event == 'punt'].groupby(['Season_Year', 'GameKey','PlayID'], as_index = False)['Time'].min()\n",
    "punt_event.rename(columns = {'Time':'punt_time'}, inplace=True)\n",
    "punt_event['punt_time'] = pd.to_datetime(punt_event['punt_time'], format='%Y-%m-%d %H:%M:%S.%f')"
   ]
  },
  {
   "cell_type": "code",
   "execution_count": 392,
   "metadata": {},
   "outputs": [],
   "source": [
    "received_event = NGS_2016.loc[(NGS_2016.Event == 'punt_received') | (NGS_2016.Event == 'fair_catch')].groupby(['Season_Year', 'GameKey','PlayID'], as_index = False)['Time'].min()\n",
    "received_event.rename(columns = {'Time':'received_time'}, inplace=True)\n",
    "received_event['received_time'] = pd.to_datetime(received_event['received_time'], format='%Y-%m-%d %H:%M:%S.%f')"
   ]
  },
  {
   "cell_type": "code",
   "execution_count": 393,
   "metadata": {},
   "outputs": [],
   "source": [
    "punt_df = punt_event.merge(received_event, how='inner', on = ['Season_Year','GameKey','PlayID'])"
   ]
  },
  {
   "cell_type": "code",
   "execution_count": 397,
   "metadata": {},
   "outputs": [],
   "source": [
    "punt_df['hang_time'] = punt_df['received_time'] - punt_df['punt_time']"
   ]
  },
  {
   "cell_type": "code",
   "execution_count": 423,
   "metadata": {},
   "outputs": [
    {
     "data": {
      "text/plain": [
       "<matplotlib.axes._subplots.AxesSubplot at 0x11ce22710>"
      ]
     },
     "execution_count": 423,
     "metadata": {},
     "output_type": "execute_result"
    },
    {
     "data": {
      "image/png": "[encoded data removed]",
      "text/plain": [
       "<Figure size 432x288 with 1 Axes>"
      ]
     },
     "metadata": {
      "needs_background": "light"
     },
     "output_type": "display_data"
    }
   ],
   "source": [
    "(punt_df['hang_time'].astype(int) / 1000000000).hist()"
   ]
  },
  {
   "cell_type": "code",
   "execution_count": 440,
   "metadata": {},
   "outputs": [
    {
     "data": {
      "text/plain": [
       "'4.53'"
      ]
     },
     "execution_count": 440,
     "metadata": {},
     "output_type": "execute_result"
    }
   ],
   "source": [
    "str(punt_df['hang_time'].mean().seconds) + '.' + str(punt_df['hang_time'].mean().microseconds)[:2]"
   ]
  },
  {
   "cell_type": "code",
   "execution_count": 441,
   "metadata": {},
   "outputs": [
    {
     "data": {
      "text/plain": [
       "'4.50'"
      ]
     },
     "execution_count": 441,
     "metadata": {},
     "output_type": "execute_result"
    }
   ],
   "source": [
    "str(punt_df['hang_time'].median().seconds) + '.' + str(punt_df['hang_time'].median().microseconds)[:2]"
   ]
  },
  {
   "cell_type": "markdown",
   "metadata": {},
   "source": [
    "### Calculate distance between returner and closest coverage man at every half of a second"
   ]
  },
  {
   "cell_type": "code",
   "execution_count": 536,
   "metadata": {},
   "outputs": [],
   "source": [
    "test_play = NGS_2016.loc[(NGS_2016.GameKey == 280) & (NGS_2016.PlayID == 2918)]\\\n",
    "    .sort_values('Time').reset_index(drop=True)"
   ]
  },
  {
   "cell_type": "code",
   "execution_count": 537,
   "metadata": {},
   "outputs": [],
   "source": [
    "test_play_merged = test_play.merge(play_player_role, how='inner', on = ['Season_Year','GameKey','PlayID','GSISID'])\n",
    "test_play_merged['Time'] = pd.to_datetime(test_play_merged['Time'], format='%Y-%m-%d %H:%M:%S.%f')"
   ]
  },
  {
   "cell_type": "code",
   "execution_count": 569,
   "metadata": {},
   "outputs": [],
   "source": [
    "punt_event_time = test_play_merged.loc[test_play_merged.Event == 'punt'].Time.min()\n",
    "receiving_event_time = test_play_merged.loc[(test_play_merged.Event == 'punt_received') | (test_play_merged.Event == 'fair_catch')].Time.min()"
   ]
  },
  {
   "cell_type": "code",
   "execution_count": 570,
   "metadata": {},
   "outputs": [],
   "source": [
    "coverage_test = test_play_merged.loc[test_play_merged['Role'].isin(coverage_roles)].sort_values('Time')\n",
    "coverage_test.rename(columns={'x':'cov_x', \n",
    "                              'y': 'cov_y',\n",
    "                              'GSISID': 'cov_GSISID',\n",
    "                              'dis': 'cov_dis',\n",
    "                              'o': 'cov_o',\n",
    "                              'dir': 'cov_dir',\n",
    "                              'Role': 'cov_Role'\n",
    "                             }, inplace=True)"
   ]
  },
  {
   "cell_type": "code",
   "execution_count": 571,
   "metadata": {},
   "outputs": [],
   "source": [
    "returner_test = test_play_merged.loc[test_play_merged['Role'] == 'PR'].sort_values('Time')\n",
    "returner_test.rename(columns={'x':'ret_x', \n",
    "                              'y': 'ret_y',\n",
    "                              'GSISID': 'ret_GSISID',\n",
    "                              'dis': 'ret_dis',\n",
    "                              'o': 'ret_o',\n",
    "                              'dir': 'ret_dir',\n",
    "                              'Role': 'ret_Role'\n",
    "                             }, inplace=True)\n",
    "\n",
    "returner_test = returner_test.drop('Event', axis = 1)"
   ]
  },
  {
   "cell_type": "code",
   "execution_count": 572,
   "metadata": {},
   "outputs": [],
   "source": [
    "cov_ret = coverage_test.merge(returner_test, how ='inner', on = ['Season_Year','GameKey','PlayID','Time'])"
   ]
  },
  {
   "cell_type": "code",
   "execution_count": 573,
   "metadata": {},
   "outputs": [],
   "source": [
    "cov_ret['dis_from_ret'] = ((cov_ret['cov_x'] -  cov_ret['ret_x']) ** 2 + (cov_ret['cov_y'] -  cov_ret['ret_y']) ** 2).apply(np.sqrt)"
   ]
  },
  {
   "cell_type": "code",
   "execution_count": 574,
   "metadata": {},
   "outputs": [
    {
     "data": {
      "text/html": [
       "<div>\n",
       "<style>\n",
       "    .dataframe thead tr:only-child th {\n",
       "        text-align: right;\n",
       "    }\n",
       "\n",
       "    .dataframe thead th {\n",
       "        text-align: left;\n",
       "    }\n",
       "\n",
       "    .dataframe tbody tr th {\n",
       "        vertical-align: top;\n",
       "    }\n",
       "</style>\n",
       "<table border=\"1\" class=\"dataframe\">\n",
       "  <thead>\n",
       "    <tr style=\"text-align: right;\">\n",
       "      <th></th>\n",
       "      <th>Season_Year</th>\n",
       "      <th>GameKey</th>\n",
       "      <th>PlayID</th>\n",
       "      <th>cov_GSISID</th>\n",
       "      <th>Time</th>\n",
       "      <th>cov_x</th>\n",
       "      <th>cov_y</th>\n",
       "      <th>cov_dis</th>\n",
       "      <th>cov_o</th>\n",
       "      <th>cov_dir</th>\n",
       "      <th>Event</th>\n",
       "      <th>cov_Role</th>\n",
       "      <th>ret_GSISID</th>\n",
       "      <th>ret_x</th>\n",
       "      <th>ret_y</th>\n",
       "      <th>ret_dis</th>\n",
       "      <th>ret_o</th>\n",
       "      <th>ret_dir</th>\n",
       "      <th>ret_Role</th>\n",
       "      <th>dis_from_ret</th>\n",
       "    </tr>\n",
       "  </thead>\n",
       "  <tbody>\n",
       "    <tr>\n",
       "      <th>4045</th>\n",
       "      <td>2016</td>\n",
       "      <td>280</td>\n",
       "      <td>2918</td>\n",
       "      <td>26725</td>\n",
       "      <td>2016-12-18 20:21:12.300</td>\n",
       "      <td>44.700001</td>\n",
       "      <td>41.959999</td>\n",
       "      <td>0.14</td>\n",
       "      <td>266.220001</td>\n",
       "      <td>353.890015</td>\n",
       "      <td>NaN</td>\n",
       "      <td>PRG</td>\n",
       "      <td>33127</td>\n",
       "      <td>36.459999</td>\n",
       "      <td>26.16</td>\n",
       "      <td>0.1</td>\n",
       "      <td>187.300003</td>\n",
       "      <td>296.850006</td>\n",
       "      <td>PR</td>\n",
       "      <td>17.819585</td>\n",
       "    </tr>\n",
       "    <tr>\n",
       "      <th>4041</th>\n",
       "      <td>2016</td>\n",
       "      <td>280</td>\n",
       "      <td>2918</td>\n",
       "      <td>32171</td>\n",
       "      <td>2016-12-18 20:21:12.300</td>\n",
       "      <td>52.720001</td>\n",
       "      <td>38.139999</td>\n",
       "      <td>0.30</td>\n",
       "      <td>326.140015</td>\n",
       "      <td>52.080002</td>\n",
       "      <td>NaN</td>\n",
       "      <td>PLG</td>\n",
       "      <td>33127</td>\n",
       "      <td>36.459999</td>\n",
       "      <td>26.16</td>\n",
       "      <td>0.1</td>\n",
       "      <td>187.300003</td>\n",
       "      <td>296.850006</td>\n",
       "      <td>PR</td>\n",
       "      <td>20.196734</td>\n",
       "    </tr>\n",
       "    <tr>\n",
       "      <th>4040</th>\n",
       "      <td>2016</td>\n",
       "      <td>280</td>\n",
       "      <td>2918</td>\n",
       "      <td>32968</td>\n",
       "      <td>2016-12-18 20:21:12.300</td>\n",
       "      <td>38.639999</td>\n",
       "      <td>47.740002</td>\n",
       "      <td>0.23</td>\n",
       "      <td>285.480011</td>\n",
       "      <td>18.980000</td>\n",
       "      <td>NaN</td>\n",
       "      <td>PRT</td>\n",
       "      <td>33127</td>\n",
       "      <td>36.459999</td>\n",
       "      <td>26.16</td>\n",
       "      <td>0.1</td>\n",
       "      <td>187.300003</td>\n",
       "      <td>296.850006</td>\n",
       "      <td>PR</td>\n",
       "      <td>21.689834</td>\n",
       "    </tr>\n",
       "    <tr>\n",
       "      <th>4042</th>\n",
       "      <td>2016</td>\n",
       "      <td>280</td>\n",
       "      <td>2918</td>\n",
       "      <td>28069</td>\n",
       "      <td>2016-12-18 20:21:12.300</td>\n",
       "      <td>43.759998</td>\n",
       "      <td>52.619999</td>\n",
       "      <td>0.08</td>\n",
       "      <td>305.440002</td>\n",
       "      <td>49.320000</td>\n",
       "      <td>NaN</td>\n",
       "      <td>GR</td>\n",
       "      <td>33127</td>\n",
       "      <td>36.459999</td>\n",
       "      <td>26.16</td>\n",
       "      <td>0.1</td>\n",
       "      <td>187.300003</td>\n",
       "      <td>296.850006</td>\n",
       "      <td>PR</td>\n",
       "      <td>27.448525</td>\n",
       "    </tr>\n",
       "    <tr>\n",
       "      <th>4043</th>\n",
       "      <td>2016</td>\n",
       "      <td>280</td>\n",
       "      <td>2918</td>\n",
       "      <td>29304</td>\n",
       "      <td>2016-12-18 20:21:12.300</td>\n",
       "      <td>47.970001</td>\n",
       "      <td>54.040001</td>\n",
       "      <td>0.14</td>\n",
       "      <td>132.369995</td>\n",
       "      <td>242.970001</td>\n",
       "      <td>NaN</td>\n",
       "      <td>P</td>\n",
       "      <td>33127</td>\n",
       "      <td>36.459999</td>\n",
       "      <td>26.16</td>\n",
       "      <td>0.1</td>\n",
       "      <td>187.300003</td>\n",
       "      <td>296.850006</td>\n",
       "      <td>PR</td>\n",
       "      <td>30.162470</td>\n",
       "    </tr>\n",
       "    <tr>\n",
       "      <th>4044</th>\n",
       "      <td>2016</td>\n",
       "      <td>280</td>\n",
       "      <td>2918</td>\n",
       "      <td>32864</td>\n",
       "      <td>2016-12-18 20:21:12.300</td>\n",
       "      <td>64.199997</td>\n",
       "      <td>38.250000</td>\n",
       "      <td>0.30</td>\n",
       "      <td>240.919998</td>\n",
       "      <td>339.929993</td>\n",
       "      <td>NaN</td>\n",
       "      <td>PLT</td>\n",
       "      <td>33127</td>\n",
       "      <td>36.459999</td>\n",
       "      <td>26.16</td>\n",
       "      <td>0.1</td>\n",
       "      <td>187.300003</td>\n",
       "      <td>296.850006</td>\n",
       "      <td>PR</td>\n",
       "      <td>30.260132</td>\n",
       "    </tr>\n",
       "    <tr>\n",
       "      <th>4037</th>\n",
       "      <td>2016</td>\n",
       "      <td>280</td>\n",
       "      <td>2918</td>\n",
       "      <td>29959</td>\n",
       "      <td>2016-12-18 20:21:12.300</td>\n",
       "      <td>39.840000</td>\n",
       "      <td>56.459999</td>\n",
       "      <td>0.08</td>\n",
       "      <td>330.589996</td>\n",
       "      <td>23.990000</td>\n",
       "      <td>NaN</td>\n",
       "      <td>PLS</td>\n",
       "      <td>33127</td>\n",
       "      <td>36.459999</td>\n",
       "      <td>26.16</td>\n",
       "      <td>0.1</td>\n",
       "      <td>187.300003</td>\n",
       "      <td>296.850006</td>\n",
       "      <td>PR</td>\n",
       "      <td>30.487938</td>\n",
       "    </tr>\n",
       "    <tr>\n",
       "      <th>4039</th>\n",
       "      <td>2016</td>\n",
       "      <td>280</td>\n",
       "      <td>2918</td>\n",
       "      <td>27654</td>\n",
       "      <td>2016-12-18 20:21:12.300</td>\n",
       "      <td>69.470001</td>\n",
       "      <td>20.450001</td>\n",
       "      <td>0.17</td>\n",
       "      <td>246.100006</td>\n",
       "      <td>330.309998</td>\n",
       "      <td>NaN</td>\n",
       "      <td>GL</td>\n",
       "      <td>33127</td>\n",
       "      <td>36.459999</td>\n",
       "      <td>26.16</td>\n",
       "      <td>0.1</td>\n",
       "      <td>187.300003</td>\n",
       "      <td>296.850006</td>\n",
       "      <td>PR</td>\n",
       "      <td>33.500214</td>\n",
       "    </tr>\n",
       "    <tr>\n",
       "      <th>4047</th>\n",
       "      <td>2016</td>\n",
       "      <td>280</td>\n",
       "      <td>2918</td>\n",
       "      <td>32525</td>\n",
       "      <td>2016-12-18 20:21:12.300</td>\n",
       "      <td>48.400002</td>\n",
       "      <td>59.369999</td>\n",
       "      <td>0.14</td>\n",
       "      <td>281.480011</td>\n",
       "      <td>356.160004</td>\n",
       "      <td>NaN</td>\n",
       "      <td>PRW</td>\n",
       "      <td>33127</td>\n",
       "      <td>36.459999</td>\n",
       "      <td>26.16</td>\n",
       "      <td>0.1</td>\n",
       "      <td>187.300003</td>\n",
       "      <td>296.850006</td>\n",
       "      <td>PR</td>\n",
       "      <td>35.291184</td>\n",
       "    </tr>\n",
       "    <tr>\n",
       "      <th>4038</th>\n",
       "      <td>2016</td>\n",
       "      <td>280</td>\n",
       "      <td>2918</td>\n",
       "      <td>31731</td>\n",
       "      <td>2016-12-18 20:21:12.300</td>\n",
       "      <td>51.820000</td>\n",
       "      <td>58.180000</td>\n",
       "      <td>0.16</td>\n",
       "      <td>284.950012</td>\n",
       "      <td>10.730000</td>\n",
       "      <td>NaN</td>\n",
       "      <td>PPR</td>\n",
       "      <td>33127</td>\n",
       "      <td>36.459999</td>\n",
       "      <td>26.16</td>\n",
       "      <td>0.1</td>\n",
       "      <td>187.300003</td>\n",
       "      <td>296.850006</td>\n",
       "      <td>PR</td>\n",
       "      <td>35.513519</td>\n",
       "    </tr>\n",
       "    <tr>\n",
       "      <th>4046</th>\n",
       "      <td>2016</td>\n",
       "      <td>280</td>\n",
       "      <td>2918</td>\n",
       "      <td>32120</td>\n",
       "      <td>2016-12-18 20:21:12.300</td>\n",
       "      <td>85.489998</td>\n",
       "      <td>50.799999</td>\n",
       "      <td>0.17</td>\n",
       "      <td>238.820007</td>\n",
       "      <td>347.679993</td>\n",
       "      <td>NaN</td>\n",
       "      <td>PLW</td>\n",
       "      <td>33127</td>\n",
       "      <td>36.459999</td>\n",
       "      <td>26.16</td>\n",
       "      <td>0.1</td>\n",
       "      <td>187.300003</td>\n",
       "      <td>296.850006</td>\n",
       "      <td>PR</td>\n",
       "      <td>54.873221</td>\n",
       "    </tr>\n",
       "  </tbody>\n",
       "</table>\n",
       "</div>"
      ],
      "text/plain": [
       "      Season_Year  GameKey  PlayID cov_GSISID                    Time  \\\n",
       "4045         2016      280    2918      26725 2016-12-18 20:21:12.300   \n",
       "4041         2016      280    2918      32171 2016-12-18 20:21:12.300   \n",
       "4040         2016      280    2918      32968 2016-12-18 20:21:12.300   \n",
       "4042         2016      280    2918      28069 2016-12-18 20:21:12.300   \n",
       "4043         2016      280    2918      29304 2016-12-18 20:21:12.300   \n",
       "4044         2016      280    2918      32864 2016-12-18 20:21:12.300   \n",
       "4037         2016      280    2918      29959 2016-12-18 20:21:12.300   \n",
       "4039         2016      280    2918      27654 2016-12-18 20:21:12.300   \n",
       "4047         2016      280    2918      32525 2016-12-18 20:21:12.300   \n",
       "4038         2016      280    2918      31731 2016-12-18 20:21:12.300   \n",
       "4046         2016      280    2918      32120 2016-12-18 20:21:12.300   \n",
       "\n",
       "          cov_x      cov_y  cov_dis       cov_o     cov_dir Event cov_Role  \\\n",
       "4045  44.700001  41.959999     0.14  266.220001  353.890015   NaN      PRG   \n",
       "4041  52.720001  38.139999     0.30  326.140015   52.080002   NaN      PLG   \n",
       "4040  38.639999  47.740002     0.23  285.480011   18.980000   NaN      PRT   \n",
       "4042  43.759998  52.619999     0.08  305.440002   49.320000   NaN       GR   \n",
       "4043  47.970001  54.040001     0.14  132.369995  242.970001   NaN        P   \n",
       "4044  64.199997  38.250000     0.30  240.919998  339.929993   NaN      PLT   \n",
       "4037  39.840000  56.459999     0.08  330.589996   23.990000   NaN      PLS   \n",
       "4039  69.470001  20.450001     0.17  246.100006  330.309998   NaN       GL   \n",
       "4047  48.400002  59.369999     0.14  281.480011  356.160004   NaN      PRW   \n",
       "4038  51.820000  58.180000     0.16  284.950012   10.730000   NaN      PPR   \n",
       "4046  85.489998  50.799999     0.17  238.820007  347.679993   NaN      PLW   \n",
       "\n",
       "     ret_GSISID      ret_x  ret_y  ret_dis       ret_o     ret_dir ret_Role  \\\n",
       "4045      33127  36.459999  26.16      0.1  187.300003  296.850006       PR   \n",
       "4041      33127  36.459999  26.16      0.1  187.300003  296.850006       PR   \n",
       "4040      33127  36.459999  26.16      0.1  187.300003  296.850006       PR   \n",
       "4042      33127  36.459999  26.16      0.1  187.300003  296.850006       PR   \n",
       "4043      33127  36.459999  26.16      0.1  187.300003  296.850006       PR   \n",
       "4044      33127  36.459999  26.16      0.1  187.300003  296.850006       PR   \n",
       "4037      33127  36.459999  26.16      0.1  187.300003  296.850006       PR   \n",
       "4039      33127  36.459999  26.16      0.1  187.300003  296.850006       PR   \n",
       "4047      33127  36.459999  26.16      0.1  187.300003  296.850006       PR   \n",
       "4038      33127  36.459999  26.16      0.1  187.300003  296.850006       PR   \n",
       "4046      33127  36.459999  26.16      0.1  187.300003  296.850006       PR   \n",
       "\n",
       "      dis_from_ret  \n",
       "4045     17.819585  \n",
       "4041     20.196734  \n",
       "4040     21.689834  \n",
       "4042     27.448525  \n",
       "4043     30.162470  \n",
       "4044     30.260132  \n",
       "4037     30.487938  \n",
       "4039     33.500214  \n",
       "4047     35.291184  \n",
       "4038     35.513519  \n",
       "4046     54.873221  "
      ]
     },
     "execution_count": 574,
     "metadata": {},
     "output_type": "execute_result"
    }
   ],
   "source": [
    "cov_ret.loc[cov_ret['Time'] == (punt_event_time + pd.Timedelta(seconds=20))].sort_values('dis_from_ret')"
   ]
  },
  {
   "cell_type": "code",
   "execution_count": 575,
   "metadata": {},
   "outputs": [
    {
     "data": {
      "text/plain": [
       "Timestamp('2016-12-18 20:20:56.300000')"
      ]
     },
     "execution_count": 575,
     "metadata": {},
     "output_type": "execute_result"
    }
   ],
   "source": [
    "punt_event_time + pd.Timedelta(seconds=4)"
   ]
  },
  {
   "cell_type": "code",
   "execution_count": 604,
   "metadata": {},
   "outputs": [],
   "source": [
    "dist_dict = {}"
   ]
  },
  {
   "cell_type": "code",
   "execution_count": 605,
   "metadata": {},
   "outputs": [],
   "source": [
    "dist_dict['2918'] = {}"
   ]
  },
  {
   "cell_type": "code",
   "execution_count": 606,
   "metadata": {},
   "outputs": [
    {
     "data": {
      "text/plain": [
       "{'2918': {}}"
      ]
     },
     "execution_count": 606,
     "metadata": {},
     "output_type": "execute_result"
    }
   ],
   "source": [
    "dist_dict"
   ]
  },
  {
   "cell_type": "code",
   "execution_count": 607,
   "metadata": {},
   "outputs": [],
   "source": [
    "for i in range(1, 5):\n",
    "    time_df = cov_ret.loc[cov_ret['Time'] == (punt_event_time + pd.Timedelta(seconds=i))].sort_values('dis_from_ret').reset_index()\n",
    "    cov_role = time_df['cov_Role'][0]\n",
    "    distance = time_df['dis_from_ret'][0]\n",
    "    dist_dict['2918'][i] = [cov_role, distance]"
   ]
  },
  {
   "cell_type": "code",
   "execution_count": 608,
   "metadata": {},
   "outputs": [
    {
     "data": {
      "text/plain": [
       "{'2918': {1: ['GR', 46.331641621495713],\n",
       "  2: ['GR', 39.315162744671717],\n",
       "  3: ['GR', 26.873468750720061],\n",
       "  4: ['GR', 12.691355358037008]}}"
      ]
     },
     "execution_count": 608,
     "metadata": {},
     "output_type": "execute_result"
    }
   ],
   "source": [
    "dist_dict"
   ]
  },
  {
   "cell_type": "code",
   "execution_count": 627,
   "metadata": {},
   "outputs": [],
   "source": [
    "play_info_2016_pre = play_info.loc[play_info['Season_Year'] == 2016]"
   ]
  },
  {
   "cell_type": "code",
   "execution_count": 714,
   "metadata": {},
   "outputs": [],
   "source": [
    "dist_dict = {}"
   ]
  },
  {
   "cell_type": "code",
   "execution_count": 715,
   "metadata": {},
   "outputs": [],
   "source": [
    "for i in range(0, len(play_info_2016_pre)):\n",
    "    season_key = play_info_2016_pre['Season_Year'][i]\n",
    "    game_key = play_info_2016_pre['GameKey'][i]\n",
    "    play_id = play_info_2016_pre['PlayID'][i]\n",
    "    identifier = '{}_{}_{}'.format(season_key, game_key, play_id)\n",
    "    if game_key in NGS_2016_pre.GameKey and play_id in NGS_2016_pre.PlayID:\n",
    "        test_play = NGS_2016_pre.loc[(NGS_2016_pre.GameKey == game_key) & (NGS_2016_pre.PlayID == play_id)].sort_values('Time').reset_index(drop=True)\n",
    "        test_play_merged = test_play.merge(play_player_role, how='inner', on = ['Season_Year','GameKey','PlayID','GSISID'])\n",
    "        if len(test_play_merged) > 0:\n",
    "            test_play_merged['Time'] = pd.to_datetime(test_play_merged['Time'], format='%Y-%m-%d %H:%M:%S.%f')\n",
    "            punt_event_time = test_play_merged.loc[test_play_merged.Event == 'punt'].Time.min()\n",
    "            receiving_event_time = test_play_merged.loc[(test_play_merged.Event == 'punt_received') | (test_play_merged.Event == 'fair_catch')].Time.min()\n",
    "            coverage_test = test_play_merged.loc[test_play_merged['Role'].isin(coverage_roles)].sort_values('Time')\n",
    "            coverage_test.rename(columns={'x':'cov_x', \n",
    "                                      'y': 'cov_y',\n",
    "                                      'GSISID': 'cov_GSISID',\n",
    "                                      'dis': 'cov_dis',\n",
    "                                      'o': 'cov_o',\n",
    "                                      'dir': 'cov_dir',\n",
    "                                      'Role': 'cov_Role'\n",
    "                                     }, inplace=True)\n",
    "            returner_test = test_play_merged.loc[test_play_merged['Role'] == 'PR'].sort_values('Time')\n",
    "            returner_test.rename(columns={'x':'ret_x', \n",
    "                                      'y': 'ret_y',\n",
    "                                      'GSISID': 'ret_GSISID',\n",
    "                                      'dis': 'ret_dis',\n",
    "                                      'o': 'ret_o',\n",
    "                                      'dir': 'ret_dir',\n",
    "                                      'Role': 'ret_Role'\n",
    "                                     }, inplace=True)\n",
    "            returner_test = returner_test.drop('Event', axis = 1)\n",
    "            cov_ret = coverage_test.merge(returner_test, how ='inner', on = ['Season_Year','GameKey','PlayID','Time'])\n",
    "            cov_ret['dis_from_ret'] = ((cov_ret['cov_x'] -  cov_ret['ret_x']) ** 2 + (cov_ret['cov_y'] -  cov_ret['ret_y']) ** 2).apply(np.sqrt)\n",
    "            dist_dict[identifier] = {}\n",
    "            for i in range(1, 7):\n",
    "                time_df = cov_ret.loc[cov_ret['Time'] == (punt_event_time + pd.Timedelta(seconds=i))].sort_values('dis_from_ret').reset_index(drop=True)\n",
    "                if len(time_df) > 0:\n",
    "                    cov_role = time_df['cov_Role'][0]\n",
    "                    distance = time_df['dis_from_ret'][0]\n",
    "                    dist_dict[identifier][i] = [cov_role, distance]"
   ]
  },
  {
   "cell_type": "code",
   "execution_count": 711,
   "metadata": {},
   "outputs": [
    {
     "data": {
      "text/plain": [
       "3285"
      ]
     },
     "execution_count": 711,
     "metadata": {},
     "output_type": "execute_result"
    }
   ],
   "source": [
    "len(play_info_2016_pre)"
   ]
  },
  {
   "cell_type": "code",
   "execution_count": 738,
   "metadata": {},
   "outputs": [
    {
     "name": "stdout",
     "output_type": "stream",
     "text": [
      "['GR', 1.6888176726731501]\n"
     ]
    }
   ],
   "source": [
    "for k, v in dist_dict['2016_3_455'].items():\n",
    "    if k == 5:\n",
    "        print(v)"
   ]
  },
  {
   "cell_type": "code",
   "execution_count": 739,
   "metadata": {},
   "outputs": [
    {
     "name": "stdout",
     "output_type": "stream",
     "text": [
      "['GR', 1.6888176726731501]\n",
      "['GL', 4.878942923576485]\n",
      "['PPR', 1.2660568553939779]\n",
      "['PLG', 1.8266076560598183]\n",
      "['PPR', 1.2688918846863082]\n",
      "['GR', 1.1063447969864666]\n",
      "['GL', 4.2223798566029904]\n",
      "['GR', 2.1397420410412127]\n",
      "['PRT', 7.2120029689425733]\n",
      "['PLT', 1.067942117444203]\n",
      "['PPR', 2.7854798516864161]\n",
      "['GR', 19.243611652884439]\n",
      "['GR', 4.2154942870026657]\n",
      "['GR', 11.41504984827653]\n",
      "['GR', 9.5302610185278276]\n",
      "['GL', 4.6399666370640684]\n",
      "['PLS', 2.3026243890764655]\n",
      "['GR', 0.32984813548142117]\n",
      "['GR', 6.7350193327564023]\n",
      "['GR', 14.580283234813164]\n",
      "['GL', 12.622049536310346]\n",
      "['GL', 6.6060100288518901]\n",
      "['GL', 10.746818151028021]\n",
      "['GL', 14.428061587598759]\n",
      "['GL', 4.0909898411705008]\n",
      "['GL', 1.9332889848218022]\n",
      "['GR', 11.934462630180686]\n",
      "['PPR', 3.375346988505]\n",
      "['GL', 2.1029778575047153]\n",
      "['GL', 2.4894368842096548]\n",
      "['GR', 6.2502002958628378]\n",
      "['GL', 36.75312351327679]\n",
      "['GL', 47.425193669625131]\n",
      "['PRT', 25.105002532211355]\n",
      "['PRT', 7.4945091317892629]\n",
      "['GR', 5.2501896534906329]\n",
      "['GR', 7.7400260790311552]\n",
      "['PPR', 2.7480334621217675]\n",
      "['PPR', 9.0605583325402197]\n",
      "['GL', 2.4256382503077805]\n",
      "['PPR', 6.9993217324942272]\n",
      "['GR', 4.0490131692369644]\n",
      "['PPL', 4.6503029824281787]\n",
      "['GR', 1.6633695474382424]\n",
      "['GR', 11.120800846544766]\n",
      "['GR', 5.8327059247451061]\n",
      "['PPL', 14.994452572427729]\n",
      "['GR', 21.198776897802759]\n",
      "['PPL', 7.5861169991157089]\n",
      "['PLS', 1.217538608197642]\n",
      "['PPL', 14.76898358256296]\n",
      "['PPR', 10.691492719853251]\n",
      "['GR', 11.881077315165713]\n",
      "['GR', 3.4771432801422515]\n",
      "['GR', 17.333210856552796]\n",
      "['GR', 10.79316603997888]\n",
      "['GL', 4.1681169428756908]\n",
      "['GL', 5.4179323607796155]\n",
      "['PLT', 10.504476683562775]\n",
      "['GL', 2.9908200031989662]\n",
      "['PPR', 12.748397470569753]\n",
      "['GR', 20.541818062126502]\n",
      "['GL', 6.7286847570362074]\n",
      "['GR', 6.9320254850550853]\n",
      "['PPL', 7.4624732709690473]\n",
      "['PRT', 25.004175841691964]\n",
      "['GR', 9.3622496557851758]\n",
      "['GL', 4.1631000468459964]\n",
      "['PPR', 16.190118215316815]\n",
      "['PLG', 2.7011846969608486]\n",
      "['GR', 2.5859999925329955]\n",
      "['PPL', 2.4472448497735266]\n",
      "['GL', 0.77987329676902928]\n",
      "['PPR', 0.74040415681665606]\n",
      "['GR', 1.7532825354312807]\n",
      "['GL', 1.4827373213083122]\n",
      "['PLG', 1.8386954484495357]\n",
      "['GR', 6.8236720319780906]\n",
      "['PPR', 1.283901942993535]\n",
      "['GL', 2.8246952253025532]\n",
      "['PPR', 3.3977921385707375]\n",
      "['GL', 1.3372350115811844]\n",
      "['PPR', 12.931270501070689]\n",
      "['PPL', 3.9350860628946638]\n",
      "['PRG', 2.1683179174058784]\n",
      "['PLS', 7.186745033963378]\n",
      "['GR', 14.96108193672123]\n",
      "['PPL', 5.2740208216152666]\n",
      "['PRT', 7.3798729783787511]\n",
      "['PPL', 1.0394227788269321]\n",
      "['GR', 6.4837185275165599]\n",
      "['PLS', 3.0081518071628053]\n",
      "['PPR', 25.601291467158269]\n",
      "['GL', 7.4807622830688123]\n",
      "['PRG', 8.2358841114462606]\n",
      "['GR', 2.6359230234512583]\n",
      "['PRG', 11.494559866239106]\n",
      "['GR', 10.672678420469902]\n",
      "['GL', 14.231729986045014]\n",
      "['GR', 6.9292502548427821]\n",
      "['GR', 46.410766550320297]\n",
      "['GL', 7.9795079772981747]\n",
      "['PPR', 2.8714093350690204]\n",
      "['GR', 1.4190516311068668]\n",
      "['PLS', 5.9012964398012429]\n",
      "['PPR', 3.4856564527177003]\n",
      "['GL', 15.525154231240634]\n",
      "['GR', 1.386541774578723]\n",
      "['PPL', 0.44294372035904644]\n",
      "['GL', 4.2430426929925673]\n",
      "['PRG', 15.333362068038817]\n",
      "['PRW', 2.1944709390496735]\n",
      "['GL', 8.032042051737168]\n",
      "['GR', 4.8657542632971706]\n",
      "['GR', 7.0842758855378465]\n",
      "['GR', 0.21931805429079351]\n",
      "['PLW', 8.4581294032982566]\n",
      "['GL', 5.3472418754096758]\n",
      "['GR', 16.648284895577156]\n",
      "['GR', 7.4240498057458657]\n",
      "['GL', 1.5733359642936009]\n",
      "['GR', 3.7594905605576678]\n",
      "['GR', 1.3970319009689731]\n",
      "['GR', 9.4323110350914412]\n",
      "['GR', 11.536003583846751]\n",
      "['GR', 10.23646709868313]\n",
      "['GL', 8.3130995605853517]\n",
      "['PLT', 1.8487822035035033]\n",
      "['PLW', 10.850779155279746]\n",
      "['PRG', 2.8669329842758682]\n",
      "['PLW', 3.968904359810423]\n",
      "['PLG', 4.5376866887467591]\n",
      "['PPR', 16.105841708661849]\n",
      "['PPR', 4.4051108371676859]\n",
      "['GL', 8.0459741266523608]\n",
      "['GL', 10.580169561285848]\n",
      "['PLT', 1.965401097194863]\n",
      "['PPR', 9.4210893863629011]\n",
      "['GL', 13.11032266529778]\n",
      "['PRT', 1.7993906545283787]\n",
      "['PPR', 0.59135839780565069]\n",
      "['PLS', 1.08853124091652]\n",
      "['PRG', 8.9120269040331976]\n",
      "['PPR', 13.074165106468735]\n",
      "['GL', 14.604966655302899]\n",
      "['PPL', 5.2884168526732305]\n",
      "['GR', 6.3848638791576633]\n",
      "['PRG', 14.088586340461939]\n",
      "['PPL', 1.9492073858344403]\n",
      "['PLT', 3.7658618774374935]\n",
      "['PLT', 11.680363400567291]\n",
      "['GR', 1.8523502650735177]\n",
      "['GL', 4.2941458521337603]\n",
      "['PPL', 3.0831142603688484]\n",
      "['PPL', 10.470230539840221]\n",
      "['PPR', 1.1951970797406037]\n",
      "['GR', 18.499637136664017]\n",
      "['GL', 2.0827899246604007]\n",
      "['PLT', 1.4612314721377235]\n",
      "['GR', 12.187604049035032]\n",
      "['PLT', 12.302983412258012]\n",
      "['GR', 14.118131314431587]\n",
      "['GR', 4.3510931031550504]\n",
      "['PRG', 1.6216345262365819]\n",
      "['PLW', 2.4167125138066665]\n",
      "['PRT', 13.539756310719744]\n",
      "['GR', 9.6165247346496887]\n",
      "['PLW', 3.9231223750112214]\n",
      "['GL', 27.753544423002101]\n",
      "['PPR', 3.8846465241609471]\n",
      "['PPR', 13.762418463663858]\n",
      "['PPR', 19.793293565017123]\n",
      "['GR', 12.235784813359089]\n",
      "['PPL', 1.1100456393384566]\n",
      "['PLG', 6.2325762195418033]\n",
      "['GL', 20.511274958301328]\n",
      "['PLG', 4.2808525131258497]\n",
      "['PPR', 9.5534513726431225]\n",
      "['GR', 15.981958806341884]\n",
      "['PPR', 19.691771362508646]\n",
      "['GL', 0.96829339984562757]\n",
      "['GL', 4.5039531355973086]\n",
      "['PLS', 20.481256408578727]\n",
      "['PRG', 18.938029294715605]\n",
      "['GL', 7.5947995377508244]\n",
      "['GL', 0.90138853831055488]\n",
      "['PRG', 19.464801808682783]\n",
      "['PRT', 17.569727915403419]\n",
      "['GR', 2.3832129555916906]\n",
      "['GR', 20.889310584116643]\n",
      "['PPR', 24.835526677616784]\n",
      "['PLW', 13.354930885676353]\n",
      "['GR', 2.9513727363444531]\n",
      "['PLW', 9.3107464976403982]\n",
      "['GR', 22.13919662823724]\n",
      "['PPR', 11.84133435881685]\n",
      "['GR', 10.550775848860102]\n",
      "['GR', 14.505681426890954]\n",
      "['GR', 3.1701441292288215]\n",
      "['GL', 6.7191472579693805]\n",
      "['GL', 0.18788206518148728]\n",
      "['PPR', 17.667707365705148]\n",
      "['GL', 22.03097174251068]\n",
      "['GR', 5.6077185907845015]\n",
      "['GR', 3.2247953487786947]\n",
      "['GR', 0.88526914911284671]\n",
      "['PPR', 17.583150237508626]\n",
      "['GL', 0.50990569198737712]\n",
      "['PPR', 8.2380695047282995]\n",
      "['PLS', 0.95000152588013165]\n",
      "['PLS', 2.7776954231943116]\n",
      "['PLT', 2.1991140156012068]\n",
      "['GL', 17.445378564043796]\n",
      "['GL', 1.0733589200907578]\n",
      "['GL', 10.67242953239942]\n",
      "['PRG', 10.673051125367477]\n",
      "['GL', 1.042789029469521]\n",
      "['GL', 5.5687116004679114]\n",
      "['PLW', 10.666174402187126]\n",
      "['GR', 5.1389201022100304]\n",
      "['PPL', 7.6198724434667398]\n",
      "['GR', 14.731929732464677]\n",
      "['PPR', 1.6907102733268375]\n",
      "['GR', 6.0134909345025536]\n",
      "['PRG', 4.9808647376282265]\n",
      "['GR', 6.3359281028368626]\n",
      "['PPR', 3.6802176792615446]\n",
      "['PPL', 2.1159663986166288]\n",
      "['PPR', 4.3272619831427175]\n",
      "['GR', 13.828333099599503]\n",
      "['PPL', 16.703841691060703]\n",
      "['GL', 4.8987557492779272]\n",
      "['PLS', 1.7835342976131905]\n",
      "['PRG', 7.5121589113520848]\n",
      "['GL', 9.7232298286203154]\n",
      "['GR', 5.2379477449648117]\n",
      "['PRG', 13.207421488112496]\n",
      "['PLG', 16.449533589623869]\n",
      "['GL', 1.7226140279911457]\n",
      "['GR', 1.8300215356216487]\n",
      "['GR', 4.991212062218656]\n",
      "['GL', 3.7522489423371566]\n",
      "['PRG', 6.1011877785863513]\n",
      "['PRG', 1.90683086213012]\n",
      "['GL', 6.43257347494922]\n",
      "['GR', 21.283240477420957]\n",
      "['GR', 6.8467847827049875]\n",
      "['PLT', 1.8564758204524945]\n",
      "['PLG', 12.272924214110228]\n",
      "['PPR', 9.7278999785600782]\n",
      "['GL', 5.7834272082775167]\n",
      "['GL', 4.3218493106114657]\n",
      "['PPR', 3.0689738837033111]\n",
      "['GR', 6.2172828937660594]\n",
      "['PPR', 13.305400138896292]\n",
      "['PPR', 15.462909533271294]\n",
      "['PRT', 4.0383771686378314]\n",
      "['PRT', 17.50890062254453]\n",
      "['GL', 4.1426665880026361]\n",
      "['GR', 1.6446853355344766]\n",
      "['GL', 0.96260041463642032]\n",
      "['GL', 10.564984627462922]\n",
      "['GL', 8.0799655291327124]\n",
      "['GL', 8.5056509736959036]\n",
      "['PRT', 7.9568448831616125]\n",
      "['PRT', 16.951432249205329]\n",
      "['PRG', 2.9520324765827035]\n",
      "['PRG', 10.644231772164247]\n",
      "['GL', 3.2429964940458005]\n",
      "['PPR', 16.322562750638951]\n",
      "['PLG', 11.470527676298481]\n",
      "['GL', 7.3911488731504074]\n",
      "['PPL', 2.0682596426027238]\n",
      "['GR', 6.8303524693794886]\n",
      "['PPL', 10.52330370936275]\n",
      "['GL', 8.6188917870204111]\n",
      "['GR', 13.944144902634189]\n",
      "['GL', 4.9485351737873939]\n",
      "['GL', 16.990970221664877]\n",
      "['GR', 6.9350270051438878]\n",
      "['PLS', 22.108621351824205]\n",
      "['PPR', 6.9759654958402688]\n",
      "['GL', 1.2539948220039603]\n",
      "['PRT', 5.4687652882041364]\n",
      "['GR', 1.8337150595390623]\n",
      "['GR', 0.83024277043818873]\n",
      "['GR', 4.1500499963175219]\n",
      "['PLG', 14.331010193021045]\n",
      "['GL', 3.0066093266249507]\n",
      "['GR', 2.3482955692783722]\n",
      "['PRG', 5.139900785075497]\n",
      "['GR', 11.876474025369268]\n",
      "['GR', 4.6105311063596828]\n",
      "['PPR', 21.00061142109481]\n",
      "['PPR', 6.9014855286705155]\n",
      "['GR', 5.7522966785136278]\n",
      "['GR', 14.392656302267376]\n",
      "['PRG', 1.7833091117207505]\n",
      "['GR', 3.9606157529281387]\n",
      "['GL', 3.8043403673301803]\n",
      "['PRT', 10.157801071350743]\n",
      "['GR', 2.2785310235959129]\n",
      "['GL', 14.877428636388077]\n",
      "['GL', 1.8707213221314154]\n",
      "['PLG', 14.512513987611015]\n",
      "['GR', 3.0076069704538102]\n",
      "['PLW', 0.82662056743198886]\n",
      "['GL', 12.380406577254691]\n",
      "['GR', 23.70839429253742]\n",
      "['GL', 3.25]\n",
      "['GL', 17.570283152557266]\n",
      "['GL', 5.1499501612949361]\n",
      "['GL', 3.0101479515522152]\n",
      "['PRG', 5.3150725331565329]\n",
      "['PPL', 5.8143664922081406]\n",
      "['PRG', 11.761652168422584]\n",
      "['PRW', 4.7752772963949255]\n",
      "['PRT', 14.705438108847828]\n",
      "['GL', 2.5902301194173343]\n",
      "['PPR', 1.4797966100794517]\n",
      "['GR', 2.3628173150002469]\n",
      "['PPR', 0.41436648261552755]\n",
      "['GR', 2.8897934234604006]\n",
      "['GR', 8.9451959638577598]\n",
      "['PLW', 2.6896098572959577]\n",
      "['GR', 3.0865035724877039]\n",
      "['PPR', 1.9858729843630971]\n",
      "['PPL', 2.3207746409515742]\n",
      "['GR', 17.097732522997987]\n",
      "['PRG', 2.2410047457576221]\n",
      "['GR', 6.5847796795603344]\n",
      "['GR', 3.9832810538695838]\n",
      "['PRG', 14.316289395306796]\n",
      "['GR', 30.998815555147118]\n",
      "['GR', 4.2490604358382118]\n",
      "['PLG', 19.194436461713902]\n",
      "['PPR', 1.6512388024858802]\n",
      "['GR', 4.1153379606982119]\n",
      "['GR', 12.076301517911947]\n",
      "['GL', 0.52611641318885438]\n",
      "['GL', 18.453706600720079]\n",
      "['PPR', 6.4700070711596984]\n",
      "['PPR', 5.5814381190757398]\n",
      "['GR', 16.722980942313669]\n",
      "['GR', 5.884396977023977]\n",
      "['GR', 5.3256457290989703]\n",
      "['GR', 2.8196464262812846]\n",
      "['PLS', 6.5461808113841737]\n",
      "['GR', 6.9800243808236742]\n",
      "['GR', 2.6744158111368299]\n",
      "['PRG', 5.3753213155123287]\n",
      "['PLG', 4.2707531724423928]\n",
      "['GL', 14.139067541831066]\n",
      "['PPL', 16.498687197114084]\n",
      "['PLT', 2.6020956491547063]\n",
      "['GL', 9.8041825471861053]\n",
      "['GR', 0.51623544889748429]\n",
      "['GL', 7.7210694950864518]\n",
      "['GL', 6.6490055576303391]\n",
      "['GR', 11.876437017239114]\n",
      "['PRG', 23.350410239762656]\n",
      "['PRG', 4.0285468332151417]\n",
      "['GL', 8.8718492966591747]\n",
      "['GL', 12.584687655622982]\n",
      "['PLT', 8.8208439512724777]\n",
      "['PLS', 0.92314862365940598]\n",
      "['PPR', 8.8958974891749403]\n",
      "['GL', 8.8789624797153053]\n",
      "['PRG', 4.333404502950124]\n",
      "['PRW', 18.628981965527906]\n",
      "['PPL', 11.106272847939596]\n",
      "['PRG', 6.7542674288460773]\n",
      "['GL', 12.788419459962078]\n",
      "['PLG', 3.0004181379751338]\n",
      "['GL', 9.4214417966332373]\n",
      "['PLG', 9.4074073299130223]\n",
      "['PRG', 4.2345728707228991]\n",
      "['PLS', 8.9372576342188559]\n",
      "['PRT', 3.56252805978548]\n",
      "['PRT', 2.3579037663810376]\n",
      "['PRT', 21.216494566224206]\n",
      "['GR', 9.509207710452193]\n",
      "['GR', 0.44944216591915837]\n",
      "['GR', 14.450289461727966]\n",
      "['GR', 20.047866003955733]\n",
      "['PLS', 1.3160937384070275]\n",
      "['PPR', 8.1580930329088126]\n",
      "['PLT', 3.4733428322219528]\n",
      "['PRG', 9.4267725099115278]\n",
      "['GR', 8.8417642256855249]\n",
      "['GR', 3.031848713124305]\n",
      "['PLS', 29.181709864552118]\n",
      "['PLG', 8.3955564636883526]\n",
      "['PPR', 15.340208755723941]\n",
      "['GR', 3.9253157925252333]\n",
      "['PPL', 8.6468601634372533]\n",
      "['PLT', 3.5598487116796576]\n",
      "['GR', 16.444608116596061]\n",
      "['GL', 5.5745859774141122]\n",
      "['PLG', 0.78600107301237954]\n",
      "['PPR', 1.610124052967209]\n",
      "['GR', 21.703566747172125]\n",
      "['GR', 9.6930725045084483]\n",
      "['GR', 11.240898834753356]\n",
      "['GL', 3.2849341092405897]\n",
      "['GR', 5.6221877070806672]\n",
      "['PLG', 2.7834152156031742]\n",
      "['GR', 1.7404039077484821]\n",
      "['PLG', 1.8369780877535009]\n",
      "['PLG', 0.74726279281125807]\n",
      "['GL', 3.9084790647839891]\n",
      "['GL', 3.3545189721001711]\n",
      "['PLT', 1.5305258770961243]\n",
      "['PPL', 5.0676419086658777]\n",
      "['GL', 1.0423498646651344]\n",
      "['GL', 0.43416635895479122]\n",
      "['GR', 3.2144997709784242]\n",
      "['PRG', 7.0218265780671194]\n",
      "['GR', 13.293717928870699]\n",
      "['GR', 2.7958915623284204]\n",
      "['PRG', 1.5901253637645394]\n",
      "['GR', 0.61351374101501577]\n",
      "['GR', 7.1364140716042934]\n",
      "['GL', 0.89626883472481222]\n",
      "['GL', 12.704929814420947]\n",
      "['GR', 2.530176624270128]\n",
      "['PLS', 3.4662518796974422]\n",
      "['GR', 10.263028146589251]\n",
      "['GL', 11.16197309587101]\n",
      "['PPR', 5.1728910019794139]\n",
      "['GL', 2.0112175308574733]\n",
      "['GR', 5.3911520816260099]\n",
      "['PRT', 1.7800268702679896]\n",
      "['GR', 1.4932518659804457]\n",
      "['GL', 14.009286214274427]\n",
      "['GL', 3.402837971783351]\n",
      "['PPR', 4.1235048045532769]\n",
      "['GR', 2.9062867153680352]\n",
      "['GR', 2.0462893969380342]\n",
      "['PPL', 7.8976289498679666]\n",
      "['GR', 1.3823179575597517]\n",
      "['PPR', 19.935720741187286]\n",
      "['GR', 2.0137522443952807]\n",
      "['GR', 6.4747200428926748]\n",
      "['GR', 1.4677920413281786]\n",
      "['GR', 0.6152238838426255]\n",
      "['PRW', 7.3053002631942219]\n",
      "['GL', 14.159673165035594]\n",
      "['GL', 6.7592657428582799]\n",
      "['GR', 1.4140018498528635]\n",
      "['PLW', 13.276726017874131]\n",
      "['GR', 1.16503238092757]\n",
      "['PRT', 6.2130581956462452]\n",
      "['GR', 1.4094328184601395]\n",
      "['GR', 1.6865665956988802]\n",
      "['GR', 1.7151101591365863]\n",
      "['GR', 10.211785476697012]\n",
      "['PPR', 13.497692488972412]\n",
      "['GR', 3.8052219665997011]\n",
      "['PPR', 16.548984839707042]\n",
      "['GR', 1.1136400038768792]\n",
      "['GL', 27.270934226159675]\n",
      "['GR', 11.42276880747475]\n",
      "['GR', 1.8844890632619162]\n",
      "['GL', 0.82855488455553283]\n",
      "['PPR', 14.271177910439521]\n",
      "['GR', 3.0419876211349792]\n",
      "['GL', 3.7130310396009087]\n",
      "['GR', 4.7505149098035107]\n",
      "['GL', 1.2488782552216717]\n",
      "['GR', 7.3913807185396063]\n",
      "['PLS', 13.244412926594469]\n",
      "['GL', 11.243674360800137]\n",
      "['GR', 1.273185015590317]\n",
      "['GR', 5.5256549783228843]\n",
      "['GL', 11.830281792813118]\n",
      "['GL', 7.1909390224969298]\n",
      "['PRT', 3.9502032793107675]\n",
      "['GR', 4.6890719346712162]\n",
      "['GL', 0.91760621165528911]\n",
      "['GR', 1.0176919682010543]\n",
      "['GR', 2.1881912091610123]\n",
      "['GR', 6.9951430778790842]\n",
      "['GL', 16.654524401422201]\n",
      "['GR', 9.2548636233413415]\n",
      "['GL', 1.6493967837896497]\n",
      "['GR', 0.4904057998407077]\n",
      "['GR', 1.991003853430827]\n",
      "['GR', 2.9871839187307163]\n",
      "['PPR', 19.488387705474548]\n",
      "['PPR', 2.8937527075605765]\n",
      "['PLG', 1.2624566896785023]\n",
      "['GR', 3.6306734928385351]\n",
      "['PRT', 4.5397153187032053]\n",
      "['PLT', 1.6374657230441994]\n",
      "['PRT', 4.5773836208804353]\n",
      "['PLT', 2.7765095678984522]\n",
      "['PLT', 4.0451124875892379]\n",
      "['PPR', 0.24041669117311026]\n",
      "['PLG', 2.6450295292005439]\n",
      "['GL', 11.882342602766823]\n",
      "['GR', 3.5364388634903929]\n",
      "['PPL', 12.560005352845423]\n",
      "['GR', 10.705725202375158]\n",
      "['GR', 14.557672236355772]\n",
      "['GL', 3.8719501291657319]\n",
      "['PLT', 16.544160168782089]\n",
      "['GR', 1.845562682322752]\n",
      "['GL', 4.1104855721616103]\n",
      "['PPR', 16.80988531805458]\n",
      "['GR', 0.70263865884433674]\n",
      "['GL', 9.19934797215525]\n",
      "['PPL', 14.502703191145578]\n",
      "['PPR', 18.996869343880608]\n",
      "['PLG', 3.4264425583918463]\n",
      "['GL', 1.6769325467710876]\n",
      "['GL', 5.0961359433736408]\n",
      "['GR', 16.863428497337512]\n",
      "['PLT', 1.2224998683219359]\n",
      "['GR', 2.0761726586392424]\n",
      "['GL', 3.796024636722358]\n",
      "['PRT', 17.618682883717717]\n",
      "['PPL', 13.363986449051346]\n",
      "['GR', 2.4176059403082144]\n",
      "['GL', 6.9401806840820628]\n",
      "['GL', 6.0367316339895831]\n",
      "['PLG', 13.106103968864309]\n",
      "['GR', 1.319394392325725]\n",
      "['PPL', 19.060768446767337]\n",
      "['GR', 1.011927886203335]\n",
      "['PLW', 3.8674215976394479]\n",
      "['GR', 1.8635712505258495]\n",
      "['PLW', 1.9112834232426215]\n",
      "['GL', 1.50053316127129]\n",
      "['PRW', 0.52924337974322033]\n",
      "['PLW', 2.09897861092601]\n",
      "['PLW', 11.165800996330919]\n",
      "['GL', 3.0830130278453671]\n",
      "['GL', 2.0081080783923717]\n",
      "['PLG', 9.1876912169204097]\n",
      "['PLS', 18.367062775390025]\n",
      "['GR', 6.4245256247348319]\n",
      "['GL', 4.003624335779767]\n",
      "['GR', 2.0338436566197222]\n",
      "['PPR', 1.3705846828062984]\n",
      "['GR', 4.2177712160291874]\n",
      "['GR', 1.3017670837308168]\n",
      "['GR', 2.5138225610587264]\n",
      "['PPR', 1.1038573793264921]\n",
      "['GR', 1.6260408650854525]\n",
      "['GR', 18.493701380349624]\n",
      "['PLT', 20.981677409955587]\n",
      "['PLG', 17.865704437383549]\n",
      "['PRG', 1.312097817845592]\n",
      "['GR', 7.4326645571099306]\n",
      "['PPL', 12.548435046616049]\n",
      "['PPR', 19.27544032043922]\n",
      "['PLT', 3.5800127453286339]\n",
      "['PPR', 2.4341727616773108]\n",
      "['PPL', 1.4006425007209011]\n",
      "['GL', 4.2729961097856251]\n",
      "['GL', 20.885139663810186]\n",
      "['PLW', 5.9038948057157992]\n",
      "['GR', 5.217893901993814]\n",
      "['GL', 2.4056611393924539]\n",
      "['GL', 6.3649084235936124]\n",
      "['GR', 4.1866934157904767]\n",
      "['PLS', 1.5677371177624662]\n",
      "['GR', 10.502442886426076]\n",
      "['GR', 2.286328532777707]\n",
      "['PLG', 4.1834558175280838]\n",
      "['PLG', 13.246345479444223]\n",
      "['PLT', 6.3328507413541635]\n",
      "['PLT', 1.4179201739275527]\n",
      "['PRT', 16.331105197946378]\n",
      "['GR', 1.5728002866153106]\n",
      "['PRG', 3.6924263864053586]\n",
      "['GR', 1.0064790415289555]\n",
      "['GL', 3.780580963620122]\n",
      "['GL', 2.1260277988956311]\n",
      "['GL', 13.241772500814259]\n",
      "['GL', 4.5360016460871826]\n",
      "['GL', 2.4392029145134528]\n",
      "['PPL', 5.2709085805398823]\n",
      "['PRW', 5.6216098182142034]\n",
      "['GR', 1.9972231980369983]\n",
      "['GR', 6.1859621488428607]\n",
      "['PPL', 9.7677556726425223]\n",
      "['GL', 2.0033994790510841]\n",
      "['GR', 3.2611192810834524]\n",
      "['GL', 2.4748713064986889]\n",
      "['GL', 10.274909264974118]\n",
      "['GL', 4.5200427958060203]\n",
      "['GL', 3.3514925407456619]\n",
      "['GL', 13.341502220237997]\n",
      "['PLS', 11.903312766695777]\n",
      "['PLT', 5.0359078145954417]\n",
      "['PLT', 10.480666909147875]\n",
      "['GL', 3.0178303070191101]\n",
      "['PRG', 20.004075270534528]\n",
      "['PPR', 3.5920057439100526]\n",
      "['GL', 11.37092852036244]\n",
      "['GR', 9.4810332603552165]\n",
      "['GR', 14.137196620881179]\n",
      "['GL', 17.369974272450325]\n",
      "['PPR', 17.958424524605295]\n",
      "['GR', 6.2976946642495886]\n",
      "['GR', 1.8218724091006986]\n",
      "['GR', 8.1044991472022687]\n",
      "['PPR', 16.516466811822884]\n",
      "['PLG', 7.0653110011845532]\n",
      "['GR', 1.4317814236013697]\n",
      "['GR', 1.910234646989367]\n",
      "['GR', 7.7952354622660636]\n",
      "['GL', 2.2637363086710915]\n",
      "['GL', 5.7592116710173036]\n",
      "['PPR', 2.0854015730223647]\n",
      "['GR', 11.416784858400458]\n",
      "['GL', 3.429577091047523]\n",
      "['PRT', 9.4452363375108828]\n",
      "['GR', 6.0268256308194523]\n",
      "['PPR', 21.752338405579533]\n",
      "['PPR', 5.3707079627088579]\n",
      "['PRT', 1.8444785926345348]\n",
      "['PPR', 5.509737551162571]\n",
      "['PPL', 3.550352062982411]\n",
      "['GR', 1.3263884856304957]\n",
      "['GL', 11.069185130824074]\n",
      "['PLG', 1.4026414263408995]\n",
      "['GR', 1.3860007852004173]\n",
      "['GR', 5.1229006434198112]\n",
      "['PRG', 1.7944655057768419]\n",
      "['GR', 8.6902843675521879]\n",
      "['PRG', 3.100404749874095]\n",
      "['PLW', 1.1381125790600695]\n",
      "['PLT', 10.517431721940177]\n",
      "['PPR', 6.9685671577317922]\n",
      "['GR', 9.7787759043301445]\n",
      "['PLT', 6.4385177584048821]\n",
      "['GL', 4.8168241705418131]\n",
      "['PLS', 45.498903855150914]\n",
      "['PRG', 16.938194047847759]\n",
      "['GL', 4.7844001507242417]\n",
      "['PPR', 10.358247479337482]\n",
      "['GR', 14.168950143175591]\n",
      "['GL', 9.233206443646905]\n",
      "['GR', 0.85702767134428881]\n",
      "['GL', 8.7075421883254549]\n",
      "['GL', 1.098091617660014]\n",
      "['GL', 4.9432492256256477]\n",
      "['GL', 5.505489128760094]\n",
      "['PPL', 14.047749180252023]\n",
      "['PLG', 3.5846908150845302]\n",
      "['GR', 2.4851554640835514]\n",
      "['GL', 1.5587833467683954]\n",
      "['PPR', 1.7497782051275619]\n",
      "['PPL', 6.699146437293793]\n",
      "['GL', 2.706619395923612]\n",
      "['PPR', 3.0780022422827926]\n",
      "['GL', 9.1900002508833367]\n",
      "['GR', 2.8790276835826774]\n",
      "['GL', 3.2929782649256283]\n",
      "['GR', 14.1184175318885]\n",
      "['GR', 3.4531285624629176]\n",
      "['GR', 5.9856512438498921]\n",
      "['GR', 17.163030337258817]\n",
      "['GL', 1.2576561723509578]\n",
      "['GL', 3.9577014865780842]\n",
      "['GR', 14.177531801746142]\n",
      "['GL', 6.1737018247966242]\n",
      "['PLT', 3.043320869289567]\n",
      "['GR', 1.2264171104641022]\n",
      "['PRG', 13.792414867366288]\n",
      "['GR', 15.556108546887963]\n",
      "['GL', 21.279908122818028]\n",
      "['GL', 5.5274315157012284]\n",
      "['GR', 1.584928856826451]\n",
      "['GL', 6.5877783737289342]\n",
      "['GL', 7.4939021438800033]\n",
      "['GL', 2.204769405842455]\n",
      "['PRG', 1.4980326270519329]\n",
      "['GL', 7.848883244477185]\n",
      "['GR', 6.50170085004586]\n",
      "['PPL', 1.2140008235472555]\n",
      "['PPR', 1.3729515214053629]\n",
      "['GL', 3.0267611289177081]\n",
      "['GL', 2.0294072132246526]\n",
      "['PRT', 8.3860027403812474]\n"
     ]
    }
   ],
   "source": [
    "for key in dist_dict.keys():\n",
    "    for k, v in dist_dict[key].items():\n",
    "        if k == 5:\n",
    "            print(v)"
   ]
  },
  {
   "cell_type": "code",
   "execution_count": 719,
   "metadata": {},
   "outputs": [
    {
     "data": {
      "text/plain": [
       "{1: ['GR', 39.247853120400869],\n",
       " 2: ['GR', 32.537285175377846],\n",
       " 3: ['GR', 27.900847591582924],\n",
       " 4: ['GR', 20.883736804171015],\n",
       " 5: ['GR', 11.934462630180686],\n",
       " 6: ['GR', 4.3511496636039633]}"
      ]
     },
     "execution_count": 719,
     "metadata": {},
     "output_type": "execute_result"
    }
   ],
   "source": [
    "dist_dict['2016_5_3129']"
   ]
  },
  {
   "cell_type": "code",
   "execution_count": null,
   "metadata": {},
   "outputs": [],
   "source": []
  }
 ],
 "metadata": {
  "kernelspec": {
   "display_name": "Python 3",
   "language": "python",
   "name": "python3"
  },
  "language_info": {
   "codemirror_mode": {
    "name": "ipython",
    "version": 3
   },
   "file_extension": ".py",
   "mimetype": "text/x-python",
   "name": "python",
   "nbconvert_exporter": "python",
   "pygments_lexer": "ipython3",
   "version": "3.6.0"
  }
 },
 "nbformat": 4,
 "nbformat_minor": 2
}
