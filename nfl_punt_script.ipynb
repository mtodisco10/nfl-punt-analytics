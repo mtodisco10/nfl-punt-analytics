{
 "cells": [
  {
   "cell_type": "code",
   "execution_count": 1,
   "metadata": {},
   "outputs": [],
   "source": [
    "import pandas as pd\n",
    "import numpy as np\n",
    "import matplotlib.pyplot as plt\n",
    "import plotly.plotly as py\n",
    "import plotly.graph_objs as go\n",
    "from plotly import tools\n",
    "import re\n",
    "import warnings\n",
    "warnings.filterwarnings('ignore')"
   ]
  },
  {
   "cell_type": "code",
   "execution_count": 2,
   "metadata": {},
   "outputs": [],
   "source": [
    "%run progress_bar.ipynb"
   ]
  },
  {
   "cell_type": "code",
   "execution_count": 3,
   "metadata": {},
   "outputs": [],
   "source": [
    "#Read in Data\n",
    "game_data = pd.read_csv('game_data.csv')\n",
    "play_info = pd.read_csv('play_information.csv')\n",
    "play_player_role = pd.read_csv('play_player_role_data.csv')\n",
    "player_punt = pd.read_csv('player_punt_data.csv')\n",
    "video_footage_control = pd.read_csv('video_footage-control.csv')\n",
    "video_footage_injury = pd.read_csv('video_footage-injury.csv')\n",
    "video_review = pd.read_csv('video_review.csv')"
   ]
  },
  {
   "cell_type": "code",
   "execution_count": 4,
   "metadata": {},
   "outputs": [],
   "source": [
    "NGS_2016_pre = pd.read_csv('NGS-2016-pre.csv')\n",
    "NGS_2016_post = pd.read_csv('NGS-2016-post.csv')\n",
    "# NGS_2017_pre = pd.read_csv('NGS-2017-pre.csv')\n",
    "# NGS_2017_post = pd.read_csv('NGS-2017-post.csv')"
   ]
  },
  {
   "cell_type": "code",
   "execution_count": 5,
   "metadata": {},
   "outputs": [],
   "source": [
    "NGS_2016_wk1_6 = pd.read_csv('NGS-2016-reg-wk1-6.csv')\n",
    "NGS_2016_wk7_12 = pd.read_csv('NGS-2016-reg-wk7-12.csv')\n",
    "NGS_2016_wk13_17 = pd.read_csv('NGS-2016-reg-wk13-17.csv')"
   ]
  },
  {
   "cell_type": "code",
   "execution_count": 6,
   "metadata": {},
   "outputs": [],
   "source": [
    "# NGS_2017_wk1_6 = pd.read_csv('NGS-2017-reg-wk1-6.csv')\n",
    "# NGS_2017_wk7_12 = pd.read_csv('NGS-2017-reg-wk7-12.csv')\n",
    "# NGS_2017_wk13_17 = pd.read_csv('NGS-2017-reg-wk13-17.csv')"
   ]
  },
  {
   "cell_type": "code",
   "execution_count": 7,
   "metadata": {},
   "outputs": [],
   "source": [
    "NGS_2016 = pd.concat([NGS_2016_wk1_6, NGS_2016_wk7_12, NGS_2016_wk13_17])"
   ]
  },
  {
   "cell_type": "code",
   "execution_count": null,
   "metadata": {},
   "outputs": [],
   "source": [
    "# NGS_2017 = pd.concat([NGS_2017_wk1_6, NGS_2017_wk7_12, NGS_2017_wk13_17])"
   ]
  },
  {
   "cell_type": "code",
   "execution_count": null,
   "metadata": {},
   "outputs": [],
   "source": [
    "# NGS_df = pd.concat([NGS_2016, NGS_2017])"
   ]
  },
  {
   "cell_type": "markdown",
   "metadata": {},
   "source": [
    "### Injury Plays EDA"
   ]
  },
  {
   "cell_type": "code",
   "execution_count": 16,
   "metadata": {},
   "outputs": [
    {
     "data": {
      "text/plain": [
       "'There are concussion injuries on 0.55% of punt plays'"
      ]
     },
     "execution_count": 16,
     "metadata": {},
     "output_type": "execute_result"
    }
   ],
   "source": [
    "'There are concussion injuries on ' + str(round(len(video_review) / float(len(play_info)) * 100, 2)) + '% of ' + 'punt plays'"
   ]
  },
  {
   "cell_type": "markdown",
   "metadata": {},
   "source": [
    "##### It is good for the NFL and players that injuries only occure on less than 1% of punt plays, but it will be hard to do analysis"
   ]
  },
  {
   "cell_type": "markdown",
   "metadata": {},
   "source": [
    "#### How are players being injured?"
   ]
  },
  {
   "cell_type": "code",
   "execution_count": 17,
   "metadata": {},
   "outputs": [
    {
     "name": "stdout",
     "output_type": "stream",
     "text": [
      "This is the format of your plot grid:\n",
      "[ (1,1) x1,y1 ]  [ (1,2) x2,y2 ]\n",
      "[ (2,1) x3,y3 ]  [ (2,2) x4,y4 ]\n",
      "\n"
     ]
    },
    {
     "data": {
      "text/html": [
       "<iframe id=\"igraph\" scrolling=\"no\" style=\"border:none;\" seamless=\"seamless\" src=\"https://plot.ly/~mtodisco10/8.embed\" height=\"525px\" width=\"100%\"></iframe>"
      ],
      "text/plain": [
       "<plotly.tools.PlotlyDisplay object>"
      ]
     },
     "execution_count": 17,
     "metadata": {},
     "output_type": "execute_result"
    }
   ],
   "source": [
    "trace1 = go.Bar(\n",
    "        x=video_review.groupby(['Player_Activity_Derived'], as_index=False)['PlayID'].count()['Player_Activity_Derived'],\n",
    "        y=video_review.groupby(['Player_Activity_Derived'], as_index=False)['PlayID'].count()['PlayID']\n",
    "    )\n",
    "trace2 = go.Bar(\n",
    "        x=video_review.groupby(['Primary_Impact_Type'], as_index=False)['PlayID'].count()['Primary_Impact_Type'],\n",
    "        y=video_review.groupby(['Primary_Impact_Type'], as_index=False)['PlayID'].count()['PlayID'],\n",
    "    )\n",
    "trace3 = go.Bar(\n",
    "        x=video_review.groupby(['Friendly_Fire'], as_index=False)['PlayID'].count()['Friendly_Fire'],\n",
    "        y=video_review.groupby(['Friendly_Fire'], as_index=False)['PlayID'].count()['PlayID'],\n",
    "    )\n",
    "trace4 = go.Bar(\n",
    "        x=video_review.groupby(['Primary_Partner_Activity_Derived'], as_index=False)['PlayID'].count()['Primary_Partner_Activity_Derived'],\n",
    "        y=video_review.groupby(['Primary_Partner_Activity_Derived'], as_index=False)['PlayID'].count()['PlayID'],\n",
    "    )\n",
    "\n",
    "fig = tools.make_subplots(rows=2, cols=2, subplot_titles=('Player Activity Derived', 'Primary Impact Type',\n",
    "                                                          'Friendly Fire', 'Primary Partner Activity Derived'))\n",
    "\n",
    "fig.append_trace(trace1, 1, 1)\n",
    "fig.append_trace(trace2, 1, 2)\n",
    "fig.append_trace(trace3, 2, 1)\n",
    "fig.append_trace(trace4, 2, 2)\n",
    "\n",
    "fig['layout'].update(showlegend=False)\n",
    "\n",
    "py.iplot(fig, filename='make-subplots-multiple-with-titles')"
   ]
  },
  {
   "cell_type": "markdown",
   "metadata": {},
   "source": [
    "### Quick Conclusions\n",
    "    - No player activity stands out\n",
    "    - Helmet to player is primary impact type\n",
    "    - Friendly fire is only clear 16% of the time\n",
    "    - No Partner Activity Stands Out"
   ]
  },
  {
   "cell_type": "markdown",
   "metadata": {},
   "source": [
    "#### Who's getting hurt?"
   ]
  },
  {
   "cell_type": "code",
   "execution_count": 18,
   "metadata": {},
   "outputs": [],
   "source": [
    "#Categorize player punt roles into the sides of the ball\n",
    "return_roles = ['PDL1','PDL2','PDL3','PDL4','PDL5','PDL6','PDM','PDR1','PDR2','PDR3','PDR4','PDR5','PDR6'\n",
    "                ,'PFB','PLL','PLL1','PLL2','PLL3','PLM','PLM1','PLR','PLR1','PLR2','PLR3','PR','VL','VLi'\n",
    "                ,'VLo','VR','VRi','VRo']\n",
    "\n",
    "coverage_roles = ['GL','GLi','GLo','GR','GRi','GRo','P','PC','PLG','PLS','PLT','PLW','PPL','PPLi','PPLo'\n",
    "                 ,'PPR','PPRi','PPRo','PRG','PRT','PRW']\n",
    "\n",
    "gunner_blockers = ['VL','VLi','VLo','VR','VRi','VRo']"
   ]
  },
  {
   "cell_type": "code",
   "execution_count": 19,
   "metadata": {},
   "outputs": [],
   "source": [
    "inj_players = video_review.merge(play_player_role, how='inner', on=['Season_Year', 'GameKey', 'PlayID', 'GSISID'])\n",
    "inj_players.rename(columns={'Role':'inj_role'}, inplace=True)"
   ]
  },
  {
   "cell_type": "code",
   "execution_count": 20,
   "metadata": {},
   "outputs": [],
   "source": [
    "inj_players['inj_side_of_ball'] = np.where(inj_players.inj_role.isin(return_roles), 'return',\n",
    "                                          np.where(inj_players.inj_role.isin(coverage_roles), 'coverage', ''))"
   ]
  },
  {
   "cell_type": "code",
   "execution_count": 21,
   "metadata": {},
   "outputs": [],
   "source": [
    "partner_players = video_review[['Season_Year', 'GameKey', 'PlayID', 'Primary_Partner_GSISID']]\n",
    "partner_players['Primary_Partner_GSISID'] = partner_players.loc[:,'Primary_Partner_GSISID'] \\\n",
    "                                                .replace('Unclear','0').fillna(0).astype(int)\n",
    "partner_players = partner_players.merge(play_player_role, how='left', \\\n",
    "                                        left_on=['Season_Year', 'GameKey', 'PlayID', 'Primary_Partner_GSISID'],\\\n",
    "                                       right_on =['Season_Year', 'GameKey', 'PlayID', 'GSISID'])\n",
    "partner_players = partner_players.drop('GSISID', axis=1)\n",
    "partner_players.rename(columns={'Role':'partner_role'}, inplace=True)\n",
    "partner_players['partner_side_of_ball'] = np.where(partner_players.partner_role.isin(return_roles), 'return',\n",
    "                                          np.where(partner_players.partner_role.isin(coverage_roles), 'coverage', ''))\n",
    "inj_partner_df = pd.concat([inj_players,partner_players[['partner_role','partner_side_of_ball']]], axis = 1)"
   ]
  },
  {
   "cell_type": "code",
   "execution_count": 22,
   "metadata": {},
   "outputs": [
    {
     "data": {
      "text/html": [
       "<div>\n",
       "<style>\n",
       "    .dataframe thead tr:only-child th {\n",
       "        text-align: right;\n",
       "    }\n",
       "\n",
       "    .dataframe thead th {\n",
       "        text-align: left;\n",
       "    }\n",
       "\n",
       "    .dataframe tbody tr th {\n",
       "        vertical-align: top;\n",
       "    }\n",
       "</style>\n",
       "<table border=\"1\" class=\"dataframe\">\n",
       "  <thead>\n",
       "    <tr style=\"text-align: right;\">\n",
       "      <th></th>\n",
       "      <th>Season_Year</th>\n",
       "      <th>GameKey</th>\n",
       "      <th>PlayID</th>\n",
       "      <th>GSISID</th>\n",
       "      <th>Player_Activity_Derived</th>\n",
       "      <th>Turnover_Related</th>\n",
       "      <th>Primary_Impact_Type</th>\n",
       "      <th>Primary_Partner_GSISID</th>\n",
       "      <th>Primary_Partner_Activity_Derived</th>\n",
       "      <th>Friendly_Fire</th>\n",
       "      <th>inj_role</th>\n",
       "      <th>inj_side_of_ball</th>\n",
       "      <th>partner_role</th>\n",
       "      <th>partner_side_of_ball</th>\n",
       "    </tr>\n",
       "  </thead>\n",
       "  <tbody>\n",
       "    <tr>\n",
       "      <th>0</th>\n",
       "      <td>2016</td>\n",
       "      <td>5</td>\n",
       "      <td>3129</td>\n",
       "      <td>31057</td>\n",
       "      <td>Tackling</td>\n",
       "      <td>No</td>\n",
       "      <td>Helmet-to-body</td>\n",
       "      <td>32482</td>\n",
       "      <td>Tackled</td>\n",
       "      <td>No</td>\n",
       "      <td>PLW</td>\n",
       "      <td>coverage</td>\n",
       "      <td>PR</td>\n",
       "      <td>return</td>\n",
       "    </tr>\n",
       "    <tr>\n",
       "      <th>1</th>\n",
       "      <td>2016</td>\n",
       "      <td>21</td>\n",
       "      <td>2587</td>\n",
       "      <td>29343</td>\n",
       "      <td>Blocked</td>\n",
       "      <td>No</td>\n",
       "      <td>Helmet-to-helmet</td>\n",
       "      <td>31059</td>\n",
       "      <td>Blocking</td>\n",
       "      <td>No</td>\n",
       "      <td>GL</td>\n",
       "      <td>coverage</td>\n",
       "      <td>PLL1</td>\n",
       "      <td>return</td>\n",
       "    </tr>\n",
       "    <tr>\n",
       "      <th>2</th>\n",
       "      <td>2016</td>\n",
       "      <td>29</td>\n",
       "      <td>538</td>\n",
       "      <td>31023</td>\n",
       "      <td>Tackling</td>\n",
       "      <td>No</td>\n",
       "      <td>Helmet-to-body</td>\n",
       "      <td>31941</td>\n",
       "      <td>Tackled</td>\n",
       "      <td>No</td>\n",
       "      <td>GR</td>\n",
       "      <td>coverage</td>\n",
       "      <td>PR</td>\n",
       "      <td>return</td>\n",
       "    </tr>\n",
       "    <tr>\n",
       "      <th>3</th>\n",
       "      <td>2016</td>\n",
       "      <td>45</td>\n",
       "      <td>1212</td>\n",
       "      <td>33121</td>\n",
       "      <td>Tackling</td>\n",
       "      <td>No</td>\n",
       "      <td>Helmet-to-body</td>\n",
       "      <td>28249</td>\n",
       "      <td>Tackled</td>\n",
       "      <td>No</td>\n",
       "      <td>PRT</td>\n",
       "      <td>coverage</td>\n",
       "      <td>PR</td>\n",
       "      <td>return</td>\n",
       "    </tr>\n",
       "    <tr>\n",
       "      <th>4</th>\n",
       "      <td>2016</td>\n",
       "      <td>54</td>\n",
       "      <td>1045</td>\n",
       "      <td>32444</td>\n",
       "      <td>Blocked</td>\n",
       "      <td>No</td>\n",
       "      <td>Helmet-to-body</td>\n",
       "      <td>31756</td>\n",
       "      <td>Blocked</td>\n",
       "      <td>Yes</td>\n",
       "      <td>PRT</td>\n",
       "      <td>coverage</td>\n",
       "      <td>GR</td>\n",
       "      <td>coverage</td>\n",
       "    </tr>\n",
       "  </tbody>\n",
       "</table>\n",
       "</div>"
      ],
      "text/plain": [
       "   Season_Year  GameKey  PlayID  GSISID Player_Activity_Derived  \\\n",
       "0         2016        5    3129   31057                Tackling   \n",
       "1         2016       21    2587   29343                 Blocked   \n",
       "2         2016       29     538   31023                Tackling   \n",
       "3         2016       45    1212   33121                Tackling   \n",
       "4         2016       54    1045   32444                 Blocked   \n",
       "\n",
       "  Turnover_Related Primary_Impact_Type Primary_Partner_GSISID  \\\n",
       "0               No      Helmet-to-body                  32482   \n",
       "1               No    Helmet-to-helmet                  31059   \n",
       "2               No      Helmet-to-body                  31941   \n",
       "3               No      Helmet-to-body                  28249   \n",
       "4               No      Helmet-to-body                  31756   \n",
       "\n",
       "  Primary_Partner_Activity_Derived Friendly_Fire inj_role inj_side_of_ball  \\\n",
       "0                          Tackled            No      PLW         coverage   \n",
       "1                         Blocking            No       GL         coverage   \n",
       "2                          Tackled            No       GR         coverage   \n",
       "3                          Tackled            No      PRT         coverage   \n",
       "4                          Blocked           Yes      PRT         coverage   \n",
       "\n",
       "  partner_role partner_side_of_ball  \n",
       "0           PR               return  \n",
       "1         PLL1               return  \n",
       "2           PR               return  \n",
       "3           PR               return  \n",
       "4           GR             coverage  "
      ]
     },
     "execution_count": 22,
     "metadata": {},
     "output_type": "execute_result"
    }
   ],
   "source": [
    "inj_partner_df.head()"
   ]
  },
  {
   "cell_type": "code",
   "execution_count": 23,
   "metadata": {},
   "outputs": [
    {
     "data": {
      "text/plain": [
       "return      18\n",
       "coverage    15\n",
       "             4\n",
       "Name: partner_side_of_ball, dtype: int64"
      ]
     },
     "execution_count": 23,
     "metadata": {},
     "output_type": "execute_result"
    }
   ],
   "source": [
    "partner_players.partner_side_of_ball.value_counts()"
   ]
  },
  {
   "cell_type": "markdown",
   "metadata": {},
   "source": [
    "#### On what types of plays are players getting hurt?"
   ]
  },
  {
   "cell_type": "code",
   "execution_count": 24,
   "metadata": {},
   "outputs": [],
   "source": [
    "#Create a column in the play_info dataframe to determine the type of play\n",
    "play_info['outcome'] = np.where(play_info['PlayDescription'].str.contains('fair catch', flags=re.IGNORECASE, regex=True), 'fair_catch',\n",
    "                        np.where(play_info['PlayDescription'].str.contains('touchback', flags=re.IGNORECASE, regex=True), 'touchback',\n",
    "                        np.where(play_info['PlayDescription'].str.contains('out of bounds', flags=re.IGNORECASE, regex=True), 'oob',\n",
    "                        np.where(play_info['PlayDescription'].str.contains('downed', flags=re.IGNORECASE, regex=True), 'downed',\n",
    "                        np.where(play_info['PlayDescription'].str.contains('blocked', flags=re.IGNORECASE, regex=True), 'blocked',\n",
    "                        np.where(play_info['PlayDescription'].str.contains('fake|pass', flags=re.IGNORECASE, regex=True), 'fake', \n",
    "                        np.where(play_info['PlayDescription'].str.contains('safety', flags=re.IGNORECASE, regex=True), 'safety',\n",
    "                        np.where(play_info['PlayDescription'].str.contains('[0-9]+ for [-+]?[0-9]+ yards?|for no gain|muffs|touchdown', flags=re.IGNORECASE, regex=True), 'return',         \n",
    "                        np.where(play_info['PlayDescription'].str.contains('- no play|delay of game|false start, declined|penalty enforced', flags=re.IGNORECASE, regex=True), 'no_play', ' ')))))))))"
   ]
  },
  {
   "cell_type": "code",
   "execution_count": 25,
   "metadata": {},
   "outputs": [],
   "source": [
    "pi = play_info.merge(video_review[['Season_Year', 'GameKey', 'PlayID','GSISID']], how='left', on =['Season_Year', 'GameKey', 'PlayID'])\n",
    "pi['injury'] = np.where(pi.GSISID.notnull(), 1, 0).astype(int)\n",
    "pi.drop('GSISID', axis = 1, inplace=True)\n",
    "vr = play_info.merge(video_review, how='inner', on =['Season_Year', 'GameKey', 'PlayID'])"
   ]
  },
  {
   "cell_type": "code",
   "execution_count": 26,
   "metadata": {},
   "outputs": [
    {
     "data": {
      "text/plain": [
       "return        32\n",
       "downed         3\n",
       "fair_catch     2\n",
       "Name: outcome, dtype: int64"
      ]
     },
     "execution_count": 26,
     "metadata": {},
     "output_type": "execute_result"
    }
   ],
   "source": [
    "vr.outcome.value_counts()"
   ]
  },
  {
   "cell_type": "markdown",
   "metadata": {},
   "source": [
    "#### Conclusion: players are getting hurt on returns "
   ]
  },
  {
   "cell_type": "code",
   "execution_count": 27,
   "metadata": {},
   "outputs": [],
   "source": [
    "#Is it a higher proportion compared to all plays?"
   ]
  },
  {
   "cell_type": "code",
   "execution_count": 28,
   "metadata": {},
   "outputs": [
    {
     "data": {
      "text/html": [
       "<div>\n",
       "<style>\n",
       "    .dataframe thead tr:only-child th {\n",
       "        text-align: right;\n",
       "    }\n",
       "\n",
       "    .dataframe thead th {\n",
       "        text-align: left;\n",
       "    }\n",
       "\n",
       "    .dataframe tbody tr th {\n",
       "        vertical-align: top;\n",
       "    }\n",
       "</style>\n",
       "<table border=\"1\" class=\"dataframe\">\n",
       "  <thead>\n",
       "    <tr style=\"text-align: right;\">\n",
       "      <th></th>\n",
       "      <th>outcome</th>\n",
       "      <th>total_plays</th>\n",
       "      <th>injuries</th>\n",
       "      <th>injury_percentage</th>\n",
       "    </tr>\n",
       "  </thead>\n",
       "  <tbody>\n",
       "    <tr>\n",
       "      <th>0</th>\n",
       "      <td>return</td>\n",
       "      <td>2917</td>\n",
       "      <td>32</td>\n",
       "      <td>1.1%</td>\n",
       "    </tr>\n",
       "    <tr>\n",
       "      <th>1</th>\n",
       "      <td>fair_catch</td>\n",
       "      <td>1663</td>\n",
       "      <td>2</td>\n",
       "      <td>0.1%</td>\n",
       "    </tr>\n",
       "    <tr>\n",
       "      <th>2</th>\n",
       "      <td>downed</td>\n",
       "      <td>802</td>\n",
       "      <td>3</td>\n",
       "      <td>0.4%</td>\n",
       "    </tr>\n",
       "    <tr>\n",
       "      <th>3</th>\n",
       "      <td>oob</td>\n",
       "      <td>696</td>\n",
       "      <td>0</td>\n",
       "      <td>0.0%</td>\n",
       "    </tr>\n",
       "    <tr>\n",
       "      <th>4</th>\n",
       "      <td>touchback</td>\n",
       "      <td>407</td>\n",
       "      <td>0</td>\n",
       "      <td>0.0%</td>\n",
       "    </tr>\n",
       "    <tr>\n",
       "      <th>5</th>\n",
       "      <td>no_play</td>\n",
       "      <td>139</td>\n",
       "      <td>0</td>\n",
       "      <td>0.0%</td>\n",
       "    </tr>\n",
       "    <tr>\n",
       "      <th>6</th>\n",
       "      <td>blocked</td>\n",
       "      <td>26</td>\n",
       "      <td>0</td>\n",
       "      <td>0.0%</td>\n",
       "    </tr>\n",
       "    <tr>\n",
       "      <th>7</th>\n",
       "      <td>fake</td>\n",
       "      <td>25</td>\n",
       "      <td>0</td>\n",
       "      <td>0.0%</td>\n",
       "    </tr>\n",
       "    <tr>\n",
       "      <th>8</th>\n",
       "      <td>safety</td>\n",
       "      <td>6</td>\n",
       "      <td>0</td>\n",
       "      <td>0.0%</td>\n",
       "    </tr>\n",
       "  </tbody>\n",
       "</table>\n",
       "</div>"
      ],
      "text/plain": [
       "      outcome  total_plays  injuries injury_percentage\n",
       "0      return         2917        32              1.1%\n",
       "1  fair_catch         1663         2              0.1%\n",
       "2      downed          802         3              0.4%\n",
       "3         oob          696         0              0.0%\n",
       "4   touchback          407         0              0.0%\n",
       "5     no_play          139         0              0.0%\n",
       "6     blocked           26         0              0.0%\n",
       "7        fake           25         0              0.0%\n",
       "8      safety            6         0              0.0%"
      ]
     },
     "execution_count": 28,
     "metadata": {},
     "output_type": "execute_result"
    }
   ],
   "source": [
    "pi_inj_grouped = pi.groupby(['outcome'], as_index=False)['injury'] \\\n",
    "    .agg({'total_plays':'count','injuries':sum}) \\\n",
    "    .sort_values('total_plays', ascending = False) \\\n",
    "    .reset_index(drop=True)\n",
    "\n",
    "pi_inj_grouped['injury_percentage'] = round(pi_inj_grouped['injuries'] / pi_inj_grouped['total_plays'] * 100, 1).astype(str) + '%'\n",
    "pi_inj_grouped"
   ]
  },
  {
   "cell_type": "markdown",
   "metadata": {},
   "source": [
    "#### Conclusion: over 1% of punt plays with a return have an injury\n",
    "    - **** This is 10x higher than when a fair catch is called"
   ]
  },
  {
   "cell_type": "markdown",
   "metadata": {},
   "source": [
    "### Does speed correlate with injury?"
   ]
  },
  {
   "cell_type": "code",
   "execution_count": 29,
   "metadata": {},
   "outputs": [],
   "source": [
    "injury_ngs = video_review.merge(NGS_2016, how ='inner', left_on=['GSISID','PlayID','GameKey'], right_on=['GSISID','PlayID','GameKey'])"
   ]
  },
  {
   "cell_type": "code",
   "execution_count": 248,
   "metadata": {},
   "outputs": [],
   "source": [
    "injury_ngs['dis_per_second'] = injury_ngs.dis * 10\n",
    "injury_ngs['dis_mph'] = injury_ngs.dis_per_second * 2.0455"
   ]
  },
  {
   "cell_type": "code",
   "execution_count": 251,
   "metadata": {},
   "outputs": [
    {
     "data": {
      "text/plain": [
       "PlayID\n",
       "1526    18.000400\n",
       "1976    17.591300\n",
       "2341    19.432250\n",
       "2342    20.864100\n",
       "2667    21.068649\n",
       "2902    13.500301\n",
       "2918     5.727400\n",
       "3278    18.409500\n",
       "3468    17.795850\n",
       "3509    13.909400\n",
       "3609    19.432250\n",
       "3663    10.841149\n",
       "3746    19.432250\n",
       "Name: dis_mph, dtype: float64"
      ]
     },
     "execution_count": 251,
     "metadata": {},
     "output_type": "execute_result"
    }
   ],
   "source": [
    "injury_ngs.groupby('PlayID')['dis_mph'].agg(max)"
   ]
  },
  {
   "cell_type": "code",
   "execution_count": 256,
   "metadata": {},
   "outputs": [
    {
     "data": {
      "text/html": [
       "<div>\n",
       "<style>\n",
       "    .dataframe thead tr:only-child th {\n",
       "        text-align: right;\n",
       "    }\n",
       "\n",
       "    .dataframe thead th {\n",
       "        text-align: left;\n",
       "    }\n",
       "\n",
       "    .dataframe tbody tr th {\n",
       "        vertical-align: top;\n",
       "    }\n",
       "</style>\n",
       "<table border=\"1\" class=\"dataframe\">\n",
       "  <thead>\n",
       "    <tr style=\"text-align: right;\">\n",
       "      <th></th>\n",
       "      <th>Season_Year</th>\n",
       "      <th>Season_Type</th>\n",
       "      <th>GameKey</th>\n",
       "      <th>Game_Date</th>\n",
       "      <th>Week</th>\n",
       "      <th>PlayID</th>\n",
       "      <th>Game_Clock</th>\n",
       "      <th>YardLine</th>\n",
       "      <th>Quarter</th>\n",
       "      <th>Play_Type</th>\n",
       "      <th>...</th>\n",
       "      <th>Score_Home_Visiting</th>\n",
       "      <th>PlayDescription</th>\n",
       "      <th>outcome</th>\n",
       "      <th>GSISID</th>\n",
       "      <th>Player_Activity_Derived</th>\n",
       "      <th>Turnover_Related</th>\n",
       "      <th>Primary_Impact_Type</th>\n",
       "      <th>Primary_Partner_GSISID</th>\n",
       "      <th>Primary_Partner_Activity_Derived</th>\n",
       "      <th>Friendly_Fire</th>\n",
       "    </tr>\n",
       "  </thead>\n",
       "  <tbody>\n",
       "    <tr>\n",
       "      <th>0</th>\n",
       "      <td>2016</td>\n",
       "      <td>Pre</td>\n",
       "      <td>5</td>\n",
       "      <td>08/11/2016</td>\n",
       "      <td>2</td>\n",
       "      <td>3129</td>\n",
       "      <td>03:44</td>\n",
       "      <td>CHI 31</td>\n",
       "      <td>3</td>\n",
       "      <td>Punt</td>\n",
       "      <td>...</td>\n",
       "      <td>0 - 22</td>\n",
       "      <td>(3:44) (Punt formation) P.O'Donnell punts 58 y...</td>\n",
       "      <td>return</td>\n",
       "      <td>31057</td>\n",
       "      <td>Tackling</td>\n",
       "      <td>No</td>\n",
       "      <td>Helmet-to-body</td>\n",
       "      <td>32482</td>\n",
       "      <td>Tackled</td>\n",
       "      <td>No</td>\n",
       "    </tr>\n",
       "    <tr>\n",
       "      <th>1</th>\n",
       "      <td>2016</td>\n",
       "      <td>Pre</td>\n",
       "      <td>21</td>\n",
       "      <td>08/20/2016</td>\n",
       "      <td>3</td>\n",
       "      <td>2587</td>\n",
       "      <td>05:52</td>\n",
       "      <td>TEN 45</td>\n",
       "      <td>3</td>\n",
       "      <td>Punt</td>\n",
       "      <td>...</td>\n",
       "      <td>10 - 13</td>\n",
       "      <td>(5:52) (Punt formation) K.Redfern punts 36 yar...</td>\n",
       "      <td>downed</td>\n",
       "      <td>29343</td>\n",
       "      <td>Blocked</td>\n",
       "      <td>No</td>\n",
       "      <td>Helmet-to-helmet</td>\n",
       "      <td>31059</td>\n",
       "      <td>Blocking</td>\n",
       "      <td>No</td>\n",
       "    </tr>\n",
       "    <tr>\n",
       "      <th>2</th>\n",
       "      <td>2016</td>\n",
       "      <td>Pre</td>\n",
       "      <td>29</td>\n",
       "      <td>08/19/2016</td>\n",
       "      <td>3</td>\n",
       "      <td>538</td>\n",
       "      <td>04:46</td>\n",
       "      <td>NYJ 22</td>\n",
       "      <td>1</td>\n",
       "      <td>Punt</td>\n",
       "      <td>...</td>\n",
       "      <td>0 - 0</td>\n",
       "      <td>(4:46) L.Edwards punts 51 yards to WAS 27, Cen...</td>\n",
       "      <td>return</td>\n",
       "      <td>31023</td>\n",
       "      <td>Tackling</td>\n",
       "      <td>No</td>\n",
       "      <td>Helmet-to-body</td>\n",
       "      <td>31941</td>\n",
       "      <td>Tackled</td>\n",
       "      <td>No</td>\n",
       "    </tr>\n",
       "    <tr>\n",
       "      <th>3</th>\n",
       "      <td>2016</td>\n",
       "      <td>Pre</td>\n",
       "      <td>45</td>\n",
       "      <td>08/27/2016</td>\n",
       "      <td>4</td>\n",
       "      <td>1212</td>\n",
       "      <td>08:29</td>\n",
       "      <td>NYG 46</td>\n",
       "      <td>2</td>\n",
       "      <td>Punt</td>\n",
       "      <td>...</td>\n",
       "      <td>0 - 0</td>\n",
       "      <td>(8:29) B.Wing punts 44 yards to NYJ 10, Center...</td>\n",
       "      <td>return</td>\n",
       "      <td>33121</td>\n",
       "      <td>Tackling</td>\n",
       "      <td>No</td>\n",
       "      <td>Helmet-to-body</td>\n",
       "      <td>28249</td>\n",
       "      <td>Tackled</td>\n",
       "      <td>No</td>\n",
       "    </tr>\n",
       "    <tr>\n",
       "      <th>4</th>\n",
       "      <td>2016</td>\n",
       "      <td>Pre</td>\n",
       "      <td>54</td>\n",
       "      <td>09/01/2016</td>\n",
       "      <td>5</td>\n",
       "      <td>1045</td>\n",
       "      <td>09:57</td>\n",
       "      <td>PIT 24</td>\n",
       "      <td>2</td>\n",
       "      <td>Punt</td>\n",
       "      <td>...</td>\n",
       "      <td>6 - 0</td>\n",
       "      <td>(9:57) J.Berry punts 45 yards to CAR 31, Cente...</td>\n",
       "      <td>return</td>\n",
       "      <td>32444</td>\n",
       "      <td>Blocked</td>\n",
       "      <td>No</td>\n",
       "      <td>Helmet-to-body</td>\n",
       "      <td>31756</td>\n",
       "      <td>Blocked</td>\n",
       "      <td>Yes</td>\n",
       "    </tr>\n",
       "  </tbody>\n",
       "</table>\n",
       "<p>5 rows × 22 columns</p>\n",
       "</div>"
      ],
      "text/plain": [
       "   Season_Year Season_Type  GameKey   Game_Date  Week  PlayID Game_Clock  \\\n",
       "0         2016         Pre        5  08/11/2016     2    3129      03:44   \n",
       "1         2016         Pre       21  08/20/2016     3    2587      05:52   \n",
       "2         2016         Pre       29  08/19/2016     3     538      04:46   \n",
       "3         2016         Pre       45  08/27/2016     4    1212      08:29   \n",
       "4         2016         Pre       54  09/01/2016     5    1045      09:57   \n",
       "\n",
       "  YardLine  Quarter Play_Type      ...      Score_Home_Visiting  \\\n",
       "0   CHI 31        3      Punt      ...                   0 - 22   \n",
       "1   TEN 45        3      Punt      ...                  10 - 13   \n",
       "2   NYJ 22        1      Punt      ...                    0 - 0   \n",
       "3   NYG 46        2      Punt      ...                    0 - 0   \n",
       "4   PIT 24        2      Punt      ...                    6 - 0   \n",
       "\n",
       "                                     PlayDescription outcome GSISID  \\\n",
       "0  (3:44) (Punt formation) P.O'Donnell punts 58 y...  return  31057   \n",
       "1  (5:52) (Punt formation) K.Redfern punts 36 yar...  downed  29343   \n",
       "2  (4:46) L.Edwards punts 51 yards to WAS 27, Cen...  return  31023   \n",
       "3  (8:29) B.Wing punts 44 yards to NYJ 10, Center...  return  33121   \n",
       "4  (9:57) J.Berry punts 45 yards to CAR 31, Cente...  return  32444   \n",
       "\n",
       "  Player_Activity_Derived  Turnover_Related Primary_Impact_Type  \\\n",
       "0                Tackling                No      Helmet-to-body   \n",
       "1                 Blocked                No    Helmet-to-helmet   \n",
       "2                Tackling                No      Helmet-to-body   \n",
       "3                Tackling                No      Helmet-to-body   \n",
       "4                 Blocked                No      Helmet-to-body   \n",
       "\n",
       "  Primary_Partner_GSISID Primary_Partner_Activity_Derived Friendly_Fire  \n",
       "0                  32482                          Tackled            No  \n",
       "1                  31059                         Blocking            No  \n",
       "2                  31941                          Tackled            No  \n",
       "3                  28249                          Tackled            No  \n",
       "4                  31756                          Blocked           Yes  \n",
       "\n",
       "[5 rows x 22 columns]"
      ]
     },
     "execution_count": 256,
     "metadata": {},
     "output_type": "execute_result"
    }
   ],
   "source": [
    "vr_merged.head()"
   ]
  },
  {
   "cell_type": "code",
   "execution_count": 395,
   "metadata": {},
   "outputs": [],
   "source": [
    "import plotly"
   ]
  },
  {
   "cell_type": "code",
   "execution_count": 258,
   "metadata": {},
   "outputs": [],
   "source": [
    "import plotly.graph_objs as go\n",
    "from plotly import offline\n",
    "import plotly.plotly as py\n",
    "plotly.tools.set_credentials_file(username='mtodisco10', api_key='bCfUmq5FralbymKXY4uX')"
   ]
  },
  {
   "cell_type": "code",
   "execution_count": 396,
   "metadata": {},
   "outputs": [],
   "source": [
    "def load_layout():\n",
    "    \"\"\"\n",
    "    Returns a dict for a Football themed Plot.ly layout \n",
    "    \"\"\"\n",
    "    layout = dict(\n",
    "        title = \"Player Activity\",\n",
    "        plot_bgcolor='darkseagreen',\n",
    "        showlegend=True,\n",
    "        xaxis=dict(\n",
    "            autorange=False,\n",
    "            range=[0, 120],\n",
    "            showgrid=False,\n",
    "            zeroline=False,\n",
    "            showline=True,\n",
    "            linecolor='black',\n",
    "            linewidth=1,\n",
    "            mirror=True,\n",
    "            ticks='',\n",
    "            tickmode='array',\n",
    "            tickvals=[10,20, 30, 40, 50, 60, 70, 80, 90, 100, 110],\n",
    "            ticktext=['Goal', 10, 20, 30, 40, 50, 40, 30, 20, 10, 'Goal'],\n",
    "            showticklabels=True\n",
    "        ),\n",
    "        yaxis=dict(\n",
    "            title='',\n",
    "            autorange=False,\n",
    "            range=[-3.3,56.3],\n",
    "            showgrid=False,\n",
    "            zeroline=False,\n",
    "            showline=True,\n",
    "            linecolor='black',\n",
    "            linewidth=1,\n",
    "            mirror=True,\n",
    "            ticks='',\n",
    "            showticklabels=False\n",
    "        ),\n",
    "        shapes=[\n",
    "            dict(\n",
    "                type='line',\n",
    "                layer='below',\n",
    "                x0=0,\n",
    "                y0=0,\n",
    "                x1=120,\n",
    "                y1=0,\n",
    "                line=dict(\n",
    "                    color='white',\n",
    "                    width=2\n",
    "                )\n",
    "            ),\n",
    "            dict(\n",
    "                type='line',\n",
    "                layer='below',\n",
    "                x0=0,\n",
    "                y0=53.3,\n",
    "                x1=120,\n",
    "                y1=53.3,\n",
    "                line=dict(\n",
    "                    color='white',\n",
    "                    width=2\n",
    "                )\n",
    "            ),\n",
    "            dict(\n",
    "                type='line',\n",
    "                layer='below',\n",
    "                x0=10,\n",
    "                y0=0,\n",
    "                x1=10,\n",
    "                y1=53.3,\n",
    "                line=dict(\n",
    "                    color='white',\n",
    "                    width=10\n",
    "                )\n",
    "            ),\n",
    "            dict(\n",
    "                type='line',\n",
    "                layer='below',\n",
    "                x0=20,\n",
    "                y0=0,\n",
    "                x1=20,\n",
    "                y1=53.3,\n",
    "                line=dict(\n",
    "                    color='white'\n",
    "                )\n",
    "            ),\n",
    "            dict(\n",
    "                type='line',\n",
    "                layer='below',\n",
    "                x0=30,\n",
    "                y0=0,\n",
    "                x1=30,\n",
    "                y1=53.3,\n",
    "                line=dict(\n",
    "                    color='white'\n",
    "                )\n",
    "            ),\n",
    "            dict(\n",
    "                type='line',\n",
    "                layer='below',\n",
    "                x0=40,\n",
    "                y0=0,\n",
    "                x1=40,\n",
    "                y1=53.3,\n",
    "                line=dict(\n",
    "                    color='white'\n",
    "                )\n",
    "            ),\n",
    "            dict(\n",
    "                type='line',\n",
    "                layer='below',\n",
    "                x0=50,\n",
    "                y0=0,\n",
    "                x1=50,\n",
    "                y1=53.3,\n",
    "                line=dict(\n",
    "                    color='white'\n",
    "                )\n",
    "            ),\n",
    "            dict(\n",
    "                type='line',\n",
    "                layer='below',\n",
    "                x0=60,\n",
    "                y0=0,\n",
    "                x1=60,\n",
    "                y1=53.3,\n",
    "                line=dict(\n",
    "                    color='white'\n",
    "                )\n",
    "            ),dict(\n",
    "                type='line',\n",
    "                layer='below',\n",
    "                x0=70,\n",
    "                y0=0,\n",
    "                x1=70,\n",
    "                y1=53.3,\n",
    "                line=dict(\n",
    "                    color='white'\n",
    "                )\n",
    "            ),dict(\n",
    "                type='line',\n",
    "                layer='below',\n",
    "                x0=80,\n",
    "                y0=0,\n",
    "                x1=80,\n",
    "                y1=53.3,\n",
    "                line=dict(\n",
    "                    color='white'\n",
    "                )\n",
    "            ),\n",
    "            dict(\n",
    "                type='line',\n",
    "                layer='below',\n",
    "                x0=90,\n",
    "                y0=0,\n",
    "                x1=90,\n",
    "                y1=53.3,\n",
    "                line=dict(\n",
    "                    color='white'\n",
    "                )\n",
    "            ),dict(\n",
    "                type='line',\n",
    "                layer='below',\n",
    "                x0=100,\n",
    "                y0=0,\n",
    "                x1=100,\n",
    "                y1=53.3,\n",
    "                line=dict(\n",
    "                    color='white'\n",
    "                )\n",
    "            ),\n",
    "            dict(\n",
    "                type='line',\n",
    "                layer='below',\n",
    "                x0=110,\n",
    "                y0=0,\n",
    "                x1=110,\n",
    "                y1=53.3,\n",
    "                line=dict(\n",
    "                    color='white',\n",
    "                    width=10\n",
    "                )\n",
    "            )\n",
    "        ]\n",
    "    )\n",
    "    return layout\n",
    "\n",
    "layout = load_layout()"
   ]
  },
  {
   "cell_type": "code",
   "execution_count": 397,
   "metadata": {},
   "outputs": [],
   "source": [
    "# Loading and plotting functions\n",
    "\n",
    "def load_plays_for_game(GameKey):\n",
    "    \"\"\"\n",
    "    Returns a dataframe of play data for a given game (GameKey)\n",
    "    \"\"\"\n",
    "    play_information = pd.read_csv('play_information.csv')\n",
    "    play_information = play_information[play_information['GameKey'] == GameKey]\n",
    "    return play_information\n",
    "\n",
    "\n",
    "def load_game_and_ngs(ngs_file=None, GameKey=None):\n",
    "    \"\"\"\n",
    "    Returns a dataframe of player movements (NGS data) for a given game\n",
    "    \"\"\"\n",
    "    if ngs_file is None:\n",
    "        print(\"Specifiy an NGS file.\")\n",
    "        return None\n",
    "    if GameKey is None:\n",
    "        print('Specify a GameKey')\n",
    "        return None\n",
    "    # Merge play data with NGS data    \n",
    "    plays = load_plays_for_game(GameKey)\n",
    "    ngs = pd.read_csv(ngs_file, low_memory=False)\n",
    "    merged = pd.merge(ngs, plays, how=\"inner\", on=[\"GameKey\", \"PlayID\", \"Season_Year\"])\n",
    "    return merged\n",
    "\n",
    "\n",
    "def plot_play(game_df, PlayID, player1=None, player2=None, custom_layout=False):\n",
    "    \"\"\"\n",
    "    Plots player movements on the field for a given game, play, and two players\n",
    "    \"\"\"\n",
    "    game_df = game_df[game_df.PlayID==PlayID]\n",
    "    \n",
    "    GameKey=str(pd.unique(game_df.GameKey)[0])\n",
    "    HomeTeam = pd.unique(game_df.Home_Team_Visit_Team)[0].split(\"-\")[0]\n",
    "    VisitingTeam = pd.unique(game_df.Home_Team_Visit_Team)[0].split(\"-\")[1]\n",
    "    YardLine = game_df[(game_df.PlayID==PlayID) & (game_df.GSISID==player1)]['YardLine'].iloc[0]\n",
    "    \n",
    "    traces=[]   \n",
    "    if (player1 is not None) & (player2 is not None):\n",
    "        game_df = game_df[ (game_df['GSISID']==player1) | (game_df['GSISID']==player2)]\n",
    "        for player in pd.unique(game_df.GSISID):\n",
    "            player = int(player)\n",
    "            trace = go.Scatter(\n",
    "                x = game_df[game_df.GSISID==player].x,\n",
    "                y = game_df[game_df.GSISID==player].y,\n",
    "                name='GSISID '+str(player),\n",
    "                mode='markers'\n",
    "            )\n",
    "            traces.append(trace)\n",
    "    else:\n",
    "        print(\"Specify GSISIDs for player1 and player2\")\n",
    "        return None\n",
    "    \n",
    "    if custom_layout is not True:\n",
    "        layout = load_layout()\n",
    "        layout['title'] =  HomeTeam + \\\n",
    "        ' vs. ' + VisitingTeam + \\\n",
    "        '<br>Possession: ' + \\\n",
    "        YardLine.split(\" \")[0] +'@'+YardLine.split(\" \")[1]\n",
    "    data = traces\n",
    "    fig = dict(data=data, layout=layout)\n",
    "    play_description = game_df[(game_df.PlayID==PlayID) & (game_df.GSISID==player1)].iloc[0][\"PlayDescription\"]\n",
    "    print(\"\\n\\n\\t\",play_description)\n",
    "    py.iplot(fig,filename='jupyter-table1')\n",
    "    #offline.iplot(fig)"
   ]
  },
  {
   "cell_type": "code",
   "execution_count": 398,
   "metadata": {},
   "outputs": [],
   "source": [
    "game280 = load_game_and_ngs('NGS-2016-reg-wk13-17.csv',GameKey=280)"
   ]
  },
  {
   "cell_type": "code",
   "execution_count": 399,
   "metadata": {},
   "outputs": [
    {
     "name": "stdout",
     "output_type": "stream",
     "text": [
      "\n",
      "\n",
      "\t (3:36) B.Nortman punts 49 yards to HST 30, Center-C.Tinker, fair catch by W.Fuller.\n",
      "High five! You successfully sent some data to your account on plotly. View your plot in your browser at https://plot.ly/~mtodisco10/0 or inside your plot.ly account where it is named 'jupyter-table1'\n"
     ]
    }
   ],
   "source": [
    "plot_play(game_df=game280, PlayID=2918, player1=32120, player2=32725)"
   ]
  },
  {
   "cell_type": "markdown",
   "metadata": {},
   "source": [
    "#### Speed Function"
   ]
  },
  {
   "cell_type": "code",
   "execution_count": 263,
   "metadata": {},
   "outputs": [],
   "source": [
    "def get_speed(ng_data, playId, gameKey, player, partner):\n",
    "    ng_data = pd.read_csv(ng_data)\n",
    "    ng_data['mph'] = convert_to_mph(ng_data['dis'], 20.455)\n",
    "    player_data = ng_data.loc[(ng_data.GameKey == gameKey) & (ng_data.PlayID == playId) \n",
    "                               & (ng_data.GSISID == player)].sort_values('Time')\n",
    "    partner_data = ng_data.loc[(ng_data.GameKey == gameKey) & (ng_data.PlayID == playId) \n",
    "                              & (ng_data.GSISID == partner)].sort_values('Time')\n",
    "    player_grouped = player_data.groupby(['GameKey','PlayID','GSISID'], \n",
    "                               as_index = False)['mph'].agg({'max_mph': max,\n",
    "                                                             'avg_mph': np.mean\n",
    "                                                            })\n",
    "    player_grouped['involvement'] = 'player_injured'\n",
    "    partner_grouped = partner_data.groupby(['GameKey','PlayID','GSISID'], \n",
    "                               as_index = False)['mph'].agg({'max_mph': max,\n",
    "                                                             'avg_mph': np.mean\n",
    "                                                            })\n",
    "    partner_grouped['involvement'] = 'primary_partner'\n",
    "    return pd.concat([player_grouped, partner_grouped], axis = 0)[['involvement',\n",
    "                                                                   'max_mph',\n",
    "                                                                   'avg_mph']].reset_index(drop=True)\n",
    "\n",
    "def convert_to_mph(dis_vector, converter):\n",
    "    mph_vector = dis_vector * converter\n",
    "    return mph_vector\n",
    "\n",
    "get_speed('NGS-2016-pre.csv', 3129, 5, 31057, 32482)"
   ]
  },
  {
   "cell_type": "markdown",
   "metadata": {},
   "source": [
    "#### Calculate hang time of punts"
   ]
  },
  {
   "cell_type": "code",
   "execution_count": 30,
   "metadata": {},
   "outputs": [],
   "source": [
    "def get_hang_time(ngs_df, start_event='punt', *stop_events):\n",
    "    punt_event = ngs_df.loc[ngs_df.Event==start_event] \\\n",
    "        .groupby(['Season_Year', 'GameKey','PlayID'], as_index = False)['Time'].min()\n",
    "    punt_event.rename(columns = {'Time':'punt_time'}, inplace=True)\n",
    "    punt_event['punt_time'] = pd.to_datetime(punt_event['punt_time'],\\\n",
    "                                             format='%Y-%m-%d %H:%M:%S.%f')\n",
    "    \n",
    "    receiving_event = ngs_df.loc[ngs_df.Event.isin(stop_events)] \\\n",
    "        .groupby(['Season_Year', 'GameKey','PlayID'], as_index = False)['Time'].min()\n",
    "    receiving_event.rename(columns = {'Time':'receiving_time'}, inplace=True)\n",
    "    receiving_event['receiving_time'] = pd.to_datetime(receiving_event['receiving_time'],\\\n",
    "                                             format='%Y-%m-%d %H:%M:%S.%f')\n",
    "    \n",
    "    punt_df = punt_event.merge(receiving_event, how='inner', on = ['Season_Year','GameKey','PlayID']) \\\n",
    "                .reset_index(drop=True)\n",
    "    \n",
    "    punt_df['hang_time'] = (punt_df['receiving_time'] - punt_df['punt_time']).dt.total_seconds()\n",
    "    \n",
    "    return punt_df"
   ]
  },
  {
   "cell_type": "code",
   "execution_count": 31,
   "metadata": {},
   "outputs": [],
   "source": [
    "punt_df = get_hang_time(NGS_2016, 'punt', 'punt_received', 'fair_catch')"
   ]
  },
  {
   "cell_type": "code",
   "execution_count": 32,
   "metadata": {},
   "outputs": [
    {
     "data": {
      "text/html": [
       "<iframe id=\"igraph\" scrolling=\"no\" style=\"border:none;\" seamless=\"seamless\" src=\"https://plot.ly/~mtodisco10/10.embed\" height=\"525px\" width=\"100%\"></iframe>"
      ],
      "text/plain": [
       "<plotly.tools.PlotlyDisplay object>"
      ]
     },
     "execution_count": 32,
     "metadata": {},
     "output_type": "execute_result"
    }
   ],
   "source": [
    "data = [go.Histogram(x=punt_df.hang_time)]\n",
    "\n",
    "py.iplot(data, filename='basic histogram')"
   ]
  },
  {
   "cell_type": "code",
   "execution_count": 33,
   "metadata": {},
   "outputs": [
    {
     "data": {
      "text/plain": [
       "4.5"
      ]
     },
     "execution_count": 33,
     "metadata": {},
     "output_type": "execute_result"
    }
   ],
   "source": [
    "round(punt_df['hang_time'].mean(), 1)"
   ]
  },
  {
   "cell_type": "code",
   "execution_count": 34,
   "metadata": {},
   "outputs": [
    {
     "data": {
      "text/plain": [
       "4.5"
      ]
     },
     "execution_count": 34,
     "metadata": {},
     "output_type": "execute_result"
    }
   ],
   "source": [
    "round(punt_df['hang_time'].median(), 1)"
   ]
  },
  {
   "cell_type": "code",
   "execution_count": 35,
   "metadata": {},
   "outputs": [
    {
     "data": {
      "text/plain": [
       "'97.1% of hang times are less than 5 1/2 seconds'"
      ]
     },
     "execution_count": 35,
     "metadata": {},
     "output_type": "execute_result"
    }
   ],
   "source": [
    "str(round(len(punt_df.loc[punt_df.hang_time < 5.5]) / len(punt_df) * 100, 1)) + '% of hang times are less than 5 1/2 seconds'"
   ]
  },
  {
   "cell_type": "markdown",
   "metadata": {},
   "source": [
    "### Calculate distance between returner and closest coverage man"
   ]
  },
  {
   "cell_type": "code",
   "execution_count": 36,
   "metadata": {},
   "outputs": [],
   "source": [
    "play_info_2016_pre = pi.loc[pi['Season_Year'] == 2016]"
   ]
  },
  {
   "cell_type": "code",
   "execution_count": 37,
   "metadata": {},
   "outputs": [],
   "source": [
    "#Create a function to calculate the space between the returner and the closest coverage player for every second between the punt and the catch\n",
    "def coverage_returner_space(play_df, ngs_df):\n",
    "    cov_ret_lst = []\n",
    "    play_df = play_df.loc[(play_df.outcome == 'fair_catch') | (play_df.outcome == 'return')].reset_index(drop=True)\n",
    "    for i in log_progress(range(0, len(play_df)), every=25):\n",
    "        season_key = play_df['Season_Year'][i]\n",
    "        game_key = play_df['GameKey'][i]\n",
    "        play_id = play_df['PlayID'][i]\n",
    "        outcome = play_df['outcome'][i]\n",
    "        injury = play_df['injury'][i]\n",
    "        if game_key in ngs_df.GameKey and play_id in ngs_df.PlayID:\n",
    "            filtered_play = ngs_df.loc[(ngs_df.GameKey == game_key) \\\n",
    "                                       & (ngs_df.PlayID == play_id)].sort_values('Time').reset_index(drop=True)\n",
    "            filtered_play = filtered_play.merge(play_player_role, \\\n",
    "                                                how='inner', on = ['Season_Year','GameKey','PlayID','GSISID'])\n",
    "            if len(filtered_play) > 0:\n",
    "                filtered_play['Time'] = pd.to_datetime(filtered_play['Time'], \\\n",
    "                                                       format='%Y-%m-%d %H:%M:%S.%f')\n",
    "                punt_event_time = filtered_play.loc[filtered_play.Event == 'punt'].Time.min()\n",
    "                receiving_event_time = filtered_play.loc[(filtered_play.Event == 'punt_received') | \\\n",
    "                                                         (filtered_play.Event == 'fair_catch')].Time.min()\n",
    "                gunner_blocker_count = len(filtered_play.loc[filtered_play['Role'].isin(gunner_blockers)]['Role'].unique())\n",
    "                filtered_play = filtered_play.loc[(filtered_play.Time >= punt_event_time) & \\\n",
    "                                                  (filtered_play.Time <= receiving_event_time)]\n",
    "                coverage_df = filtered_play.loc[filtered_play['Role'].isin(coverage_roles)].sort_values('Time')\n",
    "                coverage_df.rename(columns={'x':'cov_x', \n",
    "                                          'y': 'cov_y',\n",
    "                                          'GSISID': 'cov_GSISID',\n",
    "                                          'dis': 'cov_dis',\n",
    "                                          'o': 'cov_o',\n",
    "                                          'dir': 'cov_dir',\n",
    "                                          'Role': 'cov_Role'\n",
    "                                         }, inplace=True)\n",
    "                \n",
    "                returner_df = filtered_play.loc[filtered_play['Role'] == 'PR'].sort_values('Time')\n",
    "                returner_df.rename(columns={'x':'ret_x', \n",
    "                                          'y': 'ret_y',\n",
    "                                          'GSISID': 'ret_GSISID',\n",
    "                                          'dis': 'ret_dis',\n",
    "                                          'o': 'ret_o',\n",
    "                                          'dir': 'ret_dir',\n",
    "                                          'Role': 'ret_Role'\n",
    "                                         }, inplace=True)\n",
    "                returner_df = returner_df.drop('Event', axis = 1)\n",
    "                \n",
    "                cov_ret_df = coverage_df.merge(returner_df, how ='inner', on = ['Season_Year','GameKey','PlayID','Time'])\n",
    "                cov_ret_df['dis_from_ret'] = ((cov_ret_df['cov_x'] -  cov_ret_df['ret_x']) ** 2 \\\n",
    "                                           + (cov_ret_df['cov_y'] -  cov_ret_df['ret_y']) ** 2).apply(np.sqrt)\n",
    "                cov_ret_df['time_since_punt'] = cov_ret_df['Time'] - punt_event_time\n",
    "                times_to_capture = [punt_event_time + pd.Timedelta(seconds=i) for i in range(1, 7)]\n",
    "                cov_ret_df = cov_ret_df.loc[cov_ret_df['Time'].isin(times_to_capture)]\n",
    "                cov_ret_df['gunner_blockers'] = gunner_blocker_count\n",
    "                cov_ret_df['outcome'] = outcome\n",
    "                cov_ret_df['injury'] = injury\n",
    "                cov_ret_df['cov_speed'] = convert_to_mph(cov_ret_df.cov_dis, 20.455)\n",
    "                cov_ret_df['ret_speed'] = convert_to_mph(cov_ret_df.ret_dis, 20.455)\n",
    "                if len(cov_ret_df) > 0:\n",
    "                    cov_ret_lst.append(cov_ret_df)\n",
    "                    \n",
    "    cov_ret_df = pd.concat(cov_ret_lst).reset_index(drop=True)          \n",
    "    return cov_ret_df"
   ]
  },
  {
   "cell_type": "code",
   "execution_count": 38,
   "metadata": {},
   "outputs": [],
   "source": [
    "def convert_to_mph(dis_vector, converter):\n",
    "    mph_vector = dis_vector * converter\n",
    "    return mph_vector"
   ]
  },
  {
   "cell_type": "code",
   "execution_count": null,
   "metadata": {},
   "outputs": [
    {
     "data": {
      "application/vnd.jupyter.widget-view+json": {
       "model_id": "3ff512e37e374f87874be867b6f4e4f9",
       "version_major": 2,
       "version_minor": 0
      },
      "text/plain": [
       "VBox(children=(HTML(value=''), IntProgress(value=0, max=4580)))"
      ]
     },
     "metadata": {},
     "output_type": "display_data"
    }
   ],
   "source": [
    "cov_ret_df = coverage_returner_space(pi, NGS_2016)"
   ]
  },
  {
   "cell_type": "code",
   "execution_count": 390,
   "metadata": {},
   "outputs": [
    {
     "data": {
      "text/plain": [
       "4    0.593950\n",
       "2    0.204015\n",
       "3    0.195957\n",
       "1    0.004052\n",
       "0    0.002026\n",
       "Name: gunner_blockers, dtype: float64"
      ]
     },
     "execution_count": 390,
     "metadata": {},
     "output_type": "execute_result"
    }
   ],
   "source": [
    "cov_ret_df.gunner_blockers.value_counts(normalize=True)"
   ]
  },
  {
   "cell_type": "code",
   "execution_count": 393,
   "metadata": {},
   "outputs": [
    {
     "data": {
      "text/html": [
       "<div>\n",
       "<style>\n",
       "    .dataframe thead tr:only-child th {\n",
       "        text-align: right;\n",
       "    }\n",
       "\n",
       "    .dataframe thead th {\n",
       "        text-align: left;\n",
       "    }\n",
       "\n",
       "    .dataframe tbody tr th {\n",
       "        vertical-align: top;\n",
       "    }\n",
       "</style>\n",
       "<table border=\"1\" class=\"dataframe\">\n",
       "  <thead>\n",
       "    <tr>\n",
       "      <th></th>\n",
       "      <th colspan=\"6\" halign=\"left\">mean</th>\n",
       "      <th colspan=\"6\" halign=\"left\">median</th>\n",
       "    </tr>\n",
       "    <tr>\n",
       "      <th>time_since_punt</th>\n",
       "      <th>00:00:01</th>\n",
       "      <th>00:00:02</th>\n",
       "      <th>00:00:03</th>\n",
       "      <th>00:00:04</th>\n",
       "      <th>00:00:05</th>\n",
       "      <th>00:00:06</th>\n",
       "      <th>00:00:01</th>\n",
       "      <th>00:00:02</th>\n",
       "      <th>00:00:03</th>\n",
       "      <th>00:00:04</th>\n",
       "      <th>00:00:05</th>\n",
       "      <th>00:00:06</th>\n",
       "    </tr>\n",
       "    <tr>\n",
       "      <th>gunner_blockers</th>\n",
       "      <th></th>\n",
       "      <th></th>\n",
       "      <th></th>\n",
       "      <th></th>\n",
       "      <th></th>\n",
       "      <th></th>\n",
       "      <th></th>\n",
       "      <th></th>\n",
       "      <th></th>\n",
       "      <th></th>\n",
       "      <th></th>\n",
       "      <th></th>\n",
       "    </tr>\n",
       "  </thead>\n",
       "  <tbody>\n",
       "    <tr>\n",
       "      <th>0</th>\n",
       "      <td>10.022950</td>\n",
       "      <td>12.375275</td>\n",
       "      <td>14.829875</td>\n",
       "      <td>12.375275</td>\n",
       "      <td>NaN</td>\n",
       "      <td>NaN</td>\n",
       "      <td>10.022950</td>\n",
       "      <td>12.375275</td>\n",
       "      <td>14.829875</td>\n",
       "      <td>12.375275</td>\n",
       "      <td>NaN</td>\n",
       "      <td>NaN</td>\n",
       "    </tr>\n",
       "    <tr>\n",
       "      <th>1</th>\n",
       "      <td>17.693575</td>\n",
       "      <td>19.739074</td>\n",
       "      <td>17.898125</td>\n",
       "      <td>14.881013</td>\n",
       "      <td>NaN</td>\n",
       "      <td>NaN</td>\n",
       "      <td>18.204950</td>\n",
       "      <td>19.739074</td>\n",
       "      <td>17.284475</td>\n",
       "      <td>16.568550</td>\n",
       "      <td>NaN</td>\n",
       "      <td>NaN</td>\n",
       "    </tr>\n",
       "    <tr>\n",
       "      <th>2</th>\n",
       "      <td>17.321666</td>\n",
       "      <td>18.089245</td>\n",
       "      <td>17.187365</td>\n",
       "      <td>14.836770</td>\n",
       "      <td>13.132110</td>\n",
       "      <td>18.716325</td>\n",
       "      <td>17.591300</td>\n",
       "      <td>18.818600</td>\n",
       "      <td>17.898125</td>\n",
       "      <td>15.954899</td>\n",
       "      <td>13.09120</td>\n",
       "      <td>18.716325</td>\n",
       "    </tr>\n",
       "    <tr>\n",
       "      <th>3</th>\n",
       "      <td>16.217893</td>\n",
       "      <td>17.059470</td>\n",
       "      <td>17.141752</td>\n",
       "      <td>16.327689</td>\n",
       "      <td>14.034919</td>\n",
       "      <td>10.585462</td>\n",
       "      <td>17.182199</td>\n",
       "      <td>18.511775</td>\n",
       "      <td>18.204950</td>\n",
       "      <td>16.977650</td>\n",
       "      <td>15.34125</td>\n",
       "      <td>10.636600</td>\n",
       "    </tr>\n",
       "    <tr>\n",
       "      <th>4</th>\n",
       "      <td>14.342336</td>\n",
       "      <td>15.559607</td>\n",
       "      <td>16.334269</td>\n",
       "      <td>16.438777</td>\n",
       "      <td>14.267362</td>\n",
       "      <td>12.022995</td>\n",
       "      <td>15.136700</td>\n",
       "      <td>16.364000</td>\n",
       "      <td>17.182199</td>\n",
       "      <td>16.568550</td>\n",
       "      <td>15.34125</td>\n",
       "      <td>12.477550</td>\n",
       "    </tr>\n",
       "  </tbody>\n",
       "</table>\n",
       "</div>"
      ],
      "text/plain": [
       "                      mean                                              \\\n",
       "time_since_punt   00:00:01   00:00:02   00:00:03   00:00:04   00:00:05   \n",
       "gunner_blockers                                                          \n",
       "0                10.022950  12.375275  14.829875  12.375275        NaN   \n",
       "1                17.693575  19.739074  17.898125  14.881013        NaN   \n",
       "2                17.321666  18.089245  17.187365  14.836770  13.132110   \n",
       "3                16.217893  17.059470  17.141752  16.327689  14.034919   \n",
       "4                14.342336  15.559607  16.334269  16.438777  14.267362   \n",
       "\n",
       "                               median                                   \\\n",
       "time_since_punt   00:00:06   00:00:01   00:00:02   00:00:03   00:00:04   \n",
       "gunner_blockers                                                          \n",
       "0                      NaN  10.022950  12.375275  14.829875  12.375275   \n",
       "1                      NaN  18.204950  19.739074  17.284475  16.568550   \n",
       "2                18.716325  17.591300  18.818600  17.898125  15.954899   \n",
       "3                10.585462  17.182199  18.511775  18.204950  16.977650   \n",
       "4                12.022995  15.136700  16.364000  17.182199  16.568550   \n",
       "\n",
       "                                      \n",
       "time_since_punt  00:00:05   00:00:06  \n",
       "gunner_blockers                       \n",
       "0                     NaN        NaN  \n",
       "1                     NaN        NaN  \n",
       "2                13.09120  18.716325  \n",
       "3                15.34125  10.636600  \n",
       "4                15.34125  12.477550  "
      ]
     },
     "execution_count": 393,
     "metadata": {},
     "output_type": "execute_result"
    }
   ],
   "source": [
    "#Speed vs Number of Gunner Blockers at each second.\n",
    "\n",
    "pd.pivot_table(cov_ret_df.loc[(cov_ret_df.cov_Role == 'GR') | (cov_ret_df.cov_Role == 'GL')], \n",
    "               index=['gunner_blockers'], values='cov_speed',\n",
    "               columns=['time_since_punt'], aggfunc=[np.mean, np.median])"
   ]
  },
  {
   "cell_type": "code",
   "execution_count": 392,
   "metadata": {},
   "outputs": [
    {
     "data": {
      "text/html": [
       "<div>\n",
       "<style>\n",
       "    .dataframe thead tr:only-child th {\n",
       "        text-align: right;\n",
       "    }\n",
       "\n",
       "    .dataframe thead th {\n",
       "        text-align: left;\n",
       "    }\n",
       "\n",
       "    .dataframe tbody tr th {\n",
       "        vertical-align: top;\n",
       "    }\n",
       "</style>\n",
       "<table border=\"1\" class=\"dataframe\">\n",
       "  <thead>\n",
       "    <tr>\n",
       "      <th></th>\n",
       "      <th colspan=\"2\" halign=\"left\">mean</th>\n",
       "      <th colspan=\"2\" halign=\"left\">median</th>\n",
       "    </tr>\n",
       "    <tr>\n",
       "      <th>outcome</th>\n",
       "      <th>fair_catch</th>\n",
       "      <th>return</th>\n",
       "      <th>fair_catch</th>\n",
       "      <th>return</th>\n",
       "    </tr>\n",
       "    <tr>\n",
       "      <th>time_since_punt</th>\n",
       "      <th></th>\n",
       "      <th></th>\n",
       "      <th></th>\n",
       "      <th></th>\n",
       "    </tr>\n",
       "  </thead>\n",
       "  <tbody>\n",
       "    <tr>\n",
       "      <th>00:00:01</th>\n",
       "      <td>43.745141</td>\n",
       "      <td>48.787006</td>\n",
       "      <td>44.745955</td>\n",
       "      <td>48.702027</td>\n",
       "    </tr>\n",
       "    <tr>\n",
       "      <th>00:00:02</th>\n",
       "      <td>38.552676</td>\n",
       "      <td>44.080256</td>\n",
       "      <td>39.303885</td>\n",
       "      <td>43.690657</td>\n",
       "    </tr>\n",
       "    <tr>\n",
       "      <th>00:00:03</th>\n",
       "      <td>31.307944</td>\n",
       "      <td>37.742900</td>\n",
       "      <td>31.293622</td>\n",
       "      <td>37.075601</td>\n",
       "    </tr>\n",
       "    <tr>\n",
       "      <th>00:00:04</th>\n",
       "      <td>24.117084</td>\n",
       "      <td>31.914132</td>\n",
       "      <td>23.126849</td>\n",
       "      <td>30.949322</td>\n",
       "    </tr>\n",
       "    <tr>\n",
       "      <th>00:00:05</th>\n",
       "      <td>18.925329</td>\n",
       "      <td>28.189252</td>\n",
       "      <td>17.190653</td>\n",
       "      <td>26.311259</td>\n",
       "    </tr>\n",
       "    <tr>\n",
       "      <th>00:00:06</th>\n",
       "      <td>20.045922</td>\n",
       "      <td>22.437433</td>\n",
       "      <td>17.030813</td>\n",
       "      <td>19.381877</td>\n",
       "    </tr>\n",
       "  </tbody>\n",
       "</table>\n",
       "</div>"
      ],
      "text/plain": [
       "                      mean                median           \n",
       "outcome         fair_catch     return fair_catch     return\n",
       "time_since_punt                                            \n",
       "00:00:01         43.745141  48.787006  44.745955  48.702027\n",
       "00:00:02         38.552676  44.080256  39.303885  43.690657\n",
       "00:00:03         31.307944  37.742900  31.293622  37.075601\n",
       "00:00:04         24.117084  31.914132  23.126849  30.949322\n",
       "00:00:05         18.925329  28.189252  17.190653  26.311259\n",
       "00:00:06         20.045922  22.437433  17.030813  19.381877"
      ]
     },
     "execution_count": 392,
     "metadata": {},
     "output_type": "execute_result"
    }
   ],
   "source": [
    "# Average distance for all player at the X second mark.  Return vs Fair Catch\n",
    "pd.pivot_table(cov_ret_df, values='dis_from_ret', index=['time_since_punt'], columns=['outcome'], aggfunc=[np.mean, np.median])"
   ]
  },
  {
   "cell_type": "code",
   "execution_count": 394,
   "metadata": {},
   "outputs": [
    {
     "data": {
      "text/html": [
       "<div>\n",
       "<style>\n",
       "    .dataframe thead tr:only-child th {\n",
       "        text-align: right;\n",
       "    }\n",
       "\n",
       "    .dataframe thead th {\n",
       "        text-align: left;\n",
       "    }\n",
       "\n",
       "    .dataframe tbody tr th {\n",
       "        vertical-align: top;\n",
       "    }\n",
       "</style>\n",
       "<table border=\"1\" class=\"dataframe\">\n",
       "  <thead>\n",
       "    <tr>\n",
       "      <th>outcome</th>\n",
       "      <th colspan=\"4\" halign=\"left\">fair_catch</th>\n",
       "      <th colspan=\"5\" halign=\"left\">return</th>\n",
       "    </tr>\n",
       "    <tr>\n",
       "      <th>gunner_blockers</th>\n",
       "      <th>1</th>\n",
       "      <th>2</th>\n",
       "      <th>3</th>\n",
       "      <th>4</th>\n",
       "      <th>0</th>\n",
       "      <th>1</th>\n",
       "      <th>2</th>\n",
       "      <th>3</th>\n",
       "      <th>4</th>\n",
       "    </tr>\n",
       "    <tr>\n",
       "      <th>time_since_punt</th>\n",
       "      <th></th>\n",
       "      <th></th>\n",
       "      <th></th>\n",
       "      <th></th>\n",
       "      <th></th>\n",
       "      <th></th>\n",
       "      <th></th>\n",
       "      <th></th>\n",
       "      <th></th>\n",
       "    </tr>\n",
       "  </thead>\n",
       "  <tbody>\n",
       "    <tr>\n",
       "      <th>00:00:01</th>\n",
       "      <td>39.970724</td>\n",
       "      <td>41.291033</td>\n",
       "      <td>43.798463</td>\n",
       "      <td>46.537340</td>\n",
       "      <td>46.835844</td>\n",
       "      <td>47.490862</td>\n",
       "      <td>47.793062</td>\n",
       "      <td>49.603730</td>\n",
       "      <td>48.765326</td>\n",
       "    </tr>\n",
       "    <tr>\n",
       "      <th>00:00:02</th>\n",
       "      <td>35.633095</td>\n",
       "      <td>36.049210</td>\n",
       "      <td>39.118778</td>\n",
       "      <td>41.073572</td>\n",
       "      <td>43.787933</td>\n",
       "      <td>42.287920</td>\n",
       "      <td>43.377784</td>\n",
       "      <td>44.828234</td>\n",
       "      <td>44.014931</td>\n",
       "    </tr>\n",
       "    <tr>\n",
       "      <th>00:00:03</th>\n",
       "      <td>30.055284</td>\n",
       "      <td>29.334707</td>\n",
       "      <td>32.337813</td>\n",
       "      <td>32.909893</td>\n",
       "      <td>37.573491</td>\n",
       "      <td>35.237645</td>\n",
       "      <td>37.305237</td>\n",
       "      <td>38.550498</td>\n",
       "      <td>37.604682</td>\n",
       "    </tr>\n",
       "    <tr>\n",
       "      <th>00:00:04</th>\n",
       "      <td>24.987765</td>\n",
       "      <td>23.248568</td>\n",
       "      <td>25.213161</td>\n",
       "      <td>24.396625</td>\n",
       "      <td>31.676056</td>\n",
       "      <td>26.754987</td>\n",
       "      <td>31.488348</td>\n",
       "      <td>32.758687</td>\n",
       "      <td>31.782361</td>\n",
       "    </tr>\n",
       "    <tr>\n",
       "      <th>00:00:05</th>\n",
       "      <td>NaN</td>\n",
       "      <td>18.706759</td>\n",
       "      <td>17.912799</td>\n",
       "      <td>19.370232</td>\n",
       "      <td>NaN</td>\n",
       "      <td>NaN</td>\n",
       "      <td>32.515076</td>\n",
       "      <td>28.533237</td>\n",
       "      <td>27.434877</td>\n",
       "    </tr>\n",
       "    <tr>\n",
       "      <th>00:00:06</th>\n",
       "      <td>NaN</td>\n",
       "      <td>NaN</td>\n",
       "      <td>NaN</td>\n",
       "      <td>20.045922</td>\n",
       "      <td>NaN</td>\n",
       "      <td>NaN</td>\n",
       "      <td>20.728033</td>\n",
       "      <td>19.263292</td>\n",
       "      <td>23.588531</td>\n",
       "    </tr>\n",
       "  </tbody>\n",
       "</table>\n",
       "</div>"
      ],
      "text/plain": [
       "outcome         fair_catch                                      return  \\\n",
       "gunner_blockers          1          2          3          4          0   \n",
       "time_since_punt                                                          \n",
       "00:00:01         39.970724  41.291033  43.798463  46.537340  46.835844   \n",
       "00:00:02         35.633095  36.049210  39.118778  41.073572  43.787933   \n",
       "00:00:03         30.055284  29.334707  32.337813  32.909893  37.573491   \n",
       "00:00:04         24.987765  23.248568  25.213161  24.396625  31.676056   \n",
       "00:00:05               NaN  18.706759  17.912799  19.370232        NaN   \n",
       "00:00:06               NaN        NaN        NaN  20.045922        NaN   \n",
       "\n",
       "outcome                                                      \n",
       "gunner_blockers          1          2          3          4  \n",
       "time_since_punt                                              \n",
       "00:00:01         47.490862  47.793062  49.603730  48.765326  \n",
       "00:00:02         42.287920  43.377784  44.828234  44.014931  \n",
       "00:00:03         35.237645  37.305237  38.550498  37.604682  \n",
       "00:00:04         26.754987  31.488348  32.758687  31.782361  \n",
       "00:00:05               NaN  32.515076  28.533237  27.434877  \n",
       "00:00:06               NaN  20.728033  19.263292  23.588531  "
      ]
     },
     "execution_count": 394,
     "metadata": {},
     "output_type": "execute_result"
    }
   ],
   "source": [
    "pd.pivot_table(cov_ret_df, values='dis_from_ret', index=['time_since_punt'], columns=['outcome','gunner_blockers'], aggfunc=np.mean)"
   ]
  },
  {
   "cell_type": "code",
   "execution_count": 289,
   "metadata": {},
   "outputs": [],
   "source": [
    "#### At each second of each play... Who is the closest to the returner?  How far away are they?  Return vs Fair Catch"
   ]
  },
  {
   "cell_type": "code",
   "execution_count": 288,
   "metadata": {},
   "outputs": [],
   "source": [
    "min_dist_from_ret = cov_ret_df.groupby(['Season_Year', 'GameKey','PlayID','time_since_punt'], as_index = False)['dis_from_ret'].min()"
   ]
  },
  {
   "cell_type": "code",
   "execution_count": 290,
   "metadata": {},
   "outputs": [
    {
     "data": {
      "text/html": [
       "<div>\n",
       "<style>\n",
       "    .dataframe thead tr:only-child th {\n",
       "        text-align: right;\n",
       "    }\n",
       "\n",
       "    .dataframe thead th {\n",
       "        text-align: left;\n",
       "    }\n",
       "\n",
       "    .dataframe tbody tr th {\n",
       "        vertical-align: top;\n",
       "    }\n",
       "</style>\n",
       "<table border=\"1\" class=\"dataframe\">\n",
       "  <thead>\n",
       "    <tr style=\"text-align: right;\">\n",
       "      <th></th>\n",
       "      <th>Season_Year</th>\n",
       "      <th>GameKey</th>\n",
       "      <th>PlayID</th>\n",
       "      <th>time_since_punt</th>\n",
       "      <th>dis_from_ret</th>\n",
       "    </tr>\n",
       "  </thead>\n",
       "  <tbody>\n",
       "    <tr>\n",
       "      <th>0</th>\n",
       "      <td>2016</td>\n",
       "      <td>3</td>\n",
       "      <td>455</td>\n",
       "      <td>00:00:01</td>\n",
       "      <td>39.068560</td>\n",
       "    </tr>\n",
       "    <tr>\n",
       "      <th>1</th>\n",
       "      <td>2016</td>\n",
       "      <td>3</td>\n",
       "      <td>455</td>\n",
       "      <td>00:00:02</td>\n",
       "      <td>31.370344</td>\n",
       "    </tr>\n",
       "    <tr>\n",
       "      <th>2</th>\n",
       "      <td>2016</td>\n",
       "      <td>3</td>\n",
       "      <td>455</td>\n",
       "      <td>00:00:03</td>\n",
       "      <td>21.645880</td>\n",
       "    </tr>\n",
       "    <tr>\n",
       "      <th>3</th>\n",
       "      <td>2016</td>\n",
       "      <td>3</td>\n",
       "      <td>455</td>\n",
       "      <td>00:00:04</td>\n",
       "      <td>11.321985</td>\n",
       "    </tr>\n",
       "    <tr>\n",
       "      <th>4</th>\n",
       "      <td>2016</td>\n",
       "      <td>3</td>\n",
       "      <td>1542</td>\n",
       "      <td>00:00:01</td>\n",
       "      <td>38.607731</td>\n",
       "    </tr>\n",
       "  </tbody>\n",
       "</table>\n",
       "</div>"
      ],
      "text/plain": [
       "   Season_Year  GameKey  PlayID time_since_punt  dis_from_ret\n",
       "0         2016        3     455        00:00:01     39.068560\n",
       "1         2016        3     455        00:00:02     31.370344\n",
       "2         2016        3     455        00:00:03     21.645880\n",
       "3         2016        3     455        00:00:04     11.321985\n",
       "4         2016        3    1542        00:00:01     38.607731"
      ]
     },
     "execution_count": 290,
     "metadata": {},
     "output_type": "execute_result"
    }
   ],
   "source": [
    "min_dist_from_ret.head()"
   ]
  },
  {
   "cell_type": "code",
   "execution_count": 291,
   "metadata": {},
   "outputs": [],
   "source": [
    "closest_df = cov_ret_df.merge(min_dist_from_ret.drop('time_since_punt', axis = 1), how = 'inner', on=['Season_Year', 'GameKey', 'PlayID', 'dis_from_ret'])"
   ]
  },
  {
   "cell_type": "code",
   "execution_count": 292,
   "metadata": {},
   "outputs": [],
   "source": [
    "#closest_df.groupby(['time_since_punt','cov_Role'], as_index=False)['dis_from_ret'].agg({'# of times closest': 'count','avg distance':np.mean}).sort_values('# of times closest', ascending =False)"
   ]
  },
  {
   "cell_type": "code",
   "execution_count": 295,
   "metadata": {},
   "outputs": [
    {
     "data": {
      "text/plain": [
       "<matplotlib.legend.Legend at 0x11563c7f0>"
      ]
     },
     "execution_count": 295,
     "metadata": {},
     "output_type": "execute_result"
    },
    {
     "data": {
      "image/png": "[encoded data removed]",
      "text/plain": [
       "<Figure size 432x288 with 1 Axes>"
      ]
     },
     "metadata": {
      "needs_background": "light"
     },
     "output_type": "display_data"
    }
   ],
   "source": [
    "plt.plot(df_grouped.loc[df_grouped['outcome']=='fair_catch']['time_since_punt'], df_grouped.loc[df_grouped['outcome']=='fair_catch']['dis_from_ret'])\n",
    "plt.plot(df_grouped.loc[df_grouped['outcome']=='return']['time_since_punt'], df_grouped.loc[df_grouped['outcome']=='return']['dis_from_ret'])\n",
    "plt.legend()"
   ]
  },
  {
   "cell_type": "code",
   "execution_count": 296,
   "metadata": {},
   "outputs": [],
   "source": [
    "pos_grouped_df = cov_ret_df.groupby(['cov_Role','time_since_punt', 'outcome'], as_index=False)['dis_from_ret'].mean()"
   ]
  },
  {
   "cell_type": "code",
   "execution_count": 297,
   "metadata": {},
   "outputs": [
    {
     "data": {
      "text/html": [
       "<iframe id=\"igraph\" scrolling=\"no\" style=\"border:none;\" seamless=\"seamless\" src=\"https://plot.ly/~mtodisco10/4.embed\" height=\"525px\" width=\"100%\"></iframe>"
      ],
      "text/plain": [
       "<plotly.tools.PlotlyDisplay object>"
      ]
     },
     "execution_count": 297,
     "metadata": {},
     "output_type": "execute_result"
    }
   ],
   "source": [
    "trace1 = go.Bar(\n",
    "        x=pos_grouped_df.loc[pos_grouped_df.outcome == 'fair_catch']['cov_Role'],\n",
    "        y=pos_grouped_df.loc[pos_grouped_df.outcome == 'fair_catch']['dis_from_ret'],\n",
    "        name='fair catch'\n",
    "    )\n",
    "\n",
    "trace2 = go.Bar(\n",
    "        x=pos_grouped_df.loc[pos_grouped_df.outcome == 'return']['cov_Role'],\n",
    "        y=pos_grouped_df.loc[pos_grouped_df.outcome == 'return']['dis_from_ret'],\n",
    "        name='return'\n",
    "    )\n",
    "\n",
    "data = [trace1, trace2]\n",
    "layout = go.Layout(\n",
    "    barmode='group',\n",
    "    xaxis=dict(title='Position'),\n",
    "    yaxis= dict(title='Avg Distance From Returner (Yds)')\n",
    ")\n",
    "\n",
    "fig=go.Figure(data=data, layout=layout)\n",
    "py.iplot(fig, filename='grouped-bar')"
   ]
  },
  {
   "cell_type": "markdown",
   "metadata": {},
   "source": [
    "#### Punts Received inside the 20"
   ]
  },
  {
   "cell_type": "code",
   "execution_count": null,
   "metadata": {},
   "outputs": [],
   "source": [
    "play_info.head()"
   ]
  },
  {
   "cell_type": "code",
   "execution_count": 26,
   "metadata": {},
   "outputs": [
    {
     "data": {
      "text/html": [
       "<div>\n",
       "<style>\n",
       "    .dataframe thead tr:only-child th {\n",
       "        text-align: right;\n",
       "    }\n",
       "\n",
       "    .dataframe thead th {\n",
       "        text-align: left;\n",
       "    }\n",
       "\n",
       "    .dataframe tbody tr th {\n",
       "        vertical-align: top;\n",
       "    }\n",
       "</style>\n",
       "<table border=\"1\" class=\"dataframe\">\n",
       "  <thead>\n",
       "    <tr style=\"text-align: right;\">\n",
       "      <th></th>\n",
       "      <th>Season_Year</th>\n",
       "      <th>GameKey</th>\n",
       "      <th>PlayID</th>\n",
       "      <th>GSISID</th>\n",
       "      <th>Time</th>\n",
       "      <th>x</th>\n",
       "      <th>y</th>\n",
       "      <th>dis</th>\n",
       "      <th>o</th>\n",
       "      <th>dir</th>\n",
       "      <th>Event</th>\n",
       "    </tr>\n",
       "  </thead>\n",
       "  <tbody>\n",
       "  </tbody>\n",
       "</table>\n",
       "</div>"
      ],
      "text/plain": [
       "Empty DataFrame\n",
       "Columns: [Season_Year, GameKey, PlayID, GSISID, Time, x, y, dis, o, dir, Event]\n",
       "Index: []"
      ]
     },
     "execution_count": 26,
     "metadata": {},
     "output_type": "execute_result"
    }
   ],
   "source": [
    "NGS_2016.loc[(NGS_2016.Event == 'punt_received') & (NGS_2016.Season_Year == 2016) \\\n",
    "            & (NGS_2016.GameKey == 60) & (NGS_2016.PlayID == 905)].sort_values('x')"
   ]
  },
  {
   "cell_type": "code",
   "execution_count": 22,
   "metadata": {},
   "outputs": [
    {
     "data": {
      "text/html": [
       "<div>\n",
       "<style>\n",
       "    .dataframe thead tr:only-child th {\n",
       "        text-align: right;\n",
       "    }\n",
       "\n",
       "    .dataframe thead th {\n",
       "        text-align: left;\n",
       "    }\n",
       "\n",
       "    .dataframe tbody tr th {\n",
       "        vertical-align: top;\n",
       "    }\n",
       "</style>\n",
       "<table border=\"1\" class=\"dataframe\">\n",
       "  <thead>\n",
       "    <tr style=\"text-align: right;\">\n",
       "      <th></th>\n",
       "      <th>Season_Year</th>\n",
       "      <th>GameKey</th>\n",
       "      <th>PlayID</th>\n",
       "      <th>GSISID</th>\n",
       "      <th>Role</th>\n",
       "    </tr>\n",
       "  </thead>\n",
       "  <tbody>\n",
       "    <tr>\n",
       "      <th>20654</th>\n",
       "      <td>2016</td>\n",
       "      <td>144</td>\n",
       "      <td>2342</td>\n",
       "      <td>28091</td>\n",
       "      <td>PR</td>\n",
       "    </tr>\n",
       "  </tbody>\n",
       "</table>\n",
       "</div>"
      ],
      "text/plain": [
       "       Season_Year  GameKey  PlayID  GSISID Role\n",
       "20654         2016      144    2342   28091   PR"
      ]
     },
     "execution_count": 22,
     "metadata": {},
     "output_type": "execute_result"
    }
   ],
   "source": [
    "play_player_role.loc[(play_player_role.GSISID == 28091.0) & (play_player_role.PlayID == 2342)]"
   ]
  },
  {
   "cell_type": "code",
   "execution_count": 23,
   "metadata": {},
   "outputs": [
    {
     "data": {
      "text/plain": [
       "130.47999572753906"
      ]
     },
     "execution_count": 23,
     "metadata": {},
     "output_type": "execute_result"
    }
   ],
   "source": [
    "NGS_2016.x.max()"
   ]
  },
  {
   "cell_type": "code",
   "execution_count": 24,
   "metadata": {},
   "outputs": [
    {
     "data": {
      "text/plain": [
       "-9.5600004196166992"
      ]
     },
     "execution_count": 24,
     "metadata": {},
     "output_type": "execute_result"
    }
   ],
   "source": [
    "NGS_2016.x.min()"
   ]
  },
  {
   "cell_type": "code",
   "execution_count": 27,
   "metadata": {},
   "outputs": [
    {
     "data": {
      "text/plain": [
       "653"
      ]
     },
     "execution_count": 27,
     "metadata": {},
     "output_type": "execute_result"
    }
   ],
   "source": [
    "len(NGS_2016.loc[((NGS_2016.x > 90) | (NGS_2016.x <30)) & (NGS_2016.Event == 'punt_received')].PlayID.unique())"
   ]
  },
  {
   "cell_type": "code",
   "execution_count": 28,
   "metadata": {},
   "outputs": [
    {
     "data": {
      "text/plain": [
       "917"
      ]
     },
     "execution_count": 28,
     "metadata": {},
     "output_type": "execute_result"
    }
   ],
   "source": [
    "len(NGS_2016.loc[NGS_2016.Event == 'punt_received'].PlayID.unique())"
   ]
  },
  {
   "cell_type": "code",
   "execution_count": 29,
   "metadata": {},
   "outputs": [
    {
     "data": {
      "text/plain": [
       "0.7121046892039259"
      ]
     },
     "execution_count": 29,
     "metadata": {},
     "output_type": "execute_result"
    }
   ],
   "source": [
    "653 / 917"
   ]
  },
  {
   "cell_type": "code",
   "execution_count": null,
   "metadata": {},
   "outputs": [],
   "source": []
  }
 ],
 "metadata": {
  "kernelspec": {
   "display_name": "Python 3",
   "language": "python",
   "name": "python3"
  },
  "language_info": {
   "codemirror_mode": {
    "name": "ipython",
    "version": 3
   },
   "file_extension": ".py",
   "mimetype": "text/x-python",
   "name": "python",
   "nbconvert_exporter": "python",
   "pygments_lexer": "ipython3",
   "version": "3.6.0"
  }
 },
 "nbformat": 4,
 "nbformat_minor": 2
}
