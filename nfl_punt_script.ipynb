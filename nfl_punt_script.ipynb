{
 "cells": [
  {
   "cell_type": "code",
   "execution_count": 386,
   "metadata": {},
   "outputs": [],
   "source": [
    "import pandas as pd\n",
    "import numpy as np\n",
    "import matplotlib.pyplot as plt\n",
    "import plotly.plotly as py\n",
    "import plotly.graph_objs as go\n",
    "from plotly import tools\n",
    "import re"
   ]
  },
  {
   "cell_type": "code",
   "execution_count": 399,
   "metadata": {},
   "outputs": [],
   "source": [
    "#Read in Data\n",
    "game_data = pd.read_csv('game_data.csv')\n",
    "play_info = pd.read_csv('play_information.csv')\n",
    "play_player_role = pd.read_csv('play_player_role_data.csv')\n",
    "player_punt = pd.read_csv('player_punt_data.csv')\n",
    "video_footage_control = pd.read_csv('video_footage-control.csv')\n",
    "video_footage_injury = pd.read_csv('video_footage-injury.csv')\n",
    "video_review = pd.read_csv('video_review.csv')"
   ]
  },
  {
   "cell_type": "code",
   "execution_count": 3,
   "metadata": {},
   "outputs": [],
   "source": [
    "NGS_2016_pre = pd.read_csv('NGS-2016-pre.csv')\n",
    "NGS_2016_post = pd.read_csv('NGS-2016-post.csv')\n",
    "NGS_2017_pre = pd.read_csv('NGS-2017-pre.csv')\n",
    "NGS_2017_post = pd.read_csv('NGS-2017-post.csv')"
   ]
  },
  {
   "cell_type": "code",
   "execution_count": 4,
   "metadata": {},
   "outputs": [
    {
     "name": "stderr",
     "output_type": "stream",
     "text": [
      "/Library/Frameworks/Python.framework/Versions/3.6/lib/python3.6/site-packages/IPython/core/interactiveshell.py:3018: DtypeWarning: Columns (10) have mixed types. Specify dtype option on import or set low_memory=False.\n",
      "  interactivity=interactivity, compiler=compiler, result=result)\n"
     ]
    }
   ],
   "source": [
    "NGS_2016_wk1_6 = pd.read_csv('NGS-2016-reg-wk1-6.csv')\n",
    "NGS_2016_wk7_12 = pd.read_csv('NGS-2016-reg-wk7-12.csv')\n",
    "NGS_2016_wk13_17 = pd.read_csv('NGS-2016-reg-wk13-17.csv')"
   ]
  },
  {
   "cell_type": "code",
   "execution_count": null,
   "metadata": {},
   "outputs": [],
   "source": [
    "# NGS_2017_wk1_6 = pd.read_csv('NGS-2017-reg-wk1-6.csv')\n",
    "# NGS_2017_wk7_12 = pd.read_csv('NGS-2017-reg-wk7-12.csv')\n",
    "# NGS_2017_wk13_17 = pd.read_csv('NGS-2017-reg-wk13-17.csv')"
   ]
  },
  {
   "cell_type": "code",
   "execution_count": 5,
   "metadata": {},
   "outputs": [],
   "source": [
    "NGS_2016 = pd.concat([NGS_2016_wk1_6, NGS_2016_wk7_12, NGS_2016_wk13_17])"
   ]
  },
  {
   "cell_type": "code",
   "execution_count": null,
   "metadata": {},
   "outputs": [],
   "source": [
    "# NGS_2017 = pd.concat([NGS_2017_wk1_6, NGS_2017_wk7_12, NGS_2017_wk13_17])"
   ]
  },
  {
   "cell_type": "code",
   "execution_count": 330,
   "metadata": {},
   "outputs": [],
   "source": [
    "# NGS_df = pd.concat([NGS_2016, NGS_2017])"
   ]
  },
  {
   "cell_type": "markdown",
   "metadata": {},
   "source": [
    "### EDA"
   ]
  },
  {
   "cell_type": "code",
   "execution_count": 342,
   "metadata": {},
   "outputs": [
    {
     "data": {
      "text/plain": [
       "'There are concussion injuries on 0.55% of punt plays'"
      ]
     },
     "execution_count": 342,
     "metadata": {},
     "output_type": "execute_result"
    }
   ],
   "source": [
    "'There are concussion injuries on ' + str(round(len(video_review) / float(len(play_info)) * 100, 2)) + '% of ' + 'punt plays'"
   ]
  },
  {
   "cell_type": "markdown",
   "metadata": {},
   "source": [
    "##### It is good for the NFL and players that injuries only occure on less than 1% of punt plays, but it will be hard to do analysis"
   ]
  },
  {
   "cell_type": "markdown",
   "metadata": {},
   "source": [
    "#### How are players being injured?"
   ]
  },
  {
   "cell_type": "code",
   "execution_count": 385,
   "metadata": {},
   "outputs": [
    {
     "name": "stdout",
     "output_type": "stream",
     "text": [
      "This is the format of your plot grid:\n",
      "[ (1,1) x1,y1 ]  [ (1,2) x2,y2 ]\n",
      "[ (2,1) x3,y3 ]  [ (2,2) x4,y4 ]\n",
      "\n"
     ]
    },
    {
     "data": {
      "text/html": [
       "<iframe id=\"igraph\" scrolling=\"no\" style=\"border:none;\" seamless=\"seamless\" src=\"https://plot.ly/~mtodisco10/8.embed\" height=\"525px\" width=\"100%\"></iframe>"
      ],
      "text/plain": [
       "<plotly.tools.PlotlyDisplay object>"
      ]
     },
     "execution_count": 385,
     "metadata": {},
     "output_type": "execute_result"
    }
   ],
   "source": [
    "trace1 = go.Bar(\n",
    "        x=video_review.groupby(['Player_Activity_Derived'], as_index=False)['PlayID'].count()['Player_Activity_Derived'],\n",
    "        y=video_review.groupby(['Player_Activity_Derived'], as_index=False)['PlayID'].count()['PlayID']\n",
    "    )\n",
    "trace2 = go.Bar(\n",
    "        x=video_review.groupby(['Primary_Impact_Type'], as_index=False)['PlayID'].count()['Primary_Impact_Type'],\n",
    "        y=video_review.groupby(['Primary_Impact_Type'], as_index=False)['PlayID'].count()['PlayID'],\n",
    "    )\n",
    "trace3 = go.Bar(\n",
    "        x=video_review.groupby(['Friendly_Fire'], as_index=False)['PlayID'].count()['Friendly_Fire'],\n",
    "        y=video_review.groupby(['Friendly_Fire'], as_index=False)['PlayID'].count()['PlayID'],\n",
    "    )\n",
    "trace4 = go.Bar(\n",
    "        x=video_review.groupby(['Primary_Partner_Activity_Derived'], as_index=False)['PlayID'].count()['Primary_Partner_Activity_Derived'],\n",
    "        y=video_review.groupby(['Primary_Partner_Activity_Derived'], as_index=False)['PlayID'].count()['PlayID'],\n",
    "    )\n",
    "\n",
    "fig = tools.make_subplots(rows=2, cols=2, subplot_titles=('Player Activity Derived', 'Primary Impact Type',\n",
    "                                                          'Friendly Fire', 'Primary Partner Activity Derived'))\n",
    "\n",
    "fig.append_trace(trace1, 1, 1)\n",
    "fig.append_trace(trace2, 1, 2)\n",
    "fig.append_trace(trace3, 2, 1)\n",
    "fig.append_trace(trace4, 2, 2)\n",
    "\n",
    "fig['layout'].update(showlegend=False)\n",
    "\n",
    "py.iplot(fig, filename='make-subplots-multiple-with-titles')"
   ]
  },
  {
   "cell_type": "markdown",
   "metadata": {},
   "source": [
    "### Quick Conclusions\n",
    "    - No player activity stands out\n",
    "    - Helmet to player is primary impact type\n",
    "    - Friendly fire is only clear 16% of the time\n",
    "    - No Partner Activity Stands Out"
   ]
  },
  {
   "cell_type": "markdown",
   "metadata": {},
   "source": [
    "### On what type of plays are players getting hurt?"
   ]
  },
  {
   "cell_type": "code",
   "execution_count": 405,
   "metadata": {},
   "outputs": [],
   "source": [
    "#Create a column in the play_info dataframe to determine the type of play\n",
    "play_info['outcome'] = np.where(play_info['PlayDescription'].str.contains('fair catch', flags=re.IGNORECASE, regex=True), 'fair_catch',\n",
    "                        np.where(play_info['PlayDescription'].str.contains('touchback', flags=re.IGNORECASE, regex=True), 'touchback',\n",
    "                        np.where(play_info['PlayDescription'].str.contains('out of bounds', flags=re.IGNORECASE, regex=True), 'oob',\n",
    "                        np.where(play_info['PlayDescription'].str.contains('downed', flags=re.IGNORECASE, regex=True), 'downed',\n",
    "                        np.where(play_info['PlayDescription'].str.contains('blocked', flags=re.IGNORECASE, regex=True), 'blocked',\n",
    "                        np.where(play_info['PlayDescription'].str.contains('fake|pass', flags=re.IGNORECASE, regex=True), 'fake', \n",
    "                        np.where(play_info['PlayDescription'].str.contains('safety', flags=re.IGNORECASE, regex=True), 'safety',\n",
    "                        np.where(play_info['PlayDescription'].str.contains('[0-9]+ for [-+]?[0-9]+ yards?|for no gain|muffs|touchdown', flags=re.IGNORECASE, regex=True), 'return',         \n",
    "                        np.where(play_info['PlayDescription'].str.contains('- no play|delay of game|false start, declined|penalty enforced', flags=re.IGNORECASE, regex=True), 'no_play', ' ')))))))))"
   ]
  },
  {
   "cell_type": "code",
   "execution_count": 410,
   "metadata": {},
   "outputs": [],
   "source": [
    "vr_merged = play_info.merge(video_review, how='inner', on =['Season_Year', 'GameKey', 'PlayID'])"
   ]
  },
  {
   "cell_type": "code",
   "execution_count": 416,
   "metadata": {},
   "outputs": [
    {
     "data": {
      "text/plain": [
       "return        32\n",
       "downed         3\n",
       "fair_catch     2\n",
       "Name: outcome, dtype: int64"
      ]
     },
     "execution_count": 416,
     "metadata": {},
     "output_type": "execute_result"
    }
   ],
   "source": [
    "vr_merged.outcome.value_counts()"
   ]
  },
  {
   "cell_type": "markdown",
   "metadata": {},
   "source": [
    "#### conclusion: players are getting hurt on returns "
   ]
  },
  {
   "cell_type": "code",
   "execution_count": 414,
   "metadata": {},
   "outputs": [],
   "source": [
    "#Is it a higher proportion compared to all plays?"
   ]
  },
  {
   "cell_type": "code",
   "execution_count": 415,
   "metadata": {},
   "outputs": [
    {
     "data": {
      "text/plain": [
       "return        2917\n",
       "fair_catch    1663\n",
       "downed         802\n",
       "oob            696\n",
       "touchback      407\n",
       "no_play        139\n",
       "blocked         26\n",
       "fake            25\n",
       "safety           6\n",
       "Name: outcome, dtype: int64"
      ]
     },
     "execution_count": 415,
     "metadata": {},
     "output_type": "execute_result"
    }
   ],
   "source": [
    "play_info.outcome.value_counts()"
   ]
  },
  {
   "cell_type": "code",
   "execution_count": 417,
   "metadata": {},
   "outputs": [
    {
     "data": {
      "text/plain": [
       "0.010970174837161468"
      ]
     },
     "execution_count": 417,
     "metadata": {},
     "output_type": "execute_result"
    }
   ],
   "source": [
    "32.0 / 2917"
   ]
  },
  {
   "cell_type": "code",
   "execution_count": 418,
   "metadata": {},
   "outputs": [
    {
     "data": {
      "text/plain": [
       "0.0012026458208057728"
      ]
     },
     "execution_count": 418,
     "metadata": {},
     "output_type": "execute_result"
    }
   ],
   "source": [
    "2.0 / 1663"
   ]
  },
  {
   "cell_type": "code",
   "execution_count": 419,
   "metadata": {},
   "outputs": [
    {
     "data": {
      "text/plain": [
       "0.003740648379052369"
      ]
     },
     "execution_count": 419,
     "metadata": {},
     "output_type": "execute_result"
    }
   ],
   "source": [
    "3.0 / 802"
   ]
  },
  {
   "cell_type": "markdown",
   "metadata": {},
   "source": [
    "#### Who's getting hurt?"
   ]
  },
  {
   "cell_type": "code",
   "execution_count": null,
   "metadata": {},
   "outputs": [],
   "source": [
    "merged_df = video_review.merge(play_player_role, how= 'left', left_on=['GSISID','PlayID','GameKey'], right_on=['GSISID','PlayID','GameKey'])"
   ]
  },
  {
   "cell_type": "code",
   "execution_count": null,
   "metadata": {},
   "outputs": [],
   "source": [
    "player_punt.loc[player_punt.GSISID == 32482]"
   ]
  },
  {
   "cell_type": "code",
   "execution_count": null,
   "metadata": {},
   "outputs": [],
   "source": [
    "play_player_role.loc[(play_player_role.GSISID == 29343) & (play_player_role.PlayID == 2587)]"
   ]
  },
  {
   "cell_type": "code",
   "execution_count": null,
   "metadata": {},
   "outputs": [],
   "source": [
    "merged_df.Role.value_counts()"
   ]
  },
  {
   "cell_type": "code",
   "execution_count": null,
   "metadata": {},
   "outputs": [],
   "source": [
    "len(video_footage_injury)"
   ]
  },
  {
   "cell_type": "code",
   "execution_count": null,
   "metadata": {},
   "outputs": [],
   "source": [
    "ax = plt.plot(test_plot['x'],test_plot['y'])"
   ]
  },
  {
   "cell_type": "code",
   "execution_count": null,
   "metadata": {},
   "outputs": [],
   "source": [
    "gunner_df = NGS_2016_pre.loc[(NGS_2016_pre.GameKey == 5) & (NGS_2016_pre.PlayID == 3129) & (NGS_2016_pre.GSISID == 31057)].sort_values('Time')"
   ]
  },
  {
   "cell_type": "code",
   "execution_count": null,
   "metadata": {},
   "outputs": [],
   "source": [
    "min(gunner_df['Time'])"
   ]
  },
  {
   "cell_type": "code",
   "execution_count": null,
   "metadata": {},
   "outputs": [],
   "source": [
    "max(gunner_df['Time'])"
   ]
  },
  {
   "cell_type": "code",
   "execution_count": null,
   "metadata": {},
   "outputs": [],
   "source": [
    "gunner_df.head(11).dis.sum() * 2.045"
   ]
  },
  {
   "cell_type": "code",
   "execution_count": null,
   "metadata": {},
   "outputs": [],
   "source": [
    "gunner_df.head()"
   ]
  },
  {
   "cell_type": "code",
   "execution_count": null,
   "metadata": {},
   "outputs": [],
   "source": [
    "gunner_df['dis_per_second'] = gunner_df.dis * 10\n",
    "gunner_df['dis_mph'] = gunner_df['dis_per_second'] * 2.0455"
   ]
  },
  {
   "cell_type": "code",
   "execution_count": null,
   "metadata": {},
   "outputs": [],
   "source": [
    "print(gunner_df.dis_mph[200:250])"
   ]
  },
  {
   "cell_type": "code",
   "execution_count": null,
   "metadata": {},
   "outputs": [],
   "source": [
    "play_player_role.loc[(play_player_role.GameKey == 5) & (play_player_role.PlayID == 3129) & (play_player_role.GSISID == 31057)]"
   ]
  },
  {
   "cell_type": "code",
   "execution_count": null,
   "metadata": {},
   "outputs": [],
   "source": [
    "ax1 = plt.subplot()\n",
    "ax1.plot(gunner_df['x'], gunner_df['y'])\n",
    "ax1.set_xlim([0,120])\n",
    "ax1.set_ylim([0,53.3])"
   ]
  },
  {
   "cell_type": "code",
   "execution_count": null,
   "metadata": {},
   "outputs": [],
   "source": [
    "max(NGS_2016_wk1_6['y'])"
   ]
  },
  {
   "cell_type": "code",
   "execution_count": null,
   "metadata": {},
   "outputs": [],
   "source": [
    "play_info['fair_catch'] = play_info.PlayDescription.str.contains('fair catch')"
   ]
  },
  {
   "cell_type": "code",
   "execution_count": null,
   "metadata": {},
   "outputs": [],
   "source": [
    "play_info.loc[play_info.fair_catch == True].merge(video_review)"
   ]
  },
  {
   "cell_type": "code",
   "execution_count": null,
   "metadata": {},
   "outputs": [],
   "source": [
    "video_footage_injury.loc[video_footage_injury.playid == 2918]"
   ]
  },
  {
   "cell_type": "code",
   "execution_count": null,
   "metadata": {},
   "outputs": [],
   "source": [
    "video_footage_injury.head()"
   ]
  },
  {
   "cell_type": "markdown",
   "metadata": {},
   "source": [
    "### Does speed correlate with injury?"
   ]
  },
  {
   "cell_type": "code",
   "execution_count": null,
   "metadata": {},
   "outputs": [],
   "source": [
    "video_review.head()"
   ]
  },
  {
   "cell_type": "code",
   "execution_count": null,
   "metadata": {},
   "outputs": [],
   "source": [
    "injury_ngs = video_review.merge(NGS_2016, how ='inner', left_on=['GSISID','PlayID','GameKey'], right_on=['GSISID','PlayID','GameKey'])"
   ]
  },
  {
   "cell_type": "code",
   "execution_count": null,
   "metadata": {},
   "outputs": [],
   "source": [
    "injury_ngs['dis_per_second'] = injury_ngs.dis * 10\n",
    "injury_ngs['dis_mph'] = injury_ngs.dis_per_second * 2.0455"
   ]
  },
  {
   "cell_type": "code",
   "execution_count": null,
   "metadata": {},
   "outputs": [],
   "source": [
    "injury_ngs.groupby('PlayID')['dis_mph'].agg(max)"
   ]
  },
  {
   "cell_type": "code",
   "execution_count": null,
   "metadata": {},
   "outputs": [],
   "source": [
    "play_info.head()"
   ]
  },
  {
   "cell_type": "code",
   "execution_count": null,
   "metadata": {},
   "outputs": [],
   "source": [
    "play_info = play_info.merge(video_review[['GameKey','PlayID','GSISID']], how = 'left', left_on = ['GameKey','PlayID'], right_on = ['GameKey','PlayID'])"
   ]
  },
  {
   "cell_type": "code",
   "execution_count": null,
   "metadata": {},
   "outputs": [],
   "source": [
    "play_info['injury'] = play_info.GSISID.apply(lambda x: 0 if pd.isnull(x) else 1)"
   ]
  },
  {
   "cell_type": "code",
   "execution_count": null,
   "metadata": {},
   "outputs": [],
   "source": [
    "play_info.fair_catch.value_counts(normalize = True)"
   ]
  },
  {
   "cell_type": "code",
   "execution_count": null,
   "metadata": {},
   "outputs": [],
   "source": [
    "play_info.loc[play_info.injury == 1]['fair_catch'].sum() / len(play_info.loc[play_info.injury == 1])"
   ]
  },
  {
   "cell_type": "code",
   "execution_count": null,
   "metadata": {},
   "outputs": [],
   "source": [
    "play_info.loc[play_info.injury == 1]['fair_catch'].sum() / len(play_info.loc[play_info.injury == 0])"
   ]
  },
  {
   "cell_type": "code",
   "execution_count": null,
   "metadata": {},
   "outputs": [],
   "source": [
    "fair_catches = play_info.loc[play_info.fair_catch == 1]\n",
    "non_fair_catches = play_info.loc[play_info.fair_catch == 0]"
   ]
  },
  {
   "cell_type": "code",
   "execution_count": null,
   "metadata": {},
   "outputs": [],
   "source": [
    "len(fair_catches.loc[fair_catches.injury == 1]) / float(len(fair_catches)) * 100"
   ]
  },
  {
   "cell_type": "code",
   "execution_count": null,
   "metadata": {},
   "outputs": [],
   "source": [
    "len(non_fair_catches.loc[non_fair_catches.injury == 1]) / float(len(non_fair_catches)) * 100"
   ]
  },
  {
   "cell_type": "code",
   "execution_count": null,
   "metadata": {},
   "outputs": [],
   "source": [
    "(.7-.12) / .12"
   ]
  },
  {
   "cell_type": "markdown",
   "metadata": {},
   "source": [
    "#### Nearly 5 times more likely to have an injury when there is an actual return"
   ]
  },
  {
   "cell_type": "code",
   "execution_count": null,
   "metadata": {},
   "outputs": [],
   "source": [
    "import plotly"
   ]
  },
  {
   "cell_type": "code",
   "execution_count": null,
   "metadata": {},
   "outputs": [],
   "source": [
    "import plotly.graph_objs as go\n",
    "from plotly import offline\n",
    "import plotly.plotly as py\n",
    "plotly.tools.set_credentials_file(username='mtodisco10', api_key='bCfUmq5FralbymKXY4uX')"
   ]
  },
  {
   "cell_type": "code",
   "execution_count": null,
   "metadata": {},
   "outputs": [],
   "source": [
    "def load_layout():\n",
    "    \"\"\"\n",
    "    Returns a dict for a Football themed Plot.ly layout \n",
    "    \"\"\"\n",
    "    layout = dict(\n",
    "        title = \"Player Activity\",\n",
    "        plot_bgcolor='darkseagreen',\n",
    "        showlegend=True,\n",
    "        xaxis=dict(\n",
    "            autorange=False,\n",
    "            range=[0, 120],\n",
    "            showgrid=False,\n",
    "            zeroline=False,\n",
    "            showline=True,\n",
    "            linecolor='black',\n",
    "            linewidth=1,\n",
    "            mirror=True,\n",
    "            ticks='',\n",
    "            tickmode='array',\n",
    "            tickvals=[10,20, 30, 40, 50, 60, 70, 80, 90, 100, 110],\n",
    "            ticktext=['Goal', 10, 20, 30, 40, 50, 40, 30, 20, 10, 'Goal'],\n",
    "            showticklabels=True\n",
    "        ),\n",
    "        yaxis=dict(\n",
    "            title='',\n",
    "            autorange=False,\n",
    "            range=[-3.3,56.3],\n",
    "            showgrid=False,\n",
    "            zeroline=False,\n",
    "            showline=True,\n",
    "            linecolor='black',\n",
    "            linewidth=1,\n",
    "            mirror=True,\n",
    "            ticks='',\n",
    "            showticklabels=False\n",
    "        ),\n",
    "        shapes=[\n",
    "            dict(\n",
    "                type='line',\n",
    "                layer='below',\n",
    "                x0=0,\n",
    "                y0=0,\n",
    "                x1=120,\n",
    "                y1=0,\n",
    "                line=dict(\n",
    "                    color='white',\n",
    "                    width=2\n",
    "                )\n",
    "            ),\n",
    "            dict(\n",
    "                type='line',\n",
    "                layer='below',\n",
    "                x0=0,\n",
    "                y0=53.3,\n",
    "                x1=120,\n",
    "                y1=53.3,\n",
    "                line=dict(\n",
    "                    color='white',\n",
    "                    width=2\n",
    "                )\n",
    "            ),\n",
    "            dict(\n",
    "                type='line',\n",
    "                layer='below',\n",
    "                x0=10,\n",
    "                y0=0,\n",
    "                x1=10,\n",
    "                y1=53.3,\n",
    "                line=dict(\n",
    "                    color='white',\n",
    "                    width=10\n",
    "                )\n",
    "            ),\n",
    "            dict(\n",
    "                type='line',\n",
    "                layer='below',\n",
    "                x0=20,\n",
    "                y0=0,\n",
    "                x1=20,\n",
    "                y1=53.3,\n",
    "                line=dict(\n",
    "                    color='white'\n",
    "                )\n",
    "            ),\n",
    "            dict(\n",
    "                type='line',\n",
    "                layer='below',\n",
    "                x0=30,\n",
    "                y0=0,\n",
    "                x1=30,\n",
    "                y1=53.3,\n",
    "                line=dict(\n",
    "                    color='white'\n",
    "                )\n",
    "            ),\n",
    "            dict(\n",
    "                type='line',\n",
    "                layer='below',\n",
    "                x0=40,\n",
    "                y0=0,\n",
    "                x1=40,\n",
    "                y1=53.3,\n",
    "                line=dict(\n",
    "                    color='white'\n",
    "                )\n",
    "            ),\n",
    "            dict(\n",
    "                type='line',\n",
    "                layer='below',\n",
    "                x0=50,\n",
    "                y0=0,\n",
    "                x1=50,\n",
    "                y1=53.3,\n",
    "                line=dict(\n",
    "                    color='white'\n",
    "                )\n",
    "            ),\n",
    "            dict(\n",
    "                type='line',\n",
    "                layer='below',\n",
    "                x0=60,\n",
    "                y0=0,\n",
    "                x1=60,\n",
    "                y1=53.3,\n",
    "                line=dict(\n",
    "                    color='white'\n",
    "                )\n",
    "            ),dict(\n",
    "                type='line',\n",
    "                layer='below',\n",
    "                x0=70,\n",
    "                y0=0,\n",
    "                x1=70,\n",
    "                y1=53.3,\n",
    "                line=dict(\n",
    "                    color='white'\n",
    "                )\n",
    "            ),dict(\n",
    "                type='line',\n",
    "                layer='below',\n",
    "                x0=80,\n",
    "                y0=0,\n",
    "                x1=80,\n",
    "                y1=53.3,\n",
    "                line=dict(\n",
    "                    color='white'\n",
    "                )\n",
    "            ),\n",
    "            dict(\n",
    "                type='line',\n",
    "                layer='below',\n",
    "                x0=90,\n",
    "                y0=0,\n",
    "                x1=90,\n",
    "                y1=53.3,\n",
    "                line=dict(\n",
    "                    color='white'\n",
    "                )\n",
    "            ),dict(\n",
    "                type='line',\n",
    "                layer='below',\n",
    "                x0=100,\n",
    "                y0=0,\n",
    "                x1=100,\n",
    "                y1=53.3,\n",
    "                line=dict(\n",
    "                    color='white'\n",
    "                )\n",
    "            ),\n",
    "            dict(\n",
    "                type='line',\n",
    "                layer='below',\n",
    "                x0=110,\n",
    "                y0=0,\n",
    "                x1=110,\n",
    "                y1=53.3,\n",
    "                line=dict(\n",
    "                    color='white',\n",
    "                    width=10\n",
    "                )\n",
    "            )\n",
    "        ]\n",
    "    )\n",
    "    return layout\n",
    "\n",
    "layout = load_layout()"
   ]
  },
  {
   "cell_type": "code",
   "execution_count": null,
   "metadata": {},
   "outputs": [],
   "source": [
    "# Loading and plotting functions\n",
    "\n",
    "def load_plays_for_game(GameKey):\n",
    "    \"\"\"\n",
    "    Returns a dataframe of play data for a given game (GameKey)\n",
    "    \"\"\"\n",
    "    play_information = pd.read_csv('play_information.csv')\n",
    "    play_information = play_information[play_information['GameKey'] == GameKey]\n",
    "    return play_information\n",
    "\n",
    "\n",
    "def load_game_and_ngs(ngs_file=None, GameKey=None):\n",
    "    \"\"\"\n",
    "    Returns a dataframe of player movements (NGS data) for a given game\n",
    "    \"\"\"\n",
    "    if ngs_file is None:\n",
    "        print(\"Specifiy an NGS file.\")\n",
    "        return None\n",
    "    if GameKey is None:\n",
    "        print('Specify a GameKey')\n",
    "        return None\n",
    "    # Merge play data with NGS data    \n",
    "    plays = load_plays_for_game(GameKey)\n",
    "    ngs = pd.read_csv(ngs_file, low_memory=False)\n",
    "    merged = pd.merge(ngs, plays, how=\"inner\", on=[\"GameKey\", \"PlayID\", \"Season_Year\"])\n",
    "    return merged\n",
    "\n",
    "\n",
    "def plot_play(game_df, PlayID, player1=None, player2=None, custom_layout=False):\n",
    "    \"\"\"\n",
    "    Plots player movements on the field for a given game, play, and two players\n",
    "    \"\"\"\n",
    "    game_df = game_df[game_df.PlayID==PlayID]\n",
    "    \n",
    "    GameKey=str(pd.unique(game_df.GameKey)[0])\n",
    "    HomeTeam = pd.unique(game_df.Home_Team_Visit_Team)[0].split(\"-\")[0]\n",
    "    VisitingTeam = pd.unique(game_df.Home_Team_Visit_Team)[0].split(\"-\")[1]\n",
    "    YardLine = game_df[(game_df.PlayID==PlayID) & (game_df.GSISID==player1)]['YardLine'].iloc[0]\n",
    "    \n",
    "    traces=[]   \n",
    "    if (player1 is not None) & (player2 is not None):\n",
    "        game_df = game_df[ (game_df['GSISID']==player1) | (game_df['GSISID']==player2)]\n",
    "        for player in pd.unique(game_df.GSISID):\n",
    "            player = int(player)\n",
    "            trace = go.Scatter(\n",
    "                x = game_df[game_df.GSISID==player].x,\n",
    "                y = game_df[game_df.GSISID==player].y,\n",
    "                name='GSISID '+str(player),\n",
    "                mode='markers'\n",
    "            )\n",
    "            traces.append(trace)\n",
    "    else:\n",
    "        print(\"Specify GSISIDs for player1 and player2\")\n",
    "        return None\n",
    "    \n",
    "    if custom_layout is not True:\n",
    "        layout = load_layout()\n",
    "        layout['title'] =  HomeTeam + \\\n",
    "        ' vs. ' + VisitingTeam + \\\n",
    "        '<br>Possession: ' + \\\n",
    "        YardLine.split(\" \")[0] +'@'+YardLine.split(\" \")[1]\n",
    "    data = traces\n",
    "    fig = dict(data=data, layout=layout)\n",
    "    play_description = game_df[(game_df.PlayID==PlayID) & (game_df.GSISID==player1)].iloc[0][\"PlayDescription\"]\n",
    "    print(\"\\n\\n\\t\",play_description)\n",
    "    #py.iplot(fig,filename='jupyter-table1')\n",
    "    offline.iplot(fig)"
   ]
  },
  {
   "cell_type": "code",
   "execution_count": null,
   "metadata": {},
   "outputs": [],
   "source": [
    "game280 = load_game_and_ngs('NGS-2016-reg-wk13-17.csv',GameKey=280)"
   ]
  },
  {
   "cell_type": "code",
   "execution_count": null,
   "metadata": {},
   "outputs": [],
   "source": [
    "plot_play(game_df=game280, PlayID=2918, player1=32120, player2=32725)"
   ]
  },
  {
   "cell_type": "code",
   "execution_count": null,
   "metadata": {},
   "outputs": [],
   "source": [
    "video_review.head()"
   ]
  },
  {
   "cell_type": "code",
   "execution_count": null,
   "metadata": {},
   "outputs": [],
   "source": [
    "player = NGS_2016_pre.loc[(NGS_2016_pre.PlayID == 3129) & (NGS_2016_pre.GSISID == 31057) \n",
    "                          & (NGS_2016_pre.GameKey == 5)] \n"
   ]
  },
  {
   "cell_type": "code",
   "execution_count": null,
   "metadata": {},
   "outputs": [],
   "source": [
    "partner = NGS_2016_pre.loc[(NGS_2016_pre.PlayID == 3129) & (NGS_2016_pre.GSISID == 32482) & \n",
    "                           (NGS_2016_pre.GameKey == 5)] "
   ]
  },
  {
   "cell_type": "code",
   "execution_count": null,
   "metadata": {},
   "outputs": [],
   "source": [
    "player.loc[player.Event.notnull()].sort_values('Time')"
   ]
  },
  {
   "cell_type": "code",
   "execution_count": null,
   "metadata": {},
   "outputs": [],
   "source": [
    "partner.loc[partner.Time == '2016-08-12 02:07:48.300']"
   ]
  },
  {
   "cell_type": "code",
   "execution_count": null,
   "metadata": {},
   "outputs": [],
   "source": [
    "player = player[['x','y','dis']]"
   ]
  },
  {
   "cell_type": "code",
   "execution_count": null,
   "metadata": {},
   "outputs": [],
   "source": [
    "partner.sort_values('Time').head()"
   ]
  },
  {
   "cell_type": "code",
   "execution_count": null,
   "metadata": {},
   "outputs": [],
   "source": [
    "player_partner "
   ]
  },
  {
   "cell_type": "code",
   "execution_count": null,
   "metadata": {},
   "outputs": [],
   "source": [
    "next_gen_data.head()"
   ]
  },
  {
   "cell_type": "code",
   "execution_count": null,
   "metadata": {},
   "outputs": [],
   "source": [
    "#MAX_Speed, AVG_Speed"
   ]
  },
  {
   "cell_type": "code",
   "execution_count": null,
   "metadata": {},
   "outputs": [],
   "source": [
    "next_gen_data = pd.read_csv('NGS-2016-pre.csv')"
   ]
  },
  {
   "cell_type": "code",
   "execution_count": null,
   "metadata": {},
   "outputs": [],
   "source": [
    "playId = 3129\n",
    "gameKey = 5\n",
    "gsisid = 31057"
   ]
  },
  {
   "cell_type": "code",
   "execution_count": null,
   "metadata": {},
   "outputs": [],
   "source": [
    "play_info.loc[(play_info.GameKey == gameKey) & (play_info.PlayID == playId)]"
   ]
  },
  {
   "cell_type": "code",
   "execution_count": null,
   "metadata": {},
   "outputs": [],
   "source": [
    "video_review.loc[(video_review.PlayID == playId)]"
   ]
  },
  {
   "cell_type": "code",
   "execution_count": null,
   "metadata": {},
   "outputs": [],
   "source": [
    "def get_speed(ng_data, playId, gameKey, player, partner):\n",
    "    ng_data = pd.read_csv(ng_data)\n",
    "    ng_data['mph'] = convert_to_mph(ng_data['dis'], 20.455)\n",
    "    player_data = ng_data.loc[(ng_data.GameKey == gameKey) & (ng_data.PlayID == playId) \n",
    "                               & (ng_data.GSISID == player)].sort_values('Time')\n",
    "    partner_data = ng_data.loc[(ng_data.GameKey == gameKey) & (ng_data.PlayID == playId) \n",
    "                              & (ng_data.GSISID == partner)].sort_values('Time')\n",
    "    player_grouped = player_data.groupby(['GameKey','PlayID','GSISID'], \n",
    "                               as_index = False)['mph'].agg({'max_mph': max,\n",
    "                                                             'avg_mph': np.mean\n",
    "                                                            })\n",
    "    player_grouped['involvement'] = 'player_injured'\n",
    "    partner_grouped = partner_data.groupby(['GameKey','PlayID','GSISID'], \n",
    "                               as_index = False)['mph'].agg({'max_mph': max,\n",
    "                                                             'avg_mph': np.mean\n",
    "                                                            })\n",
    "    partner_grouped['involvement'] = 'primary_partner'\n",
    "    return pd.concat([player_grouped, partner_grouped], axis = 0)[['involvement',\n",
    "                                                                   'max_mph',\n",
    "                                                                   'avg_mph']].reset_index(drop=True)"
   ]
  },
  {
   "cell_type": "code",
   "execution_count": null,
   "metadata": {},
   "outputs": [],
   "source": [
    "def convert_to_mph(dis_vector, converter):\n",
    "    mph_vector = dis_vector * converter\n",
    "    return mph_vector"
   ]
  },
  {
   "cell_type": "code",
   "execution_count": null,
   "metadata": {
    "scrolled": false
   },
   "outputs": [],
   "source": [
    "get_speed('NGS-2016-pre.csv', 3129, 5, 31057, 32482)"
   ]
  },
  {
   "cell_type": "markdown",
   "metadata": {},
   "source": [
    "### Identify 2 gunner blockers"
   ]
  },
  {
   "cell_type": "code",
   "execution_count": null,
   "metadata": {},
   "outputs": [],
   "source": [
    "# for each game,  count how many players are gunner blockers.\n",
    "# does this correlate with more returns?  more injuries?"
   ]
  },
  {
   "cell_type": "code",
   "execution_count": null,
   "metadata": {},
   "outputs": [],
   "source": [
    "gunners = NGS_2016"
   ]
  },
  {
   "cell_type": "code",
   "execution_count": null,
   "metadata": {},
   "outputs": [],
   "source": [
    "gunners.head()"
   ]
  },
  {
   "cell_type": "code",
   "execution_count": null,
   "metadata": {},
   "outputs": [],
   "source": [
    "rank_df = gunners.loc[(gunners.Season_Year == 2016) & (gunners.Event == 'ball_snap')].sort_values('Time')"
   ]
  },
  {
   "cell_type": "code",
   "execution_count": null,
   "metadata": {},
   "outputs": [],
   "source": [
    "rank_df['rank'] = rank_df.groupby(['Season_Year','GameKey','PlayID','GSISID']).cumcount() +1"
   ]
  },
  {
   "cell_type": "code",
   "execution_count": null,
   "metadata": {},
   "outputs": [],
   "source": [
    "rank_df = rank_df.loc[rank_df['rank'] == 1]"
   ]
  },
  {
   "cell_type": "code",
   "execution_count": null,
   "metadata": {},
   "outputs": [],
   "source": [
    "g_merge = rank_df.merge(play_player_role, how = 'inner', on = ['Season_Year','GameKey','PlayID','GSISID'])"
   ]
  },
  {
   "cell_type": "code",
   "execution_count": null,
   "metadata": {},
   "outputs": [],
   "source": [
    "# ax1 = plt.subplot()\n",
    "# ax1.scatter(g_merge.loc[g_merge.Event == 'line_set']['x'].reset_index(drop=True)\n",
    "#             ,g_merge.loc[g_merge.Event == 'line_set']['y'].reset_index(drop=True))\n",
    "# ax1.set_xlim([0,120])\n",
    "# ax1.set_ylim([0,53.3])\n",
    "# for i, txt in enumerate(g_merge.loc[g_merge.Event == 'line_set'].reset_index(drop=True)['Role']):\n",
    "#     ax1.annotate(txt,xy=(g_merge.loc[g_merge.Event == 'line_set']['x'].reset_index(drop=True)[i]\n",
    "#                            ,g_merge.loc[g_merge.Event == 'line_set']['y'].reset_index(drop=True)[i]))"
   ]
  },
  {
   "cell_type": "code",
   "execution_count": 11,
   "metadata": {},
   "outputs": [],
   "source": [
    "return_roles = ['PDL1','PDL2','PDL3','PDL4','PDL5','PDL6','PDM','PDR1','PDR2','PDR3','PDR4','PDR5','PDR6'\n",
    "                ,'PFB','PLL','PLL1','PLL2','PLL3','PLM','PLM1','PLR','PLR1','PLR2','PLR3','PR','VL','VLi'\n",
    "                ,'VLo','VR','VRi','VRo']\n",
    "\n",
    "coverage_roles = ['GL','GLi','GLo','GR','GRi','GRo','P','PC','PLG','PLS','PLT','PLW','PPL','PPLi','PPLo'\n",
    "                 ,'PPR','PPRi','PPRo','PRG','PRT','PRW']"
   ]
  },
  {
   "cell_type": "code",
   "execution_count": 288,
   "metadata": {},
   "outputs": [],
   "source": [
    "gunner_blockers = ['VL','VLi','VLo','VR','VRi','VRo']"
   ]
  },
  {
   "cell_type": "code",
   "execution_count": null,
   "metadata": {},
   "outputs": [],
   "source": [
    "g_pre_snap = g_merge.loc[(g_merge['Role'].isin(gunner_blockers)) & (g_merge['Event'] == 'ball_snap')]"
   ]
  },
  {
   "cell_type": "code",
   "execution_count": null,
   "metadata": {},
   "outputs": [],
   "source": [
    "gunner_blockers_per_play = g_pre_snap.groupby(['Season_Year','GameKey','PlayID'], as_index=False)['Role'] \\\n",
    "    .agg({'gunner_blocker_count': 'count'})\\\n",
    "    .sort_values('gunner_blocker_count', ascending =False)"
   ]
  },
  {
   "cell_type": "code",
   "execution_count": null,
   "metadata": {},
   "outputs": [],
   "source": [
    "gunner_blockers_merged = gunner_blockers_per_play.merge(play_info, how ='left', on = ['Season_Year','GameKey','PlayID'])"
   ]
  },
  {
   "cell_type": "code",
   "execution_count": null,
   "metadata": {},
   "outputs": [],
   "source": [
    "gunner_blockers_merged['fair_catch'] = gunner_blockers_merged.PlayDescription.str.contains('fair catch')"
   ]
  },
  {
   "cell_type": "code",
   "execution_count": null,
   "metadata": {},
   "outputs": [],
   "source": [
    "gunner_summary = gunner_blockers_merged.groupby(['gunner_blocker_count'], as_index = False)['fair_catch'].agg([sum,'count'])"
   ]
  },
  {
   "cell_type": "code",
   "execution_count": null,
   "metadata": {},
   "outputs": [],
   "source": [
    "gunner_summary['perc'] = gunner_summary['sum'] / gunner_summary['count']"
   ]
  },
  {
   "cell_type": "code",
   "execution_count": null,
   "metadata": {},
   "outputs": [],
   "source": [
    "gunner_summary"
   ]
  },
  {
   "cell_type": "code",
   "execution_count": null,
   "metadata": {},
   "outputs": [],
   "source": [
    "gunner_summary_injury = gunner_blockers_merged.merge(video_footage_injury, how='inner', \n",
    "                             left_on = ['Season_Year','GameKey','PlayID'],\n",
    "                            right_on = ['season','gamekey','playid']) \\\n",
    "                            .groupby(['gunner_blocker_count'], as_index = False)['fair_catch'].agg([sum,'count'])"
   ]
  },
  {
   "cell_type": "code",
   "execution_count": null,
   "metadata": {},
   "outputs": [],
   "source": [
    "gunner_summary_injury['perc'] = gunner_summary_injury['sum'] / gunner_summary_injury['count']"
   ]
  },
  {
   "cell_type": "code",
   "execution_count": null,
   "metadata": {},
   "outputs": [],
   "source": [
    "gunner_summary_injury"
   ]
  },
  {
   "cell_type": "code",
   "execution_count": null,
   "metadata": {},
   "outputs": [],
   "source": [
    "video_footage_injury.head()"
   ]
  },
  {
   "cell_type": "code",
   "execution_count": null,
   "metadata": {},
   "outputs": [],
   "source": [
    "play_player_role.loc[(play_player_role.Season_Year == 2016) & (play_player_role.GameKey == 280)\n",
    "                     & (play_player_role.PlayID == 2918)]"
   ]
  },
  {
   "cell_type": "code",
   "execution_count": null,
   "metadata": {},
   "outputs": [],
   "source": [
    "test_play = NGS_2016.loc[(NGS_2016.GameKey == 280) & (NGS_2016.PlayID == 2918)]\\\n",
    "    .sort_values('Time').reset_index(drop=True)"
   ]
  },
  {
   "cell_type": "code",
   "execution_count": null,
   "metadata": {},
   "outputs": [],
   "source": [
    "from datetime import datetime"
   ]
  },
  {
   "cell_type": "code",
   "execution_count": null,
   "metadata": {},
   "outputs": [],
   "source": [
    "single_play_events = NGS_2016.loc[(NGS_2016.GameKey == 280) & (NGS_2016.PlayID == 2918)]\\\n",
    "    .groupby(['Time','Event'], as_index=False)\\\n",
    "    .count().sort_values('Time')\n",
    "\n",
    "single_play_events['datetime'] = pd.to_datetime(single_play_events['Time'], format='%Y-%m-%d %H:%M:%S.%f')"
   ]
  },
  {
   "cell_type": "code",
   "execution_count": null,
   "metadata": {},
   "outputs": [],
   "source": [
    "test_play['Time'] = pd.to_datetime(test_play['Time'], format='%Y-%m-%d %H:%M:%S.%f')"
   ]
  },
  {
   "cell_type": "code",
   "execution_count": null,
   "metadata": {},
   "outputs": [],
   "source": [
    "val = single_play_events.loc[single_play_events.Event == 'punt']['datetime']  \\\n",
    "              - pd.Timedelta(seconds=4)"
   ]
  },
  {
   "cell_type": "code",
   "execution_count": null,
   "metadata": {},
   "outputs": [],
   "source": [
    "import math"
   ]
  },
  {
   "cell_type": "code",
   "execution_count": null,
   "metadata": {},
   "outputs": [],
   "source": [
    "from scipy.spatial import distance"
   ]
  },
  {
   "cell_type": "code",
   "execution_count": null,
   "metadata": {},
   "outputs": [],
   "source": [
    "def euclid_distance(x1, y1, x2, y2):\n",
    "  # Euclidean distance between points.\n",
    "    dist = math.sqrt((x1 - x2)**2 + (y1 - y2)**2)\n",
    "    return dist"
   ]
  },
  {
   "cell_type": "code",
   "execution_count": null,
   "metadata": {},
   "outputs": [],
   "source": [
    "test_returner = test_play.loc[(test_play.Event == 'fair_catch') & (test_play.GSISID == 33127)].reset_index(drop=True)"
   ]
  },
  {
   "cell_type": "code",
   "execution_count": null,
   "metadata": {},
   "outputs": [],
   "source": [
    "test_returner['x'], test_returner['y']"
   ]
  },
  {
   "cell_type": "code",
   "execution_count": null,
   "metadata": {},
   "outputs": [],
   "source": [
    "test_players = test_play.loc[test_play.Time ==val.reset_index(drop=True)[0]].reset_index()"
   ]
  },
  {
   "cell_type": "code",
   "execution_count": null,
   "metadata": {},
   "outputs": [],
   "source": [
    "dist_lst = []\n",
    "for i in range(0, len(test_players)):\n",
    "    coords = test_players['x'][i], test_players['y'][i]\n",
    "    dist = euclid_distance(test_returner['x'][0], test_returner['y'][0], coords[0], coords[1])\n",
    "    dist_lst.append(dist)"
   ]
  },
  {
   "cell_type": "code",
   "execution_count": null,
   "metadata": {},
   "outputs": [],
   "source": [
    "test_players['dist_lst'] = dist_lst"
   ]
  },
  {
   "cell_type": "code",
   "execution_count": null,
   "metadata": {},
   "outputs": [],
   "source": [
    "test_players.head()"
   ]
  },
  {
   "cell_type": "code",
   "execution_count": null,
   "metadata": {},
   "outputs": [],
   "source": [
    "NGS_2016.Event.value_counts()"
   ]
  },
  {
   "cell_type": "markdown",
   "metadata": {},
   "source": [
    "### Calculate hang time of punts"
   ]
  },
  {
   "cell_type": "code",
   "execution_count": null,
   "metadata": {},
   "outputs": [],
   "source": [
    "punt_event = NGS_2016.loc[NGS_2016.Event == 'punt'].groupby(['Season_Year', 'GameKey','PlayID'], as_index = False)['Time'].min()\n",
    "punt_event.rename(columns = {'Time':'punt_time'}, inplace=True)\n",
    "punt_event['punt_time'] = pd.to_datetime(punt_event['punt_time'], format='%Y-%m-%d %H:%M:%S.%f')"
   ]
  },
  {
   "cell_type": "code",
   "execution_count": null,
   "metadata": {},
   "outputs": [],
   "source": [
    "received_event = NGS_2016.loc[(NGS_2016.Event == 'punt_received') | (NGS_2016.Event == 'fair_catch')].groupby(['Season_Year', 'GameKey','PlayID'], as_index = False)['Time'].min()\n",
    "received_event.rename(columns = {'Time':'received_time'}, inplace=True)\n",
    "received_event['received_time'] = pd.to_datetime(received_event['received_time'], format='%Y-%m-%d %H:%M:%S.%f')"
   ]
  },
  {
   "cell_type": "code",
   "execution_count": null,
   "metadata": {},
   "outputs": [],
   "source": [
    "punt_df = punt_event.merge(received_event, how='inner', on = ['Season_Year','GameKey','PlayID'])"
   ]
  },
  {
   "cell_type": "code",
   "execution_count": null,
   "metadata": {},
   "outputs": [],
   "source": [
    "punt_df['hang_time'] = punt_df['received_time'] - punt_df['punt_time']"
   ]
  },
  {
   "cell_type": "code",
   "execution_count": null,
   "metadata": {},
   "outputs": [],
   "source": [
    "(punt_df['hang_time'].astype(int) / 1000000000).hist()"
   ]
  },
  {
   "cell_type": "code",
   "execution_count": null,
   "metadata": {},
   "outputs": [],
   "source": [
    "str(punt_df['hang_time'].mean().seconds) + '.' + str(punt_df['hang_time'].mean().microseconds)[:2]"
   ]
  },
  {
   "cell_type": "code",
   "execution_count": null,
   "metadata": {},
   "outputs": [],
   "source": [
    "str(punt_df['hang_time'].median().seconds) + '.' + str(punt_df['hang_time'].median().microseconds)[:2]"
   ]
  },
  {
   "cell_type": "markdown",
   "metadata": {},
   "source": [
    "### Calculate distance between returner and closest coverage man"
   ]
  },
  {
   "cell_type": "code",
   "execution_count": null,
   "metadata": {},
   "outputs": [],
   "source": [
    "test_play = NGS_2016.loc[(NGS_2016.GameKey == 280) & (NGS_2016.PlayID == 2918)]\\\n",
    "    .sort_values('Time').reset_index(drop=True)"
   ]
  },
  {
   "cell_type": "code",
   "execution_count": null,
   "metadata": {},
   "outputs": [],
   "source": [
    "test_play_merged = test_play.merge(play_player_role, how='inner', on = ['Season_Year','GameKey','PlayID','GSISID'])\n",
    "test_play_merged['Time'] = pd.to_datetime(test_play_merged['Time'], format='%Y-%m-%d %H:%M:%S.%f')"
   ]
  },
  {
   "cell_type": "code",
   "execution_count": null,
   "metadata": {},
   "outputs": [],
   "source": [
    "punt_event_time = test_play_merged.loc[test_play_merged.Event == 'punt'].Time.min()\n",
    "receiving_event_time = test_play_merged.loc[(test_play_merged.Event == 'punt_received') | (test_play_merged.Event == 'fair_catch')].Time.min()"
   ]
  },
  {
   "cell_type": "code",
   "execution_count": null,
   "metadata": {},
   "outputs": [],
   "source": [
    "coverage_test = test_play_merged.loc[test_play_merged['Role'].isin(coverage_roles)].sort_values('Time')\n",
    "coverage_test.rename(columns={'x':'cov_x', \n",
    "                              'y': 'cov_y',\n",
    "                              'GSISID': 'cov_GSISID',\n",
    "                              'dis': 'cov_dis',\n",
    "                              'o': 'cov_o',\n",
    "                              'dir': 'cov_dir',\n",
    "                              'Role': 'cov_Role'\n",
    "                             }, inplace=True)"
   ]
  },
  {
   "cell_type": "code",
   "execution_count": null,
   "metadata": {},
   "outputs": [],
   "source": [
    "returner_test = test_play_merged.loc[test_play_merged['Role'] == 'PR'].sort_values('Time')\n",
    "returner_test.rename(columns={'x':'ret_x', \n",
    "                              'y': 'ret_y',\n",
    "                              'GSISID': 'ret_GSISID',\n",
    "                              'dis': 'ret_dis',\n",
    "                              'o': 'ret_o',\n",
    "                              'dir': 'ret_dir',\n",
    "                              'Role': 'ret_Role'\n",
    "                             }, inplace=True)\n",
    "\n",
    "returner_test = returner_test.drop('Event', axis = 1)"
   ]
  },
  {
   "cell_type": "code",
   "execution_count": null,
   "metadata": {},
   "outputs": [],
   "source": [
    "cov_ret = coverage_test.merge(returner_test, how ='inner', on = ['Season_Year','GameKey','PlayID','Time'])"
   ]
  },
  {
   "cell_type": "code",
   "execution_count": null,
   "metadata": {},
   "outputs": [],
   "source": [
    "cov_ret['dis_from_ret'] = ((cov_ret['cov_x'] -  cov_ret['ret_x']) ** 2 + (cov_ret['cov_y'] -  cov_ret['ret_y']) ** 2).apply(np.sqrt)"
   ]
  },
  {
   "cell_type": "code",
   "execution_count": null,
   "metadata": {},
   "outputs": [],
   "source": [
    "cov_ret.loc[cov_ret['Time'] == (punt_event_time + pd.Timedelta(seconds=20))].sort_values('dis_from_ret')"
   ]
  },
  {
   "cell_type": "code",
   "execution_count": null,
   "metadata": {},
   "outputs": [],
   "source": [
    "punt_event_time + pd.Timedelta(seconds=4)"
   ]
  },
  {
   "cell_type": "code",
   "execution_count": null,
   "metadata": {},
   "outputs": [],
   "source": [
    "dist_dict = {}"
   ]
  },
  {
   "cell_type": "code",
   "execution_count": null,
   "metadata": {},
   "outputs": [],
   "source": [
    "dist_dict['2918'] = {}"
   ]
  },
  {
   "cell_type": "code",
   "execution_count": null,
   "metadata": {},
   "outputs": [],
   "source": [
    "for i in range(1, 5):\n",
    "    time_df = cov_ret.loc[cov_ret['Time'] == (punt_event_time + pd.Timedelta(seconds=i))].sort_values('dis_from_ret').reset_index()\n",
    "    cov_role = time_df['cov_Role'][0]\n",
    "    distance = time_df['dis_from_ret'][0]\n",
    "    dist_dict['2918'][i] = [cov_role, distance]"
   ]
  },
  {
   "cell_type": "code",
   "execution_count": 257,
   "metadata": {},
   "outputs": [],
   "source": [
    "import re\n",
    "play_info['outcome'] = np.where(play_info['PlayDescription'].str.contains('fair catch', flags=re.IGNORECASE, regex=True), 'fair_catch',\n",
    "                        np.where(play_info['PlayDescription'].str.contains('touchback', flags=re.IGNORECASE, regex=True), 'touchback',\n",
    "                        np.where(play_info['PlayDescription'].str.contains('out of bounds', flags=re.IGNORECASE, regex=True), 'oob',\n",
    "                        np.where(play_info['PlayDescription'].str.contains('downed', flags=re.IGNORECASE, regex=True), 'downed',\n",
    "                        np.where(play_info['PlayDescription'].str.contains('blocked', flags=re.IGNORECASE, regex=True), 'blocked',\n",
    "                        np.where(play_info['PlayDescription'].str.contains('fake|pass', flags=re.IGNORECASE, regex=True), 'fake', \n",
    "                        np.where(play_info['PlayDescription'].str.contains('safety', flags=re.IGNORECASE, regex=True), 'safety',          \n",
    "                        np.where(play_info['PlayDescription'].str.contains('- no play|delay of game|false start, declined|penalty enforced', flags=re.IGNORECASE, regex=True), 'no_play',\n",
    "                        np.where(play_info['PlayDescription'].str.contains('[0-9]+ for [-+]?[0-9]+ yards?|for no gain|muffs|touchdown', flags=re.IGNORECASE, regex=True), 'return' , ' ')))))))))"
   ]
  },
  {
   "cell_type": "code",
   "execution_count": 258,
   "metadata": {},
   "outputs": [],
   "source": [
    "play_info_2016_pre = play_info.loc[play_info['Season_Year'] == 2016]"
   ]
  },
  {
   "cell_type": "code",
   "execution_count": 291,
   "metadata": {},
   "outputs": [],
   "source": [
    "#Create a function to calculate the space between the returner and the closest coverage player for every second between the punt and the catch\n",
    "def coverage_returner_space(play_df, ngs_df):\n",
    "    cov_ret_lst = []\n",
    "    play_df = play_df.loc[(play_df.outcome == 'fair_catch') | (play_df.outcome == 'return')].reset_index(drop=True)\n",
    "    for i in range(0, len(play_df)):\n",
    "        season_key = play_df['Season_Year'][i]\n",
    "        game_key = play_df['GameKey'][i]\n",
    "        play_id = play_df['PlayID'][i]\n",
    "        outcome = play_df['outcome'][i]\n",
    "        if game_key in ngs_df.GameKey and play_id in ngs_df.PlayID:\n",
    "            filtered_play = ngs_df.loc[(ngs_df.GameKey == game_key) \\\n",
    "                                       & (ngs_df.PlayID == play_id)].sort_values('Time').reset_index(drop=True)\n",
    "            filtered_play = filtered_play.merge(play_player_role, \\\n",
    "                                                how='inner', on = ['Season_Year','GameKey','PlayID','GSISID'])\n",
    "            if len(filtered_play) > 0:\n",
    "                filtered_play['Time'] = pd.to_datetime(filtered_play['Time'], \\\n",
    "                                                       format='%Y-%m-%d %H:%M:%S.%f')\n",
    "                punt_event_time = filtered_play.loc[filtered_play.Event == 'punt'].Time.min()\n",
    "                receiving_event_time = filtered_play.loc[(filtered_play.Event == 'punt_received') | \\\n",
    "                                                         (filtered_play.Event == 'fair_catch')].Time.min()\n",
    "                gunner_blocker_count = len(filtered_play.loc[filtered_play['Role'].isin(gunner_blockers)]['Role'].unique())\n",
    "                filtered_play = filtered_play.loc[(filtered_play.Time >= punt_event_time) & \\\n",
    "                                                  (filtered_play.Time <= receiving_event_time)]\n",
    "                coverage_df = filtered_play.loc[filtered_play['Role'].isin(coverage_roles)].sort_values('Time')\n",
    "                coverage_df.rename(columns={'x':'cov_x', \n",
    "                                          'y': 'cov_y',\n",
    "                                          'GSISID': 'cov_GSISID',\n",
    "                                          'dis': 'cov_dis',\n",
    "                                          'o': 'cov_o',\n",
    "                                          'dir': 'cov_dir',\n",
    "                                          'Role': 'cov_Role'\n",
    "                                         }, inplace=True)\n",
    "                \n",
    "                returner_df = filtered_play.loc[filtered_play['Role'] == 'PR'].sort_values('Time')\n",
    "                returner_df.rename(columns={'x':'ret_x', \n",
    "                                          'y': 'ret_y',\n",
    "                                          'GSISID': 'ret_GSISID',\n",
    "                                          'dis': 'ret_dis',\n",
    "                                          'o': 'ret_o',\n",
    "                                          'dir': 'ret_dir',\n",
    "                                          'Role': 'ret_Role'\n",
    "                                         }, inplace=True)\n",
    "                returner_df = returner_df.drop('Event', axis = 1)\n",
    "                \n",
    "                cov_ret_df = coverage_df.merge(returner_df, how ='inner', on = ['Season_Year','GameKey','PlayID','Time'])\n",
    "                cov_ret_df['dis_from_ret'] = ((cov_ret_df['cov_x'] -  cov_ret_df['ret_x']) ** 2 \\\n",
    "                                           + (cov_ret_df['cov_y'] -  cov_ret_df['ret_y']) ** 2).apply(np.sqrt)\n",
    "                cov_ret_df['time_since_punt'] = cov_ret_df['Time'] - punt_event_time\n",
    "                times_to_capture = [punt_event_time + pd.Timedelta(seconds=i) for i in range(1, 7)]\n",
    "                cov_ret_df = cov_ret_df.loc[cov_ret_df['Time'].isin(times_to_capture)]\n",
    "                cov_ret_df['gunner_blockers'] = gunner_blocker_count\n",
    "                cov_ret_df['outcome'] = outcome\n",
    "                if len(cov_ret_df) > 0:\n",
    "                    cov_ret_lst.append(cov_ret_df)\n",
    "                    \n",
    "    cov_ret_df = pd.concat(cov_ret_lst).reset_index(drop=True)          \n",
    "    return cov_ret_df\n",
    "\n",
    "#                 returner_space_dict[identifier] = {}\n",
    "#                 for i in range(1, 7):\n",
    "#                     time_df = cov_ret.loc[cov_ret['Time'] == (punt_event_time + pd.Timedelta(seconds=i))]\\\n",
    "#                             .sort_values('dis_from_ret').reset_index(drop=True)\n",
    "#                     if len(time_df) > 0:\n",
    "#                         cov_role = time_df['cov_Role'][0]\n",
    "#                         distance = time_df['dis_from_ret'][0]\n",
    "#                         returner_space_dict[identifier][i] = [cov_role, distance, fair_catch]\n",
    "                        \n",
    "#    return returner_space_dict"
   ]
  },
  {
   "cell_type": "code",
   "execution_count": 292,
   "metadata": {},
   "outputs": [],
   "source": [
    "cov_ret_df = coverage_returner_space(play_info_2016_pre, NGS_2016_pre)"
   ]
  },
  {
   "cell_type": "code",
   "execution_count": 296,
   "metadata": {},
   "outputs": [
    {
     "data": {
      "text/plain": [
       "4    0.591031\n",
       "2    0.205481\n",
       "3    0.197366\n",
       "1    0.004081\n",
       "0    0.002040\n",
       "Name: gunner_blockers, dtype: float64"
      ]
     },
     "execution_count": 296,
     "metadata": {},
     "output_type": "execute_result"
    }
   ],
   "source": [
    "cov_ret_df.gunner_blockers.value_counts(normalize=True)"
   ]
  },
  {
   "cell_type": "code",
   "execution_count": 297,
   "metadata": {},
   "outputs": [
    {
     "data": {
      "text/html": [
       "<div>\n",
       "<style>\n",
       "    .dataframe thead tr:only-child th {\n",
       "        text-align: right;\n",
       "    }\n",
       "\n",
       "    .dataframe thead th {\n",
       "        text-align: left;\n",
       "    }\n",
       "\n",
       "    .dataframe tbody tr th {\n",
       "        vertical-align: top;\n",
       "    }\n",
       "</style>\n",
       "<table border=\"1\" class=\"dataframe\">\n",
       "  <thead>\n",
       "    <tr style=\"text-align: right;\">\n",
       "      <th></th>\n",
       "      <th>cov_Role</th>\n",
       "      <th>time_since_punt</th>\n",
       "      <th>outcome</th>\n",
       "      <th>dis_from_ret</th>\n",
       "    </tr>\n",
       "  </thead>\n",
       "  <tbody>\n",
       "    <tr>\n",
       "      <th>12</th>\n",
       "      <td>GR</td>\n",
       "      <td>00:00:01</td>\n",
       "      <td>fair_catch</td>\n",
       "      <td>35.399932</td>\n",
       "    </tr>\n",
       "    <tr>\n",
       "      <th>0</th>\n",
       "      <td>GL</td>\n",
       "      <td>00:00:01</td>\n",
       "      <td>fair_catch</td>\n",
       "      <td>35.998195</td>\n",
       "    </tr>\n",
       "    <tr>\n",
       "      <th>13</th>\n",
       "      <td>GR</td>\n",
       "      <td>00:00:01</td>\n",
       "      <td>return</td>\n",
       "      <td>41.527492</td>\n",
       "    </tr>\n",
       "    <tr>\n",
       "      <th>1</th>\n",
       "      <td>GL</td>\n",
       "      <td>00:00:01</td>\n",
       "      <td>return</td>\n",
       "      <td>43.004696</td>\n",
       "    </tr>\n",
       "    <tr>\n",
       "      <th>95</th>\n",
       "      <td>PPR</td>\n",
       "      <td>00:00:01</td>\n",
       "      <td>fair_catch</td>\n",
       "      <td>43.334728</td>\n",
       "    </tr>\n",
       "  </tbody>\n",
       "</table>\n",
       "</div>"
      ],
      "text/plain": [
       "   cov_Role time_since_punt     outcome  dis_from_ret\n",
       "12       GR        00:00:01  fair_catch     35.399932\n",
       "0        GL        00:00:01  fair_catch     35.998195\n",
       "13       GR        00:00:01      return     41.527492\n",
       "1        GL        00:00:01      return     43.004696\n",
       "95      PPR        00:00:01  fair_catch     43.334728"
      ]
     },
     "execution_count": 297,
     "metadata": {},
     "output_type": "execute_result"
    }
   ],
   "source": [
    "cov_ret_df.groupby(['cov_Role','time_since_punt','outcome'], as_index=False)['dis_from_ret'].median().sort_values(['time_since_punt','dis_from_ret']).head()"
   ]
  },
  {
   "cell_type": "code",
   "execution_count": 273,
   "metadata": {},
   "outputs": [],
   "source": [
    "#Average distance for all player at the X second mark.  Return vs Fair Catch"
   ]
  },
  {
   "cell_type": "code",
   "execution_count": 277,
   "metadata": {},
   "outputs": [
    {
     "data": {
      "text/html": [
       "<div>\n",
       "<style>\n",
       "    .dataframe thead tr:only-child th {\n",
       "        text-align: right;\n",
       "    }\n",
       "\n",
       "    .dataframe thead th {\n",
       "        text-align: left;\n",
       "    }\n",
       "\n",
       "    .dataframe tbody tr th {\n",
       "        vertical-align: top;\n",
       "    }\n",
       "</style>\n",
       "<table border=\"1\" class=\"dataframe\">\n",
       "  <thead>\n",
       "    <tr style=\"text-align: right;\">\n",
       "      <th>outcome</th>\n",
       "      <th>fair_catch</th>\n",
       "      <th>return</th>\n",
       "    </tr>\n",
       "    <tr>\n",
       "      <th>time_since_punt</th>\n",
       "      <th></th>\n",
       "      <th></th>\n",
       "    </tr>\n",
       "  </thead>\n",
       "  <tbody>\n",
       "    <tr>\n",
       "      <th>00:00:01</th>\n",
       "      <td>43.745141</td>\n",
       "      <td>48.757623</td>\n",
       "    </tr>\n",
       "    <tr>\n",
       "      <th>00:00:02</th>\n",
       "      <td>38.552676</td>\n",
       "      <td>44.068928</td>\n",
       "    </tr>\n",
       "    <tr>\n",
       "      <th>00:00:03</th>\n",
       "      <td>31.307944</td>\n",
       "      <td>37.744260</td>\n",
       "    </tr>\n",
       "    <tr>\n",
       "      <th>00:00:04</th>\n",
       "      <td>24.117084</td>\n",
       "      <td>31.892049</td>\n",
       "    </tr>\n",
       "    <tr>\n",
       "      <th>00:00:05</th>\n",
       "      <td>18.925329</td>\n",
       "      <td>28.189252</td>\n",
       "    </tr>\n",
       "    <tr>\n",
       "      <th>00:00:06</th>\n",
       "      <td>20.045922</td>\n",
       "      <td>22.437433</td>\n",
       "    </tr>\n",
       "  </tbody>\n",
       "</table>\n",
       "</div>"
      ],
      "text/plain": [
       "outcome          fair_catch     return\n",
       "time_since_punt                       \n",
       "00:00:01          43.745141  48.757623\n",
       "00:00:02          38.552676  44.068928\n",
       "00:00:03          31.307944  37.744260\n",
       "00:00:04          24.117084  31.892049\n",
       "00:00:05          18.925329  28.189252\n",
       "00:00:06          20.045922  22.437433"
      ]
     },
     "execution_count": 277,
     "metadata": {},
     "output_type": "execute_result"
    }
   ],
   "source": [
    "pd.pivot_table(cov_ret_df, values='dis_from_ret', index=['time_since_punt'], columns=['outcome'], aggfunc=np.mean)"
   ]
  },
  {
   "cell_type": "code",
   "execution_count": 298,
   "metadata": {},
   "outputs": [
    {
     "data": {
      "text/html": [
       "<div>\n",
       "<style>\n",
       "    .dataframe thead tr:only-child th {\n",
       "        text-align: right;\n",
       "    }\n",
       "\n",
       "    .dataframe thead th {\n",
       "        text-align: left;\n",
       "    }\n",
       "\n",
       "    .dataframe tbody tr th {\n",
       "        vertical-align: top;\n",
       "    }\n",
       "</style>\n",
       "<table border=\"1\" class=\"dataframe\">\n",
       "  <thead>\n",
       "    <tr>\n",
       "      <th>outcome</th>\n",
       "      <th colspan=\"4\" halign=\"left\">fair_catch</th>\n",
       "      <th colspan=\"5\" halign=\"left\">return</th>\n",
       "    </tr>\n",
       "    <tr>\n",
       "      <th>gunner_blockers</th>\n",
       "      <th>1</th>\n",
       "      <th>2</th>\n",
       "      <th>3</th>\n",
       "      <th>4</th>\n",
       "      <th>0</th>\n",
       "      <th>1</th>\n",
       "      <th>2</th>\n",
       "      <th>3</th>\n",
       "      <th>4</th>\n",
       "    </tr>\n",
       "    <tr>\n",
       "      <th>time_since_punt</th>\n",
       "      <th></th>\n",
       "      <th></th>\n",
       "      <th></th>\n",
       "      <th></th>\n",
       "      <th></th>\n",
       "      <th></th>\n",
       "      <th></th>\n",
       "      <th></th>\n",
       "      <th></th>\n",
       "    </tr>\n",
       "  </thead>\n",
       "  <tbody>\n",
       "    <tr>\n",
       "      <th>00:00:01</th>\n",
       "      <td>39.970724</td>\n",
       "      <td>41.291033</td>\n",
       "      <td>43.798463</td>\n",
       "      <td>46.537340</td>\n",
       "      <td>46.835844</td>\n",
       "      <td>47.490862</td>\n",
       "      <td>47.793062</td>\n",
       "      <td>49.603730</td>\n",
       "      <td>48.720472</td>\n",
       "    </tr>\n",
       "    <tr>\n",
       "      <th>00:00:02</th>\n",
       "      <td>35.633095</td>\n",
       "      <td>36.049210</td>\n",
       "      <td>39.118778</td>\n",
       "      <td>41.073572</td>\n",
       "      <td>43.787933</td>\n",
       "      <td>42.287920</td>\n",
       "      <td>43.377784</td>\n",
       "      <td>44.828234</td>\n",
       "      <td>43.996766</td>\n",
       "    </tr>\n",
       "    <tr>\n",
       "      <th>00:00:03</th>\n",
       "      <td>30.055284</td>\n",
       "      <td>29.334707</td>\n",
       "      <td>32.337813</td>\n",
       "      <td>32.909893</td>\n",
       "      <td>37.573491</td>\n",
       "      <td>35.237645</td>\n",
       "      <td>37.305237</td>\n",
       "      <td>38.550498</td>\n",
       "      <td>37.604515</td>\n",
       "    </tr>\n",
       "    <tr>\n",
       "      <th>00:00:04</th>\n",
       "      <td>24.987765</td>\n",
       "      <td>23.248568</td>\n",
       "      <td>25.213161</td>\n",
       "      <td>24.396625</td>\n",
       "      <td>31.676056</td>\n",
       "      <td>26.754987</td>\n",
       "      <td>31.488348</td>\n",
       "      <td>32.758687</td>\n",
       "      <td>31.748381</td>\n",
       "    </tr>\n",
       "    <tr>\n",
       "      <th>00:00:05</th>\n",
       "      <td>NaN</td>\n",
       "      <td>18.706759</td>\n",
       "      <td>17.912799</td>\n",
       "      <td>19.370232</td>\n",
       "      <td>NaN</td>\n",
       "      <td>NaN</td>\n",
       "      <td>32.515076</td>\n",
       "      <td>28.533237</td>\n",
       "      <td>27.434877</td>\n",
       "    </tr>\n",
       "    <tr>\n",
       "      <th>00:00:06</th>\n",
       "      <td>NaN</td>\n",
       "      <td>NaN</td>\n",
       "      <td>NaN</td>\n",
       "      <td>20.045922</td>\n",
       "      <td>NaN</td>\n",
       "      <td>NaN</td>\n",
       "      <td>20.728033</td>\n",
       "      <td>19.263292</td>\n",
       "      <td>23.588531</td>\n",
       "    </tr>\n",
       "  </tbody>\n",
       "</table>\n",
       "</div>"
      ],
      "text/plain": [
       "outcome         fair_catch                                      return  \\\n",
       "gunner_blockers          1          2          3          4          0   \n",
       "time_since_punt                                                          \n",
       "00:00:01         39.970724  41.291033  43.798463  46.537340  46.835844   \n",
       "00:00:02         35.633095  36.049210  39.118778  41.073572  43.787933   \n",
       "00:00:03         30.055284  29.334707  32.337813  32.909893  37.573491   \n",
       "00:00:04         24.987765  23.248568  25.213161  24.396625  31.676056   \n",
       "00:00:05               NaN  18.706759  17.912799  19.370232        NaN   \n",
       "00:00:06               NaN        NaN        NaN  20.045922        NaN   \n",
       "\n",
       "outcome                                                      \n",
       "gunner_blockers          1          2          3          4  \n",
       "time_since_punt                                              \n",
       "00:00:01         47.490862  47.793062  49.603730  48.720472  \n",
       "00:00:02         42.287920  43.377784  44.828234  43.996766  \n",
       "00:00:03         35.237645  37.305237  38.550498  37.604515  \n",
       "00:00:04         26.754987  31.488348  32.758687  31.748381  \n",
       "00:00:05               NaN  32.515076  28.533237  27.434877  \n",
       "00:00:06               NaN  20.728033  19.263292  23.588531  "
      ]
     },
     "execution_count": 298,
     "metadata": {},
     "output_type": "execute_result"
    }
   ],
   "source": [
    "pd.pivot_table(cov_ret_df, values='dis_from_ret', index=['time_since_punt'], columns=['outcome','gunner_blockers'], aggfunc=np.mean)"
   ]
  },
  {
   "cell_type": "code",
   "execution_count": 299,
   "metadata": {},
   "outputs": [
    {
     "data": {
      "text/html": [
       "<div>\n",
       "<style>\n",
       "    .dataframe thead tr:only-child th {\n",
       "        text-align: right;\n",
       "    }\n",
       "\n",
       "    .dataframe thead th {\n",
       "        text-align: left;\n",
       "    }\n",
       "\n",
       "    .dataframe tbody tr th {\n",
       "        vertical-align: top;\n",
       "    }\n",
       "</style>\n",
       "<table border=\"1\" class=\"dataframe\">\n",
       "  <thead>\n",
       "    <tr style=\"text-align: right;\">\n",
       "      <th></th>\n",
       "      <th>Season_Year</th>\n",
       "      <th>GameKey</th>\n",
       "      <th>PlayID</th>\n",
       "      <th>cov_GSISID</th>\n",
       "      <th>Time</th>\n",
       "      <th>cov_x</th>\n",
       "      <th>cov_y</th>\n",
       "      <th>cov_dis</th>\n",
       "      <th>cov_o</th>\n",
       "      <th>cov_dir</th>\n",
       "      <th>...</th>\n",
       "      <th>ret_x</th>\n",
       "      <th>ret_y</th>\n",
       "      <th>ret_dis</th>\n",
       "      <th>ret_o</th>\n",
       "      <th>ret_dir</th>\n",
       "      <th>ret_Role</th>\n",
       "      <th>dis_from_ret</th>\n",
       "      <th>time_since_punt</th>\n",
       "      <th>gunner_blockers</th>\n",
       "      <th>outcome</th>\n",
       "    </tr>\n",
       "  </thead>\n",
       "  <tbody>\n",
       "    <tr>\n",
       "      <th>0</th>\n",
       "      <td>2016</td>\n",
       "      <td>3</td>\n",
       "      <td>455</td>\n",
       "      <td>30559</td>\n",
       "      <td>2016-08-11 23:51:05</td>\n",
       "      <td>41.380001</td>\n",
       "      <td>33.509998</td>\n",
       "      <td>0.60</td>\n",
       "      <td>322.839996</td>\n",
       "      <td>76.940002</td>\n",
       "      <td>...</td>\n",
       "      <td>90.93</td>\n",
       "      <td>20.700001</td>\n",
       "      <td>0.29</td>\n",
       "      <td>171.600006</td>\n",
       "      <td>162.940002</td>\n",
       "      <td>PR</td>\n",
       "      <td>51.179082</td>\n",
       "      <td>00:00:01</td>\n",
       "      <td>4</td>\n",
       "      <td>return</td>\n",
       "    </tr>\n",
       "    <tr>\n",
       "      <th>1</th>\n",
       "      <td>2016</td>\n",
       "      <td>3</td>\n",
       "      <td>455</td>\n",
       "      <td>27831</td>\n",
       "      <td>2016-08-11 23:51:05</td>\n",
       "      <td>47.009998</td>\n",
       "      <td>25.650000</td>\n",
       "      <td>0.71</td>\n",
       "      <td>354.779999</td>\n",
       "      <td>105.779999</td>\n",
       "      <td>...</td>\n",
       "      <td>90.93</td>\n",
       "      <td>20.700001</td>\n",
       "      <td>0.29</td>\n",
       "      <td>171.600006</td>\n",
       "      <td>162.940002</td>\n",
       "      <td>PR</td>\n",
       "      <td>44.198066</td>\n",
       "      <td>00:00:01</td>\n",
       "      <td>4</td>\n",
       "      <td>return</td>\n",
       "    </tr>\n",
       "    <tr>\n",
       "      <th>2</th>\n",
       "      <td>2016</td>\n",
       "      <td>3</td>\n",
       "      <td>455</td>\n",
       "      <td>33019</td>\n",
       "      <td>2016-08-11 23:51:05</td>\n",
       "      <td>46.549999</td>\n",
       "      <td>27.090000</td>\n",
       "      <td>0.86</td>\n",
       "      <td>27.590000</td>\n",
       "      <td>142.910004</td>\n",
       "      <td>...</td>\n",
       "      <td>90.93</td>\n",
       "      <td>20.700001</td>\n",
       "      <td>0.29</td>\n",
       "      <td>171.600006</td>\n",
       "      <td>162.940002</td>\n",
       "      <td>PR</td>\n",
       "      <td>44.837669</td>\n",
       "      <td>00:00:01</td>\n",
       "      <td>4</td>\n",
       "      <td>return</td>\n",
       "    </tr>\n",
       "    <tr>\n",
       "      <th>3</th>\n",
       "      <td>2016</td>\n",
       "      <td>3</td>\n",
       "      <td>455</td>\n",
       "      <td>31338</td>\n",
       "      <td>2016-08-11 23:51:05</td>\n",
       "      <td>39.790001</td>\n",
       "      <td>20.469999</td>\n",
       "      <td>0.46</td>\n",
       "      <td>51.299999</td>\n",
       "      <td>133.639999</td>\n",
       "      <td>...</td>\n",
       "      <td>90.93</td>\n",
       "      <td>20.700001</td>\n",
       "      <td>0.29</td>\n",
       "      <td>171.600006</td>\n",
       "      <td>162.940002</td>\n",
       "      <td>PR</td>\n",
       "      <td>51.140517</td>\n",
       "      <td>00:00:01</td>\n",
       "      <td>4</td>\n",
       "      <td>return</td>\n",
       "    </tr>\n",
       "    <tr>\n",
       "      <th>4</th>\n",
       "      <td>2016</td>\n",
       "      <td>3</td>\n",
       "      <td>455</td>\n",
       "      <td>32573</td>\n",
       "      <td>2016-08-11 23:51:05</td>\n",
       "      <td>38.750000</td>\n",
       "      <td>21.650000</td>\n",
       "      <td>0.51</td>\n",
       "      <td>352.820007</td>\n",
       "      <td>155.199997</td>\n",
       "      <td>...</td>\n",
       "      <td>90.93</td>\n",
       "      <td>20.700001</td>\n",
       "      <td>0.29</td>\n",
       "      <td>171.600006</td>\n",
       "      <td>162.940002</td>\n",
       "      <td>PR</td>\n",
       "      <td>52.188648</td>\n",
       "      <td>00:00:01</td>\n",
       "      <td>4</td>\n",
       "      <td>return</td>\n",
       "    </tr>\n",
       "  </tbody>\n",
       "</table>\n",
       "<p>5 rows × 23 columns</p>\n",
       "</div>"
      ],
      "text/plain": [
       "   Season_Year  GameKey  PlayID cov_GSISID                Time      cov_x  \\\n",
       "0         2016        3     455      30559 2016-08-11 23:51:05  41.380001   \n",
       "1         2016        3     455      27831 2016-08-11 23:51:05  47.009998   \n",
       "2         2016        3     455      33019 2016-08-11 23:51:05  46.549999   \n",
       "3         2016        3     455      31338 2016-08-11 23:51:05  39.790001   \n",
       "4         2016        3     455      32573 2016-08-11 23:51:05  38.750000   \n",
       "\n",
       "       cov_y  cov_dis       cov_o     cov_dir   ...     ret_x      ret_y  \\\n",
       "0  33.509998     0.60  322.839996   76.940002   ...     90.93  20.700001   \n",
       "1  25.650000     0.71  354.779999  105.779999   ...     90.93  20.700001   \n",
       "2  27.090000     0.86   27.590000  142.910004   ...     90.93  20.700001   \n",
       "3  20.469999     0.46   51.299999  133.639999   ...     90.93  20.700001   \n",
       "4  21.650000     0.51  352.820007  155.199997   ...     90.93  20.700001   \n",
       "\n",
       "  ret_dis       ret_o     ret_dir  ret_Role  dis_from_ret  time_since_punt  \\\n",
       "0    0.29  171.600006  162.940002        PR     51.179082         00:00:01   \n",
       "1    0.29  171.600006  162.940002        PR     44.198066         00:00:01   \n",
       "2    0.29  171.600006  162.940002        PR     44.837669         00:00:01   \n",
       "3    0.29  171.600006  162.940002        PR     51.140517         00:00:01   \n",
       "4    0.29  171.600006  162.940002        PR     52.188648         00:00:01   \n",
       "\n",
       "  gunner_blockers  outcome  \n",
       "0               4   return  \n",
       "1               4   return  \n",
       "2               4   return  \n",
       "3               4   return  \n",
       "4               4   return  \n",
       "\n",
       "[5 rows x 23 columns]"
      ]
     },
     "execution_count": 299,
     "metadata": {},
     "output_type": "execute_result"
    }
   ],
   "source": [
    "cov_ret_df.head()"
   ]
  },
  {
   "cell_type": "code",
   "execution_count": 272,
   "metadata": {},
   "outputs": [],
   "source": [
    "#### At each second of each play... Who is the closest to the returner?  How far away are they?  Return vs Fair Catch"
   ]
  },
  {
   "cell_type": "code",
   "execution_count": 282,
   "metadata": {},
   "outputs": [],
   "source": [
    "min_dist_from_ret = cov_ret_df.groupby(['Season_Year', 'GameKey','PlayID','time_since_punt'], as_index = False)['dis_from_ret'].min()"
   ]
  },
  {
   "cell_type": "code",
   "execution_count": 286,
   "metadata": {},
   "outputs": [
    {
     "data": {
      "text/html": [
       "<div>\n",
       "<style>\n",
       "    .dataframe thead tr:only-child th {\n",
       "        text-align: right;\n",
       "    }\n",
       "\n",
       "    .dataframe thead th {\n",
       "        text-align: left;\n",
       "    }\n",
       "\n",
       "    .dataframe tbody tr th {\n",
       "        vertical-align: top;\n",
       "    }\n",
       "</style>\n",
       "<table border=\"1\" class=\"dataframe\">\n",
       "  <thead>\n",
       "    <tr style=\"text-align: right;\">\n",
       "      <th></th>\n",
       "      <th>Season_Year</th>\n",
       "      <th>GameKey</th>\n",
       "      <th>PlayID</th>\n",
       "      <th>time_since_punt</th>\n",
       "      <th>dis_from_ret</th>\n",
       "    </tr>\n",
       "  </thead>\n",
       "  <tbody>\n",
       "    <tr>\n",
       "      <th>0</th>\n",
       "      <td>2016</td>\n",
       "      <td>3</td>\n",
       "      <td>455</td>\n",
       "      <td>00:00:01</td>\n",
       "      <td>39.068560</td>\n",
       "    </tr>\n",
       "    <tr>\n",
       "      <th>1</th>\n",
       "      <td>2016</td>\n",
       "      <td>3</td>\n",
       "      <td>455</td>\n",
       "      <td>00:00:02</td>\n",
       "      <td>31.370344</td>\n",
       "    </tr>\n",
       "    <tr>\n",
       "      <th>2</th>\n",
       "      <td>2016</td>\n",
       "      <td>3</td>\n",
       "      <td>455</td>\n",
       "      <td>00:00:03</td>\n",
       "      <td>21.645880</td>\n",
       "    </tr>\n",
       "    <tr>\n",
       "      <th>3</th>\n",
       "      <td>2016</td>\n",
       "      <td>3</td>\n",
       "      <td>455</td>\n",
       "      <td>00:00:04</td>\n",
       "      <td>11.321985</td>\n",
       "    </tr>\n",
       "    <tr>\n",
       "      <th>4</th>\n",
       "      <td>2016</td>\n",
       "      <td>3</td>\n",
       "      <td>1542</td>\n",
       "      <td>00:00:01</td>\n",
       "      <td>38.607731</td>\n",
       "    </tr>\n",
       "  </tbody>\n",
       "</table>\n",
       "</div>"
      ],
      "text/plain": [
       "   Season_Year  GameKey  PlayID time_since_punt  dis_from_ret\n",
       "0         2016        3     455        00:00:01     39.068560\n",
       "1         2016        3     455        00:00:02     31.370344\n",
       "2         2016        3     455        00:00:03     21.645880\n",
       "3         2016        3     455        00:00:04     11.321985\n",
       "4         2016        3    1542        00:00:01     38.607731"
      ]
     },
     "execution_count": 286,
     "metadata": {},
     "output_type": "execute_result"
    }
   ],
   "source": [
    "min_dist_from_ret.head()"
   ]
  },
  {
   "cell_type": "code",
   "execution_count": 300,
   "metadata": {},
   "outputs": [],
   "source": [
    "closest_df = cov_ret_df.merge(min_dist_from_ret.drop('time_since_punt', axis = 1), how = 'inner', on=['Season_Year', 'GameKey', 'PlayID', 'dis_from_ret'])"
   ]
  },
  {
   "cell_type": "code",
   "execution_count": 308,
   "metadata": {},
   "outputs": [],
   "source": [
    "#closest_df.groupby(['time_since_punt','cov_Role'], as_index=False)['dis_from_ret'].agg({'# of times closest': 'count','avg distance':np.mean}).sort_values('# of times closest', ascending =False)"
   ]
  },
  {
   "cell_type": "code",
   "execution_count": 313,
   "metadata": {},
   "outputs": [],
   "source": [
    "df_grouped = cov_ret_df.groupby(['time_since_punt', 'outcome'], as_index=False)['dis_from_ret'].mean()"
   ]
  },
  {
   "cell_type": "code",
   "execution_count": 314,
   "metadata": {},
   "outputs": [
    {
     "data": {
      "text/html": [
       "<div>\n",
       "<style>\n",
       "    .dataframe thead tr:only-child th {\n",
       "        text-align: right;\n",
       "    }\n",
       "\n",
       "    .dataframe thead th {\n",
       "        text-align: left;\n",
       "    }\n",
       "\n",
       "    .dataframe tbody tr th {\n",
       "        vertical-align: top;\n",
       "    }\n",
       "</style>\n",
       "<table border=\"1\" class=\"dataframe\">\n",
       "  <thead>\n",
       "    <tr style=\"text-align: right;\">\n",
       "      <th></th>\n",
       "      <th>time_since_punt</th>\n",
       "      <th>outcome</th>\n",
       "      <th>dis_from_ret</th>\n",
       "    </tr>\n",
       "  </thead>\n",
       "  <tbody>\n",
       "    <tr>\n",
       "      <th>0</th>\n",
       "      <td>00:00:01</td>\n",
       "      <td>fair_catch</td>\n",
       "      <td>43.745141</td>\n",
       "    </tr>\n",
       "    <tr>\n",
       "      <th>1</th>\n",
       "      <td>00:00:01</td>\n",
       "      <td>return</td>\n",
       "      <td>48.757623</td>\n",
       "    </tr>\n",
       "    <tr>\n",
       "      <th>2</th>\n",
       "      <td>00:00:02</td>\n",
       "      <td>fair_catch</td>\n",
       "      <td>38.552676</td>\n",
       "    </tr>\n",
       "    <tr>\n",
       "      <th>3</th>\n",
       "      <td>00:00:02</td>\n",
       "      <td>return</td>\n",
       "      <td>44.068928</td>\n",
       "    </tr>\n",
       "    <tr>\n",
       "      <th>4</th>\n",
       "      <td>00:00:03</td>\n",
       "      <td>fair_catch</td>\n",
       "      <td>31.307944</td>\n",
       "    </tr>\n",
       "  </tbody>\n",
       "</table>\n",
       "</div>"
      ],
      "text/plain": [
       "  time_since_punt     outcome  dis_from_ret\n",
       "0        00:00:01  fair_catch     43.745141\n",
       "1        00:00:01      return     48.757623\n",
       "2        00:00:02  fair_catch     38.552676\n",
       "3        00:00:02      return     44.068928\n",
       "4        00:00:03  fair_catch     31.307944"
      ]
     },
     "execution_count": 314,
     "metadata": {},
     "output_type": "execute_result"
    }
   ],
   "source": [
    "df_grouped.head()"
   ]
  },
  {
   "cell_type": "code",
   "execution_count": 315,
   "metadata": {},
   "outputs": [
    {
     "data": {
      "text/plain": [
       "<matplotlib.legend.Legend at 0x115c70438>"
      ]
     },
     "execution_count": 315,
     "metadata": {},
     "output_type": "execute_result"
    },
    {
     "data": {
      "image/png": "[encoded data removed]",
      "text/plain": [
       "<Figure size 432x288 with 1 Axes>"
      ]
     },
     "metadata": {
      "needs_background": "light"
     },
     "output_type": "display_data"
    }
   ],
   "source": [
    "plt.plot(df_grouped.loc[df_grouped['outcome']=='fair_catch']['time_since_punt'], df_grouped.loc[df_grouped['outcome']=='fair_catch']['dis_from_ret'])\n",
    "plt.plot(df_grouped.loc[df_grouped['outcome']=='return']['time_since_punt'], df_grouped.loc[df_grouped['outcome']=='return']['dis_from_ret'])\n",
    "plt.legend()"
   ]
  },
  {
   "cell_type": "code",
   "execution_count": 322,
   "metadata": {},
   "outputs": [],
   "source": [
    "pos_grouped_df = cov_ret_df.groupby(['cov_Role','time_since_punt', 'outcome'], as_index=False)['dis_from_ret'].mean()"
   ]
  },
  {
   "cell_type": "code",
   "execution_count": 325,
   "metadata": {},
   "outputs": [
    {
     "data": {
      "text/html": [
       "<iframe id=\"igraph\" scrolling=\"no\" style=\"border:none;\" seamless=\"seamless\" src=\"https://plot.ly/~mtodisco10/4.embed\" height=\"525px\" width=\"100%\"></iframe>"
      ],
      "text/plain": [
       "<plotly.tools.PlotlyDisplay object>"
      ]
     },
     "execution_count": 325,
     "metadata": {},
     "output_type": "execute_result"
    }
   ],
   "source": [
    "trace1 = go.Bar(\n",
    "        x=pos_grouped_df.loc[pos_grouped_df.outcome == 'fair_catch']['cov_Role'],\n",
    "        y=pos_grouped_df.loc[pos_grouped_df.outcome == 'fair_catch']['dis_from_ret'],\n",
    "        name='fair catch'\n",
    "    )\n",
    "\n",
    "trace2 = go.Bar(\n",
    "        x=pos_grouped_df.loc[pos_grouped_df.outcome == 'return']['cov_Role'],\n",
    "        y=pos_grouped_df.loc[pos_grouped_df.outcome == 'return']['dis_from_ret'],\n",
    "        name='return'\n",
    "    )\n",
    "\n",
    "data = [trace1, trace2]\n",
    "layout = go.Layout(\n",
    "    barmode='group',\n",
    "    xaxis=dict(title='Position'),\n",
    "    yaxis= dict(title='Avg Distance From Returner (Yds)')\n",
    ")\n",
    "\n",
    "fig=go.Figure(data=data, layout=layout)\n",
    "py.iplot(fig, filename='grouped-bar')"
   ]
  },
  {
   "cell_type": "code",
   "execution_count": null,
   "metadata": {},
   "outputs": [],
   "source": [
    "df.groupby(['position','seconds'], as_index = False)['distance'].agg({'Count': 'count', 'mean_distance': np.mean, 'median_distance':np.median}) \\\n",
    "    .sort_values(['seconds', 'Count'], ascending = [True, False]).reset_index(drop=True)"
   ]
  },
  {
   "cell_type": "code",
   "execution_count": null,
   "metadata": {},
   "outputs": [],
   "source": []
  }
 ],
 "metadata": {
  "kernelspec": {
   "display_name": "Python 3",
   "language": "python",
   "name": "python3"
  },
  "language_info": {
   "codemirror_mode": {
    "name": "ipython",
    "version": 3
   },
   "file_extension": ".py",
   "mimetype": "text/x-python",
   "name": "python",
   "nbconvert_exporter": "python",
   "pygments_lexer": "ipython3",
   "version": "3.6.0"
  }
 },
 "nbformat": 4,
 "nbformat_minor": 2
}
