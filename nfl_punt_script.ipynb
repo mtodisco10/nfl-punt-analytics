{
 "cells": [
  {
   "cell_type": "code",
   "execution_count": 1,
   "metadata": {},
   "outputs": [],
   "source": [
    "import pandas as pd\n",
    "import numpy as np\n",
    "import matplotlib.pyplot as plt"
   ]
  },
  {
   "cell_type": "code",
   "execution_count": 179,
   "metadata": {},
   "outputs": [],
   "source": [
    "#Read in Data\n",
    "game_data = pd.read_csv('game_data.csv')\n",
    "play_info = pd.read_csv('play_information.csv')\n",
    "play_player_role = pd.read_csv('play_player_role_data.csv')\n",
    "player_punt = pd.read_csv('player_punt_data.csv')\n",
    "video_footage_control = pd.read_csv('video_footage-control.csv')\n",
    "video_footage_injury = pd.read_csv('video_footage-injury.csv')\n",
    "video_review = pd.read_csv('video_review.csv')"
   ]
  },
  {
   "cell_type": "code",
   "execution_count": 8,
   "metadata": {},
   "outputs": [],
   "source": [
    "NGS_2016_pre = pd.read_csv('NGS-2016-pre.csv')\n",
    "NGS_2016_post = pd.read_csv('NGS-2016-post.csv')\n",
    "NGS_2017_pre = pd.read_csv('NGS-2017-pre.csv')\n",
    "NGS_2017_post = pd.read_csv('NGS-2017-post.csv')"
   ]
  },
  {
   "cell_type": "code",
   "execution_count": 120,
   "metadata": {},
   "outputs": [
    {
     "name": "stderr",
     "output_type": "stream",
     "text": [
      "/Library/Frameworks/Python.framework/Versions/3.6/lib/python3.6/site-packages/IPython/core/interactiveshell.py:3018: DtypeWarning: Columns (10) have mixed types. Specify dtype option on import or set low_memory=False.\n",
      "  interactivity=interactivity, compiler=compiler, result=result)\n"
     ]
    }
   ],
   "source": [
    "NGS_2016_wk1_6 = pd.read_csv('NGS-2016-reg-wk1-6.csv')\n",
    "NGS_2016_wk7_12 = pd.read_csv('NGS-2016-reg-wk7-12.csv')\n",
    "NGS_2016_wk13_17 = pd.read_csv('NGS-2016-reg-wk13-17.csv')"
   ]
  },
  {
   "cell_type": "code",
   "execution_count": null,
   "metadata": {},
   "outputs": [],
   "source": [
    "NGS_2017_wk1_6 = pd.read_csv('NGS-2017-reg-wk1-6.csv')\n",
    "NGS_2017_wk7_12 = pd.read_csv('NGS-2017-reg-wk7-12.csv')\n",
    "NGS_2017_wk13_17 = pd.read_csv('NGS-2017-reg-wk13-17.csv')"
   ]
  },
  {
   "cell_type": "code",
   "execution_count": 121,
   "metadata": {},
   "outputs": [],
   "source": [
    "NGS_2016 = pd.concat([NGS_2016_wk1_6, NGS_2016_wk7_12, NGS_2016_wk13_17])"
   ]
  },
  {
   "cell_type": "code",
   "execution_count": null,
   "metadata": {},
   "outputs": [],
   "source": [
    "NGS_2017 = pd.concat([NGS_2017_wk1_6, NGS_2017_wk7_12, NGS_2017_wk13_17])"
   ]
  },
  {
   "cell_type": "code",
   "execution_count": null,
   "metadata": {},
   "outputs": [],
   "source": [
    "NGS_df = pd.concat([NGS_2016, NGS_2017])"
   ]
  },
  {
   "cell_type": "code",
   "execution_count": null,
   "metadata": {},
   "outputs": [],
   "source": [
    "len(NGS_df)"
   ]
  },
  {
   "cell_type": "code",
   "execution_count": null,
   "metadata": {},
   "outputs": [],
   "source": [
    "NGS_df.head()"
   ]
  },
  {
   "cell_type": "code",
   "execution_count": null,
   "metadata": {},
   "outputs": [],
   "source": [
    "test_plot = NGS_2016.loc[(NGS_2016.PlayID == 2035) & (NGS_2016.GSISID == 27675)].sort_values('Time')"
   ]
  },
  {
   "cell_type": "code",
   "execution_count": null,
   "metadata": {},
   "outputs": [],
   "source": [
    "player_punt.loc[player_punt.GSISID == 27675]"
   ]
  },
  {
   "cell_type": "code",
   "execution_count": null,
   "metadata": {},
   "outputs": [],
   "source": [
    "player_punt.head()"
   ]
  },
  {
   "cell_type": "code",
   "execution_count": null,
   "metadata": {},
   "outputs": [],
   "source": [
    "play_player_role.loc[(play_player_role.GSISID == 27675) & (play_player_role.PlayID == 2035)]"
   ]
  },
  {
   "cell_type": "code",
   "execution_count": null,
   "metadata": {},
   "outputs": [],
   "source": [
    "play_info.head()"
   ]
  },
  {
   "cell_type": "code",
   "execution_count": null,
   "metadata": {},
   "outputs": [],
   "source": [
    "video_review.head()"
   ]
  },
  {
   "cell_type": "code",
   "execution_count": null,
   "metadata": {},
   "outputs": [],
   "source": [
    "video_footage_injury.iloc[0,9]"
   ]
  },
  {
   "cell_type": "markdown",
   "metadata": {},
   "source": [
    "#### Who's getting hurt?"
   ]
  },
  {
   "cell_type": "code",
   "execution_count": null,
   "metadata": {},
   "outputs": [],
   "source": [
    "merged_df = video_review.merge(play_player_role, how= 'left', left_on=['GSISID','PlayID','GameKey'], right_on=['GSISID','PlayID','GameKey'])"
   ]
  },
  {
   "cell_type": "code",
   "execution_count": null,
   "metadata": {},
   "outputs": [],
   "source": [
    "player_punt.loc[player_punt.GSISID == 32482]"
   ]
  },
  {
   "cell_type": "code",
   "execution_count": null,
   "metadata": {},
   "outputs": [],
   "source": [
    "play_player_role.loc[(play_player_role.GSISID == 29343) & (play_player_role.PlayID == 2587)]"
   ]
  },
  {
   "cell_type": "code",
   "execution_count": null,
   "metadata": {},
   "outputs": [],
   "source": [
    "merged_df.Role.value_counts()"
   ]
  },
  {
   "cell_type": "code",
   "execution_count": null,
   "metadata": {},
   "outputs": [],
   "source": [
    "len(video_footage_injury)"
   ]
  },
  {
   "cell_type": "code",
   "execution_count": null,
   "metadata": {},
   "outputs": [],
   "source": [
    "ax = plt.plot(test_plot['x'],test_plot['y'])"
   ]
  },
  {
   "cell_type": "code",
   "execution_count": null,
   "metadata": {},
   "outputs": [],
   "source": [
    "gunner_df = NGS_2016_pre.loc[(NGS_2016_pre.GameKey == 5) & (NGS_2016_pre.PlayID == 3129) & (NGS_2016_pre.GSISID == 31057)].sort_values('Time')"
   ]
  },
  {
   "cell_type": "code",
   "execution_count": null,
   "metadata": {},
   "outputs": [],
   "source": [
    "min(gunner_df['Time'])"
   ]
  },
  {
   "cell_type": "code",
   "execution_count": null,
   "metadata": {},
   "outputs": [],
   "source": [
    "max(gunner_df['Time'])"
   ]
  },
  {
   "cell_type": "code",
   "execution_count": null,
   "metadata": {},
   "outputs": [],
   "source": [
    "gunner_df.head(11).dis.sum() * 2.045"
   ]
  },
  {
   "cell_type": "code",
   "execution_count": null,
   "metadata": {},
   "outputs": [],
   "source": [
    "gunner_df.head()"
   ]
  },
  {
   "cell_type": "code",
   "execution_count": null,
   "metadata": {},
   "outputs": [],
   "source": [
    "gunner_df['dis_per_second'] = gunner_df.dis * 10\n",
    "gunner_df['dis_mph'] = gunner_df['dis_per_second'] * 2.0455"
   ]
  },
  {
   "cell_type": "code",
   "execution_count": null,
   "metadata": {},
   "outputs": [],
   "source": [
    "print(gunner_df.dis_mph[200:250])"
   ]
  },
  {
   "cell_type": "code",
   "execution_count": null,
   "metadata": {},
   "outputs": [],
   "source": [
    "play_player_role.loc[(play_player_role.GameKey == 5) & (play_player_role.PlayID == 3129) & (play_player_role.GSISID == 31057)]"
   ]
  },
  {
   "cell_type": "code",
   "execution_count": null,
   "metadata": {},
   "outputs": [],
   "source": [
    "ax1 = plt.subplot()\n",
    "ax1.plot(gunner_df['x'], gunner_df['y'])\n",
    "ax1.set_xlim([0,120])\n",
    "ax1.set_ylim([0,53.3])"
   ]
  },
  {
   "cell_type": "code",
   "execution_count": null,
   "metadata": {},
   "outputs": [],
   "source": [
    "max(NGS_2016_wk1_6['y'])"
   ]
  },
  {
   "cell_type": "code",
   "execution_count": null,
   "metadata": {},
   "outputs": [],
   "source": [
    "play_info['fair_catch'] = play_info.PlayDescription.str.contains('fair catch')"
   ]
  },
  {
   "cell_type": "code",
   "execution_count": null,
   "metadata": {},
   "outputs": [],
   "source": [
    "play_info.loc[play_info.fair_catch == True].merge(video_review)"
   ]
  },
  {
   "cell_type": "code",
   "execution_count": null,
   "metadata": {},
   "outputs": [],
   "source": [
    "video_footage_injury.loc[video_footage_injury.playid == 2918]"
   ]
  },
  {
   "cell_type": "code",
   "execution_count": null,
   "metadata": {},
   "outputs": [],
   "source": [
    "video_footage_injury.head()"
   ]
  },
  {
   "cell_type": "markdown",
   "metadata": {},
   "source": [
    "### Does speed correlate with injury?"
   ]
  },
  {
   "cell_type": "code",
   "execution_count": null,
   "metadata": {},
   "outputs": [],
   "source": [
    "video_review.head()"
   ]
  },
  {
   "cell_type": "code",
   "execution_count": null,
   "metadata": {},
   "outputs": [],
   "source": [
    "injury_ngs = video_review.merge(NGS_2016, how ='inner', left_on=['GSISID','PlayID','GameKey'], right_on=['GSISID','PlayID','GameKey'])"
   ]
  },
  {
   "cell_type": "code",
   "execution_count": null,
   "metadata": {},
   "outputs": [],
   "source": [
    "injury_ngs['dis_per_second'] = injury_ngs.dis * 10\n",
    "injury_ngs['dis_mph'] = injury_ngs.dis_per_second * 2.0455"
   ]
  },
  {
   "cell_type": "code",
   "execution_count": null,
   "metadata": {},
   "outputs": [],
   "source": [
    "injury_ngs.groupby('PlayID')['dis_mph'].agg(max)"
   ]
  },
  {
   "cell_type": "code",
   "execution_count": null,
   "metadata": {},
   "outputs": [],
   "source": [
    "play_info.head()"
   ]
  },
  {
   "cell_type": "code",
   "execution_count": null,
   "metadata": {},
   "outputs": [],
   "source": [
    "play_info = play_info.merge(video_review[['GameKey','PlayID','GSISID']], how = 'left', left_on = ['GameKey','PlayID'], right_on = ['GameKey','PlayID'])"
   ]
  },
  {
   "cell_type": "code",
   "execution_count": null,
   "metadata": {},
   "outputs": [],
   "source": [
    "play_info['injury'] = play_info.GSISID.apply(lambda x: 0 if pd.isnull(x) else 1)"
   ]
  },
  {
   "cell_type": "code",
   "execution_count": null,
   "metadata": {},
   "outputs": [],
   "source": [
    "play_info.fair_catch.value_counts(normalize = True)"
   ]
  },
  {
   "cell_type": "code",
   "execution_count": null,
   "metadata": {},
   "outputs": [],
   "source": [
    "play_info.loc[play_info.injury == 1]['fair_catch'].sum() / len(play_info.loc[play_info.injury == 1])"
   ]
  },
  {
   "cell_type": "code",
   "execution_count": null,
   "metadata": {},
   "outputs": [],
   "source": [
    "play_info.loc[play_info.injury == 1]['fair_catch'].sum() / len(play_info.loc[play_info.injury == 0])"
   ]
  },
  {
   "cell_type": "code",
   "execution_count": null,
   "metadata": {},
   "outputs": [],
   "source": [
    "fair_catches = play_info.loc[play_info.fair_catch == 1]\n",
    "non_fair_catches = play_info.loc[play_info.fair_catch == 0]"
   ]
  },
  {
   "cell_type": "code",
   "execution_count": null,
   "metadata": {},
   "outputs": [],
   "source": [
    "len(fair_catches.loc[fair_catches.injury == 1]) / float(len(fair_catches)) * 100"
   ]
  },
  {
   "cell_type": "code",
   "execution_count": null,
   "metadata": {},
   "outputs": [],
   "source": [
    "len(non_fair_catches.loc[non_fair_catches.injury == 1]) / float(len(non_fair_catches)) * 100"
   ]
  },
  {
   "cell_type": "code",
   "execution_count": null,
   "metadata": {},
   "outputs": [],
   "source": [
    "(.7-.12) / .12"
   ]
  },
  {
   "cell_type": "markdown",
   "metadata": {},
   "source": [
    "#### Nearly 5 times more likely to have an injury when there is an actual return"
   ]
  },
  {
   "cell_type": "code",
   "execution_count": null,
   "metadata": {},
   "outputs": [],
   "source": [
    "import plotly"
   ]
  },
  {
   "cell_type": "code",
   "execution_count": null,
   "metadata": {},
   "outputs": [],
   "source": [
    "import plotly.graph_objs as go\n",
    "from plotly import offline\n",
    "import plotly.plotly as py\n",
    "plotly.tools.set_credentials_file(username='mtodisco10', api_key='bCfUmq5FralbymKXY4uX')"
   ]
  },
  {
   "cell_type": "code",
   "execution_count": null,
   "metadata": {},
   "outputs": [],
   "source": [
    "def load_layout():\n",
    "    \"\"\"\n",
    "    Returns a dict for a Football themed Plot.ly layout \n",
    "    \"\"\"\n",
    "    layout = dict(\n",
    "        title = \"Player Activity\",\n",
    "        plot_bgcolor='darkseagreen',\n",
    "        showlegend=True,\n",
    "        xaxis=dict(\n",
    "            autorange=False,\n",
    "            range=[0, 120],\n",
    "            showgrid=False,\n",
    "            zeroline=False,\n",
    "            showline=True,\n",
    "            linecolor='black',\n",
    "            linewidth=1,\n",
    "            mirror=True,\n",
    "            ticks='',\n",
    "            tickmode='array',\n",
    "            tickvals=[10,20, 30, 40, 50, 60, 70, 80, 90, 100, 110],\n",
    "            ticktext=['Goal', 10, 20, 30, 40, 50, 40, 30, 20, 10, 'Goal'],\n",
    "            showticklabels=True\n",
    "        ),\n",
    "        yaxis=dict(\n",
    "            title='',\n",
    "            autorange=False,\n",
    "            range=[-3.3,56.3],\n",
    "            showgrid=False,\n",
    "            zeroline=False,\n",
    "            showline=True,\n",
    "            linecolor='black',\n",
    "            linewidth=1,\n",
    "            mirror=True,\n",
    "            ticks='',\n",
    "            showticklabels=False\n",
    "        ),\n",
    "        shapes=[\n",
    "            dict(\n",
    "                type='line',\n",
    "                layer='below',\n",
    "                x0=0,\n",
    "                y0=0,\n",
    "                x1=120,\n",
    "                y1=0,\n",
    "                line=dict(\n",
    "                    color='white',\n",
    "                    width=2\n",
    "                )\n",
    "            ),\n",
    "            dict(\n",
    "                type='line',\n",
    "                layer='below',\n",
    "                x0=0,\n",
    "                y0=53.3,\n",
    "                x1=120,\n",
    "                y1=53.3,\n",
    "                line=dict(\n",
    "                    color='white',\n",
    "                    width=2\n",
    "                )\n",
    "            ),\n",
    "            dict(\n",
    "                type='line',\n",
    "                layer='below',\n",
    "                x0=10,\n",
    "                y0=0,\n",
    "                x1=10,\n",
    "                y1=53.3,\n",
    "                line=dict(\n",
    "                    color='white',\n",
    "                    width=10\n",
    "                )\n",
    "            ),\n",
    "            dict(\n",
    "                type='line',\n",
    "                layer='below',\n",
    "                x0=20,\n",
    "                y0=0,\n",
    "                x1=20,\n",
    "                y1=53.3,\n",
    "                line=dict(\n",
    "                    color='white'\n",
    "                )\n",
    "            ),\n",
    "            dict(\n",
    "                type='line',\n",
    "                layer='below',\n",
    "                x0=30,\n",
    "                y0=0,\n",
    "                x1=30,\n",
    "                y1=53.3,\n",
    "                line=dict(\n",
    "                    color='white'\n",
    "                )\n",
    "            ),\n",
    "            dict(\n",
    "                type='line',\n",
    "                layer='below',\n",
    "                x0=40,\n",
    "                y0=0,\n",
    "                x1=40,\n",
    "                y1=53.3,\n",
    "                line=dict(\n",
    "                    color='white'\n",
    "                )\n",
    "            ),\n",
    "            dict(\n",
    "                type='line',\n",
    "                layer='below',\n",
    "                x0=50,\n",
    "                y0=0,\n",
    "                x1=50,\n",
    "                y1=53.3,\n",
    "                line=dict(\n",
    "                    color='white'\n",
    "                )\n",
    "            ),\n",
    "            dict(\n",
    "                type='line',\n",
    "                layer='below',\n",
    "                x0=60,\n",
    "                y0=0,\n",
    "                x1=60,\n",
    "                y1=53.3,\n",
    "                line=dict(\n",
    "                    color='white'\n",
    "                )\n",
    "            ),dict(\n",
    "                type='line',\n",
    "                layer='below',\n",
    "                x0=70,\n",
    "                y0=0,\n",
    "                x1=70,\n",
    "                y1=53.3,\n",
    "                line=dict(\n",
    "                    color='white'\n",
    "                )\n",
    "            ),dict(\n",
    "                type='line',\n",
    "                layer='below',\n",
    "                x0=80,\n",
    "                y0=0,\n",
    "                x1=80,\n",
    "                y1=53.3,\n",
    "                line=dict(\n",
    "                    color='white'\n",
    "                )\n",
    "            ),\n",
    "            dict(\n",
    "                type='line',\n",
    "                layer='below',\n",
    "                x0=90,\n",
    "                y0=0,\n",
    "                x1=90,\n",
    "                y1=53.3,\n",
    "                line=dict(\n",
    "                    color='white'\n",
    "                )\n",
    "            ),dict(\n",
    "                type='line',\n",
    "                layer='below',\n",
    "                x0=100,\n",
    "                y0=0,\n",
    "                x1=100,\n",
    "                y1=53.3,\n",
    "                line=dict(\n",
    "                    color='white'\n",
    "                )\n",
    "            ),\n",
    "            dict(\n",
    "                type='line',\n",
    "                layer='below',\n",
    "                x0=110,\n",
    "                y0=0,\n",
    "                x1=110,\n",
    "                y1=53.3,\n",
    "                line=dict(\n",
    "                    color='white',\n",
    "                    width=10\n",
    "                )\n",
    "            )\n",
    "        ]\n",
    "    )\n",
    "    return layout\n",
    "\n",
    "layout = load_layout()"
   ]
  },
  {
   "cell_type": "code",
   "execution_count": null,
   "metadata": {},
   "outputs": [],
   "source": [
    "# Loading and plotting functions\n",
    "\n",
    "def load_plays_for_game(GameKey):\n",
    "    \"\"\"\n",
    "    Returns a dataframe of play data for a given game (GameKey)\n",
    "    \"\"\"\n",
    "    play_information = pd.read_csv('play_information.csv')\n",
    "    play_information = play_information[play_information['GameKey'] == GameKey]\n",
    "    return play_information\n",
    "\n",
    "\n",
    "def load_game_and_ngs(ngs_file=None, GameKey=None):\n",
    "    \"\"\"\n",
    "    Returns a dataframe of player movements (NGS data) for a given game\n",
    "    \"\"\"\n",
    "    if ngs_file is None:\n",
    "        print(\"Specifiy an NGS file.\")\n",
    "        return None\n",
    "    if GameKey is None:\n",
    "        print('Specify a GameKey')\n",
    "        return None\n",
    "    # Merge play data with NGS data    \n",
    "    plays = load_plays_for_game(GameKey)\n",
    "    ngs = pd.read_csv(ngs_file, low_memory=False)\n",
    "    merged = pd.merge(ngs, plays, how=\"inner\", on=[\"GameKey\", \"PlayID\", \"Season_Year\"])\n",
    "    return merged\n",
    "\n",
    "\n",
    "def plot_play(game_df, PlayID, player1=None, player2=None, custom_layout=False):\n",
    "    \"\"\"\n",
    "    Plots player movements on the field for a given game, play, and two players\n",
    "    \"\"\"\n",
    "    game_df = game_df[game_df.PlayID==PlayID]\n",
    "    \n",
    "    GameKey=str(pd.unique(game_df.GameKey)[0])\n",
    "    HomeTeam = pd.unique(game_df.Home_Team_Visit_Team)[0].split(\"-\")[0]\n",
    "    VisitingTeam = pd.unique(game_df.Home_Team_Visit_Team)[0].split(\"-\")[1]\n",
    "    YardLine = game_df[(game_df.PlayID==PlayID) & (game_df.GSISID==player1)]['YardLine'].iloc[0]\n",
    "    \n",
    "    traces=[]   \n",
    "    if (player1 is not None) & (player2 is not None):\n",
    "        game_df = game_df[ (game_df['GSISID']==player1) | (game_df['GSISID']==player2)]\n",
    "        for player in pd.unique(game_df.GSISID):\n",
    "            player = int(player)\n",
    "            trace = go.Scatter(\n",
    "                x = game_df[game_df.GSISID==player].x,\n",
    "                y = game_df[game_df.GSISID==player].y,\n",
    "                name='GSISID '+str(player),\n",
    "                mode='markers'\n",
    "            )\n",
    "            traces.append(trace)\n",
    "    else:\n",
    "        print(\"Specify GSISIDs for player1 and player2\")\n",
    "        return None\n",
    "    \n",
    "    if custom_layout is not True:\n",
    "        layout = load_layout()\n",
    "        layout['title'] =  HomeTeam + \\\n",
    "        ' vs. ' + VisitingTeam + \\\n",
    "        '<br>Possession: ' + \\\n",
    "        YardLine.split(\" \")[0] +'@'+YardLine.split(\" \")[1]\n",
    "    data = traces\n",
    "    fig = dict(data=data, layout=layout)\n",
    "    play_description = game_df[(game_df.PlayID==PlayID) & (game_df.GSISID==player1)].iloc[0][\"PlayDescription\"]\n",
    "    print(\"\\n\\n\\t\",play_description)\n",
    "    #py.iplot(fig,filename='jupyter-table1')\n",
    "    offline.iplot(fig)"
   ]
  },
  {
   "cell_type": "code",
   "execution_count": null,
   "metadata": {},
   "outputs": [],
   "source": [
    "game280 = load_game_and_ngs('NGS-2016-reg-wk13-17.csv',GameKey=280)"
   ]
  },
  {
   "cell_type": "code",
   "execution_count": null,
   "metadata": {},
   "outputs": [],
   "source": [
    "plot_play(game_df=game280, PlayID=2918, player1=32120, player2=32725)"
   ]
  },
  {
   "cell_type": "code",
   "execution_count": null,
   "metadata": {},
   "outputs": [],
   "source": [
    "video_review.head()"
   ]
  },
  {
   "cell_type": "code",
   "execution_count": null,
   "metadata": {},
   "outputs": [],
   "source": [
    "player = NGS_2016_pre.loc[(NGS_2016_pre.PlayID == 3129) & (NGS_2016_pre.GSISID == 31057) \n",
    "                          & (NGS_2016_pre.GameKey == 5)] \n"
   ]
  },
  {
   "cell_type": "code",
   "execution_count": null,
   "metadata": {},
   "outputs": [],
   "source": [
    "partner = NGS_2016_pre.loc[(NGS_2016_pre.PlayID == 3129) & (NGS_2016_pre.GSISID == 32482) & \n",
    "                           (NGS_2016_pre.GameKey == 5)] "
   ]
  },
  {
   "cell_type": "code",
   "execution_count": null,
   "metadata": {},
   "outputs": [],
   "source": [
    "player.loc[player.Event.notnull()].sort_values('Time')"
   ]
  },
  {
   "cell_type": "code",
   "execution_count": null,
   "metadata": {},
   "outputs": [],
   "source": [
    "partner.loc[partner.Time == '2016-08-12 02:07:48.300']"
   ]
  },
  {
   "cell_type": "code",
   "execution_count": null,
   "metadata": {},
   "outputs": [],
   "source": [
    "player = player[['x','y','dis']]"
   ]
  },
  {
   "cell_type": "code",
   "execution_count": null,
   "metadata": {},
   "outputs": [],
   "source": [
    "partner.sort_values('Time').head()"
   ]
  },
  {
   "cell_type": "code",
   "execution_count": null,
   "metadata": {},
   "outputs": [],
   "source": [
    "player_partner "
   ]
  },
  {
   "cell_type": "code",
   "execution_count": null,
   "metadata": {},
   "outputs": [],
   "source": [
    "next_gen_data.head()"
   ]
  },
  {
   "cell_type": "code",
   "execution_count": null,
   "metadata": {},
   "outputs": [],
   "source": [
    "#MAX_Speed, AVG_Speed"
   ]
  },
  {
   "cell_type": "code",
   "execution_count": null,
   "metadata": {},
   "outputs": [],
   "source": [
    "next_gen_data = pd.read_csv('NGS-2016-pre.csv')"
   ]
  },
  {
   "cell_type": "code",
   "execution_count": null,
   "metadata": {},
   "outputs": [],
   "source": [
    "playId = 3129\n",
    "gameKey = 5\n",
    "gsisid = 31057"
   ]
  },
  {
   "cell_type": "code",
   "execution_count": null,
   "metadata": {},
   "outputs": [],
   "source": [
    "play_info.loc[(play_info.GameKey == gameKey) & (play_info.PlayID == playId)]"
   ]
  },
  {
   "cell_type": "code",
   "execution_count": null,
   "metadata": {},
   "outputs": [],
   "source": [
    "video_review.loc[(video_review.PlayID == playId)]"
   ]
  },
  {
   "cell_type": "code",
   "execution_count": 2,
   "metadata": {},
   "outputs": [],
   "source": [
    "def get_speed(ng_data, playId, gameKey, player, partner):\n",
    "    ng_data = pd.read_csv(ng_data)\n",
    "    ng_data['mph'] = convert_to_mph(ng_data['dis'], 20.455)\n",
    "    player_data = ng_data.loc[(ng_data.GameKey == gameKey) & (ng_data.PlayID == playId) \n",
    "                               & (ng_data.GSISID == player)].sort_values('Time')\n",
    "    partner_data = ng_data.loc[(ng_data.GameKey == gameKey) & (ng_data.PlayID == playId) \n",
    "                              & (ng_data.GSISID == partner)].sort_values('Time')\n",
    "    player_grouped = player_data.groupby(['GameKey','PlayID','GSISID'], \n",
    "                               as_index = False)['mph'].agg({'max_mph': max,\n",
    "                                                             'avg_mph': np.mean\n",
    "                                                            })\n",
    "    player_grouped['involvement'] = 'player_injured'\n",
    "    partner_grouped = partner_data.groupby(['GameKey','PlayID','GSISID'], \n",
    "                               as_index = False)['mph'].agg({'max_mph': max,\n",
    "                                                             'avg_mph': np.mean\n",
    "                                                            })\n",
    "    partner_grouped['involvement'] = 'primary_partner'\n",
    "    return pd.concat([player_grouped, partner_grouped], axis = 0)[['involvement',\n",
    "                                                                   'max_mph',\n",
    "                                                                   'avg_mph']].reset_index(drop=True)"
   ]
  },
  {
   "cell_type": "code",
   "execution_count": 3,
   "metadata": {},
   "outputs": [],
   "source": [
    "def convert_to_mph(dis_vector, converter):\n",
    "    mph_vector = dis_vector * converter\n",
    "    return mph_vector"
   ]
  },
  {
   "cell_type": "code",
   "execution_count": 4,
   "metadata": {
    "scrolled": false
   },
   "outputs": [
    {
     "data": {
      "text/html": [
       "<div>\n",
       "<style>\n",
       "    .dataframe thead tr:only-child th {\n",
       "        text-align: right;\n",
       "    }\n",
       "\n",
       "    .dataframe thead th {\n",
       "        text-align: left;\n",
       "    }\n",
       "\n",
       "    .dataframe tbody tr th {\n",
       "        vertical-align: top;\n",
       "    }\n",
       "</style>\n",
       "<table border=\"1\" class=\"dataframe\">\n",
       "  <thead>\n",
       "    <tr style=\"text-align: right;\">\n",
       "      <th></th>\n",
       "      <th>involvement</th>\n",
       "      <th>max_mph</th>\n",
       "      <th>avg_mph</th>\n",
       "    </tr>\n",
       "  </thead>\n",
       "  <tbody>\n",
       "    <tr>\n",
       "      <th>0</th>\n",
       "      <td>player_injured</td>\n",
       "      <td>18.40950</td>\n",
       "      <td>5.229332</td>\n",
       "    </tr>\n",
       "    <tr>\n",
       "      <th>1</th>\n",
       "      <td>primary_partner</td>\n",
       "      <td>15.75035</td>\n",
       "      <td>4.083396</td>\n",
       "    </tr>\n",
       "  </tbody>\n",
       "</table>\n",
       "</div>"
      ],
      "text/plain": [
       "       involvement   max_mph   avg_mph\n",
       "0   player_injured  18.40950  5.229332\n",
       "1  primary_partner  15.75035  4.083396"
      ]
     },
     "execution_count": 4,
     "metadata": {},
     "output_type": "execute_result"
    }
   ],
   "source": [
    "get_speed('NGS-2016-pre.csv', 3129, 5, 31057, 32482)"
   ]
  },
  {
   "cell_type": "markdown",
   "metadata": {},
   "source": [
    "### Identify 2 gunner blockers"
   ]
  },
  {
   "cell_type": "code",
   "execution_count": 84,
   "metadata": {},
   "outputs": [],
   "source": [
    "# for each game,  count how many players are gunner blockers.\n",
    "# does this correlate with more returns?  more injuries?"
   ]
  },
  {
   "cell_type": "code",
   "execution_count": 122,
   "metadata": {},
   "outputs": [],
   "source": [
    "gunners = NGS_2016"
   ]
  },
  {
   "cell_type": "code",
   "execution_count": 123,
   "metadata": {},
   "outputs": [
    {
     "data": {
      "text/html": [
       "<div>\n",
       "<style>\n",
       "    .dataframe thead tr:only-child th {\n",
       "        text-align: right;\n",
       "    }\n",
       "\n",
       "    .dataframe thead th {\n",
       "        text-align: left;\n",
       "    }\n",
       "\n",
       "    .dataframe tbody tr th {\n",
       "        vertical-align: top;\n",
       "    }\n",
       "</style>\n",
       "<table border=\"1\" class=\"dataframe\">\n",
       "  <thead>\n",
       "    <tr style=\"text-align: right;\">\n",
       "      <th></th>\n",
       "      <th>Season_Year</th>\n",
       "      <th>GameKey</th>\n",
       "      <th>PlayID</th>\n",
       "      <th>GSISID</th>\n",
       "      <th>Time</th>\n",
       "      <th>x</th>\n",
       "      <th>y</th>\n",
       "      <th>dis</th>\n",
       "      <th>o</th>\n",
       "      <th>dir</th>\n",
       "      <th>Event</th>\n",
       "    </tr>\n",
       "  </thead>\n",
       "  <tbody>\n",
       "    <tr>\n",
       "      <th>0</th>\n",
       "      <td>2016</td>\n",
       "      <td>66</td>\n",
       "      <td>2035</td>\n",
       "      <td>27675.0</td>\n",
       "      <td>2016-09-09 02:22:30.700</td>\n",
       "      <td>71.959999</td>\n",
       "      <td>30.809999</td>\n",
       "      <td>0.55</td>\n",
       "      <td>196.910004</td>\n",
       "      <td>282.000000</td>\n",
       "      <td>NaN</td>\n",
       "    </tr>\n",
       "    <tr>\n",
       "      <th>1</th>\n",
       "      <td>2016</td>\n",
       "      <td>66</td>\n",
       "      <td>2035</td>\n",
       "      <td>31550.0</td>\n",
       "      <td>2016-09-09 02:22:30.700</td>\n",
       "      <td>53.910000</td>\n",
       "      <td>29.980000</td>\n",
       "      <td>0.82</td>\n",
       "      <td>185.470001</td>\n",
       "      <td>275.890015</td>\n",
       "      <td>NaN</td>\n",
       "    </tr>\n",
       "    <tr>\n",
       "      <th>2</th>\n",
       "      <td>2016</td>\n",
       "      <td>66</td>\n",
       "      <td>2035</td>\n",
       "      <td>30463.0</td>\n",
       "      <td>2016-09-09 02:22:30.700</td>\n",
       "      <td>57.770000</td>\n",
       "      <td>22.260000</td>\n",
       "      <td>0.71</td>\n",
       "      <td>176.639999</td>\n",
       "      <td>267.309998</td>\n",
       "      <td>NaN</td>\n",
       "    </tr>\n",
       "    <tr>\n",
       "      <th>3</th>\n",
       "      <td>2016</td>\n",
       "      <td>66</td>\n",
       "      <td>2035</td>\n",
       "      <td>22824.0</td>\n",
       "      <td>2016-09-09 02:22:30.800</td>\n",
       "      <td>74.070000</td>\n",
       "      <td>26.910000</td>\n",
       "      <td>0.08</td>\n",
       "      <td>167.850006</td>\n",
       "      <td>19.540001</td>\n",
       "      <td>NaN</td>\n",
       "    </tr>\n",
       "    <tr>\n",
       "      <th>4</th>\n",
       "      <td>2016</td>\n",
       "      <td>66</td>\n",
       "      <td>2035</td>\n",
       "      <td>32994.0</td>\n",
       "      <td>2016-09-09 02:22:30.800</td>\n",
       "      <td>56.540001</td>\n",
       "      <td>33.080002</td>\n",
       "      <td>0.86</td>\n",
       "      <td>193.350006</td>\n",
       "      <td>285.429993</td>\n",
       "      <td>NaN</td>\n",
       "    </tr>\n",
       "  </tbody>\n",
       "</table>\n",
       "</div>"
      ],
      "text/plain": [
       "   Season_Year  GameKey  PlayID   GSISID                     Time          x  \\\n",
       "0         2016       66    2035  27675.0  2016-09-09 02:22:30.700  71.959999   \n",
       "1         2016       66    2035  31550.0  2016-09-09 02:22:30.700  53.910000   \n",
       "2         2016       66    2035  30463.0  2016-09-09 02:22:30.700  57.770000   \n",
       "3         2016       66    2035  22824.0  2016-09-09 02:22:30.800  74.070000   \n",
       "4         2016       66    2035  32994.0  2016-09-09 02:22:30.800  56.540001   \n",
       "\n",
       "           y   dis           o         dir Event  \n",
       "0  30.809999  0.55  196.910004  282.000000   NaN  \n",
       "1  29.980000  0.82  185.470001  275.890015   NaN  \n",
       "2  22.260000  0.71  176.639999  267.309998   NaN  \n",
       "3  26.910000  0.08  167.850006   19.540001   NaN  \n",
       "4  33.080002  0.86  193.350006  285.429993   NaN  "
      ]
     },
     "execution_count": 123,
     "metadata": {},
     "output_type": "execute_result"
    }
   ],
   "source": [
    "gunners.head()"
   ]
  },
  {
   "cell_type": "code",
   "execution_count": 124,
   "metadata": {},
   "outputs": [],
   "source": [
    "rank_df = gunners.loc[(gunners.Season_Year == 2016) & (gunners.Event == 'ball_snap')].sort_values('Time')"
   ]
  },
  {
   "cell_type": "code",
   "execution_count": 126,
   "metadata": {},
   "outputs": [],
   "source": [
    "rank_df['rank'] = rank_df.groupby(['Season_Year','GameKey','PlayID','GSISID']).cumcount() +1"
   ]
  },
  {
   "cell_type": "code",
   "execution_count": 127,
   "metadata": {},
   "outputs": [],
   "source": [
    "rank_df = rank_df.loc[rank_df['rank'] == 1]"
   ]
  },
  {
   "cell_type": "code",
   "execution_count": 128,
   "metadata": {},
   "outputs": [],
   "source": [
    "g_merge = rank_df.merge(play_player_role, how = 'inner', on = ['Season_Year','GameKey','PlayID','GSISID'])"
   ]
  },
  {
   "cell_type": "code",
   "execution_count": 130,
   "metadata": {},
   "outputs": [],
   "source": [
    "# ax1 = plt.subplot()\n",
    "# ax1.scatter(g_merge.loc[g_merge.Event == 'line_set']['x'].reset_index(drop=True)\n",
    "#             ,g_merge.loc[g_merge.Event == 'line_set']['y'].reset_index(drop=True))\n",
    "# ax1.set_xlim([0,120])\n",
    "# ax1.set_ylim([0,53.3])\n",
    "# for i, txt in enumerate(g_merge.loc[g_merge.Event == 'line_set'].reset_index(drop=True)['Role']):\n",
    "#     ax1.annotate(txt,xy=(g_merge.loc[g_merge.Event == 'line_set']['x'].reset_index(drop=True)[i]\n",
    "#                            ,g_merge.loc[g_merge.Event == 'line_set']['y'].reset_index(drop=True)[i]))"
   ]
  },
  {
   "cell_type": "code",
   "execution_count": 131,
   "metadata": {},
   "outputs": [],
   "source": [
    "return_roles = ['PDL1','PDL2','PDL3','PDL4','PDL5','PDL6','PDM','PDR1','PDR2','PDR3','PDR4','PDR5','PDR6'\n",
    "                ,'PFB','PLL','PLL1','PLL2','PLL3','PLM','PLM1','PLR','PLR1','PLR2','PLR3','PR','VL','VLi'\n",
    "                ,'VLo','VR','VRi','VRo']\n",
    "\n",
    "coverage_roles = ['GL','GLi','GLo','GR','GRi','GRo','P','PC','PLG','PLS','PLT','PLW','PPL','PPLi','PPLo'\n",
    "                 ,'PPR','PPRi','PPRo','PRG','PRT','PRW']"
   ]
  },
  {
   "cell_type": "code",
   "execution_count": 132,
   "metadata": {},
   "outputs": [],
   "source": [
    "gunner_blockers = ['VL','VLi','VLo','VR','VRi','VRo']"
   ]
  },
  {
   "cell_type": "code",
   "execution_count": 133,
   "metadata": {},
   "outputs": [],
   "source": [
    "g_pre_snap = g_merge.loc[(g_merge['Role'].isin(gunner_blockers)) & (g_merge['Event'] == 'ball_snap')]"
   ]
  },
  {
   "cell_type": "code",
   "execution_count": 139,
   "metadata": {},
   "outputs": [],
   "source": [
    "gunner_blockers_per_play = g_pre_snap.groupby(['Season_Year','GameKey','PlayID'], as_index=False)['Role'] \\\n",
    "    .agg({'gunner_blocker_count': 'count'})\\\n",
    "    .sort_values('gunner_blocker_count', ascending =False)"
   ]
  },
  {
   "cell_type": "code",
   "execution_count": 145,
   "metadata": {},
   "outputs": [],
   "source": [
    "gunner_blockers_merged = gunner_blockers_per_play.merge(play_info, how ='left', on = ['Season_Year','GameKey','PlayID'])"
   ]
  },
  {
   "cell_type": "code",
   "execution_count": 146,
   "metadata": {},
   "outputs": [],
   "source": [
    "gunner_blockers_merged['fair_catch'] = gunner_blockers_merged.PlayDescription.str.contains('fair catch')"
   ]
  },
  {
   "cell_type": "code",
   "execution_count": 150,
   "metadata": {},
   "outputs": [],
   "source": [
    "gunner_summary = gunner_blockers_merged.groupby(['gunner_blocker_count'], as_index = False)['fair_catch'].agg([sum,'count'])"
   ]
  },
  {
   "cell_type": "code",
   "execution_count": 153,
   "metadata": {},
   "outputs": [],
   "source": [
    "gunner_summary['perc'] = gunner_summary['sum'] / gunner_summary['count']"
   ]
  },
  {
   "cell_type": "code",
   "execution_count": 154,
   "metadata": {},
   "outputs": [
    {
     "data": {
      "text/html": [
       "<div>\n",
       "<style>\n",
       "    .dataframe thead tr:only-child th {\n",
       "        text-align: right;\n",
       "    }\n",
       "\n",
       "    .dataframe thead th {\n",
       "        text-align: left;\n",
       "    }\n",
       "\n",
       "    .dataframe tbody tr th {\n",
       "        vertical-align: top;\n",
       "    }\n",
       "</style>\n",
       "<table border=\"1\" class=\"dataframe\">\n",
       "  <thead>\n",
       "    <tr style=\"text-align: right;\">\n",
       "      <th></th>\n",
       "      <th>sum</th>\n",
       "      <th>count</th>\n",
       "      <th>perc</th>\n",
       "    </tr>\n",
       "    <tr>\n",
       "      <th>gunner_blocker_count</th>\n",
       "      <th></th>\n",
       "      <th></th>\n",
       "      <th></th>\n",
       "    </tr>\n",
       "  </thead>\n",
       "  <tbody>\n",
       "    <tr>\n",
       "      <th>1</th>\n",
       "      <td>10.0</td>\n",
       "      <td>31</td>\n",
       "      <td>0.322581</td>\n",
       "    </tr>\n",
       "    <tr>\n",
       "      <th>2</th>\n",
       "      <td>460.0</td>\n",
       "      <td>1351</td>\n",
       "      <td>0.340489</td>\n",
       "    </tr>\n",
       "    <tr>\n",
       "      <th>3</th>\n",
       "      <td>151.0</td>\n",
       "      <td>751</td>\n",
       "      <td>0.201065</td>\n",
       "    </tr>\n",
       "    <tr>\n",
       "      <th>4</th>\n",
       "      <td>31.0</td>\n",
       "      <td>236</td>\n",
       "      <td>0.131356</td>\n",
       "    </tr>\n",
       "    <tr>\n",
       "      <th>5</th>\n",
       "      <td>0.0</td>\n",
       "      <td>1</td>\n",
       "      <td>0.000000</td>\n",
       "    </tr>\n",
       "  </tbody>\n",
       "</table>\n",
       "</div>"
      ],
      "text/plain": [
       "                        sum  count      perc\n",
       "gunner_blocker_count                        \n",
       "1                      10.0     31  0.322581\n",
       "2                     460.0   1351  0.340489\n",
       "3                     151.0    751  0.201065\n",
       "4                      31.0    236  0.131356\n",
       "5                       0.0      1  0.000000"
      ]
     },
     "execution_count": 154,
     "metadata": {},
     "output_type": "execute_result"
    }
   ],
   "source": [
    "gunner_summary"
   ]
  },
  {
   "cell_type": "code",
   "execution_count": 168,
   "metadata": {},
   "outputs": [],
   "source": [
    "gunner_summary_injury = gunner_blockers_merged.merge(video_footage_injury, how='inner', \n",
    "                             left_on = ['Season_Year','GameKey','PlayID'],\n",
    "                            right_on = ['season','gamekey','playid']) \\\n",
    "                            .groupby(['gunner_blocker_count'], as_index = False)['fair_catch'].agg([sum,'count'])"
   ]
  },
  {
   "cell_type": "code",
   "execution_count": 169,
   "metadata": {},
   "outputs": [],
   "source": [
    "gunner_summary_injury['perc'] = gunner_summary_injury['sum'] / gunner_summary_injury['count']"
   ]
  },
  {
   "cell_type": "code",
   "execution_count": 170,
   "metadata": {},
   "outputs": [
    {
     "data": {
      "text/html": [
       "<div>\n",
       "<style>\n",
       "    .dataframe thead tr:only-child th {\n",
       "        text-align: right;\n",
       "    }\n",
       "\n",
       "    .dataframe thead th {\n",
       "        text-align: left;\n",
       "    }\n",
       "\n",
       "    .dataframe tbody tr th {\n",
       "        vertical-align: top;\n",
       "    }\n",
       "</style>\n",
       "<table border=\"1\" class=\"dataframe\">\n",
       "  <thead>\n",
       "    <tr style=\"text-align: right;\">\n",
       "      <th></th>\n",
       "      <th>sum</th>\n",
       "      <th>count</th>\n",
       "      <th>perc</th>\n",
       "    </tr>\n",
       "    <tr>\n",
       "      <th>gunner_blocker_count</th>\n",
       "      <th></th>\n",
       "      <th></th>\n",
       "      <th></th>\n",
       "    </tr>\n",
       "  </thead>\n",
       "  <tbody>\n",
       "    <tr>\n",
       "      <th>2</th>\n",
       "      <td>False</td>\n",
       "      <td>4</td>\n",
       "      <td>0.000000</td>\n",
       "    </tr>\n",
       "    <tr>\n",
       "      <th>3</th>\n",
       "      <td>True</td>\n",
       "      <td>6</td>\n",
       "      <td>0.166667</td>\n",
       "    </tr>\n",
       "    <tr>\n",
       "      <th>4</th>\n",
       "      <td>False</td>\n",
       "      <td>3</td>\n",
       "      <td>0.000000</td>\n",
       "    </tr>\n",
       "  </tbody>\n",
       "</table>\n",
       "</div>"
      ],
      "text/plain": [
       "                        sum  count      perc\n",
       "gunner_blocker_count                        \n",
       "2                     False      4  0.000000\n",
       "3                      True      6  0.166667\n",
       "4                     False      3  0.000000"
      ]
     },
     "execution_count": 170,
     "metadata": {},
     "output_type": "execute_result"
    }
   ],
   "source": [
    "gunner_summary_injury"
   ]
  },
  {
   "cell_type": "code",
   "execution_count": 156,
   "metadata": {},
   "outputs": [
    {
     "data": {
      "text/html": [
       "<div>\n",
       "<style>\n",
       "    .dataframe thead tr:only-child th {\n",
       "        text-align: right;\n",
       "    }\n",
       "\n",
       "    .dataframe thead th {\n",
       "        text-align: left;\n",
       "    }\n",
       "\n",
       "    .dataframe tbody tr th {\n",
       "        vertical-align: top;\n",
       "    }\n",
       "</style>\n",
       "<table border=\"1\" class=\"dataframe\">\n",
       "  <thead>\n",
       "    <tr style=\"text-align: right;\">\n",
       "      <th></th>\n",
       "      <th>season</th>\n",
       "      <th>Type</th>\n",
       "      <th>Week</th>\n",
       "      <th>Home_team</th>\n",
       "      <th>Visit_Team</th>\n",
       "      <th>Qtr</th>\n",
       "      <th>PlayDescription</th>\n",
       "      <th>gamekey</th>\n",
       "      <th>playid</th>\n",
       "      <th>PREVIEW LINK (5000K)</th>\n",
       "    </tr>\n",
       "  </thead>\n",
       "  <tbody>\n",
       "    <tr>\n",
       "      <th>0</th>\n",
       "      <td>2016</td>\n",
       "      <td>Pre</td>\n",
       "      <td>2</td>\n",
       "      <td>Chicago Bears</td>\n",
       "      <td>Denver Broncos</td>\n",
       "      <td>3</td>\n",
       "      <td>(3:44) (Punt formation) P.O'Donnell punts 58 y...</td>\n",
       "      <td>5</td>\n",
       "      <td>3129</td>\n",
       "      <td>http://a.video.nfl.com//films/vodzilla/153233/...</td>\n",
       "    </tr>\n",
       "    <tr>\n",
       "      <th>1</th>\n",
       "      <td>2016</td>\n",
       "      <td>Pre</td>\n",
       "      <td>3</td>\n",
       "      <td>Tennessee Titans</td>\n",
       "      <td>Carolina Panthers</td>\n",
       "      <td>3</td>\n",
       "      <td>(5:52) (Punt formation) K.Redfern punts 36 yar...</td>\n",
       "      <td>21</td>\n",
       "      <td>2587</td>\n",
       "      <td>http://a.video.nfl.com//films/vodzilla/153234/...</td>\n",
       "    </tr>\n",
       "    <tr>\n",
       "      <th>2</th>\n",
       "      <td>2016</td>\n",
       "      <td>Pre</td>\n",
       "      <td>3</td>\n",
       "      <td>Washington Redskins</td>\n",
       "      <td>New York Jets</td>\n",
       "      <td>1</td>\n",
       "      <td>(4:46) L.Edwards punts 51 yards to WAS 27, Cen...</td>\n",
       "      <td>29</td>\n",
       "      <td>538</td>\n",
       "      <td>http://a.video.nfl.com//films/vodzilla/153235/...</td>\n",
       "    </tr>\n",
       "    <tr>\n",
       "      <th>3</th>\n",
       "      <td>2016</td>\n",
       "      <td>Pre</td>\n",
       "      <td>4</td>\n",
       "      <td>New York Jets</td>\n",
       "      <td>New York Giants</td>\n",
       "      <td>2</td>\n",
       "      <td>(8:29) B.Wing punts 44 yards to NYJ 10, Center...</td>\n",
       "      <td>45</td>\n",
       "      <td>1212</td>\n",
       "      <td>http://a.video.nfl.com//films/vodzilla/153236/...</td>\n",
       "    </tr>\n",
       "    <tr>\n",
       "      <th>4</th>\n",
       "      <td>2016</td>\n",
       "      <td>Pre</td>\n",
       "      <td>5</td>\n",
       "      <td>Detroit Lions</td>\n",
       "      <td>Buffalo Bills</td>\n",
       "      <td>1</td>\n",
       "      <td>(:38) C.Schmidt punts 46 yards to DET 8, Cente...</td>\n",
       "      <td>60</td>\n",
       "      <td>905</td>\n",
       "      <td>http://a.video.nfl.com//films/vodzilla/153237/...</td>\n",
       "    </tr>\n",
       "  </tbody>\n",
       "</table>\n",
       "</div>"
      ],
      "text/plain": [
       "   season Type  Week            Home_team         Visit_Team  Qtr  \\\n",
       "0    2016  Pre     2        Chicago Bears     Denver Broncos    3   \n",
       "1    2016  Pre     3     Tennessee Titans  Carolina Panthers    3   \n",
       "2    2016  Pre     3  Washington Redskins      New York Jets    1   \n",
       "3    2016  Pre     4        New York Jets    New York Giants    2   \n",
       "4    2016  Pre     5        Detroit Lions      Buffalo Bills    1   \n",
       "\n",
       "                                     PlayDescription  gamekey  playid  \\\n",
       "0  (3:44) (Punt formation) P.O'Donnell punts 58 y...        5    3129   \n",
       "1  (5:52) (Punt formation) K.Redfern punts 36 yar...       21    2587   \n",
       "2  (4:46) L.Edwards punts 51 yards to WAS 27, Cen...       29     538   \n",
       "3  (8:29) B.Wing punts 44 yards to NYJ 10, Center...       45    1212   \n",
       "4  (:38) C.Schmidt punts 46 yards to DET 8, Cente...       60     905   \n",
       "\n",
       "                                PREVIEW LINK (5000K)  \n",
       "0  http://a.video.nfl.com//films/vodzilla/153233/...  \n",
       "1  http://a.video.nfl.com//films/vodzilla/153234/...  \n",
       "2  http://a.video.nfl.com//films/vodzilla/153235/...  \n",
       "3  http://a.video.nfl.com//films/vodzilla/153236/...  \n",
       "4  http://a.video.nfl.com//films/vodzilla/153237/...  "
      ]
     },
     "execution_count": 156,
     "metadata": {},
     "output_type": "execute_result"
    }
   ],
   "source": [
    "video_footage_injury.head()"
   ]
  },
  {
   "cell_type": "code",
   "execution_count": 182,
   "metadata": {},
   "outputs": [
    {
     "data": {
      "text/html": [
       "<div>\n",
       "<style>\n",
       "    .dataframe thead tr:only-child th {\n",
       "        text-align: right;\n",
       "    }\n",
       "\n",
       "    .dataframe thead th {\n",
       "        text-align: left;\n",
       "    }\n",
       "\n",
       "    .dataframe tbody tr th {\n",
       "        vertical-align: top;\n",
       "    }\n",
       "</style>\n",
       "<table border=\"1\" class=\"dataframe\">\n",
       "  <thead>\n",
       "    <tr style=\"text-align: right;\">\n",
       "      <th></th>\n",
       "      <th>Season_Year</th>\n",
       "      <th>GameKey</th>\n",
       "      <th>PlayID</th>\n",
       "      <th>GSISID</th>\n",
       "      <th>Role</th>\n",
       "    </tr>\n",
       "  </thead>\n",
       "  <tbody>\n",
       "    <tr>\n",
       "      <th>11350</th>\n",
       "      <td>2016</td>\n",
       "      <td>280</td>\n",
       "      <td>2918</td>\n",
       "      <td>26725</td>\n",
       "      <td>PRG</td>\n",
       "    </tr>\n",
       "    <tr>\n",
       "      <th>12552</th>\n",
       "      <td>2016</td>\n",
       "      <td>280</td>\n",
       "      <td>2918</td>\n",
       "      <td>27654</td>\n",
       "      <td>GL</td>\n",
       "    </tr>\n",
       "    <tr>\n",
       "      <th>19108</th>\n",
       "      <td>2016</td>\n",
       "      <td>280</td>\n",
       "      <td>2918</td>\n",
       "      <td>28029</td>\n",
       "      <td>PDR2</td>\n",
       "    </tr>\n",
       "    <tr>\n",
       "      <th>19998</th>\n",
       "      <td>2016</td>\n",
       "      <td>280</td>\n",
       "      <td>2918</td>\n",
       "      <td>28069</td>\n",
       "      <td>GR</td>\n",
       "    </tr>\n",
       "    <tr>\n",
       "      <th>31610</th>\n",
       "      <td>2016</td>\n",
       "      <td>280</td>\n",
       "      <td>2918</td>\n",
       "      <td>29304</td>\n",
       "      <td>P</td>\n",
       "    </tr>\n",
       "    <tr>\n",
       "      <th>39810</th>\n",
       "      <td>2016</td>\n",
       "      <td>280</td>\n",
       "      <td>2918</td>\n",
       "      <td>29510</td>\n",
       "      <td>PDR3</td>\n",
       "    </tr>\n",
       "    <tr>\n",
       "      <th>40499</th>\n",
       "      <td>2016</td>\n",
       "      <td>280</td>\n",
       "      <td>2918</td>\n",
       "      <td>31491</td>\n",
       "      <td>PDL2</td>\n",
       "    </tr>\n",
       "    <tr>\n",
       "      <th>53446</th>\n",
       "      <td>2016</td>\n",
       "      <td>280</td>\n",
       "      <td>2918</td>\n",
       "      <td>29959</td>\n",
       "      <td>PLS</td>\n",
       "    </tr>\n",
       "    <tr>\n",
       "      <th>65871</th>\n",
       "      <td>2016</td>\n",
       "      <td>280</td>\n",
       "      <td>2918</td>\n",
       "      <td>31075</td>\n",
       "      <td>PDL1</td>\n",
       "    </tr>\n",
       "    <tr>\n",
       "      <th>66795</th>\n",
       "      <td>2016</td>\n",
       "      <td>280</td>\n",
       "      <td>2918</td>\n",
       "      <td>31085</td>\n",
       "      <td>PDL4</td>\n",
       "    </tr>\n",
       "    <tr>\n",
       "      <th>85676</th>\n",
       "      <td>2016</td>\n",
       "      <td>280</td>\n",
       "      <td>2918</td>\n",
       "      <td>31600</td>\n",
       "      <td>VRi</td>\n",
       "    </tr>\n",
       "    <tr>\n",
       "      <th>87408</th>\n",
       "      <td>2016</td>\n",
       "      <td>280</td>\n",
       "      <td>2918</td>\n",
       "      <td>32171</td>\n",
       "      <td>PLG</td>\n",
       "    </tr>\n",
       "    <tr>\n",
       "      <th>87660</th>\n",
       "      <td>2016</td>\n",
       "      <td>280</td>\n",
       "      <td>2918</td>\n",
       "      <td>32120</td>\n",
       "      <td>PLW</td>\n",
       "    </tr>\n",
       "    <tr>\n",
       "      <th>90198</th>\n",
       "      <td>2016</td>\n",
       "      <td>280</td>\n",
       "      <td>2918</td>\n",
       "      <td>31688</td>\n",
       "      <td>VRo</td>\n",
       "    </tr>\n",
       "    <tr>\n",
       "      <th>92066</th>\n",
       "      <td>2016</td>\n",
       "      <td>280</td>\n",
       "      <td>2918</td>\n",
       "      <td>31731</td>\n",
       "      <td>PPR</td>\n",
       "    </tr>\n",
       "    <tr>\n",
       "      <th>92536</th>\n",
       "      <td>2016</td>\n",
       "      <td>280</td>\n",
       "      <td>2918</td>\n",
       "      <td>31743</td>\n",
       "      <td>VL</td>\n",
       "    </tr>\n",
       "    <tr>\n",
       "      <th>98410</th>\n",
       "      <td>2016</td>\n",
       "      <td>280</td>\n",
       "      <td>2918</td>\n",
       "      <td>32050</td>\n",
       "      <td>PDL3</td>\n",
       "    </tr>\n",
       "    <tr>\n",
       "      <th>100062</th>\n",
       "      <td>2016</td>\n",
       "      <td>280</td>\n",
       "      <td>2918</td>\n",
       "      <td>33127</td>\n",
       "      <td>PR</td>\n",
       "    </tr>\n",
       "    <tr>\n",
       "      <th>100567</th>\n",
       "      <td>2016</td>\n",
       "      <td>280</td>\n",
       "      <td>2918</td>\n",
       "      <td>32968</td>\n",
       "      <td>PRT</td>\n",
       "    </tr>\n",
       "    <tr>\n",
       "      <th>120414</th>\n",
       "      <td>2016</td>\n",
       "      <td>280</td>\n",
       "      <td>2918</td>\n",
       "      <td>32525</td>\n",
       "      <td>PRW</td>\n",
       "    </tr>\n",
       "    <tr>\n",
       "      <th>125920</th>\n",
       "      <td>2016</td>\n",
       "      <td>280</td>\n",
       "      <td>2918</td>\n",
       "      <td>32725</td>\n",
       "      <td>PDR1</td>\n",
       "    </tr>\n",
       "    <tr>\n",
       "      <th>128105</th>\n",
       "      <td>2016</td>\n",
       "      <td>280</td>\n",
       "      <td>2918</td>\n",
       "      <td>32864</td>\n",
       "      <td>PLT</td>\n",
       "    </tr>\n",
       "  </tbody>\n",
       "</table>\n",
       "</div>"
      ],
      "text/plain": [
       "        Season_Year  GameKey  PlayID  GSISID  Role\n",
       "11350          2016      280    2918   26725   PRG\n",
       "12552          2016      280    2918   27654    GL\n",
       "19108          2016      280    2918   28029  PDR2\n",
       "19998          2016      280    2918   28069    GR\n",
       "31610          2016      280    2918   29304     P\n",
       "39810          2016      280    2918   29510  PDR3\n",
       "40499          2016      280    2918   31491  PDL2\n",
       "53446          2016      280    2918   29959   PLS\n",
       "65871          2016      280    2918   31075  PDL1\n",
       "66795          2016      280    2918   31085  PDL4\n",
       "85676          2016      280    2918   31600   VRi\n",
       "87408          2016      280    2918   32171   PLG\n",
       "87660          2016      280    2918   32120   PLW\n",
       "90198          2016      280    2918   31688   VRo\n",
       "92066          2016      280    2918   31731   PPR\n",
       "92536          2016      280    2918   31743    VL\n",
       "98410          2016      280    2918   32050  PDL3\n",
       "100062         2016      280    2918   33127    PR\n",
       "100567         2016      280    2918   32968   PRT\n",
       "120414         2016      280    2918   32525   PRW\n",
       "125920         2016      280    2918   32725  PDR1\n",
       "128105         2016      280    2918   32864   PLT"
      ]
     },
     "execution_count": 182,
     "metadata": {},
     "output_type": "execute_result"
    }
   ],
   "source": [
    "play_player_role.loc[(play_player_role.Season_Year == 2016) & (play_player_role.GameKey == 280)\n",
    "                     & (play_player_role.PlayID == 2918)]"
   ]
  },
  {
   "cell_type": "code",
   "execution_count": 280,
   "metadata": {},
   "outputs": [],
   "source": [
    "test_play = NGS_2016.loc[(NGS_2016.GameKey == 280) & (NGS_2016.PlayID == 2918)]\\\n",
    "    .sort_values('Time').reset_index(drop=True)"
   ]
  },
  {
   "cell_type": "code",
   "execution_count": 281,
   "metadata": {},
   "outputs": [],
   "source": [
    "from datetime import datetime"
   ]
  },
  {
   "cell_type": "code",
   "execution_count": 282,
   "metadata": {},
   "outputs": [],
   "source": [
    "single_play_events = NGS_2016.loc[(NGS_2016.GameKey == 280) & (NGS_2016.PlayID == 2918)]\\\n",
    "    .groupby(['Time','Event'], as_index=False)\\\n",
    "    .count().sort_values('Time')\n",
    "\n",
    "single_play_events['datetime'] = pd.to_datetime(single_play_events['Time'], format='%Y-%m-%d %H:%M:%S.%f')"
   ]
  },
  {
   "cell_type": "code",
   "execution_count": 283,
   "metadata": {},
   "outputs": [],
   "source": [
    "test_play['Time'] = pd.to_datetime(test_play['Time'], format='%Y-%m-%d %H:%M:%S.%f')"
   ]
  },
  {
   "cell_type": "code",
   "execution_count": 295,
   "metadata": {},
   "outputs": [],
   "source": [
    "val = single_play_events.loc[single_play_events.Event == 'punt']['datetime']  \\\n",
    "              - pd.Timedelta(seconds=2)"
   ]
  },
  {
   "cell_type": "code",
   "execution_count": 304,
   "metadata": {},
   "outputs": [],
   "source": [
    "import math"
   ]
  },
  {
   "cell_type": "code",
   "execution_count": 309,
   "metadata": {},
   "outputs": [],
   "source": [
    "from scipy.spatial import distance"
   ]
  },
  {
   "cell_type": "code",
   "execution_count": 337,
   "metadata": {},
   "outputs": [],
   "source": [
    "def euclid_distance(x1, y1, x2, y2):\n",
    "  # Euclidean distance between points.\n",
    "    dist = math.sqrt((x1 - x2)**2 + (y1 - y2)**2)\n",
    "    return dist"
   ]
  },
  {
   "cell_type": "code",
   "execution_count": 338,
   "metadata": {},
   "outputs": [],
   "source": [
    "test_returner = test_play.loc[(test_play.Event == 'fair_catch') & (test_play.GSISID == 33127)].reset_index(drop=True)"
   ]
  },
  {
   "cell_type": "code",
   "execution_count": 339,
   "metadata": {},
   "outputs": [
    {
     "data": {
      "text/plain": [
       "(40.630001068115227, 33.330001831054695)"
      ]
     },
     "execution_count": 339,
     "metadata": {},
     "output_type": "execute_result"
    }
   ],
   "source": [
    "test_returner['x'][0], test_returner['y'][0]"
   ]
  },
  {
   "cell_type": "code",
   "execution_count": 340,
   "metadata": {},
   "outputs": [],
   "source": [
    "test_players = test_play.loc[test_play.Time ==val.reset_index(drop=True)[0]].reset_index()"
   ]
  },
  {
   "cell_type": "code",
   "execution_count": 341,
   "metadata": {},
   "outputs": [],
   "source": [
    "dist_lst = []\n",
    "for i in range(0, len(test_players)):\n",
    "    coords = test_players['x'][i], test_players['y'][i]\n",
    "    dist = euclid_distance(test_returner['x'][0], test_returner['y'][0], coords[0], coords[1])\n",
    "    dist_lst.append(dist)"
   ]
  },
  {
   "cell_type": "code",
   "execution_count": 342,
   "metadata": {},
   "outputs": [],
   "source": [
    "test_players['dist_lst'] = dist_lst"
   ]
  },
  {
   "cell_type": "code",
   "execution_count": 343,
   "metadata": {},
   "outputs": [
    {
     "data": {
      "text/html": [
       "<div>\n",
       "<style>\n",
       "    .dataframe thead tr:only-child th {\n",
       "        text-align: right;\n",
       "    }\n",
       "\n",
       "    .dataframe thead th {\n",
       "        text-align: left;\n",
       "    }\n",
       "\n",
       "    .dataframe tbody tr th {\n",
       "        vertical-align: top;\n",
       "    }\n",
       "</style>\n",
       "<table border=\"1\" class=\"dataframe\">\n",
       "  <thead>\n",
       "    <tr style=\"text-align: right;\">\n",
       "      <th></th>\n",
       "      <th>index</th>\n",
       "      <th>Season_Year</th>\n",
       "      <th>GameKey</th>\n",
       "      <th>PlayID</th>\n",
       "      <th>GSISID</th>\n",
       "      <th>Time</th>\n",
       "      <th>x</th>\n",
       "      <th>y</th>\n",
       "      <th>dis</th>\n",
       "      <th>o</th>\n",
       "      <th>dir</th>\n",
       "      <th>Event</th>\n",
       "      <th>dist_lst</th>\n",
       "    </tr>\n",
       "  </thead>\n",
       "  <tbody>\n",
       "    <tr>\n",
       "      <th>0</th>\n",
       "      <td>3623</td>\n",
       "      <td>2016</td>\n",
       "      <td>280</td>\n",
       "      <td>2918</td>\n",
       "      <td>32864.0</td>\n",
       "      <td>2016-12-18 20:20:50.300</td>\n",
       "      <td>90.400002</td>\n",
       "      <td>27.950001</td>\n",
       "      <td>0.05</td>\n",
       "      <td>163.919998</td>\n",
       "      <td>99.690002</td>\n",
       "      <td>NaN</td>\n",
       "      <td>50.059938</td>\n",
       "    </tr>\n",
       "    <tr>\n",
       "      <th>1</th>\n",
       "      <td>3624</td>\n",
       "      <td>2016</td>\n",
       "      <td>280</td>\n",
       "      <td>2918</td>\n",
       "      <td>33127.0</td>\n",
       "      <td>2016-12-18 20:20:50.300</td>\n",
       "      <td>30.549999</td>\n",
       "      <td>30.309999</td>\n",
       "      <td>0.04</td>\n",
       "      <td>350.970001</td>\n",
       "      <td>45.660000</td>\n",
       "      <td>NaN</td>\n",
       "      <td>10.522683</td>\n",
       "    </tr>\n",
       "    <tr>\n",
       "      <th>2</th>\n",
       "      <td>3625</td>\n",
       "      <td>2016</td>\n",
       "      <td>280</td>\n",
       "      <td>2918</td>\n",
       "      <td>31085.0</td>\n",
       "      <td>2016-12-18 20:20:50.300</td>\n",
       "      <td>88.720001</td>\n",
       "      <td>30.600000</td>\n",
       "      <td>0.08</td>\n",
       "      <td>8.160000</td>\n",
       "      <td>113.750000</td>\n",
       "      <td>NaN</td>\n",
       "      <td>48.167427</td>\n",
       "    </tr>\n",
       "    <tr>\n",
       "      <th>3</th>\n",
       "      <td>3626</td>\n",
       "      <td>2016</td>\n",
       "      <td>280</td>\n",
       "      <td>2918</td>\n",
       "      <td>28069.0</td>\n",
       "      <td>2016-12-18 20:20:50.300</td>\n",
       "      <td>90.739998</td>\n",
       "      <td>45.450001</td>\n",
       "      <td>0.02</td>\n",
       "      <td>179.940002</td>\n",
       "      <td>284.640015</td>\n",
       "      <td>NaN</td>\n",
       "      <td>51.554885</td>\n",
       "    </tr>\n",
       "    <tr>\n",
       "      <th>4</th>\n",
       "      <td>3627</td>\n",
       "      <td>2016</td>\n",
       "      <td>280</td>\n",
       "      <td>2918</td>\n",
       "      <td>31600.0</td>\n",
       "      <td>2016-12-18 20:20:50.300</td>\n",
       "      <td>87.919998</td>\n",
       "      <td>10.930000</td>\n",
       "      <td>0.05</td>\n",
       "      <td>16.260000</td>\n",
       "      <td>331.739990</td>\n",
       "      <td>NaN</td>\n",
       "      <td>52.326895</td>\n",
       "    </tr>\n",
       "    <tr>\n",
       "      <th>5</th>\n",
       "      <td>3628</td>\n",
       "      <td>2016</td>\n",
       "      <td>280</td>\n",
       "      <td>2918</td>\n",
       "      <td>31491.0</td>\n",
       "      <td>2016-12-18 20:20:50.300</td>\n",
       "      <td>88.699997</td>\n",
       "      <td>32.860001</td>\n",
       "      <td>0.02</td>\n",
       "      <td>13.700000</td>\n",
       "      <td>114.970001</td>\n",
       "      <td>NaN</td>\n",
       "      <td>48.072294</td>\n",
       "    </tr>\n",
       "    <tr>\n",
       "      <th>6</th>\n",
       "      <td>3629</td>\n",
       "      <td>2016</td>\n",
       "      <td>280</td>\n",
       "      <td>2918</td>\n",
       "      <td>31688.0</td>\n",
       "      <td>2016-12-18 20:20:50.300</td>\n",
       "      <td>87.989998</td>\n",
       "      <td>9.430000</td>\n",
       "      <td>0.01</td>\n",
       "      <td>6.950000</td>\n",
       "      <td>169.110001</td>\n",
       "      <td>NaN</td>\n",
       "      <td>53.048839</td>\n",
       "    </tr>\n",
       "    <tr>\n",
       "      <th>7</th>\n",
       "      <td>3630</td>\n",
       "      <td>2016</td>\n",
       "      <td>280</td>\n",
       "      <td>2918</td>\n",
       "      <td>31743.0</td>\n",
       "      <td>2016-12-18 20:20:50.300</td>\n",
       "      <td>88.949997</td>\n",
       "      <td>44.910000</td>\n",
       "      <td>0.03</td>\n",
       "      <td>324.399994</td>\n",
       "      <td>282.929993</td>\n",
       "      <td>NaN</td>\n",
       "      <td>49.688211</td>\n",
       "    </tr>\n",
       "    <tr>\n",
       "      <th>8</th>\n",
       "      <td>3631</td>\n",
       "      <td>2016</td>\n",
       "      <td>280</td>\n",
       "      <td>2918</td>\n",
       "      <td>28029.0</td>\n",
       "      <td>2016-12-18 20:20:50.300</td>\n",
       "      <td>88.820000</td>\n",
       "      <td>26.860001</td>\n",
       "      <td>0.08</td>\n",
       "      <td>323.989990</td>\n",
       "      <td>74.000000</td>\n",
       "      <td>NaN</td>\n",
       "      <td>48.622391</td>\n",
       "    </tr>\n",
       "    <tr>\n",
       "      <th>9</th>\n",
       "      <td>3632</td>\n",
       "      <td>2016</td>\n",
       "      <td>280</td>\n",
       "      <td>2918</td>\n",
       "      <td>32725.0</td>\n",
       "      <td>2016-12-18 20:20:50.300</td>\n",
       "      <td>88.480003</td>\n",
       "      <td>25.320000</td>\n",
       "      <td>0.19</td>\n",
       "      <td>334.079987</td>\n",
       "      <td>69.080002</td>\n",
       "      <td>NaN</td>\n",
       "      <td>48.515800</td>\n",
       "    </tr>\n",
       "    <tr>\n",
       "      <th>10</th>\n",
       "      <td>3633</td>\n",
       "      <td>2016</td>\n",
       "      <td>280</td>\n",
       "      <td>2918</td>\n",
       "      <td>29304.0</td>\n",
       "      <td>2016-12-18 20:20:50.300</td>\n",
       "      <td>103.059998</td>\n",
       "      <td>29.250000</td>\n",
       "      <td>0.02</td>\n",
       "      <td>197.089996</td>\n",
       "      <td>323.519989</td>\n",
       "      <td>NaN</td>\n",
       "      <td>62.563175</td>\n",
       "    </tr>\n",
       "    <tr>\n",
       "      <th>11</th>\n",
       "      <td>3634</td>\n",
       "      <td>2016</td>\n",
       "      <td>280</td>\n",
       "      <td>2918</td>\n",
       "      <td>31731.0</td>\n",
       "      <td>2016-12-18 20:20:50.300</td>\n",
       "      <td>94.190002</td>\n",
       "      <td>31.100000</td>\n",
       "      <td>0.02</td>\n",
       "      <td>177.820007</td>\n",
       "      <td>158.740005</td>\n",
       "      <td>NaN</td>\n",
       "      <td>53.606405</td>\n",
       "    </tr>\n",
       "    <tr>\n",
       "      <th>12</th>\n",
       "      <td>3635</td>\n",
       "      <td>2016</td>\n",
       "      <td>280</td>\n",
       "      <td>2918</td>\n",
       "      <td>32525.0</td>\n",
       "      <td>2016-12-18 20:20:50.300</td>\n",
       "      <td>92.050003</td>\n",
       "      <td>31.770000</td>\n",
       "      <td>0.02</td>\n",
       "      <td>191.830002</td>\n",
       "      <td>76.250000</td>\n",
       "      <td>NaN</td>\n",
       "      <td>51.443661</td>\n",
       "    </tr>\n",
       "    <tr>\n",
       "      <th>13</th>\n",
       "      <td>3636</td>\n",
       "      <td>2016</td>\n",
       "      <td>280</td>\n",
       "      <td>2918</td>\n",
       "      <td>29510.0</td>\n",
       "      <td>2016-12-18 20:20:50.300</td>\n",
       "      <td>88.080002</td>\n",
       "      <td>28.340000</td>\n",
       "      <td>0.07</td>\n",
       "      <td>316.779999</td>\n",
       "      <td>262.470001</td>\n",
       "      <td>NaN</td>\n",
       "      <td>47.711662</td>\n",
       "    </tr>\n",
       "    <tr>\n",
       "      <th>14</th>\n",
       "      <td>3637</td>\n",
       "      <td>2016</td>\n",
       "      <td>280</td>\n",
       "      <td>2918</td>\n",
       "      <td>32050.0</td>\n",
       "      <td>2016-12-18 20:20:50.300</td>\n",
       "      <td>88.239998</td>\n",
       "      <td>31.780001</td>\n",
       "      <td>0.05</td>\n",
       "      <td>337.540009</td>\n",
       "      <td>290.040009</td>\n",
       "      <td>NaN</td>\n",
       "      <td>47.635221</td>\n",
       "    </tr>\n",
       "    <tr>\n",
       "      <th>15</th>\n",
       "      <td>3638</td>\n",
       "      <td>2016</td>\n",
       "      <td>280</td>\n",
       "      <td>2918</td>\n",
       "      <td>31075.0</td>\n",
       "      <td>2016-12-18 20:20:50.300</td>\n",
       "      <td>88.949997</td>\n",
       "      <td>33.919998</td>\n",
       "      <td>0.05</td>\n",
       "      <td>23.389999</td>\n",
       "      <td>104.720001</td>\n",
       "      <td>NaN</td>\n",
       "      <td>48.323598</td>\n",
       "    </tr>\n",
       "    <tr>\n",
       "      <th>16</th>\n",
       "      <td>3639</td>\n",
       "      <td>2016</td>\n",
       "      <td>280</td>\n",
       "      <td>2918</td>\n",
       "      <td>32968.0</td>\n",
       "      <td>2016-12-18 20:20:50.300</td>\n",
       "      <td>90.610001</td>\n",
       "      <td>31.459999</td>\n",
       "      <td>0.03</td>\n",
       "      <td>174.889999</td>\n",
       "      <td>84.269997</td>\n",
       "      <td>NaN</td>\n",
       "      <td>50.014970</td>\n",
       "    </tr>\n",
       "    <tr>\n",
       "      <th>17</th>\n",
       "      <td>3640</td>\n",
       "      <td>2016</td>\n",
       "      <td>280</td>\n",
       "      <td>2918</td>\n",
       "      <td>27654.0</td>\n",
       "      <td>2016-12-18 20:20:50.300</td>\n",
       "      <td>90.010002</td>\n",
       "      <td>9.790000</td>\n",
       "      <td>0.01</td>\n",
       "      <td>189.259995</td>\n",
       "      <td>228.699997</td>\n",
       "      <td>NaN</td>\n",
       "      <td>54.703896</td>\n",
       "    </tr>\n",
       "    <tr>\n",
       "      <th>18</th>\n",
       "      <td>3641</td>\n",
       "      <td>2016</td>\n",
       "      <td>280</td>\n",
       "      <td>2918</td>\n",
       "      <td>32171.0</td>\n",
       "      <td>2016-12-18 20:20:50.300</td>\n",
       "      <td>90.519997</td>\n",
       "      <td>28.889999</td>\n",
       "      <td>0.04</td>\n",
       "      <td>164.630005</td>\n",
       "      <td>86.519997</td>\n",
       "      <td>NaN</td>\n",
       "      <td>50.087177</td>\n",
       "    </tr>\n",
       "    <tr>\n",
       "      <th>19</th>\n",
       "      <td>3642</td>\n",
       "      <td>2016</td>\n",
       "      <td>280</td>\n",
       "      <td>2918</td>\n",
       "      <td>29959.0</td>\n",
       "      <td>2016-12-18 20:20:50.300</td>\n",
       "      <td>89.519997</td>\n",
       "      <td>29.879999</td>\n",
       "      <td>0.02</td>\n",
       "      <td>169.339996</td>\n",
       "      <td>92.889999</td>\n",
       "      <td>NaN</td>\n",
       "      <td>49.011572</td>\n",
       "    </tr>\n",
       "    <tr>\n",
       "      <th>20</th>\n",
       "      <td>3643</td>\n",
       "      <td>2016</td>\n",
       "      <td>280</td>\n",
       "      <td>2918</td>\n",
       "      <td>32120.0</td>\n",
       "      <td>2016-12-18 20:20:50.300</td>\n",
       "      <td>92.279999</td>\n",
       "      <td>27.540001</td>\n",
       "      <td>0.01</td>\n",
       "      <td>162.830002</td>\n",
       "      <td>90.480003</td>\n",
       "      <td>NaN</td>\n",
       "      <td>51.973516</td>\n",
       "    </tr>\n",
       "    <tr>\n",
       "      <th>21</th>\n",
       "      <td>3644</td>\n",
       "      <td>2016</td>\n",
       "      <td>280</td>\n",
       "      <td>2918</td>\n",
       "      <td>26725.0</td>\n",
       "      <td>2016-12-18 20:20:50.300</td>\n",
       "      <td>90.260002</td>\n",
       "      <td>30.730000</td>\n",
       "      <td>0.07</td>\n",
       "      <td>202.279999</td>\n",
       "      <td>96.070000</td>\n",
       "      <td>NaN</td>\n",
       "      <td>49.698058</td>\n",
       "    </tr>\n",
       "  </tbody>\n",
       "</table>\n",
       "</div>"
      ],
      "text/plain": [
       "    index  Season_Year  GameKey  PlayID   GSISID                    Time  \\\n",
       "0    3623         2016      280    2918  32864.0 2016-12-18 20:20:50.300   \n",
       "1    3624         2016      280    2918  33127.0 2016-12-18 20:20:50.300   \n",
       "2    3625         2016      280    2918  31085.0 2016-12-18 20:20:50.300   \n",
       "3    3626         2016      280    2918  28069.0 2016-12-18 20:20:50.300   \n",
       "4    3627         2016      280    2918  31600.0 2016-12-18 20:20:50.300   \n",
       "5    3628         2016      280    2918  31491.0 2016-12-18 20:20:50.300   \n",
       "6    3629         2016      280    2918  31688.0 2016-12-18 20:20:50.300   \n",
       "7    3630         2016      280    2918  31743.0 2016-12-18 20:20:50.300   \n",
       "8    3631         2016      280    2918  28029.0 2016-12-18 20:20:50.300   \n",
       "9    3632         2016      280    2918  32725.0 2016-12-18 20:20:50.300   \n",
       "10   3633         2016      280    2918  29304.0 2016-12-18 20:20:50.300   \n",
       "11   3634         2016      280    2918  31731.0 2016-12-18 20:20:50.300   \n",
       "12   3635         2016      280    2918  32525.0 2016-12-18 20:20:50.300   \n",
       "13   3636         2016      280    2918  29510.0 2016-12-18 20:20:50.300   \n",
       "14   3637         2016      280    2918  32050.0 2016-12-18 20:20:50.300   \n",
       "15   3638         2016      280    2918  31075.0 2016-12-18 20:20:50.300   \n",
       "16   3639         2016      280    2918  32968.0 2016-12-18 20:20:50.300   \n",
       "17   3640         2016      280    2918  27654.0 2016-12-18 20:20:50.300   \n",
       "18   3641         2016      280    2918  32171.0 2016-12-18 20:20:50.300   \n",
       "19   3642         2016      280    2918  29959.0 2016-12-18 20:20:50.300   \n",
       "20   3643         2016      280    2918  32120.0 2016-12-18 20:20:50.300   \n",
       "21   3644         2016      280    2918  26725.0 2016-12-18 20:20:50.300   \n",
       "\n",
       "             x          y   dis           o         dir Event   dist_lst  \n",
       "0    90.400002  27.950001  0.05  163.919998   99.690002   NaN  50.059938  \n",
       "1    30.549999  30.309999  0.04  350.970001   45.660000   NaN  10.522683  \n",
       "2    88.720001  30.600000  0.08    8.160000  113.750000   NaN  48.167427  \n",
       "3    90.739998  45.450001  0.02  179.940002  284.640015   NaN  51.554885  \n",
       "4    87.919998  10.930000  0.05   16.260000  331.739990   NaN  52.326895  \n",
       "5    88.699997  32.860001  0.02   13.700000  114.970001   NaN  48.072294  \n",
       "6    87.989998   9.430000  0.01    6.950000  169.110001   NaN  53.048839  \n",
       "7    88.949997  44.910000  0.03  324.399994  282.929993   NaN  49.688211  \n",
       "8    88.820000  26.860001  0.08  323.989990   74.000000   NaN  48.622391  \n",
       "9    88.480003  25.320000  0.19  334.079987   69.080002   NaN  48.515800  \n",
       "10  103.059998  29.250000  0.02  197.089996  323.519989   NaN  62.563175  \n",
       "11   94.190002  31.100000  0.02  177.820007  158.740005   NaN  53.606405  \n",
       "12   92.050003  31.770000  0.02  191.830002   76.250000   NaN  51.443661  \n",
       "13   88.080002  28.340000  0.07  316.779999  262.470001   NaN  47.711662  \n",
       "14   88.239998  31.780001  0.05  337.540009  290.040009   NaN  47.635221  \n",
       "15   88.949997  33.919998  0.05   23.389999  104.720001   NaN  48.323598  \n",
       "16   90.610001  31.459999  0.03  174.889999   84.269997   NaN  50.014970  \n",
       "17   90.010002   9.790000  0.01  189.259995  228.699997   NaN  54.703896  \n",
       "18   90.519997  28.889999  0.04  164.630005   86.519997   NaN  50.087177  \n",
       "19   89.519997  29.879999  0.02  169.339996   92.889999   NaN  49.011572  \n",
       "20   92.279999  27.540001  0.01  162.830002   90.480003   NaN  51.973516  \n",
       "21   90.260002  30.730000  0.07  202.279999   96.070000   NaN  49.698058  "
      ]
     },
     "execution_count": 343,
     "metadata": {},
     "output_type": "execute_result"
    }
   ],
   "source": [
    "test_players"
   ]
  },
  {
   "cell_type": "code",
   "execution_count": 250,
   "metadata": {},
   "outputs": [
    {
     "data": {
      "text/plain": [
       "0   2016-12-18 20:20:37.600\n",
       "1   2016-12-18 20:20:49.300\n",
       "2   2016-12-18 20:20:52.200\n",
       "3   2016-12-18 20:20:54.300\n",
       "4   2016-12-18 20:20:59.400\n",
       "5   2016-12-18 20:21:17.400\n",
       "Name: datetime, dtype: datetime64[ns]"
      ]
     },
     "execution_count": 250,
     "metadata": {},
     "output_type": "execute_result"
    }
   ],
   "source": [
    "single_play_events['datetime'] + pd.Timedelta(seconds=2)"
   ]
  },
  {
   "cell_type": "code",
   "execution_count": 227,
   "metadata": {},
   "outputs": [
    {
     "data": {
      "text/plain": [
       "datetime.datetime(2016, 12, 18, 20, 20, 35, 600000)"
      ]
     },
     "execution_count": 227,
     "metadata": {},
     "output_type": "execute_result"
    }
   ],
   "source": [
    "datetime.strptime('2016-12-18 20:20:35.600', '%Y-%m-%d %H:%M:%S.%f')"
   ]
  },
  {
   "cell_type": "code",
   "execution_count": 212,
   "metadata": {},
   "outputs": [
    {
     "data": {
      "text/plain": [
       "play_submit                 93577\n",
       "punt_play                   61205\n",
       "ball_snap                   52983\n",
       "punt                        52437\n",
       "line_set                    50806\n",
       "punt_received               23499\n",
       "tackle                      18051\n",
       "penalty_flag                17283\n",
       "fair_catch                  14863\n",
       "out_of_bounds                9931\n",
       "penalty_accepted             9238\n",
       "punt_downed                  7862\n",
       "touchback                    3486\n",
       "huddle_start_offense         2050\n",
       "fumble                       1968\n",
       "huddle_break_offense         1861\n",
       "fumble_offense_recovered     1570\n",
       "timeout_tv                   1487\n",
       "fumble_defense_recovered     1021\n",
       "man_in_motion                 753\n",
       "touchdown                     512\n",
       "shift                         419\n",
       "penalty_declined              322\n",
       "punt_blocked                  285\n",
       "punt_fake                     265\n",
       "kick_received                 221\n",
       "run                           199\n",
       "pass_forward                  155\n",
       "pass_outcome_caught           111\n",
       "pass_lateral                   88\n",
       "timeout_home                   86\n",
       "safety                         80\n",
       "timeout_injury                 48\n",
       "pass_outcome_incomplete        45\n",
       "kick_recovered                 44\n",
       "two_minute_warning             43\n",
       "field_goal_play                22\n",
       "handoff                        22\n",
       "Name: Event, dtype: int64"
      ]
     },
     "execution_count": 212,
     "metadata": {},
     "output_type": "execute_result"
    }
   ],
   "source": [
    "NGS_2016.Event.value_counts()"
   ]
  },
  {
   "cell_type": "code",
   "execution_count": null,
   "metadata": {},
   "outputs": [],
   "source": []
  }
 ],
 "metadata": {
  "kernelspec": {
   "display_name": "Python 3",
   "language": "python",
   "name": "python3"
  },
  "language_info": {
   "codemirror_mode": {
    "name": "ipython",
    "version": 3
   },
   "file_extension": ".py",
   "mimetype": "text/x-python",
   "name": "python",
   "nbconvert_exporter": "python",
   "pygments_lexer": "ipython3",
   "version": "3.6.0"
  }
 },
 "nbformat": 4,
 "nbformat_minor": 2
}
