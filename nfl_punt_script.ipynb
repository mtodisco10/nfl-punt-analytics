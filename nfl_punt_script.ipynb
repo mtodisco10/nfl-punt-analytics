{
 "cells": [
  {
   "cell_type": "code",
   "execution_count": 41,
   "metadata": {},
   "outputs": [],
   "source": [
    "import pandas as pd\n",
    "pd.options.display.max_colwidth = 1000\n",
    "import numpy as np\n",
    "import matplotlib.pyplot as plt\n",
    "import plotly\n",
    "import plotly.plotly as py\n",
    "import plotly.graph_objs as go\n",
    "from plotly import tools, offline\n",
    "plotly.tools.set_credentials_file(username='mtodisco10', api_key='bCfUmq5FralbymKXY4uX')\n",
    "import re\n",
    "import warnings\n",
    "warnings.filterwarnings('ignore')\n",
    "%matplotlib inline\n",
    "from plotly.offline import init_notebook_mode, iplot\n",
    "from IPython.display import display, HTML"
   ]
  },
  {
   "cell_type": "code",
   "execution_count": 103,
   "metadata": {},
   "outputs": [],
   "source": [
    "%run progress_bar.ipynb\n",
    "%run field_layout.ipynb"
   ]
  },
  {
   "cell_type": "code",
   "execution_count": 43,
   "metadata": {},
   "outputs": [],
   "source": [
    "#Read in Data\n",
    "game_data = pd.read_csv('game_data.csv')\n",
    "play_info = pd.read_csv('play_information.csv')\n",
    "play_player_role = pd.read_csv('play_player_role_data.csv')\n",
    "player_punt = pd.read_csv('player_punt_data.csv')\n",
    "video_footage_control = pd.read_csv('video_footage-control.csv')\n",
    "video_footage_injury = pd.read_csv('video_footage-injury.csv')\n",
    "video_review = pd.read_csv('video_review.csv')"
   ]
  },
  {
   "cell_type": "code",
   "execution_count": 44,
   "metadata": {},
   "outputs": [],
   "source": [
    "def read_NGS_data(file_lst):\n",
    "    for i, file in enumerate(file_lst):\n",
    "        print('Reading in {}'.format(file))\n",
    "        data = pd.read_csv(file)\n",
    "        if i == 0:\n",
    "            NGS_df = data\n",
    "            del data\n",
    "        else:\n",
    "            NGS_df = pd.concat([NGS_df, data])\n",
    "            del data\n",
    "    return NGS_df"
   ]
  },
  {
   "cell_type": "code",
   "execution_count": 45,
   "metadata": {},
   "outputs": [],
   "source": [
    "file_lst = ['NGS-2016-pre.csv','NGS-2016-reg-wk1-6.csv','NGS-2016-reg-wk7-12.csv','NGS-2016-reg-wk13-17.csv',\\\n",
    "            'NGS-2016-post.csv'#,'NGS-2017-pre.csv','NGS-2017-reg-wk1-6.csv','NGS-2017-reg-wk7-12.csv',\\\n",
    "#            'NGS-2017-reg-wk13-17.csv','NGS-2017-post.csv'\n",
    "           ]"
   ]
  },
  {
   "cell_type": "code",
   "execution_count": 46,
   "metadata": {},
   "outputs": [
    {
     "name": "stdout",
     "output_type": "stream",
     "text": [
      "Reading in NGS-2016-pre.csv\n",
      "Reading in NGS-2016-reg-wk1-6.csv\n",
      "Reading in NGS-2016-reg-wk7-12.csv\n",
      "Reading in NGS-2016-reg-wk13-17.csv\n",
      "Reading in NGS-2016-post.csv\n"
     ]
    }
   ],
   "source": [
    "NGS_df = read_NGS_data(file_lst)"
   ]
  },
  {
   "cell_type": "markdown",
   "metadata": {},
   "source": [
    "### Injury Plays EDA"
   ]
  },
  {
   "cell_type": "code",
   "execution_count": 47,
   "metadata": {},
   "outputs": [
    {
     "data": {
      "text/plain": [
       "'There are concussion injuries on 0.55% of punt plays'"
      ]
     },
     "execution_count": 47,
     "metadata": {},
     "output_type": "execute_result"
    }
   ],
   "source": [
    "'There are concussion injuries on ' + str(round(len(video_review) / float(len(play_info)) * 100, 2)) + '% of ' + 'punt plays'"
   ]
  },
  {
   "cell_type": "markdown",
   "metadata": {},
   "source": [
    "##### It is good for the NFL and players that injuries only occur on less than 1% of punt plays, but it will be hard to do analysis"
   ]
  },
  {
   "cell_type": "markdown",
   "metadata": {},
   "source": [
    "#### How are players being injured?"
   ]
  },
  {
   "cell_type": "code",
   "execution_count": 48,
   "metadata": {},
   "outputs": [
    {
     "name": "stdout",
     "output_type": "stream",
     "text": [
      "This is the format of your plot grid:\n",
      "[ (1,1) x1,y1 ]  [ (1,2) x2,y2 ]\n",
      "[ (2,1) x3,y3 ]  [ (2,2) x4,y4 ]\n",
      "\n"
     ]
    },
    {
     "data": {
      "text/html": [
       "<iframe id=\"igraph\" scrolling=\"no\" style=\"border:none;\" seamless=\"seamless\" src=\"https://plot.ly/~mtodisco10/8.embed\" height=\"525px\" width=\"100%\"></iframe>"
      ],
      "text/plain": [
       "<plotly.tools.PlotlyDisplay object>"
      ]
     },
     "execution_count": 48,
     "metadata": {},
     "output_type": "execute_result"
    }
   ],
   "source": [
    "trace1 = go.Bar(\n",
    "        x=video_review.groupby(['Player_Activity_Derived'], as_index=False)['PlayID'].count()['Player_Activity_Derived'],\n",
    "        y=video_review.groupby(['Player_Activity_Derived'], as_index=False)['PlayID'].count()['PlayID']\n",
    "    )\n",
    "trace2 = go.Bar(\n",
    "        x=video_review.groupby(['Primary_Impact_Type'], as_index=False)['PlayID'].count()['Primary_Impact_Type'],\n",
    "        y=video_review.groupby(['Primary_Impact_Type'], as_index=False)['PlayID'].count()['PlayID'],\n",
    "    )\n",
    "trace3 = go.Bar(\n",
    "        x=video_review.groupby(['Friendly_Fire'], as_index=False)['PlayID'].count()['Friendly_Fire'],\n",
    "        y=video_review.groupby(['Friendly_Fire'], as_index=False)['PlayID'].count()['PlayID'],\n",
    "    )\n",
    "trace4 = go.Bar(\n",
    "        x=video_review.groupby(['Primary_Partner_Activity_Derived'], as_index=False)['PlayID'].count()['Primary_Partner_Activity_Derived'],\n",
    "        y=video_review.groupby(['Primary_Partner_Activity_Derived'], as_index=False)['PlayID'].count()['PlayID'],\n",
    "    )\n",
    "\n",
    "fig = tools.make_subplots(rows=2, cols=2, subplot_titles=('Player Activity Derived', 'Primary Impact Type',\n",
    "                                                          'Friendly Fire', 'Primary Partner Activity Derived'))\n",
    "\n",
    "fig.append_trace(trace1, 1, 1)\n",
    "fig.append_trace(trace2, 1, 2)\n",
    "fig.append_trace(trace3, 2, 1)\n",
    "fig.append_trace(trace4, 2, 2)\n",
    "\n",
    "fig['layout'].update(showlegend=False)\n",
    "\n",
    "py.iplot(fig, filename='make-subplots-multiple-with-titles')"
   ]
  },
  {
   "cell_type": "markdown",
   "metadata": {},
   "source": [
    "### Quick Conclusions\n",
    "    - No player activity stands out\n",
    "    - Helmet to player is primary impact type\n",
    "    - Friendly fire is only clear 16% of the time\n",
    "    - No Partner Activity Stands Out"
   ]
  },
  {
   "cell_type": "markdown",
   "metadata": {},
   "source": [
    "#### Who's getting hurt?"
   ]
  },
  {
   "cell_type": "code",
   "execution_count": 49,
   "metadata": {},
   "outputs": [],
   "source": [
    "#Categorize player punt roles into the sides of the ball\n",
    "return_roles = ['PDL1','PDL2','PDL3','PDL4','PDL5','PDL6','PDM','PDR1','PDR2','PDR3','PDR4','PDR5','PDR6'\n",
    "                ,'PFB','PLL','PLL1','PLL2','PLL3','PLM','PLM1','PLR','PLR1','PLR2','PLR3','PR','VL','VLi'\n",
    "                ,'VLo','VR','VRi','VRo']\n",
    "\n",
    "coverage_roles = ['GL','GLi','GLo','GR','GRi','GRo','P','PC','PLG','PLS','PLT','PLW','PPL','PPLi','PPLo'\n",
    "                 ,'PPR','PPRi','PPRo','PRG','PRT','PRW']\n",
    "\n",
    "gunner_blockers = ['VL','VLi','VLo','VR','VRi','VRo']"
   ]
  },
  {
   "cell_type": "code",
   "execution_count": 50,
   "metadata": {},
   "outputs": [],
   "source": [
    "inj_players = video_review.merge(play_player_role, how='inner', on=['Season_Year', 'GameKey', 'PlayID', 'GSISID'])\n",
    "inj_players.rename(columns={'Role':'inj_role'}, inplace=True)"
   ]
  },
  {
   "cell_type": "code",
   "execution_count": 51,
   "metadata": {},
   "outputs": [],
   "source": [
    "inj_players['inj_side_of_ball'] = np.where(inj_players.inj_role.isin(return_roles), 'return',\n",
    "                                          np.where(inj_players.inj_role.isin(coverage_roles), 'coverage', ''))"
   ]
  },
  {
   "cell_type": "code",
   "execution_count": 52,
   "metadata": {},
   "outputs": [],
   "source": [
    "partner_players = video_review[['Season_Year', 'GameKey', 'PlayID', 'Primary_Partner_GSISID']]\n",
    "partner_players['Primary_Partner_GSISID'] = partner_players.loc[:,'Primary_Partner_GSISID'] \\\n",
    "                                                .replace('Unclear','0').fillna(0).astype(int)\n",
    "partner_players = partner_players.merge(play_player_role, how='left', \\\n",
    "                                        left_on=['Season_Year', 'GameKey', 'PlayID', 'Primary_Partner_GSISID'],\\\n",
    "                                       right_on =['Season_Year', 'GameKey', 'PlayID', 'GSISID'])\n",
    "partner_players = partner_players.drop('GSISID', axis=1)\n",
    "partner_players.rename(columns={'Role':'partner_role'}, inplace=True)\n",
    "partner_players['partner_side_of_ball'] = np.where(partner_players.partner_role.isin(return_roles), 'return',\n",
    "                                          np.where(partner_players.partner_role.isin(coverage_roles), 'coverage', ''))\n",
    "inj_partner_df = pd.concat([inj_players,partner_players[['partner_role','partner_side_of_ball']]], axis = 1)"
   ]
  },
  {
   "cell_type": "code",
   "execution_count": 53,
   "metadata": {},
   "outputs": [
    {
     "data": {
      "text/html": [
       "<div>\n",
       "<style>\n",
       "    .dataframe thead tr:only-child th {\n",
       "        text-align: right;\n",
       "    }\n",
       "\n",
       "    .dataframe thead th {\n",
       "        text-align: left;\n",
       "    }\n",
       "\n",
       "    .dataframe tbody tr th {\n",
       "        vertical-align: top;\n",
       "    }\n",
       "</style>\n",
       "<table border=\"1\" class=\"dataframe\">\n",
       "  <thead>\n",
       "    <tr style=\"text-align: right;\">\n",
       "      <th></th>\n",
       "      <th>Season_Year</th>\n",
       "      <th>GameKey</th>\n",
       "      <th>PlayID</th>\n",
       "      <th>GSISID</th>\n",
       "      <th>Player_Activity_Derived</th>\n",
       "      <th>Turnover_Related</th>\n",
       "      <th>Primary_Impact_Type</th>\n",
       "      <th>Primary_Partner_GSISID</th>\n",
       "      <th>Primary_Partner_Activity_Derived</th>\n",
       "      <th>Friendly_Fire</th>\n",
       "      <th>inj_role</th>\n",
       "      <th>inj_side_of_ball</th>\n",
       "      <th>partner_role</th>\n",
       "      <th>partner_side_of_ball</th>\n",
       "    </tr>\n",
       "  </thead>\n",
       "  <tbody>\n",
       "    <tr>\n",
       "      <th>0</th>\n",
       "      <td>2016</td>\n",
       "      <td>5</td>\n",
       "      <td>3129</td>\n",
       "      <td>31057</td>\n",
       "      <td>Tackling</td>\n",
       "      <td>No</td>\n",
       "      <td>Helmet-to-body</td>\n",
       "      <td>32482</td>\n",
       "      <td>Tackled</td>\n",
       "      <td>No</td>\n",
       "      <td>PLW</td>\n",
       "      <td>coverage</td>\n",
       "      <td>PR</td>\n",
       "      <td>return</td>\n",
       "    </tr>\n",
       "    <tr>\n",
       "      <th>1</th>\n",
       "      <td>2016</td>\n",
       "      <td>21</td>\n",
       "      <td>2587</td>\n",
       "      <td>29343</td>\n",
       "      <td>Blocked</td>\n",
       "      <td>No</td>\n",
       "      <td>Helmet-to-helmet</td>\n",
       "      <td>31059</td>\n",
       "      <td>Blocking</td>\n",
       "      <td>No</td>\n",
       "      <td>GL</td>\n",
       "      <td>coverage</td>\n",
       "      <td>PLL1</td>\n",
       "      <td>return</td>\n",
       "    </tr>\n",
       "    <tr>\n",
       "      <th>2</th>\n",
       "      <td>2016</td>\n",
       "      <td>29</td>\n",
       "      <td>538</td>\n",
       "      <td>31023</td>\n",
       "      <td>Tackling</td>\n",
       "      <td>No</td>\n",
       "      <td>Helmet-to-body</td>\n",
       "      <td>31941</td>\n",
       "      <td>Tackled</td>\n",
       "      <td>No</td>\n",
       "      <td>GR</td>\n",
       "      <td>coverage</td>\n",
       "      <td>PR</td>\n",
       "      <td>return</td>\n",
       "    </tr>\n",
       "    <tr>\n",
       "      <th>3</th>\n",
       "      <td>2016</td>\n",
       "      <td>45</td>\n",
       "      <td>1212</td>\n",
       "      <td>33121</td>\n",
       "      <td>Tackling</td>\n",
       "      <td>No</td>\n",
       "      <td>Helmet-to-body</td>\n",
       "      <td>28249</td>\n",
       "      <td>Tackled</td>\n",
       "      <td>No</td>\n",
       "      <td>PRT</td>\n",
       "      <td>coverage</td>\n",
       "      <td>PR</td>\n",
       "      <td>return</td>\n",
       "    </tr>\n",
       "    <tr>\n",
       "      <th>4</th>\n",
       "      <td>2016</td>\n",
       "      <td>54</td>\n",
       "      <td>1045</td>\n",
       "      <td>32444</td>\n",
       "      <td>Blocked</td>\n",
       "      <td>No</td>\n",
       "      <td>Helmet-to-body</td>\n",
       "      <td>31756</td>\n",
       "      <td>Blocked</td>\n",
       "      <td>Yes</td>\n",
       "      <td>PRT</td>\n",
       "      <td>coverage</td>\n",
       "      <td>GR</td>\n",
       "      <td>coverage</td>\n",
       "    </tr>\n",
       "  </tbody>\n",
       "</table>\n",
       "</div>"
      ],
      "text/plain": [
       "   Season_Year  GameKey  PlayID  GSISID Player_Activity_Derived  \\\n",
       "0         2016        5    3129   31057                Tackling   \n",
       "1         2016       21    2587   29343                 Blocked   \n",
       "2         2016       29     538   31023                Tackling   \n",
       "3         2016       45    1212   33121                Tackling   \n",
       "4         2016       54    1045   32444                 Blocked   \n",
       "\n",
       "  Turnover_Related Primary_Impact_Type Primary_Partner_GSISID  \\\n",
       "0               No      Helmet-to-body                  32482   \n",
       "1               No    Helmet-to-helmet                  31059   \n",
       "2               No      Helmet-to-body                  31941   \n",
       "3               No      Helmet-to-body                  28249   \n",
       "4               No      Helmet-to-body                  31756   \n",
       "\n",
       "  Primary_Partner_Activity_Derived Friendly_Fire inj_role inj_side_of_ball  \\\n",
       "0                          Tackled            No      PLW         coverage   \n",
       "1                         Blocking            No       GL         coverage   \n",
       "2                          Tackled            No       GR         coverage   \n",
       "3                          Tackled            No      PRT         coverage   \n",
       "4                          Blocked           Yes      PRT         coverage   \n",
       "\n",
       "  partner_role partner_side_of_ball  \n",
       "0           PR               return  \n",
       "1         PLL1               return  \n",
       "2           PR               return  \n",
       "3           PR               return  \n",
       "4           GR             coverage  "
      ]
     },
     "execution_count": 53,
     "metadata": {},
     "output_type": "execute_result"
    }
   ],
   "source": [
    "inj_partner_df.head()"
   ]
  },
  {
   "cell_type": "code",
   "execution_count": 54,
   "metadata": {},
   "outputs": [
    {
     "data": {
      "text/plain": [
       "return      18\n",
       "coverage    15\n",
       "             4\n",
       "Name: partner_side_of_ball, dtype: int64"
      ]
     },
     "execution_count": 54,
     "metadata": {},
     "output_type": "execute_result"
    }
   ],
   "source": [
    "partner_players.partner_side_of_ball.value_counts()"
   ]
  },
  {
   "cell_type": "code",
   "execution_count": 161,
   "metadata": {},
   "outputs": [],
   "source": [
    "ex_play = NGS_df.loc[(NGS_df.Season_Year==2016) & (NGS_df.GameKey== 234) \\\n",
    "                     & (NGS_df.PlayID== 3278) & (NGS_df.GSISID== 28620)].sort_values('Time')"
   ]
  },
  {
   "cell_type": "code",
   "execution_count": 174,
   "metadata": {},
   "outputs": [
    {
     "data": {
      "text/plain": [
       "punt_downed    1\n",
       "punt           1\n",
       "play_submit    1\n",
       "ball_snap      1\n",
       "Name: Event, dtype: int64"
      ]
     },
     "execution_count": 174,
     "metadata": {},
     "output_type": "execute_result"
    }
   ],
   "source": [
    "ex_play.Event.value_counts()"
   ]
  },
  {
   "cell_type": "code",
   "execution_count": 162,
   "metadata": {},
   "outputs": [],
   "source": [
    "ball_snap_time = ex_play.loc[ex_play.Event == 'ball_snap'].Time.min()"
   ]
  },
  {
   "cell_type": "code",
   "execution_count": 163,
   "metadata": {},
   "outputs": [],
   "source": [
    "ex_play = ex_play.loc[ex_play.Time >= ball_snap_time]"
   ]
  },
  {
   "cell_type": "code",
   "execution_count": 165,
   "metadata": {},
   "outputs": [],
   "source": [
    "ret_play = NGS_df.loc[(NGS_df.Season_Year==2016) & (NGS_df.GameKey== 234) \\\n",
    "                     & (NGS_df.PlayID== 3278) & (NGS_df.GSISID== 27860)].sort_values('Time')\n",
    "ret_play = ret_play.loc[ret_play.Time >= ball_snap_time]"
   ]
  },
  {
   "cell_type": "code",
   "execution_count": 237,
   "metadata": {},
   "outputs": [],
   "source": [
    "x = np.array(ex_play.x)\n",
    "y = np.array(ex_play.y)\n",
    "xx = np.array(ex_play.x)\n",
    "yy = np.array(ex_play.y)"
   ]
  },
  {
   "cell_type": "code",
   "execution_count": 238,
   "metadata": {},
   "outputs": [],
   "source": [
    "x1 = np.array(ret_play.x)\n",
    "y1 = np.array(ret_play.y)\n",
    "xx1 = np.array(ret_play.x)\n",
    "yy1 = np.array(ret_play.y)"
   ]
  },
  {
   "cell_type": "code",
   "execution_count": 246,
   "metadata": {
    "scrolled": false
   },
   "outputs": [
    {
     "data": {
      "text/html": [
       "<script type=\"text/javascript\">window.PlotlyConfig = {MathJaxConfig: 'local'};</script><script type=\"text/javascript\">if (window.MathJax) {MathJax.Hub.Config({SVG: {font: \"STIX-Web\"}});}</script><script>requirejs.config({paths: { 'plotly': ['https://cdn.plot.ly/plotly-latest.min']},});if(!window._Plotly) {require(['plotly'],function(plotly) {window._Plotly=plotly;});}</script>"
      ],
      "text/vnd.plotly.v1+html": [
       "<script type=\"text/javascript\">window.PlotlyConfig = {MathJaxConfig: 'local'};</script><script type=\"text/javascript\">if (window.MathJax) {MathJax.Hub.Config({SVG: {font: \"STIX-Web\"}});}</script><script>requirejs.config({paths: { 'plotly': ['https://cdn.plot.ly/plotly-latest.min']},});if(!window._Plotly) {require(['plotly'],function(plotly) {window._Plotly=plotly;});}</script>"
      ]
     },
     "metadata": {},
     "output_type": "display_data"
    },
    {
     "data": {
      "application/vnd.plotly.v1+json": {
       "config": {
        "linkText": "Export to plot.ly",
        "plotlyServerURL": "https://plot.ly",
        "showLink": true
       },
       "data": [
        {
         "line": {
          "color": "blue",
          "width": 2
         },
         "mode": "lines",
         "name": "injured player",
         "type": "scatter",
         "uid": "33b9034c-2060-4444-b913-596d58ee0b38",
         "x": [
          59.58000183105469,
          59.56999969482422,
          59.58000183105469,
          59.61000061035156,
          59.68000030517578,
          59.77999877929688,
          59.9099998474121,
          60.040000915527344,
          60.18000030517578,
          60.31999969482422,
          60.4900016784668,
          60.68999862670898,
          60.88000106811523,
          61.06000137329102,
          61.22999954223633,
          61.36999893188477,
          61.47000122070313,
          61.54999923706055,
          61.61999893188477,
          61.68000030517578,
          61.68999862670898,
          61.66999816894531,
          61.61999893188477,
          61.5099983215332,
          61.36999893188477,
          61.18000030517578,
          60.91999816894531,
          60.59000015258789,
          60.22000122070313,
          59.790000915527344,
          59.290000915527344,
          58.7599983215332,
          58.20000076293945,
          57.599998474121094,
          56.97999954223633,
          56.36999893188477,
          55.77000045776367,
          55.18999862670898,
          54.599998474121094,
          53.9900016784668,
          53.36000061035156,
          52.70000076293945,
          52.08000183105469,
          51.52000045776367,
          50.91999816894531,
          50.22999954223633,
          49.52000045776367,
          48.77999877929688,
          48,
          47.16999816894531,
          46.349998474121094,
          45.54999923706055,
          44.7400016784668,
          43.88999938964844,
          43.02999877929688,
          42.180000305175774,
          41.310001373291016,
          40.41999816894531,
          39.52999877929688,
          38.63999938964844,
          37.7400016784668,
          36.849998474121094,
          35.970001220703125,
          35.139999389648445,
          34.299999237060554,
          33.47999954223633,
          32.650001525878906,
          31.84000015258789,
          31.03000068664551,
          30.239999771118164,
          29.459999084472656,
          28.68000030517578,
          27.899999618530273,
          27.149999618530273,
          26.3799991607666,
          25.57999992370605,
          24.790000915527344,
          24.01000022888184,
          23.239999771118164,
          22.489999771118164,
          21.729999542236328,
          20.959999084472656,
          20.18000030517578,
          19.399999618530273,
          18.610000610351566,
          17.829999923706055,
          17.059999465942386,
          16.309999465942386,
          15.5600004196167,
          14.81999969482422,
          14.090000152587892,
          13.409999847412108,
          12.6899995803833,
          11.949999809265135,
          11.359999656677244,
          10.880000114440918,
          10.510000228881836,
          10.289999961853027,
          10.140000343322754,
          10.06999969482422,
          10.090000152587892,
          10.149999618530273,
          10.199999809265137,
          10.260000228881836,
          10.3100004196167,
          10.329999923706056,
          10.340000152587892,
          10.3100004196167,
          10.279999732971193,
          10.289999961853027,
          10.31999969482422,
          10.3100004196167,
          10.340000152587892,
          10.4399995803833,
          10.590000152587892,
          10.729999542236328,
          10.880000114440918,
          11.010000228881836,
          11.079999923706056,
          11.109999656677246,
          11.100000381469727,
          11.090000152587892,
          11.090000152587892,
          11.109999656677246,
          11.149999618530273,
          11.199999809265137,
          11.270000457763672,
          11.359999656677244,
          11.369999885559082,
          11.340000152587892,
          11.3100004196167,
          11.289999961853027,
          11.279999732971193,
          11.270000457763672,
          11.260000228881836,
          11.239999771118164,
          11.1899995803833,
          11.119999885559082,
          11.050000190734863,
          11.020000457763672,
          11.020000457763672,
          11.050000190734863,
          11.039999961853027,
          11.079999923706056,
          11.079999923706056,
          11.090000152587892,
          11.100000381469727,
          11.109999656677246,
          11.020000457763672,
          10.949999809265137,
          10.970000267028807,
          11.079999923706056,
          11.220000267028807,
          11.270000457763672,
          11.220000267028807,
          11.149999618530273,
          11.109999656677246,
          11.100000381469727,
          11.119999885559082,
          11.119999885559082,
          11.100000381469727,
          11.039999961853027,
          11.010000228881836,
          11.020000457763672,
          11.010000228881836,
          11,
          10.970000267028807,
          10.9399995803833,
          10.899999618530273,
          10.859999656677246,
          10.779999732971193,
          10.710000038146973,
          10.720000267028807,
          10.710000038146973,
          10.68000030517578,
          10.649999618530273,
          10.630000114440918,
          10.609999656677246,
          10.520000457763672,
          10.460000038146973,
          10.479999542236328,
          10.510000228881836,
          10.550000190734863,
          10.579999923706056,
          10.609999656677246,
          10.630000114440918,
          10.630000114440918,
          10.609999656677246,
          10.520000457763672,
          10.380000114440918,
          10.289999961853027,
          10.25,
          10.239999771118164,
          10.25,
          10.170000076293944,
          9.970000267028807,
          10.0600004196167,
          10.109999656677246,
          10.149999618530273,
          10.199999809265137,
          10.25,
          10.329999923706056,
          10.43000030517578,
          10.5,
          10.550000190734863,
          10.590000152587892,
          10.5600004196167
         ],
         "y": [
          30.729999542236328,
          30.729999542236328,
          30.71999931335449,
          30.71999931335449,
          30.71999931335449,
          30.71999931335449,
          30.71999931335449,
          30.71999931335449,
          30.71999931335449,
          30.71999931335449,
          30.70000076293945,
          30.65999984741211,
          30.6200008392334,
          30.610000610351573,
          30.59000015258789,
          30.59000015258789,
          30.6299991607666,
          30.76000022888184,
          30.920000076293945,
          31.1200008392334,
          31.319999694824208,
          31.559999465942386,
          31.85000038146973,
          32.189998626708984,
          32.529998779296875,
          32.880001068115234,
          33.259998321533196,
          33.669998168945305,
          34.09000015258789,
          34.47999954223633,
          34.830001831054695,
          35.16999816894532,
          35.47999954223633,
          35.7599983215332,
          36.04999923706055,
          36.36000061035156,
          36.70000076293945,
          37.08000183105469,
          37.4900016784668,
          37.930000305175774,
          38.36999893188477,
          38.790000915527344,
          39.180000305175774,
          39.5,
          39.83000183105469,
          40.1599998474121,
          40.4900016784668,
          40.77999877929688,
          41.06999969482422,
          41.34000015258789,
          41.58000183105469,
          41.77999877929688,
          41.97000122070313,
          42.13000106811523,
          42.27999877929688,
          42.41999816894531,
          42.540000915527344,
          42.650001525878906,
          42.75,
          42.86000061035156,
          42.97999954223633,
          43.09000015258789,
          43.209999084472656,
          43.34000015258789,
          43.47999954223633,
          43.63999938964844,
          43.810001373291016,
          44,
          44.209999084472656,
          44.47000122070313,
          44.7400016784668,
          45.040000915527344,
          45.36000061035156,
          45.709999084472656,
          46.06999969482422,
          46.43999862670898,
          46.81999969482422,
          47.209999084472656,
          47.599998474121094,
          48,
          48.38000106811523,
          48.75,
          49.11999893188477,
          49.47999954223633,
          49.849998474121094,
          50.209999084472656,
          50.56999969482422,
          50.9099998474121,
          51.22999954223633,
          51.52000045776367,
          51.790000915527344,
          52.02000045776367,
          52.25,
          52.4900016784668,
          52.66999816894531,
          52.77999877929688,
          52.88000106811523,
          52.97999954223633,
          53.040000915527344,
          53.04999923706055,
          53.06000137329102,
          53.09000015258789,
          53.13000106811523,
          53.11999893188477,
          53.08000183105469,
          53.040000915527344,
          53.040000915527344,
          53.04999923706055,
          53.06000137329102,
          53.02999877929688,
          53.0099983215332,
          53,
          52.97000122070313,
          52.88999938964844,
          52.790000915527344,
          52.72000122070313,
          52.6599998474121,
          52.66999816894531,
          52.70000076293945,
          52.709999084472656,
          52.77000045776367,
          52.83000183105469,
          52.86999893188477,
          52.88000106811523,
          52.86000061035156,
          52.81000137329102,
          52.66999816894531,
          52.47000122070313,
          52.47999954223633,
          52.56999969482422,
          52.68000030517578,
          52.77000045776367,
          52.81999969482422,
          52.86999893188477,
          52.9000015258789,
          52.95000076293945,
          53,
          53.04999923706055,
          53.11000061035156,
          53.1599998474121,
          53.1500015258789,
          53.099998474121094,
          53.11000061035156,
          53.1599998474121,
          53.22000122070313,
          53.27999877929688,
          53.33000183105469,
          53.4000015258789,
          53.47000122070313,
          53.58000183105469,
          53.709999084472656,
          53.79999923706055,
          53.88000106811523,
          53.93999862670898,
          53.84000015258789,
          53.7400016784668,
          53.68999862670898,
          53.6599998474121,
          53.66999816894531,
          53.68999862670898,
          53.709999084472656,
          53.6599998474121,
          53.5099983215332,
          53.38000106811523,
          53.36000061035156,
          53.45000076293945,
          53.56000137329102,
          53.68999862670898,
          53.86000061035156,
          53.97999954223633,
          54.040000915527344,
          54.08000183105469,
          54.11000061035156,
          54.1599998474121,
          54.20000076293945,
          54.2400016784668,
          54.27000045776367,
          54.27999877929688,
          54.29999923706055,
          54.29999923706055,
          54.27000045776367,
          54.2400016784668,
          54.20000076293945,
          54.16999816894531,
          54.13999938964844,
          54.11999893188477,
          54.11000061035156,
          54.13000106811523,
          54.1599998474121,
          54.11999893188477,
          54.099998474121094,
          54.11999893188477,
          54.1500015258789,
          54.18000030517578,
          54.22999954223633,
          54.290000915527344,
          54.290000915527344,
          54.2400016784668,
          54.16999816894531,
          54.11000061035156,
          54.11000061035156,
          54.1599998474121,
          54.209999084472656,
          54.27000045776367,
          54.36000061035156,
          54.43000030517578,
          54.47000122070313
         ]
        },
        {
         "line": {
          "color": "blue",
          "width": 2
         },
         "mode": "lines",
         "name": "partner player",
         "type": "scatter",
         "uid": "1de1c0c5-89ac-4574-b50c-ba4ca83ca299",
         "x": [
          19.8799991607666,
          19.8700008392334,
          19.860000610351566,
          19.850000381469727,
          19.860000610351566,
          19.8700008392334,
          19.8700008392334,
          19.8700008392334,
          19.860000610351566,
          19.860000610351566,
          19.860000610351566,
          19.8700008392334,
          19.860000610351566,
          19.850000381469727,
          19.8799991607666,
          19.88999938964844,
          19.88999938964844,
          19.90999984741211,
          19.90999984741211,
          19.88999938964844,
          19.88999938964844,
          19.8799991607666,
          19.8700008392334,
          19.8799991607666,
          19.8700008392334,
          19.8700008392334,
          19.850000381469727,
          19.81999969482421,
          19.790000915527344,
          19.770000457763672,
          19.770000457763672,
          19.770000457763672,
          19.76000022888184,
          19.75,
          19.75,
          19.729999542236328,
          19.729999542236328,
          19.75,
          19.770000457763672,
          19.770000457763672,
          19.770000457763672,
          19.770000457763672,
          19.790000915527344,
          19.840000152587887,
          19.88999938964844,
          19.950000762939453,
          20.030000686645508,
          20.100000381469727,
          20.170000076293945,
          20.270000457763672,
          20.3700008392334,
          20.440000534057614,
          20.46999931335449,
          20.459999084472656,
          20.420000076293945,
          20.3700008392334,
          20.280000686645508,
          20.110000610351566,
          19.899999618530273,
          19.65999984741211,
          19.420000076293945,
          19.170000076293945,
          18.93000030517578,
          18.649999618530273,
          18.32999992370605,
          18,
          17.670000076293945,
          17.319999694824222,
          16.959999084472653,
          16.610000610351566,
          16.25,
          15.869999885559082,
          15.460000038146973,
          15.06999969482422,
          14.75,
          14.380000114440918,
          14.010000228881836,
          13.649999618530273,
          13.289999961853027,
          12.93000030517578,
          12.590000152587892,
          12.3100004196167,
          12.020000457763672,
          11.8100004196167,
          11.659999847412108,
          11.539999961853027,
          11.479999542236328,
          11.489999771118164,
          11.590000152587892,
          11.789999961853027,
          11.920000076293945,
          11.979999542236328,
          11.9399995803833,
          11.829999923706055,
          11.670000076293945,
          11.5,
          11.31999969482422,
          11.149999618530273,
          11.029999732971193,
          10.909999847412108,
          10.720000267028807,
          10.520000457763672,
          10.550000190734863,
          10.649999618530273,
          10.729999542236328,
          10.869999885559082,
          11.0600004196167,
          11.149999618530273,
          11.229999542236328,
          11.329999923706055,
          11.390000343322756,
          11.43000030517578,
          11.449999809265135,
          11.380000114440918,
          11.289999961853027,
          11.279999732971193,
          11.289999961853027,
          11.31999969482422,
          11.350000381469727,
          11.43000030517578,
          11.5,
          11.640000343322756,
          11.779999732971193,
          11.909999847412108,
          12.020000457763672,
          12.100000381469727,
          12.18000030517578,
          12.270000457763672,
          12.390000343322756,
          12.479999542236328,
          12.590000152587892,
          12.659999847412108,
          12.739999771118164,
          12.880000114440918,
          13.039999961853027,
          13.1899995803833,
          13.359999656677244,
          13.550000190734865,
          13.729999542236328,
          13.9399995803833,
          14.109999656677244,
          14.239999771118164,
          14.390000343322756,
          14.600000381469727,
          14.800000190734865,
          15.029999732971193,
          15.3100004196167,
          15.489999771118164,
          15.600000381469727,
          15.739999771118164,
          15.909999847412108,
          16.180000305175778,
          16.379999160766598,
          16.559999465942386,
          16.719999313354492,
          16.860000610351566,
          17.010000228881836,
          17.209999084472653,
          17.430000305175778,
          17.65999984741211,
          17.84000015258789,
          17.979999542236328,
          18.1200008392334,
          18.31999969482421,
          18.57999992370605,
          18.82999992370605,
          19.06999969482421,
          19.299999237060547,
          19.5,
          19.690000534057614,
          19.88999938964844,
          20.090000152587887,
          20.340000152587887,
          20.61000061035156,
          20.860000610351566,
          21.06999969482421,
          21.270000457763672,
          21.5,
          21.709999084472656,
          21.920000076293945,
          22.170000076293945,
          22.399999618530273,
          22.6200008392334,
          22.79999923706055,
          22.989999771118164,
          23.209999084472656,
          23.479999542236328,
          23.739999771118164,
          23.979999542236328,
          24.21999931335449,
          24.440000534057607,
          24.649999618530273,
          24.8799991607666,
          25.1299991607666,
          25.399999618530273,
          25.649999618530273,
          25.88999938964844,
          26.1200008392334,
          26.32999992370605,
          26.54999923706055,
          26.819999694824208,
          27.10000038146973,
          27.35000038146973,
          27.59000015258789,
          27.79999923706055,
          28.020000457763672,
          28.25
         ],
         "y": [
          29.739999771118164,
          29.729999542236328,
          29.739999771118164,
          29.739999771118164,
          29.739999771118164,
          29.76000022888184,
          29.76000022888184,
          29.770000457763672,
          29.78000068664551,
          29.790000915527344,
          29.809999465942386,
          29.809999465942386,
          29.790000915527344,
          29.76000022888184,
          29.75,
          29.739999771118164,
          29.739999771118164,
          29.739999771118164,
          29.75,
          29.729999542236328,
          29.729999542236328,
          29.68000030517578,
          29.68000030517578,
          29.70000076293945,
          29.690000534057607,
          29.690000534057607,
          29.709999084472656,
          29.76000022888184,
          29.79999923706055,
          29.84000015258789,
          29.93000030517578,
          30.04999923706055,
          30.25,
          30.489999771118164,
          30.76000022888184,
          31.110000610351573,
          31.46999931335449,
          31.8799991607666,
          32.279998779296875,
          32.72999954223633,
          33.18000030517578,
          33.669998168945305,
          34.16999816894532,
          34.65999984741211,
          35.15999984741211,
          35.630001068115234,
          36.099998474121094,
          36.63999938964844,
          37.16999816894531,
          37.709999084472656,
          38.2400016784668,
          38.77000045776367,
          39.27000045776367,
          39.77000045776367,
          40.27000045776367,
          40.7599983215332,
          41.2400016784668,
          41.709999084472656,
          42.180000305175774,
          42.63999938964844,
          43.06999969482422,
          43.52000045776367,
          44.0099983215332,
          44.47000122070313,
          44.93999862670898,
          45.4099998474121,
          45.86000061035156,
          46.31999969482422,
          46.75,
          47.16999816894531,
          47.599998474121094,
          48.02999877929688,
          48.45000076293945,
          48.86999893188477,
          49.31999969482422,
          49.7599983215332,
          50.2400016784668,
          50.68999862670898,
          51.11000061035156,
          51.47000122070313,
          51.84000015258789,
          52.22000122070313,
          52.52000045776367,
          52.7400016784668,
          52.95000076293945,
          53.06000137329102,
          53.06999969482422,
          53.11000061035156,
          53.13000106811523,
          52.9900016784668,
          52.83000183105469,
          52.63999938964844,
          52.459999084472656,
          52.2599983215332,
          52.02000045776367,
          51.790000915527344,
          51.599998474121094,
          51.38000106811523,
          51.22999954223633,
          51.13999938964844,
          51.11000061035156,
          51.11999893188477,
          51.09000015258789,
          51.09000015258789,
          51.04999923706055,
          50.9900016784668,
          50.9000015258789,
          50.77000045776367,
          50.6500015258789,
          50.56000137329102,
          50.56999969482422,
          50.68000030517578,
          50.83000183105469,
          51.02000045776367,
          51.20000076293945,
          51.33000183105469,
          51.38000106811523,
          51.33000183105469,
          51.209999084472656,
          51.09000015258789,
          50.9000015258789,
          50.72000122070313,
          50.56000137329102,
          50.38999938964844,
          50.22999954223633,
          50.09000015258789,
          49.93000030517578,
          49.75,
          49.56000137329102,
          49.33000183105469,
          49.11999893188477,
          48.9099998474121,
          48.7400016784668,
          48.56000137329102,
          48.43000030517578,
          48.25,
          48.06000137329102,
          47.86999893188477,
          47.6599998474121,
          47.43999862670898,
          47.22000122070313,
          47,
          46.75,
          46.52000045776367,
          46.290000915527344,
          46.09000015258789,
          45.95000076293945,
          45.709999084472656,
          45.4099998474121,
          45.11000061035156,
          44.83000183105469,
          44.540000915527344,
          44.209999084472656,
          43.91999816894531,
          43.63999938964844,
          43.38000106811523,
          43.11000061035156,
          42.84000015258789,
          42.540000915527344,
          42.2400016784668,
          41.93999862670898,
          41.63000106811523,
          41.33000183105469,
          41.02000045776367,
          40.72000122070313,
          40.41999816894531,
          40.099998474121094,
          39.790000915527344,
          39.459999084472656,
          39.11999893188477,
          38.77999877929688,
          38.459999084472656,
          38.13999938964844,
          37.84000015258789,
          37.540000915527344,
          37.22999954223633,
          36.93999862670898,
          36.650001525878906,
          36.349998474121094,
          36.040000915527344,
          35.7400016784668,
          35.43000030517578,
          35.130001068115234,
          34.810001373291016,
          34.509998321533196,
          34.209999084472656,
          33.91999816894532,
          33.61000061035157,
          33.290000915527344,
          32.959999084472656,
          32.610000610351555,
          32.279998779296875,
          31.96999931335449,
          31.68000030517578,
          31.38999938964844,
          31.10000038146973,
          30.79999923706055,
          30.489999771118164,
          30.190000534057607,
          29.899999618530273,
          29.60000038146973,
          29.319999694824208,
          29.03000068664551,
          28.739999771118164,
          28.459999084472656,
          28.18000030517578,
          27.90999984741211
         ]
        }
       ],
       "frames": [
        {
         "data": [
          {
           "marker": {
            "color": "blue",
            "size": 10
           },
           "mode": "markers",
           "type": "scatter",
           "x": [
            59.58000183105469
           ],
           "y": [
            30.729999542236328
           ]
          },
          {
           "marker": {
            "color": "orange",
            "size": 10
           },
           "mode": "markers",
           "type": "scatter",
           "x": [
            19.8799991607666
           ],
           "y": [
            29.739999771118164
           ]
          }
         ]
        },
        {
         "data": [
          {
           "marker": {
            "color": "blue",
            "size": 10
           },
           "mode": "markers",
           "type": "scatter",
           "x": [
            59.77999877929688
           ],
           "y": [
            30.71999931335449
           ]
          },
          {
           "marker": {
            "color": "orange",
            "size": 10
           },
           "mode": "markers",
           "type": "scatter",
           "x": [
            19.8700008392334
           ],
           "y": [
            29.76000022888184
           ]
          }
         ]
        },
        {
         "data": [
          {
           "marker": {
            "color": "blue",
            "size": 10
           },
           "mode": "markers",
           "type": "scatter",
           "x": [
            60.4900016784668
           ],
           "y": [
            30.70000076293945
           ]
          },
          {
           "marker": {
            "color": "orange",
            "size": 10
           },
           "mode": "markers",
           "type": "scatter",
           "x": [
            19.860000610351566
           ],
           "y": [
            29.809999465942386
           ]
          }
         ]
        },
        {
         "data": [
          {
           "marker": {
            "color": "blue",
            "size": 10
           },
           "mode": "markers",
           "type": "scatter",
           "x": [
            61.36999893188477
           ],
           "y": [
            30.59000015258789
           ]
          },
          {
           "marker": {
            "color": "orange",
            "size": 10
           },
           "mode": "markers",
           "type": "scatter",
           "x": [
            19.88999938964844
           ],
           "y": [
            29.739999771118164
           ]
          }
         ]
        },
        {
         "data": [
          {
           "marker": {
            "color": "blue",
            "size": 10
           },
           "mode": "markers",
           "type": "scatter",
           "x": [
            61.68999862670898
           ],
           "y": [
            31.319999694824208
           ]
          },
          {
           "marker": {
            "color": "orange",
            "size": 10
           },
           "mode": "markers",
           "type": "scatter",
           "x": [
            19.88999938964844
           ],
           "y": [
            29.729999542236328
           ]
          }
         ]
        },
        {
         "data": [
          {
           "marker": {
            "color": "blue",
            "size": 10
           },
           "mode": "markers",
           "type": "scatter",
           "x": [
            61.18000030517578
           ],
           "y": [
            32.880001068115234
           ]
          },
          {
           "marker": {
            "color": "orange",
            "size": 10
           },
           "mode": "markers",
           "type": "scatter",
           "x": [
            19.8700008392334
           ],
           "y": [
            29.690000534057607
           ]
          }
         ]
        },
        {
         "data": [
          {
           "marker": {
            "color": "blue",
            "size": 10
           },
           "mode": "markers",
           "type": "scatter",
           "x": [
            59.290000915527344
           ],
           "y": [
            34.830001831054695
           ]
          },
          {
           "marker": {
            "color": "orange",
            "size": 10
           },
           "mode": "markers",
           "type": "scatter",
           "x": [
            19.770000457763672
           ],
           "y": [
            29.93000030517578
           ]
          }
         ]
        },
        {
         "data": [
          {
           "marker": {
            "color": "blue",
            "size": 10
           },
           "mode": "markers",
           "type": "scatter",
           "x": [
            56.36999893188477
           ],
           "y": [
            36.36000061035156
           ]
          },
          {
           "marker": {
            "color": "orange",
            "size": 10
           },
           "mode": "markers",
           "type": "scatter",
           "x": [
            19.729999542236328
           ],
           "y": [
            31.110000610351573
           ]
          }
         ]
        },
        {
         "data": [
          {
           "marker": {
            "color": "blue",
            "size": 10
           },
           "mode": "markers",
           "type": "scatter",
           "x": [
            53.36000061035156
           ],
           "y": [
            38.36999893188477
           ]
          },
          {
           "marker": {
            "color": "orange",
            "size": 10
           },
           "mode": "markers",
           "type": "scatter",
           "x": [
            19.770000457763672
           ],
           "y": [
            33.18000030517578
           ]
          }
         ]
        },
        {
         "data": [
          {
           "marker": {
            "color": "blue",
            "size": 10
           },
           "mode": "markers",
           "type": "scatter",
           "x": [
            50.22999954223633
           ],
           "y": [
            40.1599998474121
           ]
          },
          {
           "marker": {
            "color": "orange",
            "size": 10
           },
           "mode": "markers",
           "type": "scatter",
           "x": [
            19.950000762939453
           ],
           "y": [
            35.630001068115234
           ]
          }
         ]
        },
        {
         "data": [
          {
           "marker": {
            "color": "blue",
            "size": 10
           },
           "mode": "markers",
           "type": "scatter",
           "x": [
            46.349998474121094
           ],
           "y": [
            41.58000183105469
           ]
          },
          {
           "marker": {
            "color": "orange",
            "size": 10
           },
           "mode": "markers",
           "type": "scatter",
           "x": [
            20.3700008392334
           ],
           "y": [
            38.2400016784668
           ]
          }
         ]
        },
        {
         "data": [
          {
           "marker": {
            "color": "blue",
            "size": 10
           },
           "mode": "markers",
           "type": "scatter",
           "x": [
            42.180000305175774
           ],
           "y": [
            42.41999816894531
           ]
          },
          {
           "marker": {
            "color": "orange",
            "size": 10
           },
           "mode": "markers",
           "type": "scatter",
           "x": [
            20.3700008392334
           ],
           "y": [
            40.7599983215332
           ]
          }
         ]
        },
        {
         "data": [
          {
           "marker": {
            "color": "blue",
            "size": 10
           },
           "mode": "markers",
           "type": "scatter",
           "x": [
            37.7400016784668
           ],
           "y": [
            42.97999954223633
           ]
          },
          {
           "marker": {
            "color": "orange",
            "size": 10
           },
           "mode": "markers",
           "type": "scatter",
           "x": [
            19.420000076293945
           ],
           "y": [
            43.06999969482422
           ]
          }
         ]
        },
        {
         "data": [
          {
           "marker": {
            "color": "blue",
            "size": 10
           },
           "mode": "markers",
           "type": "scatter",
           "x": [
            33.47999954223633
           ],
           "y": [
            43.63999938964844
           ]
          },
          {
           "marker": {
            "color": "orange",
            "size": 10
           },
           "mode": "markers",
           "type": "scatter",
           "x": [
            18
           ],
           "y": [
            45.4099998474121
           ]
          }
         ]
        },
        {
         "data": [
          {
           "marker": {
            "color": "blue",
            "size": 10
           },
           "mode": "markers",
           "type": "scatter",
           "x": [
            29.459999084472656
           ],
           "y": [
            44.7400016784668
           ]
          },
          {
           "marker": {
            "color": "orange",
            "size": 10
           },
           "mode": "markers",
           "type": "scatter",
           "x": [
            16.25
           ],
           "y": [
            47.599998474121094
           ]
          }
         ]
        },
        {
         "data": [
          {
           "marker": {
            "color": "blue",
            "size": 10
           },
           "mode": "markers",
           "type": "scatter",
           "x": [
            25.57999992370605
           ],
           "y": [
            46.43999862670898
           ]
          },
          {
           "marker": {
            "color": "orange",
            "size": 10
           },
           "mode": "markers",
           "type": "scatter",
           "x": [
            14.380000114440918
           ],
           "y": [
            49.7599983215332
           ]
          }
         ]
        },
        {
         "data": [
          {
           "marker": {
            "color": "blue",
            "size": 10
           },
           "mode": "markers",
           "type": "scatter",
           "x": [
            21.729999542236328
           ],
           "y": [
            48.38000106811523
           ]
          },
          {
           "marker": {
            "color": "orange",
            "size": 10
           },
           "mode": "markers",
           "type": "scatter",
           "x": [
            12.590000152587892
           ],
           "y": [
            51.84000015258789
           ]
          }
         ]
        },
        {
         "data": [
          {
           "marker": {
            "color": "blue",
            "size": 10
           },
           "mode": "markers",
           "type": "scatter",
           "x": [
            17.829999923706055
           ],
           "y": [
            50.209999084472656
           ]
          },
          {
           "marker": {
            "color": "orange",
            "size": 10
           },
           "mode": "markers",
           "type": "scatter",
           "x": [
            11.539999961853027
           ],
           "y": [
            53.06000137329102
           ]
          }
         ]
        },
        {
         "data": [
          {
           "marker": {
            "color": "blue",
            "size": 10
           },
           "mode": "markers",
           "type": "scatter",
           "x": [
            14.090000152587892
           ],
           "y": [
            51.790000915527344
           ]
          },
          {
           "marker": {
            "color": "orange",
            "size": 10
           },
           "mode": "markers",
           "type": "scatter",
           "x": [
            11.920000076293945
           ],
           "y": [
            52.83000183105469
           ]
          }
         ]
        },
        {
         "data": [
          {
           "marker": {
            "color": "blue",
            "size": 10
           },
           "mode": "markers",
           "type": "scatter",
           "x": [
            10.880000114440918
           ],
           "y": [
            52.77999877929688
           ]
          },
          {
           "marker": {
            "color": "orange",
            "size": 10
           },
           "mode": "markers",
           "type": "scatter",
           "x": [
            11.5
           ],
           "y": [
            51.790000915527344
           ]
          }
         ]
        },
        {
         "data": [
          {
           "marker": {
            "color": "blue",
            "size": 10
           },
           "mode": "markers",
           "type": "scatter",
           "x": [
            10.090000152587892
           ],
           "y": [
            53.06000137329102
           ]
          },
          {
           "marker": {
            "color": "orange",
            "size": 10
           },
           "mode": "markers",
           "type": "scatter",
           "x": [
            10.720000267028807
           ],
           "y": [
            51.11000061035156
           ]
          }
         ]
        },
        {
         "data": [
          {
           "marker": {
            "color": "blue",
            "size": 10
           },
           "mode": "markers",
           "type": "scatter",
           "x": [
            10.329999923706056
           ],
           "y": [
            53.040000915527344
           ]
          },
          {
           "marker": {
            "color": "orange",
            "size": 10
           },
           "mode": "markers",
           "type": "scatter",
           "x": [
            10.869999885559082
           ],
           "y": [
            50.9900016784668
           ]
          }
         ]
        },
        {
         "data": [
          {
           "marker": {
            "color": "blue",
            "size": 10
           },
           "mode": "markers",
           "type": "scatter",
           "x": [
            10.31999969482422
           ],
           "y": [
            53.0099983215332
           ]
          },
          {
           "marker": {
            "color": "orange",
            "size": 10
           },
           "mode": "markers",
           "type": "scatter",
           "x": [
            11.390000343322756
           ],
           "y": [
            50.56999969482422
           ]
          }
         ]
        },
        {
         "data": [
          {
           "marker": {
            "color": "blue",
            "size": 10
           },
           "mode": "markers",
           "type": "scatter",
           "x": [
            10.729999542236328
           ],
           "y": [
            52.72000122070313
           ]
          },
          {
           "marker": {
            "color": "orange",
            "size": 10
           },
           "mode": "markers",
           "type": "scatter",
           "x": [
            11.279999732971193
           ],
           "y": [
            51.33000183105469
           ]
          }
         ]
        },
        {
         "data": [
          {
           "marker": {
            "color": "blue",
            "size": 10
           },
           "mode": "markers",
           "type": "scatter",
           "x": [
            11.100000381469727
           ],
           "y": [
            52.77000045776367
           ]
          },
          {
           "marker": {
            "color": "orange",
            "size": 10
           },
           "mode": "markers",
           "type": "scatter",
           "x": [
            11.5
           ],
           "y": [
            50.9000015258789
           ]
          }
         ]
        },
        {
         "data": [
          {
           "marker": {
            "color": "blue",
            "size": 10
           },
           "mode": "markers",
           "type": "scatter",
           "x": [
            11.199999809265137
           ],
           "y": [
            52.81000137329102
           ]
          },
          {
           "marker": {
            "color": "orange",
            "size": 10
           },
           "mode": "markers",
           "type": "scatter",
           "x": [
            12.100000381469727
           ],
           "y": [
            50.09000015258789
           ]
          }
         ]
        },
        {
         "data": [
          {
           "marker": {
            "color": "blue",
            "size": 10
           },
           "mode": "markers",
           "type": "scatter",
           "x": [
            11.3100004196167
           ],
           "y": [
            52.68000030517578
           ]
          },
          {
           "marker": {
            "color": "orange",
            "size": 10
           },
           "mode": "markers",
           "type": "scatter",
           "x": [
            12.590000152587892
           ],
           "y": [
            49.11999893188477
           ]
          }
         ]
        },
        {
         "data": [
          {
           "marker": {
            "color": "blue",
            "size": 10
           },
           "mode": "markers",
           "type": "scatter",
           "x": [
            11.239999771118164
           ],
           "y": [
            52.95000076293945
           ]
          },
          {
           "marker": {
            "color": "orange",
            "size": 10
           },
           "mode": "markers",
           "type": "scatter",
           "x": [
            13.1899995803833
           ],
           "y": [
            48.25
           ]
          }
         ]
        },
        {
         "data": [
          {
           "marker": {
            "color": "blue",
            "size": 10
           },
           "mode": "markers",
           "type": "scatter",
           "x": [
            11.020000457763672
           ],
           "y": [
            53.1500015258789
           ]
          },
          {
           "marker": {
            "color": "orange",
            "size": 10
           },
           "mode": "markers",
           "type": "scatter",
           "x": [
            14.109999656677244
           ],
           "y": [
            47.22000122070313
           ]
          }
         ]
        },
        {
         "data": [
          {
           "marker": {
            "color": "blue",
            "size": 10
           },
           "mode": "markers",
           "type": "scatter",
           "x": [
            11.090000152587892
           ],
           "y": [
            53.27999877929688
           ]
          },
          {
           "marker": {
            "color": "orange",
            "size": 10
           },
           "mode": "markers",
           "type": "scatter",
           "x": [
            15.029999732971193
           ],
           "y": [
            46.09000015258789
           ]
          }
         ]
        },
        {
         "data": [
          {
           "marker": {
            "color": "blue",
            "size": 10
           },
           "mode": "markers",
           "type": "scatter",
           "x": [
            10.970000267028807
           ],
           "y": [
            53.709999084472656
           ]
          },
          {
           "marker": {
            "color": "orange",
            "size": 10
           },
           "mode": "markers",
           "type": "scatter",
           "x": [
            15.909999847412108
           ],
           "y": [
            44.83000183105469
           ]
          }
         ]
        },
        {
         "data": [
          {
           "marker": {
            "color": "blue",
            "size": 10
           },
           "mode": "markers",
           "type": "scatter",
           "x": [
            11.149999618530273
           ],
           "y": [
            53.7400016784668
           ]
          },
          {
           "marker": {
            "color": "orange",
            "size": 10
           },
           "mode": "markers",
           "type": "scatter",
           "x": [
            16.860000610351566
           ],
           "y": [
            43.38000106811523
           ]
          }
         ]
        },
        {
         "data": [
          {
           "marker": {
            "color": "blue",
            "size": 10
           },
           "mode": "markers",
           "type": "scatter",
           "x": [
            11.100000381469727
           ],
           "y": [
            53.709999084472656
           ]
          },
          {
           "marker": {
            "color": "orange",
            "size": 10
           },
           "mode": "markers",
           "type": "scatter",
           "x": [
            17.84000015258789
           ],
           "y": [
            41.93999862670898
           ]
          }
         ]
        },
        {
         "data": [
          {
           "marker": {
            "color": "blue",
            "size": 10
           },
           "mode": "markers",
           "type": "scatter",
           "x": [
            11
           ],
           "y": [
            53.45000076293945
           ]
          },
          {
           "marker": {
            "color": "orange",
            "size": 10
           },
           "mode": "markers",
           "type": "scatter",
           "x": [
            18.82999992370605
           ],
           "y": [
            40.41999816894531
           ]
          }
         ]
        },
        {
         "data": [
          {
           "marker": {
            "color": "blue",
            "size": 10
           },
           "mode": "markers",
           "type": "scatter",
           "x": [
            10.779999732971193
           ],
           "y": [
            54.040000915527344
           ]
          },
          {
           "marker": {
            "color": "orange",
            "size": 10
           },
           "mode": "markers",
           "type": "scatter",
           "x": [
            19.88999938964844
           ],
           "y": [
            38.77999877929688
           ]
          }
         ]
        },
        {
         "data": [
          {
           "marker": {
            "color": "blue",
            "size": 10
           },
           "mode": "markers",
           "type": "scatter",
           "x": [
            10.649999618530273
           ],
           "y": [
            54.2400016784668
           ]
          },
          {
           "marker": {
            "color": "orange",
            "size": 10
           },
           "mode": "markers",
           "type": "scatter",
           "x": [
            21.06999969482421
           ],
           "y": [
            37.22999954223633
           ]
          }
         ]
        },
        {
         "data": [
          {
           "marker": {
            "color": "blue",
            "size": 10
           },
           "mode": "markers",
           "type": "scatter",
           "x": [
            10.479999542236328
           ],
           "y": [
            54.27000045776367
           ]
          },
          {
           "marker": {
            "color": "orange",
            "size": 10
           },
           "mode": "markers",
           "type": "scatter",
           "x": [
            22.170000076293945
           ],
           "y": [
            35.7400016784668
           ]
          }
         ]
        },
        {
         "data": [
          {
           "marker": {
            "color": "blue",
            "size": 10
           },
           "mode": "markers",
           "type": "scatter",
           "x": [
            10.630000114440918
           ],
           "y": [
            54.11999893188477
           ]
          },
          {
           "marker": {
            "color": "orange",
            "size": 10
           },
           "mode": "markers",
           "type": "scatter",
           "x": [
            23.209999084472656
           ],
           "y": [
            34.209999084472656
           ]
          }
         ]
        },
        {
         "data": [
          {
           "marker": {
            "color": "blue",
            "size": 10
           },
           "mode": "markers",
           "type": "scatter",
           "x": [
            10.289999961853027
           ],
           "y": [
            54.099998474121094
           ]
          },
          {
           "marker": {
            "color": "orange",
            "size": 10
           },
           "mode": "markers",
           "type": "scatter",
           "x": [
            24.440000534057607
           ],
           "y": [
            32.610000610351555
           ]
          }
         ]
        },
        {
         "data": [
          {
           "marker": {
            "color": "blue",
            "size": 10
           },
           "mode": "markers",
           "type": "scatter",
           "x": [
            9.970000267028807
           ],
           "y": [
            54.290000915527344
           ]
          },
          {
           "marker": {
            "color": "orange",
            "size": 10
           },
           "mode": "markers",
           "type": "scatter",
           "x": [
            25.649999618530273
           ],
           "y": [
            31.10000038146973
           ]
          }
         ]
        },
        {
         "data": [
          {
           "marker": {
            "color": "blue",
            "size": 10
           },
           "mode": "markers",
           "type": "scatter",
           "x": [
            10.25
           ],
           "y": [
            54.11000061035156
           ]
          },
          {
           "marker": {
            "color": "orange",
            "size": 10
           },
           "mode": "markers",
           "type": "scatter",
           "x": [
            26.819999694824208
           ],
           "y": [
            29.60000038146973
           ]
          }
         ]
        },
        {
         "data": [
          {
           "marker": {
            "color": "blue",
            "size": 10
           },
           "mode": "markers",
           "type": "scatter",
           "x": [
            10.590000152587892
           ],
           "y": [
            54.43000030517578
           ]
          },
          {
           "marker": {
            "color": "orange",
            "size": 10
           },
           "mode": "markers",
           "type": "scatter",
           "x": [
            28.020000457763672
           ],
           "y": [
            28.18000030517578
           ]
          }
         ]
        }
       ],
       "layout": {
        "hovermode": "closest",
        "plot_bgcolor": "darkseagreen",
        "shapes": [
         {
          "layer": "below",
          "line": {
           "color": "white",
           "width": 2
          },
          "type": "line",
          "x0": 0,
          "x1": 120,
          "y0": 0,
          "y1": 0
         },
         {
          "layer": "below",
          "line": {
           "color": "white",
           "width": 2
          },
          "type": "line",
          "x0": 0,
          "x1": 120,
          "y0": 53.3,
          "y1": 53.3
         },
         {
          "layer": "below",
          "line": {
           "color": "white",
           "width": 10
          },
          "type": "line",
          "x0": 10,
          "x1": 10,
          "y0": 0,
          "y1": 53.3
         },
         {
          "layer": "below",
          "line": {
           "color": "white"
          },
          "type": "line",
          "x0": 20,
          "x1": 20,
          "y0": 0,
          "y1": 53.3
         },
         {
          "layer": "below",
          "line": {
           "color": "white"
          },
          "type": "line",
          "x0": 30,
          "x1": 30,
          "y0": 0,
          "y1": 53.3
         },
         {
          "layer": "below",
          "line": {
           "color": "white"
          },
          "type": "line",
          "x0": 40,
          "x1": 40,
          "y0": 0,
          "y1": 53.3
         },
         {
          "layer": "below",
          "line": {
           "color": "white"
          },
          "type": "line",
          "x0": 50,
          "x1": 50,
          "y0": 0,
          "y1": 53.3
         },
         {
          "layer": "below",
          "line": {
           "color": "white"
          },
          "type": "line",
          "x0": 60,
          "x1": 60,
          "y0": 0,
          "y1": 53.3
         },
         {
          "layer": "below",
          "line": {
           "color": "white"
          },
          "type": "line",
          "x0": 70,
          "x1": 70,
          "y0": 0,
          "y1": 53.3
         },
         {
          "layer": "below",
          "line": {
           "color": "white"
          },
          "type": "line",
          "x0": 80,
          "x1": 80,
          "y0": 0,
          "y1": 53.3
         },
         {
          "layer": "below",
          "line": {
           "color": "white"
          },
          "type": "line",
          "x0": 90,
          "x1": 90,
          "y0": 0,
          "y1": 53.3
         },
         {
          "layer": "below",
          "line": {
           "color": "white"
          },
          "type": "line",
          "x0": 100,
          "x1": 100,
          "y0": 0,
          "y1": 53.3
         },
         {
          "layer": "below",
          "line": {
           "color": "white",
           "width": 10
          },
          "type": "line",
          "x0": 110,
          "x1": 110,
          "y0": 0,
          "y1": 53.3
         }
        ],
        "showlegend": true,
        "title": "Player Activity",
        "updatemenus": [
         {
          "buttons": [
           {
            "args": [
             null
            ],
            "label": "Play",
            "method": "animate"
           }
          ],
          "type": "buttons"
         }
        ],
        "xaxis": {
         "autorange": false,
         "linecolor": "black",
         "linewidth": 1,
         "mirror": true,
         "range": [
          0,
          120
         ],
         "showgrid": false,
         "showline": true,
         "showticklabels": true,
         "tickmode": "array",
         "ticks": "",
         "ticktext": [
          "Goal",
          10,
          20,
          30,
          40,
          50,
          40,
          30,
          20,
          10,
          "Goal"
         ],
         "tickvals": [
          10,
          20,
          30,
          40,
          50,
          60,
          70,
          80,
          90,
          100,
          110
         ],
         "zeroline": false
        },
        "yaxis": {
         "autorange": false,
         "linecolor": "black",
         "linewidth": 1,
         "mirror": true,
         "range": [
          -3.3,
          56.3
         ],
         "showgrid": false,
         "showline": true,
         "showticklabels": false,
         "ticks": "",
         "title": "",
         "zeroline": false
        }
       }
      },
      "text/html": [
       "<div id=\"f15960ba-7be6-4769-ab19-99dd25999b2a\" style=\"height: 525px; width: 100%;\" class=\"plotly-graph-div\"></div><script type=\"text/javascript\">require([\"plotly\"], function(Plotly) { window.PLOTLYENV=window.PLOTLYENV || {};window.PLOTLYENV.BASE_URL=\"https://plot.ly\";\n",
       "        Plotly.plot(\n",
       "            'f15960ba-7be6-4769-ab19-99dd25999b2a',\n",
       "            [{\"line\": {\"color\": \"blue\", \"width\": 2}, \"mode\": \"lines\", \"name\": \"injured player\", \"x\": [59.58000183105469, 59.56999969482422, 59.58000183105469, 59.61000061035156, 59.68000030517578, 59.77999877929688, 59.9099998474121, 60.040000915527344, 60.18000030517578, 60.31999969482422, 60.4900016784668, 60.68999862670898, 60.88000106811523, 61.06000137329102, 61.22999954223633, 61.36999893188477, 61.47000122070313, 61.54999923706055, 61.61999893188477, 61.68000030517578, 61.68999862670898, 61.66999816894531, 61.61999893188477, 61.5099983215332, 61.36999893188477, 61.18000030517578, 60.91999816894531, 60.59000015258789, 60.22000122070313, 59.790000915527344, 59.290000915527344, 58.7599983215332, 58.20000076293945, 57.599998474121094, 56.97999954223633, 56.36999893188477, 55.77000045776367, 55.18999862670898, 54.599998474121094, 53.9900016784668, 53.36000061035156, 52.70000076293945, 52.08000183105469, 51.52000045776367, 50.91999816894531, 50.22999954223633, 49.52000045776367, 48.77999877929688, 48.0, 47.16999816894531, 46.349998474121094, 45.54999923706055, 44.7400016784668, 43.88999938964844, 43.02999877929688, 42.180000305175774, 41.310001373291016, 40.41999816894531, 39.52999877929688, 38.63999938964844, 37.7400016784668, 36.849998474121094, 35.970001220703125, 35.139999389648445, 34.299999237060554, 33.47999954223633, 32.650001525878906, 31.84000015258789, 31.03000068664551, 30.239999771118164, 29.459999084472656, 28.68000030517578, 27.899999618530273, 27.149999618530273, 26.3799991607666, 25.57999992370605, 24.790000915527344, 24.01000022888184, 23.239999771118164, 22.489999771118164, 21.729999542236328, 20.959999084472656, 20.18000030517578, 19.399999618530273, 18.610000610351566, 17.829999923706055, 17.059999465942386, 16.309999465942386, 15.5600004196167, 14.81999969482422, 14.090000152587892, 13.409999847412108, 12.6899995803833, 11.949999809265135, 11.359999656677244, 10.880000114440918, 10.510000228881836, 10.289999961853027, 10.140000343322754, 10.06999969482422, 10.090000152587892, 10.149999618530273, 10.199999809265137, 10.260000228881836, 10.3100004196167, 10.329999923706056, 10.340000152587892, 10.3100004196167, 10.279999732971193, 10.289999961853027, 10.31999969482422, 10.3100004196167, 10.340000152587892, 10.4399995803833, 10.590000152587892, 10.729999542236328, 10.880000114440918, 11.010000228881836, 11.079999923706056, 11.109999656677246, 11.100000381469727, 11.090000152587892, 11.090000152587892, 11.109999656677246, 11.149999618530273, 11.199999809265137, 11.270000457763672, 11.359999656677244, 11.369999885559082, 11.340000152587892, 11.3100004196167, 11.289999961853027, 11.279999732971193, 11.270000457763672, 11.260000228881836, 11.239999771118164, 11.1899995803833, 11.119999885559082, 11.050000190734863, 11.020000457763672, 11.020000457763672, 11.050000190734863, 11.039999961853027, 11.079999923706056, 11.079999923706056, 11.090000152587892, 11.100000381469727, 11.109999656677246, 11.020000457763672, 10.949999809265137, 10.970000267028807, 11.079999923706056, 11.220000267028807, 11.270000457763672, 11.220000267028807, 11.149999618530273, 11.109999656677246, 11.100000381469727, 11.119999885559082, 11.119999885559082, 11.100000381469727, 11.039999961853027, 11.010000228881836, 11.020000457763672, 11.010000228881836, 11.0, 10.970000267028807, 10.9399995803833, 10.899999618530273, 10.859999656677246, 10.779999732971193, 10.710000038146973, 10.720000267028807, 10.710000038146973, 10.68000030517578, 10.649999618530273, 10.630000114440918, 10.609999656677246, 10.520000457763672, 10.460000038146973, 10.479999542236328, 10.510000228881836, 10.550000190734863, 10.579999923706056, 10.609999656677246, 10.630000114440918, 10.630000114440918, 10.609999656677246, 10.520000457763672, 10.380000114440918, 10.289999961853027, 10.25, 10.239999771118164, 10.25, 10.170000076293944, 9.970000267028807, 10.0600004196167, 10.109999656677246, 10.149999618530273, 10.199999809265137, 10.25, 10.329999923706056, 10.43000030517578, 10.5, 10.550000190734863, 10.590000152587892, 10.5600004196167], \"y\": [30.729999542236328, 30.729999542236328, 30.71999931335449, 30.71999931335449, 30.71999931335449, 30.71999931335449, 30.71999931335449, 30.71999931335449, 30.71999931335449, 30.71999931335449, 30.70000076293945, 30.65999984741211, 30.6200008392334, 30.610000610351573, 30.59000015258789, 30.59000015258789, 30.6299991607666, 30.76000022888184, 30.920000076293945, 31.1200008392334, 31.319999694824208, 31.559999465942386, 31.85000038146973, 32.189998626708984, 32.529998779296875, 32.880001068115234, 33.259998321533196, 33.669998168945305, 34.09000015258789, 34.47999954223633, 34.830001831054695, 35.16999816894532, 35.47999954223633, 35.7599983215332, 36.04999923706055, 36.36000061035156, 36.70000076293945, 37.08000183105469, 37.4900016784668, 37.930000305175774, 38.36999893188477, 38.790000915527344, 39.180000305175774, 39.5, 39.83000183105469, 40.1599998474121, 40.4900016784668, 40.77999877929688, 41.06999969482422, 41.34000015258789, 41.58000183105469, 41.77999877929688, 41.97000122070313, 42.13000106811523, 42.27999877929688, 42.41999816894531, 42.540000915527344, 42.650001525878906, 42.75, 42.86000061035156, 42.97999954223633, 43.09000015258789, 43.209999084472656, 43.34000015258789, 43.47999954223633, 43.63999938964844, 43.810001373291016, 44.0, 44.209999084472656, 44.47000122070313, 44.7400016784668, 45.040000915527344, 45.36000061035156, 45.709999084472656, 46.06999969482422, 46.43999862670898, 46.81999969482422, 47.209999084472656, 47.599998474121094, 48.0, 48.38000106811523, 48.75, 49.11999893188477, 49.47999954223633, 49.849998474121094, 50.209999084472656, 50.56999969482422, 50.9099998474121, 51.22999954223633, 51.52000045776367, 51.790000915527344, 52.02000045776367, 52.25, 52.4900016784668, 52.66999816894531, 52.77999877929688, 52.88000106811523, 52.97999954223633, 53.040000915527344, 53.04999923706055, 53.06000137329102, 53.09000015258789, 53.13000106811523, 53.11999893188477, 53.08000183105469, 53.040000915527344, 53.040000915527344, 53.04999923706055, 53.06000137329102, 53.02999877929688, 53.0099983215332, 53.0, 52.97000122070313, 52.88999938964844, 52.790000915527344, 52.72000122070313, 52.6599998474121, 52.66999816894531, 52.70000076293945, 52.709999084472656, 52.77000045776367, 52.83000183105469, 52.86999893188477, 52.88000106811523, 52.86000061035156, 52.81000137329102, 52.66999816894531, 52.47000122070313, 52.47999954223633, 52.56999969482422, 52.68000030517578, 52.77000045776367, 52.81999969482422, 52.86999893188477, 52.9000015258789, 52.95000076293945, 53.0, 53.04999923706055, 53.11000061035156, 53.1599998474121, 53.1500015258789, 53.099998474121094, 53.11000061035156, 53.1599998474121, 53.22000122070313, 53.27999877929688, 53.33000183105469, 53.4000015258789, 53.47000122070313, 53.58000183105469, 53.709999084472656, 53.79999923706055, 53.88000106811523, 53.93999862670898, 53.84000015258789, 53.7400016784668, 53.68999862670898, 53.6599998474121, 53.66999816894531, 53.68999862670898, 53.709999084472656, 53.6599998474121, 53.5099983215332, 53.38000106811523, 53.36000061035156, 53.45000076293945, 53.56000137329102, 53.68999862670898, 53.86000061035156, 53.97999954223633, 54.040000915527344, 54.08000183105469, 54.11000061035156, 54.1599998474121, 54.20000076293945, 54.2400016784668, 54.27000045776367, 54.27999877929688, 54.29999923706055, 54.29999923706055, 54.27000045776367, 54.2400016784668, 54.20000076293945, 54.16999816894531, 54.13999938964844, 54.11999893188477, 54.11000061035156, 54.13000106811523, 54.1599998474121, 54.11999893188477, 54.099998474121094, 54.11999893188477, 54.1500015258789, 54.18000030517578, 54.22999954223633, 54.290000915527344, 54.290000915527344, 54.2400016784668, 54.16999816894531, 54.11000061035156, 54.11000061035156, 54.1599998474121, 54.209999084472656, 54.27000045776367, 54.36000061035156, 54.43000030517578, 54.47000122070313], \"type\": \"scatter\", \"uid\": \"18248807-fdbc-4bc3-93d3-70b77833472d\"}, {\"line\": {\"color\": \"blue\", \"width\": 2}, \"mode\": \"lines\", \"name\": \"partner player\", \"x\": [19.8799991607666, 19.8700008392334, 19.860000610351566, 19.850000381469727, 19.860000610351566, 19.8700008392334, 19.8700008392334, 19.8700008392334, 19.860000610351566, 19.860000610351566, 19.860000610351566, 19.8700008392334, 19.860000610351566, 19.850000381469727, 19.8799991607666, 19.88999938964844, 19.88999938964844, 19.90999984741211, 19.90999984741211, 19.88999938964844, 19.88999938964844, 19.8799991607666, 19.8700008392334, 19.8799991607666, 19.8700008392334, 19.8700008392334, 19.850000381469727, 19.81999969482421, 19.790000915527344, 19.770000457763672, 19.770000457763672, 19.770000457763672, 19.76000022888184, 19.75, 19.75, 19.729999542236328, 19.729999542236328, 19.75, 19.770000457763672, 19.770000457763672, 19.770000457763672, 19.770000457763672, 19.790000915527344, 19.840000152587887, 19.88999938964844, 19.950000762939453, 20.030000686645508, 20.100000381469727, 20.170000076293945, 20.270000457763672, 20.3700008392334, 20.440000534057614, 20.46999931335449, 20.459999084472656, 20.420000076293945, 20.3700008392334, 20.280000686645508, 20.110000610351566, 19.899999618530273, 19.65999984741211, 19.420000076293945, 19.170000076293945, 18.93000030517578, 18.649999618530273, 18.32999992370605, 18.0, 17.670000076293945, 17.319999694824222, 16.959999084472653, 16.610000610351566, 16.25, 15.869999885559082, 15.460000038146973, 15.06999969482422, 14.75, 14.380000114440918, 14.010000228881836, 13.649999618530273, 13.289999961853027, 12.93000030517578, 12.590000152587892, 12.3100004196167, 12.020000457763672, 11.8100004196167, 11.659999847412108, 11.539999961853027, 11.479999542236328, 11.489999771118164, 11.590000152587892, 11.789999961853027, 11.920000076293945, 11.979999542236328, 11.9399995803833, 11.829999923706055, 11.670000076293945, 11.5, 11.31999969482422, 11.149999618530273, 11.029999732971193, 10.909999847412108, 10.720000267028807, 10.520000457763672, 10.550000190734863, 10.649999618530273, 10.729999542236328, 10.869999885559082, 11.0600004196167, 11.149999618530273, 11.229999542236328, 11.329999923706055, 11.390000343322756, 11.43000030517578, 11.449999809265135, 11.380000114440918, 11.289999961853027, 11.279999732971193, 11.289999961853027, 11.31999969482422, 11.350000381469727, 11.43000030517578, 11.5, 11.640000343322756, 11.779999732971193, 11.909999847412108, 12.020000457763672, 12.100000381469727, 12.18000030517578, 12.270000457763672, 12.390000343322756, 12.479999542236328, 12.590000152587892, 12.659999847412108, 12.739999771118164, 12.880000114440918, 13.039999961853027, 13.1899995803833, 13.359999656677244, 13.550000190734865, 13.729999542236328, 13.9399995803833, 14.109999656677244, 14.239999771118164, 14.390000343322756, 14.600000381469727, 14.800000190734865, 15.029999732971193, 15.3100004196167, 15.489999771118164, 15.600000381469727, 15.739999771118164, 15.909999847412108, 16.180000305175778, 16.379999160766598, 16.559999465942386, 16.719999313354492, 16.860000610351566, 17.010000228881836, 17.209999084472653, 17.430000305175778, 17.65999984741211, 17.84000015258789, 17.979999542236328, 18.1200008392334, 18.31999969482421, 18.57999992370605, 18.82999992370605, 19.06999969482421, 19.299999237060547, 19.5, 19.690000534057614, 19.88999938964844, 20.090000152587887, 20.340000152587887, 20.61000061035156, 20.860000610351566, 21.06999969482421, 21.270000457763672, 21.5, 21.709999084472656, 21.920000076293945, 22.170000076293945, 22.399999618530273, 22.6200008392334, 22.79999923706055, 22.989999771118164, 23.209999084472656, 23.479999542236328, 23.739999771118164, 23.979999542236328, 24.21999931335449, 24.440000534057607, 24.649999618530273, 24.8799991607666, 25.1299991607666, 25.399999618530273, 25.649999618530273, 25.88999938964844, 26.1200008392334, 26.32999992370605, 26.54999923706055, 26.819999694824208, 27.10000038146973, 27.35000038146973, 27.59000015258789, 27.79999923706055, 28.020000457763672, 28.25], \"y\": [29.739999771118164, 29.729999542236328, 29.739999771118164, 29.739999771118164, 29.739999771118164, 29.76000022888184, 29.76000022888184, 29.770000457763672, 29.78000068664551, 29.790000915527344, 29.809999465942386, 29.809999465942386, 29.790000915527344, 29.76000022888184, 29.75, 29.739999771118164, 29.739999771118164, 29.739999771118164, 29.75, 29.729999542236328, 29.729999542236328, 29.68000030517578, 29.68000030517578, 29.70000076293945, 29.690000534057607, 29.690000534057607, 29.709999084472656, 29.76000022888184, 29.79999923706055, 29.84000015258789, 29.93000030517578, 30.04999923706055, 30.25, 30.489999771118164, 30.76000022888184, 31.110000610351573, 31.46999931335449, 31.8799991607666, 32.279998779296875, 32.72999954223633, 33.18000030517578, 33.669998168945305, 34.16999816894532, 34.65999984741211, 35.15999984741211, 35.630001068115234, 36.099998474121094, 36.63999938964844, 37.16999816894531, 37.709999084472656, 38.2400016784668, 38.77000045776367, 39.27000045776367, 39.77000045776367, 40.27000045776367, 40.7599983215332, 41.2400016784668, 41.709999084472656, 42.180000305175774, 42.63999938964844, 43.06999969482422, 43.52000045776367, 44.0099983215332, 44.47000122070313, 44.93999862670898, 45.4099998474121, 45.86000061035156, 46.31999969482422, 46.75, 47.16999816894531, 47.599998474121094, 48.02999877929688, 48.45000076293945, 48.86999893188477, 49.31999969482422, 49.7599983215332, 50.2400016784668, 50.68999862670898, 51.11000061035156, 51.47000122070313, 51.84000015258789, 52.22000122070313, 52.52000045776367, 52.7400016784668, 52.95000076293945, 53.06000137329102, 53.06999969482422, 53.11000061035156, 53.13000106811523, 52.9900016784668, 52.83000183105469, 52.63999938964844, 52.459999084472656, 52.2599983215332, 52.02000045776367, 51.790000915527344, 51.599998474121094, 51.38000106811523, 51.22999954223633, 51.13999938964844, 51.11000061035156, 51.11999893188477, 51.09000015258789, 51.09000015258789, 51.04999923706055, 50.9900016784668, 50.9000015258789, 50.77000045776367, 50.6500015258789, 50.56000137329102, 50.56999969482422, 50.68000030517578, 50.83000183105469, 51.02000045776367, 51.20000076293945, 51.33000183105469, 51.38000106811523, 51.33000183105469, 51.209999084472656, 51.09000015258789, 50.9000015258789, 50.72000122070313, 50.56000137329102, 50.38999938964844, 50.22999954223633, 50.09000015258789, 49.93000030517578, 49.75, 49.56000137329102, 49.33000183105469, 49.11999893188477, 48.9099998474121, 48.7400016784668, 48.56000137329102, 48.43000030517578, 48.25, 48.06000137329102, 47.86999893188477, 47.6599998474121, 47.43999862670898, 47.22000122070313, 47.0, 46.75, 46.52000045776367, 46.290000915527344, 46.09000015258789, 45.95000076293945, 45.709999084472656, 45.4099998474121, 45.11000061035156, 44.83000183105469, 44.540000915527344, 44.209999084472656, 43.91999816894531, 43.63999938964844, 43.38000106811523, 43.11000061035156, 42.84000015258789, 42.540000915527344, 42.2400016784668, 41.93999862670898, 41.63000106811523, 41.33000183105469, 41.02000045776367, 40.72000122070313, 40.41999816894531, 40.099998474121094, 39.790000915527344, 39.459999084472656, 39.11999893188477, 38.77999877929688, 38.459999084472656, 38.13999938964844, 37.84000015258789, 37.540000915527344, 37.22999954223633, 36.93999862670898, 36.650001525878906, 36.349998474121094, 36.040000915527344, 35.7400016784668, 35.43000030517578, 35.130001068115234, 34.810001373291016, 34.509998321533196, 34.209999084472656, 33.91999816894532, 33.61000061035157, 33.290000915527344, 32.959999084472656, 32.610000610351555, 32.279998779296875, 31.96999931335449, 31.68000030517578, 31.38999938964844, 31.10000038146973, 30.79999923706055, 30.489999771118164, 30.190000534057607, 29.899999618530273, 29.60000038146973, 29.319999694824208, 29.03000068664551, 28.739999771118164, 28.459999084472656, 28.18000030517578, 27.90999984741211], \"type\": \"scatter\", \"uid\": \"4742e2f2-d927-4083-8fa6-5049880c0986\"}],\n",
       "            {\"hovermode\": \"closest\", \"plot_bgcolor\": \"darkseagreen\", \"shapes\": [{\"layer\": \"below\", \"line\": {\"color\": \"white\", \"width\": 2}, \"type\": \"line\", \"x0\": 0, \"x1\": 120, \"y0\": 0, \"y1\": 0}, {\"layer\": \"below\", \"line\": {\"color\": \"white\", \"width\": 2}, \"type\": \"line\", \"x0\": 0, \"x1\": 120, \"y0\": 53.3, \"y1\": 53.3}, {\"layer\": \"below\", \"line\": {\"color\": \"white\", \"width\": 10}, \"type\": \"line\", \"x0\": 10, \"x1\": 10, \"y0\": 0, \"y1\": 53.3}, {\"layer\": \"below\", \"line\": {\"color\": \"white\"}, \"type\": \"line\", \"x0\": 20, \"x1\": 20, \"y0\": 0, \"y1\": 53.3}, {\"layer\": \"below\", \"line\": {\"color\": \"white\"}, \"type\": \"line\", \"x0\": 30, \"x1\": 30, \"y0\": 0, \"y1\": 53.3}, {\"layer\": \"below\", \"line\": {\"color\": \"white\"}, \"type\": \"line\", \"x0\": 40, \"x1\": 40, \"y0\": 0, \"y1\": 53.3}, {\"layer\": \"below\", \"line\": {\"color\": \"white\"}, \"type\": \"line\", \"x0\": 50, \"x1\": 50, \"y0\": 0, \"y1\": 53.3}, {\"layer\": \"below\", \"line\": {\"color\": \"white\"}, \"type\": \"line\", \"x0\": 60, \"x1\": 60, \"y0\": 0, \"y1\": 53.3}, {\"layer\": \"below\", \"line\": {\"color\": \"white\"}, \"type\": \"line\", \"x0\": 70, \"x1\": 70, \"y0\": 0, \"y1\": 53.3}, {\"layer\": \"below\", \"line\": {\"color\": \"white\"}, \"type\": \"line\", \"x0\": 80, \"x1\": 80, \"y0\": 0, \"y1\": 53.3}, {\"layer\": \"below\", \"line\": {\"color\": \"white\"}, \"type\": \"line\", \"x0\": 90, \"x1\": 90, \"y0\": 0, \"y1\": 53.3}, {\"layer\": \"below\", \"line\": {\"color\": \"white\"}, \"type\": \"line\", \"x0\": 100, \"x1\": 100, \"y0\": 0, \"y1\": 53.3}, {\"layer\": \"below\", \"line\": {\"color\": \"white\", \"width\": 10}, \"type\": \"line\", \"x0\": 110, \"x1\": 110, \"y0\": 0, \"y1\": 53.3}], \"showlegend\": true, \"title\": \"Player Activity\", \"updatemenus\": [{\"buttons\": [{\"args\": [null], \"label\": \"Play\", \"method\": \"animate\"}], \"type\": \"buttons\"}], \"xaxis\": {\"autorange\": false, \"linecolor\": \"black\", \"linewidth\": 1, \"mirror\": true, \"range\": [0, 120], \"showgrid\": false, \"showline\": true, \"showticklabels\": true, \"tickmode\": \"array\", \"ticks\": \"\", \"ticktext\": [\"Goal\", 10, 20, 30, 40, 50, 40, 30, 20, 10, \"Goal\"], \"tickvals\": [10, 20, 30, 40, 50, 60, 70, 80, 90, 100, 110], \"zeroline\": false}, \"yaxis\": {\"autorange\": false, \"linecolor\": \"black\", \"linewidth\": 1, \"mirror\": true, \"range\": [-3.3, 56.3], \"showgrid\": false, \"showline\": true, \"showticklabels\": false, \"ticks\": \"\", \"title\": \"\", \"zeroline\": false}},\n",
       "            {\"showLink\": true, \"linkText\": \"Export to plot.ly\", \"plotlyServerURL\": \"https://plot.ly\"}\n",
       "        ).then(function () {return Plotly.addFrames('f15960ba-7be6-4769-ab19-99dd25999b2a',[{\"data\": [{\"marker\": {\"color\": \"blue\", \"size\": 10}, \"mode\": \"markers\", \"x\": [59.58000183105469], \"y\": [30.729999542236328], \"type\": \"scatter\"}, {\"marker\": {\"color\": \"orange\", \"size\": 10}, \"mode\": \"markers\", \"x\": [19.8799991607666], \"y\": [29.739999771118164], \"type\": \"scatter\"}]}, {\"data\": [{\"marker\": {\"color\": \"blue\", \"size\": 10}, \"mode\": \"markers\", \"x\": [59.77999877929688], \"y\": [30.71999931335449], \"type\": \"scatter\"}, {\"marker\": {\"color\": \"orange\", \"size\": 10}, \"mode\": \"markers\", \"x\": [19.8700008392334], \"y\": [29.76000022888184], \"type\": \"scatter\"}]}, {\"data\": [{\"marker\": {\"color\": \"blue\", \"size\": 10}, \"mode\": \"markers\", \"x\": [60.4900016784668], \"y\": [30.70000076293945], \"type\": \"scatter\"}, {\"marker\": {\"color\": \"orange\", \"size\": 10}, \"mode\": \"markers\", \"x\": [19.860000610351566], \"y\": [29.809999465942386], \"type\": \"scatter\"}]}, {\"data\": [{\"marker\": {\"color\": \"blue\", \"size\": 10}, \"mode\": \"markers\", \"x\": [61.36999893188477], \"y\": [30.59000015258789], \"type\": \"scatter\"}, {\"marker\": {\"color\": \"orange\", \"size\": 10}, \"mode\": \"markers\", \"x\": [19.88999938964844], \"y\": [29.739999771118164], \"type\": \"scatter\"}]}, {\"data\": [{\"marker\": {\"color\": \"blue\", \"size\": 10}, \"mode\": \"markers\", \"x\": [61.68999862670898], \"y\": [31.319999694824208], \"type\": \"scatter\"}, {\"marker\": {\"color\": \"orange\", \"size\": 10}, \"mode\": \"markers\", \"x\": [19.88999938964844], \"y\": [29.729999542236328], \"type\": \"scatter\"}]}, {\"data\": [{\"marker\": {\"color\": \"blue\", \"size\": 10}, \"mode\": \"markers\", \"x\": [61.18000030517578], \"y\": [32.880001068115234], \"type\": \"scatter\"}, {\"marker\": {\"color\": \"orange\", \"size\": 10}, \"mode\": \"markers\", \"x\": [19.8700008392334], \"y\": [29.690000534057607], \"type\": \"scatter\"}]}, {\"data\": [{\"marker\": {\"color\": \"blue\", \"size\": 10}, \"mode\": \"markers\", \"x\": [59.290000915527344], \"y\": [34.830001831054695], \"type\": \"scatter\"}, {\"marker\": {\"color\": \"orange\", \"size\": 10}, \"mode\": \"markers\", \"x\": [19.770000457763672], \"y\": [29.93000030517578], \"type\": \"scatter\"}]}, {\"data\": [{\"marker\": {\"color\": \"blue\", \"size\": 10}, \"mode\": \"markers\", \"x\": [56.36999893188477], \"y\": [36.36000061035156], \"type\": \"scatter\"}, {\"marker\": {\"color\": \"orange\", \"size\": 10}, \"mode\": \"markers\", \"x\": [19.729999542236328], \"y\": [31.110000610351573], \"type\": \"scatter\"}]}, {\"data\": [{\"marker\": {\"color\": \"blue\", \"size\": 10}, \"mode\": \"markers\", \"x\": [53.36000061035156], \"y\": [38.36999893188477], \"type\": \"scatter\"}, {\"marker\": {\"color\": \"orange\", \"size\": 10}, \"mode\": \"markers\", \"x\": [19.770000457763672], \"y\": [33.18000030517578], \"type\": \"scatter\"}]}, {\"data\": [{\"marker\": {\"color\": \"blue\", \"size\": 10}, \"mode\": \"markers\", \"x\": [50.22999954223633], \"y\": [40.1599998474121], \"type\": \"scatter\"}, {\"marker\": {\"color\": \"orange\", \"size\": 10}, \"mode\": \"markers\", \"x\": [19.950000762939453], \"y\": [35.630001068115234], \"type\": \"scatter\"}]}, {\"data\": [{\"marker\": {\"color\": \"blue\", \"size\": 10}, \"mode\": \"markers\", \"x\": [46.349998474121094], \"y\": [41.58000183105469], \"type\": \"scatter\"}, {\"marker\": {\"color\": \"orange\", \"size\": 10}, \"mode\": \"markers\", \"x\": [20.3700008392334], \"y\": [38.2400016784668], \"type\": \"scatter\"}]}, {\"data\": [{\"marker\": {\"color\": \"blue\", \"size\": 10}, \"mode\": \"markers\", \"x\": [42.180000305175774], \"y\": [42.41999816894531], \"type\": \"scatter\"}, {\"marker\": {\"color\": \"orange\", \"size\": 10}, \"mode\": \"markers\", \"x\": [20.3700008392334], \"y\": [40.7599983215332], \"type\": \"scatter\"}]}, {\"data\": [{\"marker\": {\"color\": \"blue\", \"size\": 10}, \"mode\": \"markers\", \"x\": [37.7400016784668], \"y\": [42.97999954223633], \"type\": \"scatter\"}, {\"marker\": {\"color\": \"orange\", \"size\": 10}, \"mode\": \"markers\", \"x\": [19.420000076293945], \"y\": [43.06999969482422], \"type\": \"scatter\"}]}, {\"data\": [{\"marker\": {\"color\": \"blue\", \"size\": 10}, \"mode\": \"markers\", \"x\": [33.47999954223633], \"y\": [43.63999938964844], \"type\": \"scatter\"}, {\"marker\": {\"color\": \"orange\", \"size\": 10}, \"mode\": \"markers\", \"x\": [18.0], \"y\": [45.4099998474121], \"type\": \"scatter\"}]}, {\"data\": [{\"marker\": {\"color\": \"blue\", \"size\": 10}, \"mode\": \"markers\", \"x\": [29.459999084472656], \"y\": [44.7400016784668], \"type\": \"scatter\"}, {\"marker\": {\"color\": \"orange\", \"size\": 10}, \"mode\": \"markers\", \"x\": [16.25], \"y\": [47.599998474121094], \"type\": \"scatter\"}]}, {\"data\": [{\"marker\": {\"color\": \"blue\", \"size\": 10}, \"mode\": \"markers\", \"x\": [25.57999992370605], \"y\": [46.43999862670898], \"type\": \"scatter\"}, {\"marker\": {\"color\": \"orange\", \"size\": 10}, \"mode\": \"markers\", \"x\": [14.380000114440918], \"y\": [49.7599983215332], \"type\": \"scatter\"}]}, {\"data\": [{\"marker\": {\"color\": \"blue\", \"size\": 10}, \"mode\": \"markers\", \"x\": [21.729999542236328], \"y\": [48.38000106811523], \"type\": \"scatter\"}, {\"marker\": {\"color\": \"orange\", \"size\": 10}, \"mode\": \"markers\", \"x\": [12.590000152587892], \"y\": [51.84000015258789], \"type\": \"scatter\"}]}, {\"data\": [{\"marker\": {\"color\": \"blue\", \"size\": 10}, \"mode\": \"markers\", \"x\": [17.829999923706055], \"y\": [50.209999084472656], \"type\": \"scatter\"}, {\"marker\": {\"color\": \"orange\", \"size\": 10}, \"mode\": \"markers\", \"x\": [11.539999961853027], \"y\": [53.06000137329102], \"type\": \"scatter\"}]}, {\"data\": [{\"marker\": {\"color\": \"blue\", \"size\": 10}, \"mode\": \"markers\", \"x\": [14.090000152587892], \"y\": [51.790000915527344], \"type\": \"scatter\"}, {\"marker\": {\"color\": \"orange\", \"size\": 10}, \"mode\": \"markers\", \"x\": [11.920000076293945], \"y\": [52.83000183105469], \"type\": \"scatter\"}]}, {\"data\": [{\"marker\": {\"color\": \"blue\", \"size\": 10}, \"mode\": \"markers\", \"x\": [10.880000114440918], \"y\": [52.77999877929688], \"type\": \"scatter\"}, {\"marker\": {\"color\": \"orange\", \"size\": 10}, \"mode\": \"markers\", \"x\": [11.5], \"y\": [51.790000915527344], \"type\": \"scatter\"}]}, {\"data\": [{\"marker\": {\"color\": \"blue\", \"size\": 10}, \"mode\": \"markers\", \"x\": [10.090000152587892], \"y\": [53.06000137329102], \"type\": \"scatter\"}, {\"marker\": {\"color\": \"orange\", \"size\": 10}, \"mode\": \"markers\", \"x\": [10.720000267028807], \"y\": [51.11000061035156], \"type\": \"scatter\"}]}, {\"data\": [{\"marker\": {\"color\": \"blue\", \"size\": 10}, \"mode\": \"markers\", \"x\": [10.329999923706056], \"y\": [53.040000915527344], \"type\": \"scatter\"}, {\"marker\": {\"color\": \"orange\", \"size\": 10}, \"mode\": \"markers\", \"x\": [10.869999885559082], \"y\": [50.9900016784668], \"type\": \"scatter\"}]}, {\"data\": [{\"marker\": {\"color\": \"blue\", \"size\": 10}, \"mode\": \"markers\", \"x\": [10.31999969482422], \"y\": [53.0099983215332], \"type\": \"scatter\"}, {\"marker\": {\"color\": \"orange\", \"size\": 10}, \"mode\": \"markers\", \"x\": [11.390000343322756], \"y\": [50.56999969482422], \"type\": \"scatter\"}]}, {\"data\": [{\"marker\": {\"color\": \"blue\", \"size\": 10}, \"mode\": \"markers\", \"x\": [10.729999542236328], \"y\": [52.72000122070313], \"type\": \"scatter\"}, {\"marker\": {\"color\": \"orange\", \"size\": 10}, \"mode\": \"markers\", \"x\": [11.279999732971193], \"y\": [51.33000183105469], \"type\": \"scatter\"}]}, {\"data\": [{\"marker\": {\"color\": \"blue\", \"size\": 10}, \"mode\": \"markers\", \"x\": [11.100000381469727], \"y\": [52.77000045776367], \"type\": \"scatter\"}, {\"marker\": {\"color\": \"orange\", \"size\": 10}, \"mode\": \"markers\", \"x\": [11.5], \"y\": [50.9000015258789], \"type\": \"scatter\"}]}, {\"data\": [{\"marker\": {\"color\": \"blue\", \"size\": 10}, \"mode\": \"markers\", \"x\": [11.199999809265137], \"y\": [52.81000137329102], \"type\": \"scatter\"}, {\"marker\": {\"color\": \"orange\", \"size\": 10}, \"mode\": \"markers\", \"x\": [12.100000381469727], \"y\": [50.09000015258789], \"type\": \"scatter\"}]}, {\"data\": [{\"marker\": {\"color\": \"blue\", \"size\": 10}, \"mode\": \"markers\", \"x\": [11.3100004196167], \"y\": [52.68000030517578], \"type\": \"scatter\"}, {\"marker\": {\"color\": \"orange\", \"size\": 10}, \"mode\": \"markers\", \"x\": [12.590000152587892], \"y\": [49.11999893188477], \"type\": \"scatter\"}]}, {\"data\": [{\"marker\": {\"color\": \"blue\", \"size\": 10}, \"mode\": \"markers\", \"x\": [11.239999771118164], \"y\": [52.95000076293945], \"type\": \"scatter\"}, {\"marker\": {\"color\": \"orange\", \"size\": 10}, \"mode\": \"markers\", \"x\": [13.1899995803833], \"y\": [48.25], \"type\": \"scatter\"}]}, {\"data\": [{\"marker\": {\"color\": \"blue\", \"size\": 10}, \"mode\": \"markers\", \"x\": [11.020000457763672], \"y\": [53.1500015258789], \"type\": \"scatter\"}, {\"marker\": {\"color\": \"orange\", \"size\": 10}, \"mode\": \"markers\", \"x\": [14.109999656677244], \"y\": [47.22000122070313], \"type\": \"scatter\"}]}, {\"data\": [{\"marker\": {\"color\": \"blue\", \"size\": 10}, \"mode\": \"markers\", \"x\": [11.090000152587892], \"y\": [53.27999877929688], \"type\": \"scatter\"}, {\"marker\": {\"color\": \"orange\", \"size\": 10}, \"mode\": \"markers\", \"x\": [15.029999732971193], \"y\": [46.09000015258789], \"type\": \"scatter\"}]}, {\"data\": [{\"marker\": {\"color\": \"blue\", \"size\": 10}, \"mode\": \"markers\", \"x\": [10.970000267028807], \"y\": [53.709999084472656], \"type\": \"scatter\"}, {\"marker\": {\"color\": \"orange\", \"size\": 10}, \"mode\": \"markers\", \"x\": [15.909999847412108], \"y\": [44.83000183105469], \"type\": \"scatter\"}]}, {\"data\": [{\"marker\": {\"color\": \"blue\", \"size\": 10}, \"mode\": \"markers\", \"x\": [11.149999618530273], \"y\": [53.7400016784668], \"type\": \"scatter\"}, {\"marker\": {\"color\": \"orange\", \"size\": 10}, \"mode\": \"markers\", \"x\": [16.860000610351566], \"y\": [43.38000106811523], \"type\": \"scatter\"}]}, {\"data\": [{\"marker\": {\"color\": \"blue\", \"size\": 10}, \"mode\": \"markers\", \"x\": [11.100000381469727], \"y\": [53.709999084472656], \"type\": \"scatter\"}, {\"marker\": {\"color\": \"orange\", \"size\": 10}, \"mode\": \"markers\", \"x\": [17.84000015258789], \"y\": [41.93999862670898], \"type\": \"scatter\"}]}, {\"data\": [{\"marker\": {\"color\": \"blue\", \"size\": 10}, \"mode\": \"markers\", \"x\": [11.0], \"y\": [53.45000076293945], \"type\": \"scatter\"}, {\"marker\": {\"color\": \"orange\", \"size\": 10}, \"mode\": \"markers\", \"x\": [18.82999992370605], \"y\": [40.41999816894531], \"type\": \"scatter\"}]}, {\"data\": [{\"marker\": {\"color\": \"blue\", \"size\": 10}, \"mode\": \"markers\", \"x\": [10.779999732971193], \"y\": [54.040000915527344], \"type\": \"scatter\"}, {\"marker\": {\"color\": \"orange\", \"size\": 10}, \"mode\": \"markers\", \"x\": [19.88999938964844], \"y\": [38.77999877929688], \"type\": \"scatter\"}]}, {\"data\": [{\"marker\": {\"color\": \"blue\", \"size\": 10}, \"mode\": \"markers\", \"x\": [10.649999618530273], \"y\": [54.2400016784668], \"type\": \"scatter\"}, {\"marker\": {\"color\": \"orange\", \"size\": 10}, \"mode\": \"markers\", \"x\": [21.06999969482421], \"y\": [37.22999954223633], \"type\": \"scatter\"}]}, {\"data\": [{\"marker\": {\"color\": \"blue\", \"size\": 10}, \"mode\": \"markers\", \"x\": [10.479999542236328], \"y\": [54.27000045776367], \"type\": \"scatter\"}, {\"marker\": {\"color\": \"orange\", \"size\": 10}, \"mode\": \"markers\", \"x\": [22.170000076293945], \"y\": [35.7400016784668], \"type\": \"scatter\"}]}, {\"data\": [{\"marker\": {\"color\": \"blue\", \"size\": 10}, \"mode\": \"markers\", \"x\": [10.630000114440918], \"y\": [54.11999893188477], \"type\": \"scatter\"}, {\"marker\": {\"color\": \"orange\", \"size\": 10}, \"mode\": \"markers\", \"x\": [23.209999084472656], \"y\": [34.209999084472656], \"type\": \"scatter\"}]}, {\"data\": [{\"marker\": {\"color\": \"blue\", \"size\": 10}, \"mode\": \"markers\", \"x\": [10.289999961853027], \"y\": [54.099998474121094], \"type\": \"scatter\"}, {\"marker\": {\"color\": \"orange\", \"size\": 10}, \"mode\": \"markers\", \"x\": [24.440000534057607], \"y\": [32.610000610351555], \"type\": \"scatter\"}]}, {\"data\": [{\"marker\": {\"color\": \"blue\", \"size\": 10}, \"mode\": \"markers\", \"x\": [9.970000267028807], \"y\": [54.290000915527344], \"type\": \"scatter\"}, {\"marker\": {\"color\": \"orange\", \"size\": 10}, \"mode\": \"markers\", \"x\": [25.649999618530273], \"y\": [31.10000038146973], \"type\": \"scatter\"}]}, {\"data\": [{\"marker\": {\"color\": \"blue\", \"size\": 10}, \"mode\": \"markers\", \"x\": [10.25], \"y\": [54.11000061035156], \"type\": \"scatter\"}, {\"marker\": {\"color\": \"orange\", \"size\": 10}, \"mode\": \"markers\", \"x\": [26.819999694824208], \"y\": [29.60000038146973], \"type\": \"scatter\"}]}, {\"data\": [{\"marker\": {\"color\": \"blue\", \"size\": 10}, \"mode\": \"markers\", \"x\": [10.590000152587892], \"y\": [54.43000030517578], \"type\": \"scatter\"}, {\"marker\": {\"color\": \"orange\", \"size\": 10}, \"mode\": \"markers\", \"x\": [28.020000457763672], \"y\": [28.18000030517578], \"type\": \"scatter\"}]}]);}).then(function(){Plotly.animate('f15960ba-7be6-4769-ab19-99dd25999b2a');})\n",
       "        });</script><script type=\"text/javascript\">window.addEventListener(\"resize\", function(){window._Plotly.Plots.resize(document.getElementById(\"f15960ba-7be6-4769-ab19-99dd25999b2a\"));});</script>"
      ],
      "text/vnd.plotly.v1+html": [
       "<div id=\"f15960ba-7be6-4769-ab19-99dd25999b2a\" style=\"height: 525px; width: 100%;\" class=\"plotly-graph-div\"></div><script type=\"text/javascript\">require([\"plotly\"], function(Plotly) { window.PLOTLYENV=window.PLOTLYENV || {};window.PLOTLYENV.BASE_URL=\"https://plot.ly\";\n",
       "        Plotly.plot(\n",
       "            'f15960ba-7be6-4769-ab19-99dd25999b2a',\n",
       "            [{\"line\": {\"color\": \"blue\", \"width\": 2}, \"mode\": \"lines\", \"name\": \"injured player\", \"x\": [59.58000183105469, 59.56999969482422, 59.58000183105469, 59.61000061035156, 59.68000030517578, 59.77999877929688, 59.9099998474121, 60.040000915527344, 60.18000030517578, 60.31999969482422, 60.4900016784668, 60.68999862670898, 60.88000106811523, 61.06000137329102, 61.22999954223633, 61.36999893188477, 61.47000122070313, 61.54999923706055, 61.61999893188477, 61.68000030517578, 61.68999862670898, 61.66999816894531, 61.61999893188477, 61.5099983215332, 61.36999893188477, 61.18000030517578, 60.91999816894531, 60.59000015258789, 60.22000122070313, 59.790000915527344, 59.290000915527344, 58.7599983215332, 58.20000076293945, 57.599998474121094, 56.97999954223633, 56.36999893188477, 55.77000045776367, 55.18999862670898, 54.599998474121094, 53.9900016784668, 53.36000061035156, 52.70000076293945, 52.08000183105469, 51.52000045776367, 50.91999816894531, 50.22999954223633, 49.52000045776367, 48.77999877929688, 48.0, 47.16999816894531, 46.349998474121094, 45.54999923706055, 44.7400016784668, 43.88999938964844, 43.02999877929688, 42.180000305175774, 41.310001373291016, 40.41999816894531, 39.52999877929688, 38.63999938964844, 37.7400016784668, 36.849998474121094, 35.970001220703125, 35.139999389648445, 34.299999237060554, 33.47999954223633, 32.650001525878906, 31.84000015258789, 31.03000068664551, 30.239999771118164, 29.459999084472656, 28.68000030517578, 27.899999618530273, 27.149999618530273, 26.3799991607666, 25.57999992370605, 24.790000915527344, 24.01000022888184, 23.239999771118164, 22.489999771118164, 21.729999542236328, 20.959999084472656, 20.18000030517578, 19.399999618530273, 18.610000610351566, 17.829999923706055, 17.059999465942386, 16.309999465942386, 15.5600004196167, 14.81999969482422, 14.090000152587892, 13.409999847412108, 12.6899995803833, 11.949999809265135, 11.359999656677244, 10.880000114440918, 10.510000228881836, 10.289999961853027, 10.140000343322754, 10.06999969482422, 10.090000152587892, 10.149999618530273, 10.199999809265137, 10.260000228881836, 10.3100004196167, 10.329999923706056, 10.340000152587892, 10.3100004196167, 10.279999732971193, 10.289999961853027, 10.31999969482422, 10.3100004196167, 10.340000152587892, 10.4399995803833, 10.590000152587892, 10.729999542236328, 10.880000114440918, 11.010000228881836, 11.079999923706056, 11.109999656677246, 11.100000381469727, 11.090000152587892, 11.090000152587892, 11.109999656677246, 11.149999618530273, 11.199999809265137, 11.270000457763672, 11.359999656677244, 11.369999885559082, 11.340000152587892, 11.3100004196167, 11.289999961853027, 11.279999732971193, 11.270000457763672, 11.260000228881836, 11.239999771118164, 11.1899995803833, 11.119999885559082, 11.050000190734863, 11.020000457763672, 11.020000457763672, 11.050000190734863, 11.039999961853027, 11.079999923706056, 11.079999923706056, 11.090000152587892, 11.100000381469727, 11.109999656677246, 11.020000457763672, 10.949999809265137, 10.970000267028807, 11.079999923706056, 11.220000267028807, 11.270000457763672, 11.220000267028807, 11.149999618530273, 11.109999656677246, 11.100000381469727, 11.119999885559082, 11.119999885559082, 11.100000381469727, 11.039999961853027, 11.010000228881836, 11.020000457763672, 11.010000228881836, 11.0, 10.970000267028807, 10.9399995803833, 10.899999618530273, 10.859999656677246, 10.779999732971193, 10.710000038146973, 10.720000267028807, 10.710000038146973, 10.68000030517578, 10.649999618530273, 10.630000114440918, 10.609999656677246, 10.520000457763672, 10.460000038146973, 10.479999542236328, 10.510000228881836, 10.550000190734863, 10.579999923706056, 10.609999656677246, 10.630000114440918, 10.630000114440918, 10.609999656677246, 10.520000457763672, 10.380000114440918, 10.289999961853027, 10.25, 10.239999771118164, 10.25, 10.170000076293944, 9.970000267028807, 10.0600004196167, 10.109999656677246, 10.149999618530273, 10.199999809265137, 10.25, 10.329999923706056, 10.43000030517578, 10.5, 10.550000190734863, 10.590000152587892, 10.5600004196167], \"y\": [30.729999542236328, 30.729999542236328, 30.71999931335449, 30.71999931335449, 30.71999931335449, 30.71999931335449, 30.71999931335449, 30.71999931335449, 30.71999931335449, 30.71999931335449, 30.70000076293945, 30.65999984741211, 30.6200008392334, 30.610000610351573, 30.59000015258789, 30.59000015258789, 30.6299991607666, 30.76000022888184, 30.920000076293945, 31.1200008392334, 31.319999694824208, 31.559999465942386, 31.85000038146973, 32.189998626708984, 32.529998779296875, 32.880001068115234, 33.259998321533196, 33.669998168945305, 34.09000015258789, 34.47999954223633, 34.830001831054695, 35.16999816894532, 35.47999954223633, 35.7599983215332, 36.04999923706055, 36.36000061035156, 36.70000076293945, 37.08000183105469, 37.4900016784668, 37.930000305175774, 38.36999893188477, 38.790000915527344, 39.180000305175774, 39.5, 39.83000183105469, 40.1599998474121, 40.4900016784668, 40.77999877929688, 41.06999969482422, 41.34000015258789, 41.58000183105469, 41.77999877929688, 41.97000122070313, 42.13000106811523, 42.27999877929688, 42.41999816894531, 42.540000915527344, 42.650001525878906, 42.75, 42.86000061035156, 42.97999954223633, 43.09000015258789, 43.209999084472656, 43.34000015258789, 43.47999954223633, 43.63999938964844, 43.810001373291016, 44.0, 44.209999084472656, 44.47000122070313, 44.7400016784668, 45.040000915527344, 45.36000061035156, 45.709999084472656, 46.06999969482422, 46.43999862670898, 46.81999969482422, 47.209999084472656, 47.599998474121094, 48.0, 48.38000106811523, 48.75, 49.11999893188477, 49.47999954223633, 49.849998474121094, 50.209999084472656, 50.56999969482422, 50.9099998474121, 51.22999954223633, 51.52000045776367, 51.790000915527344, 52.02000045776367, 52.25, 52.4900016784668, 52.66999816894531, 52.77999877929688, 52.88000106811523, 52.97999954223633, 53.040000915527344, 53.04999923706055, 53.06000137329102, 53.09000015258789, 53.13000106811523, 53.11999893188477, 53.08000183105469, 53.040000915527344, 53.040000915527344, 53.04999923706055, 53.06000137329102, 53.02999877929688, 53.0099983215332, 53.0, 52.97000122070313, 52.88999938964844, 52.790000915527344, 52.72000122070313, 52.6599998474121, 52.66999816894531, 52.70000076293945, 52.709999084472656, 52.77000045776367, 52.83000183105469, 52.86999893188477, 52.88000106811523, 52.86000061035156, 52.81000137329102, 52.66999816894531, 52.47000122070313, 52.47999954223633, 52.56999969482422, 52.68000030517578, 52.77000045776367, 52.81999969482422, 52.86999893188477, 52.9000015258789, 52.95000076293945, 53.0, 53.04999923706055, 53.11000061035156, 53.1599998474121, 53.1500015258789, 53.099998474121094, 53.11000061035156, 53.1599998474121, 53.22000122070313, 53.27999877929688, 53.33000183105469, 53.4000015258789, 53.47000122070313, 53.58000183105469, 53.709999084472656, 53.79999923706055, 53.88000106811523, 53.93999862670898, 53.84000015258789, 53.7400016784668, 53.68999862670898, 53.6599998474121, 53.66999816894531, 53.68999862670898, 53.709999084472656, 53.6599998474121, 53.5099983215332, 53.38000106811523, 53.36000061035156, 53.45000076293945, 53.56000137329102, 53.68999862670898, 53.86000061035156, 53.97999954223633, 54.040000915527344, 54.08000183105469, 54.11000061035156, 54.1599998474121, 54.20000076293945, 54.2400016784668, 54.27000045776367, 54.27999877929688, 54.29999923706055, 54.29999923706055, 54.27000045776367, 54.2400016784668, 54.20000076293945, 54.16999816894531, 54.13999938964844, 54.11999893188477, 54.11000061035156, 54.13000106811523, 54.1599998474121, 54.11999893188477, 54.099998474121094, 54.11999893188477, 54.1500015258789, 54.18000030517578, 54.22999954223633, 54.290000915527344, 54.290000915527344, 54.2400016784668, 54.16999816894531, 54.11000061035156, 54.11000061035156, 54.1599998474121, 54.209999084472656, 54.27000045776367, 54.36000061035156, 54.43000030517578, 54.47000122070313], \"type\": \"scatter\", \"uid\": \"18248807-fdbc-4bc3-93d3-70b77833472d\"}, {\"line\": {\"color\": \"blue\", \"width\": 2}, \"mode\": \"lines\", \"name\": \"partner player\", \"x\": [19.8799991607666, 19.8700008392334, 19.860000610351566, 19.850000381469727, 19.860000610351566, 19.8700008392334, 19.8700008392334, 19.8700008392334, 19.860000610351566, 19.860000610351566, 19.860000610351566, 19.8700008392334, 19.860000610351566, 19.850000381469727, 19.8799991607666, 19.88999938964844, 19.88999938964844, 19.90999984741211, 19.90999984741211, 19.88999938964844, 19.88999938964844, 19.8799991607666, 19.8700008392334, 19.8799991607666, 19.8700008392334, 19.8700008392334, 19.850000381469727, 19.81999969482421, 19.790000915527344, 19.770000457763672, 19.770000457763672, 19.770000457763672, 19.76000022888184, 19.75, 19.75, 19.729999542236328, 19.729999542236328, 19.75, 19.770000457763672, 19.770000457763672, 19.770000457763672, 19.770000457763672, 19.790000915527344, 19.840000152587887, 19.88999938964844, 19.950000762939453, 20.030000686645508, 20.100000381469727, 20.170000076293945, 20.270000457763672, 20.3700008392334, 20.440000534057614, 20.46999931335449, 20.459999084472656, 20.420000076293945, 20.3700008392334, 20.280000686645508, 20.110000610351566, 19.899999618530273, 19.65999984741211, 19.420000076293945, 19.170000076293945, 18.93000030517578, 18.649999618530273, 18.32999992370605, 18.0, 17.670000076293945, 17.319999694824222, 16.959999084472653, 16.610000610351566, 16.25, 15.869999885559082, 15.460000038146973, 15.06999969482422, 14.75, 14.380000114440918, 14.010000228881836, 13.649999618530273, 13.289999961853027, 12.93000030517578, 12.590000152587892, 12.3100004196167, 12.020000457763672, 11.8100004196167, 11.659999847412108, 11.539999961853027, 11.479999542236328, 11.489999771118164, 11.590000152587892, 11.789999961853027, 11.920000076293945, 11.979999542236328, 11.9399995803833, 11.829999923706055, 11.670000076293945, 11.5, 11.31999969482422, 11.149999618530273, 11.029999732971193, 10.909999847412108, 10.720000267028807, 10.520000457763672, 10.550000190734863, 10.649999618530273, 10.729999542236328, 10.869999885559082, 11.0600004196167, 11.149999618530273, 11.229999542236328, 11.329999923706055, 11.390000343322756, 11.43000030517578, 11.449999809265135, 11.380000114440918, 11.289999961853027, 11.279999732971193, 11.289999961853027, 11.31999969482422, 11.350000381469727, 11.43000030517578, 11.5, 11.640000343322756, 11.779999732971193, 11.909999847412108, 12.020000457763672, 12.100000381469727, 12.18000030517578, 12.270000457763672, 12.390000343322756, 12.479999542236328, 12.590000152587892, 12.659999847412108, 12.739999771118164, 12.880000114440918, 13.039999961853027, 13.1899995803833, 13.359999656677244, 13.550000190734865, 13.729999542236328, 13.9399995803833, 14.109999656677244, 14.239999771118164, 14.390000343322756, 14.600000381469727, 14.800000190734865, 15.029999732971193, 15.3100004196167, 15.489999771118164, 15.600000381469727, 15.739999771118164, 15.909999847412108, 16.180000305175778, 16.379999160766598, 16.559999465942386, 16.719999313354492, 16.860000610351566, 17.010000228881836, 17.209999084472653, 17.430000305175778, 17.65999984741211, 17.84000015258789, 17.979999542236328, 18.1200008392334, 18.31999969482421, 18.57999992370605, 18.82999992370605, 19.06999969482421, 19.299999237060547, 19.5, 19.690000534057614, 19.88999938964844, 20.090000152587887, 20.340000152587887, 20.61000061035156, 20.860000610351566, 21.06999969482421, 21.270000457763672, 21.5, 21.709999084472656, 21.920000076293945, 22.170000076293945, 22.399999618530273, 22.6200008392334, 22.79999923706055, 22.989999771118164, 23.209999084472656, 23.479999542236328, 23.739999771118164, 23.979999542236328, 24.21999931335449, 24.440000534057607, 24.649999618530273, 24.8799991607666, 25.1299991607666, 25.399999618530273, 25.649999618530273, 25.88999938964844, 26.1200008392334, 26.32999992370605, 26.54999923706055, 26.819999694824208, 27.10000038146973, 27.35000038146973, 27.59000015258789, 27.79999923706055, 28.020000457763672, 28.25], \"y\": [29.739999771118164, 29.729999542236328, 29.739999771118164, 29.739999771118164, 29.739999771118164, 29.76000022888184, 29.76000022888184, 29.770000457763672, 29.78000068664551, 29.790000915527344, 29.809999465942386, 29.809999465942386, 29.790000915527344, 29.76000022888184, 29.75, 29.739999771118164, 29.739999771118164, 29.739999771118164, 29.75, 29.729999542236328, 29.729999542236328, 29.68000030517578, 29.68000030517578, 29.70000076293945, 29.690000534057607, 29.690000534057607, 29.709999084472656, 29.76000022888184, 29.79999923706055, 29.84000015258789, 29.93000030517578, 30.04999923706055, 30.25, 30.489999771118164, 30.76000022888184, 31.110000610351573, 31.46999931335449, 31.8799991607666, 32.279998779296875, 32.72999954223633, 33.18000030517578, 33.669998168945305, 34.16999816894532, 34.65999984741211, 35.15999984741211, 35.630001068115234, 36.099998474121094, 36.63999938964844, 37.16999816894531, 37.709999084472656, 38.2400016784668, 38.77000045776367, 39.27000045776367, 39.77000045776367, 40.27000045776367, 40.7599983215332, 41.2400016784668, 41.709999084472656, 42.180000305175774, 42.63999938964844, 43.06999969482422, 43.52000045776367, 44.0099983215332, 44.47000122070313, 44.93999862670898, 45.4099998474121, 45.86000061035156, 46.31999969482422, 46.75, 47.16999816894531, 47.599998474121094, 48.02999877929688, 48.45000076293945, 48.86999893188477, 49.31999969482422, 49.7599983215332, 50.2400016784668, 50.68999862670898, 51.11000061035156, 51.47000122070313, 51.84000015258789, 52.22000122070313, 52.52000045776367, 52.7400016784668, 52.95000076293945, 53.06000137329102, 53.06999969482422, 53.11000061035156, 53.13000106811523, 52.9900016784668, 52.83000183105469, 52.63999938964844, 52.459999084472656, 52.2599983215332, 52.02000045776367, 51.790000915527344, 51.599998474121094, 51.38000106811523, 51.22999954223633, 51.13999938964844, 51.11000061035156, 51.11999893188477, 51.09000015258789, 51.09000015258789, 51.04999923706055, 50.9900016784668, 50.9000015258789, 50.77000045776367, 50.6500015258789, 50.56000137329102, 50.56999969482422, 50.68000030517578, 50.83000183105469, 51.02000045776367, 51.20000076293945, 51.33000183105469, 51.38000106811523, 51.33000183105469, 51.209999084472656, 51.09000015258789, 50.9000015258789, 50.72000122070313, 50.56000137329102, 50.38999938964844, 50.22999954223633, 50.09000015258789, 49.93000030517578, 49.75, 49.56000137329102, 49.33000183105469, 49.11999893188477, 48.9099998474121, 48.7400016784668, 48.56000137329102, 48.43000030517578, 48.25, 48.06000137329102, 47.86999893188477, 47.6599998474121, 47.43999862670898, 47.22000122070313, 47.0, 46.75, 46.52000045776367, 46.290000915527344, 46.09000015258789, 45.95000076293945, 45.709999084472656, 45.4099998474121, 45.11000061035156, 44.83000183105469, 44.540000915527344, 44.209999084472656, 43.91999816894531, 43.63999938964844, 43.38000106811523, 43.11000061035156, 42.84000015258789, 42.540000915527344, 42.2400016784668, 41.93999862670898, 41.63000106811523, 41.33000183105469, 41.02000045776367, 40.72000122070313, 40.41999816894531, 40.099998474121094, 39.790000915527344, 39.459999084472656, 39.11999893188477, 38.77999877929688, 38.459999084472656, 38.13999938964844, 37.84000015258789, 37.540000915527344, 37.22999954223633, 36.93999862670898, 36.650001525878906, 36.349998474121094, 36.040000915527344, 35.7400016784668, 35.43000030517578, 35.130001068115234, 34.810001373291016, 34.509998321533196, 34.209999084472656, 33.91999816894532, 33.61000061035157, 33.290000915527344, 32.959999084472656, 32.610000610351555, 32.279998779296875, 31.96999931335449, 31.68000030517578, 31.38999938964844, 31.10000038146973, 30.79999923706055, 30.489999771118164, 30.190000534057607, 29.899999618530273, 29.60000038146973, 29.319999694824208, 29.03000068664551, 28.739999771118164, 28.459999084472656, 28.18000030517578, 27.90999984741211], \"type\": \"scatter\", \"uid\": \"4742e2f2-d927-4083-8fa6-5049880c0986\"}],\n",
       "            {\"hovermode\": \"closest\", \"plot_bgcolor\": \"darkseagreen\", \"shapes\": [{\"layer\": \"below\", \"line\": {\"color\": \"white\", \"width\": 2}, \"type\": \"line\", \"x0\": 0, \"x1\": 120, \"y0\": 0, \"y1\": 0}, {\"layer\": \"below\", \"line\": {\"color\": \"white\", \"width\": 2}, \"type\": \"line\", \"x0\": 0, \"x1\": 120, \"y0\": 53.3, \"y1\": 53.3}, {\"layer\": \"below\", \"line\": {\"color\": \"white\", \"width\": 10}, \"type\": \"line\", \"x0\": 10, \"x1\": 10, \"y0\": 0, \"y1\": 53.3}, {\"layer\": \"below\", \"line\": {\"color\": \"white\"}, \"type\": \"line\", \"x0\": 20, \"x1\": 20, \"y0\": 0, \"y1\": 53.3}, {\"layer\": \"below\", \"line\": {\"color\": \"white\"}, \"type\": \"line\", \"x0\": 30, \"x1\": 30, \"y0\": 0, \"y1\": 53.3}, {\"layer\": \"below\", \"line\": {\"color\": \"white\"}, \"type\": \"line\", \"x0\": 40, \"x1\": 40, \"y0\": 0, \"y1\": 53.3}, {\"layer\": \"below\", \"line\": {\"color\": \"white\"}, \"type\": \"line\", \"x0\": 50, \"x1\": 50, \"y0\": 0, \"y1\": 53.3}, {\"layer\": \"below\", \"line\": {\"color\": \"white\"}, \"type\": \"line\", \"x0\": 60, \"x1\": 60, \"y0\": 0, \"y1\": 53.3}, {\"layer\": \"below\", \"line\": {\"color\": \"white\"}, \"type\": \"line\", \"x0\": 70, \"x1\": 70, \"y0\": 0, \"y1\": 53.3}, {\"layer\": \"below\", \"line\": {\"color\": \"white\"}, \"type\": \"line\", \"x0\": 80, \"x1\": 80, \"y0\": 0, \"y1\": 53.3}, {\"layer\": \"below\", \"line\": {\"color\": \"white\"}, \"type\": \"line\", \"x0\": 90, \"x1\": 90, \"y0\": 0, \"y1\": 53.3}, {\"layer\": \"below\", \"line\": {\"color\": \"white\"}, \"type\": \"line\", \"x0\": 100, \"x1\": 100, \"y0\": 0, \"y1\": 53.3}, {\"layer\": \"below\", \"line\": {\"color\": \"white\", \"width\": 10}, \"type\": \"line\", \"x0\": 110, \"x1\": 110, \"y0\": 0, \"y1\": 53.3}], \"showlegend\": true, \"title\": \"Player Activity\", \"updatemenus\": [{\"buttons\": [{\"args\": [null], \"label\": \"Play\", \"method\": \"animate\"}], \"type\": \"buttons\"}], \"xaxis\": {\"autorange\": false, \"linecolor\": \"black\", \"linewidth\": 1, \"mirror\": true, \"range\": [0, 120], \"showgrid\": false, \"showline\": true, \"showticklabels\": true, \"tickmode\": \"array\", \"ticks\": \"\", \"ticktext\": [\"Goal\", 10, 20, 30, 40, 50, 40, 30, 20, 10, \"Goal\"], \"tickvals\": [10, 20, 30, 40, 50, 60, 70, 80, 90, 100, 110], \"zeroline\": false}, \"yaxis\": {\"autorange\": false, \"linecolor\": \"black\", \"linewidth\": 1, \"mirror\": true, \"range\": [-3.3, 56.3], \"showgrid\": false, \"showline\": true, \"showticklabels\": false, \"ticks\": \"\", \"title\": \"\", \"zeroline\": false}},\n",
       "            {\"showLink\": true, \"linkText\": \"Export to plot.ly\", \"plotlyServerURL\": \"https://plot.ly\"}\n",
       "        ).then(function () {return Plotly.addFrames('f15960ba-7be6-4769-ab19-99dd25999b2a',[{\"data\": [{\"marker\": {\"color\": \"blue\", \"size\": 10}, \"mode\": \"markers\", \"x\": [59.58000183105469], \"y\": [30.729999542236328], \"type\": \"scatter\"}, {\"marker\": {\"color\": \"orange\", \"size\": 10}, \"mode\": \"markers\", \"x\": [19.8799991607666], \"y\": [29.739999771118164], \"type\": \"scatter\"}]}, {\"data\": [{\"marker\": {\"color\": \"blue\", \"size\": 10}, \"mode\": \"markers\", \"x\": [59.77999877929688], \"y\": [30.71999931335449], \"type\": \"scatter\"}, {\"marker\": {\"color\": \"orange\", \"size\": 10}, \"mode\": \"markers\", \"x\": [19.8700008392334], \"y\": [29.76000022888184], \"type\": \"scatter\"}]}, {\"data\": [{\"marker\": {\"color\": \"blue\", \"size\": 10}, \"mode\": \"markers\", \"x\": [60.4900016784668], \"y\": [30.70000076293945], \"type\": \"scatter\"}, {\"marker\": {\"color\": \"orange\", \"size\": 10}, \"mode\": \"markers\", \"x\": [19.860000610351566], \"y\": [29.809999465942386], \"type\": \"scatter\"}]}, {\"data\": [{\"marker\": {\"color\": \"blue\", \"size\": 10}, \"mode\": \"markers\", \"x\": [61.36999893188477], \"y\": [30.59000015258789], \"type\": \"scatter\"}, {\"marker\": {\"color\": \"orange\", \"size\": 10}, \"mode\": \"markers\", \"x\": [19.88999938964844], \"y\": [29.739999771118164], \"type\": \"scatter\"}]}, {\"data\": [{\"marker\": {\"color\": \"blue\", \"size\": 10}, \"mode\": \"markers\", \"x\": [61.68999862670898], \"y\": [31.319999694824208], \"type\": \"scatter\"}, {\"marker\": {\"color\": \"orange\", \"size\": 10}, \"mode\": \"markers\", \"x\": [19.88999938964844], \"y\": [29.729999542236328], \"type\": \"scatter\"}]}, {\"data\": [{\"marker\": {\"color\": \"blue\", \"size\": 10}, \"mode\": \"markers\", \"x\": [61.18000030517578], \"y\": [32.880001068115234], \"type\": \"scatter\"}, {\"marker\": {\"color\": \"orange\", \"size\": 10}, \"mode\": \"markers\", \"x\": [19.8700008392334], \"y\": [29.690000534057607], \"type\": \"scatter\"}]}, {\"data\": [{\"marker\": {\"color\": \"blue\", \"size\": 10}, \"mode\": \"markers\", \"x\": [59.290000915527344], \"y\": [34.830001831054695], \"type\": \"scatter\"}, {\"marker\": {\"color\": \"orange\", \"size\": 10}, \"mode\": \"markers\", \"x\": [19.770000457763672], \"y\": [29.93000030517578], \"type\": \"scatter\"}]}, {\"data\": [{\"marker\": {\"color\": \"blue\", \"size\": 10}, \"mode\": \"markers\", \"x\": [56.36999893188477], \"y\": [36.36000061035156], \"type\": \"scatter\"}, {\"marker\": {\"color\": \"orange\", \"size\": 10}, \"mode\": \"markers\", \"x\": [19.729999542236328], \"y\": [31.110000610351573], \"type\": \"scatter\"}]}, {\"data\": [{\"marker\": {\"color\": \"blue\", \"size\": 10}, \"mode\": \"markers\", \"x\": [53.36000061035156], \"y\": [38.36999893188477], \"type\": \"scatter\"}, {\"marker\": {\"color\": \"orange\", \"size\": 10}, \"mode\": \"markers\", \"x\": [19.770000457763672], \"y\": [33.18000030517578], \"type\": \"scatter\"}]}, {\"data\": [{\"marker\": {\"color\": \"blue\", \"size\": 10}, \"mode\": \"markers\", \"x\": [50.22999954223633], \"y\": [40.1599998474121], \"type\": \"scatter\"}, {\"marker\": {\"color\": \"orange\", \"size\": 10}, \"mode\": \"markers\", \"x\": [19.950000762939453], \"y\": [35.630001068115234], \"type\": \"scatter\"}]}, {\"data\": [{\"marker\": {\"color\": \"blue\", \"size\": 10}, \"mode\": \"markers\", \"x\": [46.349998474121094], \"y\": [41.58000183105469], \"type\": \"scatter\"}, {\"marker\": {\"color\": \"orange\", \"size\": 10}, \"mode\": \"markers\", \"x\": [20.3700008392334], \"y\": [38.2400016784668], \"type\": \"scatter\"}]}, {\"data\": [{\"marker\": {\"color\": \"blue\", \"size\": 10}, \"mode\": \"markers\", \"x\": [42.180000305175774], \"y\": [42.41999816894531], \"type\": \"scatter\"}, {\"marker\": {\"color\": \"orange\", \"size\": 10}, \"mode\": \"markers\", \"x\": [20.3700008392334], \"y\": [40.7599983215332], \"type\": \"scatter\"}]}, {\"data\": [{\"marker\": {\"color\": \"blue\", \"size\": 10}, \"mode\": \"markers\", \"x\": [37.7400016784668], \"y\": [42.97999954223633], \"type\": \"scatter\"}, {\"marker\": {\"color\": \"orange\", \"size\": 10}, \"mode\": \"markers\", \"x\": [19.420000076293945], \"y\": [43.06999969482422], \"type\": \"scatter\"}]}, {\"data\": [{\"marker\": {\"color\": \"blue\", \"size\": 10}, \"mode\": \"markers\", \"x\": [33.47999954223633], \"y\": [43.63999938964844], \"type\": \"scatter\"}, {\"marker\": {\"color\": \"orange\", \"size\": 10}, \"mode\": \"markers\", \"x\": [18.0], \"y\": [45.4099998474121], \"type\": \"scatter\"}]}, {\"data\": [{\"marker\": {\"color\": \"blue\", \"size\": 10}, \"mode\": \"markers\", \"x\": [29.459999084472656], \"y\": [44.7400016784668], \"type\": \"scatter\"}, {\"marker\": {\"color\": \"orange\", \"size\": 10}, \"mode\": \"markers\", \"x\": [16.25], \"y\": [47.599998474121094], \"type\": \"scatter\"}]}, {\"data\": [{\"marker\": {\"color\": \"blue\", \"size\": 10}, \"mode\": \"markers\", \"x\": [25.57999992370605], \"y\": [46.43999862670898], \"type\": \"scatter\"}, {\"marker\": {\"color\": \"orange\", \"size\": 10}, \"mode\": \"markers\", \"x\": [14.380000114440918], \"y\": [49.7599983215332], \"type\": \"scatter\"}]}, {\"data\": [{\"marker\": {\"color\": \"blue\", \"size\": 10}, \"mode\": \"markers\", \"x\": [21.729999542236328], \"y\": [48.38000106811523], \"type\": \"scatter\"}, {\"marker\": {\"color\": \"orange\", \"size\": 10}, \"mode\": \"markers\", \"x\": [12.590000152587892], \"y\": [51.84000015258789], \"type\": \"scatter\"}]}, {\"data\": [{\"marker\": {\"color\": \"blue\", \"size\": 10}, \"mode\": \"markers\", \"x\": [17.829999923706055], \"y\": [50.209999084472656], \"type\": \"scatter\"}, {\"marker\": {\"color\": \"orange\", \"size\": 10}, \"mode\": \"markers\", \"x\": [11.539999961853027], \"y\": [53.06000137329102], \"type\": \"scatter\"}]}, {\"data\": [{\"marker\": {\"color\": \"blue\", \"size\": 10}, \"mode\": \"markers\", \"x\": [14.090000152587892], \"y\": [51.790000915527344], \"type\": \"scatter\"}, {\"marker\": {\"color\": \"orange\", \"size\": 10}, \"mode\": \"markers\", \"x\": [11.920000076293945], \"y\": [52.83000183105469], \"type\": \"scatter\"}]}, {\"data\": [{\"marker\": {\"color\": \"blue\", \"size\": 10}, \"mode\": \"markers\", \"x\": [10.880000114440918], \"y\": [52.77999877929688], \"type\": \"scatter\"}, {\"marker\": {\"color\": \"orange\", \"size\": 10}, \"mode\": \"markers\", \"x\": [11.5], \"y\": [51.790000915527344], \"type\": \"scatter\"}]}, {\"data\": [{\"marker\": {\"color\": \"blue\", \"size\": 10}, \"mode\": \"markers\", \"x\": [10.090000152587892], \"y\": [53.06000137329102], \"type\": \"scatter\"}, {\"marker\": {\"color\": \"orange\", \"size\": 10}, \"mode\": \"markers\", \"x\": [10.720000267028807], \"y\": [51.11000061035156], \"type\": \"scatter\"}]}, {\"data\": [{\"marker\": {\"color\": \"blue\", \"size\": 10}, \"mode\": \"markers\", \"x\": [10.329999923706056], \"y\": [53.040000915527344], \"type\": \"scatter\"}, {\"marker\": {\"color\": \"orange\", \"size\": 10}, \"mode\": \"markers\", \"x\": [10.869999885559082], \"y\": [50.9900016784668], \"type\": \"scatter\"}]}, {\"data\": [{\"marker\": {\"color\": \"blue\", \"size\": 10}, \"mode\": \"markers\", \"x\": [10.31999969482422], \"y\": [53.0099983215332], \"type\": \"scatter\"}, {\"marker\": {\"color\": \"orange\", \"size\": 10}, \"mode\": \"markers\", \"x\": [11.390000343322756], \"y\": [50.56999969482422], \"type\": \"scatter\"}]}, {\"data\": [{\"marker\": {\"color\": \"blue\", \"size\": 10}, \"mode\": \"markers\", \"x\": [10.729999542236328], \"y\": [52.72000122070313], \"type\": \"scatter\"}, {\"marker\": {\"color\": \"orange\", \"size\": 10}, \"mode\": \"markers\", \"x\": [11.279999732971193], \"y\": [51.33000183105469], \"type\": \"scatter\"}]}, {\"data\": [{\"marker\": {\"color\": \"blue\", \"size\": 10}, \"mode\": \"markers\", \"x\": [11.100000381469727], \"y\": [52.77000045776367], \"type\": \"scatter\"}, {\"marker\": {\"color\": \"orange\", \"size\": 10}, \"mode\": \"markers\", \"x\": [11.5], \"y\": [50.9000015258789], \"type\": \"scatter\"}]}, {\"data\": [{\"marker\": {\"color\": \"blue\", \"size\": 10}, \"mode\": \"markers\", \"x\": [11.199999809265137], \"y\": [52.81000137329102], \"type\": \"scatter\"}, {\"marker\": {\"color\": \"orange\", \"size\": 10}, \"mode\": \"markers\", \"x\": [12.100000381469727], \"y\": [50.09000015258789], \"type\": \"scatter\"}]}, {\"data\": [{\"marker\": {\"color\": \"blue\", \"size\": 10}, \"mode\": \"markers\", \"x\": [11.3100004196167], \"y\": [52.68000030517578], \"type\": \"scatter\"}, {\"marker\": {\"color\": \"orange\", \"size\": 10}, \"mode\": \"markers\", \"x\": [12.590000152587892], \"y\": [49.11999893188477], \"type\": \"scatter\"}]}, {\"data\": [{\"marker\": {\"color\": \"blue\", \"size\": 10}, \"mode\": \"markers\", \"x\": [11.239999771118164], \"y\": [52.95000076293945], \"type\": \"scatter\"}, {\"marker\": {\"color\": \"orange\", \"size\": 10}, \"mode\": \"markers\", \"x\": [13.1899995803833], \"y\": [48.25], \"type\": \"scatter\"}]}, {\"data\": [{\"marker\": {\"color\": \"blue\", \"size\": 10}, \"mode\": \"markers\", \"x\": [11.020000457763672], \"y\": [53.1500015258789], \"type\": \"scatter\"}, {\"marker\": {\"color\": \"orange\", \"size\": 10}, \"mode\": \"markers\", \"x\": [14.109999656677244], \"y\": [47.22000122070313], \"type\": \"scatter\"}]}, {\"data\": [{\"marker\": {\"color\": \"blue\", \"size\": 10}, \"mode\": \"markers\", \"x\": [11.090000152587892], \"y\": [53.27999877929688], \"type\": \"scatter\"}, {\"marker\": {\"color\": \"orange\", \"size\": 10}, \"mode\": \"markers\", \"x\": [15.029999732971193], \"y\": [46.09000015258789], \"type\": \"scatter\"}]}, {\"data\": [{\"marker\": {\"color\": \"blue\", \"size\": 10}, \"mode\": \"markers\", \"x\": [10.970000267028807], \"y\": [53.709999084472656], \"type\": \"scatter\"}, {\"marker\": {\"color\": \"orange\", \"size\": 10}, \"mode\": \"markers\", \"x\": [15.909999847412108], \"y\": [44.83000183105469], \"type\": \"scatter\"}]}, {\"data\": [{\"marker\": {\"color\": \"blue\", \"size\": 10}, \"mode\": \"markers\", \"x\": [11.149999618530273], \"y\": [53.7400016784668], \"type\": \"scatter\"}, {\"marker\": {\"color\": \"orange\", \"size\": 10}, \"mode\": \"markers\", \"x\": [16.860000610351566], \"y\": [43.38000106811523], \"type\": \"scatter\"}]}, {\"data\": [{\"marker\": {\"color\": \"blue\", \"size\": 10}, \"mode\": \"markers\", \"x\": [11.100000381469727], \"y\": [53.709999084472656], \"type\": \"scatter\"}, {\"marker\": {\"color\": \"orange\", \"size\": 10}, \"mode\": \"markers\", \"x\": [17.84000015258789], \"y\": [41.93999862670898], \"type\": \"scatter\"}]}, {\"data\": [{\"marker\": {\"color\": \"blue\", \"size\": 10}, \"mode\": \"markers\", \"x\": [11.0], \"y\": [53.45000076293945], \"type\": \"scatter\"}, {\"marker\": {\"color\": \"orange\", \"size\": 10}, \"mode\": \"markers\", \"x\": [18.82999992370605], \"y\": [40.41999816894531], \"type\": \"scatter\"}]}, {\"data\": [{\"marker\": {\"color\": \"blue\", \"size\": 10}, \"mode\": \"markers\", \"x\": [10.779999732971193], \"y\": [54.040000915527344], \"type\": \"scatter\"}, {\"marker\": {\"color\": \"orange\", \"size\": 10}, \"mode\": \"markers\", \"x\": [19.88999938964844], \"y\": [38.77999877929688], \"type\": \"scatter\"}]}, {\"data\": [{\"marker\": {\"color\": \"blue\", \"size\": 10}, \"mode\": \"markers\", \"x\": [10.649999618530273], \"y\": [54.2400016784668], \"type\": \"scatter\"}, {\"marker\": {\"color\": \"orange\", \"size\": 10}, \"mode\": \"markers\", \"x\": [21.06999969482421], \"y\": [37.22999954223633], \"type\": \"scatter\"}]}, {\"data\": [{\"marker\": {\"color\": \"blue\", \"size\": 10}, \"mode\": \"markers\", \"x\": [10.479999542236328], \"y\": [54.27000045776367], \"type\": \"scatter\"}, {\"marker\": {\"color\": \"orange\", \"size\": 10}, \"mode\": \"markers\", \"x\": [22.170000076293945], \"y\": [35.7400016784668], \"type\": \"scatter\"}]}, {\"data\": [{\"marker\": {\"color\": \"blue\", \"size\": 10}, \"mode\": \"markers\", \"x\": [10.630000114440918], \"y\": [54.11999893188477], \"type\": \"scatter\"}, {\"marker\": {\"color\": \"orange\", \"size\": 10}, \"mode\": \"markers\", \"x\": [23.209999084472656], \"y\": [34.209999084472656], \"type\": \"scatter\"}]}, {\"data\": [{\"marker\": {\"color\": \"blue\", \"size\": 10}, \"mode\": \"markers\", \"x\": [10.289999961853027], \"y\": [54.099998474121094], \"type\": \"scatter\"}, {\"marker\": {\"color\": \"orange\", \"size\": 10}, \"mode\": \"markers\", \"x\": [24.440000534057607], \"y\": [32.610000610351555], \"type\": \"scatter\"}]}, {\"data\": [{\"marker\": {\"color\": \"blue\", \"size\": 10}, \"mode\": \"markers\", \"x\": [9.970000267028807], \"y\": [54.290000915527344], \"type\": \"scatter\"}, {\"marker\": {\"color\": \"orange\", \"size\": 10}, \"mode\": \"markers\", \"x\": [25.649999618530273], \"y\": [31.10000038146973], \"type\": \"scatter\"}]}, {\"data\": [{\"marker\": {\"color\": \"blue\", \"size\": 10}, \"mode\": \"markers\", \"x\": [10.25], \"y\": [54.11000061035156], \"type\": \"scatter\"}, {\"marker\": {\"color\": \"orange\", \"size\": 10}, \"mode\": \"markers\", \"x\": [26.819999694824208], \"y\": [29.60000038146973], \"type\": \"scatter\"}]}, {\"data\": [{\"marker\": {\"color\": \"blue\", \"size\": 10}, \"mode\": \"markers\", \"x\": [10.590000152587892], \"y\": [54.43000030517578], \"type\": \"scatter\"}, {\"marker\": {\"color\": \"orange\", \"size\": 10}, \"mode\": \"markers\", \"x\": [28.020000457763672], \"y\": [28.18000030517578], \"type\": \"scatter\"}]}]);}).then(function(){Plotly.animate('f15960ba-7be6-4769-ab19-99dd25999b2a');})\n",
       "        });</script><script type=\"text/javascript\">window.addEventListener(\"resize\", function(){window._Plotly.Plots.resize(document.getElementById(\"f15960ba-7be6-4769-ab19-99dd25999b2a\"));});</script>"
      ]
     },
     "metadata": {},
     "output_type": "display_data"
    }
   ],
   "source": [
    "from plotly.offline import init_notebook_mode, iplot\n",
    "from IPython.display import display, HTML\n",
    "\n",
    "init_notebook_mode(connected=True)\n",
    "\n",
    "\n",
    "data=[dict(x=x, y=y, \n",
    "           name='injured player',\n",
    "           mode='lines', \n",
    "           line=dict(width=2, color='blue')\n",
    "          ),\n",
    "#       dict(x=x, y=y, \n",
    "#            mode='lines', \n",
    "#            line=dict(width=2, color='blue')\n",
    "#           ),\n",
    "      dict(x=x1, y=y1, \n",
    "           name = 'partner player',\n",
    "           mode='lines', \n",
    "           line=dict(width=2, color='blue')\n",
    "          ),\n",
    "#       dict(x=x1, y=y1, \n",
    "#            mode='lines', \n",
    "#            line=dict(width=2, color='blue')\n",
    "#           )\n",
    "    ]\n",
    "\n",
    "layout = load_field()\n",
    "layout['hovermode'] = 'closest'\n",
    "layout['updatemenus'] = [{'type': 'buttons',\n",
    "                           'buttons': [{'label': 'Play',\n",
    "                                        'method': 'animate',\n",
    "                                        'args': [None]}]}]\n",
    "\n",
    "N = len(x)\n",
    "frames=[dict(data=[dict(x=[xx[k]], \n",
    "                        y=[yy[k]], \n",
    "                        mode='markers', \n",
    "                        marker=dict(color='blue', size=10)\n",
    "                        )\n",
    "                   , dict(x=[xx1[k]], \n",
    "                        y=[yy1[k]], \n",
    "                        mode='markers', \n",
    "                        marker=dict(color='orange', size=10)\n",
    "                        )]\n",
    "            ) for k in range(0, N, 5)]\n",
    "          \n",
    "figure1=dict(data=data, layout=layout, frames=frames)\n",
    "iplot(figure1)"
   ]
  },
  {
   "cell_type": "markdown",
   "metadata": {},
   "source": [
    "#### On what types of plays are players getting hurt?"
   ]
  },
  {
   "cell_type": "code",
   "execution_count": 70,
   "metadata": {},
   "outputs": [],
   "source": [
    "#Create a column in the play_info dataframe to determine the type of play\n",
    "play_info['outcome'] =  np.where(play_info['PlayDescription'].str.contains('aborted|Fumbled snap|FUMBLES, and recovers', flags=re.IGNORECASE, regex=True), 'aborted',\n",
    "                        np.where(play_info['PlayDescription'].str.contains('fake|pass|right end|left end|up the middle|Direct snap|right guard', flags=re.IGNORECASE, regex=True), 'fake',\n",
    "                        np.where(play_info['PlayDescription'].str.contains('muffs', flags=re.IGNORECASE, regex=True), 'muff',         \n",
    "                        np.where(play_info['PlayDescription'].str.contains('fair catch by', flags=re.IGNORECASE, regex=True), 'fair_catch',\n",
    "                        np.where(play_info['PlayDescription'].str.contains('touchback', flags=re.IGNORECASE, regex=True), 'touchback',\n",
    "                        np.where(play_info['PlayDescription'].str.contains('blocked|deflected', flags=re.IGNORECASE, regex=True), 'blocked',\n",
    "                        np.where(play_info['PlayDescription'].str.contains('out of bounds.', flags=re.IGNORECASE, regex=False), 'oob',\n",
    "                        np.where(play_info['PlayDescription'].str.contains('downed', flags=re.IGNORECASE, regex=True), 'downed', \n",
    "                        np.where(play_info['PlayDescription'].str.contains('safety', flags=re.IGNORECASE, regex=True), 'safety',\n",
    "                        np.where(play_info['PlayDescription'].str.contains('[0-9]+ for [-+]?[0-9]+ yards?|for no gain|touchdown|(to [A-Z]+ [0-9]+ for [-+]?[0-9]+ yards?)|(to [0-9]+ for [-+]?[0-9]+ yards?)', flags=re.IGNORECASE, regex=True), 'return',         \n",
    "                        np.where(play_info['PlayDescription'].str.contains('- no play|delay of game|false start, declined|penalty enforced', flags=re.IGNORECASE, regex=True), 'no_play', ' ')))))))))))"
   ]
  },
  {
   "cell_type": "code",
   "execution_count": 71,
   "metadata": {},
   "outputs": [],
   "source": [
    "pi = play_info.merge(video_review[['Season_Year', 'GameKey', 'PlayID','GSISID']], how='left', on =['Season_Year', 'GameKey', 'PlayID'])\n",
    "pi['injury'] = np.where(pi.GSISID.notnull(), 1, 0).astype(int)\n",
    "pi.drop('GSISID', axis = 1, inplace=True)\n",
    "vr = play_info.merge(video_review, how='inner', on =['Season_Year', 'GameKey', 'PlayID'])"
   ]
  },
  {
   "cell_type": "code",
   "execution_count": 72,
   "metadata": {},
   "outputs": [
    {
     "data": {
      "text/plain": [
       "return        29\n",
       "downed         3\n",
       "fair_catch     2\n",
       "muff           2\n",
       "fake           1\n",
       "Name: outcome, dtype: int64"
      ]
     },
     "execution_count": 72,
     "metadata": {},
     "output_type": "execute_result"
    }
   ],
   "source": [
    "vr.outcome.value_counts()"
   ]
  },
  {
   "cell_type": "markdown",
   "metadata": {},
   "source": [
    "#### Conclusion: players are getting hurt on returns "
   ]
  },
  {
   "cell_type": "code",
   "execution_count": 73,
   "metadata": {},
   "outputs": [],
   "source": [
    "#Is it a higher proportion compared to all plays?"
   ]
  },
  {
   "cell_type": "code",
   "execution_count": 74,
   "metadata": {},
   "outputs": [
    {
     "data": {
      "text/html": [
       "<div>\n",
       "<style>\n",
       "    .dataframe thead tr:only-child th {\n",
       "        text-align: right;\n",
       "    }\n",
       "\n",
       "    .dataframe thead th {\n",
       "        text-align: left;\n",
       "    }\n",
       "\n",
       "    .dataframe tbody tr th {\n",
       "        vertical-align: top;\n",
       "    }\n",
       "</style>\n",
       "<table border=\"1\" class=\"dataframe\">\n",
       "  <thead>\n",
       "    <tr style=\"text-align: right;\">\n",
       "      <th></th>\n",
       "      <th>outcome</th>\n",
       "      <th>total_plays</th>\n",
       "      <th>injuries</th>\n",
       "      <th>injury_percentage</th>\n",
       "    </tr>\n",
       "  </thead>\n",
       "  <tbody>\n",
       "    <tr>\n",
       "      <th>0</th>\n",
       "      <td>return</td>\n",
       "      <td>2741</td>\n",
       "      <td>29</td>\n",
       "      <td>1.1%</td>\n",
       "    </tr>\n",
       "    <tr>\n",
       "      <th>1</th>\n",
       "      <td>fair_catch</td>\n",
       "      <td>1659</td>\n",
       "      <td>2</td>\n",
       "      <td>0.1%</td>\n",
       "    </tr>\n",
       "    <tr>\n",
       "      <th>2</th>\n",
       "      <td>downed</td>\n",
       "      <td>796</td>\n",
       "      <td>3</td>\n",
       "      <td>0.4%</td>\n",
       "    </tr>\n",
       "    <tr>\n",
       "      <th>3</th>\n",
       "      <td>oob</td>\n",
       "      <td>639</td>\n",
       "      <td>0</td>\n",
       "      <td>0.0%</td>\n",
       "    </tr>\n",
       "    <tr>\n",
       "      <th>4</th>\n",
       "      <td>touchback</td>\n",
       "      <td>407</td>\n",
       "      <td>0</td>\n",
       "      <td>0.0%</td>\n",
       "    </tr>\n",
       "    <tr>\n",
       "      <th>5</th>\n",
       "      <td>muff</td>\n",
       "      <td>203</td>\n",
       "      <td>2</td>\n",
       "      <td>1.0%</td>\n",
       "    </tr>\n",
       "    <tr>\n",
       "      <th>6</th>\n",
       "      <td>no_play</td>\n",
       "      <td>139</td>\n",
       "      <td>0</td>\n",
       "      <td>0.0%</td>\n",
       "    </tr>\n",
       "    <tr>\n",
       "      <th>7</th>\n",
       "      <td>fake</td>\n",
       "      <td>45</td>\n",
       "      <td>1</td>\n",
       "      <td>2.2%</td>\n",
       "    </tr>\n",
       "    <tr>\n",
       "      <th>8</th>\n",
       "      <td>blocked</td>\n",
       "      <td>39</td>\n",
       "      <td>0</td>\n",
       "      <td>0.0%</td>\n",
       "    </tr>\n",
       "    <tr>\n",
       "      <th>9</th>\n",
       "      <td>aborted</td>\n",
       "      <td>9</td>\n",
       "      <td>0</td>\n",
       "      <td>0.0%</td>\n",
       "    </tr>\n",
       "    <tr>\n",
       "      <th>10</th>\n",
       "      <td>safety</td>\n",
       "      <td>4</td>\n",
       "      <td>0</td>\n",
       "      <td>0.0%</td>\n",
       "    </tr>\n",
       "  </tbody>\n",
       "</table>\n",
       "</div>"
      ],
      "text/plain": [
       "       outcome  total_plays  injuries injury_percentage\n",
       "0       return         2741        29              1.1%\n",
       "1   fair_catch         1659         2              0.1%\n",
       "2       downed          796         3              0.4%\n",
       "3          oob          639         0              0.0%\n",
       "4    touchback          407         0              0.0%\n",
       "5         muff          203         2              1.0%\n",
       "6      no_play          139         0              0.0%\n",
       "7         fake           45         1              2.2%\n",
       "8      blocked           39         0              0.0%\n",
       "9      aborted            9         0              0.0%\n",
       "10      safety            4         0              0.0%"
      ]
     },
     "execution_count": 74,
     "metadata": {},
     "output_type": "execute_result"
    }
   ],
   "source": [
    "pi_inj_grouped = pi.groupby(['outcome'], as_index=False)['injury'] \\\n",
    "    .agg({'total_plays':'count','injuries':sum}) \\\n",
    "    .sort_values('total_plays', ascending = False) \\\n",
    "    .reset_index(drop=True)\n",
    "\n",
    "pi_inj_grouped['injury_percentage'] = round(pi_inj_grouped['injuries'] / pi_inj_grouped['total_plays'] * 100, 1).astype(str) + '%'\n",
    "pi_inj_grouped"
   ]
  },
  {
   "cell_type": "markdown",
   "metadata": {},
   "source": [
    "#### Conclusion: over 1% of punt plays with a return have an injury\n",
    "    - **** This is 10x higher than when a fair catch is called"
   ]
  },
  {
   "cell_type": "markdown",
   "metadata": {},
   "source": [
    "#### Plot Player Paths on a Given Play"
   ]
  },
  {
   "cell_type": "code",
   "execution_count": 76,
   "metadata": {},
   "outputs": [],
   "source": [
    "# Loading and plotting functions\n",
    "\n",
    "def load_plays_for_game(GameKey):\n",
    "    \"\"\"\n",
    "    Returns a dataframe of play data for a given game (GameKey)\n",
    "    \"\"\"\n",
    "    play_information = pd.read_csv('play_information.csv')\n",
    "    play_information = play_information[play_information['GameKey'] == GameKey]\n",
    "    return play_information\n",
    "\n",
    "\n",
    "def load_game_and_ngs(ngs_file=None, GameKey=None):\n",
    "    \"\"\"\n",
    "    Returns a dataframe of player movements (NGS data) for a given game\n",
    "    \"\"\"\n",
    "    if ngs_file is None:\n",
    "        print(\"Specifiy an NGS file.\")\n",
    "        return None\n",
    "    if GameKey is None:\n",
    "        print('Specify a GameKey')\n",
    "        return None\n",
    "    # Merge play data with NGS data    \n",
    "    plays = load_plays_for_game(GameKey)\n",
    "    ngs = pd.read_csv(ngs_file, low_memory=False)\n",
    "    merged = pd.merge(ngs, plays, how=\"inner\", on=[\"GameKey\", \"PlayID\", \"Season_Year\"])\n",
    "    return merged\n",
    "\n",
    "\n",
    "def plot_play(game_df, PlayID, player1=None, player2=None, custom_layout=False):\n",
    "    \"\"\"\n",
    "    Plots player movements on the field for a given game, play, and two players\n",
    "    \"\"\"\n",
    "    game_df = game_df[game_df.PlayID==PlayID]\n",
    "    \n",
    "    GameKey=str(pd.unique(game_df.GameKey)[0])\n",
    "    HomeTeam = pd.unique(game_df.Home_Team_Visit_Team)[0].split(\"-\")[0]\n",
    "    VisitingTeam = pd.unique(game_df.Home_Team_Visit_Team)[0].split(\"-\")[1]\n",
    "    YardLine = game_df[(game_df.PlayID==PlayID) & (game_df.GSISID==player1)]['YardLine'].iloc[0]\n",
    "    \n",
    "    traces=[]   \n",
    "    if (player1 is not None) & (player2 is not None):\n",
    "        game_df = game_df[ (game_df['GSISID']==player1) | (game_df['GSISID']==player2)]\n",
    "        for player in pd.unique(game_df.GSISID):\n",
    "            player = int(player)\n",
    "            trace = go.Scatter(\n",
    "                x = game_df[game_df.GSISID==player].x,\n",
    "                y = game_df[game_df.GSISID==player].y,\n",
    "                name='GSISID '+str(player),\n",
    "                mode='markers'\n",
    "            )\n",
    "            traces.append(trace)\n",
    "    else:\n",
    "        print(\"Specify GSISIDs for player1 and player2\")\n",
    "        return None\n",
    "    \n",
    "    if custom_layout is not True:\n",
    "        layout = load_field()\n",
    "        layout['title'] =  HomeTeam + \\\n",
    "        ' vs. ' + VisitingTeam + \\\n",
    "        '<br>Possession: ' + \\\n",
    "        YardLine.split(\" \")[0] +'@'+YardLine.split(\" \")[1]\n",
    "    data = traces     \n",
    "    fig = dict(data=data, layout=layout)\n",
    "    play_description = game_df[(game_df.PlayID==PlayID) & (game_df.GSISID==player1)].iloc[0][\"PlayDescription\"]\n",
    "    print(\"\\n\\n\\t\",play_description)\n",
    "    return py.iplot(fig, filename='jupyter-table1')\n",
    "    #return offline.iplot(fig)"
   ]
  },
  {
   "cell_type": "code",
   "execution_count": 77,
   "metadata": {},
   "outputs": [],
   "source": [
    "#game280 = load_game_and_ngs('NGS-2016-reg-wk7-12.csv',GameKey=3278)"
   ]
  },
  {
   "cell_type": "code",
   "execution_count": 78,
   "metadata": {
    "scrolled": false
   },
   "outputs": [],
   "source": [
    "#plot_play(game_df=game280, PlayID=2918, player1=32120, player2=32725)"
   ]
  },
  {
   "cell_type": "markdown",
   "metadata": {},
   "source": [
    "#### Calculate hang time of punts"
   ]
  },
  {
   "cell_type": "code",
   "execution_count": 79,
   "metadata": {},
   "outputs": [],
   "source": [
    "def get_hang_time(ngs_df, start_event='punt', *stop_events):\n",
    "    punt_event = ngs_df.loc[ngs_df.Event==start_event] \\\n",
    "        .groupby(['Season_Year', 'GameKey','PlayID'], as_index = False)['Time'].min()\n",
    "    punt_event.rename(columns = {'Time':'punt_time'}, inplace=True)\n",
    "    punt_event['punt_time'] = pd.to_datetime(punt_event['punt_time'],\\\n",
    "                                             format='%Y-%m-%d %H:%M:%S.%f')\n",
    "    \n",
    "    receiving_event = ngs_df.loc[ngs_df.Event.isin(stop_events)] \\\n",
    "        .groupby(['Season_Year', 'GameKey','PlayID'], as_index = False)['Time'].min()\n",
    "    receiving_event.rename(columns = {'Time':'receiving_time'}, inplace=True)\n",
    "    receiving_event['receiving_time'] = pd.to_datetime(receiving_event['receiving_time'],\\\n",
    "                                             format='%Y-%m-%d %H:%M:%S.%f')\n",
    "    \n",
    "    punt_df = punt_event.merge(receiving_event, how='inner', on = ['Season_Year','GameKey','PlayID']) \\\n",
    "                .reset_index(drop=True)\n",
    "    \n",
    "    punt_df['hang_time'] = (punt_df['receiving_time'] - punt_df['punt_time']).dt.total_seconds()\n",
    "    \n",
    "    return punt_df"
   ]
  },
  {
   "cell_type": "code",
   "execution_count": 80,
   "metadata": {},
   "outputs": [],
   "source": [
    "punt_df = get_hang_time(NGS_df, 'punt', 'punt_received', 'fair_catch')"
   ]
  },
  {
   "cell_type": "code",
   "execution_count": 81,
   "metadata": {},
   "outputs": [
    {
     "data": {
      "text/html": [
       "<iframe id=\"igraph\" scrolling=\"no\" style=\"border:none;\" seamless=\"seamless\" src=\"https://plot.ly/~mtodisco10/10.embed\" height=\"525px\" width=\"100%\"></iframe>"
      ],
      "text/plain": [
       "<plotly.tools.PlotlyDisplay object>"
      ]
     },
     "execution_count": 81,
     "metadata": {},
     "output_type": "execute_result"
    }
   ],
   "source": [
    "data = [go.Histogram(x=punt_df.hang_time)]\n",
    "\n",
    "py.iplot(data, filename='basic histogram')"
   ]
  },
  {
   "cell_type": "code",
   "execution_count": 82,
   "metadata": {},
   "outputs": [
    {
     "data": {
      "text/plain": [
       "4.5"
      ]
     },
     "execution_count": 82,
     "metadata": {},
     "output_type": "execute_result"
    }
   ],
   "source": [
    "round(punt_df['hang_time'].mean(), 1)"
   ]
  },
  {
   "cell_type": "code",
   "execution_count": 83,
   "metadata": {},
   "outputs": [
    {
     "data": {
      "text/plain": [
       "4.5"
      ]
     },
     "execution_count": 83,
     "metadata": {},
     "output_type": "execute_result"
    }
   ],
   "source": [
    "round(punt_df['hang_time'].median(), 1)"
   ]
  },
  {
   "cell_type": "code",
   "execution_count": 84,
   "metadata": {},
   "outputs": [
    {
     "data": {
      "text/plain": [
       "'96.2% of hang times are less than 5 1/2 seconds'"
      ]
     },
     "execution_count": 84,
     "metadata": {},
     "output_type": "execute_result"
    }
   ],
   "source": [
    "str(round(len(punt_df.loc[punt_df.hang_time < 5.5]) / len(punt_df) * 100, 1)) + '% of hang times are less than 5 1/2 seconds'"
   ]
  },
  {
   "cell_type": "markdown",
   "metadata": {},
   "source": [
    "### Calculate distance between returner and closest coverage man"
   ]
  },
  {
   "cell_type": "code",
   "execution_count": 85,
   "metadata": {},
   "outputs": [],
   "source": [
    "#Create a function to calculate the space between the returner and the closest coverage player for every second between the punt and the catch\n",
    "def coverage_returner_space(play_df, ngs_df):\n",
    "    cov_ret_lst = []\n",
    "    play_df = play_df.loc[(play_df.outcome == 'fair_catch') | (play_df.outcome == 'return')].reset_index(drop=True)\n",
    "    for i in log_progress(range(0, len(play_df)), every=25):\n",
    "        season_key = play_df['Season_Year'][i]\n",
    "        game_key = play_df['GameKey'][i]\n",
    "        play_id = play_df['PlayID'][i]\n",
    "        outcome = play_df['outcome'][i]\n",
    "        injury = play_df['injury'][i]\n",
    "        if game_key in ngs_df.GameKey and play_id in ngs_df.PlayID:\n",
    "            filtered_play = ngs_df.loc[(ngs_df.GameKey == game_key) \\\n",
    "                                       & (ngs_df.PlayID == play_id)].sort_values('Time').reset_index(drop=True)\n",
    "            filtered_play = filtered_play.merge(play_player_role, \\\n",
    "                                                how='inner', on = ['Season_Year','GameKey','PlayID','GSISID'])\n",
    "            if len(filtered_play) > 0:\n",
    "                filtered_play['Time'] = pd.to_datetime(filtered_play['Time'], \\\n",
    "                                                       format='%Y-%m-%d %H:%M:%S.%f')\n",
    "                punt_event_time = filtered_play.loc[filtered_play.Event == 'punt'].Time.min()\n",
    "                receiving_event_time = filtered_play.loc[(filtered_play.Event == 'punt_received') | \\\n",
    "                                                         (filtered_play.Event == 'fair_catch')].Time.min()\n",
    "                gunner_blocker_count = len(filtered_play.loc[filtered_play['Role'].isin(gunner_blockers)]['Role'].unique())\n",
    "                filtered_play = filtered_play.loc[(filtered_play.Time >= punt_event_time) & \\\n",
    "                                                  (filtered_play.Time <= receiving_event_time)]\n",
    "                coverage_df = filtered_play.loc[filtered_play['Role'].isin(coverage_roles)].sort_values('Time')\n",
    "                coverage_df.rename(columns={'x':'cov_x', \n",
    "                                          'y': 'cov_y',\n",
    "                                          'GSISID': 'cov_GSISID',\n",
    "                                          'dis': 'cov_dis',\n",
    "                                          'o': 'cov_o',\n",
    "                                          'dir': 'cov_dir',\n",
    "                                          'Role': 'cov_Role'\n",
    "                                         }, inplace=True)\n",
    "                \n",
    "                returner_df = filtered_play.loc[filtered_play['Role'] == 'PR'].sort_values('Time')\n",
    "                returner_df.rename(columns={'x':'ret_x', \n",
    "                                          'y': 'ret_y',\n",
    "                                          'GSISID': 'ret_GSISID',\n",
    "                                          'dis': 'ret_dis',\n",
    "                                          'o': 'ret_o',\n",
    "                                          'dir': 'ret_dir',\n",
    "                                          'Role': 'ret_Role'\n",
    "                                         }, inplace=True)\n",
    "                returner_df = returner_df.drop('Event', axis = 1)\n",
    "                \n",
    "                cov_ret_df = coverage_df.merge(returner_df, how ='inner', on = ['Season_Year','GameKey','PlayID','Time'])\n",
    "                cov_ret_df['dis_from_ret'] = ((cov_ret_df['cov_x'] -  cov_ret_df['ret_x']) ** 2 \\\n",
    "                                           + (cov_ret_df['cov_y'] -  cov_ret_df['ret_y']) ** 2).apply(np.sqrt)\n",
    "                cov_ret_df['time_since_punt'] = cov_ret_df['Time'] - punt_event_time\n",
    "                times_to_capture = [punt_event_time + pd.Timedelta(seconds=i) for i in range(1, 7)]\n",
    "                cov_ret_df = cov_ret_df.loc[cov_ret_df['Time'].isin(times_to_capture)]\n",
    "                cov_ret_df['gunner_blockers'] = gunner_blocker_count\n",
    "                cov_ret_df['outcome'] = outcome\n",
    "                cov_ret_df['injury'] = injury\n",
    "                cov_ret_df['cov_speed'] = convert_to_mph(cov_ret_df.cov_dis, 20.455)\n",
    "                cov_ret_df['ret_speed'] = convert_to_mph(cov_ret_df.ret_dis, 20.455)\n",
    "                if len(cov_ret_df) > 0:\n",
    "                    cov_ret_lst.append(cov_ret_df)\n",
    "                    \n",
    "    cov_ret_df = pd.concat(cov_ret_lst).reset_index(drop=True)          \n",
    "    return cov_ret_df"
   ]
  },
  {
   "cell_type": "code",
   "execution_count": 86,
   "metadata": {},
   "outputs": [],
   "source": [
    "def convert_to_mph(dis_vector, converter):\n",
    "    mph_vector = dis_vector * converter\n",
    "    return mph_vector"
   ]
  },
  {
   "cell_type": "code",
   "execution_count": 87,
   "metadata": {},
   "outputs": [
    {
     "data": {
      "application/vnd.jupyter.widget-view+json": {
       "model_id": "f094f80b401d4203af26dda3c197b603",
       "version_major": 2,
       "version_minor": 0
      },
      "text/plain": [
       "VBox(children=(HTML(value=''), IntProgress(value=0, max=4400)))"
      ]
     },
     "metadata": {},
     "output_type": "display_data"
    }
   ],
   "source": [
    "cov_ret_df = coverage_returner_space(pi, NGS_df)"
   ]
  },
  {
   "cell_type": "code",
   "execution_count": 88,
   "metadata": {},
   "outputs": [
    {
     "data": {
      "text/plain": [
       "2    0.452008\n",
       "3    0.315041\n",
       "4    0.214374\n",
       "1    0.010546\n",
       "0    0.008032\n",
       "Name: gunner_blockers, dtype: float64"
      ]
     },
     "execution_count": 88,
     "metadata": {},
     "output_type": "execute_result"
    }
   ],
   "source": [
    "cov_ret_df.gunner_blockers.value_counts(normalize=True)"
   ]
  },
  {
   "cell_type": "code",
   "execution_count": 89,
   "metadata": {},
   "outputs": [
    {
     "data": {
      "text/html": [
       "<div>\n",
       "<style>\n",
       "    .dataframe thead tr:only-child th {\n",
       "        text-align: right;\n",
       "    }\n",
       "\n",
       "    .dataframe thead th {\n",
       "        text-align: left;\n",
       "    }\n",
       "\n",
       "    .dataframe tbody tr th {\n",
       "        vertical-align: top;\n",
       "    }\n",
       "</style>\n",
       "<table border=\"1\" class=\"dataframe\">\n",
       "  <thead>\n",
       "    <tr>\n",
       "      <th></th>\n",
       "      <th colspan=\"6\" halign=\"left\">mean</th>\n",
       "      <th colspan=\"6\" halign=\"left\">median</th>\n",
       "    </tr>\n",
       "    <tr>\n",
       "      <th>time_since_punt</th>\n",
       "      <th>00:00:01</th>\n",
       "      <th>00:00:02</th>\n",
       "      <th>00:00:03</th>\n",
       "      <th>00:00:04</th>\n",
       "      <th>00:00:05</th>\n",
       "      <th>00:00:06</th>\n",
       "      <th>00:00:01</th>\n",
       "      <th>00:00:02</th>\n",
       "      <th>00:00:03</th>\n",
       "      <th>00:00:04</th>\n",
       "      <th>00:00:05</th>\n",
       "      <th>00:00:06</th>\n",
       "    </tr>\n",
       "    <tr>\n",
       "      <th>gunner_blockers</th>\n",
       "      <th></th>\n",
       "      <th></th>\n",
       "      <th></th>\n",
       "      <th></th>\n",
       "      <th></th>\n",
       "      <th></th>\n",
       "      <th></th>\n",
       "      <th></th>\n",
       "      <th></th>\n",
       "      <th></th>\n",
       "      <th></th>\n",
       "      <th></th>\n",
       "    </tr>\n",
       "  </thead>\n",
       "  <tbody>\n",
       "    <tr>\n",
       "      <th>0</th>\n",
       "      <td>12.207252</td>\n",
       "      <td>14.376943</td>\n",
       "      <td>14.873707</td>\n",
       "      <td>13.799258</td>\n",
       "      <td>10.994562</td>\n",
       "      <td>NaN</td>\n",
       "      <td>12.06845</td>\n",
       "      <td>15.034425</td>\n",
       "      <td>16.364000</td>\n",
       "      <td>14.31850</td>\n",
       "      <td>10.636600</td>\n",
       "      <td>NaN</td>\n",
       "    </tr>\n",
       "    <tr>\n",
       "      <th>1</th>\n",
       "      <td>16.478167</td>\n",
       "      <td>17.106088</td>\n",
       "      <td>16.039713</td>\n",
       "      <td>14.103184</td>\n",
       "      <td>8.113817</td>\n",
       "      <td>NaN</td>\n",
       "      <td>17.79585</td>\n",
       "      <td>18.818600</td>\n",
       "      <td>18.000400</td>\n",
       "      <td>15.95490</td>\n",
       "      <td>5.113750</td>\n",
       "      <td>NaN</td>\n",
       "    </tr>\n",
       "    <tr>\n",
       "      <th>2</th>\n",
       "      <td>17.688000</td>\n",
       "      <td>18.704544</td>\n",
       "      <td>17.637601</td>\n",
       "      <td>15.064499</td>\n",
       "      <td>12.696641</td>\n",
       "      <td>13.155122</td>\n",
       "      <td>18.20495</td>\n",
       "      <td>19.432250</td>\n",
       "      <td>18.614051</td>\n",
       "      <td>16.15945</td>\n",
       "      <td>13.500301</td>\n",
       "      <td>13.500300</td>\n",
       "    </tr>\n",
       "    <tr>\n",
       "      <th>3</th>\n",
       "      <td>16.188485</td>\n",
       "      <td>17.450438</td>\n",
       "      <td>17.401698</td>\n",
       "      <td>16.163206</td>\n",
       "      <td>14.145769</td>\n",
       "      <td>10.747398</td>\n",
       "      <td>16.97765</td>\n",
       "      <td>18.000400</td>\n",
       "      <td>18.204950</td>\n",
       "      <td>16.97765</td>\n",
       "      <td>15.136700</td>\n",
       "      <td>9.920675</td>\n",
       "    </tr>\n",
       "    <tr>\n",
       "      <th>4</th>\n",
       "      <td>14.598701</td>\n",
       "      <td>16.079530</td>\n",
       "      <td>16.354877</td>\n",
       "      <td>16.185452</td>\n",
       "      <td>14.298784</td>\n",
       "      <td>12.324138</td>\n",
       "      <td>15.54580</td>\n",
       "      <td>16.773100</td>\n",
       "      <td>17.386750</td>\n",
       "      <td>16.56855</td>\n",
       "      <td>15.341250</td>\n",
       "      <td>13.091200</td>\n",
       "    </tr>\n",
       "  </tbody>\n",
       "</table>\n",
       "</div>"
      ],
      "text/plain": [
       "                      mean                                              \\\n",
       "time_since_punt   00:00:01   00:00:02   00:00:03   00:00:04   00:00:05   \n",
       "gunner_blockers                                                          \n",
       "0                12.207252  14.376943  14.873707  13.799258  10.994562   \n",
       "1                16.478167  17.106088  16.039713  14.103184   8.113817   \n",
       "2                17.688000  18.704544  17.637601  15.064499  12.696641   \n",
       "3                16.188485  17.450438  17.401698  16.163206  14.145769   \n",
       "4                14.598701  16.079530  16.354877  16.185452  14.298784   \n",
       "\n",
       "                              median                                  \\\n",
       "time_since_punt   00:00:06  00:00:01   00:00:02   00:00:03  00:00:04   \n",
       "gunner_blockers                                                        \n",
       "0                      NaN  12.06845  15.034425  16.364000  14.31850   \n",
       "1                      NaN  17.79585  18.818600  18.000400  15.95490   \n",
       "2                13.155122  18.20495  19.432250  18.614051  16.15945   \n",
       "3                10.747398  16.97765  18.000400  18.204950  16.97765   \n",
       "4                12.324138  15.54580  16.773100  17.386750  16.56855   \n",
       "\n",
       "                                       \n",
       "time_since_punt   00:00:05   00:00:06  \n",
       "gunner_blockers                        \n",
       "0                10.636600        NaN  \n",
       "1                 5.113750        NaN  \n",
       "2                13.500301  13.500300  \n",
       "3                15.136700   9.920675  \n",
       "4                15.341250  13.091200  "
      ]
     },
     "execution_count": 89,
     "metadata": {},
     "output_type": "execute_result"
    }
   ],
   "source": [
    "#Speed vs Number of Gunner Blockers at each second.\n",
    "\n",
    "pd.pivot_table(cov_ret_df.loc[(cov_ret_df.cov_Role == 'GR') | (cov_ret_df.cov_Role == 'GL')], \n",
    "               index=['gunner_blockers'], values='cov_speed',\n",
    "               columns=['time_since_punt'], aggfunc=[np.mean, np.median])"
   ]
  },
  {
   "cell_type": "code",
   "execution_count": 90,
   "metadata": {},
   "outputs": [
    {
     "data": {
      "text/html": [
       "<div>\n",
       "<style>\n",
       "    .dataframe thead tr:only-child th {\n",
       "        text-align: right;\n",
       "    }\n",
       "\n",
       "    .dataframe thead th {\n",
       "        text-align: left;\n",
       "    }\n",
       "\n",
       "    .dataframe tbody tr th {\n",
       "        vertical-align: top;\n",
       "    }\n",
       "</style>\n",
       "<table border=\"1\" class=\"dataframe\">\n",
       "  <thead>\n",
       "    <tr>\n",
       "      <th></th>\n",
       "      <th colspan=\"2\" halign=\"left\">mean</th>\n",
       "      <th colspan=\"2\" halign=\"left\">median</th>\n",
       "    </tr>\n",
       "    <tr>\n",
       "      <th>outcome</th>\n",
       "      <th>fair_catch</th>\n",
       "      <th>return</th>\n",
       "      <th>fair_catch</th>\n",
       "      <th>return</th>\n",
       "    </tr>\n",
       "    <tr>\n",
       "      <th>time_since_punt</th>\n",
       "      <th></th>\n",
       "      <th></th>\n",
       "      <th></th>\n",
       "      <th></th>\n",
       "    </tr>\n",
       "  </thead>\n",
       "  <tbody>\n",
       "    <tr>\n",
       "      <th>00:00:01</th>\n",
       "      <td>44.981770</td>\n",
       "      <td>48.471472</td>\n",
       "      <td>45.835058</td>\n",
       "      <td>48.650525</td>\n",
       "    </tr>\n",
       "    <tr>\n",
       "      <th>00:00:02</th>\n",
       "      <td>39.764362</td>\n",
       "      <td>43.661609</td>\n",
       "      <td>40.626422</td>\n",
       "      <td>43.601212</td>\n",
       "    </tr>\n",
       "    <tr>\n",
       "      <th>00:00:03</th>\n",
       "      <td>32.648800</td>\n",
       "      <td>37.529814</td>\n",
       "      <td>32.992786</td>\n",
       "      <td>37.158332</td>\n",
       "    </tr>\n",
       "    <tr>\n",
       "      <th>00:00:04</th>\n",
       "      <td>25.657960</td>\n",
       "      <td>31.941834</td>\n",
       "      <td>25.043261</td>\n",
       "      <td>31.169567</td>\n",
       "    </tr>\n",
       "    <tr>\n",
       "      <th>00:00:05</th>\n",
       "      <td>21.558572</td>\n",
       "      <td>27.815634</td>\n",
       "      <td>20.157205</td>\n",
       "      <td>26.088771</td>\n",
       "    </tr>\n",
       "    <tr>\n",
       "      <th>00:00:06</th>\n",
       "      <td>20.045922</td>\n",
       "      <td>22.920683</td>\n",
       "      <td>17.030813</td>\n",
       "      <td>20.193484</td>\n",
       "    </tr>\n",
       "  </tbody>\n",
       "</table>\n",
       "</div>"
      ],
      "text/plain": [
       "                      mean                median           \n",
       "outcome         fair_catch     return fair_catch     return\n",
       "time_since_punt                                            \n",
       "00:00:01         44.981770  48.471472  45.835058  48.650525\n",
       "00:00:02         39.764362  43.661609  40.626422  43.601212\n",
       "00:00:03         32.648800  37.529814  32.992786  37.158332\n",
       "00:00:04         25.657960  31.941834  25.043261  31.169567\n",
       "00:00:05         21.558572  27.815634  20.157205  26.088771\n",
       "00:00:06         20.045922  22.920683  17.030813  20.193484"
      ]
     },
     "execution_count": 90,
     "metadata": {},
     "output_type": "execute_result"
    }
   ],
   "source": [
    "# Average distance for all player at the X second mark.  Return vs Fair Catch\n",
    "pd.pivot_table(cov_ret_df, values='dis_from_ret', index=['time_since_punt'], columns=['outcome'], aggfunc=[np.mean, np.median])"
   ]
  },
  {
   "cell_type": "code",
   "execution_count": 91,
   "metadata": {},
   "outputs": [
    {
     "data": {
      "text/html": [
       "<div>\n",
       "<style>\n",
       "    .dataframe thead tr:only-child th {\n",
       "        text-align: right;\n",
       "    }\n",
       "\n",
       "    .dataframe thead th {\n",
       "        text-align: left;\n",
       "    }\n",
       "\n",
       "    .dataframe tbody tr th {\n",
       "        vertical-align: top;\n",
       "    }\n",
       "</style>\n",
       "<table border=\"1\" class=\"dataframe\">\n",
       "  <thead>\n",
       "    <tr>\n",
       "      <th>outcome</th>\n",
       "      <th colspan=\"5\" halign=\"left\">fair_catch</th>\n",
       "      <th colspan=\"5\" halign=\"left\">return</th>\n",
       "    </tr>\n",
       "    <tr>\n",
       "      <th>gunner_blockers</th>\n",
       "      <th>0</th>\n",
       "      <th>1</th>\n",
       "      <th>2</th>\n",
       "      <th>3</th>\n",
       "      <th>4</th>\n",
       "      <th>0</th>\n",
       "      <th>1</th>\n",
       "      <th>2</th>\n",
       "      <th>3</th>\n",
       "      <th>4</th>\n",
       "    </tr>\n",
       "    <tr>\n",
       "      <th>time_since_punt</th>\n",
       "      <th></th>\n",
       "      <th></th>\n",
       "      <th></th>\n",
       "      <th></th>\n",
       "      <th></th>\n",
       "      <th></th>\n",
       "      <th></th>\n",
       "      <th></th>\n",
       "      <th></th>\n",
       "      <th></th>\n",
       "    </tr>\n",
       "  </thead>\n",
       "  <tbody>\n",
       "    <tr>\n",
       "      <th>00:00:01</th>\n",
       "      <td>47.026353</td>\n",
       "      <td>45.737942</td>\n",
       "      <td>44.068027</td>\n",
       "      <td>46.930285</td>\n",
       "      <td>46.565428</td>\n",
       "      <td>46.983556</td>\n",
       "      <td>48.445778</td>\n",
       "      <td>48.368493</td>\n",
       "      <td>48.675125</td>\n",
       "      <td>48.373827</td>\n",
       "    </tr>\n",
       "    <tr>\n",
       "      <th>00:00:02</th>\n",
       "      <td>43.257939</td>\n",
       "      <td>40.529952</td>\n",
       "      <td>38.909135</td>\n",
       "      <td>41.631461</td>\n",
       "      <td>41.003706</td>\n",
       "      <td>43.333499</td>\n",
       "      <td>44.139564</td>\n",
       "      <td>43.593242</td>\n",
       "      <td>43.744613</td>\n",
       "      <td>43.630136</td>\n",
       "    </tr>\n",
       "    <tr>\n",
       "      <th>00:00:03</th>\n",
       "      <td>37.062254</td>\n",
       "      <td>32.949803</td>\n",
       "      <td>32.065706</td>\n",
       "      <td>34.121274</td>\n",
       "      <td>32.869441</td>\n",
       "      <td>38.404080</td>\n",
       "      <td>37.964010</td>\n",
       "      <td>37.697907</td>\n",
       "      <td>37.514769</td>\n",
       "      <td>37.311463</td>\n",
       "    </tr>\n",
       "    <tr>\n",
       "      <th>00:00:04</th>\n",
       "      <td>29.816221</td>\n",
       "      <td>25.670866</td>\n",
       "      <td>25.555991</td>\n",
       "      <td>26.294769</td>\n",
       "      <td>24.706815</td>\n",
       "      <td>32.182807</td>\n",
       "      <td>32.015652</td>\n",
       "      <td>32.523455</td>\n",
       "      <td>31.754301</td>\n",
       "      <td>31.540063</td>\n",
       "    </tr>\n",
       "    <tr>\n",
       "      <th>00:00:05</th>\n",
       "      <td>23.292701</td>\n",
       "      <td>21.354172</td>\n",
       "      <td>22.111357</td>\n",
       "      <td>21.385757</td>\n",
       "      <td>20.327672</td>\n",
       "      <td>21.483868</td>\n",
       "      <td>31.668453</td>\n",
       "      <td>28.495432</td>\n",
       "      <td>27.391732</td>\n",
       "      <td>28.036701</td>\n",
       "    </tr>\n",
       "    <tr>\n",
       "      <th>00:00:06</th>\n",
       "      <td>NaN</td>\n",
       "      <td>NaN</td>\n",
       "      <td>NaN</td>\n",
       "      <td>NaN</td>\n",
       "      <td>20.045922</td>\n",
       "      <td>NaN</td>\n",
       "      <td>NaN</td>\n",
       "      <td>24.452747</td>\n",
       "      <td>20.625897</td>\n",
       "      <td>25.432733</td>\n",
       "    </tr>\n",
       "  </tbody>\n",
       "</table>\n",
       "</div>"
      ],
      "text/plain": [
       "outcome         fair_catch                                              \\\n",
       "gunner_blockers          0          1          2          3          4   \n",
       "time_since_punt                                                          \n",
       "00:00:01         47.026353  45.737942  44.068027  46.930285  46.565428   \n",
       "00:00:02         43.257939  40.529952  38.909135  41.631461  41.003706   \n",
       "00:00:03         37.062254  32.949803  32.065706  34.121274  32.869441   \n",
       "00:00:04         29.816221  25.670866  25.555991  26.294769  24.706815   \n",
       "00:00:05         23.292701  21.354172  22.111357  21.385757  20.327672   \n",
       "00:00:06               NaN        NaN        NaN        NaN  20.045922   \n",
       "\n",
       "outcome             return                                              \n",
       "gunner_blockers          0          1          2          3          4  \n",
       "time_since_punt                                                         \n",
       "00:00:01         46.983556  48.445778  48.368493  48.675125  48.373827  \n",
       "00:00:02         43.333499  44.139564  43.593242  43.744613  43.630136  \n",
       "00:00:03         38.404080  37.964010  37.697907  37.514769  37.311463  \n",
       "00:00:04         32.182807  32.015652  32.523455  31.754301  31.540063  \n",
       "00:00:05         21.483868  31.668453  28.495432  27.391732  28.036701  \n",
       "00:00:06               NaN        NaN  24.452747  20.625897  25.432733  "
      ]
     },
     "execution_count": 91,
     "metadata": {},
     "output_type": "execute_result"
    }
   ],
   "source": [
    "pd.pivot_table(cov_ret_df, values='dis_from_ret', index=['time_since_punt'], columns=['outcome','gunner_blockers'], aggfunc=np.mean)"
   ]
  },
  {
   "cell_type": "code",
   "execution_count": 92,
   "metadata": {},
   "outputs": [],
   "source": [
    "#### At each second of each play... Who is the closest to the returner?  How far away are they?  Return vs Fair Catch"
   ]
  },
  {
   "cell_type": "code",
   "execution_count": 93,
   "metadata": {},
   "outputs": [],
   "source": [
    "min_dist_from_ret = cov_ret_df.groupby(['Season_Year', 'GameKey','PlayID','time_since_punt'], as_index = False)['dis_from_ret'].min()"
   ]
  },
  {
   "cell_type": "code",
   "execution_count": 94,
   "metadata": {},
   "outputs": [
    {
     "data": {
      "text/html": [
       "<div>\n",
       "<style>\n",
       "    .dataframe thead tr:only-child th {\n",
       "        text-align: right;\n",
       "    }\n",
       "\n",
       "    .dataframe thead th {\n",
       "        text-align: left;\n",
       "    }\n",
       "\n",
       "    .dataframe tbody tr th {\n",
       "        vertical-align: top;\n",
       "    }\n",
       "</style>\n",
       "<table border=\"1\" class=\"dataframe\">\n",
       "  <thead>\n",
       "    <tr style=\"text-align: right;\">\n",
       "      <th></th>\n",
       "      <th>Season_Year</th>\n",
       "      <th>GameKey</th>\n",
       "      <th>PlayID</th>\n",
       "      <th>time_since_punt</th>\n",
       "      <th>dis_from_ret</th>\n",
       "    </tr>\n",
       "  </thead>\n",
       "  <tbody>\n",
       "    <tr>\n",
       "      <th>0</th>\n",
       "      <td>2016</td>\n",
       "      <td>3</td>\n",
       "      <td>455</td>\n",
       "      <td>00:00:01</td>\n",
       "      <td>39.068560</td>\n",
       "    </tr>\n",
       "    <tr>\n",
       "      <th>1</th>\n",
       "      <td>2016</td>\n",
       "      <td>3</td>\n",
       "      <td>455</td>\n",
       "      <td>00:00:02</td>\n",
       "      <td>31.370344</td>\n",
       "    </tr>\n",
       "    <tr>\n",
       "      <th>2</th>\n",
       "      <td>2016</td>\n",
       "      <td>3</td>\n",
       "      <td>455</td>\n",
       "      <td>00:00:03</td>\n",
       "      <td>21.645880</td>\n",
       "    </tr>\n",
       "    <tr>\n",
       "      <th>3</th>\n",
       "      <td>2016</td>\n",
       "      <td>3</td>\n",
       "      <td>455</td>\n",
       "      <td>00:00:04</td>\n",
       "      <td>11.321985</td>\n",
       "    </tr>\n",
       "    <tr>\n",
       "      <th>4</th>\n",
       "      <td>2016</td>\n",
       "      <td>3</td>\n",
       "      <td>1542</td>\n",
       "      <td>00:00:01</td>\n",
       "      <td>38.607731</td>\n",
       "    </tr>\n",
       "  </tbody>\n",
       "</table>\n",
       "</div>"
      ],
      "text/plain": [
       "   Season_Year  GameKey  PlayID time_since_punt  dis_from_ret\n",
       "0         2016        3     455        00:00:01     39.068560\n",
       "1         2016        3     455        00:00:02     31.370344\n",
       "2         2016        3     455        00:00:03     21.645880\n",
       "3         2016        3     455        00:00:04     11.321985\n",
       "4         2016        3    1542        00:00:01     38.607731"
      ]
     },
     "execution_count": 94,
     "metadata": {},
     "output_type": "execute_result"
    }
   ],
   "source": [
    "min_dist_from_ret.head()"
   ]
  },
  {
   "cell_type": "code",
   "execution_count": 95,
   "metadata": {},
   "outputs": [],
   "source": [
    "closest_df = cov_ret_df.merge(min_dist_from_ret.drop('time_since_punt', axis = 1), how = 'inner', on=['Season_Year', 'GameKey', 'PlayID', 'dis_from_ret'])"
   ]
  },
  {
   "cell_type": "code",
   "execution_count": 139,
   "metadata": {},
   "outputs": [],
   "source": [
    "ex_cr = cov_ret_df.loc[(cov_ret_df.Season_Year==2016) & (cov_ret_df.GameKey== 289) \\\n",
    "                      & (cov_ret_df.PlayID== 2341) & (cov_ret_df.cov_GSISID== 32007)].sort_values('Time')"
   ]
  },
  {
   "cell_type": "code",
   "execution_count": 146,
   "metadata": {},
   "outputs": [
    {
     "data": {
      "text/html": [
       "<div>\n",
       "<style>\n",
       "    .dataframe thead tr:only-child th {\n",
       "        text-align: right;\n",
       "    }\n",
       "\n",
       "    .dataframe thead th {\n",
       "        text-align: left;\n",
       "    }\n",
       "\n",
       "    .dataframe tbody tr th {\n",
       "        vertical-align: top;\n",
       "    }\n",
       "</style>\n",
       "<table border=\"1\" class=\"dataframe\">\n",
       "  <thead>\n",
       "    <tr style=\"text-align: right;\">\n",
       "      <th></th>\n",
       "      <th>Season_Year</th>\n",
       "      <th>GameKey</th>\n",
       "      <th>PlayID</th>\n",
       "      <th>cov_GSISID</th>\n",
       "      <th>Time</th>\n",
       "      <th>cov_x</th>\n",
       "      <th>cov_y</th>\n",
       "      <th>cov_dis</th>\n",
       "      <th>cov_o</th>\n",
       "      <th>cov_dir</th>\n",
       "      <th>...</th>\n",
       "      <th>ret_o</th>\n",
       "      <th>ret_dir</th>\n",
       "      <th>ret_Role</th>\n",
       "      <th>dis_from_ret</th>\n",
       "      <th>time_since_punt</th>\n",
       "      <th>gunner_blockers</th>\n",
       "      <th>outcome</th>\n",
       "      <th>injury</th>\n",
       "      <th>cov_speed</th>\n",
       "      <th>ret_speed</th>\n",
       "    </tr>\n",
       "  </thead>\n",
       "  <tbody>\n",
       "    <tr>\n",
       "      <th>83034</th>\n",
       "      <td>2016</td>\n",
       "      <td>289</td>\n",
       "      <td>2341</td>\n",
       "      <td>32007</td>\n",
       "      <td>2016-12-20 03:19:49.200</td>\n",
       "      <td>48.459999</td>\n",
       "      <td>39.070000</td>\n",
       "      <td>0.81</td>\n",
       "      <td>2.920000</td>\n",
       "      <td>101.209999</td>\n",
       "      <td>...</td>\n",
       "      <td>173.960007</td>\n",
       "      <td>205.169998</td>\n",
       "      <td>PR</td>\n",
       "      <td>38.630332</td>\n",
       "      <td>00:00:01</td>\n",
       "      <td>3</td>\n",
       "      <td>return</td>\n",
       "      <td>1</td>\n",
       "      <td>16.56855</td>\n",
       "      <td>2.65915</td>\n",
       "    </tr>\n",
       "    <tr>\n",
       "      <th>83042</th>\n",
       "      <td>2016</td>\n",
       "      <td>289</td>\n",
       "      <td>2341</td>\n",
       "      <td>32007</td>\n",
       "      <td>2016-12-20 03:19:50.200</td>\n",
       "      <td>56.730000</td>\n",
       "      <td>36.599998</td>\n",
       "      <td>0.95</td>\n",
       "      <td>40.200001</td>\n",
       "      <td>108.470001</td>\n",
       "      <td>...</td>\n",
       "      <td>176.490005</td>\n",
       "      <td>124.139999</td>\n",
       "      <td>PR</td>\n",
       "      <td>30.616338</td>\n",
       "      <td>00:00:02</td>\n",
       "      <td>3</td>\n",
       "      <td>return</td>\n",
       "      <td>1</td>\n",
       "      <td>19.43225</td>\n",
       "      <td>3.47735</td>\n",
       "    </tr>\n",
       "    <tr>\n",
       "      <th>83061</th>\n",
       "      <td>2016</td>\n",
       "      <td>289</td>\n",
       "      <td>2341</td>\n",
       "      <td>32007</td>\n",
       "      <td>2016-12-20 03:19:51.200</td>\n",
       "      <td>65.500000</td>\n",
       "      <td>33.520000</td>\n",
       "      <td>0.90</td>\n",
       "      <td>43.470001</td>\n",
       "      <td>106.339996</td>\n",
       "      <td>...</td>\n",
       "      <td>184.729996</td>\n",
       "      <td>67.169998</td>\n",
       "      <td>PR</td>\n",
       "      <td>22.786068</td>\n",
       "      <td>00:00:03</td>\n",
       "      <td>3</td>\n",
       "      <td>return</td>\n",
       "      <td>1</td>\n",
       "      <td>18.40950</td>\n",
       "      <td>2.45460</td>\n",
       "    </tr>\n",
       "    <tr>\n",
       "      <th>83065</th>\n",
       "      <td>2016</td>\n",
       "      <td>289</td>\n",
       "      <td>2341</td>\n",
       "      <td>32007</td>\n",
       "      <td>2016-12-20 03:19:52.200</td>\n",
       "      <td>73.760002</td>\n",
       "      <td>31.490000</td>\n",
       "      <td>0.74</td>\n",
       "      <td>48.580002</td>\n",
       "      <td>96.489998</td>\n",
       "      <td>...</td>\n",
       "      <td>188.220001</td>\n",
       "      <td>31.000000</td>\n",
       "      <td>PR</td>\n",
       "      <td>15.090299</td>\n",
       "      <td>00:00:04</td>\n",
       "      <td>3</td>\n",
       "      <td>return</td>\n",
       "      <td>1</td>\n",
       "      <td>15.13670</td>\n",
       "      <td>3.27280</td>\n",
       "    </tr>\n",
       "  </tbody>\n",
       "</table>\n",
       "<p>4 rows × 26 columns</p>\n",
       "</div>"
      ],
      "text/plain": [
       "       Season_Year  GameKey  PlayID cov_GSISID                    Time  \\\n",
       "83034         2016      289    2341      32007 2016-12-20 03:19:49.200   \n",
       "83042         2016      289    2341      32007 2016-12-20 03:19:50.200   \n",
       "83061         2016      289    2341      32007 2016-12-20 03:19:51.200   \n",
       "83065         2016      289    2341      32007 2016-12-20 03:19:52.200   \n",
       "\n",
       "           cov_x      cov_y  cov_dis      cov_o     cov_dir    ...      \\\n",
       "83034  48.459999  39.070000     0.81   2.920000  101.209999    ...       \n",
       "83042  56.730000  36.599998     0.95  40.200001  108.470001    ...       \n",
       "83061  65.500000  33.520000     0.90  43.470001  106.339996    ...       \n",
       "83065  73.760002  31.490000     0.74  48.580002   96.489998    ...       \n",
       "\n",
       "            ret_o     ret_dir ret_Role  dis_from_ret  time_since_punt  \\\n",
       "83034  173.960007  205.169998       PR     38.630332         00:00:01   \n",
       "83042  176.490005  124.139999       PR     30.616338         00:00:02   \n",
       "83061  184.729996   67.169998       PR     22.786068         00:00:03   \n",
       "83065  188.220001   31.000000       PR     15.090299         00:00:04   \n",
       "\n",
       "       gunner_blockers  outcome  injury cov_speed  ret_speed  \n",
       "83034                3   return       1  16.56855    2.65915  \n",
       "83042                3   return       1  19.43225    3.47735  \n",
       "83061                3   return       1  18.40950    2.45460  \n",
       "83065                3   return       1  15.13670    3.27280  \n",
       "\n",
       "[4 rows x 26 columns]"
      ]
     },
     "execution_count": 146,
     "metadata": {},
     "output_type": "execute_result"
    }
   ],
   "source": [
    "ex_cr.head()"
   ]
  },
  {
   "cell_type": "code",
   "execution_count": 145,
   "metadata": {},
   "outputs": [],
   "source": [
    "#video_review.head(20)"
   ]
  },
  {
   "cell_type": "code",
   "execution_count": 142,
   "metadata": {},
   "outputs": [],
   "source": [
    "x1 = np.array(ex_cr.cov_x)\n",
    "y1 = np.array(ex_cr.cov_y)\n",
    "\n",
    "x2 = np.array(ex_cr.ret_x)\n",
    "y2 = np.array(ex_cr.ret_y)"
   ]
  },
  {
   "cell_type": "code",
   "execution_count": 143,
   "metadata": {},
   "outputs": [
    {
     "data": {
      "text/plain": [
       "array([ 24.36000061,  22.84000015,  23.19000053,  23.93000031])"
      ]
     },
     "execution_count": 143,
     "metadata": {},
     "output_type": "execute_result"
    }
   ],
   "source": [
    "y2"
   ]
  },
  {
   "cell_type": "code",
   "execution_count": 144,
   "metadata": {},
   "outputs": [
    {
     "data": {
      "text/html": [
       "<iframe id=\"igraph\" scrolling=\"no\" style=\"border:none;\" seamless=\"seamless\" src=\"https://plot.ly/~mtodisco10/37.embed\" height=\"525px\" width=\"100%\"></iframe>"
      ],
      "text/plain": [
       "<plotly.tools.PlotlyDisplay object>"
      ]
     },
     "execution_count": 144,
     "metadata": {},
     "output_type": "execute_result"
    }
   ],
   "source": [
    "from plotly.offline import init_notebook_mode, iplot\n",
    "from IPython.display import display, HTML\n",
    "\n",
    "data=[dict(x=x1, y=y1, \n",
    "           mode='lines', \n",
    "           line=dict(width=2, color='blue')\n",
    "          ),\n",
    "      dict(x=x2, y=y2, \n",
    "           mode='lines', \n",
    "           line=dict(width=2, color='orange')\n",
    "          )\n",
    "    ]\n",
    "\n",
    "layout = load_field()\n",
    "layout['hovermode'] = 'closest'\n",
    "layout['updatemenus'] = [{'type': 'buttons',\n",
    "                           'buttons': [{'label': 'Play',\n",
    "                                        'method': 'animate',\n",
    "                                        'args': [None]}]}]\n",
    "\n",
    "N = len(x1)\n",
    "frames=[dict(data=[dict(x=[x1[k]], \n",
    "                        y=[y1[k]], \n",
    "                        mode='markers', \n",
    "                        marker=dict(color='red', size=10)\n",
    "                        )\n",
    "                  ]) for k in range(N)]\n",
    "          \n",
    "figure1=dict(data=data, layout=layout, frames=frames)\n",
    "py.iplot(figure1)"
   ]
  },
  {
   "cell_type": "code",
   "execution_count": 96,
   "metadata": {},
   "outputs": [],
   "source": [
    "#closest_df.groupby(['time_since_punt','cov_Role'], as_index=False)['dis_from_ret'].agg({'# of times closest': 'count','avg distance':np.mean}).sort_values('# of times closest', ascending =False)"
   ]
  },
  {
   "cell_type": "code",
   "execution_count": 97,
   "metadata": {},
   "outputs": [],
   "source": [
    "pos_grouped_df = cov_ret_df.groupby(['cov_Role','time_since_punt', 'outcome'], as_index=False)['dis_from_ret'].mean()"
   ]
  },
  {
   "cell_type": "code",
   "execution_count": 46,
   "metadata": {},
   "outputs": [
    {
     "data": {
      "text/html": [
       "<iframe id=\"igraph\" scrolling=\"no\" style=\"border:none;\" seamless=\"seamless\" src=\"https://plot.ly/~mtodisco10/4.embed\" height=\"525px\" width=\"100%\"></iframe>"
      ],
      "text/plain": [
       "<plotly.tools.PlotlyDisplay object>"
      ]
     },
     "execution_count": 46,
     "metadata": {},
     "output_type": "execute_result"
    }
   ],
   "source": [
    "trace1 = go.Bar(\n",
    "        x=pos_grouped_df.loc[pos_grouped_df.outcome == 'fair_catch']['cov_Role'],\n",
    "        y=pos_grouped_df.loc[pos_grouped_df.outcome == 'fair_catch']['dis_from_ret'],\n",
    "        name='fair catch'\n",
    "    )\n",
    "\n",
    "trace2 = go.Bar(\n",
    "        x=pos_grouped_df.loc[pos_grouped_df.outcome == 'return']['cov_Role'],\n",
    "        y=pos_grouped_df.loc[pos_grouped_df.outcome == 'return']['dis_from_ret'],\n",
    "        name='return'\n",
    "    )\n",
    "\n",
    "data = [trace1, trace2]\n",
    "layout = go.Layout(\n",
    "    barmode='group',\n",
    "    xaxis=dict(title='Position'),\n",
    "    yaxis= dict(title='Avg Distance From Returner (Yds)')\n",
    ")\n",
    "\n",
    "fig=go.Figure(data=data, layout=layout)\n",
    "py.iplot(fig, filename='grouped-bar')"
   ]
  },
  {
   "cell_type": "markdown",
   "metadata": {},
   "source": [
    "#### Punts Landing inside the 20"
   ]
  },
  {
   "cell_type": "code",
   "execution_count": 84,
   "metadata": {},
   "outputs": [],
   "source": [
    "def parse_play_description(df, outcome_lst):\n",
    "    parsed_df = play_info.loc[play_info.outcome.isin(outcome_lst),\\\n",
    "                             ['Season_Year','GameKey','PlayID',\\\n",
    "                              'PlayDescription','outcome']].reset_index(drop=True)\n",
    "    punt_to_lst = []\n",
    "    punt_dist_lst = []\n",
    "    return_dist_lst = []\n",
    "    punt_regex = '(punts [0-9]+ yards? to [A-Z]* [-+]?[0-9]+)| (punts [0-9]+ yards? to [-+]?[0-9]+)'\n",
    "    return_regex = '(to [A-Z]* [0-9]+ for [-+]?[0-9]+ yards?)|(to [0-9]+ for [-+]?[0-9]+ yards?)|(ob at [A-Z]* [-+]?[0-9]+ for [-+]?[0-9]+ yards?)|(ob at [0-9]+ for [-+]?[0-9]+ yards?)|(for [-+]?[0-9]+ yards?, TOUCHDOWN)'\n",
    "    \n",
    "    for i in range(0, len(parsed_df)):\n",
    "        punt_search = re.search(punt_regex, parsed_df.PlayDescription[i])\n",
    "        return_search = re.search(return_regex, parsed_df.PlayDescription[i])\n",
    "    \n",
    "        if punt_search:\n",
    "            punt_snip = re.findall(r'-?\\d+', punt_search.group(0))\n",
    "            if parsed_df.outcome[i] in ['downed','fair_catch', 'oob', 'return']:\n",
    "                punt_to_lst.append(int(punt_snip[-1]))\n",
    "                punt_dist_lst.append(int(punt_snip[0]))\n",
    "            else:\n",
    "                if parsed_df.outcome[i] == 'touchback':\n",
    "                    punt_to_lst.append(0)\n",
    "                    punt_dist_lst.append(int(punt_snip[0]))\n",
    "                else:\n",
    "                    print('Missing Punt Outcome at Row {}'.format(i))\n",
    "        else:\n",
    "            if parsed_df.outcome[i] == 'touchback':\n",
    "                punt_to_lst.append(0)\n",
    "                punt_dist_lst.append(int(punt_snip[0]))\n",
    "            else:\n",
    "                print('Missing Punt Outcome at Row {}'.format(i))\n",
    "        \n",
    "        if return_search:\n",
    "            return_snip = re.findall(r'-?\\d+', return_search.group(0))\n",
    "            return_dist_lst.append(int(return_snip[-1]))\n",
    "        else:\n",
    "            if parsed_df.outcome[i] == 'touchback':\n",
    "                return_dist_lst.append(20)\n",
    "            elif parsed_df.outcome[i] in ['downed','fair_catch', 'oob']:\n",
    "                return_dist_lst.append(0)\n",
    "            elif 'no gain' in parsed_df.PlayDescription[i]:\n",
    "                return_dist_lst.append(0)\n",
    "            else:\n",
    "                print('Missing Return Outcome at Row {}'.format(i))   \n",
    "                \n",
    "    parsed_df['punt_to'] = punt_to_lst\n",
    "    parsed_df['punt_dist'] = punt_dist_lst\n",
    "    parsed_df['return_dist'] = return_dist_lst\n",
    "                                   \n",
    "    return parsed_df"
   ]
  },
  {
   "cell_type": "code",
   "execution_count": 85,
   "metadata": {},
   "outputs": [],
   "source": [
    "punt_detail_df = parse_play_description(play_info, ['touchback', 'fair_catch','oob', 'downed', 'return'])"
   ]
  },
  {
   "cell_type": "code",
   "execution_count": 80,
   "metadata": {},
   "outputs": [],
   "source": [
    "#Fearing the extra 5 yard penalty, punters will be even more wary of avoiding a touchback.\n",
    "#They will punt the ball shorter and with more hang time, or angle the ball out of bounds.\n",
    "\n",
    "#From a returners perspective, if the ball is heading close to the goaline, they will be more likely to let it bounce \n",
    "#and take the touchback than return it because of the extra 5 yard bonus."
   ]
  },
  {
   "cell_type": "code",
   "execution_count": 86,
   "metadata": {},
   "outputs": [
    {
     "data": {
      "text/html": [
       "<div>\n",
       "<style>\n",
       "    .dataframe thead tr:only-child th {\n",
       "        text-align: right;\n",
       "    }\n",
       "\n",
       "    .dataframe thead th {\n",
       "        text-align: left;\n",
       "    }\n",
       "\n",
       "    .dataframe tbody tr th {\n",
       "        vertical-align: top;\n",
       "    }\n",
       "</style>\n",
       "<table border=\"1\" class=\"dataframe\">\n",
       "  <thead>\n",
       "    <tr style=\"text-align: right;\">\n",
       "      <th></th>\n",
       "      <th>Season_Year</th>\n",
       "      <th>GameKey</th>\n",
       "      <th>PlayID</th>\n",
       "      <th>PlayDescription</th>\n",
       "      <th>outcome</th>\n",
       "      <th>punt_to</th>\n",
       "      <th>punt_dist</th>\n",
       "      <th>return_dist</th>\n",
       "    </tr>\n",
       "  </thead>\n",
       "  <tbody>\n",
       "    <tr>\n",
       "      <th>0</th>\n",
       "      <td>2016</td>\n",
       "      <td>2</td>\n",
       "      <td>191</td>\n",
       "      <td>(12:30) J.Hekker punts 52 yards to DAL 1, Center-J.McQuaide, downed by LA-E.Sims. Dallas challenged the kick downed ruling, and the play was REVERSED. J.Hekker punts 53 yards to end zone, Center-J.McQuaide, Touchback.</td>\n",
       "      <td>touchback</td>\n",
       "      <td>0</td>\n",
       "      <td>52</td>\n",
       "      <td>20</td>\n",
       "    </tr>\n",
       "    <tr>\n",
       "      <th>1</th>\n",
       "      <td>2016</td>\n",
       "      <td>2</td>\n",
       "      <td>1132</td>\n",
       "      <td>(12:08) J.Hekker punts 51 yards to DAL 20, Center-J.McQuaide, fair catch by L.Whitehead. PENALTY on DAL-K.Wilber, Offensive Holding, 10 yards, enforced at DAL 20.</td>\n",
       "      <td>fair_catch</td>\n",
       "      <td>20</td>\n",
       "      <td>51</td>\n",
       "      <td>0</td>\n",
       "    </tr>\n",
       "    <tr>\n",
       "      <th>2</th>\n",
       "      <td>2016</td>\n",
       "      <td>2</td>\n",
       "      <td>1227</td>\n",
       "      <td>(10:01) C.Jones punts 40 yards to LA 42, Center-L.Ladouceur. P.Cooper to DAL 33 for 25 yards (C.Jones; A.Hitchens).</td>\n",
       "      <td>return</td>\n",
       "      <td>42</td>\n",
       "      <td>40</td>\n",
       "      <td>25</td>\n",
       "    </tr>\n",
       "    <tr>\n",
       "      <th>3</th>\n",
       "      <td>2016</td>\n",
       "      <td>2</td>\n",
       "      <td>1864</td>\n",
       "      <td>(:21) J.Hekker punts 31 yards to DAL 15, Center-J.McQuaide, out of bounds.</td>\n",
       "      <td>oob</td>\n",
       "      <td>15</td>\n",
       "      <td>31</td>\n",
       "      <td>0</td>\n",
       "    </tr>\n",
       "    <tr>\n",
       "      <th>4</th>\n",
       "      <td>2016</td>\n",
       "      <td>2</td>\n",
       "      <td>2247</td>\n",
       "      <td>(10:26) M.Wile punts 40 yards to LA 45, Center-Z.Wood, out of bounds.</td>\n",
       "      <td>oob</td>\n",
       "      <td>45</td>\n",
       "      <td>40</td>\n",
       "      <td>0</td>\n",
       "    </tr>\n",
       "  </tbody>\n",
       "</table>\n",
       "</div>"
      ],
      "text/plain": [
       "   Season_Year  GameKey  PlayID  \\\n",
       "0         2016        2     191   \n",
       "1         2016        2    1132   \n",
       "2         2016        2    1227   \n",
       "3         2016        2    1864   \n",
       "4         2016        2    2247   \n",
       "\n",
       "                                                                                                                                                                                                             PlayDescription  \\\n",
       "0  (12:30) J.Hekker punts 52 yards to DAL 1, Center-J.McQuaide, downed by LA-E.Sims. Dallas challenged the kick downed ruling, and the play was REVERSED. J.Hekker punts 53 yards to end zone, Center-J.McQuaide, Touchback.   \n",
       "1                                                         (12:08) J.Hekker punts 51 yards to DAL 20, Center-J.McQuaide, fair catch by L.Whitehead. PENALTY on DAL-K.Wilber, Offensive Holding, 10 yards, enforced at DAL 20.   \n",
       "2                                                                                                        (10:01) C.Jones punts 40 yards to LA 42, Center-L.Ladouceur. P.Cooper to DAL 33 for 25 yards (C.Jones; A.Hitchens).   \n",
       "3                                                                                                                                                 (:21) J.Hekker punts 31 yards to DAL 15, Center-J.McQuaide, out of bounds.   \n",
       "4                                                                                                                                                      (10:26) M.Wile punts 40 yards to LA 45, Center-Z.Wood, out of bounds.   \n",
       "\n",
       "      outcome  punt_to  punt_dist  return_dist  \n",
       "0   touchback        0         52           20  \n",
       "1  fair_catch       20         51            0  \n",
       "2      return       42         40           25  \n",
       "3         oob       15         31            0  \n",
       "4         oob       45         40            0  "
      ]
     },
     "execution_count": 86,
     "metadata": {},
     "output_type": "execute_result"
    }
   ],
   "source": [
    "punt_detail_df.head()"
   ]
  },
  {
   "cell_type": "code",
   "execution_count": 67,
   "metadata": {},
   "outputs": [],
   "source": [
    "punt_to_lst = []\n",
    "punt_dist_lst = []\n",
    "return_dist_lst = []"
   ]
  },
  {
   "cell_type": "code",
   "execution_count": 50,
   "metadata": {},
   "outputs": [],
   "source": [
    "string = 'T.Morstead punts 47 yards to 17, Center-C.Highland. T.Ervin to HST 16 for -1 yards '"
   ]
  },
  {
   "cell_type": "code",
   "execution_count": 51,
   "metadata": {},
   "outputs": [],
   "source": [
    "snip = re.search('(to [A-Z]* [0-9]+ for [-+]?[0-9]+ yards?)', string).group(0)"
   ]
  },
  {
   "cell_type": "code",
   "execution_count": null,
   "metadata": {},
   "outputs": [],
   "source": []
  }
 ],
 "metadata": {
  "kernelspec": {
   "display_name": "Python 3",
   "language": "python",
   "name": "python3"
  },
  "language_info": {
   "codemirror_mode": {
    "name": "ipython",
    "version": 3
   },
   "file_extension": ".py",
   "mimetype": "text/x-python",
   "name": "python",
   "nbconvert_exporter": "python",
   "pygments_lexer": "ipython3",
   "version": "3.6.0"
  }
 },
 "nbformat": 4,
 "nbformat_minor": 2
}
