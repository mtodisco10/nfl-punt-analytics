{
 "cells": [
  {
   "cell_type": "code",
   "execution_count": 1,
   "metadata": {},
   "outputs": [],
   "source": [
    "import pandas as pd\n",
    "import numpy as np\n",
    "import matplotlib.pyplot as plt"
   ]
  },
  {
   "cell_type": "code",
   "execution_count": 2,
   "metadata": {},
   "outputs": [],
   "source": [
    "#Read in Data\n",
    "game_data = pd.read_csv('game_data.csv')\n",
    "play_info = pd.read_csv('play_information.csv')\n",
    "play_player_role = pd.read_csv('play_player_role_data.csv')\n",
    "player_punt = pd.read_csv('player_punt_data.csv')\n",
    "video_footage_control = pd.read_csv('video_footage-control.csv')\n",
    "video_footage_injury = pd.read_csv('video_footage-injury.csv')\n",
    "video_review = pd.read_csv('video_review.csv')"
   ]
  },
  {
   "cell_type": "code",
   "execution_count": 3,
   "metadata": {},
   "outputs": [],
   "source": [
    "NGS_2016_pre = pd.read_csv('NGS-2016-pre.csv')\n",
    "NGS_2016_post = pd.read_csv('NGS-2016-post.csv')\n",
    "NGS_2017_pre = pd.read_csv('NGS-2017-pre.csv')\n",
    "NGS_2017_post = pd.read_csv('NGS-2017-post.csv')"
   ]
  },
  {
   "cell_type": "code",
   "execution_count": 4,
   "metadata": {},
   "outputs": [
    {
     "name": "stderr",
     "output_type": "stream",
     "text": [
      "/Library/Frameworks/Python.framework/Versions/3.6/lib/python3.6/site-packages/IPython/core/interactiveshell.py:3018: DtypeWarning: Columns (10) have mixed types. Specify dtype option on import or set low_memory=False.\n",
      "  interactivity=interactivity, compiler=compiler, result=result)\n"
     ]
    }
   ],
   "source": [
    "NGS_2016_wk1_6 = pd.read_csv('NGS-2016-reg-wk1-6.csv')\n",
    "NGS_2016_wk7_12 = pd.read_csv('NGS-2016-reg-wk7-12.csv')\n",
    "NGS_2016_wk13_17 = pd.read_csv('NGS-2016-reg-wk13-17.csv')\n",
    "NGS_2017_wk1_6 = pd.read_csv('NGS-2017-reg-wk1-6.csv')\n",
    "NGS_2017_wk7_12 = pd.read_csv('NGS-2017-reg-wk7-12.csv')\n",
    "NGS_2017_wk13_17 = pd.read_csv('NGS-2017-reg-wk13-17.csv')"
   ]
  },
  {
   "cell_type": "code",
   "execution_count": 5,
   "metadata": {},
   "outputs": [],
   "source": [
    "NGS_2016 = pd.concat([NGS_2016_wk1_6, NGS_2016_wk7_12, NGS_2016_wk13_17])"
   ]
  },
  {
   "cell_type": "code",
   "execution_count": 8,
   "metadata": {},
   "outputs": [],
   "source": [
    "NGS_2017 = pd.concat([NGS_2017_wk1_6, NGS_2017_wk7_12, NGS_2017_wk13_17])"
   ]
  },
  {
   "cell_type": "code",
   "execution_count": 9,
   "metadata": {},
   "outputs": [],
   "source": [
    "NGS_df = pd.concat([NGS_2016, NGS_2017])"
   ]
  },
  {
   "cell_type": "code",
   "execution_count": 10,
   "metadata": {},
   "outputs": [
    {
     "data": {
      "text/plain": [
       "51057522"
      ]
     },
     "execution_count": 10,
     "metadata": {},
     "output_type": "execute_result"
    }
   ],
   "source": [
    "len(NGS_df)"
   ]
  },
  {
   "cell_type": "code",
   "execution_count": 11,
   "metadata": {},
   "outputs": [
    {
     "data": {
      "text/html": [
       "<div>\n",
       "<style>\n",
       "    .dataframe thead tr:only-child th {\n",
       "        text-align: right;\n",
       "    }\n",
       "\n",
       "    .dataframe thead th {\n",
       "        text-align: left;\n",
       "    }\n",
       "\n",
       "    .dataframe tbody tr th {\n",
       "        vertical-align: top;\n",
       "    }\n",
       "</style>\n",
       "<table border=\"1\" class=\"dataframe\">\n",
       "  <thead>\n",
       "    <tr style=\"text-align: right;\">\n",
       "      <th></th>\n",
       "      <th>Season_Year</th>\n",
       "      <th>GameKey</th>\n",
       "      <th>PlayID</th>\n",
       "      <th>GSISID</th>\n",
       "      <th>Time</th>\n",
       "      <th>x</th>\n",
       "      <th>y</th>\n",
       "      <th>dis</th>\n",
       "      <th>o</th>\n",
       "      <th>dir</th>\n",
       "      <th>Event</th>\n",
       "    </tr>\n",
       "  </thead>\n",
       "  <tbody>\n",
       "    <tr>\n",
       "      <th>0</th>\n",
       "      <td>2016</td>\n",
       "      <td>66</td>\n",
       "      <td>2035</td>\n",
       "      <td>27675.0</td>\n",
       "      <td>2016-09-09 02:22:30.700</td>\n",
       "      <td>71.959999</td>\n",
       "      <td>30.809999</td>\n",
       "      <td>0.55</td>\n",
       "      <td>196.910004</td>\n",
       "      <td>282.000000</td>\n",
       "      <td>NaN</td>\n",
       "    </tr>\n",
       "    <tr>\n",
       "      <th>1</th>\n",
       "      <td>2016</td>\n",
       "      <td>66</td>\n",
       "      <td>2035</td>\n",
       "      <td>31550.0</td>\n",
       "      <td>2016-09-09 02:22:30.700</td>\n",
       "      <td>53.910000</td>\n",
       "      <td>29.980000</td>\n",
       "      <td>0.82</td>\n",
       "      <td>185.470001</td>\n",
       "      <td>275.890015</td>\n",
       "      <td>NaN</td>\n",
       "    </tr>\n",
       "    <tr>\n",
       "      <th>2</th>\n",
       "      <td>2016</td>\n",
       "      <td>66</td>\n",
       "      <td>2035</td>\n",
       "      <td>30463.0</td>\n",
       "      <td>2016-09-09 02:22:30.700</td>\n",
       "      <td>57.770000</td>\n",
       "      <td>22.260000</td>\n",
       "      <td>0.71</td>\n",
       "      <td>176.639999</td>\n",
       "      <td>267.309998</td>\n",
       "      <td>NaN</td>\n",
       "    </tr>\n",
       "    <tr>\n",
       "      <th>3</th>\n",
       "      <td>2016</td>\n",
       "      <td>66</td>\n",
       "      <td>2035</td>\n",
       "      <td>22824.0</td>\n",
       "      <td>2016-09-09 02:22:30.800</td>\n",
       "      <td>74.070000</td>\n",
       "      <td>26.910000</td>\n",
       "      <td>0.08</td>\n",
       "      <td>167.850006</td>\n",
       "      <td>19.540001</td>\n",
       "      <td>NaN</td>\n",
       "    </tr>\n",
       "    <tr>\n",
       "      <th>4</th>\n",
       "      <td>2016</td>\n",
       "      <td>66</td>\n",
       "      <td>2035</td>\n",
       "      <td>32994.0</td>\n",
       "      <td>2016-09-09 02:22:30.800</td>\n",
       "      <td>56.540001</td>\n",
       "      <td>33.080002</td>\n",
       "      <td>0.86</td>\n",
       "      <td>193.350006</td>\n",
       "      <td>285.429993</td>\n",
       "      <td>NaN</td>\n",
       "    </tr>\n",
       "  </tbody>\n",
       "</table>\n",
       "</div>"
      ],
      "text/plain": [
       "   Season_Year  GameKey  PlayID   GSISID                     Time          x  \\\n",
       "0         2016       66    2035  27675.0  2016-09-09 02:22:30.700  71.959999   \n",
       "1         2016       66    2035  31550.0  2016-09-09 02:22:30.700  53.910000   \n",
       "2         2016       66    2035  30463.0  2016-09-09 02:22:30.700  57.770000   \n",
       "3         2016       66    2035  22824.0  2016-09-09 02:22:30.800  74.070000   \n",
       "4         2016       66    2035  32994.0  2016-09-09 02:22:30.800  56.540001   \n",
       "\n",
       "           y   dis           o         dir Event  \n",
       "0  30.809999  0.55  196.910004  282.000000   NaN  \n",
       "1  29.980000  0.82  185.470001  275.890015   NaN  \n",
       "2  22.260000  0.71  176.639999  267.309998   NaN  \n",
       "3  26.910000  0.08  167.850006   19.540001   NaN  \n",
       "4  33.080002  0.86  193.350006  285.429993   NaN  "
      ]
     },
     "execution_count": 11,
     "metadata": {},
     "output_type": "execute_result"
    }
   ],
   "source": [
    "NGS_df.head()"
   ]
  },
  {
   "cell_type": "code",
   "execution_count": 17,
   "metadata": {},
   "outputs": [],
   "source": [
    "test_plot = NGS_2016.loc[(NGS_2016.PlayID == 2035) & (NGS_2016.GSISID == 27675)].sort_values('Time')"
   ]
  },
  {
   "cell_type": "code",
   "execution_count": 24,
   "metadata": {},
   "outputs": [
    {
     "data": {
      "text/html": [
       "<div>\n",
       "<style>\n",
       "    .dataframe thead tr:only-child th {\n",
       "        text-align: right;\n",
       "    }\n",
       "\n",
       "    .dataframe thead th {\n",
       "        text-align: left;\n",
       "    }\n",
       "\n",
       "    .dataframe tbody tr th {\n",
       "        vertical-align: top;\n",
       "    }\n",
       "</style>\n",
       "<table border=\"1\" class=\"dataframe\">\n",
       "  <thead>\n",
       "    <tr style=\"text-align: right;\">\n",
       "      <th></th>\n",
       "      <th>GSISID</th>\n",
       "      <th>Number</th>\n",
       "      <th>Position</th>\n",
       "    </tr>\n",
       "  </thead>\n",
       "  <tbody>\n",
       "    <tr>\n",
       "      <th>1692</th>\n",
       "      <td>27675</td>\n",
       "      <td>84</td>\n",
       "      <td>TE</td>\n",
       "    </tr>\n",
       "  </tbody>\n",
       "</table>\n",
       "</div>"
      ],
      "text/plain": [
       "      GSISID Number Position\n",
       "1692   27675     84       TE"
      ]
     },
     "execution_count": 24,
     "metadata": {},
     "output_type": "execute_result"
    }
   ],
   "source": [
    "player_punt.loc[player_punt.GSISID == 27675]"
   ]
  },
  {
   "cell_type": "code",
   "execution_count": 26,
   "metadata": {},
   "outputs": [
    {
     "data": {
      "text/html": [
       "<div>\n",
       "<style>\n",
       "    .dataframe thead tr:only-child th {\n",
       "        text-align: right;\n",
       "    }\n",
       "\n",
       "    .dataframe thead th {\n",
       "        text-align: left;\n",
       "    }\n",
       "\n",
       "    .dataframe tbody tr th {\n",
       "        vertical-align: top;\n",
       "    }\n",
       "</style>\n",
       "<table border=\"1\" class=\"dataframe\">\n",
       "  <thead>\n",
       "    <tr style=\"text-align: right;\">\n",
       "      <th></th>\n",
       "      <th>GSISID</th>\n",
       "      <th>Number</th>\n",
       "      <th>Position</th>\n",
       "    </tr>\n",
       "  </thead>\n",
       "  <tbody>\n",
       "    <tr>\n",
       "      <th>0</th>\n",
       "      <td>32069</td>\n",
       "      <td>36</td>\n",
       "      <td>SS</td>\n",
       "    </tr>\n",
       "    <tr>\n",
       "      <th>1</th>\n",
       "      <td>30095</td>\n",
       "      <td>11</td>\n",
       "      <td>WR</td>\n",
       "    </tr>\n",
       "    <tr>\n",
       "      <th>2</th>\n",
       "      <td>31586</td>\n",
       "      <td>22</td>\n",
       "      <td>FS</td>\n",
       "    </tr>\n",
       "    <tr>\n",
       "      <th>3</th>\n",
       "      <td>29520</td>\n",
       "      <td>35</td>\n",
       "      <td>SS</td>\n",
       "    </tr>\n",
       "    <tr>\n",
       "      <th>4</th>\n",
       "      <td>30517</td>\n",
       "      <td>51</td>\n",
       "      <td>OLB</td>\n",
       "    </tr>\n",
       "  </tbody>\n",
       "</table>\n",
       "</div>"
      ],
      "text/plain": [
       "   GSISID Number Position\n",
       "0   32069     36       SS\n",
       "1   30095     11       WR\n",
       "2   31586     22       FS\n",
       "3   29520     35       SS\n",
       "4   30517     51      OLB"
      ]
     },
     "execution_count": 26,
     "metadata": {},
     "output_type": "execute_result"
    }
   ],
   "source": [
    "player_punt.head()"
   ]
  },
  {
   "cell_type": "code",
   "execution_count": 27,
   "metadata": {},
   "outputs": [
    {
     "data": {
      "text/html": [
       "<div>\n",
       "<style>\n",
       "    .dataframe thead tr:only-child th {\n",
       "        text-align: right;\n",
       "    }\n",
       "\n",
       "    .dataframe thead th {\n",
       "        text-align: left;\n",
       "    }\n",
       "\n",
       "    .dataframe tbody tr th {\n",
       "        vertical-align: top;\n",
       "    }\n",
       "</style>\n",
       "<table border=\"1\" class=\"dataframe\">\n",
       "  <thead>\n",
       "    <tr style=\"text-align: right;\">\n",
       "      <th></th>\n",
       "      <th>Season_Year</th>\n",
       "      <th>GameKey</th>\n",
       "      <th>PlayID</th>\n",
       "      <th>GSISID</th>\n",
       "      <th>Role</th>\n",
       "    </tr>\n",
       "  </thead>\n",
       "  <tbody>\n",
       "    <tr>\n",
       "      <th>12737</th>\n",
       "      <td>2016</td>\n",
       "      <td>66</td>\n",
       "      <td>2035</td>\n",
       "      <td>27675</td>\n",
       "      <td>PLW</td>\n",
       "    </tr>\n",
       "  </tbody>\n",
       "</table>\n",
       "</div>"
      ],
      "text/plain": [
       "       Season_Year  GameKey  PlayID  GSISID Role\n",
       "12737         2016       66    2035   27675  PLW"
      ]
     },
     "execution_count": 27,
     "metadata": {},
     "output_type": "execute_result"
    }
   ],
   "source": [
    "play_player_role.loc[(play_player_role.GSISID == 27675) & (play_player_role.PlayID == 2035)]"
   ]
  },
  {
   "cell_type": "code",
   "execution_count": 59,
   "metadata": {},
   "outputs": [
    {
     "data": {
      "text/html": [
       "<div>\n",
       "<style>\n",
       "    .dataframe thead tr:only-child th {\n",
       "        text-align: right;\n",
       "    }\n",
       "\n",
       "    .dataframe thead th {\n",
       "        text-align: left;\n",
       "    }\n",
       "\n",
       "    .dataframe tbody tr th {\n",
       "        vertical-align: top;\n",
       "    }\n",
       "</style>\n",
       "<table border=\"1\" class=\"dataframe\">\n",
       "  <thead>\n",
       "    <tr style=\"text-align: right;\">\n",
       "      <th></th>\n",
       "      <th>Season_Year</th>\n",
       "      <th>Season_Type</th>\n",
       "      <th>GameKey</th>\n",
       "      <th>Game_Date</th>\n",
       "      <th>Week</th>\n",
       "      <th>PlayID</th>\n",
       "      <th>Game_Clock</th>\n",
       "      <th>YardLine</th>\n",
       "      <th>Quarter</th>\n",
       "      <th>Play_Type</th>\n",
       "      <th>Poss_Team</th>\n",
       "      <th>Home_Team_Visit_Team</th>\n",
       "      <th>Score_Home_Visiting</th>\n",
       "      <th>PlayDescription</th>\n",
       "    </tr>\n",
       "  </thead>\n",
       "  <tbody>\n",
       "    <tr>\n",
       "      <th>0</th>\n",
       "      <td>2016</td>\n",
       "      <td>Pre</td>\n",
       "      <td>2</td>\n",
       "      <td>08/13/2016</td>\n",
       "      <td>2</td>\n",
       "      <td>191</td>\n",
       "      <td>12:30</td>\n",
       "      <td>LA 47</td>\n",
       "      <td>1</td>\n",
       "      <td>Punt</td>\n",
       "      <td>LA</td>\n",
       "      <td>LA-DAL</td>\n",
       "      <td>0 - 7</td>\n",
       "      <td>(12:30) J.Hekker punts 52 yards to DAL 1, Cent...</td>\n",
       "    </tr>\n",
       "    <tr>\n",
       "      <th>1</th>\n",
       "      <td>2016</td>\n",
       "      <td>Pre</td>\n",
       "      <td>2</td>\n",
       "      <td>08/13/2016</td>\n",
       "      <td>2</td>\n",
       "      <td>1132</td>\n",
       "      <td>12:08</td>\n",
       "      <td>LA 29</td>\n",
       "      <td>2</td>\n",
       "      <td>Punt</td>\n",
       "      <td>LA</td>\n",
       "      <td>LA-DAL</td>\n",
       "      <td>7 - 21</td>\n",
       "      <td>(12:08) J.Hekker punts 51 yards to DAL 20, Cen...</td>\n",
       "    </tr>\n",
       "    <tr>\n",
       "      <th>2</th>\n",
       "      <td>2016</td>\n",
       "      <td>Pre</td>\n",
       "      <td>2</td>\n",
       "      <td>08/13/2016</td>\n",
       "      <td>2</td>\n",
       "      <td>1227</td>\n",
       "      <td>10:01</td>\n",
       "      <td>DAL 18</td>\n",
       "      <td>2</td>\n",
       "      <td>Punt</td>\n",
       "      <td>DAL</td>\n",
       "      <td>LA-DAL</td>\n",
       "      <td>7 - 21</td>\n",
       "      <td>(10:01) C.Jones punts 40 yards to LA 42, Cente...</td>\n",
       "    </tr>\n",
       "    <tr>\n",
       "      <th>3</th>\n",
       "      <td>2016</td>\n",
       "      <td>Pre</td>\n",
       "      <td>2</td>\n",
       "      <td>08/13/2016</td>\n",
       "      <td>2</td>\n",
       "      <td>1864</td>\n",
       "      <td>00:21</td>\n",
       "      <td>DAL 46</td>\n",
       "      <td>2</td>\n",
       "      <td>Punt</td>\n",
       "      <td>LA</td>\n",
       "      <td>LA-DAL</td>\n",
       "      <td>7 - 24</td>\n",
       "      <td>(:21) J.Hekker punts 31 yards to DAL 15, Cente...</td>\n",
       "    </tr>\n",
       "    <tr>\n",
       "      <th>4</th>\n",
       "      <td>2016</td>\n",
       "      <td>Pre</td>\n",
       "      <td>2</td>\n",
       "      <td>08/13/2016</td>\n",
       "      <td>2</td>\n",
       "      <td>2247</td>\n",
       "      <td>10:26</td>\n",
       "      <td>DAL 15</td>\n",
       "      <td>3</td>\n",
       "      <td>Punt</td>\n",
       "      <td>DAL</td>\n",
       "      <td>LA-DAL</td>\n",
       "      <td>14 - 24</td>\n",
       "      <td>(10:26) M.Wile punts 40 yards to LA 45, Center...</td>\n",
       "    </tr>\n",
       "  </tbody>\n",
       "</table>\n",
       "</div>"
      ],
      "text/plain": [
       "   Season_Year Season_Type  GameKey   Game_Date  Week  PlayID Game_Clock  \\\n",
       "0         2016         Pre        2  08/13/2016     2     191      12:30   \n",
       "1         2016         Pre        2  08/13/2016     2    1132      12:08   \n",
       "2         2016         Pre        2  08/13/2016     2    1227      10:01   \n",
       "3         2016         Pre        2  08/13/2016     2    1864      00:21   \n",
       "4         2016         Pre        2  08/13/2016     2    2247      10:26   \n",
       "\n",
       "  YardLine  Quarter Play_Type Poss_Team Home_Team_Visit_Team  \\\n",
       "0    LA 47        1      Punt        LA               LA-DAL   \n",
       "1    LA 29        2      Punt        LA               LA-DAL   \n",
       "2   DAL 18        2      Punt       DAL               LA-DAL   \n",
       "3   DAL 46        2      Punt        LA               LA-DAL   \n",
       "4   DAL 15        3      Punt       DAL               LA-DAL   \n",
       "\n",
       "  Score_Home_Visiting                                    PlayDescription  \n",
       "0               0 - 7  (12:30) J.Hekker punts 52 yards to DAL 1, Cent...  \n",
       "1              7 - 21  (12:08) J.Hekker punts 51 yards to DAL 20, Cen...  \n",
       "2              7 - 21  (10:01) C.Jones punts 40 yards to LA 42, Cente...  \n",
       "3              7 - 24  (:21) J.Hekker punts 31 yards to DAL 15, Cente...  \n",
       "4             14 - 24  (10:26) M.Wile punts 40 yards to LA 45, Center...  "
      ]
     },
     "execution_count": 59,
     "metadata": {},
     "output_type": "execute_result"
    }
   ],
   "source": [
    "play_info.head()"
   ]
  },
  {
   "cell_type": "code",
   "execution_count": 49,
   "metadata": {},
   "outputs": [
    {
     "data": {
      "text/html": [
       "<div>\n",
       "<style>\n",
       "    .dataframe thead tr:only-child th {\n",
       "        text-align: right;\n",
       "    }\n",
       "\n",
       "    .dataframe thead th {\n",
       "        text-align: left;\n",
       "    }\n",
       "\n",
       "    .dataframe tbody tr th {\n",
       "        vertical-align: top;\n",
       "    }\n",
       "</style>\n",
       "<table border=\"1\" class=\"dataframe\">\n",
       "  <thead>\n",
       "    <tr style=\"text-align: right;\">\n",
       "      <th></th>\n",
       "      <th>Season_Year</th>\n",
       "      <th>GameKey</th>\n",
       "      <th>PlayID</th>\n",
       "      <th>GSISID</th>\n",
       "      <th>Player_Activity_Derived</th>\n",
       "      <th>Turnover_Related</th>\n",
       "      <th>Primary_Impact_Type</th>\n",
       "      <th>Primary_Partner_GSISID</th>\n",
       "      <th>Primary_Partner_Activity_Derived</th>\n",
       "      <th>Friendly_Fire</th>\n",
       "    </tr>\n",
       "  </thead>\n",
       "  <tbody>\n",
       "    <tr>\n",
       "      <th>0</th>\n",
       "      <td>2016</td>\n",
       "      <td>5</td>\n",
       "      <td>3129</td>\n",
       "      <td>31057</td>\n",
       "      <td>Tackling</td>\n",
       "      <td>No</td>\n",
       "      <td>Helmet-to-body</td>\n",
       "      <td>32482</td>\n",
       "      <td>Tackled</td>\n",
       "      <td>No</td>\n",
       "    </tr>\n",
       "    <tr>\n",
       "      <th>1</th>\n",
       "      <td>2016</td>\n",
       "      <td>21</td>\n",
       "      <td>2587</td>\n",
       "      <td>29343</td>\n",
       "      <td>Blocked</td>\n",
       "      <td>No</td>\n",
       "      <td>Helmet-to-helmet</td>\n",
       "      <td>31059</td>\n",
       "      <td>Blocking</td>\n",
       "      <td>No</td>\n",
       "    </tr>\n",
       "    <tr>\n",
       "      <th>2</th>\n",
       "      <td>2016</td>\n",
       "      <td>29</td>\n",
       "      <td>538</td>\n",
       "      <td>31023</td>\n",
       "      <td>Tackling</td>\n",
       "      <td>No</td>\n",
       "      <td>Helmet-to-body</td>\n",
       "      <td>31941</td>\n",
       "      <td>Tackled</td>\n",
       "      <td>No</td>\n",
       "    </tr>\n",
       "    <tr>\n",
       "      <th>3</th>\n",
       "      <td>2016</td>\n",
       "      <td>45</td>\n",
       "      <td>1212</td>\n",
       "      <td>33121</td>\n",
       "      <td>Tackling</td>\n",
       "      <td>No</td>\n",
       "      <td>Helmet-to-body</td>\n",
       "      <td>28249</td>\n",
       "      <td>Tackled</td>\n",
       "      <td>No</td>\n",
       "    </tr>\n",
       "    <tr>\n",
       "      <th>4</th>\n",
       "      <td>2016</td>\n",
       "      <td>54</td>\n",
       "      <td>1045</td>\n",
       "      <td>32444</td>\n",
       "      <td>Blocked</td>\n",
       "      <td>No</td>\n",
       "      <td>Helmet-to-body</td>\n",
       "      <td>31756</td>\n",
       "      <td>Blocked</td>\n",
       "      <td>Yes</td>\n",
       "    </tr>\n",
       "  </tbody>\n",
       "</table>\n",
       "</div>"
      ],
      "text/plain": [
       "   Season_Year  GameKey  PlayID  GSISID Player_Activity_Derived  \\\n",
       "0         2016        5    3129   31057                Tackling   \n",
       "1         2016       21    2587   29343                 Blocked   \n",
       "2         2016       29     538   31023                Tackling   \n",
       "3         2016       45    1212   33121                Tackling   \n",
       "4         2016       54    1045   32444                 Blocked   \n",
       "\n",
       "  Turnover_Related Primary_Impact_Type Primary_Partner_GSISID  \\\n",
       "0               No      Helmet-to-body                  32482   \n",
       "1               No    Helmet-to-helmet                  31059   \n",
       "2               No      Helmet-to-body                  31941   \n",
       "3               No      Helmet-to-body                  28249   \n",
       "4               No      Helmet-to-body                  31756   \n",
       "\n",
       "  Primary_Partner_Activity_Derived Friendly_Fire  \n",
       "0                          Tackled            No  \n",
       "1                         Blocking            No  \n",
       "2                          Tackled            No  \n",
       "3                          Tackled            No  \n",
       "4                          Blocked           Yes  "
      ]
     },
     "execution_count": 49,
     "metadata": {},
     "output_type": "execute_result"
    }
   ],
   "source": [
    "video_review.head()"
   ]
  },
  {
   "cell_type": "code",
   "execution_count": 121,
   "metadata": {},
   "outputs": [
    {
     "data": {
      "text/plain": [
       "'http://a.video.nfl.com//films/vodzilla/153233/Kadeem_Carey_punt_return-Vwgfn5k9-20181119_152809972_5000k.mp4'"
      ]
     },
     "execution_count": 121,
     "metadata": {},
     "output_type": "execute_result"
    }
   ],
   "source": [
    "video_footage_injury.iloc[0,9]"
   ]
  },
  {
   "cell_type": "markdown",
   "metadata": {},
   "source": [
    "#### Who's getting hurt?"
   ]
  },
  {
   "cell_type": "code",
   "execution_count": 50,
   "metadata": {},
   "outputs": [],
   "source": [
    "merged_df = video_review.merge(play_player_role, how= 'left', left_on=['GSISID','PlayID','GameKey'], right_on=['GSISID','PlayID','GameKey'])"
   ]
  },
  {
   "cell_type": "code",
   "execution_count": 71,
   "metadata": {},
   "outputs": [
    {
     "data": {
      "text/html": [
       "<div>\n",
       "<style>\n",
       "    .dataframe thead tr:only-child th {\n",
       "        text-align: right;\n",
       "    }\n",
       "\n",
       "    .dataframe thead th {\n",
       "        text-align: left;\n",
       "    }\n",
       "\n",
       "    .dataframe tbody tr th {\n",
       "        vertical-align: top;\n",
       "    }\n",
       "</style>\n",
       "<table border=\"1\" class=\"dataframe\">\n",
       "  <thead>\n",
       "    <tr style=\"text-align: right;\">\n",
       "      <th></th>\n",
       "      <th>GSISID</th>\n",
       "      <th>Number</th>\n",
       "      <th>Position</th>\n",
       "    </tr>\n",
       "  </thead>\n",
       "  <tbody>\n",
       "    <tr>\n",
       "      <th>1411</th>\n",
       "      <td>32482</td>\n",
       "      <td>2</td>\n",
       "      <td>WR</td>\n",
       "    </tr>\n",
       "    <tr>\n",
       "      <th>2335</th>\n",
       "      <td>32482</td>\n",
       "      <td>45</td>\n",
       "      <td>WR</td>\n",
       "    </tr>\n",
       "  </tbody>\n",
       "</table>\n",
       "</div>"
      ],
      "text/plain": [
       "      GSISID Number Position\n",
       "1411   32482      2       WR\n",
       "2335   32482     45       WR"
      ]
     },
     "execution_count": 71,
     "metadata": {},
     "output_type": "execute_result"
    }
   ],
   "source": [
    "player_punt.loc[player_punt.GSISID == 32482]"
   ]
  },
  {
   "cell_type": "code",
   "execution_count": 77,
   "metadata": {},
   "outputs": [
    {
     "data": {
      "text/html": [
       "<div>\n",
       "<style>\n",
       "    .dataframe thead tr:only-child th {\n",
       "        text-align: right;\n",
       "    }\n",
       "\n",
       "    .dataframe thead th {\n",
       "        text-align: left;\n",
       "    }\n",
       "\n",
       "    .dataframe tbody tr th {\n",
       "        vertical-align: top;\n",
       "    }\n",
       "</style>\n",
       "<table border=\"1\" class=\"dataframe\">\n",
       "  <thead>\n",
       "    <tr style=\"text-align: right;\">\n",
       "      <th></th>\n",
       "      <th>Season_Year</th>\n",
       "      <th>GameKey</th>\n",
       "      <th>PlayID</th>\n",
       "      <th>GSISID</th>\n",
       "      <th>Role</th>\n",
       "    </tr>\n",
       "  </thead>\n",
       "  <tbody>\n",
       "    <tr>\n",
       "      <th>38698</th>\n",
       "      <td>2016</td>\n",
       "      <td>21</td>\n",
       "      <td>2587</td>\n",
       "      <td>29343</td>\n",
       "      <td>GL</td>\n",
       "    </tr>\n",
       "  </tbody>\n",
       "</table>\n",
       "</div>"
      ],
      "text/plain": [
       "       Season_Year  GameKey  PlayID  GSISID Role\n",
       "38698         2016       21    2587   29343   GL"
      ]
     },
     "execution_count": 77,
     "metadata": {},
     "output_type": "execute_result"
    }
   ],
   "source": [
    "play_player_role.loc[(play_player_role.GSISID == 29343) & (play_player_role.PlayID == 2587)]"
   ]
  },
  {
   "cell_type": "code",
   "execution_count": 53,
   "metadata": {},
   "outputs": [
    {
     "data": {
      "text/plain": [
       "PR      5\n",
       "GL      4\n",
       "PLW     4\n",
       "PLG     4\n",
       "PRG     4\n",
       "PLS     2\n",
       "PLT     2\n",
       "PRW     2\n",
       "PRT     2\n",
       "PDR1    1\n",
       "GR      1\n",
       "P       1\n",
       "PFB     1\n",
       "PLL     1\n",
       "PDL2    1\n",
       "PPR     1\n",
       "VR      1\n",
       "Name: Role, dtype: int64"
      ]
     },
     "execution_count": 53,
     "metadata": {},
     "output_type": "execute_result"
    }
   ],
   "source": [
    "merged_df.Role.value_counts()"
   ]
  },
  {
   "cell_type": "code",
   "execution_count": 55,
   "metadata": {},
   "outputs": [
    {
     "data": {
      "text/plain": [
       "37"
      ]
     },
     "execution_count": 55,
     "metadata": {},
     "output_type": "execute_result"
    }
   ],
   "source": [
    "len(video_footage_injury)"
   ]
  },
  {
   "cell_type": "code",
   "execution_count": 34,
   "metadata": {},
   "outputs": [
    {
     "data": {
      "image/png": "[encoded data removed]",
      "text/plain": [
       "<Figure size 432x288 with 1 Axes>"
      ]
     },
     "metadata": {
      "needs_background": "light"
     },
     "output_type": "display_data"
    }
   ],
   "source": [
    "ax = plt.plot(test_plot['x'],test_plot['y'])"
   ]
  },
  {
   "cell_type": "code",
   "execution_count": 163,
   "metadata": {},
   "outputs": [],
   "source": [
    "gunner_df = NGS_2016_pre.loc[(NGS_2016_pre.GameKey == 5) & (NGS_2016_pre.PlayID == 3129) & (NGS_2016_pre.GSISID == 31057)].sort_values('Time')"
   ]
  },
  {
   "cell_type": "code",
   "execution_count": 164,
   "metadata": {},
   "outputs": [
    {
     "data": {
      "text/plain": [
       "'2016-08-12 02:07:25.100'"
      ]
     },
     "execution_count": 164,
     "metadata": {},
     "output_type": "execute_result"
    }
   ],
   "source": [
    "min(gunner_df['Time'])"
   ]
  },
  {
   "cell_type": "code",
   "execution_count": 162,
   "metadata": {},
   "outputs": [
    {
     "data": {
      "text/plain": [
       "'2016-08-12 02:07:51.900'"
      ]
     },
     "execution_count": 162,
     "metadata": {},
     "output_type": "execute_result"
    }
   ],
   "source": [
    "max(gunner_df['Time'])"
   ]
  },
  {
   "cell_type": "code",
   "execution_count": 172,
   "metadata": {},
   "outputs": [
    {
     "data": {
      "text/plain": [
       "1.6360000015236438"
      ]
     },
     "execution_count": 172,
     "metadata": {},
     "output_type": "execute_result"
    }
   ],
   "source": [
    "gunner_df.head(11).dis.sum() * 2.045"
   ]
  },
  {
   "cell_type": "code",
   "execution_count": 283,
   "metadata": {},
   "outputs": [
    {
     "data": {
      "text/html": [
       "<div>\n",
       "<style>\n",
       "    .dataframe thead tr:only-child th {\n",
       "        text-align: right;\n",
       "    }\n",
       "\n",
       "    .dataframe thead th {\n",
       "        text-align: left;\n",
       "    }\n",
       "\n",
       "    .dataframe tbody tr th {\n",
       "        vertical-align: top;\n",
       "    }\n",
       "</style>\n",
       "<table border=\"1\" class=\"dataframe\">\n",
       "  <thead>\n",
       "    <tr style=\"text-align: right;\">\n",
       "      <th></th>\n",
       "      <th>Season_Year</th>\n",
       "      <th>GameKey</th>\n",
       "      <th>PlayID</th>\n",
       "      <th>GSISID</th>\n",
       "      <th>Time</th>\n",
       "      <th>x</th>\n",
       "      <th>y</th>\n",
       "      <th>dis</th>\n",
       "      <th>o</th>\n",
       "      <th>dir</th>\n",
       "      <th>Event</th>\n",
       "      <th>mph</th>\n",
       "      <th>dis_per_second</th>\n",
       "      <th>dis_mph</th>\n",
       "    </tr>\n",
       "  </thead>\n",
       "  <tbody>\n",
       "    <tr>\n",
       "      <th>205793</th>\n",
       "      <td>2016</td>\n",
       "      <td>5</td>\n",
       "      <td>3129</td>\n",
       "      <td>31057.0</td>\n",
       "      <td>2016-08-12 02:07:25.100</td>\n",
       "      <td>83.470001</td>\n",
       "      <td>22.209999</td>\n",
       "      <td>0.06</td>\n",
       "      <td>155.649994</td>\n",
       "      <td>307.399994</td>\n",
       "      <td>punt_play</td>\n",
       "      <td>1.2270</td>\n",
       "      <td>0.6</td>\n",
       "      <td>1.22730</td>\n",
       "    </tr>\n",
       "    <tr>\n",
       "      <th>200997</th>\n",
       "      <td>2016</td>\n",
       "      <td>5</td>\n",
       "      <td>3129</td>\n",
       "      <td>31057.0</td>\n",
       "      <td>2016-08-12 02:07:25.200</td>\n",
       "      <td>83.410004</td>\n",
       "      <td>22.270000</td>\n",
       "      <td>0.08</td>\n",
       "      <td>157.279999</td>\n",
       "      <td>308.329987</td>\n",
       "      <td>NaN</td>\n",
       "      <td>1.6360</td>\n",
       "      <td>0.8</td>\n",
       "      <td>1.63640</td>\n",
       "    </tr>\n",
       "    <tr>\n",
       "      <th>201008</th>\n",
       "      <td>2016</td>\n",
       "      <td>5</td>\n",
       "      <td>3129</td>\n",
       "      <td>31057.0</td>\n",
       "      <td>2016-08-12 02:07:25.300</td>\n",
       "      <td>83.370003</td>\n",
       "      <td>22.330000</td>\n",
       "      <td>0.08</td>\n",
       "      <td>158.350006</td>\n",
       "      <td>310.489990</td>\n",
       "      <td>NaN</td>\n",
       "      <td>1.6360</td>\n",
       "      <td>0.8</td>\n",
       "      <td>1.63640</td>\n",
       "    </tr>\n",
       "    <tr>\n",
       "      <th>200190</th>\n",
       "      <td>2016</td>\n",
       "      <td>5</td>\n",
       "      <td>3129</td>\n",
       "      <td>31057.0</td>\n",
       "      <td>2016-08-12 02:07:25.400</td>\n",
       "      <td>83.320000</td>\n",
       "      <td>22.379999</td>\n",
       "      <td>0.06</td>\n",
       "      <td>159.360001</td>\n",
       "      <td>310.209991</td>\n",
       "      <td>NaN</td>\n",
       "      <td>1.2270</td>\n",
       "      <td>0.6</td>\n",
       "      <td>1.22730</td>\n",
       "    </tr>\n",
       "    <tr>\n",
       "      <th>200201</th>\n",
       "      <td>2016</td>\n",
       "      <td>5</td>\n",
       "      <td>3129</td>\n",
       "      <td>31057.0</td>\n",
       "      <td>2016-08-12 02:07:25.500</td>\n",
       "      <td>83.279999</td>\n",
       "      <td>22.400000</td>\n",
       "      <td>0.05</td>\n",
       "      <td>160.179993</td>\n",
       "      <td>309.279999</td>\n",
       "      <td>NaN</td>\n",
       "      <td>1.0225</td>\n",
       "      <td>0.5</td>\n",
       "      <td>1.02275</td>\n",
       "    </tr>\n",
       "  </tbody>\n",
       "</table>\n",
       "</div>"
      ],
      "text/plain": [
       "        Season_Year  GameKey  PlayID   GSISID                     Time  \\\n",
       "205793         2016        5    3129  31057.0  2016-08-12 02:07:25.100   \n",
       "200997         2016        5    3129  31057.0  2016-08-12 02:07:25.200   \n",
       "201008         2016        5    3129  31057.0  2016-08-12 02:07:25.300   \n",
       "200190         2016        5    3129  31057.0  2016-08-12 02:07:25.400   \n",
       "200201         2016        5    3129  31057.0  2016-08-12 02:07:25.500   \n",
       "\n",
       "                x          y   dis           o         dir      Event     mph  \\\n",
       "205793  83.470001  22.209999  0.06  155.649994  307.399994  punt_play  1.2270   \n",
       "200997  83.410004  22.270000  0.08  157.279999  308.329987        NaN  1.6360   \n",
       "201008  83.370003  22.330000  0.08  158.350006  310.489990        NaN  1.6360   \n",
       "200190  83.320000  22.379999  0.06  159.360001  310.209991        NaN  1.2270   \n",
       "200201  83.279999  22.400000  0.05  160.179993  309.279999        NaN  1.0225   \n",
       "\n",
       "        dis_per_second  dis_mph  \n",
       "205793             0.6  1.22730  \n",
       "200997             0.8  1.63640  \n",
       "201008             0.8  1.63640  \n",
       "200190             0.6  1.22730  \n",
       "200201             0.5  1.02275  "
      ]
     },
     "execution_count": 283,
     "metadata": {},
     "output_type": "execute_result"
    }
   ],
   "source": [
    "gunner_df.head()"
   ]
  },
  {
   "cell_type": "code",
   "execution_count": 186,
   "metadata": {},
   "outputs": [],
   "source": [
    "gunner_df['dis_per_second'] = gunner_df.dis * 10\n",
    "gunner_df['dis_mph'] = gunner_df['dis_per_second'] * 2.0455"
   ]
  },
  {
   "cell_type": "code",
   "execution_count": 282,
   "metadata": {},
   "outputs": [
    {
     "name": "stdout",
     "output_type": "stream",
     "text": [
      "202139    18.000400\n",
      "202150    18.000400\n",
      "202161    18.409500\n",
      "202172    18.409500\n",
      "202183    18.409500\n",
      "202194    18.409500\n",
      "202205    17.795850\n",
      "202783    17.795850\n",
      "202440    17.795850\n",
      "202694    17.795850\n",
      "202705    16.977650\n",
      "202716    16.977650\n",
      "202727    16.364000\n",
      "202738    16.364000\n",
      "202749    16.773100\n",
      "202760    16.773100\n",
      "202771    15.954899\n",
      "202111    15.954899\n",
      "202122    15.341250\n",
      "202619    15.341250\n",
      "202630    14.932150\n",
      "202641    14.932150\n",
      "202652    14.932150\n",
      "202663    14.932150\n",
      "202674    14.523050\n",
      "202685    14.523050\n",
      "202029    16.159450\n",
      "202040    12.273000\n",
      "202456     9.204750\n",
      "202467     6.341050\n",
      "202478     4.500100\n",
      "202489     5.522850\n",
      "205809     5.113750\n",
      "202500     5.318300\n",
      "202511     4.909200\n",
      "202522     3.681900\n",
      "203262     3.068250\n",
      "201935     2.250050\n",
      "201946     1.636400\n",
      "201957     1.022750\n",
      "202859     0.818200\n",
      "202870     0.818200\n",
      "202881     1.636400\n",
      "202892     1.431850\n",
      "202903     1.431850\n",
      "202914     2.045500\n",
      "202277     1.431850\n",
      "202287     0.818200\n",
      "202945     0.818200\n",
      "202955     1.431850\n",
      "Name: dis_mph, dtype: float64\n"
     ]
    }
   ],
   "source": [
    "print(gunner_df.dis_mph[200:250])"
   ]
  },
  {
   "cell_type": "code",
   "execution_count": 126,
   "metadata": {},
   "outputs": [
    {
     "data": {
      "text/html": [
       "<div>\n",
       "<style>\n",
       "    .dataframe thead tr:only-child th {\n",
       "        text-align: right;\n",
       "    }\n",
       "\n",
       "    .dataframe thead th {\n",
       "        text-align: left;\n",
       "    }\n",
       "\n",
       "    .dataframe tbody tr th {\n",
       "        vertical-align: top;\n",
       "    }\n",
       "</style>\n",
       "<table border=\"1\" class=\"dataframe\">\n",
       "  <thead>\n",
       "    <tr style=\"text-align: right;\">\n",
       "      <th></th>\n",
       "      <th>Season_Year</th>\n",
       "      <th>GameKey</th>\n",
       "      <th>PlayID</th>\n",
       "      <th>GSISID</th>\n",
       "      <th>Role</th>\n",
       "    </tr>\n",
       "  </thead>\n",
       "  <tbody>\n",
       "    <tr>\n",
       "      <th>62728</th>\n",
       "      <td>2016</td>\n",
       "      <td>5</td>\n",
       "      <td>3129</td>\n",
       "      <td>31057</td>\n",
       "      <td>PLW</td>\n",
       "    </tr>\n",
       "  </tbody>\n",
       "</table>\n",
       "</div>"
      ],
      "text/plain": [
       "       Season_Year  GameKey  PlayID  GSISID Role\n",
       "62728         2016        5    3129   31057  PLW"
      ]
     },
     "execution_count": 126,
     "metadata": {},
     "output_type": "execute_result"
    }
   ],
   "source": [
    "play_player_role.loc[(play_player_role.GameKey == 5) & (play_player_role.PlayID == 3129) & (play_player_role.GSISID == 31057)]"
   ]
  },
  {
   "cell_type": "code",
   "execution_count": 120,
   "metadata": {},
   "outputs": [
    {
     "data": {
      "text/plain": [
       "(0, 53.3)"
      ]
     },
     "execution_count": 120,
     "metadata": {},
     "output_type": "execute_result"
    },
    {
     "data": {
      "image/png": "[encoded data removed]",
      "text/plain": [
       "<Figure size 432x288 with 1 Axes>"
      ]
     },
     "metadata": {
      "needs_background": "light"
     },
     "output_type": "display_data"
    }
   ],
   "source": [
    "ax1 = plt.subplot()\n",
    "ax1.plot(gunner_df['x'], gunner_df['y'])\n",
    "ax1.set_xlim([0,120])\n",
    "ax1.set_ylim([0,53.3])"
   ]
  },
  {
   "cell_type": "code",
   "execution_count": 91,
   "metadata": {},
   "outputs": [
    {
     "data": {
      "text/plain": [
       "67.089996337890639"
      ]
     },
     "execution_count": 91,
     "metadata": {},
     "output_type": "execute_result"
    }
   ],
   "source": [
    "max(NGS_2016_wk1_6['y'])"
   ]
  },
  {
   "cell_type": "code",
   "execution_count": 134,
   "metadata": {},
   "outputs": [],
   "source": [
    "play_info['fair_catch'] = play_info.PlayDescription.str.contains('fair catch')"
   ]
  },
  {
   "cell_type": "code",
   "execution_count": 137,
   "metadata": {},
   "outputs": [
    {
     "data": {
      "text/html": [
       "<div>\n",
       "<style>\n",
       "    .dataframe thead tr:only-child th {\n",
       "        text-align: right;\n",
       "    }\n",
       "\n",
       "    .dataframe thead th {\n",
       "        text-align: left;\n",
       "    }\n",
       "\n",
       "    .dataframe tbody tr th {\n",
       "        vertical-align: top;\n",
       "    }\n",
       "</style>\n",
       "<table border=\"1\" class=\"dataframe\">\n",
       "  <thead>\n",
       "    <tr style=\"text-align: right;\">\n",
       "      <th></th>\n",
       "      <th>Season_Year</th>\n",
       "      <th>Season_Type</th>\n",
       "      <th>GameKey</th>\n",
       "      <th>Game_Date</th>\n",
       "      <th>Week</th>\n",
       "      <th>PlayID</th>\n",
       "      <th>Game_Clock</th>\n",
       "      <th>YardLine</th>\n",
       "      <th>Quarter</th>\n",
       "      <th>Play_Type</th>\n",
       "      <th>...</th>\n",
       "      <th>Score_Home_Visiting</th>\n",
       "      <th>PlayDescription</th>\n",
       "      <th>fair_catch</th>\n",
       "      <th>GSISID</th>\n",
       "      <th>Player_Activity_Derived</th>\n",
       "      <th>Turnover_Related</th>\n",
       "      <th>Primary_Impact_Type</th>\n",
       "      <th>Primary_Partner_GSISID</th>\n",
       "      <th>Primary_Partner_Activity_Derived</th>\n",
       "      <th>Friendly_Fire</th>\n",
       "    </tr>\n",
       "  </thead>\n",
       "  <tbody>\n",
       "    <tr>\n",
       "      <th>0</th>\n",
       "      <td>2016</td>\n",
       "      <td>Reg</td>\n",
       "      <td>280</td>\n",
       "      <td>12/18/2016</td>\n",
       "      <td>15</td>\n",
       "      <td>2918</td>\n",
       "      <td>03:36</td>\n",
       "      <td>JAX 21</td>\n",
       "      <td>3</td>\n",
       "      <td>Punt</td>\n",
       "      <td>...</td>\n",
       "      <td>8 - 20</td>\n",
       "      <td>(3:36) B.Nortman punts 49 yards to HST 30, Cen...</td>\n",
       "      <td>True</td>\n",
       "      <td>32120</td>\n",
       "      <td>Blocking</td>\n",
       "      <td>No</td>\n",
       "      <td>Helmet-to-body</td>\n",
       "      <td>32725</td>\n",
       "      <td>Blocked</td>\n",
       "      <td>No</td>\n",
       "    </tr>\n",
       "    <tr>\n",
       "      <th>1</th>\n",
       "      <td>2017</td>\n",
       "      <td>Reg</td>\n",
       "      <td>607</td>\n",
       "      <td>12/14/2017</td>\n",
       "      <td>15</td>\n",
       "      <td>978</td>\n",
       "      <td>14:11</td>\n",
       "      <td>DEN 38</td>\n",
       "      <td>2</td>\n",
       "      <td>Punt</td>\n",
       "      <td>...</td>\n",
       "      <td>7 - 0</td>\n",
       "      <td>(14:11) (Punt formation) R.Sanchez punts 27 ya...</td>\n",
       "      <td>True</td>\n",
       "      <td>29793</td>\n",
       "      <td>Blocking</td>\n",
       "      <td>No</td>\n",
       "      <td>Helmet-to-helmet</td>\n",
       "      <td>32114</td>\n",
       "      <td>Blocked</td>\n",
       "      <td>No</td>\n",
       "    </tr>\n",
       "  </tbody>\n",
       "</table>\n",
       "<p>2 rows × 22 columns</p>\n",
       "</div>"
      ],
      "text/plain": [
       "   Season_Year Season_Type  GameKey   Game_Date  Week  PlayID Game_Clock  \\\n",
       "0         2016         Reg      280  12/18/2016    15    2918      03:36   \n",
       "1         2017         Reg      607  12/14/2017    15     978      14:11   \n",
       "\n",
       "  YardLine  Quarter Play_Type      ...      Score_Home_Visiting  \\\n",
       "0   JAX 21        3      Punt      ...                   8 - 20   \n",
       "1   DEN 38        2      Punt      ...                    7 - 0   \n",
       "\n",
       "                                     PlayDescription fair_catch GSISID  \\\n",
       "0  (3:36) B.Nortman punts 49 yards to HST 30, Cen...       True  32120   \n",
       "1  (14:11) (Punt formation) R.Sanchez punts 27 ya...       True  29793   \n",
       "\n",
       "   Player_Activity_Derived  Turnover_Related Primary_Impact_Type  \\\n",
       "0                 Blocking                No      Helmet-to-body   \n",
       "1                 Blocking                No    Helmet-to-helmet   \n",
       "\n",
       "  Primary_Partner_GSISID Primary_Partner_Activity_Derived Friendly_Fire  \n",
       "0                  32725                          Blocked            No  \n",
       "1                  32114                          Blocked            No  \n",
       "\n",
       "[2 rows x 22 columns]"
      ]
     },
     "execution_count": 137,
     "metadata": {},
     "output_type": "execute_result"
    }
   ],
   "source": [
    "play_info.loc[play_info.fair_catch == True].merge(video_review)"
   ]
  },
  {
   "cell_type": "code",
   "execution_count": 160,
   "metadata": {},
   "outputs": [
    {
     "data": {
      "text/html": [
       "<div>\n",
       "<style>\n",
       "    .dataframe thead tr:only-child th {\n",
       "        text-align: right;\n",
       "    }\n",
       "\n",
       "    .dataframe thead th {\n",
       "        text-align: left;\n",
       "    }\n",
       "\n",
       "    .dataframe tbody tr th {\n",
       "        vertical-align: top;\n",
       "    }\n",
       "</style>\n",
       "<table border=\"1\" class=\"dataframe\">\n",
       "  <thead>\n",
       "    <tr style=\"text-align: right;\">\n",
       "      <th></th>\n",
       "      <th>season</th>\n",
       "      <th>Type</th>\n",
       "      <th>Week</th>\n",
       "      <th>Home_team</th>\n",
       "      <th>Visit_Team</th>\n",
       "      <th>Qtr</th>\n",
       "      <th>PlayDescription</th>\n",
       "      <th>gamekey</th>\n",
       "      <th>playid</th>\n",
       "      <th>PREVIEW LINK (5000K)</th>\n",
       "    </tr>\n",
       "  </thead>\n",
       "  <tbody>\n",
       "    <tr>\n",
       "      <th>13</th>\n",
       "      <td>2016</td>\n",
       "      <td>Reg</td>\n",
       "      <td>15</td>\n",
       "      <td>Houston Texans</td>\n",
       "      <td>Jacksonville Jaguars</td>\n",
       "      <td>3</td>\n",
       "      <td>(3:36) B.Nortman punts 49 yards to HST 30, Cen...</td>\n",
       "      <td>280</td>\n",
       "      <td>2918</td>\n",
       "      <td>http://a.video.nfl.com//films/vodzilla/153245/...</td>\n",
       "    </tr>\n",
       "  </tbody>\n",
       "</table>\n",
       "</div>"
      ],
      "text/plain": [
       "    season Type  Week       Home_team            Visit_Team  Qtr  \\\n",
       "13    2016  Reg    15  Houston Texans  Jacksonville Jaguars    3   \n",
       "\n",
       "                                      PlayDescription  gamekey  playid  \\\n",
       "13  (3:36) B.Nortman punts 49 yards to HST 30, Cen...      280    2918   \n",
       "\n",
       "                                 PREVIEW LINK (5000K)  \n",
       "13  http://a.video.nfl.com//films/vodzilla/153245/...  "
      ]
     },
     "execution_count": 160,
     "metadata": {},
     "output_type": "execute_result"
    }
   ],
   "source": [
    "video_footage_injury.loc[video_footage_injury.playid == 2918]"
   ]
  },
  {
   "cell_type": "code",
   "execution_count": 142,
   "metadata": {},
   "outputs": [
    {
     "data": {
      "text/html": [
       "<div>\n",
       "<style>\n",
       "    .dataframe thead tr:only-child th {\n",
       "        text-align: right;\n",
       "    }\n",
       "\n",
       "    .dataframe thead th {\n",
       "        text-align: left;\n",
       "    }\n",
       "\n",
       "    .dataframe tbody tr th {\n",
       "        vertical-align: top;\n",
       "    }\n",
       "</style>\n",
       "<table border=\"1\" class=\"dataframe\">\n",
       "  <thead>\n",
       "    <tr style=\"text-align: right;\">\n",
       "      <th></th>\n",
       "      <th>season</th>\n",
       "      <th>Type</th>\n",
       "      <th>Week</th>\n",
       "      <th>Home_team</th>\n",
       "      <th>Visit_Team</th>\n",
       "      <th>Qtr</th>\n",
       "      <th>PlayDescription</th>\n",
       "      <th>gamekey</th>\n",
       "      <th>playid</th>\n",
       "      <th>PREVIEW LINK (5000K)</th>\n",
       "    </tr>\n",
       "  </thead>\n",
       "  <tbody>\n",
       "    <tr>\n",
       "      <th>0</th>\n",
       "      <td>2016</td>\n",
       "      <td>Pre</td>\n",
       "      <td>2</td>\n",
       "      <td>Chicago Bears</td>\n",
       "      <td>Denver Broncos</td>\n",
       "      <td>3</td>\n",
       "      <td>(3:44) (Punt formation) P.O'Donnell punts 58 y...</td>\n",
       "      <td>5</td>\n",
       "      <td>3129</td>\n",
       "      <td>http://a.video.nfl.com//films/vodzilla/153233/...</td>\n",
       "    </tr>\n",
       "    <tr>\n",
       "      <th>1</th>\n",
       "      <td>2016</td>\n",
       "      <td>Pre</td>\n",
       "      <td>3</td>\n",
       "      <td>Tennessee Titans</td>\n",
       "      <td>Carolina Panthers</td>\n",
       "      <td>3</td>\n",
       "      <td>(5:52) (Punt formation) K.Redfern punts 36 yar...</td>\n",
       "      <td>21</td>\n",
       "      <td>2587</td>\n",
       "      <td>http://a.video.nfl.com//films/vodzilla/153234/...</td>\n",
       "    </tr>\n",
       "    <tr>\n",
       "      <th>2</th>\n",
       "      <td>2016</td>\n",
       "      <td>Pre</td>\n",
       "      <td>3</td>\n",
       "      <td>Washington Redskins</td>\n",
       "      <td>New York Jets</td>\n",
       "      <td>1</td>\n",
       "      <td>(4:46) L.Edwards punts 51 yards to WAS 27, Cen...</td>\n",
       "      <td>29</td>\n",
       "      <td>538</td>\n",
       "      <td>http://a.video.nfl.com//films/vodzilla/153235/...</td>\n",
       "    </tr>\n",
       "    <tr>\n",
       "      <th>3</th>\n",
       "      <td>2016</td>\n",
       "      <td>Pre</td>\n",
       "      <td>4</td>\n",
       "      <td>New York Jets</td>\n",
       "      <td>New York Giants</td>\n",
       "      <td>2</td>\n",
       "      <td>(8:29) B.Wing punts 44 yards to NYJ 10, Center...</td>\n",
       "      <td>45</td>\n",
       "      <td>1212</td>\n",
       "      <td>http://a.video.nfl.com//films/vodzilla/153236/...</td>\n",
       "    </tr>\n",
       "    <tr>\n",
       "      <th>4</th>\n",
       "      <td>2016</td>\n",
       "      <td>Pre</td>\n",
       "      <td>5</td>\n",
       "      <td>Detroit Lions</td>\n",
       "      <td>Buffalo Bills</td>\n",
       "      <td>1</td>\n",
       "      <td>(:38) C.Schmidt punts 46 yards to DET 8, Cente...</td>\n",
       "      <td>60</td>\n",
       "      <td>905</td>\n",
       "      <td>http://a.video.nfl.com//films/vodzilla/153237/...</td>\n",
       "    </tr>\n",
       "  </tbody>\n",
       "</table>\n",
       "</div>"
      ],
      "text/plain": [
       "   season Type  Week            Home_team         Visit_Team  Qtr  \\\n",
       "0    2016  Pre     2        Chicago Bears     Denver Broncos    3   \n",
       "1    2016  Pre     3     Tennessee Titans  Carolina Panthers    3   \n",
       "2    2016  Pre     3  Washington Redskins      New York Jets    1   \n",
       "3    2016  Pre     4        New York Jets    New York Giants    2   \n",
       "4    2016  Pre     5        Detroit Lions      Buffalo Bills    1   \n",
       "\n",
       "                                     PlayDescription  gamekey  playid  \\\n",
       "0  (3:44) (Punt formation) P.O'Donnell punts 58 y...        5    3129   \n",
       "1  (5:52) (Punt formation) K.Redfern punts 36 yar...       21    2587   \n",
       "2  (4:46) L.Edwards punts 51 yards to WAS 27, Cen...       29     538   \n",
       "3  (8:29) B.Wing punts 44 yards to NYJ 10, Center...       45    1212   \n",
       "4  (:38) C.Schmidt punts 46 yards to DET 8, Cente...       60     905   \n",
       "\n",
       "                                PREVIEW LINK (5000K)  \n",
       "0  http://a.video.nfl.com//films/vodzilla/153233/...  \n",
       "1  http://a.video.nfl.com//films/vodzilla/153234/...  \n",
       "2  http://a.video.nfl.com//films/vodzilla/153235/...  \n",
       "3  http://a.video.nfl.com//films/vodzilla/153236/...  \n",
       "4  http://a.video.nfl.com//films/vodzilla/153237/...  "
      ]
     },
     "execution_count": 142,
     "metadata": {},
     "output_type": "execute_result"
    }
   ],
   "source": [
    "video_footage_injury.head()"
   ]
  },
  {
   "cell_type": "markdown",
   "metadata": {},
   "source": [
    "### Does speed correlate with injury?"
   ]
  },
  {
   "cell_type": "code",
   "execution_count": 189,
   "metadata": {},
   "outputs": [
    {
     "data": {
      "text/html": [
       "<div>\n",
       "<style>\n",
       "    .dataframe thead tr:only-child th {\n",
       "        text-align: right;\n",
       "    }\n",
       "\n",
       "    .dataframe thead th {\n",
       "        text-align: left;\n",
       "    }\n",
       "\n",
       "    .dataframe tbody tr th {\n",
       "        vertical-align: top;\n",
       "    }\n",
       "</style>\n",
       "<table border=\"1\" class=\"dataframe\">\n",
       "  <thead>\n",
       "    <tr style=\"text-align: right;\">\n",
       "      <th></th>\n",
       "      <th>Season_Year</th>\n",
       "      <th>GameKey</th>\n",
       "      <th>PlayID</th>\n",
       "      <th>GSISID</th>\n",
       "      <th>Player_Activity_Derived</th>\n",
       "      <th>Turnover_Related</th>\n",
       "      <th>Primary_Impact_Type</th>\n",
       "      <th>Primary_Partner_GSISID</th>\n",
       "      <th>Primary_Partner_Activity_Derived</th>\n",
       "      <th>Friendly_Fire</th>\n",
       "    </tr>\n",
       "  </thead>\n",
       "  <tbody>\n",
       "    <tr>\n",
       "      <th>0</th>\n",
       "      <td>2016</td>\n",
       "      <td>5</td>\n",
       "      <td>3129</td>\n",
       "      <td>31057</td>\n",
       "      <td>Tackling</td>\n",
       "      <td>No</td>\n",
       "      <td>Helmet-to-body</td>\n",
       "      <td>32482</td>\n",
       "      <td>Tackled</td>\n",
       "      <td>No</td>\n",
       "    </tr>\n",
       "    <tr>\n",
       "      <th>1</th>\n",
       "      <td>2016</td>\n",
       "      <td>21</td>\n",
       "      <td>2587</td>\n",
       "      <td>29343</td>\n",
       "      <td>Blocked</td>\n",
       "      <td>No</td>\n",
       "      <td>Helmet-to-helmet</td>\n",
       "      <td>31059</td>\n",
       "      <td>Blocking</td>\n",
       "      <td>No</td>\n",
       "    </tr>\n",
       "    <tr>\n",
       "      <th>2</th>\n",
       "      <td>2016</td>\n",
       "      <td>29</td>\n",
       "      <td>538</td>\n",
       "      <td>31023</td>\n",
       "      <td>Tackling</td>\n",
       "      <td>No</td>\n",
       "      <td>Helmet-to-body</td>\n",
       "      <td>31941</td>\n",
       "      <td>Tackled</td>\n",
       "      <td>No</td>\n",
       "    </tr>\n",
       "    <tr>\n",
       "      <th>3</th>\n",
       "      <td>2016</td>\n",
       "      <td>45</td>\n",
       "      <td>1212</td>\n",
       "      <td>33121</td>\n",
       "      <td>Tackling</td>\n",
       "      <td>No</td>\n",
       "      <td>Helmet-to-body</td>\n",
       "      <td>28249</td>\n",
       "      <td>Tackled</td>\n",
       "      <td>No</td>\n",
       "    </tr>\n",
       "    <tr>\n",
       "      <th>4</th>\n",
       "      <td>2016</td>\n",
       "      <td>54</td>\n",
       "      <td>1045</td>\n",
       "      <td>32444</td>\n",
       "      <td>Blocked</td>\n",
       "      <td>No</td>\n",
       "      <td>Helmet-to-body</td>\n",
       "      <td>31756</td>\n",
       "      <td>Blocked</td>\n",
       "      <td>Yes</td>\n",
       "    </tr>\n",
       "  </tbody>\n",
       "</table>\n",
       "</div>"
      ],
      "text/plain": [
       "   Season_Year  GameKey  PlayID  GSISID Player_Activity_Derived  \\\n",
       "0         2016        5    3129   31057                Tackling   \n",
       "1         2016       21    2587   29343                 Blocked   \n",
       "2         2016       29     538   31023                Tackling   \n",
       "3         2016       45    1212   33121                Tackling   \n",
       "4         2016       54    1045   32444                 Blocked   \n",
       "\n",
       "  Turnover_Related Primary_Impact_Type Primary_Partner_GSISID  \\\n",
       "0               No      Helmet-to-body                  32482   \n",
       "1               No    Helmet-to-helmet                  31059   \n",
       "2               No      Helmet-to-body                  31941   \n",
       "3               No      Helmet-to-body                  28249   \n",
       "4               No      Helmet-to-body                  31756   \n",
       "\n",
       "  Primary_Partner_Activity_Derived Friendly_Fire  \n",
       "0                          Tackled            No  \n",
       "1                         Blocking            No  \n",
       "2                          Tackled            No  \n",
       "3                          Tackled            No  \n",
       "4                          Blocked           Yes  "
      ]
     },
     "execution_count": 189,
     "metadata": {},
     "output_type": "execute_result"
    }
   ],
   "source": [
    "video_review.head()"
   ]
  },
  {
   "cell_type": "code",
   "execution_count": 198,
   "metadata": {},
   "outputs": [],
   "source": [
    "injury_ngs = video_review.merge(NGS_2016, how ='inner', left_on=['GSISID','PlayID','GameKey'], right_on=['GSISID','PlayID','GameKey'])"
   ]
  },
  {
   "cell_type": "code",
   "execution_count": 200,
   "metadata": {},
   "outputs": [],
   "source": [
    "injury_ngs['dis_per_second'] = injury_ngs.dis * 10\n",
    "injury_ngs['dis_mph'] = injury_ngs.dis_per_second * 2.0455"
   ]
  },
  {
   "cell_type": "code",
   "execution_count": 204,
   "metadata": {},
   "outputs": [
    {
     "data": {
      "text/plain": [
       "PlayID\n",
       "1526    18.000400\n",
       "1976    17.591300\n",
       "2341    19.432250\n",
       "2342    20.864100\n",
       "2667    21.068649\n",
       "2902    13.500301\n",
       "2918     5.727400\n",
       "3278    18.409500\n",
       "3468    17.795850\n",
       "3509    13.909400\n",
       "3609    19.432250\n",
       "3663    10.841149\n",
       "3746    19.432250\n",
       "Name: dis_mph, dtype: float64"
      ]
     },
     "execution_count": 204,
     "metadata": {},
     "output_type": "execute_result"
    }
   ],
   "source": [
    "injury_ngs.groupby('PlayID')['dis_mph'].agg(max)"
   ]
  },
  {
   "cell_type": "code",
   "execution_count": 208,
   "metadata": {},
   "outputs": [
    {
     "data": {
      "text/html": [
       "<div>\n",
       "<style>\n",
       "    .dataframe thead tr:only-child th {\n",
       "        text-align: right;\n",
       "    }\n",
       "\n",
       "    .dataframe thead th {\n",
       "        text-align: left;\n",
       "    }\n",
       "\n",
       "    .dataframe tbody tr th {\n",
       "        vertical-align: top;\n",
       "    }\n",
       "</style>\n",
       "<table border=\"1\" class=\"dataframe\">\n",
       "  <thead>\n",
       "    <tr style=\"text-align: right;\">\n",
       "      <th></th>\n",
       "      <th>Season_Year</th>\n",
       "      <th>Season_Type</th>\n",
       "      <th>GameKey</th>\n",
       "      <th>Game_Date</th>\n",
       "      <th>Week</th>\n",
       "      <th>PlayID</th>\n",
       "      <th>Game_Clock</th>\n",
       "      <th>YardLine</th>\n",
       "      <th>Quarter</th>\n",
       "      <th>Play_Type</th>\n",
       "      <th>Poss_Team</th>\n",
       "      <th>Home_Team_Visit_Team</th>\n",
       "      <th>Score_Home_Visiting</th>\n",
       "      <th>PlayDescription</th>\n",
       "      <th>fair_catch</th>\n",
       "    </tr>\n",
       "  </thead>\n",
       "  <tbody>\n",
       "    <tr>\n",
       "      <th>0</th>\n",
       "      <td>2016</td>\n",
       "      <td>Pre</td>\n",
       "      <td>2</td>\n",
       "      <td>08/13/2016</td>\n",
       "      <td>2</td>\n",
       "      <td>191</td>\n",
       "      <td>12:30</td>\n",
       "      <td>LA 47</td>\n",
       "      <td>1</td>\n",
       "      <td>Punt</td>\n",
       "      <td>LA</td>\n",
       "      <td>LA-DAL</td>\n",
       "      <td>0 - 7</td>\n",
       "      <td>(12:30) J.Hekker punts 52 yards to DAL 1, Cent...</td>\n",
       "      <td>False</td>\n",
       "    </tr>\n",
       "    <tr>\n",
       "      <th>1</th>\n",
       "      <td>2016</td>\n",
       "      <td>Pre</td>\n",
       "      <td>2</td>\n",
       "      <td>08/13/2016</td>\n",
       "      <td>2</td>\n",
       "      <td>1132</td>\n",
       "      <td>12:08</td>\n",
       "      <td>LA 29</td>\n",
       "      <td>2</td>\n",
       "      <td>Punt</td>\n",
       "      <td>LA</td>\n",
       "      <td>LA-DAL</td>\n",
       "      <td>7 - 21</td>\n",
       "      <td>(12:08) J.Hekker punts 51 yards to DAL 20, Cen...</td>\n",
       "      <td>True</td>\n",
       "    </tr>\n",
       "    <tr>\n",
       "      <th>2</th>\n",
       "      <td>2016</td>\n",
       "      <td>Pre</td>\n",
       "      <td>2</td>\n",
       "      <td>08/13/2016</td>\n",
       "      <td>2</td>\n",
       "      <td>1227</td>\n",
       "      <td>10:01</td>\n",
       "      <td>DAL 18</td>\n",
       "      <td>2</td>\n",
       "      <td>Punt</td>\n",
       "      <td>DAL</td>\n",
       "      <td>LA-DAL</td>\n",
       "      <td>7 - 21</td>\n",
       "      <td>(10:01) C.Jones punts 40 yards to LA 42, Cente...</td>\n",
       "      <td>False</td>\n",
       "    </tr>\n",
       "    <tr>\n",
       "      <th>3</th>\n",
       "      <td>2016</td>\n",
       "      <td>Pre</td>\n",
       "      <td>2</td>\n",
       "      <td>08/13/2016</td>\n",
       "      <td>2</td>\n",
       "      <td>1864</td>\n",
       "      <td>00:21</td>\n",
       "      <td>DAL 46</td>\n",
       "      <td>2</td>\n",
       "      <td>Punt</td>\n",
       "      <td>LA</td>\n",
       "      <td>LA-DAL</td>\n",
       "      <td>7 - 24</td>\n",
       "      <td>(:21) J.Hekker punts 31 yards to DAL 15, Cente...</td>\n",
       "      <td>False</td>\n",
       "    </tr>\n",
       "    <tr>\n",
       "      <th>4</th>\n",
       "      <td>2016</td>\n",
       "      <td>Pre</td>\n",
       "      <td>2</td>\n",
       "      <td>08/13/2016</td>\n",
       "      <td>2</td>\n",
       "      <td>2247</td>\n",
       "      <td>10:26</td>\n",
       "      <td>DAL 15</td>\n",
       "      <td>3</td>\n",
       "      <td>Punt</td>\n",
       "      <td>DAL</td>\n",
       "      <td>LA-DAL</td>\n",
       "      <td>14 - 24</td>\n",
       "      <td>(10:26) M.Wile punts 40 yards to LA 45, Center...</td>\n",
       "      <td>False</td>\n",
       "    </tr>\n",
       "  </tbody>\n",
       "</table>\n",
       "</div>"
      ],
      "text/plain": [
       "   Season_Year Season_Type  GameKey   Game_Date  Week  PlayID Game_Clock  \\\n",
       "0         2016         Pre        2  08/13/2016     2     191      12:30   \n",
       "1         2016         Pre        2  08/13/2016     2    1132      12:08   \n",
       "2         2016         Pre        2  08/13/2016     2    1227      10:01   \n",
       "3         2016         Pre        2  08/13/2016     2    1864      00:21   \n",
       "4         2016         Pre        2  08/13/2016     2    2247      10:26   \n",
       "\n",
       "  YardLine  Quarter Play_Type Poss_Team Home_Team_Visit_Team  \\\n",
       "0    LA 47        1      Punt        LA               LA-DAL   \n",
       "1    LA 29        2      Punt        LA               LA-DAL   \n",
       "2   DAL 18        2      Punt       DAL               LA-DAL   \n",
       "3   DAL 46        2      Punt        LA               LA-DAL   \n",
       "4   DAL 15        3      Punt       DAL               LA-DAL   \n",
       "\n",
       "  Score_Home_Visiting                                    PlayDescription  \\\n",
       "0               0 - 7  (12:30) J.Hekker punts 52 yards to DAL 1, Cent...   \n",
       "1              7 - 21  (12:08) J.Hekker punts 51 yards to DAL 20, Cen...   \n",
       "2              7 - 21  (10:01) C.Jones punts 40 yards to LA 42, Cente...   \n",
       "3              7 - 24  (:21) J.Hekker punts 31 yards to DAL 15, Cente...   \n",
       "4             14 - 24  (10:26) M.Wile punts 40 yards to LA 45, Center...   \n",
       "\n",
       "   fair_catch  \n",
       "0       False  \n",
       "1        True  \n",
       "2       False  \n",
       "3       False  \n",
       "4       False  "
      ]
     },
     "execution_count": 208,
     "metadata": {},
     "output_type": "execute_result"
    }
   ],
   "source": [
    "play_info.head()"
   ]
  },
  {
   "cell_type": "code",
   "execution_count": 221,
   "metadata": {},
   "outputs": [],
   "source": [
    "play_info = play_info.merge(video_review[['GameKey','PlayID','GSISID']], how = 'left', left_on = ['GameKey','PlayID'], right_on = ['GameKey','PlayID'])"
   ]
  },
  {
   "cell_type": "code",
   "execution_count": 227,
   "metadata": {},
   "outputs": [],
   "source": [
    "play_info['injury'] = play_info.GSISID.apply(lambda x: 0 if pd.isnull(x) else 1)"
   ]
  },
  {
   "cell_type": "code",
   "execution_count": 239,
   "metadata": {},
   "outputs": [
    {
     "data": {
      "text/plain": [
       "False    0.751684\n",
       "True     0.248316\n",
       "Name: fair_catch, dtype: float64"
      ]
     },
     "execution_count": 239,
     "metadata": {},
     "output_type": "execute_result"
    }
   ],
   "source": [
    "play_info.fair_catch.value_counts(normalize = True)"
   ]
  },
  {
   "cell_type": "code",
   "execution_count": 244,
   "metadata": {},
   "outputs": [
    {
     "data": {
      "text/plain": [
       "0.054054054054054057"
      ]
     },
     "execution_count": 244,
     "metadata": {},
     "output_type": "execute_result"
    }
   ],
   "source": [
    "play_info.loc[play_info.injury == 1]['fair_catch'].sum() / len(play_info.loc[play_info.injury == 1])"
   ]
  },
  {
   "cell_type": "code",
   "execution_count": 245,
   "metadata": {},
   "outputs": [
    {
     "data": {
      "text/plain": [
       "0.00030102347983142685"
      ]
     },
     "execution_count": 245,
     "metadata": {},
     "output_type": "execute_result"
    }
   ],
   "source": [
    "play_info.loc[play_info.injury == 1]['fair_catch'].sum() / len(play_info.loc[play_info.injury == 0])"
   ]
  },
  {
   "cell_type": "code",
   "execution_count": 254,
   "metadata": {},
   "outputs": [],
   "source": [
    "fair_catches = play_info.loc[play_info.fair_catch == 1]\n",
    "non_fair_catches = play_info.loc[play_info.fair_catch == 0]"
   ]
  },
  {
   "cell_type": "code",
   "execution_count": 258,
   "metadata": {},
   "outputs": [
    {
     "data": {
      "text/plain": [
       "0.12055455093429776"
      ]
     },
     "execution_count": 258,
     "metadata": {},
     "output_type": "execute_result"
    }
   ],
   "source": [
    "len(fair_catches.loc[fair_catches.injury == 1]) / float(len(fair_catches)) * 100"
   ]
  },
  {
   "cell_type": "code",
   "execution_count": 257,
   "metadata": {},
   "outputs": [
    {
     "data": {
      "text/plain": [
       "0.6969334926324173"
      ]
     },
     "execution_count": 257,
     "metadata": {},
     "output_type": "execute_result"
    }
   ],
   "source": [
    "len(non_fair_catches.loc[non_fair_catches.injury == 1]) / float(len(non_fair_catches)) * 100"
   ]
  },
  {
   "cell_type": "code",
   "execution_count": 259,
   "metadata": {},
   "outputs": [
    {
     "data": {
      "text/plain": [
       "4.833333333333333"
      ]
     },
     "execution_count": 259,
     "metadata": {},
     "output_type": "execute_result"
    }
   ],
   "source": [
    "(.7-.12) / .12"
   ]
  },
  {
   "cell_type": "markdown",
   "metadata": {},
   "source": [
    "#### Nearly 5 times more likely to have an injury when there is an actual return"
   ]
  },
  {
   "cell_type": "code",
   "execution_count": 7,
   "metadata": {},
   "outputs": [],
   "source": [
    "import plotly"
   ]
  },
  {
   "cell_type": "code",
   "execution_count": 8,
   "metadata": {},
   "outputs": [],
   "source": [
    "import plotly.graph_objs as go\n",
    "from plotly import offline\n",
    "import plotly.plotly as py\n",
    "plotly.tools.set_credentials_file(username='mtodisco10', api_key='bCfUmq5FralbymKXY4uX')"
   ]
  },
  {
   "cell_type": "code",
   "execution_count": 9,
   "metadata": {},
   "outputs": [],
   "source": [
    "def load_layout():\n",
    "    \"\"\"\n",
    "    Returns a dict for a Football themed Plot.ly layout \n",
    "    \"\"\"\n",
    "    layout = dict(\n",
    "        title = \"Player Activity\",\n",
    "        plot_bgcolor='darkseagreen',\n",
    "        showlegend=True,\n",
    "        xaxis=dict(\n",
    "            autorange=False,\n",
    "            range=[0, 120],\n",
    "            showgrid=False,\n",
    "            zeroline=False,\n",
    "            showline=True,\n",
    "            linecolor='black',\n",
    "            linewidth=1,\n",
    "            mirror=True,\n",
    "            ticks='',\n",
    "            tickmode='array',\n",
    "            tickvals=[10,20, 30, 40, 50, 60, 70, 80, 90, 100, 110],\n",
    "            ticktext=['Goal', 10, 20, 30, 40, 50, 40, 30, 20, 10, 'Goal'],\n",
    "            showticklabels=True\n",
    "        ),\n",
    "        yaxis=dict(\n",
    "            title='',\n",
    "            autorange=False,\n",
    "            range=[-3.3,56.3],\n",
    "            showgrid=False,\n",
    "            zeroline=False,\n",
    "            showline=True,\n",
    "            linecolor='black',\n",
    "            linewidth=1,\n",
    "            mirror=True,\n",
    "            ticks='',\n",
    "            showticklabels=False\n",
    "        ),\n",
    "        shapes=[\n",
    "            dict(\n",
    "                type='line',\n",
    "                layer='below',\n",
    "                x0=0,\n",
    "                y0=0,\n",
    "                x1=120,\n",
    "                y1=0,\n",
    "                line=dict(\n",
    "                    color='white',\n",
    "                    width=2\n",
    "                )\n",
    "            ),\n",
    "            dict(\n",
    "                type='line',\n",
    "                layer='below',\n",
    "                x0=0,\n",
    "                y0=53.3,\n",
    "                x1=120,\n",
    "                y1=53.3,\n",
    "                line=dict(\n",
    "                    color='white',\n",
    "                    width=2\n",
    "                )\n",
    "            ),\n",
    "            dict(\n",
    "                type='line',\n",
    "                layer='below',\n",
    "                x0=10,\n",
    "                y0=0,\n",
    "                x1=10,\n",
    "                y1=53.3,\n",
    "                line=dict(\n",
    "                    color='white',\n",
    "                    width=10\n",
    "                )\n",
    "            ),\n",
    "            dict(\n",
    "                type='line',\n",
    "                layer='below',\n",
    "                x0=20,\n",
    "                y0=0,\n",
    "                x1=20,\n",
    "                y1=53.3,\n",
    "                line=dict(\n",
    "                    color='white'\n",
    "                )\n",
    "            ),\n",
    "            dict(\n",
    "                type='line',\n",
    "                layer='below',\n",
    "                x0=30,\n",
    "                y0=0,\n",
    "                x1=30,\n",
    "                y1=53.3,\n",
    "                line=dict(\n",
    "                    color='white'\n",
    "                )\n",
    "            ),\n",
    "            dict(\n",
    "                type='line',\n",
    "                layer='below',\n",
    "                x0=40,\n",
    "                y0=0,\n",
    "                x1=40,\n",
    "                y1=53.3,\n",
    "                line=dict(\n",
    "                    color='white'\n",
    "                )\n",
    "            ),\n",
    "            dict(\n",
    "                type='line',\n",
    "                layer='below',\n",
    "                x0=50,\n",
    "                y0=0,\n",
    "                x1=50,\n",
    "                y1=53.3,\n",
    "                line=dict(\n",
    "                    color='white'\n",
    "                )\n",
    "            ),\n",
    "            dict(\n",
    "                type='line',\n",
    "                layer='below',\n",
    "                x0=60,\n",
    "                y0=0,\n",
    "                x1=60,\n",
    "                y1=53.3,\n",
    "                line=dict(\n",
    "                    color='white'\n",
    "                )\n",
    "            ),dict(\n",
    "                type='line',\n",
    "                layer='below',\n",
    "                x0=70,\n",
    "                y0=0,\n",
    "                x1=70,\n",
    "                y1=53.3,\n",
    "                line=dict(\n",
    "                    color='white'\n",
    "                )\n",
    "            ),dict(\n",
    "                type='line',\n",
    "                layer='below',\n",
    "                x0=80,\n",
    "                y0=0,\n",
    "                x1=80,\n",
    "                y1=53.3,\n",
    "                line=dict(\n",
    "                    color='white'\n",
    "                )\n",
    "            ),\n",
    "            dict(\n",
    "                type='line',\n",
    "                layer='below',\n",
    "                x0=90,\n",
    "                y0=0,\n",
    "                x1=90,\n",
    "                y1=53.3,\n",
    "                line=dict(\n",
    "                    color='white'\n",
    "                )\n",
    "            ),dict(\n",
    "                type='line',\n",
    "                layer='below',\n",
    "                x0=100,\n",
    "                y0=0,\n",
    "                x1=100,\n",
    "                y1=53.3,\n",
    "                line=dict(\n",
    "                    color='white'\n",
    "                )\n",
    "            ),\n",
    "            dict(\n",
    "                type='line',\n",
    "                layer='below',\n",
    "                x0=110,\n",
    "                y0=0,\n",
    "                x1=110,\n",
    "                y1=53.3,\n",
    "                line=dict(\n",
    "                    color='white',\n",
    "                    width=10\n",
    "                )\n",
    "            )\n",
    "        ]\n",
    "    )\n",
    "    return layout\n",
    "\n",
    "layout = load_layout()"
   ]
  },
  {
   "cell_type": "code",
   "execution_count": 19,
   "metadata": {},
   "outputs": [],
   "source": [
    "# Loading and plotting functions\n",
    "\n",
    "def load_plays_for_game(GameKey):\n",
    "    \"\"\"\n",
    "    Returns a dataframe of play data for a given game (GameKey)\n",
    "    \"\"\"\n",
    "    play_information = pd.read_csv('play_information.csv')\n",
    "    play_information = play_information[play_information['GameKey'] == GameKey]\n",
    "    return play_information\n",
    "\n",
    "\n",
    "def load_game_and_ngs(ngs_file=None, GameKey=None):\n",
    "    \"\"\"\n",
    "    Returns a dataframe of player movements (NGS data) for a given game\n",
    "    \"\"\"\n",
    "    if ngs_file is None:\n",
    "        print(\"Specifiy an NGS file.\")\n",
    "        return None\n",
    "    if GameKey is None:\n",
    "        print('Specify a GameKey')\n",
    "        return None\n",
    "    # Merge play data with NGS data    \n",
    "    plays = load_plays_for_game(GameKey)\n",
    "    ngs = pd.read_csv(ngs_file, low_memory=False)\n",
    "    merged = pd.merge(ngs, plays, how=\"inner\", on=[\"GameKey\", \"PlayID\", \"Season_Year\"])\n",
    "    return merged\n",
    "\n",
    "\n",
    "def plot_play(game_df, PlayID, player1=None, player2=None, custom_layout=False):\n",
    "    \"\"\"\n",
    "    Plots player movements on the field for a given game, play, and two players\n",
    "    \"\"\"\n",
    "    game_df = game_df[game_df.PlayID==PlayID]\n",
    "    \n",
    "    GameKey=str(pd.unique(game_df.GameKey)[0])\n",
    "    HomeTeam = pd.unique(game_df.Home_Team_Visit_Team)[0].split(\"-\")[0]\n",
    "    VisitingTeam = pd.unique(game_df.Home_Team_Visit_Team)[0].split(\"-\")[1]\n",
    "    YardLine = game_df[(game_df.PlayID==PlayID) & (game_df.GSISID==player1)]['YardLine'].iloc[0]\n",
    "    \n",
    "    traces=[]   \n",
    "    if (player1 is not None) & (player2 is not None):\n",
    "        game_df = game_df[ (game_df['GSISID']==player1) | (game_df['GSISID']==player2)]\n",
    "        for player in pd.unique(game_df.GSISID):\n",
    "            player = int(player)\n",
    "            trace = go.Scatter(\n",
    "                x = game_df[game_df.GSISID==player].x,\n",
    "                y = game_df[game_df.GSISID==player].y,\n",
    "                name='GSISID '+str(player),\n",
    "                mode='markers'\n",
    "            )\n",
    "            traces.append(trace)\n",
    "    else:\n",
    "        print(\"Specify GSISIDs for player1 and player2\")\n",
    "        return None\n",
    "    \n",
    "    if custom_layout is not True:\n",
    "        layout = load_layout()\n",
    "        layout['title'] =  HomeTeam + \\\n",
    "        ' vs. ' + VisitingTeam + \\\n",
    "        '<br>Possession: ' + \\\n",
    "        YardLine.split(\" \")[0] +'@'+YardLine.split(\" \")[1]\n",
    "    data = traces\n",
    "    fig = dict(data=data, layout=layout)\n",
    "    play_description = game_df[(game_df.PlayID==PlayID) & (game_df.GSISID==player1)].iloc[0][\"PlayDescription\"]\n",
    "    print(\"\\n\\n\\t\",play_description)\n",
    "    #py.iplot(fig,filename='jupyter-table1')\n",
    "    offline.iplot(fig)"
   ]
  },
  {
   "cell_type": "code",
   "execution_count": 15,
   "metadata": {},
   "outputs": [],
   "source": [
    "game280 = load_game_and_ngs('NGS-2016-reg-wk13-17.csv',GameKey=280)"
   ]
  },
  {
   "cell_type": "code",
   "execution_count": 25,
   "metadata": {},
   "outputs": [],
   "source": [
    "plot_play(game_df=game280, PlayID=2918, player1=32120, player2=32725)"
   ]
  },
  {
   "cell_type": "code",
   "execution_count": null,
   "metadata": {},
   "outputs": [],
   "source": []
  }
 ],
 "metadata": {
  "kernelspec": {
   "display_name": "Python 3",
   "language": "python",
   "name": "python3"
  },
  "language_info": {
   "codemirror_mode": {
    "name": "ipython",
    "version": 3
   },
   "file_extension": ".py",
   "mimetype": "text/x-python",
   "name": "python",
   "nbconvert_exporter": "python",
   "pygments_lexer": "ipython3",
   "version": "3.6.0"
  }
 },
 "nbformat": 4,
 "nbformat_minor": 2
}
